{
 "cells": [
  {
   "cell_type": "code",
   "execution_count": 7,
   "metadata": {
    "ExecuteTime": {
     "end_time": "2020-05-05T21:34:57.646371Z",
     "start_time": "2020-05-05T21:34:57.419074Z"
    }
   },
   "outputs": [],
   "source": [
    "import pandas as pd \n",
    "import numpy as np \n",
    "import matplotlib.pyplot as plt\n",
    "import seaborn as sns\n",
    "import dask.dataframe as dd"
   ]
  },
  {
   "cell_type": "code",
   "execution_count": 17,
   "metadata": {
    "ExecuteTime": {
     "end_time": "2020-05-05T21:39:27.945682Z",
     "start_time": "2020-05-05T21:38:12.928319Z"
    }
   },
   "outputs": [],
   "source": [
    "df = pd.read_csv('/Volumes/external/Sangeetha-Project/reviews1.csv',\n",
    "                 names=['reviwerId', 'asin', 'review', 'rating',\n",
    "                        'summary', 'unixtime', 'pos_votes', 'total_votes']) \\\n",
    "    .drop(columns=['review', 'summary', 'unixtime', 'pos_votes', 'total_votes']) \\\n",
    "    .astype({'rating': 'int8'})"
   ]
  },
  {
   "cell_type": "code",
   "execution_count": 81,
   "metadata": {
    "ExecuteTime": {
     "end_time": "2020-05-06T14:39:01.338752Z",
     "start_time": "2020-05-06T14:39:01.277003Z"
    }
   },
   "outputs": [],
   "source": [
    "alex = pd.read_csv('/Volumes/external/Sangeetha-Project/reviews1.csv',\n",
    "                 names=['reviwerId', 'asin', 'review', 'rating',\n",
    "                        'summary', 'unixtime', 'pos_votes', 'total_votes'], nrows = 100) \\\n",
    "    .astype({'rating': 'int8'})"
   ]
  },
  {
   "cell_type": "code",
   "execution_count": 82,
   "metadata": {
    "ExecuteTime": {
     "end_time": "2020-05-06T14:39:11.622034Z",
     "start_time": "2020-05-06T14:39:11.590519Z"
    }
   },
   "outputs": [
    {
     "data": {
      "text/html": [
       "<div>\n",
       "<style scoped>\n",
       "    .dataframe tbody tr th:only-of-type {\n",
       "        vertical-align: middle;\n",
       "    }\n",
       "\n",
       "    .dataframe tbody tr th {\n",
       "        vertical-align: top;\n",
       "    }\n",
       "\n",
       "    .dataframe thead th {\n",
       "        text-align: right;\n",
       "    }\n",
       "</style>\n",
       "<table border=\"1\" class=\"dataframe\">\n",
       "  <thead>\n",
       "    <tr style=\"text-align: right;\">\n",
       "      <th></th>\n",
       "      <th>reviwerId</th>\n",
       "      <th>asin</th>\n",
       "      <th>review</th>\n",
       "      <th>rating</th>\n",
       "      <th>summary</th>\n",
       "      <th>unixtime</th>\n",
       "      <th>pos_votes</th>\n",
       "      <th>total_votes</th>\n",
       "    </tr>\n",
       "  </thead>\n",
       "  <tbody>\n",
       "    <tr>\n",
       "      <td>0</td>\n",
       "      <td>A10000012B7CGYKOMPQ4L</td>\n",
       "      <td>000100039X</td>\n",
       "      <td>Spiritually and mentally inspiring! A book tha...</td>\n",
       "      <td>5</td>\n",
       "      <td>Wonderful!</td>\n",
       "      <td>1355616000</td>\n",
       "      <td>0</td>\n",
       "      <td>0</td>\n",
       "    </tr>\n",
       "    <tr>\n",
       "      <td>1</td>\n",
       "      <td>A2S166WSCFIFP5</td>\n",
       "      <td>000100039X</td>\n",
       "      <td>This is one my must have books. It is a master...</td>\n",
       "      <td>5</td>\n",
       "      <td>close to god</td>\n",
       "      <td>1071100800</td>\n",
       "      <td>0</td>\n",
       "      <td>2</td>\n",
       "    </tr>\n",
       "    <tr>\n",
       "      <td>2</td>\n",
       "      <td>A1BM81XB4QHOA3</td>\n",
       "      <td>000100039X</td>\n",
       "      <td>This book provides a reflection that you can a...</td>\n",
       "      <td>5</td>\n",
       "      <td>Must Read for Life Afficianados</td>\n",
       "      <td>1390003200</td>\n",
       "      <td>0</td>\n",
       "      <td>0</td>\n",
       "    </tr>\n",
       "    <tr>\n",
       "      <td>3</td>\n",
       "      <td>A1MOSTXNIO5MPJ</td>\n",
       "      <td>000100039X</td>\n",
       "      <td>I first read THE PROPHET in college back in th...</td>\n",
       "      <td>5</td>\n",
       "      <td>Timeless for every good and bad time in your l...</td>\n",
       "      <td>1317081600</td>\n",
       "      <td>0</td>\n",
       "      <td>0</td>\n",
       "    </tr>\n",
       "    <tr>\n",
       "      <td>4</td>\n",
       "      <td>A2XQ5LZHTD4AFT</td>\n",
       "      <td>000100039X</td>\n",
       "      <td>A timeless classic.  It is a very demanding an...</td>\n",
       "      <td>5</td>\n",
       "      <td>A Modern Rumi</td>\n",
       "      <td>1033948800</td>\n",
       "      <td>7</td>\n",
       "      <td>9</td>\n",
       "    </tr>\n",
       "  </tbody>\n",
       "</table>\n",
       "</div>"
      ],
      "text/plain": [
       "               reviwerId        asin  \\\n",
       "0  A10000012B7CGYKOMPQ4L  000100039X   \n",
       "1         A2S166WSCFIFP5  000100039X   \n",
       "2         A1BM81XB4QHOA3  000100039X   \n",
       "3         A1MOSTXNIO5MPJ  000100039X   \n",
       "4         A2XQ5LZHTD4AFT  000100039X   \n",
       "\n",
       "                                              review  rating  \\\n",
       "0  Spiritually and mentally inspiring! A book tha...       5   \n",
       "1  This is one my must have books. It is a master...       5   \n",
       "2  This book provides a reflection that you can a...       5   \n",
       "3  I first read THE PROPHET in college back in th...       5   \n",
       "4  A timeless classic.  It is a very demanding an...       5   \n",
       "\n",
       "                                             summary    unixtime  pos_votes  \\\n",
       "0                                         Wonderful!  1355616000          0   \n",
       "1                                       close to god  1071100800          0   \n",
       "2                    Must Read for Life Afficianados  1390003200          0   \n",
       "3  Timeless for every good and bad time in your l...  1317081600          0   \n",
       "4                                      A Modern Rumi  1033948800          7   \n",
       "\n",
       "   total_votes  \n",
       "0            0  \n",
       "1            2  \n",
       "2            0  \n",
       "3            0  \n",
       "4            9  "
      ]
     },
     "execution_count": 82,
     "metadata": {},
     "output_type": "execute_result"
    }
   ],
   "source": [
    "alex.head()"
   ]
  },
  {
   "cell_type": "code",
   "execution_count": 19,
   "metadata": {
    "ExecuteTime": {
     "end_time": "2020-05-05T21:39:38.719878Z",
     "start_time": "2020-05-05T21:39:38.702847Z"
    }
   },
   "outputs": [
    {
     "data": {
      "text/html": [
       "<div>\n",
       "<style scoped>\n",
       "    .dataframe tbody tr th:only-of-type {\n",
       "        vertical-align: middle;\n",
       "    }\n",
       "\n",
       "    .dataframe tbody tr th {\n",
       "        vertical-align: top;\n",
       "    }\n",
       "\n",
       "    .dataframe thead th {\n",
       "        text-align: right;\n",
       "    }\n",
       "</style>\n",
       "<table border=\"1\" class=\"dataframe\">\n",
       "  <thead>\n",
       "    <tr style=\"text-align: right;\">\n",
       "      <th></th>\n",
       "      <th>reviwerId</th>\n",
       "      <th>asin</th>\n",
       "      <th>rating</th>\n",
       "    </tr>\n",
       "  </thead>\n",
       "  <tbody>\n",
       "    <tr>\n",
       "      <td>0</td>\n",
       "      <td>A10000012B7CGYKOMPQ4L</td>\n",
       "      <td>000100039X</td>\n",
       "      <td>5</td>\n",
       "    </tr>\n",
       "    <tr>\n",
       "      <td>1</td>\n",
       "      <td>A2S166WSCFIFP5</td>\n",
       "      <td>000100039X</td>\n",
       "      <td>5</td>\n",
       "    </tr>\n",
       "    <tr>\n",
       "      <td>2</td>\n",
       "      <td>A1BM81XB4QHOA3</td>\n",
       "      <td>000100039X</td>\n",
       "      <td>5</td>\n",
       "    </tr>\n",
       "    <tr>\n",
       "      <td>3</td>\n",
       "      <td>A1MOSTXNIO5MPJ</td>\n",
       "      <td>000100039X</td>\n",
       "      <td>5</td>\n",
       "    </tr>\n",
       "    <tr>\n",
       "      <td>4</td>\n",
       "      <td>A2XQ5LZHTD4AFT</td>\n",
       "      <td>000100039X</td>\n",
       "      <td>5</td>\n",
       "    </tr>\n",
       "  </tbody>\n",
       "</table>\n",
       "</div>"
      ],
      "text/plain": [
       "               reviwerId        asin  rating\n",
       "0  A10000012B7CGYKOMPQ4L  000100039X       5\n",
       "1         A2S166WSCFIFP5  000100039X       5\n",
       "2         A1BM81XB4QHOA3  000100039X       5\n",
       "3         A1MOSTXNIO5MPJ  000100039X       5\n",
       "4         A2XQ5LZHTD4AFT  000100039X       5"
      ]
     },
     "execution_count": 19,
     "metadata": {},
     "output_type": "execute_result"
    }
   ],
   "source": [
    "df.head()"
   ]
  },
  {
   "cell_type": "code",
   "execution_count": 18,
   "metadata": {
    "ExecuteTime": {
     "end_time": "2020-05-05T21:39:30.417168Z",
     "start_time": "2020-05-05T21:39:30.406205Z"
    }
   },
   "outputs": [
    {
     "name": "stdout",
     "output_type": "stream",
     "text": [
      "<class 'pandas.core.frame.DataFrame'>\n",
      "RangeIndex: 3010000 entries, 0 to 3009999\n",
      "Data columns (total 3 columns):\n",
      "reviwerId    object\n",
      "asin         object\n",
      "rating       int8\n",
      "dtypes: int8(1), object(2)\n",
      "memory usage: 48.8+ MB\n"
     ]
    }
   ],
   "source": [
    "df.info()"
   ]
  },
  {
   "cell_type": "code",
   "execution_count": 20,
   "metadata": {
    "ExecuteTime": {
     "end_time": "2020-05-05T21:43:36.153639Z",
     "start_time": "2020-05-05T21:43:36.138535Z"
    }
   },
   "outputs": [],
   "source": [
    "small_df = df.iloc[:1000].copy()"
   ]
  },
  {
   "cell_type": "code",
   "execution_count": 21,
   "metadata": {
    "ExecuteTime": {
     "end_time": "2020-05-05T21:43:42.910462Z",
     "start_time": "2020-05-05T21:43:42.894540Z"
    }
   },
   "outputs": [
    {
     "data": {
      "text/html": [
       "<div>\n",
       "<style scoped>\n",
       "    .dataframe tbody tr th:only-of-type {\n",
       "        vertical-align: middle;\n",
       "    }\n",
       "\n",
       "    .dataframe tbody tr th {\n",
       "        vertical-align: top;\n",
       "    }\n",
       "\n",
       "    .dataframe thead th {\n",
       "        text-align: right;\n",
       "    }\n",
       "</style>\n",
       "<table border=\"1\" class=\"dataframe\">\n",
       "  <thead>\n",
       "    <tr style=\"text-align: right;\">\n",
       "      <th></th>\n",
       "      <th>reviwerId</th>\n",
       "      <th>asin</th>\n",
       "      <th>rating</th>\n",
       "    </tr>\n",
       "  </thead>\n",
       "  <tbody>\n",
       "    <tr>\n",
       "      <td>0</td>\n",
       "      <td>A10000012B7CGYKOMPQ4L</td>\n",
       "      <td>000100039X</td>\n",
       "      <td>5</td>\n",
       "    </tr>\n",
       "    <tr>\n",
       "      <td>1</td>\n",
       "      <td>A2S166WSCFIFP5</td>\n",
       "      <td>000100039X</td>\n",
       "      <td>5</td>\n",
       "    </tr>\n",
       "    <tr>\n",
       "      <td>2</td>\n",
       "      <td>A1BM81XB4QHOA3</td>\n",
       "      <td>000100039X</td>\n",
       "      <td>5</td>\n",
       "    </tr>\n",
       "    <tr>\n",
       "      <td>3</td>\n",
       "      <td>A1MOSTXNIO5MPJ</td>\n",
       "      <td>000100039X</td>\n",
       "      <td>5</td>\n",
       "    </tr>\n",
       "    <tr>\n",
       "      <td>4</td>\n",
       "      <td>A2XQ5LZHTD4AFT</td>\n",
       "      <td>000100039X</td>\n",
       "      <td>5</td>\n",
       "    </tr>\n",
       "  </tbody>\n",
       "</table>\n",
       "</div>"
      ],
      "text/plain": [
       "               reviwerId        asin  rating\n",
       "0  A10000012B7CGYKOMPQ4L  000100039X       5\n",
       "1         A2S166WSCFIFP5  000100039X       5\n",
       "2         A1BM81XB4QHOA3  000100039X       5\n",
       "3         A1MOSTXNIO5MPJ  000100039X       5\n",
       "4         A2XQ5LZHTD4AFT  000100039X       5"
      ]
     },
     "execution_count": 21,
     "metadata": {},
     "output_type": "execute_result"
    }
   ],
   "source": [
    "small_df.head()"
   ]
  },
  {
   "cell_type": "code",
   "execution_count": 22,
   "metadata": {
    "ExecuteTime": {
     "end_time": "2020-05-05T21:43:50.035117Z",
     "start_time": "2020-05-05T21:43:50.019999Z"
    }
   },
   "outputs": [
    {
     "name": "stdout",
     "output_type": "stream",
     "text": [
      "<class 'pandas.core.frame.DataFrame'>\n",
      "RangeIndex: 1000 entries, 0 to 999\n",
      "Data columns (total 3 columns):\n",
      "reviwerId    1000 non-null object\n",
      "asin         1000 non-null object\n",
      "rating       1000 non-null int8\n",
      "dtypes: int8(1), object(2)\n",
      "memory usage: 16.7+ KB\n"
     ]
    }
   ],
   "source": [
    "small_df.info()"
   ]
  },
  {
   "cell_type": "code",
   "execution_count": 39,
   "metadata": {
    "ExecuteTime": {
     "end_time": "2020-05-05T21:50:06.250399Z",
     "start_time": "2020-05-05T21:50:00.276314Z"
    }
   },
   "outputs": [
    {
     "name": "stdout",
     "output_type": "stream",
     "text": [
      "Reviewers under 5:  0.6687836133393875\n",
      "Mean reviewers:  6.074365571868221\n",
      "Median reviewers:  3.0\n",
      "-----------------------------------------------\n",
      "Books under 5:  0.0\n",
      "Mean books:  32.62978741856104\n",
      "Median books:  12.0\n"
     ]
    }
   ],
   "source": [
    "print('Reviewers under 5: ', (df.reviwerId.value_counts() < 5).mean())\n",
    "print('Mean reviewers: ', df.reviwerId.value_counts().mean())\n",
    "print('Median reviewers: ', df.reviwerId.value_counts().median())\n",
    "print('-----------------------------------------------')\n",
    "print('Books under 5: ', (df.asin.value_counts() < 5).mean())\n",
    "print('Mean books: ', df.asin.value_counts().mean())\n",
    "print('Median books: ', df.asin.value_counts().median())"
   ]
  },
  {
   "cell_type": "code",
   "execution_count": 28,
   "metadata": {
    "ExecuteTime": {
     "end_time": "2020-05-05T21:45:23.525425Z",
     "start_time": "2020-05-05T21:45:23.514935Z"
    }
   },
   "outputs": [
    {
     "data": {
      "text/plain": [
       "0.0"
      ]
     },
     "execution_count": 28,
     "metadata": {},
     "output_type": "execute_result"
    }
   ],
   "source": [
    "(small_df.asin.value_counts() == 1).mean()"
   ]
  },
  {
   "cell_type": "code",
   "execution_count": 42,
   "metadata": {
    "ExecuteTime": {
     "end_time": "2020-05-05T22:27:06.443314Z",
     "start_time": "2020-05-05T22:27:06.437724Z"
    }
   },
   "outputs": [],
   "source": [
    "counts = small_df.asin.value_counts()"
   ]
  },
  {
   "cell_type": "code",
   "execution_count": 49,
   "metadata": {
    "ExecuteTime": {
     "end_time": "2020-05-05T22:33:13.323678Z",
     "start_time": "2020-05-05T22:33:13.315290Z"
    }
   },
   "outputs": [
    {
     "data": {
      "text/plain": [
       "['0002006715']"
      ]
     },
     "execution_count": 49,
     "metadata": {},
     "output_type": "execute_result"
    }
   ],
   "source": [
    "list(counts[counts == 5].index)"
   ]
  },
  {
   "cell_type": "code",
   "execution_count": 66,
   "metadata": {
    "ExecuteTime": {
     "end_time": "2020-05-05T22:46:58.327137Z",
     "start_time": "2020-05-05T22:46:56.854141Z"
    }
   },
   "outputs": [],
   "source": [
    "id_counts = df.reviwerId.value_counts()"
   ]
  },
  {
   "cell_type": "code",
   "execution_count": 56,
   "metadata": {
    "ExecuteTime": {
     "end_time": "2020-05-05T22:35:03.578769Z",
     "start_time": "2020-05-05T22:35:03.285746Z"
    }
   },
   "outputs": [
    {
     "data": {
      "text/plain": [
       "030758836X    7440\n",
       "0439023483    6717\n",
       "0375831002    4864\n",
       "038536315X    4604\n",
       "0439023513    4440\n",
       "              ... \n",
       "0446364258       5\n",
       "031299351X       5\n",
       "031621972X       5\n",
       "0070329672       5\n",
       "0385510306       5\n",
       "Name: asin, Length: 92247, dtype: int64"
      ]
     },
     "execution_count": 56,
     "metadata": {},
     "output_type": "execute_result"
    }
   ],
   "source": [
    "book_counts= df.asin.value_counts()\n",
    "book_counts"
   ]
  },
  {
   "cell_type": "code",
   "execution_count": 68,
   "metadata": {
    "ExecuteTime": {
     "end_time": "2020-05-05T22:47:13.576763Z",
     "start_time": "2020-05-05T22:47:13.489797Z"
    }
   },
   "outputs": [
    {
     "data": {
      "text/plain": [
       "189424"
      ]
     },
     "execution_count": 68,
     "metadata": {},
     "output_type": "execute_result"
    }
   ],
   "source": [
    "id_counts_1 = list(id_counts[id_counts <3].index)\n",
    "id_counts_1[:5]\n",
    "len(id_counts_1)"
   ]
  },
  {
   "cell_type": "code",
   "execution_count": 69,
   "metadata": {
    "ExecuteTime": {
     "end_time": "2020-05-05T22:47:23.170683Z",
     "start_time": "2020-05-05T22:47:21.953720Z"
    }
   },
   "outputs": [
    {
     "data": {
      "text/html": [
       "<div>\n",
       "<style scoped>\n",
       "    .dataframe tbody tr th:only-of-type {\n",
       "        vertical-align: middle;\n",
       "    }\n",
       "\n",
       "    .dataframe tbody tr th {\n",
       "        vertical-align: top;\n",
       "    }\n",
       "\n",
       "    .dataframe thead th {\n",
       "        text-align: right;\n",
       "    }\n",
       "</style>\n",
       "<table border=\"1\" class=\"dataframe\">\n",
       "  <thead>\n",
       "    <tr style=\"text-align: right;\">\n",
       "      <th></th>\n",
       "      <th>reviwerId</th>\n",
       "      <th>asin</th>\n",
       "      <th>rating</th>\n",
       "    </tr>\n",
       "  </thead>\n",
       "  <tbody>\n",
       "    <tr>\n",
       "      <td>2</td>\n",
       "      <td>A1BM81XB4QHOA3</td>\n",
       "      <td>000100039X</td>\n",
       "      <td>5</td>\n",
       "    </tr>\n",
       "    <tr>\n",
       "      <td>8</td>\n",
       "      <td>A3FI0744PG1WYG</td>\n",
       "      <td>000100039X</td>\n",
       "      <td>5</td>\n",
       "    </tr>\n",
       "    <tr>\n",
       "      <td>24</td>\n",
       "      <td>AUTNO7VDY4H4A</td>\n",
       "      <td>000100039X</td>\n",
       "      <td>5</td>\n",
       "    </tr>\n",
       "    <tr>\n",
       "      <td>41</td>\n",
       "      <td>A3BHSR8LON67NA</td>\n",
       "      <td>000100039X</td>\n",
       "      <td>5</td>\n",
       "    </tr>\n",
       "    <tr>\n",
       "      <td>52</td>\n",
       "      <td>AW1Z7GYIBWB4K</td>\n",
       "      <td>000100039X</td>\n",
       "      <td>5</td>\n",
       "    </tr>\n",
       "    <tr>\n",
       "      <td>...</td>\n",
       "      <td>...</td>\n",
       "      <td>...</td>\n",
       "      <td>...</td>\n",
       "    </tr>\n",
       "    <tr>\n",
       "      <td>3009988</td>\n",
       "      <td>A3I044ICARNZK5</td>\n",
       "      <td>0578124114</td>\n",
       "      <td>5</td>\n",
       "    </tr>\n",
       "    <tr>\n",
       "      <td>3009992</td>\n",
       "      <td>A36ZD9ZRVXQGQ</td>\n",
       "      <td>0578124114</td>\n",
       "      <td>5</td>\n",
       "    </tr>\n",
       "    <tr>\n",
       "      <td>3009994</td>\n",
       "      <td>AQN0BSMCD7W1W</td>\n",
       "      <td>0578124114</td>\n",
       "      <td>5</td>\n",
       "    </tr>\n",
       "    <tr>\n",
       "      <td>3009996</td>\n",
       "      <td>A2N513SD0BR6VC</td>\n",
       "      <td>0578124114</td>\n",
       "      <td>5</td>\n",
       "    </tr>\n",
       "    <tr>\n",
       "      <td>3009998</td>\n",
       "      <td>AGPSU8WMSWFCZ</td>\n",
       "      <td>0578124114</td>\n",
       "      <td>5</td>\n",
       "    </tr>\n",
       "  </tbody>\n",
       "</table>\n",
       "<p>281360 rows × 3 columns</p>\n",
       "</div>"
      ],
      "text/plain": [
       "              reviwerId        asin  rating\n",
       "2        A1BM81XB4QHOA3  000100039X       5\n",
       "8        A3FI0744PG1WYG  000100039X       5\n",
       "24        AUTNO7VDY4H4A  000100039X       5\n",
       "41       A3BHSR8LON67NA  000100039X       5\n",
       "52        AW1Z7GYIBWB4K  000100039X       5\n",
       "...                 ...         ...     ...\n",
       "3009988  A3I044ICARNZK5  0578124114       5\n",
       "3009992   A36ZD9ZRVXQGQ  0578124114       5\n",
       "3009994   AQN0BSMCD7W1W  0578124114       5\n",
       "3009996  A2N513SD0BR6VC  0578124114       5\n",
       "3009998   AGPSU8WMSWFCZ  0578124114       5\n",
       "\n",
       "[281360 rows x 3 columns]"
      ]
     },
     "execution_count": 69,
     "metadata": {},
     "output_type": "execute_result"
    }
   ],
   "source": [
    "df[df.reviwerId.isin(id_counts_1)]"
   ]
  },
  {
   "cell_type": "code",
   "execution_count": 70,
   "metadata": {
    "ExecuteTime": {
     "end_time": "2020-05-05T22:47:32.144179Z",
     "start_time": "2020-05-05T22:47:30.375783Z"
    }
   },
   "outputs": [],
   "source": [
    "df_dense = df.drop(index = df[df.reviwerId.isin(id_counts_1)].index)"
   ]
  },
  {
   "cell_type": "code",
   "execution_count": 71,
   "metadata": {
    "ExecuteTime": {
     "end_time": "2020-05-05T22:47:33.850070Z",
     "start_time": "2020-05-05T22:47:33.842885Z"
    }
   },
   "outputs": [
    {
     "name": "stdout",
     "output_type": "stream",
     "text": [
      "<class 'pandas.core.frame.DataFrame'>\n",
      "Int64Index: 2728640 entries, 0 to 3009999\n",
      "Data columns (total 3 columns):\n",
      "reviwerId    object\n",
      "asin         object\n",
      "rating       int8\n",
      "dtypes: int8(1), object(2)\n",
      "memory usage: 65.1+ MB\n"
     ]
    }
   ],
   "source": [
    "df_dense.info()"
   ]
  },
  {
   "cell_type": "code",
   "execution_count": 72,
   "metadata": {
    "ExecuteTime": {
     "end_time": "2020-05-05T22:47:43.286573Z",
     "start_time": "2020-05-05T22:47:39.267319Z"
    }
   },
   "outputs": [
    {
     "name": "stdout",
     "output_type": "stream",
     "text": [
      "Reviewers under 5:  0.4638174981460368\n",
      "Mean reviewers:  8.914181920346552\n",
      "Median reviewers:  5.0\n",
      "-----------------------------------------------\n",
      "Books under 5:  0.06259485711807813\n",
      "Mean books:  29.580677334027147\n",
      "Median books:  11.0\n"
     ]
    }
   ],
   "source": [
    "print('Reviewers under 5: ', (df_dense.reviwerId.value_counts() < 5).mean())\n",
    "print('Mean reviewers: ', df_dense.reviwerId.value_counts().mean())\n",
    "print('Median reviewers: ', df_dense.reviwerId.value_counts().median())\n",
    "print('-----------------------------------------------')\n",
    "print('Books under 5: ', (df_dense.asin.value_counts() < 5).mean())\n",
    "print('Mean books: ', df_dense.asin.value_counts().mean())\n",
    "print('Median books: ', df_dense.asin.value_counts().median())"
   ]
  },
  {
   "cell_type": "code",
   "execution_count": 73,
   "metadata": {
    "ExecuteTime": {
     "end_time": "2020-05-05T22:48:06.344505Z",
     "start_time": "2020-05-05T22:48:06.070441Z"
    }
   },
   "outputs": [
    {
     "data": {
      "text/plain": [
       "030758836X    6613\n",
       "0439023483    5766\n",
       "0375831002    4199\n",
       "038536315X    3962\n",
       "0316055433    3907\n",
       "              ... \n",
       "0310222672       1\n",
       "0060889438       1\n",
       "0545201101       1\n",
       "0385267029       1\n",
       "006144958X       1\n",
       "Name: asin, Length: 92244, dtype: int64"
      ]
     },
     "execution_count": 73,
     "metadata": {},
     "output_type": "execute_result"
    }
   ],
   "source": [
    "df_dense.asin.value_counts()"
   ]
  },
  {
   "cell_type": "code",
   "execution_count": 74,
   "metadata": {
    "ExecuteTime": {
     "end_time": "2020-05-05T22:50:56.185456Z",
     "start_time": "2020-05-05T22:50:54.950575Z"
    }
   },
   "outputs": [
    {
     "data": {
      "text/plain": [
       "AFVQZQ8PW0L       14072\n",
       "A14OJS0VWMOSWO     3884\n",
       "A2F6N60Z96CAJI     3852\n",
       "A1K1JW1C5CUSUZ     1814\n",
       "A320TMDV6KCFU      1718\n",
       "                  ...  \n",
       "A2PJ6GVLJE1SZS        3\n",
       "ARMPTBBYIBJ14         3\n",
       "AAZ9MF89KZJ3I         3\n",
       "A2UORKY6K8R4XD        3\n",
       "A2PNLAPW1IVI2H        3\n",
       "Name: reviwerId, Length: 306101, dtype: int64"
      ]
     },
     "execution_count": 74,
     "metadata": {},
     "output_type": "execute_result"
    }
   ],
   "source": [
    "df_dense.reviwerId.value_counts()"
   ]
  },
  {
   "cell_type": "code",
   "execution_count": 76,
   "metadata": {
    "ExecuteTime": {
     "end_time": "2020-05-05T22:53:35.241542Z",
     "start_time": "2020-05-05T22:53:35.097901Z"
    }
   },
   "outputs": [
    {
     "data": {
      "text/plain": [
       "92244"
      ]
     },
     "execution_count": 76,
     "metadata": {},
     "output_type": "execute_result"
    }
   ],
   "source": [
    "len(df_dense.asin.unique())"
   ]
  },
  {
   "cell_type": "code",
   "execution_count": 79,
   "metadata": {
    "ExecuteTime": {
     "end_time": "2020-05-05T22:54:02.469425Z",
     "start_time": "2020-05-05T22:54:02.022828Z"
    }
   },
   "outputs": [
    {
     "data": {
      "text/plain": [
       "306101"
      ]
     },
     "execution_count": 79,
     "metadata": {},
     "output_type": "execute_result"
    }
   ],
   "source": [
    "len(df_dense.reviwerId.unique())"
   ]
  },
  {
   "cell_type": "code",
   "execution_count": null,
   "metadata": {},
   "outputs": [],
   "source": []
  }
 ],
 "metadata": {
  "kernelspec": {
   "display_name": "Python 3",
   "language": "python",
   "name": "python3"
  },
  "language_info": {
   "codemirror_mode": {
    "name": "ipython",
    "version": 3
   },
   "file_extension": ".py",
   "mimetype": "text/x-python",
   "name": "python",
   "nbconvert_exporter": "python",
   "pygments_lexer": "ipython3",
   "version": "3.7.4"
  },
  "toc": {
   "base_numbering": 1,
   "nav_menu": {},
   "number_sections": true,
   "sideBar": true,
   "skip_h1_title": false,
   "title_cell": "Table of Contents",
   "title_sidebar": "Contents",
   "toc_cell": false,
   "toc_position": {},
   "toc_section_display": true,
   "toc_window_display": false
  },
  "varInspector": {
   "cols": {
    "lenName": 16,
    "lenType": 16,
    "lenVar": 40
   },
   "kernels_config": {
    "python": {
     "delete_cmd_postfix": "",
     "delete_cmd_prefix": "del ",
     "library": "var_list.py",
     "varRefreshCmd": "print(var_dic_list())"
    },
    "r": {
     "delete_cmd_postfix": ") ",
     "delete_cmd_prefix": "rm(",
     "library": "var_list.r",
     "varRefreshCmd": "cat(var_dic_list()) "
    }
   },
   "types_to_exclude": [
    "module",
    "function",
    "builtin_function_or_method",
    "instance",
    "_Feature"
   ],
   "window_display": false
  }
 },
 "nbformat": 4,
 "nbformat_minor": 2
}
