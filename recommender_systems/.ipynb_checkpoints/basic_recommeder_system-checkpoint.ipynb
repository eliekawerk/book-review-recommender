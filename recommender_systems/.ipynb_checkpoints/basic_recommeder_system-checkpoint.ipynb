{
 "cells": [
  {
   "cell_type": "code",
   "execution_count": 1,
   "metadata": {
    "ExecuteTime": {
     "end_time": "2020-06-01T11:55:46.353828Z",
     "start_time": "2020-06-01T11:55:44.763932Z"
    }
   },
   "outputs": [],
   "source": [
    "import pandas as pd \n",
    "import numpy as np \n",
    "import matplotlib.pyplot as plt\n",
    "import seaborn as sns\n",
    "import random\n",
    "import scipy.spatial.distance\n",
    "\n",
    "sns.set(font_scale=1.5)\n",
    "plt.style.use('fivethirtyeight')\n",
    "\n",
    "\n",
    "%matplotlib inline\n",
    "%config InlineBackend.figure_format = 'retina'"
   ]
  },
  {
   "cell_type": "markdown",
   "metadata": {},
   "source": [
    "## Load the saved dense df"
   ]
  },
  {
   "cell_type": "code",
   "execution_count": 2,
   "metadata": {
    "ExecuteTime": {
     "end_time": "2020-06-01T11:58:49.860865Z",
     "start_time": "2020-06-01T11:58:49.289721Z"
    }
   },
   "outputs": [],
   "source": [
    "df_sub = pd.read_csv('/Volumes/external/Sangeetha-Project/df_sub.csv.gz', \n",
    "                       compression='gzip').astype({'rating':'int8', 'total_votes':'int32'})"
   ]
  },
  {
   "cell_type": "markdown",
   "metadata": {},
   "source": [
    "## Prediction matrix based on collaborative filtering - baseline only"
   ]
  },
  {
   "cell_type": "code",
   "execution_count": 3,
   "metadata": {
    "ExecuteTime": {
     "end_time": "2020-06-01T11:58:51.093410Z",
     "start_time": "2020-06-01T11:58:51.084379Z"
    }
   },
   "outputs": [
    {
     "data": {
      "text/plain": [
       "4.089157753571024"
      ]
     },
     "execution_count": 3,
     "metadata": {},
     "output_type": "execute_result"
    }
   ],
   "source": [
    "overall_mean = df_sub.rating.mean()\n",
    "overall_mean"
   ]
  },
  {
   "cell_type": "code",
   "execution_count": 4,
   "metadata": {
    "ExecuteTime": {
     "end_time": "2020-06-01T11:58:51.788765Z",
     "start_time": "2020-06-01T11:58:51.724353Z"
    }
   },
   "outputs": [
    {
     "data": {
      "text/html": [
       "<div>\n",
       "<style scoped>\n",
       "    .dataframe tbody tr th:only-of-type {\n",
       "        vertical-align: middle;\n",
       "    }\n",
       "\n",
       "    .dataframe tbody tr th {\n",
       "        vertical-align: top;\n",
       "    }\n",
       "\n",
       "    .dataframe thead th {\n",
       "        text-align: right;\n",
       "    }\n",
       "</style>\n",
       "<table border=\"1\" class=\"dataframe\">\n",
       "  <thead>\n",
       "    <tr style=\"text-align: right;\">\n",
       "      <th></th>\n",
       "      <th>rating</th>\n",
       "    </tr>\n",
       "    <tr>\n",
       "      <th>reviewerId</th>\n",
       "      <th></th>\n",
       "    </tr>\n",
       "  </thead>\n",
       "  <tbody>\n",
       "    <tr>\n",
       "      <td>A100NGGXRQF0AQ</td>\n",
       "      <td>0.156605</td>\n",
       "    </tr>\n",
       "    <tr>\n",
       "      <td>A102Z3T7NSM5KC</td>\n",
       "      <td>0.148937</td>\n",
       "    </tr>\n",
       "    <tr>\n",
       "      <td>A106016KSI0YQ</td>\n",
       "      <td>-0.417925</td>\n",
       "    </tr>\n",
       "    <tr>\n",
       "      <td>A106E1N0ZQ4D9W</td>\n",
       "      <td>0.099248</td>\n",
       "    </tr>\n",
       "    <tr>\n",
       "      <td>A10BZSGALQPS0V</td>\n",
       "      <td>-0.145895</td>\n",
       "    </tr>\n",
       "  </tbody>\n",
       "</table>\n",
       "</div>"
      ],
      "text/plain": [
       "                  rating\n",
       "reviewerId              \n",
       "A100NGGXRQF0AQ  0.156605\n",
       "A102Z3T7NSM5KC  0.148937\n",
       "A106016KSI0YQ  -0.417925\n",
       "A106E1N0ZQ4D9W  0.099248\n",
       "A10BZSGALQPS0V -0.145895"
      ]
     },
     "execution_count": 4,
     "metadata": {},
     "output_type": "execute_result"
    }
   ],
   "source": [
    "#Calculating the user biases\n",
    "bu = df_sub.groupby('reviewerId')[['rating']].mean() - overall_mean\n",
    "bu[:5]"
   ]
  },
  {
   "cell_type": "code",
   "execution_count": 5,
   "metadata": {
    "ExecuteTime": {
     "end_time": "2020-06-01T11:58:52.457730Z",
     "start_time": "2020-06-01T11:58:52.409019Z"
    }
   },
   "outputs": [
    {
     "data": {
      "text/html": [
       "<div>\n",
       "<style scoped>\n",
       "    .dataframe tbody tr th:only-of-type {\n",
       "        vertical-align: middle;\n",
       "    }\n",
       "\n",
       "    .dataframe tbody tr th {\n",
       "        vertical-align: top;\n",
       "    }\n",
       "\n",
       "    .dataframe thead th {\n",
       "        text-align: right;\n",
       "    }\n",
       "</style>\n",
       "<table border=\"1\" class=\"dataframe\">\n",
       "  <thead>\n",
       "    <tr style=\"text-align: right;\">\n",
       "      <th></th>\n",
       "      <th>rating</th>\n",
       "    </tr>\n",
       "    <tr>\n",
       "      <th>asin</th>\n",
       "      <th></th>\n",
       "    </tr>\n",
       "  </thead>\n",
       "  <tbody>\n",
       "    <tr>\n",
       "      <td>000100039X</td>\n",
       "      <td>0.437158</td>\n",
       "    </tr>\n",
       "    <tr>\n",
       "      <td>0002007770</td>\n",
       "      <td>0.278872</td>\n",
       "    </tr>\n",
       "    <tr>\n",
       "      <td>0002051850</td>\n",
       "      <td>0.300673</td>\n",
       "    </tr>\n",
       "    <tr>\n",
       "      <td>0002219417</td>\n",
       "      <td>0.680073</td>\n",
       "    </tr>\n",
       "    <tr>\n",
       "      <td>000222383X</td>\n",
       "      <td>0.547206</td>\n",
       "    </tr>\n",
       "  </tbody>\n",
       "</table>\n",
       "</div>"
      ],
      "text/plain": [
       "              rating\n",
       "asin                \n",
       "000100039X  0.437158\n",
       "0002007770  0.278872\n",
       "0002051850  0.300673\n",
       "0002219417  0.680073\n",
       "000222383X  0.547206"
      ]
     },
     "execution_count": 5,
     "metadata": {},
     "output_type": "execute_result"
    }
   ],
   "source": [
    "#Calculating the item biases\n",
    "bi = df_sub.groupby('asin')[['rating']].mean() - overall_mean\n",
    "bi[:5]"
   ]
  },
  {
   "cell_type": "code",
   "execution_count": 6,
   "metadata": {
    "ExecuteTime": {
     "end_time": "2020-06-01T11:59:23.222078Z",
     "start_time": "2020-06-01T11:59:12.078675Z"
    }
   },
   "outputs": [
    {
     "data": {
      "text/html": [
       "<div>\n",
       "<style scoped>\n",
       "    .dataframe tbody tr th:only-of-type {\n",
       "        vertical-align: middle;\n",
       "    }\n",
       "\n",
       "    .dataframe tbody tr th {\n",
       "        vertical-align: top;\n",
       "    }\n",
       "\n",
       "    .dataframe thead th {\n",
       "        text-align: right;\n",
       "    }\n",
       "</style>\n",
       "<table border=\"1\" class=\"dataframe\">\n",
       "  <thead>\n",
       "    <tr style=\"text-align: right;\">\n",
       "      <th>asin</th>\n",
       "      <th>000100039X</th>\n",
       "      <th>0002007770</th>\n",
       "      <th>0002051850</th>\n",
       "      <th>0002219417</th>\n",
       "      <th>000222383X</th>\n",
       "      <th>000224053X</th>\n",
       "      <th>0002242052</th>\n",
       "      <th>0002247399</th>\n",
       "      <th>0002550938</th>\n",
       "      <th>0002726874</th>\n",
       "      <th>...</th>\n",
       "      <th>452289858</th>\n",
       "      <th>452295297</th>\n",
       "      <th>452295386</th>\n",
       "      <th>452295513</th>\n",
       "      <th>452295831</th>\n",
       "      <th>452296099</th>\n",
       "      <th>452296293</th>\n",
       "      <th>452296315</th>\n",
       "      <th>452296366</th>\n",
       "      <th>452296544</th>\n",
       "    </tr>\n",
       "    <tr>\n",
       "      <th>reviewerId</th>\n",
       "      <th></th>\n",
       "      <th></th>\n",
       "      <th></th>\n",
       "      <th></th>\n",
       "      <th></th>\n",
       "      <th></th>\n",
       "      <th></th>\n",
       "      <th></th>\n",
       "      <th></th>\n",
       "      <th></th>\n",
       "      <th></th>\n",
       "      <th></th>\n",
       "      <th></th>\n",
       "      <th></th>\n",
       "      <th></th>\n",
       "      <th></th>\n",
       "      <th></th>\n",
       "      <th></th>\n",
       "      <th></th>\n",
       "      <th></th>\n",
       "      <th></th>\n",
       "    </tr>\n",
       "  </thead>\n",
       "  <tbody>\n",
       "    <tr>\n",
       "      <td>A100NGGXRQF0AQ</td>\n",
       "      <td>4.682921</td>\n",
       "      <td>4.524635</td>\n",
       "      <td>4.546435</td>\n",
       "      <td>4.925836</td>\n",
       "      <td>4.792969</td>\n",
       "      <td>4.008457</td>\n",
       "      <td>4.549462</td>\n",
       "      <td>3.993814</td>\n",
       "      <td>3.611150</td>\n",
       "      <td>4.792969</td>\n",
       "      <td>...</td>\n",
       "      <td>4.823272</td>\n",
       "      <td>4.734918</td>\n",
       "      <td>3.538958</td>\n",
       "      <td>3.771990</td>\n",
       "      <td>5.000000</td>\n",
       "      <td>3.448272</td>\n",
       "      <td>3.468293</td>\n",
       "      <td>3.299462</td>\n",
       "      <td>4.562855</td>\n",
       "      <td>4.156605</td>\n",
       "    </tr>\n",
       "    <tr>\n",
       "      <td>A102Z3T7NSM5KC</td>\n",
       "      <td>4.675253</td>\n",
       "      <td>4.516967</td>\n",
       "      <td>4.538768</td>\n",
       "      <td>4.918168</td>\n",
       "      <td>4.785301</td>\n",
       "      <td>4.000789</td>\n",
       "      <td>4.541795</td>\n",
       "      <td>3.986147</td>\n",
       "      <td>3.603483</td>\n",
       "      <td>4.785301</td>\n",
       "      <td>...</td>\n",
       "      <td>4.815604</td>\n",
       "      <td>4.727251</td>\n",
       "      <td>3.531290</td>\n",
       "      <td>3.764322</td>\n",
       "      <td>5.000000</td>\n",
       "      <td>3.440604</td>\n",
       "      <td>3.460626</td>\n",
       "      <td>3.291795</td>\n",
       "      <td>4.555187</td>\n",
       "      <td>4.148937</td>\n",
       "    </tr>\n",
       "    <tr>\n",
       "      <td>A106016KSI0YQ</td>\n",
       "      <td>4.108391</td>\n",
       "      <td>3.950105</td>\n",
       "      <td>3.971906</td>\n",
       "      <td>4.351306</td>\n",
       "      <td>4.218439</td>\n",
       "      <td>3.433927</td>\n",
       "      <td>3.974932</td>\n",
       "      <td>3.419284</td>\n",
       "      <td>3.036621</td>\n",
       "      <td>4.218439</td>\n",
       "      <td>...</td>\n",
       "      <td>4.248742</td>\n",
       "      <td>4.160388</td>\n",
       "      <td>2.964428</td>\n",
       "      <td>3.197460</td>\n",
       "      <td>4.582075</td>\n",
       "      <td>2.873742</td>\n",
       "      <td>2.893763</td>\n",
       "      <td>2.724932</td>\n",
       "      <td>3.988325</td>\n",
       "      <td>3.582075</td>\n",
       "    </tr>\n",
       "    <tr>\n",
       "      <td>A106E1N0ZQ4D9W</td>\n",
       "      <td>4.625564</td>\n",
       "      <td>4.467278</td>\n",
       "      <td>4.489079</td>\n",
       "      <td>4.868479</td>\n",
       "      <td>4.735612</td>\n",
       "      <td>3.951100</td>\n",
       "      <td>4.492105</td>\n",
       "      <td>3.936457</td>\n",
       "      <td>3.553793</td>\n",
       "      <td>4.735612</td>\n",
       "      <td>...</td>\n",
       "      <td>4.765915</td>\n",
       "      <td>4.677561</td>\n",
       "      <td>3.481601</td>\n",
       "      <td>3.714633</td>\n",
       "      <td>5.000000</td>\n",
       "      <td>3.390915</td>\n",
       "      <td>3.410936</td>\n",
       "      <td>3.242105</td>\n",
       "      <td>4.505498</td>\n",
       "      <td>4.099248</td>\n",
       "    </tr>\n",
       "    <tr>\n",
       "      <td>A10BZSGALQPS0V</td>\n",
       "      <td>4.380420</td>\n",
       "      <td>4.222134</td>\n",
       "      <td>4.243935</td>\n",
       "      <td>4.623335</td>\n",
       "      <td>4.490468</td>\n",
       "      <td>3.705957</td>\n",
       "      <td>4.246962</td>\n",
       "      <td>3.691314</td>\n",
       "      <td>3.308650</td>\n",
       "      <td>4.490468</td>\n",
       "      <td>...</td>\n",
       "      <td>4.520771</td>\n",
       "      <td>4.432418</td>\n",
       "      <td>3.236458</td>\n",
       "      <td>3.469489</td>\n",
       "      <td>4.854105</td>\n",
       "      <td>3.145771</td>\n",
       "      <td>3.165793</td>\n",
       "      <td>2.996962</td>\n",
       "      <td>4.260355</td>\n",
       "      <td>3.854105</td>\n",
       "    </tr>\n",
       "  </tbody>\n",
       "</table>\n",
       "<p>5 rows × 10982 columns</p>\n",
       "</div>"
      ],
      "text/plain": [
       "asin            000100039X  0002007770  0002051850  0002219417  000222383X  \\\n",
       "reviewerId                                                                   \n",
       "A100NGGXRQF0AQ    4.682921    4.524635    4.546435    4.925836    4.792969   \n",
       "A102Z3T7NSM5KC    4.675253    4.516967    4.538768    4.918168    4.785301   \n",
       "A106016KSI0YQ     4.108391    3.950105    3.971906    4.351306    4.218439   \n",
       "A106E1N0ZQ4D9W    4.625564    4.467278    4.489079    4.868479    4.735612   \n",
       "A10BZSGALQPS0V    4.380420    4.222134    4.243935    4.623335    4.490468   \n",
       "\n",
       "asin            000224053X  0002242052  0002247399  0002550938  0002726874  \\\n",
       "reviewerId                                                                   \n",
       "A100NGGXRQF0AQ    4.008457    4.549462    3.993814    3.611150    4.792969   \n",
       "A102Z3T7NSM5KC    4.000789    4.541795    3.986147    3.603483    4.785301   \n",
       "A106016KSI0YQ     3.433927    3.974932    3.419284    3.036621    4.218439   \n",
       "A106E1N0ZQ4D9W    3.951100    4.492105    3.936457    3.553793    4.735612   \n",
       "A10BZSGALQPS0V    3.705957    4.246962    3.691314    3.308650    4.490468   \n",
       "\n",
       "asin            ...  452289858  452295297  452295386  452295513  452295831  \\\n",
       "reviewerId      ...                                                          \n",
       "A100NGGXRQF0AQ  ...   4.823272   4.734918   3.538958   3.771990   5.000000   \n",
       "A102Z3T7NSM5KC  ...   4.815604   4.727251   3.531290   3.764322   5.000000   \n",
       "A106016KSI0YQ   ...   4.248742   4.160388   2.964428   3.197460   4.582075   \n",
       "A106E1N0ZQ4D9W  ...   4.765915   4.677561   3.481601   3.714633   5.000000   \n",
       "A10BZSGALQPS0V  ...   4.520771   4.432418   3.236458   3.469489   4.854105   \n",
       "\n",
       "asin            452296099  452296293  452296315  452296366  452296544  \n",
       "reviewerId                                                             \n",
       "A100NGGXRQF0AQ   3.448272   3.468293   3.299462   4.562855   4.156605  \n",
       "A102Z3T7NSM5KC   3.440604   3.460626   3.291795   4.555187   4.148937  \n",
       "A106016KSI0YQ    2.873742   2.893763   2.724932   3.988325   3.582075  \n",
       "A106E1N0ZQ4D9W   3.390915   3.410936   3.242105   4.505498   4.099248  \n",
       "A10BZSGALQPS0V   3.145771   3.165793   2.996962   4.260355   3.854105  \n",
       "\n",
       "[5 rows x 10982 columns]"
      ]
     },
     "execution_count": 6,
     "metadata": {},
     "output_type": "execute_result"
    }
   ],
   "source": [
    "baseline_est = overall_mean + bu.values.reshape(-1,1) + bi.values.reshape(1,-1)\n",
    "baseline_est = pd.DataFrame(baseline_est, index = bu.index, columns = bi.index)\n",
    "\n",
    "baseline_est[baseline_est>5] = 5\n",
    "baseline_est[baseline_est<1] = 1\n",
    "\n",
    "baseline_est.head()"
   ]
  },
  {
   "cell_type": "code",
   "execution_count": 7,
   "metadata": {
    "ExecuteTime": {
     "end_time": "2020-06-01T11:59:24.509381Z",
     "start_time": "2020-06-01T11:59:24.122020Z"
    },
    "scrolled": true
   },
   "outputs": [
    {
     "name": "stdout",
     "output_type": "stream",
     "text": [
      "<class 'pandas.core.frame.DataFrame'>\n",
      "Index: 2647 entries, A100NGGXRQF0AQ to AZY96LU53VWGO\n",
      "Columns: 10982 entries, 000100039X to 452296544\n",
      "dtypes: float64(10982)\n",
      "memory usage: 221.8+ MB\n"
     ]
    }
   ],
   "source": [
    "baseline_est.info()"
   ]
  },
  {
   "cell_type": "code",
   "execution_count": 5,
   "metadata": {
    "ExecuteTime": {
     "end_time": "2020-05-16T18:31:58.772549Z",
     "start_time": "2020-05-16T18:31:58.738561Z"
    }
   },
   "outputs": [
    {
     "ename": "NameError",
     "evalue": "name 'baseline_est' is not defined",
     "output_type": "error",
     "traceback": [
      "\u001b[0;31m---------------------------------------------------------------------------\u001b[0m",
      "\u001b[0;31mNameError\u001b[0m                                 Traceback (most recent call last)",
      "\u001b[0;32m<ipython-input-5-a9546f0d26e9>\u001b[0m in \u001b[0;36m<module>\u001b[0;34m\u001b[0m\n\u001b[0;32m----> 1\u001b[0;31m baseline_est.to_csv('/Volumes/external/Sangeetha-Project/baseline_est.csv.gz', index=True,\n\u001b[0m\u001b[1;32m      2\u001b[0m                        compression='gzip')\n",
      "\u001b[0;31mNameError\u001b[0m: name 'baseline_est' is not defined"
     ]
    }
   ],
   "source": [
    "baseline_est.to_csv('/dVolumes/external/Sangeetha-Project/baseline_est-.csv.gz', header = True, index=True,\n",
    "                       compression='gzip')"
   ]
  },
  {
   "cell_type": "markdown",
   "metadata": {},
   "source": [
    "## Running through an example - user 100 ('A151OW029XD9JU') & book 4599 (0312385846)"
   ]
  },
  {
   "cell_type": "code",
   "execution_count": 7,
   "metadata": {
    "ExecuteTime": {
     "end_time": "2020-05-16T18:32:45.590134Z",
     "start_time": "2020-05-16T18:32:27.184590Z"
    }
   },
   "outputs": [],
   "source": [
    "baseline_est = pd.read_csv('/Volumes/external/Sangeetha-Project/baseline_est.csv.gz', index_col=0,\n",
    "                       compression='gzip')"
   ]
  },
  {
   "cell_type": "code",
   "execution_count": 9,
   "metadata": {
    "ExecuteTime": {
     "end_time": "2020-05-16T18:33:44.980649Z",
     "start_time": "2020-05-16T18:33:44.409707Z"
    }
   },
   "outputs": [],
   "source": [
    "df_sub = pd.read_csv('/Volumes/external/Sangeetha-Project/df_sub.csv.gz', \n",
    "                       compression='gzip').astype({'rating':'int8', 'total_votes':'int32'})"
   ]
  },
  {
   "cell_type": "code",
   "execution_count": 61,
   "metadata": {
    "ExecuteTime": {
     "end_time": "2020-05-16T20:49:08.956173Z",
     "start_time": "2020-05-16T20:49:08.949098Z"
    }
   },
   "outputs": [
    {
     "data": {
      "text/plain": [
       "'A2S166WSCFIFP5'"
      ]
     },
     "execution_count": 61,
     "metadata": {},
     "output_type": "execute_result"
    }
   ],
   "source": [
    "#Pick a random user:\n",
    "#user=random.choice(np.unique(df_sub.reviewerId))\n",
    "user = 'A2S166WSCFIFP5'\n",
    "user"
   ]
  },
  {
   "cell_type": "code",
   "execution_count": 62,
   "metadata": {
    "ExecuteTime": {
     "end_time": "2020-05-16T20:49:20.774620Z",
     "start_time": "2020-05-16T20:49:20.737647Z"
    }
   },
   "outputs": [
    {
     "data": {
      "text/plain": [
       "array(['0439023483', '0143170090', '030758836X', '0439023513',\n",
       "       '0141039280'], dtype=object)"
      ]
     },
     "execution_count": 62,
     "metadata": {},
     "output_type": "execute_result"
    }
   ],
   "source": [
    "#Create a list of unread books with more than 10 reviews\n",
    "books_over_10_reviews = df_sub.asin.value_counts()\n",
    "books_over_10_reviews= np.array(books_over_10_reviews[books_over_10_reviews>10].index)\n",
    "books_over_10_reviews[:5]"
   ]
  },
  {
   "cell_type": "code",
   "execution_count": 63,
   "metadata": {
    "ExecuteTime": {
     "end_time": "2020-05-16T20:49:26.523581Z",
     "start_time": "2020-05-16T20:49:26.489626Z"
    }
   },
   "outputs": [
    {
     "data": {
      "text/plain": [
       "array(['000100039X', '0007136838', '0020519001', '0020519109',\n",
       "       '006000942X'], dtype=object)"
      ]
     },
     "execution_count": 63,
     "metadata": {},
     "output_type": "execute_result"
    }
   ],
   "source": [
    "books_read_by_user = df_sub[df_sub.reviewerId == user].asin.values\n",
    "books_read_by_user[:5]"
   ]
  },
  {
   "cell_type": "code",
   "execution_count": 64,
   "metadata": {
    "ExecuteTime": {
     "end_time": "2020-05-16T20:49:31.835871Z",
     "start_time": "2020-05-16T20:49:31.718369Z"
    },
    "scrolled": true
   },
   "outputs": [
    {
     "data": {
      "text/plain": [
       "['0439023483', '0143170090', '030758836X', '0439023513', '0141039280']"
      ]
     },
     "execution_count": 64,
     "metadata": {},
     "output_type": "execute_result"
    }
   ],
   "source": [
    "#Books that have over 10 reviews but hasnt been read by user\n",
    "unread_book_by_user= [x for x in books_over_10_reviews if x not in books_read_by_user]\n",
    "unread_book_by_user[:5]"
   ]
  },
  {
   "cell_type": "code",
   "execution_count": 79,
   "metadata": {
    "ExecuteTime": {
     "end_time": "2020-05-16T20:55:23.251119Z",
     "start_time": "2020-05-16T20:55:23.245885Z"
    }
   },
   "outputs": [],
   "source": [
    "book_chosen = random.choice(unread_book_by_user)\n",
    "#book_chosen = '0312385846'\n",
    "book_chosen = '0002007770'"
   ]
  },
  {
   "cell_type": "code",
   "execution_count": 80,
   "metadata": {
    "ExecuteTime": {
     "end_time": "2020-05-16T20:55:27.890824Z",
     "start_time": "2020-05-16T20:55:27.833748Z"
    },
    "scrolled": false
   },
   "outputs": [
    {
     "data": {
      "text/html": [
       "<div>\n",
       "<style scoped>\n",
       "    .dataframe tbody tr th:only-of-type {\n",
       "        vertical-align: middle;\n",
       "    }\n",
       "\n",
       "    .dataframe tbody tr th {\n",
       "        vertical-align: top;\n",
       "    }\n",
       "\n",
       "    .dataframe thead th {\n",
       "        text-align: right;\n",
       "    }\n",
       "</style>\n",
       "<table border=\"1\" class=\"dataframe\">\n",
       "  <thead>\n",
       "    <tr style=\"text-align: right;\">\n",
       "      <th></th>\n",
       "      <th>reviewerId</th>\n",
       "      <th>asin</th>\n",
       "      <th>rating</th>\n",
       "      <th>summary</th>\n",
       "      <th>total_votes</th>\n",
       "    </tr>\n",
       "  </thead>\n",
       "  <tbody>\n",
       "  </tbody>\n",
       "</table>\n",
       "</div>"
      ],
      "text/plain": [
       "Empty DataFrame\n",
       "Columns: [reviewerId, asin, rating, summary, total_votes]\n",
       "Index: []"
      ]
     },
     "execution_count": 80,
     "metadata": {},
     "output_type": "execute_result"
    }
   ],
   "source": [
    "#Check to see if the reviewer hasnt read the book yet if you want \n",
    "df_sub[(df_sub.reviewerId==user)&(df_sub.asin==book_chosen)]"
   ]
  },
  {
   "cell_type": "code",
   "execution_count": 81,
   "metadata": {
    "ExecuteTime": {
     "end_time": "2020-05-16T20:55:34.056328Z",
     "start_time": "2020-05-16T20:55:34.029512Z"
    }
   },
   "outputs": [
    {
     "data": {
      "text/plain": [
       "array(['APBA7Y4SINS0H', 'A22019GDU7OVFG', 'A1HRYC60VTMYC0',\n",
       "       'A1QZ6MFP9TSQU6', 'A3T4KN9XO3PIXG', 'A19D3N662QS9WD',\n",
       "       'A26UNIPEVYE9DE', 'A914TQVHI872U', 'A3E02KBFI21TY0',\n",
       "       'A3BIWTN2DA0YY2', 'A30H2335OM7RD6', 'A21NVBFIEQWDSG',\n",
       "       'AJQ1S39GZBKUG', 'A2PN65B6BSTIYZ', 'A3KOO6L0NA2PJA',\n",
       "       'A3GUK4RWXKHS9I', 'ASPABROV8R7M5', 'A75W6T9I2S8BA',\n",
       "       'A33E0CODNP98PV', 'A3QVI57VT1VGRO', 'A5H86XYSS0OU6',\n",
       "       'A2PWUIQG57O1AZ', 'AK536TCZST9B', 'A26BVUB2YJMGB7',\n",
       "       'A2ATWKOFJXRRR1', 'A1PKJUAQFGNLSX', 'A15NZD5WINDQZM',\n",
       "       'A39650P2CZUUC9', 'A2VUNCELWAV29X', 'A1GIW9VUC7V2WE',\n",
       "       'A27QB2QCDK90GP', 'AO3M6LS4V3UY4', 'A7SSCDSCM4PXF',\n",
       "       'A2F6N60Z96CAJI', 'A2R53V98P2T4Y4', 'AGFNLMUZ09UF1',\n",
       "       'A2HRPFBYBZ4RJ5', 'A1NOBRCN20NGD5', 'AYT4FJYVCHYLE',\n",
       "       'A1QQEFV51EMD7E', 'A3F0OFSE2M25U2', 'A35ROK8CVWNF62',\n",
       "       'A1BI8PUEHA5CHW', 'A19KMJBW99ZTZK', 'A2ZATPER188K3J',\n",
       "       'AG2YXYIQ8TLTA', 'A2SPCMHMXS2QSF', 'A99CILDQPTRTZ',\n",
       "       'A3JSDV57XPD937', 'A3SUD7WHS9KI57', 'A2VZ11U5DXM8J5',\n",
       "       'A1O3SZ5I2F42A', 'AVJDSIQPP87B9', 'A2H44WVZS59KKT',\n",
       "       'A367Y1QXNWRJP0', 'ARBMZ59SXGUGI', 'AX7JJMP7ZMEWG',\n",
       "       'A34N0IE7D4M0E6', 'A1T17LMQABMBN5', 'A39AWL2FKWDFK6',\n",
       "       'A51IK68MWKV5R', 'AQCQ5F0OJXMG9', 'A3VLAHQIRK8PA7',\n",
       "       'A1FNIBTI1D91KM', 'A3VJ27010XUWTF', 'AGZK126DNQ2FN',\n",
       "       'A39ABKRS1MKFTW', 'A1S4A310394IL7', 'A3IYEFZES0QRFT',\n",
       "       'A1G0DH7UQ4ILS6', 'A359U0JFFZ0Q04', 'AAL7QMRIOAGVD',\n",
       "       'A2MQQI4UYT9C11', 'A1E2NA2F4RTQ9B', 'A1WKQ94M45D8MG',\n",
       "       'A2C4MKATLLGFB0', 'A1DT70XSV8FUB5', 'AIK0G28AWIL17',\n",
       "       'A3UIPJ29I9Y61', 'A2NHD7LUXVGTD3', 'A1K1JW1C5CUSUZ',\n",
       "       'A3ORWAR4CAOPAC', 'AWFMGDUUGNGYW', 'A1V09ASZ9HWQAE',\n",
       "       'A28S3F43F76HSH', 'A2Q6R7WN1D2K27', 'A3FA9MUYT5D2C8',\n",
       "       'A1BY89JC6JOAC5', 'AFFGYGNO989PD', 'ANXM8UXIIF2HC',\n",
       "       'A27OBJA1YDQFZI', 'A3M6PVBDT2ED45', 'AQW3C1QOR6MV8',\n",
       "       'AZY96LU53VWGO', 'A28SBPF6KFZ7VL', 'A1CHM200OEN65X',\n",
       "       'A14ASJYL2MJNUF', 'A19OQ7LWE2YJL3', 'A73DFWJE0CGY6',\n",
       "       'A3IKBHODOTYYHM', 'A3PGGI7A6XCNF1', 'AW3H09TT8YDQG',\n",
       "       'A12OB10E5L01V0', 'A3M174IC0VXOS2', 'A2KJZXIXBHVG0K',\n",
       "       'AK7D1BHZOSOL1', 'A16A3MYURJDYS7', 'A2PR6NXG0PA3KY',\n",
       "       'ASLHDTUUMOH7F', 'A3TBNZFDY7ZNU7', 'A3P9D22KDEXVMN',\n",
       "       'A20FK68BUB1IVA', 'A2R6YYZJU332O8', 'A2T110FW5JH644',\n",
       "       'A3HZKNZY9KKQZA', 'A1UFV4HALV2OXW', 'A3617MUVB2ACOQ',\n",
       "       'A2XK04SBBC164A', 'AZ8N5BS6476S8', 'A1CNQTCRQ35IMM',\n",
       "       'A2SZ9BG00RYAHG', 'A1EEW7AS30AK5Q', 'A2BCIAH2TIYVQ9',\n",
       "       'A3DRSOGQJRX10', 'A3RP1I0SL7091Q', 'AHU9DUUIU37PK',\n",
       "       'A1X1TY8AT7E03H', 'A2XQMGE2YY88DC', 'A1IIX764GG3WNZ',\n",
       "       'A1WCJEZS66D224', 'A146H6A41B26QT', 'A1G9UEWALDT9JI',\n",
       "       'A20VXF9DYI0I6H', 'AGFGY4EJ37VS2', 'A2TAPSNKK9AFSQ',\n",
       "       'A1CB9F7TVZ7IRT', 'A2ECPW4RA7NWMP', 'AZ85B5Q1UEH5U',\n",
       "       'AHQYCRL2FMG3D', 'A1237ROTM7659', 'A1DW700HEBQC4P',\n",
       "       'A2E3GFHUDNPYDH', 'A5A3C6XVDYUND', 'A3PHF9UV3F177L',\n",
       "       'A1IOJE0W1NXOSE', 'A2T9EHCUD7CNEB', 'A2EHSB26B1U4X2',\n",
       "       'A22B13EJTZKCTM', 'A11PKVBGCKRVEK', 'ALAFR9RRKEUZP',\n",
       "       'A11L3YX5WIDKJ', 'A1DW4U1LQV0XW7', 'AKHKBZEHJ36FQ',\n",
       "       'A2TWBMSMBXFJKE', 'A2GPEV42IO41CI', 'A2NJL67GOMVDU0',\n",
       "       'A2H6Q6AK8S90F3', 'AOCADWNP0OCKD', 'A2WJC8K1PN8HLW',\n",
       "       'APX6P0TIEUNWD', 'A3CZM67USY6DQ8', 'A32F7XPPKIILVC',\n",
       "       'AS6EPVW1IRRP5', 'A3Q86MZSVUUAD8', 'A2K9FXOFFHVNWG',\n",
       "       'A1B23PU99IVME', 'A17FLA8HQOFVIG', 'ADDR431KVX4WN',\n",
       "       'A3DII698XLNK94', 'A2X7F0D66LK2WN', 'APTVNT7U6RZC3',\n",
       "       'A2MF2QVSCUI27G', 'A1JYYFGPMHSEB6', 'A33N05GF31KN8N',\n",
       "       'A16W9E27VW9IND', 'A3GWVB80CNOSN8', 'A1BIGYMFZOFTR8',\n",
       "       'A21A2JGWH92TXZ', 'AU5HUS2XJBDZZ', 'AYYAIPS6M3HB8',\n",
       "       'A1WDHQ9V2E4H5C', 'A2T1B8LGQRYCEA', 'A11NL2A0RDEGF',\n",
       "       'A2HR0DJG4WMR8R', 'AFHYEO3Y1IIDD', 'A370Z6I5GBWU44',\n",
       "       'A3HBE3VAKQ7RYF', 'A1NKHQ9L0KIIB5', 'A3KEZLJ59C1JVH',\n",
       "       'A1F3PBBSHAA2Y9', 'AB073YS7FTWCA', 'A1GFM0ZKG5PKJJ',\n",
       "       'A3LKWMM12AF0PU', 'AP8AUHUUYL34A', 'A1WUPRPQBV4FB8',\n",
       "       'A3LWRDY0OQH3LY', 'AFUQ93IMBSVR4', 'A3OZPA2Y2SUYX5',\n",
       "       'A3MDLDRB2GVKBH', 'A17TASZJT6Y39D', 'A3T0OTH5072YRE',\n",
       "       'A2VWGLT380E60S', 'A1OLGW6LUM9M5U', 'A1129LM24YWSZV',\n",
       "       'AEXE5RH7221AJ', 'A2QTG1OWAWEFR4', 'A1XHK8COWBZ34F',\n",
       "       'A3UKWQS8SRW6IO', 'A257XGMVGITLCT', 'A2ESOF0E2FTXXL',\n",
       "       'A9L1JTFE26GLN', 'A1D3XQC2DIT', 'AQ6SJVPZ6P6DC', 'A2V6FC7GVZ6T7M',\n",
       "       'A1FCBJNIFF4PPU', 'A2T5O7MHGONT6S', 'A38UNI88GFRH60',\n",
       "       'AVL5IDEE8YA3D', 'AX54G5AL870Q8', 'A19O53R0L0W4O7',\n",
       "       'AA30KAI4RI6AT', 'AN3D3M8MJ07BQ', 'ASK5NF6RO8W19',\n",
       "       'A1YN0D68BEBUUQ', 'A1RMHZSWZ7ZEQO', 'A3QM5ZB79I7MT0',\n",
       "       'A32PC5F6QT0SC9', 'AS6SH2JM2YY3H', 'A3DHLK8J85U32F',\n",
       "       'A37S3ACL57LN62', 'A1F3DFRPGVEUI8', 'A35CCGJDNXUDY9',\n",
       "       'A3SN9EF7GTNEU2', 'A8QNRCZFSSY9C', 'A30F8LGQXSIV50',\n",
       "       'A2PN7Z2VTHICL8', 'A2DW6ITKD576FH', 'AIKL4PJ4M35ER',\n",
       "       'A1T9P4HXF0F2NS', 'A3B6FOHAAOL7G3', 'A1KAS2W1TD8UOU',\n",
       "       'A7YRO6JIVVG7D', 'A1OSPY4MSOLE5V', 'A2IYCVYH319OEN',\n",
       "       'A2UW83R0JOZZ6', 'A1N1YEMTI9DJ86', 'AGIWOEGLZYWQ9',\n",
       "       'APXQHFTTYERDE', 'A3QW09WANRS6BZ', 'A2ZHH7AK83JB5G',\n",
       "       'A151OW029XD9JU', 'A2T6RWGHT3DIDH', 'A4OC42L6GVJ6Y',\n",
       "       'A14QJKY3DA19AP', 'A303U1MOXG5R1F', 'A265NE6H6LYX87',\n",
       "       'A30GESVUFJTTZF', 'A3SQQYS79AV13M', 'A3NDPSK6QZHSAV',\n",
       "       'A18VICK1AMJS6B', 'A1DQZBHEU98PBT', 'A1S3IN6CSTBPY6',\n",
       "       'A1YBVBU27AKJ1J', 'A3NSMGE2T71EGV', 'A3U437ALQKGREY',\n",
       "       'A23E9QQHJLNGUI', 'A1FT7QFKNHL9DT', 'A3ADK3ZTJ87915',\n",
       "       'A3QS5UYAGHF4IU'], dtype=object)"
      ]
     },
     "execution_count": 81,
     "metadata": {},
     "output_type": "execute_result"
    }
   ],
   "source": [
    "#List of users who have rated the book\n",
    "reviewers_rated_book = df_sub[df_sub.asin==book_chosen].reviewerId.values\n",
    "reviewers_rated_book"
   ]
  },
  {
   "cell_type": "code",
   "execution_count": 82,
   "metadata": {
    "ExecuteTime": {
     "end_time": "2020-05-16T20:55:39.028757Z",
     "start_time": "2020-05-16T20:55:38.729860Z"
    }
   },
   "outputs": [
    {
     "data": {
      "text/plain": [
       "[2.0211375665879494e-05,\n",
       " 3.555496537110958e-05,\n",
       " 1.6393689702187686e-05,\n",
       " 2.3400917009808175e-05,\n",
       " 4.505484467887122e-05]"
      ]
     },
     "execution_count": 82,
     "metadata": {},
     "output_type": "execute_result"
    }
   ],
   "source": [
    "user_distances = []\n",
    "\n",
    "for reviewer in reviewers_rated_book:\n",
    "    user_distances.append(scipy.spatial.distance.cosine(baseline_est.loc[user,:].values, \n",
    "                                                          baseline_est.loc[reviewer,:].values))\n",
    "user_distances[:5]"
   ]
  },
  {
   "cell_type": "code",
   "execution_count": 83,
   "metadata": {
    "ExecuteTime": {
     "end_time": "2020-05-16T20:55:44.188933Z",
     "start_time": "2020-05-16T20:55:44.174800Z"
    }
   },
   "outputs": [
    {
     "data": {
      "text/html": [
       "<div>\n",
       "<style scoped>\n",
       "    .dataframe tbody tr th:only-of-type {\n",
       "        vertical-align: middle;\n",
       "    }\n",
       "\n",
       "    .dataframe tbody tr th {\n",
       "        vertical-align: top;\n",
       "    }\n",
       "\n",
       "    .dataframe thead th {\n",
       "        text-align: right;\n",
       "    }\n",
       "</style>\n",
       "<table border=\"1\" class=\"dataframe\">\n",
       "  <thead>\n",
       "    <tr style=\"text-align: right;\">\n",
       "      <th></th>\n",
       "      <th>reviewerId</th>\n",
       "      <th>cos_distance</th>\n",
       "    </tr>\n",
       "  </thead>\n",
       "  <tbody>\n",
       "    <tr>\n",
       "      <td>0</td>\n",
       "      <td>A1PKJUAQFGNLSX</td>\n",
       "      <td>3.806073e-09</td>\n",
       "    </tr>\n",
       "    <tr>\n",
       "      <td>1</td>\n",
       "      <td>A7SSCDSCM4PXF</td>\n",
       "      <td>7.656516e-09</td>\n",
       "    </tr>\n",
       "    <tr>\n",
       "      <td>2</td>\n",
       "      <td>A75W6T9I2S8BA</td>\n",
       "      <td>1.340006e-08</td>\n",
       "    </tr>\n",
       "    <tr>\n",
       "      <td>3</td>\n",
       "      <td>A2ECPW4RA7NWMP</td>\n",
       "      <td>1.453352e-08</td>\n",
       "    </tr>\n",
       "    <tr>\n",
       "      <td>4</td>\n",
       "      <td>A21NVBFIEQWDSG</td>\n",
       "      <td>2.817721e-08</td>\n",
       "    </tr>\n",
       "  </tbody>\n",
       "</table>\n",
       "</div>"
      ],
      "text/plain": [
       "       reviewerId  cos_distance\n",
       "0  A1PKJUAQFGNLSX  3.806073e-09\n",
       "1   A7SSCDSCM4PXF  7.656516e-09\n",
       "2   A75W6T9I2S8BA  1.340006e-08\n",
       "3  A2ECPW4RA7NWMP  1.453352e-08\n",
       "4  A21NVBFIEQWDSG  2.817721e-08"
      ]
     },
     "execution_count": 83,
     "metadata": {},
     "output_type": "execute_result"
    }
   ],
   "source": [
    "sorted_reviewers = sorted(zip(reviewers_rated_book,user_distances), key=lambda x:x[1])\n",
    "sorted_reviewers = pd.DataFrame(sorted_reviewers, columns = ['reviewerId', 'cos_distance'])\n",
    "sorted_reviewers[:5]"
   ]
  },
  {
   "cell_type": "code",
   "execution_count": 84,
   "metadata": {
    "ExecuteTime": {
     "end_time": "2020-05-16T20:55:52.493456Z",
     "start_time": "2020-05-16T20:55:52.464935Z"
    }
   },
   "outputs": [],
   "source": [
    "reviews_example = df_sub[df_sub.asin == book_chosen].copy()\n",
    "reviews_example = reviews_example.merge(sorted_reviewers, on ='reviewerId')"
   ]
  },
  {
   "cell_type": "code",
   "execution_count": 50,
   "metadata": {
    "ExecuteTime": {
     "end_time": "2020-05-16T18:51:32.650606Z",
     "start_time": "2020-05-16T18:51:32.639018Z"
    }
   },
   "outputs": [
    {
     "name": "stdout",
     "output_type": "stream",
     "text": [
      "<class 'pandas.core.frame.DataFrame'>\n",
      "Int64Index: 14 entries, 0 to 13\n",
      "Data columns (total 6 columns):\n",
      "reviewerId      14 non-null object\n",
      "asin            14 non-null object\n",
      "rating          14 non-null int8\n",
      "summary         14 non-null object\n",
      "total_votes     14 non-null int32\n",
      "cos_distance    14 non-null float64\n",
      "dtypes: float64(1), int32(1), int8(1), object(3)\n",
      "memory usage: 630.0+ bytes\n"
     ]
    }
   ],
   "source": [
    "reviews_example.info()"
   ]
  },
  {
   "cell_type": "markdown",
   "metadata": {},
   "source": [
    "I chose the method 'average' for the rank for the total votes and the method 'dense' for the cosine as cosine will always be different for each row so the ranks will increase faster than for the total_votes where there are more likely to be ties. So average for total_votes and dense for cos_distance should smooth these differences"
   ]
  },
  {
   "cell_type": "code",
   "execution_count": 85,
   "metadata": {
    "ExecuteTime": {
     "end_time": "2020-05-16T20:56:11.778890Z",
     "start_time": "2020-05-16T20:56:11.753913Z"
    },
    "scrolled": true
   },
   "outputs": [
    {
     "data": {
      "text/html": [
       "<div>\n",
       "<style scoped>\n",
       "    .dataframe tbody tr th:only-of-type {\n",
       "        vertical-align: middle;\n",
       "    }\n",
       "\n",
       "    .dataframe tbody tr th {\n",
       "        vertical-align: top;\n",
       "    }\n",
       "\n",
       "    .dataframe thead th {\n",
       "        text-align: right;\n",
       "    }\n",
       "</style>\n",
       "<table border=\"1\" class=\"dataframe\">\n",
       "  <thead>\n",
       "    <tr style=\"text-align: right;\">\n",
       "      <th></th>\n",
       "      <th>reviewerId</th>\n",
       "      <th>asin</th>\n",
       "      <th>rating</th>\n",
       "      <th>summary</th>\n",
       "      <th>total_votes</th>\n",
       "      <th>cos_distance</th>\n",
       "      <th>vote_rank</th>\n",
       "    </tr>\n",
       "  </thead>\n",
       "  <tbody>\n",
       "    <tr>\n",
       "      <td>171</td>\n",
       "      <td>A2MF2QVSCUI27G</td>\n",
       "      <td>0002007770</td>\n",
       "      <td>5</td>\n",
       "      <td>\"In seventy years, I've never told a blessed s...</td>\n",
       "      <td>1150</td>\n",
       "      <td>5.920482e-05</td>\n",
       "      <td>5.0</td>\n",
       "    </tr>\n",
       "    <tr>\n",
       "      <td>66</td>\n",
       "      <td>A39ABKRS1MKFTW</td>\n",
       "      <td>0002007770</td>\n",
       "      <td>5</td>\n",
       "      <td>One of the best books I've read this year...</td>\n",
       "      <td>394</td>\n",
       "      <td>4.134266e-05</td>\n",
       "      <td>10.0</td>\n",
       "    </tr>\n",
       "    <tr>\n",
       "      <td>107</td>\n",
       "      <td>A2PR6NXG0PA3KY</td>\n",
       "      <td>0002007770</td>\n",
       "      <td>2</td>\n",
       "      <td>Basically a Question of Taste</td>\n",
       "      <td>258</td>\n",
       "      <td>4.734389e-06</td>\n",
       "      <td>6.0</td>\n",
       "    </tr>\n",
       "    <tr>\n",
       "      <td>221</td>\n",
       "      <td>AN3D3M8MJ07BQ</td>\n",
       "      <td>0002007770</td>\n",
       "      <td>5</td>\n",
       "      <td>YOU CAN GO HOME AGAIN</td>\n",
       "      <td>77</td>\n",
       "      <td>4.577832e-04</td>\n",
       "      <td>20.0</td>\n",
       "    </tr>\n",
       "    <tr>\n",
       "      <td>0</td>\n",
       "      <td>APBA7Y4SINS0H</td>\n",
       "      <td>0002007770</td>\n",
       "      <td>1</td>\n",
       "      <td>Now I lay me down to sleep</td>\n",
       "      <td>49</td>\n",
       "      <td>2.021138e-05</td>\n",
       "      <td>5.0</td>\n",
       "    </tr>\n",
       "    <tr>\n",
       "      <td>...</td>\n",
       "      <td>...</td>\n",
       "      <td>...</td>\n",
       "      <td>...</td>\n",
       "      <td>...</td>\n",
       "      <td>...</td>\n",
       "      <td>...</td>\n",
       "      <td>...</td>\n",
       "    </tr>\n",
       "    <tr>\n",
       "      <td>173</td>\n",
       "      <td>A33N05GF31KN8N</td>\n",
       "      <td>0002007770</td>\n",
       "      <td>4</td>\n",
       "      <td>Entertaining and Well Paced</td>\n",
       "      <td>0</td>\n",
       "      <td>4.793384e-06</td>\n",
       "      <td>994.0</td>\n",
       "    </tr>\n",
       "    <tr>\n",
       "      <td>215</td>\n",
       "      <td>A2T5O7MHGONT6S</td>\n",
       "      <td>0002007770</td>\n",
       "      <td>5</td>\n",
       "      <td>A \"must read\"</td>\n",
       "      <td>0</td>\n",
       "      <td>8.938374e-06</td>\n",
       "      <td>1242.5</td>\n",
       "    </tr>\n",
       "    <tr>\n",
       "      <td>22</td>\n",
       "      <td>AK536TCZST9B</td>\n",
       "      <td>0002007770</td>\n",
       "      <td>5</td>\n",
       "      <td>the life of Jacob</td>\n",
       "      <td>0</td>\n",
       "      <td>7.627394e-05</td>\n",
       "      <td>1242.5</td>\n",
       "    </tr>\n",
       "    <tr>\n",
       "      <td>96</td>\n",
       "      <td>A14ASJYL2MJNUF</td>\n",
       "      <td>0002007770</td>\n",
       "      <td>5</td>\n",
       "      <td>Narration is excellent</td>\n",
       "      <td>0</td>\n",
       "      <td>2.837032e-05</td>\n",
       "      <td>1242.5</td>\n",
       "    </tr>\n",
       "    <tr>\n",
       "      <td>95</td>\n",
       "      <td>A1CHM200OEN65X</td>\n",
       "      <td>0002007770</td>\n",
       "      <td>3</td>\n",
       "      <td>A \"Blind Man's\" View</td>\n",
       "      <td>0</td>\n",
       "      <td>3.479642e-07</td>\n",
       "      <td>745.5</td>\n",
       "    </tr>\n",
       "  </tbody>\n",
       "</table>\n",
       "<p>269 rows × 7 columns</p>\n",
       "</div>"
      ],
      "text/plain": [
       "         reviewerId        asin  rating  \\\n",
       "171  A2MF2QVSCUI27G  0002007770       5   \n",
       "66   A39ABKRS1MKFTW  0002007770       5   \n",
       "107  A2PR6NXG0PA3KY  0002007770       2   \n",
       "221   AN3D3M8MJ07BQ  0002007770       5   \n",
       "0     APBA7Y4SINS0H  0002007770       1   \n",
       "..              ...         ...     ...   \n",
       "173  A33N05GF31KN8N  0002007770       4   \n",
       "215  A2T5O7MHGONT6S  0002007770       5   \n",
       "22     AK536TCZST9B  0002007770       5   \n",
       "96   A14ASJYL2MJNUF  0002007770       5   \n",
       "95   A1CHM200OEN65X  0002007770       3   \n",
       "\n",
       "                                               summary  total_votes  \\\n",
       "171  \"In seventy years, I've never told a blessed s...         1150   \n",
       "66        One of the best books I've read this year...          394   \n",
       "107                      Basically a Question of Taste          258   \n",
       "221                              YOU CAN GO HOME AGAIN           77   \n",
       "0                           Now I lay me down to sleep           49   \n",
       "..                                                 ...          ...   \n",
       "173                        Entertaining and Well Paced            0   \n",
       "215                                      A \"must read\"            0   \n",
       "22                                   the life of Jacob            0   \n",
       "96                              Narration is excellent            0   \n",
       "95                                A \"Blind Man's\" View            0   \n",
       "\n",
       "     cos_distance  vote_rank  \n",
       "171  5.920482e-05        5.0  \n",
       "66   4.134266e-05       10.0  \n",
       "107  4.734389e-06        6.0  \n",
       "221  4.577832e-04       20.0  \n",
       "0    2.021138e-05        5.0  \n",
       "..            ...        ...  \n",
       "173  4.793384e-06      994.0  \n",
       "215  8.938374e-06     1242.5  \n",
       "22   7.627394e-05     1242.5  \n",
       "96   2.837032e-05     1242.5  \n",
       "95   3.479642e-07      745.5  \n",
       "\n",
       "[269 rows x 7 columns]"
      ]
     },
     "execution_count": 85,
     "metadata": {},
     "output_type": "execute_result"
    }
   ],
   "source": [
    "reviews_example['vote_rank'] = reviews_example['total_votes'].rank(method = 'average', ascending=False)*reviews_example['rating']\n",
    "reviews_example.sort_values(by='total_votes', ascending = False)"
   ]
  },
  {
   "cell_type": "code",
   "execution_count": 86,
   "metadata": {
    "ExecuteTime": {
     "end_time": "2020-05-16T20:56:17.689981Z",
     "start_time": "2020-05-16T20:56:17.663912Z"
    },
    "scrolled": true
   },
   "outputs": [
    {
     "data": {
      "text/html": [
       "<div>\n",
       "<style scoped>\n",
       "    .dataframe tbody tr th:only-of-type {\n",
       "        vertical-align: middle;\n",
       "    }\n",
       "\n",
       "    .dataframe tbody tr th {\n",
       "        vertical-align: top;\n",
       "    }\n",
       "\n",
       "    .dataframe thead th {\n",
       "        text-align: right;\n",
       "    }\n",
       "</style>\n",
       "<table border=\"1\" class=\"dataframe\">\n",
       "  <thead>\n",
       "    <tr style=\"text-align: right;\">\n",
       "      <th></th>\n",
       "      <th>reviewerId</th>\n",
       "      <th>asin</th>\n",
       "      <th>rating</th>\n",
       "      <th>summary</th>\n",
       "      <th>total_votes</th>\n",
       "      <th>cos_distance</th>\n",
       "      <th>vote_rank</th>\n",
       "      <th>cos_rank</th>\n",
       "    </tr>\n",
       "  </thead>\n",
       "  <tbody>\n",
       "    <tr>\n",
       "      <td>189</td>\n",
       "      <td>A1F3PBBSHAA2Y9</td>\n",
       "      <td>0002007770</td>\n",
       "      <td>3</td>\n",
       "      <td>Where's the romance?</td>\n",
       "      <td>3</td>\n",
       "      <td>3.496928e-03</td>\n",
       "      <td>252.0</td>\n",
       "      <td>3.0</td>\n",
       "    </tr>\n",
       "    <tr>\n",
       "      <td>239</td>\n",
       "      <td>A3B6FOHAAOL7G3</td>\n",
       "      <td>0002007770</td>\n",
       "      <td>5</td>\n",
       "      <td>Circus, Circa, 1930</td>\n",
       "      <td>7</td>\n",
       "      <td>1.654271e-03</td>\n",
       "      <td>172.5</td>\n",
       "      <td>10.0</td>\n",
       "    </tr>\n",
       "    <tr>\n",
       "      <td>35</td>\n",
       "      <td>AGFNLMUZ09UF1</td>\n",
       "      <td>0002007770</td>\n",
       "      <td>4</td>\n",
       "      <td>Worth reading</td>\n",
       "      <td>1</td>\n",
       "      <td>1.359798e-03</td>\n",
       "      <td>726.0</td>\n",
       "      <td>12.0</td>\n",
       "    </tr>\n",
       "    <tr>\n",
       "      <td>115</td>\n",
       "      <td>A1UFV4HALV2OXW</td>\n",
       "      <td>0002007770</td>\n",
       "      <td>5</td>\n",
       "      <td>Wonderful story.</td>\n",
       "      <td>1</td>\n",
       "      <td>1.356055e-03</td>\n",
       "      <td>907.5</td>\n",
       "      <td>20.0</td>\n",
       "    </tr>\n",
       "    <tr>\n",
       "      <td>65</td>\n",
       "      <td>AGZK126DNQ2FN</td>\n",
       "      <td>0002007770</td>\n",
       "      <td>5</td>\n",
       "      <td>A story not to be missed</td>\n",
       "      <td>1</td>\n",
       "      <td>1.243148e-03</td>\n",
       "      <td>907.5</td>\n",
       "      <td>25.0</td>\n",
       "    </tr>\n",
       "    <tr>\n",
       "      <td>...</td>\n",
       "      <td>...</td>\n",
       "      <td>...</td>\n",
       "      <td>...</td>\n",
       "      <td>...</td>\n",
       "      <td>...</td>\n",
       "      <td>...</td>\n",
       "      <td>...</td>\n",
       "      <td>...</td>\n",
       "    </tr>\n",
       "    <tr>\n",
       "      <td>11</td>\n",
       "      <td>A21NVBFIEQWDSG</td>\n",
       "      <td>0002007770</td>\n",
       "      <td>5</td>\n",
       "      <td>A 5-star read in any season</td>\n",
       "      <td>3</td>\n",
       "      <td>2.817721e-08</td>\n",
       "      <td>420.0</td>\n",
       "      <td>1295.0</td>\n",
       "    </tr>\n",
       "    <tr>\n",
       "      <td>136</td>\n",
       "      <td>A2ECPW4RA7NWMP</td>\n",
       "      <td>0002007770</td>\n",
       "      <td>4</td>\n",
       "      <td>Quick, Fun, But a Little Thin</td>\n",
       "      <td>6</td>\n",
       "      <td>1.453352e-08</td>\n",
       "      <td>166.0</td>\n",
       "      <td>1040.0</td>\n",
       "    </tr>\n",
       "    <tr>\n",
       "      <td>17</td>\n",
       "      <td>A75W6T9I2S8BA</td>\n",
       "      <td>0002007770</td>\n",
       "      <td>5</td>\n",
       "      <td>The Perfect Gift for Almost Everyone!</td>\n",
       "      <td>18</td>\n",
       "      <td>1.340006e-08</td>\n",
       "      <td>75.0</td>\n",
       "      <td>1305.0</td>\n",
       "    </tr>\n",
       "    <tr>\n",
       "      <td>32</td>\n",
       "      <td>A7SSCDSCM4PXF</td>\n",
       "      <td>0002007770</td>\n",
       "      <td>3</td>\n",
       "      <td>I wish I could say</td>\n",
       "      <td>2</td>\n",
       "      <td>7.656516e-09</td>\n",
       "      <td>345.0</td>\n",
       "      <td>786.0</td>\n",
       "    </tr>\n",
       "    <tr>\n",
       "      <td>25</td>\n",
       "      <td>A1PKJUAQFGNLSX</td>\n",
       "      <td>0002007770</td>\n",
       "      <td>5</td>\n",
       "      <td>A Wonderful Read</td>\n",
       "      <td>2</td>\n",
       "      <td>3.806073e-09</td>\n",
       "      <td>575.0</td>\n",
       "      <td>1315.0</td>\n",
       "    </tr>\n",
       "  </tbody>\n",
       "</table>\n",
       "<p>269 rows × 8 columns</p>\n",
       "</div>"
      ],
      "text/plain": [
       "         reviewerId        asin  rating  \\\n",
       "189  A1F3PBBSHAA2Y9  0002007770       3   \n",
       "239  A3B6FOHAAOL7G3  0002007770       5   \n",
       "35    AGFNLMUZ09UF1  0002007770       4   \n",
       "115  A1UFV4HALV2OXW  0002007770       5   \n",
       "65    AGZK126DNQ2FN  0002007770       5   \n",
       "..              ...         ...     ...   \n",
       "11   A21NVBFIEQWDSG  0002007770       5   \n",
       "136  A2ECPW4RA7NWMP  0002007770       4   \n",
       "17    A75W6T9I2S8BA  0002007770       5   \n",
       "32    A7SSCDSCM4PXF  0002007770       3   \n",
       "25   A1PKJUAQFGNLSX  0002007770       5   \n",
       "\n",
       "                                   summary  total_votes  cos_distance  \\\n",
       "189                   Where's the romance?            3  3.496928e-03   \n",
       "239                    Circus, Circa, 1930            7  1.654271e-03   \n",
       "35                           Worth reading            1  1.359798e-03   \n",
       "115                       Wonderful story.            1  1.356055e-03   \n",
       "65                A story not to be missed            1  1.243148e-03   \n",
       "..                                     ...          ...           ...   \n",
       "11             A 5-star read in any season            3  2.817721e-08   \n",
       "136          Quick, Fun, But a Little Thin            6  1.453352e-08   \n",
       "17   The Perfect Gift for Almost Everyone!           18  1.340006e-08   \n",
       "32                      I wish I could say            2  7.656516e-09   \n",
       "25                        A Wonderful Read            2  3.806073e-09   \n",
       "\n",
       "     vote_rank  cos_rank  \n",
       "189      252.0       3.0  \n",
       "239      172.5      10.0  \n",
       "35       726.0      12.0  \n",
       "115      907.5      20.0  \n",
       "65       907.5      25.0  \n",
       "..         ...       ...  \n",
       "11       420.0    1295.0  \n",
       "136      166.0    1040.0  \n",
       "17        75.0    1305.0  \n",
       "32       345.0     786.0  \n",
       "25       575.0    1315.0  \n",
       "\n",
       "[269 rows x 8 columns]"
      ]
     },
     "execution_count": 86,
     "metadata": {},
     "output_type": "execute_result"
    }
   ],
   "source": [
    "reviews_example['cos_rank'] = reviews_example['cos_distance'].rank(method = 'dense', ascending=False)*reviews_example['rating']\n",
    "reviews_example.sort_values(by='cos_distance', ascending = False)"
   ]
  },
  {
   "cell_type": "code",
   "execution_count": 87,
   "metadata": {
    "ExecuteTime": {
     "end_time": "2020-05-16T20:56:25.721323Z",
     "start_time": "2020-05-16T20:56:25.715691Z"
    }
   },
   "outputs": [
    {
     "name": "stdout",
     "output_type": "stream",
     "text": [
      "160657.5\n",
      "156235.0\n",
      "4422.5\n"
     ]
    }
   ],
   "source": [
    "print(reviews_example['vote_rank'].sum())\n",
    "print(reviews_example['cos_rank'].sum())\n",
    "print(reviews_example['vote_rank'].sum()-reviews_example['cos_rank'].sum())"
   ]
  },
  {
   "cell_type": "markdown",
   "metadata": {},
   "source": [
    "## Calculating the impact of the model"
   ]
  },
  {
   "cell_type": "code",
   "execution_count": 94,
   "metadata": {
    "ExecuteTime": {
     "end_time": "2020-05-17T09:47:32.244500Z",
     "start_time": "2020-05-17T09:47:32.134027Z"
    }
   },
   "outputs": [],
   "source": [
    "impact_df = pd.read_csv('/Volumes/external/Sangeetha-Project/impact.csv.gz', \n",
    "                        names =['reviewerId', 'book', 'impact'])"
   ]
  },
  {
   "cell_type": "code",
   "execution_count": 95,
   "metadata": {
    "ExecuteTime": {
     "end_time": "2020-05-17T09:47:46.654471Z",
     "start_time": "2020-05-17T09:47:46.639692Z"
    },
    "scrolled": true
   },
   "outputs": [
    {
     "data": {
      "text/html": [
       "<div>\n",
       "<style scoped>\n",
       "    .dataframe tbody tr th:only-of-type {\n",
       "        vertical-align: middle;\n",
       "    }\n",
       "\n",
       "    .dataframe tbody tr th {\n",
       "        vertical-align: top;\n",
       "    }\n",
       "\n",
       "    .dataframe thead th {\n",
       "        text-align: right;\n",
       "    }\n",
       "</style>\n",
       "<table border=\"1\" class=\"dataframe\">\n",
       "  <thead>\n",
       "    <tr style=\"text-align: right;\">\n",
       "      <th></th>\n",
       "      <th>reviewerId</th>\n",
       "      <th>book</th>\n",
       "      <th>impact</th>\n",
       "    </tr>\n",
       "  </thead>\n",
       "  <tbody>\n",
       "    <tr>\n",
       "      <td>0</td>\n",
       "      <td>A2S166WSCFIFP5</td>\n",
       "      <td>0002007770</td>\n",
       "      <td>4422.5</td>\n",
       "    </tr>\n",
       "    <tr>\n",
       "      <td>1</td>\n",
       "      <td>A2S166WSCFIFP5</td>\n",
       "      <td>0002051850</td>\n",
       "      <td>376.0</td>\n",
       "    </tr>\n",
       "    <tr>\n",
       "      <td>2</td>\n",
       "      <td>A2S166WSCFIFP5</td>\n",
       "      <td>0002219417</td>\n",
       "      <td>3.5</td>\n",
       "    </tr>\n",
       "    <tr>\n",
       "      <td>3</td>\n",
       "      <td>A2S166WSCFIFP5</td>\n",
       "      <td>000222383X</td>\n",
       "      <td>1.0</td>\n",
       "    </tr>\n",
       "    <tr>\n",
       "      <td>4</td>\n",
       "      <td>A2S166WSCFIFP5</td>\n",
       "      <td>000224053X</td>\n",
       "      <td>30.5</td>\n",
       "    </tr>\n",
       "  </tbody>\n",
       "</table>\n",
       "</div>"
      ],
      "text/plain": [
       "       reviewerId        book  impact\n",
       "0  A2S166WSCFIFP5  0002007770  4422.5\n",
       "1  A2S166WSCFIFP5  0002051850   376.0\n",
       "2  A2S166WSCFIFP5  0002219417     3.5\n",
       "3  A2S166WSCFIFP5  000222383X     1.0\n",
       "4  A2S166WSCFIFP5  000224053X    30.5"
      ]
     },
     "execution_count": 95,
     "metadata": {},
     "output_type": "execute_result"
    }
   ],
   "source": [
    "impact_df.head()"
   ]
  },
  {
   "cell_type": "code",
   "execution_count": 99,
   "metadata": {
    "ExecuteTime": {
     "end_time": "2020-05-17T09:50:47.217618Z",
     "start_time": "2020-05-17T09:50:47.195571Z"
    }
   },
   "outputs": [
    {
     "name": "stdout",
     "output_type": "stream",
     "text": [
      "<class 'pandas.core.frame.DataFrame'>\n",
      "RangeIndex: 115000 entries, 0 to 114999\n",
      "Data columns (total 3 columns):\n",
      "reviewerId    115000 non-null object\n",
      "book          115000 non-null object\n",
      "impact        115000 non-null float64\n",
      "dtypes: float64(1), object(2)\n",
      "memory usage: 2.6+ MB\n"
     ]
    }
   ],
   "source": [
    "impact_df.info()"
   ]
  },
  {
   "cell_type": "code",
   "execution_count": 98,
   "metadata": {
    "ExecuteTime": {
     "end_time": "2020-05-17T09:50:36.452030Z",
     "start_time": "2020-05-17T09:50:36.400193Z"
    }
   },
   "outputs": [
    {
     "data": {
      "text/plain": [
       "35.22292608695652"
      ]
     },
     "execution_count": 98,
     "metadata": {},
     "output_type": "execute_result"
    }
   ],
   "source": [
    "impact_df.impact.mean()"
   ]
  },
  {
   "cell_type": "code",
   "execution_count": 100,
   "metadata": {
    "ExecuteTime": {
     "end_time": "2020-05-17T09:52:48.958994Z",
     "start_time": "2020-05-17T09:52:48.950656Z"
    }
   },
   "outputs": [
    {
     "data": {
      "text/plain": [
       "-2965.0"
      ]
     },
     "execution_count": 100,
     "metadata": {},
     "output_type": "execute_result"
    }
   ],
   "source": [
    "impact_df.impact.min()"
   ]
  },
  {
   "cell_type": "code",
   "execution_count": 101,
   "metadata": {
    "ExecuteTime": {
     "end_time": "2020-05-17T09:52:54.483464Z",
     "start_time": "2020-05-17T09:52:54.476569Z"
    }
   },
   "outputs": [
    {
     "data": {
      "text/plain": [
       "49964.0"
      ]
     },
     "execution_count": 101,
     "metadata": {},
     "output_type": "execute_result"
    }
   ],
   "source": [
    "impact_df.impact.max()"
   ]
  },
  {
   "cell_type": "code",
   "execution_count": 97,
   "metadata": {
    "ExecuteTime": {
     "end_time": "2020-05-17T09:49:52.221390Z",
     "start_time": "2020-05-17T09:49:52.207097Z"
    },
    "scrolled": false
   },
   "outputs": [],
   "source": [
    "impact = []\n",
    "counter = 0\n",
    "\n",
    "for user_ in df_sub.reviewerId.unique():\n",
    "\n",
    "    # get all the books the user hasn't read\n",
    "    read_books = df_sub[df_sub.reviewerId == user_].asin\n",
    "    unread_books = [x for x in df_sub.asin.unique()\n",
    "                    if x not in read_books.values]\n",
    "\n",
    "    # For each book in this list, calculate the impact\n",
    "    for book_ in unread_books:\n",
    "\n",
    "        # every 30000 rows write to csv and clear the impact list for memory management\n",
    "        print(counter)\n",
    "        '''if counter == 5000:\n",
    "            section_df = pd.DataFrame(impact)\n",
    "            section_df.to_csv('/Volumes/external/Sangeetha-Project/impact.csv.gz', compression='gzip',\n",
    "                              header=False, mode='a', index=False)\n",
    "            impact = []\n",
    "            counter = 0\n",
    "'''\n",
    "        counter += 1\n",
    "\n",
    "        # get all the reviewers who have reviewed the book\n",
    "        relevant_reviews = df_sub[df_sub.asin == book_].copy()\n",
    "\n",
    "        # for each reviewer in the reviewers who have rated the book calculate the cosine similarities\n",
    "        distances_ = []\n",
    "        for reviewer_ in relevant_reviews.reviewerId:\n",
    "\n",
    "            distances_.append(scipy.spatial.distance.cosine(baseline_est.loc[user_, :].values,\n",
    "                                                            baseline_est.loc[reviewer_, :].values))\n",
    "\n",
    "        relevant_reviews['cos_dist'] = distances_\n",
    "\n",
    "        # Calculate the rank*rating for total votes\n",
    "        relevant_reviews['vote_rank'] = relevant_reviews['total_votes'].rank(\n",
    "            method='average', ascending=False)*relevant_reviews['rating']\n",
    "\n",
    "        # Calculate the rank*rating for cosine_distances\n",
    "        relevant_reviews['cos_rank'] = relevant_reviews['cos_dist'].rank(\n",
    "            method='dense', ascending=False)*relevant_reviews['rating']\n",
    "\n",
    "        # add the result (impact) of each user-item pair to the final list\n",
    "        impact.append((user_, book_, relevant_reviews['vote_rank'].sum(\n",
    "        ) - relevant_reviews['cos_rank'].sum()))"
   ]
  },
  {
   "cell_type": "markdown",
   "metadata": {},
   "source": [
    "## Calculating user similarities - dont run this"
   ]
  },
  {
   "cell_type": "code",
   "execution_count": null,
   "metadata": {},
   "outputs": [],
   "source": [
    "predictions = pd.read_csv('/Volumes/external/Sangeetha-Project/pred_cosine_sim.csv.gz', index_col=0,\n",
    "                       compression='gzip')"
   ]
  },
  {
   "cell_type": "code",
   "execution_count": 83,
   "metadata": {
    "ExecuteTime": {
     "end_time": "2020-05-10T22:29:23.924940Z",
     "start_time": "2020-05-10T22:29:23.918053Z"
    }
   },
   "outputs": [],
   "source": [
    "mat = predictions.values\n",
    "\n",
    "#Pick a user\n",
    "#user = 'A102Z3T7NSM5KC'\n",
    "#user_val = predictions.index.get_loc(user)\n",
    "\n",
    "user_val = 78\n",
    "user = predictions.index[user_val]"
   ]
  },
  {
   "cell_type": "markdown",
   "metadata": {},
   "source": [
    "This goes through each row in the matrix, subtracts your row of choice from the each row of the matrix (elementwise) \n",
    "nd squares each element in each row for all rows in the matrix. How is this the cosine distance?"
   ]
  },
  {
   "cell_type": "code",
   "execution_count": 84,
   "metadata": {
    "ExecuteTime": {
     "end_time": "2020-05-10T22:30:04.835214Z",
     "start_time": "2020-05-10T22:30:04.308283Z"
    }
   },
   "outputs": [],
   "source": [
    "#Calculate the distances\n",
    "\n",
    "distances = []\n",
    "\n",
    "for row in mat:\n",
    "    distancess.append(scipy.spatial.distance.cosine(mat[user_val,:], row))\n",
    "distances"
   ]
  },
  {
   "cell_type": "code",
   "execution_count": 85,
   "metadata": {
    "ExecuteTime": {
     "end_time": "2020-05-10T22:30:41.067156Z",
     "start_time": "2020-05-10T22:30:41.056750Z"
    },
    "scrolled": true
   },
   "outputs": [
    {
     "data": {
      "text/plain": [
       "1492"
      ]
     },
     "execution_count": 85,
     "metadata": {},
     "output_type": "execute_result"
    }
   ],
   "source": [
    "#Find the closest neighbour\n",
    "closest_n = np.argpartition(distances, 1)[1]\n",
    "closest_n"
   ]
  },
  {
   "cell_type": "code",
   "execution_count": 86,
   "metadata": {
    "ExecuteTime": {
     "end_time": "2020-05-10T22:31:20.732729Z",
     "start_time": "2020-05-10T22:31:20.722440Z"
    },
    "scrolled": true
   },
   "outputs": [
    {
     "data": {
      "text/plain": [
       "'A368INKWDUYHMK'"
      ]
     },
     "execution_count": 86,
     "metadata": {},
     "output_type": "execute_result"
    }
   ],
   "source": [
    "cloest_n_id = predictions.index[closest_n]\n",
    "cloest_n_id"
   ]
  },
  {
   "cell_type": "code",
   "execution_count": 88,
   "metadata": {
    "ExecuteTime": {
     "end_time": "2020-05-10T22:32:22.234602Z",
     "start_time": "2020-05-10T22:32:22.225685Z"
    }
   },
   "outputs": [
    {
     "data": {
      "text/plain": [
       "192.08513160657645"
      ]
     },
     "execution_count": 88,
     "metadata": {},
     "output_type": "execute_result"
    }
   ],
   "source": [
    "distances[closest_n]"
   ]
  },
  {
   "cell_type": "code",
   "execution_count": 89,
   "metadata": {
    "ExecuteTime": {
     "end_time": "2020-05-10T22:32:59.830458Z",
     "start_time": "2020-05-10T22:32:59.819362Z"
    },
    "scrolled": true
   },
   "outputs": [
    {
     "data": {
      "text/plain": [
       "192.085131606613"
      ]
     },
     "execution_count": 89,
     "metadata": {},
     "output_type": "execute_result"
    }
   ],
   "source": [
    "np.nansum((mat[closest_n,:] - mat[user_val,:])**2)"
   ]
  },
  {
   "cell_type": "code",
   "execution_count": 91,
   "metadata": {
    "ExecuteTime": {
     "end_time": "2020-05-10T22:34:12.162096Z",
     "start_time": "2020-05-10T22:34:12.154478Z"
    },
    "scrolled": true
   },
   "outputs": [
    {
     "data": {
      "text/plain": [
       "True"
      ]
     },
     "execution_count": 91,
     "metadata": {},
     "output_type": "execute_result"
    }
   ],
   "source": [
    "#To check if the distances have been calculated correctly\n",
    "np.isclose(distances[closest_n], np.nansum((mat[closest_n,:] - mat[user_val,:])**2))"
   ]
  }
 ],
 "metadata": {
  "kernelspec": {
   "display_name": "Python 3",
   "language": "python",
   "name": "python3"
  },
  "language_info": {
   "codemirror_mode": {
    "name": "ipython",
    "version": 3
   },
   "file_extension": ".py",
   "mimetype": "text/x-python",
   "name": "python",
   "nbconvert_exporter": "python",
   "pygments_lexer": "ipython3",
   "version": "3.7.4"
  },
  "toc": {
   "base_numbering": 1,
   "nav_menu": {},
   "number_sections": true,
   "sideBar": true,
   "skip_h1_title": false,
   "title_cell": "Table of Contents",
   "title_sidebar": "Contents",
   "toc_cell": false,
   "toc_position": {},
   "toc_section_display": true,
   "toc_window_display": false
  },
  "varInspector": {
   "cols": {
    "lenName": 16,
    "lenType": 16,
    "lenVar": 40
   },
   "kernels_config": {
    "python": {
     "delete_cmd_postfix": "",
     "delete_cmd_prefix": "del ",
     "library": "var_list.py",
     "varRefreshCmd": "print(var_dic_list())"
    },
    "r": {
     "delete_cmd_postfix": ") ",
     "delete_cmd_prefix": "rm(",
     "library": "var_list.r",
     "varRefreshCmd": "cat(var_dic_list()) "
    }
   },
   "types_to_exclude": [
    "module",
    "function",
    "builtin_function_or_method",
    "instance",
    "_Feature"
   ],
   "window_display": false
  }
 },
 "nbformat": 4,
 "nbformat_minor": 2
}
