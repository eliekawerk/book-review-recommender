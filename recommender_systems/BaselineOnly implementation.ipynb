{
 "cells": [
  {
   "cell_type": "code",
   "execution_count": 1,
   "metadata": {
    "ExecuteTime": {
     "end_time": "2020-05-17T17:33:01.880118Z",
     "start_time": "2020-05-17T17:32:59.419999Z"
    }
   },
   "outputs": [],
   "source": [
    "import pandas as pd \n",
    "import numpy as np \n",
    "import matplotlib.pyplot as plt\n",
    "import seaborn as sns\n",
    "import random\n",
    "import scipy.spatial.distance\n",
    "import surprise as sur\n",
    "sns.set(font_scale=1.5)\n",
    "plt.style.use('fivethirtyeight')\n",
    "\n",
    "\n",
    "%matplotlib inline\n",
    "%config InlineBackend.figure_format = 'retina'"
   ]
  },
  {
   "cell_type": "markdown",
   "metadata": {},
   "source": [
    "## Load in the data"
   ]
  },
  {
   "cell_type": "code",
   "execution_count": 4,
   "metadata": {
    "ExecuteTime": {
     "end_time": "2020-05-17T17:33:06.822141Z",
     "start_time": "2020-05-17T17:33:06.142428Z"
    }
   },
   "outputs": [],
   "source": [
    "df= pd.read_csv('/Volumes/external/Sangeetha-Project/df_sub.csv.gz', \n",
    "                       compression='gzip').astype({'rating':'int8', 'total_votes':'int32'})"
   ]
  },
  {
   "cell_type": "code",
   "execution_count": 5,
   "metadata": {
    "ExecuteTime": {
     "end_time": "2020-05-17T17:33:07.119409Z",
     "start_time": "2020-05-17T17:33:07.051788Z"
    }
   },
   "outputs": [
    {
     "name": "stdout",
     "output_type": "stream",
     "text": [
      "<class 'pandas.core.frame.DataFrame'>\n",
      "RangeIndex: 273661 entries, 0 to 273660\n",
      "Data columns (total 5 columns):\n",
      "reviewerId     273661 non-null object\n",
      "asin           273661 non-null object\n",
      "rating         273661 non-null int8\n",
      "summary        273661 non-null object\n",
      "total_votes    273661 non-null int32\n",
      "dtypes: int32(1), int8(1), object(3)\n",
      "memory usage: 7.6+ MB\n"
     ]
    }
   ],
   "source": [
    "df.info()"
   ]
  },
  {
   "cell_type": "code",
   "execution_count": 6,
   "metadata": {
    "ExecuteTime": {
     "end_time": "2020-05-17T17:33:07.807681Z",
     "start_time": "2020-05-17T17:33:07.521828Z"
    },
    "scrolled": true
   },
   "outputs": [
    {
     "data": {
      "text/plain": [
       "10982"
      ]
     },
     "execution_count": 6,
     "metadata": {},
     "output_type": "execute_result"
    }
   ],
   "source": [
    "len(np.unique(df.asin))"
   ]
  },
  {
   "cell_type": "code",
   "execution_count": 7,
   "metadata": {
    "ExecuteTime": {
     "end_time": "2020-05-17T17:33:08.410890Z",
     "start_time": "2020-05-17T17:33:08.104243Z"
    }
   },
   "outputs": [
    {
     "data": {
      "text/plain": [
       "2647"
      ]
     },
     "execution_count": 7,
     "metadata": {},
     "output_type": "execute_result"
    }
   ],
   "source": [
    "len(np.unique(df.reviewerId))"
   ]
  },
  {
   "cell_type": "code",
   "execution_count": 8,
   "metadata": {
    "ExecuteTime": {
     "end_time": "2020-05-17T17:33:08.768896Z",
     "start_time": "2020-05-17T17:33:08.748446Z"
    },
    "scrolled": true
   },
   "outputs": [
    {
     "data": {
      "text/html": [
       "<div>\n",
       "<style scoped>\n",
       "    .dataframe tbody tr th:only-of-type {\n",
       "        vertical-align: middle;\n",
       "    }\n",
       "\n",
       "    .dataframe tbody tr th {\n",
       "        vertical-align: top;\n",
       "    }\n",
       "\n",
       "    .dataframe thead th {\n",
       "        text-align: right;\n",
       "    }\n",
       "</style>\n",
       "<table border=\"1\" class=\"dataframe\">\n",
       "  <thead>\n",
       "    <tr style=\"text-align: right;\">\n",
       "      <th></th>\n",
       "      <th>reviewerId</th>\n",
       "      <th>asin</th>\n",
       "      <th>rating</th>\n",
       "      <th>summary</th>\n",
       "      <th>total_votes</th>\n",
       "    </tr>\n",
       "  </thead>\n",
       "  <tbody>\n",
       "    <tr>\n",
       "      <td>0</td>\n",
       "      <td>A2S166WSCFIFP5</td>\n",
       "      <td>000100039X</td>\n",
       "      <td>5</td>\n",
       "      <td>close to god</td>\n",
       "      <td>2</td>\n",
       "    </tr>\n",
       "    <tr>\n",
       "      <td>1</td>\n",
       "      <td>AWLFVCT9128JV</td>\n",
       "      <td>000100039X</td>\n",
       "      <td>5</td>\n",
       "      <td>The Lessons Of Life</td>\n",
       "      <td>10</td>\n",
       "    </tr>\n",
       "    <tr>\n",
       "      <td>2</td>\n",
       "      <td>A2NHD7LUXVGTD3</td>\n",
       "      <td>000100039X</td>\n",
       "      <td>5</td>\n",
       "      <td>a beautiful poetic commentary on what it is to...</td>\n",
       "      <td>1</td>\n",
       "    </tr>\n",
       "    <tr>\n",
       "      <td>3</td>\n",
       "      <td>A1K1JW1C5CUSUZ</td>\n",
       "      <td>000100039X</td>\n",
       "      <td>5</td>\n",
       "      <td>Transcend Human Subjectivity to Find Godlike O...</td>\n",
       "      <td>4</td>\n",
       "    </tr>\n",
       "    <tr>\n",
       "      <td>4</td>\n",
       "      <td>A38AAPXSJN4C5G</td>\n",
       "      <td>000100039X</td>\n",
       "      <td>5</td>\n",
       "      <td>Inspired and Inspiring</td>\n",
       "      <td>0</td>\n",
       "    </tr>\n",
       "  </tbody>\n",
       "</table>\n",
       "</div>"
      ],
      "text/plain": [
       "       reviewerId        asin  rating  \\\n",
       "0  A2S166WSCFIFP5  000100039X       5   \n",
       "1   AWLFVCT9128JV  000100039X       5   \n",
       "2  A2NHD7LUXVGTD3  000100039X       5   \n",
       "3  A1K1JW1C5CUSUZ  000100039X       5   \n",
       "4  A38AAPXSJN4C5G  000100039X       5   \n",
       "\n",
       "                                             summary  total_votes  \n",
       "0                                       close to god            2  \n",
       "1                                The Lessons Of Life           10  \n",
       "2  a beautiful poetic commentary on what it is to...            1  \n",
       "3  Transcend Human Subjectivity to Find Godlike O...            4  \n",
       "4                             Inspired and Inspiring            0  "
      ]
     },
     "execution_count": 8,
     "metadata": {},
     "output_type": "execute_result"
    }
   ],
   "source": [
    "df.head()"
   ]
  },
  {
   "cell_type": "markdown",
   "metadata": {},
   "source": [
    "## Read in the data as a DataSet"
   ]
  },
  {
   "cell_type": "code",
   "execution_count": 9,
   "metadata": {
    "ExecuteTime": {
     "end_time": "2020-05-17T17:33:09.612001Z",
     "start_time": "2020-05-17T17:33:09.037874Z"
    }
   },
   "outputs": [],
   "source": [
    "reader = sur.Reader(rating_scale=(1,5))\n",
    "data = sur.Dataset.load_from_df(df[['reviewerId', 'asin','rating']], reader)"
   ]
  },
  {
   "cell_type": "markdown",
   "metadata": {},
   "source": [
    "I used this method to quickly obtain the top 4 algos that I should focus on. Using these four algos, I gridsearched them but spliting them into train and test set of split size 0.9 and 0.1."
   ]
  },
  {
   "cell_type": "markdown",
   "metadata": {},
   "source": [
    "## Fitting the model - 0.8527922039787805"
   ]
  },
  {
   "cell_type": "code",
   "execution_count": 10,
   "metadata": {
    "ExecuteTime": {
     "end_time": "2020-05-17T17:33:14.115131Z",
     "start_time": "2020-05-17T17:33:14.098787Z"
    }
   },
   "outputs": [],
   "source": [
    "bsl_options = {'method': 'als',\n",
    "               'n_epochs': 20,\n",
    "               'reg_i': 4,\n",
    "               'reg_u': 4,\n",
    "               }\n",
    "\n",
    "algo = sur.BaselineOnly(bsl_options=bsl_options)"
   ]
  },
  {
   "cell_type": "code",
   "execution_count": 11,
   "metadata": {
    "ExecuteTime": {
     "end_time": "2020-05-17T17:33:28.833982Z",
     "start_time": "2020-05-17T17:33:28.511192Z"
    }
   },
   "outputs": [
    {
     "name": "stdout",
     "output_type": "stream",
     "text": [
      "246294\n",
      "27367\n"
     ]
    }
   ],
   "source": [
    "raw_ratings = data.raw_ratings\n",
    "\n",
    "#shuffle ratings if you want\n",
    "np.random.seed(1)\n",
    "random.shuffle(raw_ratings)\n",
    "\n",
    "\n",
    "#section the data into training set and test set\n",
    "threshold = int(.9 * len(raw_ratings))\n",
    "A_raw_ratings = raw_ratings[:threshold]\n",
    "B_raw_ratings = raw_ratings[threshold:]\n",
    "\n",
    "print(len(A_raw_ratings))\n",
    "print(len(B_raw_ratings))\n",
    "\n",
    "#make the raw ratings contain only the training set\n",
    "data.raw_ratings = A_raw_ratings"
   ]
  },
  {
   "cell_type": "code",
   "execution_count": 12,
   "metadata": {
    "ExecuteTime": {
     "end_time": "2020-05-17T17:33:41.055407Z",
     "start_time": "2020-05-17T17:33:38.642068Z"
    }
   },
   "outputs": [
    {
     "name": "stdout",
     "output_type": "stream",
     "text": [
      "Estimating biases using als...\n"
     ]
    },
    {
     "data": {
      "text/plain": [
       "<surprise.prediction_algorithms.baseline_only.BaselineOnly at 0x106fbecd0>"
      ]
     },
     "execution_count": 12,
     "metadata": {},
     "output_type": "execute_result"
    }
   ],
   "source": [
    "#Built a trainset out the training set\n",
    "trainset = data.build_full_trainset()\n",
    "algo.fit(trainset)"
   ]
  },
  {
   "cell_type": "code",
   "execution_count": 13,
   "metadata": {
    "ExecuteTime": {
     "end_time": "2020-05-17T17:33:51.712592Z",
     "start_time": "2020-05-17T17:33:47.672654Z"
    }
   },
   "outputs": [
    {
     "name": "stdout",
     "output_type": "stream",
     "text": [
      "Training score    RMSE: 0.8089\n",
      "0.8088931782771778\n"
     ]
    }
   ],
   "source": [
    "# Compute score on training set\n",
    "trainset_build = trainset.build_testset()\n",
    "predictions_train = algo.test(trainset_build)\n",
    "\n",
    "print('Training score ', end='   ')\n",
    "print(sur.accuracy.rmse(predictions_train))"
   ]
  },
  {
   "cell_type": "code",
   "execution_count": 14,
   "metadata": {
    "ExecuteTime": {
     "end_time": "2020-05-17T17:34:09.568658Z",
     "start_time": "2020-05-17T17:34:09.324729Z"
    }
   },
   "outputs": [
    {
     "name": "stdout",
     "output_type": "stream",
     "text": [
      "Test score (rated items)  RMSE: 0.8421\n",
      "0.8420917910018215\n"
     ]
    }
   ],
   "source": [
    "# Compute score on rated test set\n",
    "testset = data.construct_testset(B_raw_ratings)  # testset is now the set B\n",
    "predictions_test = algo.test(testset)\n",
    "print('Test score (rated items) ', end=' ')\n",
    "print(sur.accuracy.rmse(predictions_test))"
   ]
  },
  {
   "cell_type": "markdown",
   "metadata": {},
   "source": [
    "## Calculating the user item matrix"
   ]
  },
  {
   "cell_type": "code",
   "execution_count": 15,
   "metadata": {
    "ExecuteTime": {
     "end_time": "2020-05-17T17:34:35.672316Z",
     "start_time": "2020-05-17T17:34:28.887747Z"
    }
   },
   "outputs": [
    {
     "name": "stdout",
     "output_type": "stream",
     "text": [
      "Estimating biases using als...\n",
      "Training score    RMSE: 0.8100\n",
      "0.8100039279363411\n"
     ]
    }
   ],
   "source": [
    "data.raw_ratings = raw_ratings\n",
    "\n",
    "#Built a trainset using the full data\n",
    "trainset_full = data.build_full_trainset()\n",
    "algo.fit(trainset_full)\n",
    "\n",
    "# Compute score on training set\n",
    "trainset_full_build = trainset_full.build_testset()\n",
    "predictions_full_train = algo.test(trainset_full_build)\n",
    "\n",
    "print('Training score ', end='   ')\n",
    "print(sur.accuracy.rmse(predictions_full_train))"
   ]
  },
  {
   "cell_type": "code",
   "execution_count": 17,
   "metadata": {
    "ExecuteTime": {
     "end_time": "2020-05-17T18:04:37.001807Z",
     "start_time": "2020-05-17T18:04:36.866668Z"
    }
   },
   "outputs": [
    {
     "name": "stdout",
     "output_type": "stream",
     "text": [
      "4.089157753571024\n"
     ]
    }
   ],
   "source": [
    "mu = algo.default_prediction()\n",
    "print(mu)\n",
    "full_pred = mu + algo.bu.reshape(-1, 1) + algo.bi.reshape(1, -1)"
   ]
  },
  {
   "cell_type": "code",
   "execution_count": 18,
   "metadata": {
    "ExecuteTime": {
     "end_time": "2020-05-17T18:05:00.529058Z",
     "start_time": "2020-05-17T18:05:00.234683Z"
    },
    "scrolled": false
   },
   "outputs": [
    {
     "data": {
      "text/plain": [
       "[('A100NGGXRQF0AQ', 1699, -0.028663511478524202),\n",
       " ('A102Z3T7NSM5KC', 134, 0.06436157233892911),\n",
       " ('A106016KSI0YQ', 1937, -0.47443014958425983),\n",
       " ('A106E1N0ZQ4D9W', 918, 0.16208264542733108),\n",
       " ('A10BZSGALQPS0V', 2112, -0.30592575596839156)]"
      ]
     },
     "execution_count": 18,
     "metadata": {},
     "output_type": "execute_result"
    }
   ],
   "source": [
    "user_baselines=[]\n",
    "\n",
    "for user in np.unique(df.reviewerId):\n",
    "    user_baselines.append((user, trainset_full.to_inner_uid(user), algo.bu[trainset_full.to_inner_uid(user)]))\n",
    "\n",
    "user_baselines[:5]\n"
   ]
  },
  {
   "cell_type": "code",
   "execution_count": 19,
   "metadata": {
    "ExecuteTime": {
     "end_time": "2020-05-17T18:05:24.486219Z",
     "start_time": "2020-05-17T18:05:24.455804Z"
    },
    "scrolled": false
   },
   "outputs": [
    {
     "data": {
      "text/plain": [
       "2647"
      ]
     },
     "execution_count": 19,
     "metadata": {},
     "output_type": "execute_result"
    }
   ],
   "source": [
    "len(user_baselines)"
   ]
  },
  {
   "cell_type": "code",
   "execution_count": 20,
   "metadata": {
    "ExecuteTime": {
     "end_time": "2020-05-17T18:05:48.405469Z",
     "start_time": "2020-05-17T18:05:48.148874Z"
    },
    "scrolled": false
   },
   "outputs": [
    {
     "data": {
      "text/plain": [
       "[('000100039X', 9051, 0.29767752282567267),\n",
       " ('0002007770', 1372, 0.3285301439426249),\n",
       " ('0002051850', 2041, 0.3421724601050048),\n",
       " ('0002219417', 1484, 0.49449610293689394),\n",
       " ('000222383X', 6799, 0.419044973967076)]"
      ]
     },
     "execution_count": 20,
     "metadata": {},
     "output_type": "execute_result"
    }
   ],
   "source": [
    "item_baselines=[]\n",
    "\n",
    "for item in np.unique(df.asin):\n",
    "    item_baselines.append((item, trainset_full.to_inner_iid(item), algo.bi[trainset_full.to_inner_iid(item)]))\n",
    "\n",
    "item_baselines[:5]"
   ]
  },
  {
   "cell_type": "code",
   "execution_count": 21,
   "metadata": {
    "ExecuteTime": {
     "end_time": "2020-05-17T18:06:12.176755Z",
     "start_time": "2020-05-17T18:06:12.140113Z"
    }
   },
   "outputs": [
    {
     "data": {
      "text/plain": [
       "10982"
      ]
     },
     "execution_count": 21,
     "metadata": {},
     "output_type": "execute_result"
    }
   ],
   "source": [
    "len(item_baselines)"
   ]
  },
  {
   "cell_type": "code",
   "execution_count": 22,
   "metadata": {
    "ExecuteTime": {
     "end_time": "2020-05-17T18:06:34.031514Z",
     "start_time": "2020-05-17T18:06:33.998498Z"
    }
   },
   "outputs": [],
   "source": [
    "full_pred_df = pd.DataFrame(full_pred, index = [x for x,y,z in sorted(user_baselines, key=lambda x:x[1])], \n",
    "                         columns = [x for x,y,z in sorted(item_baselines, key=lambda x:x[1])])"
   ]
  },
  {
   "cell_type": "code",
   "execution_count": null,
   "metadata": {},
   "outputs": [],
   "source": [
    "full_pred_df[full_pred_df>5] = 5\n",
    "full_pred_df[full_pred_df<1] = 1"
   ]
  },
  {
   "cell_type": "code",
   "execution_count": 23,
   "metadata": {
    "ExecuteTime": {
     "end_time": "2020-05-17T18:09:50.560099Z",
     "start_time": "2020-05-17T18:07:05.596954Z"
    }
   },
   "outputs": [],
   "source": [
    "full_pred_df.to_csv('/Volumes/external/Sangeetha-Project/baselineOnly_est.csv.gz', \n",
    "                    index = True, header=True, compression='gzip')"
   ]
  },
  {
   "cell_type": "code",
   "execution_count": 24,
   "metadata": {
    "ExecuteTime": {
     "end_time": "2020-05-17T18:10:19.903796Z",
     "start_time": "2020-05-17T18:10:19.542949Z"
    }
   },
   "outputs": [],
   "source": [
    "sur.dump.dump('/Volumes/external/Sangeetha-Project/baselineOnly_dump_file', algo=algo)"
   ]
  },
  {
   "cell_type": "markdown",
   "metadata": {},
   "source": [
    "### Checking the user-item matrix"
   ]
  },
  {
   "cell_type": "code",
   "execution_count": 25,
   "metadata": {
    "ExecuteTime": {
     "end_time": "2020-05-17T18:16:35.883012Z",
     "start_time": "2020-05-17T18:16:35.850407Z"
    }
   },
   "outputs": [],
   "source": [
    "item = '0060515198'\n",
    "user = 'A2NHD7LUXVGTD3'"
   ]
  },
  {
   "cell_type": "code",
   "execution_count": 26,
   "metadata": {
    "ExecuteTime": {
     "end_time": "2020-05-17T18:17:05.319221Z",
     "start_time": "2020-05-17T18:17:05.274054Z"
    },
    "scrolled": true
   },
   "outputs": [
    {
     "data": {
      "text/plain": [
       "Prediction(uid='A2NHD7LUXVGTD3', iid='0060515198', r_ui=None, est=4.331345005869336, details={'was_impossible': False})"
      ]
     },
     "execution_count": 26,
     "metadata": {},
     "output_type": "execute_result"
    }
   ],
   "source": [
    "algo.predict('A2NHD7LUXVGTD3', '0060515198')"
   ]
  },
  {
   "cell_type": "code",
   "execution_count": 27,
   "metadata": {
    "ExecuteTime": {
     "end_time": "2020-05-17T18:17:32.182447Z",
     "start_time": "2020-05-17T18:17:32.138130Z"
    },
    "scrolled": false
   },
   "outputs": [
    {
     "data": {
      "text/plain": [
       "4.331345005869336"
      ]
     },
     "execution_count": 27,
     "metadata": {},
     "output_type": "execute_result"
    }
   ],
   "source": [
    "full_pred[trainset_full.to_inner_uid(user), trainset_full.to_inner_iid(item)]"
   ]
  },
  {
   "cell_type": "code",
   "execution_count": 28,
   "metadata": {
    "ExecuteTime": {
     "end_time": "2020-05-17T18:17:59.207335Z",
     "start_time": "2020-05-17T18:17:59.197191Z"
    },
    "scrolled": false
   },
   "outputs": [
    {
     "data": {
      "text/plain": [
       "4.331345005869336"
      ]
     },
     "execution_count": 28,
     "metadata": {},
     "output_type": "execute_result"
    }
   ],
   "source": [
    "full_pred_df.loc[user,item]"
   ]
  },
  {
   "cell_type": "markdown",
   "metadata": {},
   "source": [
    "## Precision@ and Recall@K"
   ]
  },
  {
   "cell_type": "code",
   "execution_count": null,
   "metadata": {},
   "outputs": [],
   "source": []
  },
  {
   "cell_type": "markdown",
   "metadata": {},
   "source": [
    "## Getting top N recommendations"
   ]
  },
  {
   "cell_type": "code",
   "execution_count": null,
   "metadata": {},
   "outputs": [],
   "source": []
  },
  {
   "cell_type": "markdown",
   "metadata": {},
   "source": [
    "## Getting an example working\n"
   ]
  },
  {
   "cell_type": "code",
   "execution_count": null,
   "metadata": {},
   "outputs": [],
   "source": []
  },
  {
   "cell_type": "markdown",
   "metadata": {},
   "source": [
    "## Similarities module\n"
   ]
  },
  {
   "cell_type": "code",
   "execution_count": 26,
   "metadata": {
    "ExecuteTime": {
     "end_time": "2020-05-12T21:44:39.792577Z",
     "start_time": "2020-05-12T21:44:39.762379Z"
    }
   },
   "outputs": [
    {
     "ename": "TypeError",
     "evalue": "cosine() takes exactly 3 positional arguments (1 given)",
     "output_type": "error",
     "traceback": [
      "\u001b[0;31m---------------------------------------------------------------------------\u001b[0m",
      "\u001b[0;31mTypeError\u001b[0m                                 Traceback (most recent call last)",
      "\u001b[0;32m<ipython-input-26-b1e97b06b20a>\u001b[0m in \u001b[0;36m<module>\u001b[0;34m()\u001b[0m\n\u001b[0;32m----> 1\u001b[0;31m \u001b[0mcosine\u001b[0m \u001b[0;34m=\u001b[0m \u001b[0msimilarities\u001b[0m\u001b[0;34m.\u001b[0m\u001b[0mcosine\u001b[0m\u001b[0;34m(\u001b[0m\u001b[0mdata\u001b[0m\u001b[0;34m)\u001b[0m\u001b[0;34m\u001b[0m\u001b[0m\n\u001b[0m",
      "\u001b[0;32m/opt/anaconda3/envs/capstone_proj/lib/python3.5/site-packages/surprise/similarities.pyx\u001b[0m in \u001b[0;36msurprise.similarities.cosine\u001b[0;34m()\u001b[0m\n",
      "\u001b[0;31mTypeError\u001b[0m: cosine() takes exactly 3 positional arguments (1 given)"
     ]
    }
   ],
   "source": [
    "cosine = similarities.cosine(data)"
   ]
  },
  {
   "cell_type": "code",
   "execution_count": null,
   "metadata": {},
   "outputs": [],
   "source": []
  }
 ],
 "metadata": {
  "kernelspec": {
   "display_name": "Python 3",
   "language": "python",
   "name": "python3"
  },
  "language_info": {
   "codemirror_mode": {
    "name": "ipython",
    "version": 3
   },
   "file_extension": ".py",
   "mimetype": "text/x-python",
   "name": "python",
   "nbconvert_exporter": "python",
   "pygments_lexer": "ipython3",
   "version": "3.7.4"
  },
  "toc": {
   "base_numbering": 1,
   "nav_menu": {},
   "number_sections": true,
   "sideBar": true,
   "skip_h1_title": false,
   "title_cell": "Table of Contents",
   "title_sidebar": "Contents",
   "toc_cell": false,
   "toc_position": {},
   "toc_section_display": true,
   "toc_window_display": false
  },
  "varInspector": {
   "cols": {
    "lenName": 16,
    "lenType": 16,
    "lenVar": 40
   },
   "kernels_config": {
    "python": {
     "delete_cmd_postfix": "",
     "delete_cmd_prefix": "del ",
     "library": "var_list.py",
     "varRefreshCmd": "print(var_dic_list())"
    },
    "r": {
     "delete_cmd_postfix": ") ",
     "delete_cmd_prefix": "rm(",
     "library": "var_list.r",
     "varRefreshCmd": "cat(var_dic_list()) "
    }
   },
   "types_to_exclude": [
    "module",
    "function",
    "builtin_function_or_method",
    "instance",
    "_Feature"
   ],
   "window_display": false
  }
 },
 "nbformat": 4,
 "nbformat_minor": 2
}
