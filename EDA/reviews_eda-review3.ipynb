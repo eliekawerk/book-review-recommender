{
 "cells": [
  {
   "cell_type": "code",
   "execution_count": 1,
   "metadata": {
    "ExecuteTime": {
     "end_time": "2020-05-06T16:57:49.214600Z",
     "start_time": "2020-05-06T16:57:47.466649Z"
    }
   },
   "outputs": [],
   "source": [
    "import pandas as pd \n",
    "import numpy as np \n",
    "import matplotlib.pyplot as plt\n",
    "import seaborn as sns\n",
    "import dask.dataframe as dd"
   ]
  },
  {
   "cell_type": "code",
   "execution_count": 2,
   "metadata": {
    "ExecuteTime": {
     "end_time": "2020-05-06T16:58:28.403996Z",
     "start_time": "2020-05-06T16:57:49.335303Z"
    }
   },
   "outputs": [],
   "source": [
    "df = pd.read_csv('/Volumes/external/Sangeetha-Project/reviews3.csv',\n",
    "                 names=['reviwerId', 'asin', 'review', 'rating',\n",
    "                        'summary', 'unixtime', 'pos_votes', 'total_votes']) \\\n",
    "    .drop(columns=['review', 'summary', 'unixtime', 'pos_votes', 'total_votes']) \\\n",
    "    .astype({'rating': 'int8'})"
   ]
  },
  {
   "cell_type": "code",
   "execution_count": 3,
   "metadata": {
    "ExecuteTime": {
     "end_time": "2020-05-06T16:58:28.515038Z",
     "start_time": "2020-05-06T16:58:28.488548Z"
    }
   },
   "outputs": [
    {
     "data": {
      "text/html": [
       "<div>\n",
       "<style scoped>\n",
       "    .dataframe tbody tr th:only-of-type {\n",
       "        vertical-align: middle;\n",
       "    }\n",
       "\n",
       "    .dataframe tbody tr th {\n",
       "        vertical-align: top;\n",
       "    }\n",
       "\n",
       "    .dataframe thead th {\n",
       "        text-align: right;\n",
       "    }\n",
       "</style>\n",
       "<table border=\"1\" class=\"dataframe\">\n",
       "  <thead>\n",
       "    <tr style=\"text-align: right;\">\n",
       "      <th></th>\n",
       "      <th>reviwerId</th>\n",
       "      <th>asin</th>\n",
       "      <th>rating</th>\n",
       "    </tr>\n",
       "  </thead>\n",
       "  <tbody>\n",
       "    <tr>\n",
       "      <td>0</td>\n",
       "      <td>ARX8A6TH2TC6U</td>\n",
       "      <td>1481948377</td>\n",
       "      <td>5</td>\n",
       "    </tr>\n",
       "    <tr>\n",
       "      <td>1</td>\n",
       "      <td>AA7F1IDEW0CW1</td>\n",
       "      <td>1481948377</td>\n",
       "      <td>5</td>\n",
       "    </tr>\n",
       "    <tr>\n",
       "      <td>2</td>\n",
       "      <td>A2WXRE0E5U02F2</td>\n",
       "      <td>1481948474</td>\n",
       "      <td>5</td>\n",
       "    </tr>\n",
       "    <tr>\n",
       "      <td>3</td>\n",
       "      <td>A1CZE84Z3882CS</td>\n",
       "      <td>1481948474</td>\n",
       "      <td>5</td>\n",
       "    </tr>\n",
       "    <tr>\n",
       "      <td>4</td>\n",
       "      <td>A26K553QITEKI5</td>\n",
       "      <td>1481948474</td>\n",
       "      <td>4</td>\n",
       "    </tr>\n",
       "  </tbody>\n",
       "</table>\n",
       "</div>"
      ],
      "text/plain": [
       "        reviwerId        asin  rating\n",
       "0   ARX8A6TH2TC6U  1481948377       5\n",
       "1   AA7F1IDEW0CW1  1481948377       5\n",
       "2  A2WXRE0E5U02F2  1481948474       5\n",
       "3  A1CZE84Z3882CS  1481948474       5\n",
       "4  A26K553QITEKI5  1481948474       4"
      ]
     },
     "execution_count": 3,
     "metadata": {},
     "output_type": "execute_result"
    }
   ],
   "source": [
    "df.head()"
   ]
  },
  {
   "cell_type": "code",
   "execution_count": 4,
   "metadata": {
    "ExecuteTime": {
     "end_time": "2020-05-06T16:58:28.562798Z",
     "start_time": "2020-05-06T16:58:28.552325Z"
    }
   },
   "outputs": [
    {
     "name": "stdout",
     "output_type": "stream",
     "text": [
      "<class 'pandas.core.frame.DataFrame'>\n",
      "RangeIndex: 2888041 entries, 0 to 2888040\n",
      "Data columns (total 3 columns):\n",
      "reviwerId    object\n",
      "asin         object\n",
      "rating       int8\n",
      "dtypes: int8(1), object(2)\n",
      "memory usage: 46.8+ MB\n"
     ]
    }
   ],
   "source": [
    "df.info()"
   ]
  },
  {
   "cell_type": "code",
   "execution_count": 5,
   "metadata": {
    "ExecuteTime": {
     "end_time": "2020-05-06T16:58:28.610833Z",
     "start_time": "2020-05-06T16:58:28.602837Z"
    }
   },
   "outputs": [],
   "source": [
    "small_df = df.iloc[:1000].copy()"
   ]
  },
  {
   "cell_type": "code",
   "execution_count": 6,
   "metadata": {
    "ExecuteTime": {
     "end_time": "2020-05-06T16:58:28.703491Z",
     "start_time": "2020-05-06T16:58:28.689279Z"
    }
   },
   "outputs": [
    {
     "data": {
      "text/html": [
       "<div>\n",
       "<style scoped>\n",
       "    .dataframe tbody tr th:only-of-type {\n",
       "        vertical-align: middle;\n",
       "    }\n",
       "\n",
       "    .dataframe tbody tr th {\n",
       "        vertical-align: top;\n",
       "    }\n",
       "\n",
       "    .dataframe thead th {\n",
       "        text-align: right;\n",
       "    }\n",
       "</style>\n",
       "<table border=\"1\" class=\"dataframe\">\n",
       "  <thead>\n",
       "    <tr style=\"text-align: right;\">\n",
       "      <th></th>\n",
       "      <th>reviwerId</th>\n",
       "      <th>asin</th>\n",
       "      <th>rating</th>\n",
       "    </tr>\n",
       "  </thead>\n",
       "  <tbody>\n",
       "    <tr>\n",
       "      <td>0</td>\n",
       "      <td>ARX8A6TH2TC6U</td>\n",
       "      <td>1481948377</td>\n",
       "      <td>5</td>\n",
       "    </tr>\n",
       "    <tr>\n",
       "      <td>1</td>\n",
       "      <td>AA7F1IDEW0CW1</td>\n",
       "      <td>1481948377</td>\n",
       "      <td>5</td>\n",
       "    </tr>\n",
       "    <tr>\n",
       "      <td>2</td>\n",
       "      <td>A2WXRE0E5U02F2</td>\n",
       "      <td>1481948474</td>\n",
       "      <td>5</td>\n",
       "    </tr>\n",
       "    <tr>\n",
       "      <td>3</td>\n",
       "      <td>A1CZE84Z3882CS</td>\n",
       "      <td>1481948474</td>\n",
       "      <td>5</td>\n",
       "    </tr>\n",
       "    <tr>\n",
       "      <td>4</td>\n",
       "      <td>A26K553QITEKI5</td>\n",
       "      <td>1481948474</td>\n",
       "      <td>4</td>\n",
       "    </tr>\n",
       "  </tbody>\n",
       "</table>\n",
       "</div>"
      ],
      "text/plain": [
       "        reviwerId        asin  rating\n",
       "0   ARX8A6TH2TC6U  1481948377       5\n",
       "1   AA7F1IDEW0CW1  1481948377       5\n",
       "2  A2WXRE0E5U02F2  1481948474       5\n",
       "3  A1CZE84Z3882CS  1481948474       5\n",
       "4  A26K553QITEKI5  1481948474       4"
      ]
     },
     "execution_count": 6,
     "metadata": {},
     "output_type": "execute_result"
    }
   ],
   "source": [
    "small_df.head()"
   ]
  },
  {
   "cell_type": "code",
   "execution_count": 7,
   "metadata": {
    "ExecuteTime": {
     "end_time": "2020-05-06T16:58:28.749981Z",
     "start_time": "2020-05-06T16:58:28.739650Z"
    }
   },
   "outputs": [
    {
     "name": "stdout",
     "output_type": "stream",
     "text": [
      "<class 'pandas.core.frame.DataFrame'>\n",
      "RangeIndex: 1000 entries, 0 to 999\n",
      "Data columns (total 3 columns):\n",
      "reviwerId    1000 non-null object\n",
      "asin         1000 non-null object\n",
      "rating       1000 non-null int8\n",
      "dtypes: int8(1), object(2)\n",
      "memory usage: 16.7+ KB\n"
     ]
    }
   ],
   "source": [
    "small_df.info()"
   ]
  },
  {
   "cell_type": "code",
   "execution_count": 8,
   "metadata": {
    "ExecuteTime": {
     "end_time": "2020-05-06T16:58:34.983881Z",
     "start_time": "2020-05-06T16:58:28.789251Z"
    }
   },
   "outputs": [
    {
     "name": "stdout",
     "output_type": "stream",
     "text": [
      "Reviewers under 5:  0.6921917277909437\n",
      "Mean reviewers:  5.9155348177946925\n",
      "Median reviewers:  3.0\n",
      "-----------------------------------------------\n",
      "Books under 5:  6.522433911438392e-06\n",
      "Mean books:  18.837056556024447\n",
      "Median books:  9.0\n"
     ]
    }
   ],
   "source": [
    "print('Reviewers under 5: ', (df.reviwerId.value_counts() < 5).mean())\n",
    "print('Mean reviewers: ', df.reviwerId.value_counts().mean())\n",
    "print('Median reviewers: ', df.reviwerId.value_counts().median())\n",
    "print('-----------------------------------------------')\n",
    "print('Books under 5: ', (df.asin.value_counts() < 5).mean())\n",
    "print('Mean books: ', df.asin.value_counts().mean())\n",
    "print('Median books: ', df.asin.value_counts().median())"
   ]
  },
  {
   "cell_type": "code",
   "execution_count": 9,
   "metadata": {
    "ExecuteTime": {
     "end_time": "2020-05-06T16:58:35.077244Z",
     "start_time": "2020-05-06T16:58:35.066899Z"
    }
   },
   "outputs": [
    {
     "data": {
      "text/plain": [
       "0.0"
      ]
     },
     "execution_count": 9,
     "metadata": {},
     "output_type": "execute_result"
    }
   ],
   "source": [
    "(small_df.asin.value_counts() == 1).mean()"
   ]
  },
  {
   "cell_type": "code",
   "execution_count": 10,
   "metadata": {
    "ExecuteTime": {
     "end_time": "2020-05-06T16:58:35.122707Z",
     "start_time": "2020-05-06T16:58:35.117709Z"
    }
   },
   "outputs": [],
   "source": [
    "counts = small_df.asin.value_counts()"
   ]
  },
  {
   "cell_type": "code",
   "execution_count": 11,
   "metadata": {
    "ExecuteTime": {
     "end_time": "2020-05-06T16:58:35.164784Z",
     "start_time": "2020-05-06T16:58:35.156841Z"
    }
   },
   "outputs": [
    {
     "data": {
      "text/plain": [
       "['1481951181']"
      ]
     },
     "execution_count": 11,
     "metadata": {},
     "output_type": "execute_result"
    }
   ],
   "source": [
    "list(counts[counts == 5].index)"
   ]
  },
  {
   "cell_type": "code",
   "execution_count": 12,
   "metadata": {
    "ExecuteTime": {
     "end_time": "2020-05-06T16:58:37.180581Z",
     "start_time": "2020-05-06T16:58:35.207417Z"
    }
   },
   "outputs": [],
   "source": [
    "id_counts = df.reviwerId.value_counts()"
   ]
  },
  {
   "cell_type": "code",
   "execution_count": 13,
   "metadata": {
    "ExecuteTime": {
     "end_time": "2020-05-06T16:58:37.692400Z",
     "start_time": "2020-05-06T16:58:37.262996Z"
    }
   },
   "outputs": [
    {
     "data": {
      "text/plain": [
       "1940026016    2440\n",
       "1612186009    1622\n",
       "1611735270    1523\n",
       "1594744769    1463\n",
       "1495307352    1449\n",
       "              ... \n",
       "1571741119       5\n",
       "B00D0N20HK       5\n",
       "B00947BD92       5\n",
       "1560103450       5\n",
       "1481948377       2\n",
       "Name: asin, Length: 153317, dtype: int64"
      ]
     },
     "execution_count": 13,
     "metadata": {},
     "output_type": "execute_result"
    }
   ],
   "source": [
    "book_counts= df.asin.value_counts()\n",
    "book_counts"
   ]
  },
  {
   "cell_type": "code",
   "execution_count": 14,
   "metadata": {
    "ExecuteTime": {
     "end_time": "2020-05-06T16:58:38.144039Z",
     "start_time": "2020-05-06T16:58:37.762306Z"
    }
   },
   "outputs": [
    {
     "data": {
      "text/plain": [
       "216686"
      ]
     },
     "execution_count": 14,
     "metadata": {},
     "output_type": "execute_result"
    }
   ],
   "source": [
    "id_counts_1 = list(id_counts[id_counts <3].index)\n",
    "id_counts_1[:5]\n",
    "len(id_counts_1)"
   ]
  },
  {
   "cell_type": "code",
   "execution_count": 15,
   "metadata": {
    "ExecuteTime": {
     "end_time": "2020-05-06T16:58:39.198512Z",
     "start_time": "2020-05-06T16:58:38.420771Z"
    }
   },
   "outputs": [
    {
     "data": {
      "text/html": [
       "<div>\n",
       "<style scoped>\n",
       "    .dataframe tbody tr th:only-of-type {\n",
       "        vertical-align: middle;\n",
       "    }\n",
       "\n",
       "    .dataframe tbody tr th {\n",
       "        vertical-align: top;\n",
       "    }\n",
       "\n",
       "    .dataframe thead th {\n",
       "        text-align: right;\n",
       "    }\n",
       "</style>\n",
       "<table border=\"1\" class=\"dataframe\">\n",
       "  <thead>\n",
       "    <tr style=\"text-align: right;\">\n",
       "      <th></th>\n",
       "      <th>reviwerId</th>\n",
       "      <th>asin</th>\n",
       "      <th>rating</th>\n",
       "    </tr>\n",
       "  </thead>\n",
       "  <tbody>\n",
       "    <tr>\n",
       "      <td>14</td>\n",
       "      <td>A3VTSWNTTKJ4MP</td>\n",
       "      <td>1481948474</td>\n",
       "      <td>4</td>\n",
       "    </tr>\n",
       "    <tr>\n",
       "      <td>22</td>\n",
       "      <td>AJRLGOL01MSNJ</td>\n",
       "      <td>1481948474</td>\n",
       "      <td>5</td>\n",
       "    </tr>\n",
       "    <tr>\n",
       "      <td>24</td>\n",
       "      <td>A1F5E305E57YUI</td>\n",
       "      <td>1481948474</td>\n",
       "      <td>3</td>\n",
       "    </tr>\n",
       "    <tr>\n",
       "      <td>35</td>\n",
       "      <td>A2KB8TVAOTOC9G</td>\n",
       "      <td>1481948474</td>\n",
       "      <td>3</td>\n",
       "    </tr>\n",
       "    <tr>\n",
       "      <td>51</td>\n",
       "      <td>A19MFDAQP7PK6F</td>\n",
       "      <td>1481948474</td>\n",
       "      <td>4</td>\n",
       "    </tr>\n",
       "    <tr>\n",
       "      <td>...</td>\n",
       "      <td>...</td>\n",
       "      <td>...</td>\n",
       "      <td>...</td>\n",
       "    </tr>\n",
       "    <tr>\n",
       "      <td>2887252</td>\n",
       "      <td>A1VGWBYW8NTYTR</td>\n",
       "      <td>B00LWF3UYU</td>\n",
       "      <td>5</td>\n",
       "    </tr>\n",
       "    <tr>\n",
       "      <td>2887331</td>\n",
       "      <td>A25BRDOJQP1L77</td>\n",
       "      <td>B00LWSNUQ0</td>\n",
       "      <td>5</td>\n",
       "    </tr>\n",
       "    <tr>\n",
       "      <td>2887462</td>\n",
       "      <td>AX2KBOLAVR5NX</td>\n",
       "      <td>B00LY51TPA</td>\n",
       "      <td>5</td>\n",
       "    </tr>\n",
       "    <tr>\n",
       "      <td>2887970</td>\n",
       "      <td>A1V8ZTQUBCCM1W</td>\n",
       "      <td>B00LZKMXBI</td>\n",
       "      <td>5</td>\n",
       "    </tr>\n",
       "    <tr>\n",
       "      <td>2887984</td>\n",
       "      <td>A3MAYOEXYY2U7K</td>\n",
       "      <td>B00LZKMXBI</td>\n",
       "      <td>5</td>\n",
       "    </tr>\n",
       "  </tbody>\n",
       "</table>\n",
       "<p>313663 rows × 3 columns</p>\n",
       "</div>"
      ],
      "text/plain": [
       "              reviwerId        asin  rating\n",
       "14       A3VTSWNTTKJ4MP  1481948474       4\n",
       "22        AJRLGOL01MSNJ  1481948474       5\n",
       "24       A1F5E305E57YUI  1481948474       3\n",
       "35       A2KB8TVAOTOC9G  1481948474       3\n",
       "51       A19MFDAQP7PK6F  1481948474       4\n",
       "...                 ...         ...     ...\n",
       "2887252  A1VGWBYW8NTYTR  B00LWF3UYU       5\n",
       "2887331  A25BRDOJQP1L77  B00LWSNUQ0       5\n",
       "2887462   AX2KBOLAVR5NX  B00LY51TPA       5\n",
       "2887970  A1V8ZTQUBCCM1W  B00LZKMXBI       5\n",
       "2887984  A3MAYOEXYY2U7K  B00LZKMXBI       5\n",
       "\n",
       "[313663 rows x 3 columns]"
      ]
     },
     "execution_count": 15,
     "metadata": {},
     "output_type": "execute_result"
    }
   ],
   "source": [
    "df[df.reviwerId.isin(id_counts_1)]"
   ]
  },
  {
   "cell_type": "code",
   "execution_count": 16,
   "metadata": {
    "ExecuteTime": {
     "end_time": "2020-05-06T16:58:40.455563Z",
     "start_time": "2020-05-06T16:58:39.374291Z"
    }
   },
   "outputs": [],
   "source": [
    "df_dense = df.drop(index = df[df.reviwerId.isin(id_counts_1)].index)"
   ]
  },
  {
   "cell_type": "code",
   "execution_count": 17,
   "metadata": {
    "ExecuteTime": {
     "end_time": "2020-05-06T16:58:40.703056Z",
     "start_time": "2020-05-06T16:58:40.677131Z"
    }
   },
   "outputs": [
    {
     "name": "stdout",
     "output_type": "stream",
     "text": [
      "<class 'pandas.core.frame.DataFrame'>\n",
      "Int64Index: 2574378 entries, 0 to 2888040\n",
      "Data columns (total 3 columns):\n",
      "reviwerId    object\n",
      "asin         object\n",
      "rating       int8\n",
      "dtypes: int8(1), object(2)\n",
      "memory usage: 61.4+ MB\n"
     ]
    }
   ],
   "source": [
    "df_dense.info()"
   ]
  },
  {
   "cell_type": "code",
   "execution_count": 18,
   "metadata": {
    "ExecuteTime": {
     "end_time": "2020-05-06T16:58:45.859874Z",
     "start_time": "2020-05-06T16:58:40.917623Z"
    }
   },
   "outputs": [
    {
     "name": "stdout",
     "output_type": "stream",
     "text": [
      "Reviewers under 5:  0.44655227656918095\n",
      "Mean reviewers:  9.48111237556486\n",
      "Median reviewers:  5.0\n",
      "-----------------------------------------------\n",
      "Books under 5:  0.11695429484879132\n",
      "Mean books:  16.796907317391447\n",
      "Median books:  8.0\n"
     ]
    }
   ],
   "source": [
    "print('Reviewers under 5: ', (df_dense.reviwerId.value_counts() < 5).mean())\n",
    "print('Mean reviewers: ', df_dense.reviwerId.value_counts().mean())\n",
    "print('Median reviewers: ', df_dense.reviwerId.value_counts().median())\n",
    "print('-----------------------------------------------')\n",
    "print('Books under 5: ', (df_dense.asin.value_counts() < 5).mean())\n",
    "print('Mean books: ', df_dense.asin.value_counts().mean())\n",
    "print('Median books: ', df_dense.asin.value_counts().median())"
   ]
  },
  {
   "cell_type": "code",
   "execution_count": 19,
   "metadata": {
    "ExecuteTime": {
     "end_time": "2020-05-06T16:58:46.500645Z",
     "start_time": "2020-05-06T16:58:46.088232Z"
    }
   },
   "outputs": [
    {
     "data": {
      "text/plain": [
       "1940026016    1827\n",
       "1495307352    1406\n",
       "149539090X    1284\n",
       "1490559175    1178\n",
       "149043013X    1147\n",
       "              ... \n",
       "1888698381       1\n",
       "1587761459       1\n",
       "159020462X       1\n",
       "1609450841       1\n",
       "1936041189       1\n",
       "Name: asin, Length: 153265, dtype: int64"
      ]
     },
     "execution_count": 19,
     "metadata": {},
     "output_type": "execute_result"
    }
   ],
   "source": [
    "df_dense.asin.value_counts()"
   ]
  },
  {
   "cell_type": "code",
   "execution_count": 20,
   "metadata": {
    "ExecuteTime": {
     "end_time": "2020-05-06T16:58:48.196535Z",
     "start_time": "2020-05-06T16:58:46.732283Z"
    }
   },
   "outputs": [
    {
     "data": {
      "text/plain": [
       "A14OJS0VWMOSWO    5533\n",
       "AFVQZQ8PW0L       1976\n",
       "A13QTZ8CIMHHG4    1803\n",
       "A320TMDV6KCFU     1573\n",
       "A328S9RN3U5M68    1269\n",
       "                  ... \n",
       "A2TLH3Z00S1SVJ       3\n",
       "A1HTN5D60VMN2K       3\n",
       "AI3QWTP63ZKX7        3\n",
       "AE8NVOMR975UW        3\n",
       "A5WYNVGEOGV4T        3\n",
       "Name: reviwerId, Length: 271527, dtype: int64"
      ]
     },
     "execution_count": 20,
     "metadata": {},
     "output_type": "execute_result"
    }
   ],
   "source": [
    "df_dense.reviwerId.value_counts()"
   ]
  },
  {
   "cell_type": "code",
   "execution_count": 21,
   "metadata": {
    "ExecuteTime": {
     "end_time": "2020-05-06T16:58:48.596888Z",
     "start_time": "2020-05-06T16:58:48.434674Z"
    }
   },
   "outputs": [
    {
     "data": {
      "text/plain": [
       "153265"
      ]
     },
     "execution_count": 21,
     "metadata": {},
     "output_type": "execute_result"
    }
   ],
   "source": [
    "len(df_dense.asin.unique())"
   ]
  },
  {
   "cell_type": "code",
   "execution_count": 22,
   "metadata": {
    "ExecuteTime": {
     "end_time": "2020-05-06T16:58:49.287778Z",
     "start_time": "2020-05-06T16:58:48.788843Z"
    }
   },
   "outputs": [
    {
     "data": {
      "text/plain": [
       "271527"
      ]
     },
     "execution_count": 22,
     "metadata": {},
     "output_type": "execute_result"
    }
   ],
   "source": [
    "len(df_dense.reviwerId.unique())"
   ]
  },
  {
   "cell_type": "code",
   "execution_count": null,
   "metadata": {},
   "outputs": [],
   "source": []
  },
  {
   "cell_type": "code",
   "execution_count": null,
   "metadata": {},
   "outputs": [],
   "source": []
  },
  {
   "cell_type": "code",
   "execution_count": null,
   "metadata": {},
   "outputs": [],
   "source": []
  }
 ],
 "metadata": {
  "kernelspec": {
   "display_name": "Python 3",
   "language": "python",
   "name": "python3"
  },
  "language_info": {
   "codemirror_mode": {
    "name": "ipython",
    "version": 3
   },
   "file_extension": ".py",
   "mimetype": "text/x-python",
   "name": "python",
   "nbconvert_exporter": "python",
   "pygments_lexer": "ipython3",
   "version": "3.7.4"
  },
  "toc": {
   "base_numbering": 1,
   "nav_menu": {},
   "number_sections": true,
   "sideBar": true,
   "skip_h1_title": false,
   "title_cell": "Table of Contents",
   "title_sidebar": "Contents",
   "toc_cell": false,
   "toc_position": {},
   "toc_section_display": true,
   "toc_window_display": false
  },
  "varInspector": {
   "cols": {
    "lenName": 16,
    "lenType": 16,
    "lenVar": 40
   },
   "kernels_config": {
    "python": {
     "delete_cmd_postfix": "",
     "delete_cmd_prefix": "del ",
     "library": "var_list.py",
     "varRefreshCmd": "print(var_dic_list())"
    },
    "r": {
     "delete_cmd_postfix": ") ",
     "delete_cmd_prefix": "rm(",
     "library": "var_list.r",
     "varRefreshCmd": "cat(var_dic_list()) "
    }
   },
   "types_to_exclude": [
    "module",
    "function",
    "builtin_function_or_method",
    "instance",
    "_Feature"
   ],
   "window_display": false
  }
 },
 "nbformat": 4,
 "nbformat_minor": 2
}
