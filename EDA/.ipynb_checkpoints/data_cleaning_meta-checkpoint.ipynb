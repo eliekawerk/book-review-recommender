{
 "cells": [
  {
   "cell_type": "code",
   "execution_count": 46,
   "metadata": {
    "ExecuteTime": {
     "end_time": "2020-05-04T19:18:55.020552Z",
     "start_time": "2020-05-04T19:18:54.996612Z"
    }
   },
   "outputs": [],
   "source": [
    "import pandas as pd\n",
    "import numpy as np \n",
    "import dask.dataframe as dd\n",
    "import tqdm"
   ]
  },
  {
   "cell_type": "markdown",
   "metadata": {},
   "source": [
    "### Cleaning the meta_data"
   ]
  },
  {
   "cell_type": "code",
   "execution_count": 50,
   "metadata": {
    "ExecuteTime": {
     "end_time": "2020-05-04T19:28:04.084510Z",
     "start_time": "2020-05-04T19:23:25.283081Z"
    }
   },
   "outputs": [
    {
     "name": "stdout",
     "output_type": "stream",
     "text": [
      "10000\n",
      "20000\n",
      "30000\n",
      "40000\n",
      "50000\n",
      "60000\n",
      "70000\n",
      "80000\n",
      "90000\n",
      "100000\n",
      "110000\n",
      "120000\n",
      "130000\n",
      "140000\n",
      "150000\n",
      "160000\n",
      "170000\n",
      "180000\n",
      "190000\n",
      "200000\n",
      "210000\n",
      "220000\n",
      "230000\n",
      "240000\n",
      "250000\n",
      "260000\n",
      "270000\n",
      "280000\n",
      "290000\n",
      "300000\n",
      "310000\n",
      "320000\n",
      "330000\n",
      "340000\n",
      "350000\n",
      "360000\n",
      "370000\n",
      "380000\n",
      "390000\n",
      "400000\n",
      "410000\n",
      "420000\n",
      "430000\n",
      "440000\n",
      "450000\n",
      "460000\n",
      "470000\n",
      "480000\n",
      "490000\n",
      "500000\n",
      "510000\n",
      "520000\n",
      "530000\n",
      "540000\n",
      "550000\n",
      "560000\n",
      "570000\n",
      "580000\n",
      "590000\n",
      "600000\n",
      "610000\n",
      "620000\n",
      "630000\n",
      "640000\n",
      "650000\n",
      "660000\n",
      "670000\n",
      "680000\n",
      "690000\n",
      "700000\n",
      "710000\n",
      "720000\n",
      "730000\n",
      "740000\n",
      "750000\n",
      "760000\n",
      "770000\n",
      "780000\n",
      "790000\n",
      "800000\n",
      "810000\n",
      "820000\n",
      "830000\n",
      "840000\n",
      "850000\n",
      "860000\n",
      "870000\n",
      "880000\n",
      "890000\n",
      "900000\n",
      "910000\n",
      "920000\n",
      "930000\n",
      "940000\n",
      "950000\n",
      "960000\n",
      "970000\n",
      "980000\n",
      "990000\n",
      "1000000\n",
      "1010000\n",
      "1020000\n",
      "1030000\n",
      "1040000\n",
      "1050000\n",
      "1060000\n",
      "1070000\n",
      "1080000\n",
      "1090000\n",
      "1100000\n",
      "1110000\n",
      "1120000\n",
      "1130000\n",
      "1140000\n",
      "1150000\n",
      "1160000\n",
      "1170000\n",
      "1180000\n",
      "1190000\n",
      "1200000\n",
      "1210000\n",
      "1220000\n",
      "1230000\n",
      "1240000\n",
      "1250000\n",
      "1260000\n",
      "1270000\n",
      "1280000\n",
      "1290000\n",
      "1300000\n",
      "1310000\n",
      "1320000\n",
      "1330000\n",
      "1340000\n",
      "1350000\n",
      "1360000\n",
      "1370000\n",
      "1380000\n",
      "1390000\n",
      "1400000\n",
      "1410000\n",
      "1420000\n",
      "1430000\n",
      "1440000\n",
      "1450000\n",
      "1460000\n",
      "1470000\n",
      "1480000\n",
      "1490000\n",
      "1500000\n",
      "1510000\n",
      "1520000\n",
      "1530000\n",
      "1540000\n",
      "1550000\n",
      "1560000\n",
      "1570000\n",
      "1580000\n",
      "1590000\n",
      "1600000\n",
      "1610000\n",
      "1620000\n",
      "1630000\n",
      "1640000\n",
      "1650000\n",
      "1660000\n",
      "1670000\n",
      "1680000\n",
      "1690000\n",
      "1700000\n",
      "1710000\n",
      "1720000\n",
      "1730000\n",
      "1740000\n",
      "1750000\n",
      "1760000\n",
      "1770000\n",
      "1780000\n",
      "1790000\n",
      "1800000\n",
      "1810000\n",
      "1820000\n",
      "1830000\n",
      "1840000\n",
      "1850000\n",
      "1860000\n",
      "1870000\n",
      "1880000\n",
      "1890000\n",
      "1900000\n",
      "1910000\n",
      "1920000\n",
      "1930000\n",
      "1940000\n",
      "1950000\n",
      "1960000\n",
      "1970000\n",
      "1980000\n",
      "1990000\n",
      "2000000\n",
      "2010000\n",
      "2020000\n",
      "2030000\n",
      "2040000\n",
      "2050000\n",
      "2060000\n",
      "2070000\n",
      "2080000\n",
      "2090000\n",
      "2100000\n",
      "2110000\n",
      "2120000\n",
      "2130000\n",
      "2140000\n",
      "2150000\n",
      "2160000\n",
      "2170000\n",
      "2180000\n",
      "2190000\n",
      "2200000\n",
      "2210000\n",
      "2220000\n",
      "2230000\n",
      "2240000\n",
      "2250000\n",
      "2260000\n",
      "2270000\n",
      "2280000\n",
      "2290000\n",
      "2300000\n",
      "2310000\n",
      "2320000\n",
      "2330000\n",
      "2340000\n",
      "2350000\n",
      "2360000\n",
      "2370000\n",
      "2380000\n",
      "2390000\n",
      "2400000\n",
      "2410000\n",
      "2420000\n",
      "2430000\n",
      "2440000\n",
      "2450000\n",
      "2460000\n",
      "2470000\n",
      "2480000\n",
      "2490000\n",
      "2500000\n",
      "2510000\n",
      "2520000\n",
      "2530000\n",
      "2540000\n",
      "2550000\n",
      "2560000\n",
      "2570000\n",
      "2580000\n",
      "2590000\n",
      "2600000\n",
      "2610000\n",
      "2620000\n",
      "2630000\n",
      "2640000\n",
      "2650000\n",
      "2660000\n",
      "2670000\n",
      "2680000\n",
      "2690000\n",
      "2700000\n",
      "2710000\n",
      "2720000\n",
      "2730000\n",
      "2740000\n",
      "2750000\n",
      "2760000\n",
      "2770000\n",
      "2780000\n",
      "2790000\n",
      "2800000\n",
      "2810000\n",
      "2820000\n",
      "2830000\n",
      "2840000\n",
      "2850000\n"
     ]
    }
   ],
   "source": [
    "reader = pd.read_csv('/Volumes/external/Sangeetha-Project/meta_book.csv', \n",
    "                 names = ['asin', 'title', 'desc', 'price', 'categories'], chunksize= 10000)\n",
    "\n",
    "counter = 0\n",
    "for df in reader:\n",
    "    df.drop(index = df[df.asin.isnull()].index, inplace=True)\n",
    "    df.desc = df.desc.str.replace('[', '').str.replace(']', '')\n",
    "    df.categories = df.categories.str.replace('[', '').str.replace(']', '').str.replace(\"'Books', \", \"\")\n",
    "    \n",
    "    df.to_csv('/Volumes/external/Sangeetha-Project/metadata.csv', \n",
    "              columns = ['asin', 'title', 'desc', 'price', 'categories'],\n",
    "                          header=False, mode = 'a', index=False)\n",
    "    counter+=10000\n",
    "    print(counter)\n",
    "    "
   ]
  },
  {
   "cell_type": "code",
   "execution_count": 27,
   "metadata": {
    "ExecuteTime": {
     "end_time": "2020-05-04T19:06:49.639815Z",
     "start_time": "2020-05-04T19:06:49.621638Z"
    }
   },
   "outputs": [],
   "source": [
    "df = pd.read_csv('/Volumes/external/Sangeetha-Project/meta_book.csv', \n",
    "                 names = ['asin', 'title', 'desc', 'price', 'categories'], skiprows=1000, nrows = 1000)"
   ]
  },
  {
   "cell_type": "code",
   "execution_count": 42,
   "metadata": {
    "ExecuteTime": {
     "end_time": "2020-05-04T19:14:20.921476Z",
     "start_time": "2020-05-04T19:14:20.886017Z"
    }
   },
   "outputs": [
    {
     "data": {
      "text/html": [
       "<div>\n",
       "<style scoped>\n",
       "    .dataframe tbody tr th:only-of-type {\n",
       "        vertical-align: middle;\n",
       "    }\n",
       "\n",
       "    .dataframe tbody tr th {\n",
       "        vertical-align: top;\n",
       "    }\n",
       "\n",
       "    .dataframe thead th {\n",
       "        text-align: right;\n",
       "    }\n",
       "</style>\n",
       "<table border=\"1\" class=\"dataframe\">\n",
       "  <thead>\n",
       "    <tr style=\"text-align: right;\">\n",
       "      <th></th>\n",
       "      <th>asin</th>\n",
       "      <th>title</th>\n",
       "      <th>desc</th>\n",
       "      <th>price</th>\n",
       "      <th>categories</th>\n",
       "    </tr>\n",
       "  </thead>\n",
       "  <tbody>\n",
       "    <tr>\n",
       "      <td>0</td>\n",
       "      <td>000255223X</td>\n",
       "      <td>The Best of India: A Cookbook</td>\n",
       "      <td>\"This wonderful series is the easiest way to s...</td>\n",
       "      <td>NaN</td>\n",
       "      <td>'Cookbooks, Food &amp; Wine', 'Regional &amp; Internat...</td>\n",
       "    </tr>\n",
       "    <tr>\n",
       "      <td>1</td>\n",
       "      <td>0002317850</td>\n",
       "      <td>Sleeping murder: Miss Marple's last case</td>\n",
       "      <td>\"Volume 77 in The Agatha Christie Collection (...</td>\n",
       "      <td>22.02</td>\n",
       "      <td>'Literature &amp; Fiction', 'British &amp; Irish'</td>\n",
       "    </tr>\n",
       "    <tr>\n",
       "      <td>2</td>\n",
       "      <td>0002553457</td>\n",
       "      <td>Pears: A Country Garden Cookbook</td>\n",
       "      <td>\"Beautifully designed and exquisitely photogra...</td>\n",
       "      <td>7.99</td>\n",
       "      <td>'Cookbooks, Food &amp; Wine', 'Cooking by Ingredient'</td>\n",
       "    </tr>\n",
       "    <tr>\n",
       "      <td>3</td>\n",
       "      <td>0002551543</td>\n",
       "      <td>Provence: The Beautiful Cookbook: Authentic Re...</td>\n",
       "      <td>'Provence is loved for its sunlit beauty and e...</td>\n",
       "      <td>23.88</td>\n",
       "      <td>'Cookbooks, Food &amp; Wine', 'Regional &amp; Internat...</td>\n",
       "    </tr>\n",
       "    <tr>\n",
       "      <td>4</td>\n",
       "      <td>0002320371</td>\n",
       "      <td>Murder Moves In</td>\n",
       "      <td>NaN</td>\n",
       "      <td>45.00</td>\n",
       "      <td>'Mystery, Thriller &amp; Suspense'</td>\n",
       "    </tr>\n",
       "    <tr>\n",
       "      <td>...</td>\n",
       "      <td>...</td>\n",
       "      <td>...</td>\n",
       "      <td>...</td>\n",
       "      <td>...</td>\n",
       "      <td>...</td>\n",
       "    </tr>\n",
       "    <tr>\n",
       "      <td>995</td>\n",
       "      <td>0006274765</td>\n",
       "      <td>Being in Love: The Practice of Christian Prayer</td>\n",
       "      <td>\"'It is a remarkably open, broad look at praye...</td>\n",
       "      <td>NaN</td>\n",
       "      <td>'Arts &amp; Photography', 'History &amp; Criticism'</td>\n",
       "    </tr>\n",
       "    <tr>\n",
       "      <td>996</td>\n",
       "      <td>0006281052</td>\n",
       "      <td>Why Am I Afraid to Tell You Who I Am?</td>\n",
       "      <td>'This book by the author of Why Am I Afraid to...</td>\n",
       "      <td>9.75</td>\n",
       "      <td>'Christian Books &amp; Bibles', 'Christian Living'</td>\n",
       "    </tr>\n",
       "    <tr>\n",
       "      <td>997</td>\n",
       "      <td>0006281451</td>\n",
       "      <td>Collected Letters, Vol. 1: Family Letters, 190...</td>\n",
       "      <td>\"This collection brings together the best of C...</td>\n",
       "      <td>NaN</td>\n",
       "      <td>'Biographies &amp; Memoirs', 'Arts &amp; Literature'</td>\n",
       "    </tr>\n",
       "    <tr>\n",
       "      <td>998</td>\n",
       "      <td>0006329535</td>\n",
       "      <td>Hanover to Windsor (British monarchy series)</td>\n",
       "      <td>'Publisher-Fontana/Collins-British Monarchy Se...</td>\n",
       "      <td>4.48</td>\n",
       "      <td>'Biographies &amp; Memoirs', 'Leaders &amp; Notable Pe...</td>\n",
       "    </tr>\n",
       "    <tr>\n",
       "      <td>999</td>\n",
       "      <td>0006337147</td>\n",
       "      <td>Judy Story: The Dog with Six Lives</td>\n",
       "      <td>NaN</td>\n",
       "      <td>46.90</td>\n",
       "      <td>NaN</td>\n",
       "    </tr>\n",
       "  </tbody>\n",
       "</table>\n",
       "<p>1000 rows × 5 columns</p>\n",
       "</div>"
      ],
      "text/plain": [
       "           asin  ...                                         categories\n",
       "0    000255223X  ...  'Cookbooks, Food & Wine', 'Regional & Internat...\n",
       "1    0002317850  ...          'Literature & Fiction', 'British & Irish'\n",
       "2    0002553457  ...  'Cookbooks, Food & Wine', 'Cooking by Ingredient'\n",
       "3    0002551543  ...  'Cookbooks, Food & Wine', 'Regional & Internat...\n",
       "4    0002320371  ...                     'Mystery, Thriller & Suspense'\n",
       "..          ...  ...                                                ...\n",
       "995  0006274765  ...        'Arts & Photography', 'History & Criticism'\n",
       "996  0006281052  ...     'Christian Books & Bibles', 'Christian Living'\n",
       "997  0006281451  ...       'Biographies & Memoirs', 'Arts & Literature'\n",
       "998  0006329535  ...  'Biographies & Memoirs', 'Leaders & Notable Pe...\n",
       "999  0006337147  ...                                                NaN\n",
       "\n",
       "[1000 rows x 5 columns]"
      ]
     },
     "execution_count": 42,
     "metadata": {},
     "output_type": "execute_result"
    }
   ],
   "source": [
    "df"
   ]
  },
  {
   "cell_type": "code",
   "execution_count": 43,
   "metadata": {
    "ExecuteTime": {
     "end_time": "2020-05-04T19:14:31.768040Z",
     "start_time": "2020-05-04T19:14:31.752775Z"
    }
   },
   "outputs": [],
   "source": [
    "df.desc = df.desc.str.replace('[', '').str.replace(']', '')"
   ]
  },
  {
   "cell_type": "code",
   "execution_count": 44,
   "metadata": {
    "ExecuteTime": {
     "end_time": "2020-05-04T19:14:31.987123Z",
     "start_time": "2020-05-04T19:14:31.965271Z"
    }
   },
   "outputs": [
    {
     "name": "stdout",
     "output_type": "stream",
     "text": [
      "<class 'pandas.core.frame.DataFrame'>\n",
      "RangeIndex: 1000 entries, 0 to 999\n",
      "Data columns (total 5 columns):\n",
      "asin          1000 non-null object\n",
      "title         1000 non-null object\n",
      "desc          650 non-null object\n",
      "price         744 non-null float64\n",
      "categories    908 non-null object\n",
      "dtypes: float64(1), object(4)\n",
      "memory usage: 39.2+ KB\n"
     ]
    }
   ],
   "source": [
    "df.info()"
   ]
  },
  {
   "cell_type": "code",
   "execution_count": 39,
   "metadata": {
    "ExecuteTime": {
     "end_time": "2020-05-04T19:11:18.592428Z",
     "start_time": "2020-05-04T19:11:18.555111Z"
    }
   },
   "outputs": [
    {
     "data": {
      "text/html": [
       "<div>\n",
       "<style scoped>\n",
       "    .dataframe tbody tr th:only-of-type {\n",
       "        vertical-align: middle;\n",
       "    }\n",
       "\n",
       "    .dataframe tbody tr th {\n",
       "        vertical-align: top;\n",
       "    }\n",
       "\n",
       "    .dataframe thead th {\n",
       "        text-align: right;\n",
       "    }\n",
       "</style>\n",
       "<table border=\"1\" class=\"dataframe\">\n",
       "  <thead>\n",
       "    <tr style=\"text-align: right;\">\n",
       "      <th></th>\n",
       "      <th>asin</th>\n",
       "      <th>title</th>\n",
       "      <th>desc</th>\n",
       "      <th>price</th>\n",
       "      <th>categories</th>\n",
       "    </tr>\n",
       "  </thead>\n",
       "  <tbody>\n",
       "    <tr>\n",
       "      <td>0</td>\n",
       "      <td>000255223X</td>\n",
       "      <td>The Best of India: A Cookbook</td>\n",
       "      <td>\"This wonderful series is the easiest way to s...</td>\n",
       "      <td>NaN</td>\n",
       "      <td>['Books', 'Cookbooks, Food &amp; Wine', 'Regional ...</td>\n",
       "    </tr>\n",
       "    <tr>\n",
       "      <td>1</td>\n",
       "      <td>0002317850</td>\n",
       "      <td>Sleeping murder: Miss Marple's last case</td>\n",
       "      <td>\"Volume 77 in The Agatha Christie Collection (...</td>\n",
       "      <td>22.02</td>\n",
       "      <td>['Books', 'Literature &amp; Fiction', 'British &amp; I...</td>\n",
       "    </tr>\n",
       "    <tr>\n",
       "      <td>2</td>\n",
       "      <td>0002553457</td>\n",
       "      <td>Pears: A Country Garden Cookbook</td>\n",
       "      <td>\"Beautifully designed and exquisitely photogra...</td>\n",
       "      <td>7.99</td>\n",
       "      <td>['Books', 'Cookbooks, Food &amp; Wine', 'Cooking b...</td>\n",
       "    </tr>\n",
       "    <tr>\n",
       "      <td>3</td>\n",
       "      <td>0002551543</td>\n",
       "      <td>Provence: The Beautiful Cookbook: Authentic Re...</td>\n",
       "      <td>'Provence is loved for its sunlit beauty and e...</td>\n",
       "      <td>23.88</td>\n",
       "      <td>['Books', 'Cookbooks, Food &amp; Wine', 'Regional ...</td>\n",
       "    </tr>\n",
       "    <tr>\n",
       "      <td>4</td>\n",
       "      <td>0002320371</td>\n",
       "      <td>Murder Moves In</td>\n",
       "      <td>NaN</td>\n",
       "      <td>45.00</td>\n",
       "      <td>['Books', 'Mystery, Thriller &amp; Suspense']</td>\n",
       "    </tr>\n",
       "    <tr>\n",
       "      <td>...</td>\n",
       "      <td>...</td>\n",
       "      <td>...</td>\n",
       "      <td>...</td>\n",
       "      <td>...</td>\n",
       "      <td>...</td>\n",
       "    </tr>\n",
       "    <tr>\n",
       "      <td>994</td>\n",
       "      <td>0006281141</td>\n",
       "      <td>The Divine Conspiracy : Rediscovering Our Hidd...</td>\n",
       "      <td>\"A major new book that 'rediscovers our hidden...</td>\n",
       "      <td>9.94</td>\n",
       "      <td>['Books', 'Religion &amp; Spirituality']</td>\n",
       "    </tr>\n",
       "    <tr>\n",
       "      <td>995</td>\n",
       "      <td>0006274765</td>\n",
       "      <td>Being in Love: The Practice of Christian Prayer</td>\n",
       "      <td>\"'It is a remarkably open, broad look at praye...</td>\n",
       "      <td>NaN</td>\n",
       "      <td>['Books', 'Arts &amp; Photography', 'History &amp; Cri...</td>\n",
       "    </tr>\n",
       "    <tr>\n",
       "      <td>996</td>\n",
       "      <td>0006281052</td>\n",
       "      <td>Why Am I Afraid to Tell You Who I Am?</td>\n",
       "      <td>'This book by the author of Why Am I Afraid to...</td>\n",
       "      <td>9.75</td>\n",
       "      <td>['Books', 'Christian Books &amp; Bibles', 'Christi...</td>\n",
       "    </tr>\n",
       "    <tr>\n",
       "      <td>997</td>\n",
       "      <td>0006281451</td>\n",
       "      <td>Collected Letters, Vol. 1: Family Letters, 190...</td>\n",
       "      <td>\"This collection brings together the best of C...</td>\n",
       "      <td>NaN</td>\n",
       "      <td>['Books', 'Biographies &amp; Memoirs', 'Arts &amp; Lit...</td>\n",
       "    </tr>\n",
       "    <tr>\n",
       "      <td>998</td>\n",
       "      <td>0006329535</td>\n",
       "      <td>Hanover to Windsor (British monarchy series)</td>\n",
       "      <td>'Publisher-Fontana/Collins-British Monarchy Se...</td>\n",
       "      <td>4.48</td>\n",
       "      <td>['Books', 'Biographies &amp; Memoirs', 'Leaders &amp; ...</td>\n",
       "    </tr>\n",
       "  </tbody>\n",
       "</table>\n",
       "<p>908 rows × 5 columns</p>\n",
       "</div>"
      ],
      "text/plain": [
       "           asin  ...                                         categories\n",
       "0    000255223X  ...  ['Books', 'Cookbooks, Food & Wine', 'Regional ...\n",
       "1    0002317850  ...  ['Books', 'Literature & Fiction', 'British & I...\n",
       "2    0002553457  ...  ['Books', 'Cookbooks, Food & Wine', 'Cooking b...\n",
       "3    0002551543  ...  ['Books', 'Cookbooks, Food & Wine', 'Regional ...\n",
       "4    0002320371  ...          ['Books', 'Mystery, Thriller & Suspense']\n",
       "..          ...  ...                                                ...\n",
       "994  0006281141  ...               ['Books', 'Religion & Spirituality']\n",
       "995  0006274765  ...  ['Books', 'Arts & Photography', 'History & Cri...\n",
       "996  0006281052  ...  ['Books', 'Christian Books & Bibles', 'Christi...\n",
       "997  0006281451  ...  ['Books', 'Biographies & Memoirs', 'Arts & Lit...\n",
       "998  0006329535  ...  ['Books', 'Biographies & Memoirs', 'Leaders & ...\n",
       "\n",
       "[908 rows x 5 columns]"
      ]
     },
     "execution_count": 39,
     "metadata": {},
     "output_type": "execute_result"
    }
   ],
   "source": [
    "df[(~df.categories.isnull()) & (df.categories.str.contains('Book'))]"
   ]
  },
  {
   "cell_type": "code",
   "execution_count": 41,
   "metadata": {
    "ExecuteTime": {
     "end_time": "2020-05-04T19:14:17.311619Z",
     "start_time": "2020-05-04T19:14:17.296806Z"
    }
   },
   "outputs": [],
   "source": [
    "df.categories = df.categories.str.replace('[', '').str.replace(']', '').str.replace(\"'Books', \", \"\")"
   ]
  },
  {
   "cell_type": "code",
   "execution_count": 35,
   "metadata": {
    "ExecuteTime": {
     "end_time": "2020-05-04T19:07:26.930457Z",
     "start_time": "2020-05-04T19:07:26.922564Z"
    }
   },
   "outputs": [
    {
     "data": {
      "text/plain": [
       "\"['Books', 'Sports & Outdoors', 'Miscellaneous']\""
      ]
     },
     "execution_count": 35,
     "metadata": {},
     "output_type": "execute_result"
    }
   ],
   "source": [
    "df.iloc[179,4]"
   ]
  },
  {
   "cell_type": "code",
   "execution_count": 37,
   "metadata": {
    "ExecuteTime": {
     "end_time": "2020-05-04T19:09:22.635996Z",
     "start_time": "2020-05-04T19:09:22.628820Z"
    }
   },
   "outputs": [
    {
     "data": {
      "text/plain": [
       "'\"A children\\'s musical\"'"
      ]
     },
     "execution_count": 37,
     "metadata": {},
     "output_type": "execute_result"
    }
   ],
   "source": [
    "df.iloc[579,2]"
   ]
  },
  {
   "cell_type": "code",
   "execution_count": 53,
   "metadata": {
    "ExecuteTime": {
     "end_time": "2020-05-04T19:48:49.696307Z",
     "start_time": "2020-05-04T19:48:49.675507Z"
    }
   },
   "outputs": [],
   "source": [
    "test_df = pd.read_csv('/Volumes/external/Sangeetha-Project/metadata.csv', \n",
    "                 names = ['asin', 'title', 'desc', 'price', 'categories'], nrows = 1000)"
   ]
  },
  {
   "cell_type": "code",
   "execution_count": 54,
   "metadata": {
    "ExecuteTime": {
     "end_time": "2020-05-04T19:48:51.161320Z",
     "start_time": "2020-05-04T19:48:51.127040Z"
    }
   },
   "outputs": [
    {
     "data": {
      "text/html": [
       "<div>\n",
       "<style scoped>\n",
       "    .dataframe tbody tr th:only-of-type {\n",
       "        vertical-align: middle;\n",
       "    }\n",
       "\n",
       "    .dataframe tbody tr th {\n",
       "        vertical-align: top;\n",
       "    }\n",
       "\n",
       "    .dataframe thead th {\n",
       "        text-align: right;\n",
       "    }\n",
       "</style>\n",
       "<table border=\"1\" class=\"dataframe\">\n",
       "  <thead>\n",
       "    <tr style=\"text-align: right;\">\n",
       "      <th></th>\n",
       "      <th>asin</th>\n",
       "      <th>title</th>\n",
       "      <th>desc</th>\n",
       "      <th>price</th>\n",
       "      <th>categories</th>\n",
       "    </tr>\n",
       "  </thead>\n",
       "  <tbody>\n",
       "    <tr>\n",
       "      <td>0</td>\n",
       "      <td>0000092878</td>\n",
       "      <td>Biology Gods Living Creation Third Edition 10 ...</td>\n",
       "      <td>\"It is a biology book with God's perspective.\"</td>\n",
       "      <td>39.94</td>\n",
       "      <td>NaN</td>\n",
       "    </tr>\n",
       "    <tr>\n",
       "      <td>1</td>\n",
       "      <td>000047715X</td>\n",
       "      <td>Mksap 16 Audio Companion: Medical Knowledge Se...</td>\n",
       "      <td>NaN</td>\n",
       "      <td>NaN</td>\n",
       "      <td>'New, Used &amp; Rental Textbooks', 'Medicine &amp; He...</td>\n",
       "    </tr>\n",
       "    <tr>\n",
       "      <td>2</td>\n",
       "      <td>0000004545</td>\n",
       "      <td>Flex! Discography of North American Punk, Hard...</td>\n",
       "      <td>'Discography of American Punk, Hardcore, and P...</td>\n",
       "      <td>200.00</td>\n",
       "      <td>'Arts &amp; Photography', 'Music'</td>\n",
       "    </tr>\n",
       "    <tr>\n",
       "      <td>3</td>\n",
       "      <td>0000013765</td>\n",
       "      <td>Heavenly Highway Hymns: Shaped-Note Hymnal</td>\n",
       "      <td>'This is a collection of classic gospel hymns ...</td>\n",
       "      <td>NaN</td>\n",
       "      <td>'Arts &amp; Photography', 'Music'</td>\n",
       "    </tr>\n",
       "    <tr>\n",
       "      <td>4</td>\n",
       "      <td>0000000116</td>\n",
       "      <td>Georgina Goodman Nelson Womens Size 8.5 Purple...</td>\n",
       "      <td>NaN</td>\n",
       "      <td>164.10</td>\n",
       "      <td>NaN</td>\n",
       "    </tr>\n",
       "    <tr>\n",
       "      <td>...</td>\n",
       "      <td>...</td>\n",
       "      <td>...</td>\n",
       "      <td>...</td>\n",
       "      <td>...</td>\n",
       "      <td>...</td>\n",
       "    </tr>\n",
       "    <tr>\n",
       "      <td>995</td>\n",
       "      <td>0002553333</td>\n",
       "      <td>A Day in the Life of the Soviet Union</td>\n",
       "      <td>NaN</td>\n",
       "      <td>18.34</td>\n",
       "      <td>'History', 'Russia'</td>\n",
       "    </tr>\n",
       "    <tr>\n",
       "      <td>996</td>\n",
       "      <td>0002326825</td>\n",
       "      <td>Only Darkness</td>\n",
       "      <td>NaN</td>\n",
       "      <td>32.44</td>\n",
       "      <td>'Mystery, Thriller &amp; Suspense', 'Thrillers &amp; S...</td>\n",
       "    </tr>\n",
       "    <tr>\n",
       "      <td>997</td>\n",
       "      <td>000255156X</td>\n",
       "      <td>Ocean: Photographs from the World's Greatest U...</td>\n",
       "      <td>'This large (10 14) volume of striking photogr...</td>\n",
       "      <td>7.98</td>\n",
       "      <td>'Science &amp; Math', 'Earth Sciences'</td>\n",
       "    </tr>\n",
       "    <tr>\n",
       "      <td>998</td>\n",
       "      <td>0002253844</td>\n",
       "      <td>Ramage's Diamond</td>\n",
       "      <td>NaN</td>\n",
       "      <td>6.12</td>\n",
       "      <td>'Literature &amp; Fiction', 'Genre Fiction'</td>\n",
       "    </tr>\n",
       "    <tr>\n",
       "      <td>999</td>\n",
       "      <td>000250653X</td>\n",
       "      <td>Jesus of Nazareth</td>\n",
       "      <td>'1977 publish date'</td>\n",
       "      <td>16.98</td>\n",
       "      <td>'Christian Books &amp; Bibles'</td>\n",
       "    </tr>\n",
       "  </tbody>\n",
       "</table>\n",
       "<p>1000 rows × 5 columns</p>\n",
       "</div>"
      ],
      "text/plain": [
       "           asin  ...                                         categories\n",
       "0    0000092878  ...                                                NaN\n",
       "1    000047715X  ...  'New, Used & Rental Textbooks', 'Medicine & He...\n",
       "2    0000004545  ...                      'Arts & Photography', 'Music'\n",
       "3    0000013765  ...                      'Arts & Photography', 'Music'\n",
       "4    0000000116  ...                                                NaN\n",
       "..          ...  ...                                                ...\n",
       "995  0002553333  ...                                'History', 'Russia'\n",
       "996  0002326825  ...  'Mystery, Thriller & Suspense', 'Thrillers & S...\n",
       "997  000255156X  ...                 'Science & Math', 'Earth Sciences'\n",
       "998  0002253844  ...            'Literature & Fiction', 'Genre Fiction'\n",
       "999  000250653X  ...                         'Christian Books & Bibles'\n",
       "\n",
       "[1000 rows x 5 columns]"
      ]
     },
     "execution_count": 54,
     "metadata": {},
     "output_type": "execute_result"
    }
   ],
   "source": [
    "test_df"
   ]
  },
  {
   "cell_type": "code",
   "execution_count": 55,
   "metadata": {
    "ExecuteTime": {
     "end_time": "2020-05-04T19:49:13.264331Z",
     "start_time": "2020-05-04T19:49:13.255037Z"
    }
   },
   "outputs": [
    {
     "name": "stdout",
     "output_type": "stream",
     "text": [
      "<class 'pandas.core.frame.DataFrame'>\n",
      "RangeIndex: 1000 entries, 0 to 999\n",
      "Data columns (total 5 columns):\n",
      "asin          1000 non-null object\n",
      "title         1000 non-null object\n",
      "desc          512 non-null object\n",
      "price         872 non-null float64\n",
      "categories    840 non-null object\n",
      "dtypes: float64(1), object(4)\n",
      "memory usage: 39.2+ KB\n"
     ]
    }
   ],
   "source": [
    "test_df.info()"
   ]
  },
  {
   "cell_type": "markdown",
   "metadata": {},
   "source": [
    "### Only getting the relevant meta_data"
   ]
  },
  {
   "cell_type": "code",
   "execution_count": null,
   "metadata": {},
   "outputs": [],
   "source": [
    "df_sub = pd.read_csv('/Volumes/external/Sangeetha-Project/df_sub.csv.gz', compression = 'gzip')"
   ]
  },
  {
   "cell_type": "code",
   "execution_count": null,
   "metadata": {},
   "outputs": [],
   "source": [
    "asin_list = pd.DataFrame(np.unique(df_sub.asin), columns = ['asin']"
   ]
  },
  {
   "cell_type": "code",
   "execution_count": null,
   "metadata": {},
   "outputs": [],
   "source": [
    "asin_list.head()"
   ]
  },
  {
   "cell_type": "code",
   "execution_count": null,
   "metadata": {},
   "outputs": [],
   "source": [
    "reader = pd.read_csv('/Volumes/external/Sangeetha-Project/metadata.csv', chunksize = 100000, names = ['asin', 'title', 'desc', 'price', 'categories'])\n",
    "\n",
    "counter = 0\n",
    "\n",
    "for df in reader:\n",
    "  print(df.shape)\n",
    "  df_merge = asin_list.merge(df, on = 'asin')\n",
    "  print(df_merge.shape)\n",
    "  df_merge.to_csv('/Volumes/external/Sangeetha-Project/meta_df_sub.csv.gz', compression='gzip', columns = ['asin', 'title', 'desc', 'price', 'categories'], header=False, mode = 'a', index=False)\n",
    "  counter+=10000\n",
    "  print(counter)"
   ]
  },
  {
   "cell_type": "code",
   "execution_count": null,
   "metadata": {},
   "outputs": [],
   "source": [
    "meta = pd.read_csv('/Volumes/external/Sangeetha-Project/meta_df_sub.csv.gz', compression = 'gzip', names = ['asin', 'title', 'desc', 'price', 'categories'])"
   ]
  },
  {
   "cell_type": "code",
   "execution_count": null,
   "metadata": {},
   "outputs": [],
   "source": [
    "meta.asin"
   ]
  }
 ],
 "metadata": {
  "kernelspec": {
   "display_name": "Python 3",
   "language": "python",
   "name": "python3"
  },
  "language_info": {
   "codemirror_mode": {
    "name": "ipython",
    "version": 3
   },
   "file_extension": ".py",
   "mimetype": "text/x-python",
   "name": "python",
   "nbconvert_exporter": "python",
   "pygments_lexer": "ipython3",
   "version": "3.7.4"
  },
  "toc": {
   "base_numbering": 1,
   "nav_menu": {},
   "number_sections": true,
   "sideBar": true,
   "skip_h1_title": false,
   "title_cell": "Table of Contents",
   "title_sidebar": "Contents",
   "toc_cell": false,
   "toc_position": {},
   "toc_section_display": true,
   "toc_window_display": false
  },
  "varInspector": {
   "cols": {
    "lenName": 16,
    "lenType": 16,
    "lenVar": 40
   },
   "kernels_config": {
    "python": {
     "delete_cmd_postfix": "",
     "delete_cmd_prefix": "del ",
     "library": "var_list.py",
     "varRefreshCmd": "print(var_dic_list())"
    },
    "r": {
     "delete_cmd_postfix": ") ",
     "delete_cmd_prefix": "rm(",
     "library": "var_list.r",
     "varRefreshCmd": "cat(var_dic_list()) "
    }
   },
   "types_to_exclude": [
    "module",
    "function",
    "builtin_function_or_method",
    "instance",
    "_Feature"
   ],
   "window_display": false
  }
 },
 "nbformat": 4,
 "nbformat_minor": 2
}
