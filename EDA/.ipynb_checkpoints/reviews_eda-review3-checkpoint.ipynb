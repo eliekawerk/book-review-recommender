{
 "cells": [
  {
   "cell_type": "code",
   "execution_count": 1,
   "metadata": {
    "ExecuteTime": {
     "end_time": "2020-05-06T15:39:39.855096Z",
     "start_time": "2020-05-06T15:39:37.844935Z"
    }
   },
   "outputs": [],
   "source": [
    "import pandas as pd \n",
    "import numpy as np \n",
    "import matplotlib.pyplot as plt\n",
    "import seaborn as sns\n",
    "import dask.dataframe as dd"
   ]
  },
  {
   "cell_type": "code",
   "execution_count": 2,
   "metadata": {
    "ExecuteTime": {
     "end_time": "2020-05-06T15:40:30.742075Z",
     "start_time": "2020-05-06T15:39:40.476958Z"
    }
   },
   "outputs": [],
   "source": [
    "df = pd.read_csv('/Volumes/external/Sangeetha-Project/reviews2.csv',\n",
    "                 names=['reviwerId', 'asin', 'review', 'rating',\n",
    "                        'summary', 'unixtime', 'pos_votes', 'total_votes']) \\\n",
    "    .drop(columns=['review', 'summary', 'unixtime', 'pos_votes', 'total_votes']) \\\n",
    "    .astype({'rating': 'int8'})"
   ]
  },
  {
   "cell_type": "code",
   "execution_count": 16,
   "metadata": {
    "ExecuteTime": {
     "end_time": "2020-05-06T16:56:17.968444Z",
     "start_time": "2020-05-06T16:56:17.955407Z"
    }
   },
   "outputs": [
    {
     "data": {
      "text/html": [
       "<div>\n",
       "<style scoped>\n",
       "    .dataframe tbody tr th:only-of-type {\n",
       "        vertical-align: middle;\n",
       "    }\n",
       "\n",
       "    .dataframe tbody tr th {\n",
       "        vertical-align: top;\n",
       "    }\n",
       "\n",
       "    .dataframe thead th {\n",
       "        text-align: right;\n",
       "    }\n",
       "</style>\n",
       "<table border=\"1\" class=\"dataframe\">\n",
       "  <thead>\n",
       "    <tr style=\"text-align: right;\">\n",
       "      <th></th>\n",
       "      <th>reviwerId</th>\n",
       "      <th>asin</th>\n",
       "      <th>rating</th>\n",
       "    </tr>\n",
       "  </thead>\n",
       "  <tbody>\n",
       "    <tr>\n",
       "      <td>0</td>\n",
       "      <td>A11GG623AD89YT</td>\n",
       "      <td>0578124114</td>\n",
       "      <td>4</td>\n",
       "    </tr>\n",
       "    <tr>\n",
       "      <td>1</td>\n",
       "      <td>A17APVES3TT17Y</td>\n",
       "      <td>0578124114</td>\n",
       "      <td>4</td>\n",
       "    </tr>\n",
       "    <tr>\n",
       "      <td>2</td>\n",
       "      <td>A3T53I4UUNBKLK</td>\n",
       "      <td>0578124114</td>\n",
       "      <td>5</td>\n",
       "    </tr>\n",
       "    <tr>\n",
       "      <td>3</td>\n",
       "      <td>AW7JJRAMYZY1X</td>\n",
       "      <td>0578124114</td>\n",
       "      <td>3</td>\n",
       "    </tr>\n",
       "    <tr>\n",
       "      <td>4</td>\n",
       "      <td>A1WFOGD2IDKJPS</td>\n",
       "      <td>0578124114</td>\n",
       "      <td>4</td>\n",
       "    </tr>\n",
       "  </tbody>\n",
       "</table>\n",
       "</div>"
      ],
      "text/plain": [
       "        reviwerId        asin  rating\n",
       "0  A11GG623AD89YT  0578124114       4\n",
       "1  A17APVES3TT17Y  0578124114       4\n",
       "2  A3T53I4UUNBKLK  0578124114       5\n",
       "3   AW7JJRAMYZY1X  0578124114       3\n",
       "4  A1WFOGD2IDKJPS  0578124114       4"
      ]
     },
     "execution_count": 16,
     "metadata": {},
     "output_type": "execute_result"
    }
   ],
   "source": [
    "df.head()"
   ]
  },
  {
   "cell_type": "code",
   "execution_count": 17,
   "metadata": {
    "ExecuteTime": {
     "end_time": "2020-05-06T16:56:18.966816Z",
     "start_time": "2020-05-06T16:56:18.959707Z"
    }
   },
   "outputs": [
    {
     "name": "stdout",
     "output_type": "stream",
     "text": [
      "<class 'pandas.core.frame.DataFrame'>\n",
      "RangeIndex: 3000000 entries, 0 to 2999999\n",
      "Data columns (total 3 columns):\n",
      "reviwerId    object\n",
      "asin         object\n",
      "rating       int8\n",
      "dtypes: int8(1), object(2)\n",
      "memory usage: 48.6+ MB\n"
     ]
    }
   ],
   "source": [
    "df.info()"
   ]
  },
  {
   "cell_type": "code",
   "execution_count": 18,
   "metadata": {
    "ExecuteTime": {
     "end_time": "2020-05-06T16:56:19.272695Z",
     "start_time": "2020-05-06T16:56:19.266559Z"
    }
   },
   "outputs": [],
   "source": [
    "small_df = df.iloc[:1000].copy()"
   ]
  },
  {
   "cell_type": "code",
   "execution_count": 19,
   "metadata": {
    "ExecuteTime": {
     "end_time": "2020-05-06T16:56:19.494689Z",
     "start_time": "2020-05-06T16:56:19.482564Z"
    }
   },
   "outputs": [
    {
     "data": {
      "text/html": [
       "<div>\n",
       "<style scoped>\n",
       "    .dataframe tbody tr th:only-of-type {\n",
       "        vertical-align: middle;\n",
       "    }\n",
       "\n",
       "    .dataframe tbody tr th {\n",
       "        vertical-align: top;\n",
       "    }\n",
       "\n",
       "    .dataframe thead th {\n",
       "        text-align: right;\n",
       "    }\n",
       "</style>\n",
       "<table border=\"1\" class=\"dataframe\">\n",
       "  <thead>\n",
       "    <tr style=\"text-align: right;\">\n",
       "      <th></th>\n",
       "      <th>reviwerId</th>\n",
       "      <th>asin</th>\n",
       "      <th>rating</th>\n",
       "    </tr>\n",
       "  </thead>\n",
       "  <tbody>\n",
       "    <tr>\n",
       "      <td>0</td>\n",
       "      <td>A11GG623AD89YT</td>\n",
       "      <td>0578124114</td>\n",
       "      <td>4</td>\n",
       "    </tr>\n",
       "    <tr>\n",
       "      <td>1</td>\n",
       "      <td>A17APVES3TT17Y</td>\n",
       "      <td>0578124114</td>\n",
       "      <td>4</td>\n",
       "    </tr>\n",
       "    <tr>\n",
       "      <td>2</td>\n",
       "      <td>A3T53I4UUNBKLK</td>\n",
       "      <td>0578124114</td>\n",
       "      <td>5</td>\n",
       "    </tr>\n",
       "    <tr>\n",
       "      <td>3</td>\n",
       "      <td>AW7JJRAMYZY1X</td>\n",
       "      <td>0578124114</td>\n",
       "      <td>3</td>\n",
       "    </tr>\n",
       "    <tr>\n",
       "      <td>4</td>\n",
       "      <td>A1WFOGD2IDKJPS</td>\n",
       "      <td>0578124114</td>\n",
       "      <td>4</td>\n",
       "    </tr>\n",
       "  </tbody>\n",
       "</table>\n",
       "</div>"
      ],
      "text/plain": [
       "        reviwerId        asin  rating\n",
       "0  A11GG623AD89YT  0578124114       4\n",
       "1  A17APVES3TT17Y  0578124114       4\n",
       "2  A3T53I4UUNBKLK  0578124114       5\n",
       "3   AW7JJRAMYZY1X  0578124114       3\n",
       "4  A1WFOGD2IDKJPS  0578124114       4"
      ]
     },
     "execution_count": 19,
     "metadata": {},
     "output_type": "execute_result"
    }
   ],
   "source": [
    "small_df.head()"
   ]
  },
  {
   "cell_type": "code",
   "execution_count": 20,
   "metadata": {
    "ExecuteTime": {
     "end_time": "2020-05-06T16:56:19.672364Z",
     "start_time": "2020-05-06T16:56:19.662807Z"
    }
   },
   "outputs": [
    {
     "name": "stdout",
     "output_type": "stream",
     "text": [
      "<class 'pandas.core.frame.DataFrame'>\n",
      "RangeIndex: 1000 entries, 0 to 999\n",
      "Data columns (total 3 columns):\n",
      "reviwerId    1000 non-null object\n",
      "asin         1000 non-null object\n",
      "rating       1000 non-null int8\n",
      "dtypes: int8(1), object(2)\n",
      "memory usage: 16.7+ KB\n"
     ]
    }
   ],
   "source": [
    "small_df.info()"
   ]
  },
  {
   "cell_type": "code",
   "execution_count": 21,
   "metadata": {
    "ExecuteTime": {
     "end_time": "2020-05-06T16:56:25.888300Z",
     "start_time": "2020-05-06T16:56:20.592495Z"
    }
   },
   "outputs": [
    {
     "name": "stdout",
     "output_type": "stream",
     "text": [
      "Reviewers under 5:  0.6959542415268299\n",
      "Mean reviewers:  5.440528674306378\n",
      "Median reviewers:  3.0\n",
      "-----------------------------------------------\n",
      "Books under 5:  0.0\n",
      "Mean books:  24.50379808870375\n",
      "Median books:  10.0\n"
     ]
    }
   ],
   "source": [
    "print('Reviewers under 5: ', (df.reviwerId.value_counts() < 5).mean())\n",
    "print('Mean reviewers: ', df.reviwerId.value_counts().mean())\n",
    "print('Median reviewers: ', df.reviwerId.value_counts().median())\n",
    "print('-----------------------------------------------')\n",
    "print('Books under 5: ', (df.asin.value_counts() < 5).mean())\n",
    "print('Mean books: ', df.asin.value_counts().mean())\n",
    "print('Median books: ', df.asin.value_counts().median())"
   ]
  },
  {
   "cell_type": "code",
   "execution_count": 22,
   "metadata": {
    "ExecuteTime": {
     "end_time": "2020-05-06T16:56:30.719301Z",
     "start_time": "2020-05-06T16:56:30.709295Z"
    }
   },
   "outputs": [
    {
     "data": {
      "text/plain": [
       "0.0"
      ]
     },
     "execution_count": 22,
     "metadata": {},
     "output_type": "execute_result"
    }
   ],
   "source": [
    "(small_df.asin.value_counts() == 1).mean()"
   ]
  },
  {
   "cell_type": "code",
   "execution_count": 23,
   "metadata": {
    "ExecuteTime": {
     "end_time": "2020-05-06T16:56:30.959061Z",
     "start_time": "2020-05-06T16:56:30.951479Z"
    }
   },
   "outputs": [],
   "source": [
    "counts = small_df.asin.value_counts()"
   ]
  },
  {
   "cell_type": "code",
   "execution_count": 24,
   "metadata": {
    "ExecuteTime": {
     "end_time": "2020-05-06T16:56:31.140910Z",
     "start_time": "2020-05-06T16:56:31.127876Z"
    }
   },
   "outputs": [
    {
     "data": {
      "text/plain": [
       "['0578124114', '0578126842']"
      ]
     },
     "execution_count": 24,
     "metadata": {},
     "output_type": "execute_result"
    }
   ],
   "source": [
    "list(counts[counts == 5].index)"
   ]
  },
  {
   "cell_type": "code",
   "execution_count": 25,
   "metadata": {
    "ExecuteTime": {
     "end_time": "2020-05-06T16:56:33.100154Z",
     "start_time": "2020-05-06T16:56:31.303625Z"
    }
   },
   "outputs": [],
   "source": [
    "id_counts = df.reviwerId.value_counts()"
   ]
  },
  {
   "cell_type": "code",
   "execution_count": 26,
   "metadata": {
    "ExecuteTime": {
     "end_time": "2020-05-06T16:56:33.622048Z",
     "start_time": "2020-05-06T16:56:33.239137Z"
    }
   },
   "outputs": [
    {
     "data": {
      "text/plain": [
       "147674355X    3725\n",
       "1469984202    3230\n",
       "0849922070    2925\n",
       "0857521012    2779\n",
       "1442359315    2580\n",
       "              ... \n",
       "0982816405       5\n",
       "1423127528       5\n",
       "0819217816       5\n",
       "0761127844       5\n",
       "0825305543       5\n",
       "Name: asin, Length: 122430, dtype: int64"
      ]
     },
     "execution_count": 26,
     "metadata": {},
     "output_type": "execute_result"
    }
   ],
   "source": [
    "book_counts= df.asin.value_counts()\n",
    "book_counts"
   ]
  },
  {
   "cell_type": "code",
   "execution_count": 27,
   "metadata": {
    "ExecuteTime": {
     "end_time": "2020-05-06T16:56:33.951189Z",
     "start_time": "2020-05-06T16:56:33.715374Z"
    }
   },
   "outputs": [
    {
     "data": {
      "text/plain": [
       "213263"
      ]
     },
     "execution_count": 27,
     "metadata": {},
     "output_type": "execute_result"
    }
   ],
   "source": [
    "id_counts_1 = list(id_counts[id_counts <3].index)\n",
    "id_counts_1[:5]\n",
    "len(id_counts_1)"
   ]
  },
  {
   "cell_type": "code",
   "execution_count": 28,
   "metadata": {
    "ExecuteTime": {
     "end_time": "2020-05-06T16:56:34.910146Z",
     "start_time": "2020-05-06T16:56:34.173002Z"
    }
   },
   "outputs": [
    {
     "data": {
      "text/html": [
       "<div>\n",
       "<style scoped>\n",
       "    .dataframe tbody tr th:only-of-type {\n",
       "        vertical-align: middle;\n",
       "    }\n",
       "\n",
       "    .dataframe tbody tr th {\n",
       "        vertical-align: top;\n",
       "    }\n",
       "\n",
       "    .dataframe thead th {\n",
       "        text-align: right;\n",
       "    }\n",
       "</style>\n",
       "<table border=\"1\" class=\"dataframe\">\n",
       "  <thead>\n",
       "    <tr style=\"text-align: right;\">\n",
       "      <th></th>\n",
       "      <th>reviwerId</th>\n",
       "      <th>asin</th>\n",
       "      <th>rating</th>\n",
       "    </tr>\n",
       "  </thead>\n",
       "  <tbody>\n",
       "    <tr>\n",
       "      <td>7</td>\n",
       "      <td>A2BNVNPOTJJ2ZL</td>\n",
       "      <td>0578124688</td>\n",
       "      <td>2</td>\n",
       "    </tr>\n",
       "    <tr>\n",
       "      <td>10</td>\n",
       "      <td>A9JYJNPG5N8GI</td>\n",
       "      <td>0578124688</td>\n",
       "      <td>5</td>\n",
       "    </tr>\n",
       "    <tr>\n",
       "      <td>17</td>\n",
       "      <td>A1PZ2M1BH1OKMW</td>\n",
       "      <td>0578124688</td>\n",
       "      <td>5</td>\n",
       "    </tr>\n",
       "    <tr>\n",
       "      <td>22</td>\n",
       "      <td>A2G7RU33OJQOVK</td>\n",
       "      <td>0578124688</td>\n",
       "      <td>3</td>\n",
       "    </tr>\n",
       "    <tr>\n",
       "      <td>24</td>\n",
       "      <td>AXYHUMYGJRIXB</td>\n",
       "      <td>0578124696</td>\n",
       "      <td>4</td>\n",
       "    </tr>\n",
       "    <tr>\n",
       "      <td>...</td>\n",
       "      <td>...</td>\n",
       "      <td>...</td>\n",
       "      <td>...</td>\n",
       "    </tr>\n",
       "    <tr>\n",
       "      <td>2999978</td>\n",
       "      <td>A33C6NQ1MNEPYG</td>\n",
       "      <td>1481948067</td>\n",
       "      <td>1</td>\n",
       "    </tr>\n",
       "    <tr>\n",
       "      <td>2999984</td>\n",
       "      <td>A1RLK341TRY9UC</td>\n",
       "      <td>1481948067</td>\n",
       "      <td>4</td>\n",
       "    </tr>\n",
       "    <tr>\n",
       "      <td>2999986</td>\n",
       "      <td>AZ2SS29M7Y5K0</td>\n",
       "      <td>1481948377</td>\n",
       "      <td>5</td>\n",
       "    </tr>\n",
       "    <tr>\n",
       "      <td>2999989</td>\n",
       "      <td>A20ZWS1BZU9T0A</td>\n",
       "      <td>1481948377</td>\n",
       "      <td>5</td>\n",
       "    </tr>\n",
       "    <tr>\n",
       "      <td>2999998</td>\n",
       "      <td>A3QLM0M2TNM17I</td>\n",
       "      <td>1481948377</td>\n",
       "      <td>5</td>\n",
       "    </tr>\n",
       "  </tbody>\n",
       "</table>\n",
       "<p>328798 rows × 3 columns</p>\n",
       "</div>"
      ],
      "text/plain": [
       "              reviwerId        asin  rating\n",
       "7        A2BNVNPOTJJ2ZL  0578124688       2\n",
       "10        A9JYJNPG5N8GI  0578124688       5\n",
       "17       A1PZ2M1BH1OKMW  0578124688       5\n",
       "22       A2G7RU33OJQOVK  0578124688       3\n",
       "24        AXYHUMYGJRIXB  0578124696       4\n",
       "...                 ...         ...     ...\n",
       "2999978  A33C6NQ1MNEPYG  1481948067       1\n",
       "2999984  A1RLK341TRY9UC  1481948067       4\n",
       "2999986   AZ2SS29M7Y5K0  1481948377       5\n",
       "2999989  A20ZWS1BZU9T0A  1481948377       5\n",
       "2999998  A3QLM0M2TNM17I  1481948377       5\n",
       "\n",
       "[328798 rows x 3 columns]"
      ]
     },
     "execution_count": 28,
     "metadata": {},
     "output_type": "execute_result"
    }
   ],
   "source": [
    "df[df.reviwerId.isin(id_counts_1)]"
   ]
  },
  {
   "cell_type": "code",
   "execution_count": 29,
   "metadata": {
    "ExecuteTime": {
     "end_time": "2020-05-06T16:56:36.191225Z",
     "start_time": "2020-05-06T16:56:35.090906Z"
    }
   },
   "outputs": [],
   "source": [
    "df_dense = df.drop(index = df[df.reviwerId.isin(id_counts_1)].index)"
   ]
  },
  {
   "cell_type": "code",
   "execution_count": 30,
   "metadata": {
    "ExecuteTime": {
     "end_time": "2020-05-06T16:56:36.423017Z",
     "start_time": "2020-05-06T16:56:36.413212Z"
    }
   },
   "outputs": [
    {
     "name": "stdout",
     "output_type": "stream",
     "text": [
      "<class 'pandas.core.frame.DataFrame'>\n",
      "Int64Index: 2671202 entries, 0 to 2999999\n",
      "Data columns (total 3 columns):\n",
      "reviwerId    object\n",
      "asin         object\n",
      "rating       int8\n",
      "dtypes: int8(1), object(2)\n",
      "memory usage: 63.7+ MB\n"
     ]
    }
   ],
   "source": [
    "df_dense.info()"
   ]
  },
  {
   "cell_type": "code",
   "execution_count": 31,
   "metadata": {
    "ExecuteTime": {
     "end_time": "2020-05-06T16:56:40.848723Z",
     "start_time": "2020-05-06T16:56:36.626369Z"
    }
   },
   "outputs": [
    {
     "name": "stdout",
     "output_type": "stream",
     "text": [
      "Reviewers under 5:  0.5042022273875216\n",
      "Mean reviewers:  7.899365377904742\n",
      "Median reviewers:  4.0\n",
      "-----------------------------------------------\n",
      "Books under 5:  0.08969719742205305\n",
      "Mean books:  21.819445692394403\n",
      "Median books:  9.0\n"
     ]
    }
   ],
   "source": [
    "print('Reviewers under 5: ', (df_dense.reviwerId.value_counts() < 5).mean())\n",
    "print('Mean reviewers: ', df_dense.reviwerId.value_counts().mean())\n",
    "print('Median reviewers: ', df_dense.reviwerId.value_counts().median())\n",
    "print('-----------------------------------------------')\n",
    "print('Books under 5: ', (df_dense.asin.value_counts() < 5).mean())\n",
    "print('Mean books: ', df_dense.asin.value_counts().mean())\n",
    "print('Median books: ', df_dense.asin.value_counts().median())"
   ]
  },
  {
   "cell_type": "code",
   "execution_count": 32,
   "metadata": {
    "ExecuteTime": {
     "end_time": "2020-05-06T16:56:41.396550Z",
     "start_time": "2020-05-06T16:56:41.080895Z"
    }
   },
   "outputs": [
    {
     "data": {
      "text/plain": [
       "147674355X    3344\n",
       "1469984202    2642\n",
       "0849922070    2409\n",
       "144235948X    2335\n",
       "1455548987    2062\n",
       "              ... \n",
       "0967841445       1\n",
       "0789201399       1\n",
       "0758229461       1\n",
       "0915807025       1\n",
       "0984049363       1\n",
       "Name: asin, Length: 122423, dtype: int64"
      ]
     },
     "execution_count": 32,
     "metadata": {},
     "output_type": "execute_result"
    }
   ],
   "source": [
    "df_dense.asin.value_counts()"
   ]
  },
  {
   "cell_type": "code",
   "execution_count": 33,
   "metadata": {
    "ExecuteTime": {
     "end_time": "2020-05-06T16:56:43.077229Z",
     "start_time": "2020-05-06T16:56:41.648539Z"
    }
   },
   "outputs": [
    {
     "data": {
      "text/plain": [
       "AFVQZQ8PW0L       7174\n",
       "A14OJS0VWMOSWO    6673\n",
       "A2F6N60Z96CAJI    1734\n",
       "A2VKWLCNZF4ZVB    1161\n",
       "A328S9RN3U5M68    1113\n",
       "                  ... \n",
       "A4CNYOX1VONFB        3\n",
       "A1R5K4YDY3ZFTX       3\n",
       "AJQXSJC9O6PEQ        3\n",
       "A2EORY4JQPBCQJ       3\n",
       "A3VRAJQI7LBXMA       3\n",
       "Name: reviwerId, Length: 338154, dtype: int64"
      ]
     },
     "execution_count": 33,
     "metadata": {},
     "output_type": "execute_result"
    }
   ],
   "source": [
    "df_dense.reviwerId.value_counts()"
   ]
  },
  {
   "cell_type": "code",
   "execution_count": 34,
   "metadata": {
    "ExecuteTime": {
     "end_time": "2020-05-06T16:56:43.474667Z",
     "start_time": "2020-05-06T16:56:43.320570Z"
    }
   },
   "outputs": [
    {
     "data": {
      "text/plain": [
       "122423"
      ]
     },
     "execution_count": 34,
     "metadata": {},
     "output_type": "execute_result"
    }
   ],
   "source": [
    "len(df_dense.asin.unique())"
   ]
  },
  {
   "cell_type": "code",
   "execution_count": 35,
   "metadata": {
    "ExecuteTime": {
     "end_time": "2020-05-06T16:56:44.185942Z",
     "start_time": "2020-05-06T16:56:43.658101Z"
    }
   },
   "outputs": [
    {
     "data": {
      "text/plain": [
       "338154"
      ]
     },
     "execution_count": 35,
     "metadata": {},
     "output_type": "execute_result"
    }
   ],
   "source": [
    "len(df_dense.reviwerId.unique())"
   ]
  },
  {
   "cell_type": "code",
   "execution_count": null,
   "metadata": {},
   "outputs": [],
   "source": []
  },
  {
   "cell_type": "code",
   "execution_count": null,
   "metadata": {},
   "outputs": [],
   "source": []
  }
 ],
 "metadata": {
  "kernelspec": {
   "display_name": "Python 3",
   "language": "python",
   "name": "python3"
  },
  "language_info": {
   "codemirror_mode": {
    "name": "ipython",
    "version": 3
   },
   "file_extension": ".py",
   "mimetype": "text/x-python",
   "name": "python",
   "nbconvert_exporter": "python",
   "pygments_lexer": "ipython3",
   "version": "3.7.4"
  },
  "toc": {
   "base_numbering": 1,
   "nav_menu": {},
   "number_sections": true,
   "sideBar": true,
   "skip_h1_title": false,
   "title_cell": "Table of Contents",
   "title_sidebar": "Contents",
   "toc_cell": false,
   "toc_position": {},
   "toc_section_display": true,
   "toc_window_display": false
  },
  "varInspector": {
   "cols": {
    "lenName": 16,
    "lenType": 16,
    "lenVar": 40
   },
   "kernels_config": {
    "python": {
     "delete_cmd_postfix": "",
     "delete_cmd_prefix": "del ",
     "library": "var_list.py",
     "varRefreshCmd": "print(var_dic_list())"
    },
    "r": {
     "delete_cmd_postfix": ") ",
     "delete_cmd_prefix": "rm(",
     "library": "var_list.r",
     "varRefreshCmd": "cat(var_dic_list()) "
    }
   },
   "types_to_exclude": [
    "module",
    "function",
    "builtin_function_or_method",
    "instance",
    "_Feature"
   ],
   "window_display": false
  }
 },
 "nbformat": 4,
 "nbformat_minor": 2
}
