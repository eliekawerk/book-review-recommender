{
 "cells": [
  {
   "cell_type": "code",
   "execution_count": 6,
   "metadata": {
    "ExecuteTime": {
     "end_time": "2020-04-16T13:32:03.965520Z",
     "start_time": "2020-04-16T13:32:03.954964Z"
    }
   },
   "outputs": [],
   "source": [
    "import numpy as np\n",
    "import pandas as pd\n",
    "import gzip"
   ]
  },
  {
   "cell_type": "code",
   "execution_count": 15,
   "metadata": {
    "ExecuteTime": {
     "end_time": "2020-04-16T13:39:43.847347Z",
     "start_time": "2020-04-16T13:39:43.836031Z"
    }
   },
   "outputs": [
    {
     "data": {
      "text/plain": [
       "\"with gzip.open('https://s3.amazonaws.com/amazon-reviews-pds/tsv/amazon_reviews_us_Books_v1_01.tsv.gz') as f:\\n    amazon2 = pd.read_csv(f, sep = '\\t', header=0, skiprows= lambda x: x in [2750082])\\n\\namazon2.head()\""
      ]
     },
     "execution_count": 15,
     "metadata": {},
     "output_type": "execute_result"
    }
   ],
   "source": [
    "'''with gzip.open('https://s3.amazonaws.com/amazon-reviews-pds/tsv/amazon_reviews_us_Books_v1_01.tsv.gz') as f:\n",
    "    amazon2 = pd.read_csv(f, sep = '\\t', header=0, skiprows= lambda x: x in [2750082])\n",
    "\n",
    "amazon2.head()'''"
   ]
  },
  {
   "cell_type": "code",
   "execution_count": 27,
   "metadata": {
    "ExecuteTime": {
     "end_time": "2020-04-16T14:18:50.083152Z",
     "start_time": "2020-04-16T14:17:48.271317Z"
    }
   },
   "outputs": [
    {
     "name": "stdout",
     "output_type": "stream",
     "text": [
      "(3105370, 10)\n"
     ]
    }
   ],
   "source": [
    "#amazon = pd.read_csv(f, sep = '\\t', header=0, skiprows= lambda x: x in [1680000], compression = 'gzip')\n",
    "\n",
    "with gzip.open('/Users/Sangeetha/GA/amazon_reviews_us_Books_v1_02.tsv.gz') as f:\n",
    "    amazon = pd.read_csv(f, sep = '\\t', header=0, nrows = 1)\n",
    "\n",
    "headers = amazon.columns\n",
    "\n",
    "with gzip.open('/Users/Sangeetha/GA/amazon_reviews_us_Books_v1_02.tsv.gz') as f:\n",
    "    amazon = pd.read_csv(f, sep = '\\t', header=0,\n",
    "                         skiprows= lambda x: x in [1680000], \n",
    "                         usecols= [i for i in headers if i not in \n",
    "                                   ['review_body', 'product_category', 'vine', 'review_id', 'marketplace']])\n",
    "\n",
    "amazon.head()\n",
    "print(amazon.shape)"
   ]
  },
  {
   "cell_type": "code",
   "execution_count": 28,
   "metadata": {
    "ExecuteTime": {
     "end_time": "2020-04-16T14:24:12.660625Z",
     "start_time": "2020-04-16T14:24:12.652543Z"
    }
   },
   "outputs": [
    {
     "name": "stdout",
     "output_type": "stream",
     "text": [
      "<class 'pandas.core.frame.DataFrame'>\n",
      "RangeIndex: 3105370 entries, 0 to 3105369\n",
      "Data columns (total 10 columns):\n",
      "customer_id          int64\n",
      "product_id           object\n",
      "product_parent       int64\n",
      "product_title        object\n",
      "star_rating          float64\n",
      "helpful_votes        float64\n",
      "total_votes          float64\n",
      "verified_purchase    object\n",
      "review_headline      object\n",
      "review_date          object\n",
      "dtypes: float64(3), int64(2), object(5)\n",
      "memory usage: 236.9+ MB\n"
     ]
    }
   ],
   "source": [
    "amazon.info()"
   ]
  },
  {
   "cell_type": "code",
   "execution_count": 29,
   "metadata": {
    "ExecuteTime": {
     "end_time": "2020-04-16T14:24:14.908757Z",
     "start_time": "2020-04-16T14:24:14.896456Z"
    }
   },
   "outputs": [
    {
     "data": {
      "text/plain": [
       "(3105370, 10)"
      ]
     },
     "execution_count": 29,
     "metadata": {},
     "output_type": "execute_result"
    }
   ],
   "source": [
    "amazon.shape"
   ]
  },
  {
   "cell_type": "code",
   "execution_count": 32,
   "metadata": {
    "ExecuteTime": {
     "end_time": "2020-04-16T14:24:43.388933Z",
     "start_time": "2020-04-16T14:24:43.189428Z"
    }
   },
   "outputs": [
    {
     "data": {
      "text/plain": [
       "(1502331,)"
      ]
     },
     "execution_count": 32,
     "metadata": {},
     "output_type": "execute_result"
    }
   ],
   "source": [
    "amazon.customer_id.unique().shape"
   ]
  },
  {
   "cell_type": "code",
   "execution_count": 33,
   "metadata": {
    "ExecuteTime": {
     "end_time": "2020-04-16T14:27:41.728897Z",
     "start_time": "2020-04-16T14:27:41.692984Z"
    }
   },
   "outputs": [
    {
     "data": {
      "text/html": [
       "<div>\n",
       "<style scoped>\n",
       "    .dataframe tbody tr th:only-of-type {\n",
       "        vertical-align: middle;\n",
       "    }\n",
       "\n",
       "    .dataframe tbody tr th {\n",
       "        vertical-align: top;\n",
       "    }\n",
       "\n",
       "    .dataframe thead th {\n",
       "        text-align: right;\n",
       "    }\n",
       "</style>\n",
       "<table border=\"1\" class=\"dataframe\">\n",
       "  <thead>\n",
       "    <tr style=\"text-align: right;\">\n",
       "      <th></th>\n",
       "      <th>customer_id</th>\n",
       "      <th>product_id</th>\n",
       "      <th>product_parent</th>\n",
       "      <th>product_title</th>\n",
       "      <th>star_rating</th>\n",
       "      <th>helpful_votes</th>\n",
       "      <th>total_votes</th>\n",
       "      <th>verified_purchase</th>\n",
       "      <th>review_headline</th>\n",
       "      <th>review_date</th>\n",
       "    </tr>\n",
       "  </thead>\n",
       "  <tbody>\n",
       "    <tr>\n",
       "      <td>0</td>\n",
       "      <td>12076615</td>\n",
       "      <td>0385730586</td>\n",
       "      <td>122662979</td>\n",
       "      <td>Sisterhood of the Traveling Pants (Book 1)</td>\n",
       "      <td>4.0</td>\n",
       "      <td>2.0</td>\n",
       "      <td>3.0</td>\n",
       "      <td>N</td>\n",
       "      <td>this book was a great learning novel!</td>\n",
       "      <td>2005-10-14</td>\n",
       "    </tr>\n",
       "    <tr>\n",
       "      <td>1</td>\n",
       "      <td>12703090</td>\n",
       "      <td>0811828964</td>\n",
       "      <td>56191234</td>\n",
       "      <td>The Bad Girl's Guide to Getting What You Want</td>\n",
       "      <td>3.0</td>\n",
       "      <td>5.0</td>\n",
       "      <td>5.0</td>\n",
       "      <td>N</td>\n",
       "      <td>Fun Fluff</td>\n",
       "      <td>2005-10-14</td>\n",
       "    </tr>\n",
       "    <tr>\n",
       "      <td>2</td>\n",
       "      <td>12257412</td>\n",
       "      <td>1844161560</td>\n",
       "      <td>253182049</td>\n",
       "      <td>Eisenhorn (A Warhammer 40,000 Omnibus)</td>\n",
       "      <td>4.0</td>\n",
       "      <td>1.0</td>\n",
       "      <td>22.0</td>\n",
       "      <td>N</td>\n",
       "      <td>this isn't a review</td>\n",
       "      <td>2005-10-14</td>\n",
       "    </tr>\n",
       "    <tr>\n",
       "      <td>3</td>\n",
       "      <td>50732546</td>\n",
       "      <td>0373836635</td>\n",
       "      <td>348672532</td>\n",
       "      <td>Colby Conspiracy (Colby Agency)</td>\n",
       "      <td>5.0</td>\n",
       "      <td>2.0</td>\n",
       "      <td>2.0</td>\n",
       "      <td>N</td>\n",
       "      <td>fine author on her A-game</td>\n",
       "      <td>2005-10-14</td>\n",
       "    </tr>\n",
       "    <tr>\n",
       "      <td>4</td>\n",
       "      <td>51964897</td>\n",
       "      <td>0262181533</td>\n",
       "      <td>598678717</td>\n",
       "      <td>The Psychology of Proof: Deductive Reasoning i...</td>\n",
       "      <td>4.0</td>\n",
       "      <td>0.0</td>\n",
       "      <td>2.0</td>\n",
       "      <td>N</td>\n",
       "      <td>Execellent cursor examination</td>\n",
       "      <td>2005-10-14</td>\n",
       "    </tr>\n",
       "  </tbody>\n",
       "</table>\n",
       "</div>"
      ],
      "text/plain": [
       "   customer_id  product_id  product_parent  \\\n",
       "0     12076615  0385730586       122662979   \n",
       "1     12703090  0811828964        56191234   \n",
       "2     12257412  1844161560       253182049   \n",
       "3     50732546  0373836635       348672532   \n",
       "4     51964897  0262181533       598678717   \n",
       "\n",
       "                                       product_title  star_rating  \\\n",
       "0         Sisterhood of the Traveling Pants (Book 1)          4.0   \n",
       "1      The Bad Girl's Guide to Getting What You Want          3.0   \n",
       "2             Eisenhorn (A Warhammer 40,000 Omnibus)          4.0   \n",
       "3                    Colby Conspiracy (Colby Agency)          5.0   \n",
       "4  The Psychology of Proof: Deductive Reasoning i...          4.0   \n",
       "\n",
       "   helpful_votes  total_votes verified_purchase  \\\n",
       "0            2.0          3.0                 N   \n",
       "1            5.0          5.0                 N   \n",
       "2            1.0         22.0                 N   \n",
       "3            2.0          2.0                 N   \n",
       "4            0.0          2.0                 N   \n",
       "\n",
       "                         review_headline review_date  \n",
       "0  this book was a great learning novel!  2005-10-14  \n",
       "1                              Fun Fluff  2005-10-14  \n",
       "2                    this isn't a review  2005-10-14  \n",
       "3              fine author on her A-game  2005-10-14  \n",
       "4          Execellent cursor examination  2005-10-14  "
      ]
     },
     "execution_count": 33,
     "metadata": {},
     "output_type": "execute_result"
    }
   ],
   "source": [
    "amazon.head()"
   ]
  },
  {
   "cell_type": "code",
   "execution_count": 34,
   "metadata": {
    "ExecuteTime": {
     "end_time": "2020-04-16T14:28:22.122957Z",
     "start_time": "2020-04-16T14:28:21.467762Z"
    }
   },
   "outputs": [
    {
     "data": {
      "text/plain": [
       "(779714,)"
      ]
     },
     "execution_count": 34,
     "metadata": {},
     "output_type": "execute_result"
    }
   ],
   "source": [
    "amazon.product_id.unique().shape"
   ]
  },
  {
   "cell_type": "code",
   "execution_count": 35,
   "metadata": {
    "ExecuteTime": {
     "end_time": "2020-04-16T14:28:51.539187Z",
     "start_time": "2020-04-16T14:28:50.435072Z"
    }
   },
   "outputs": [
    {
     "data": {
      "text/plain": [
       "(713684,)"
      ]
     },
     "execution_count": 35,
     "metadata": {},
     "output_type": "execute_result"
    }
   ],
   "source": [
    "amazon.product_title.unique().shape"
   ]
  },
  {
   "cell_type": "code",
   "execution_count": 36,
   "metadata": {
    "ExecuteTime": {
     "end_time": "2020-04-16T14:29:08.775716Z",
     "start_time": "2020-04-16T14:29:08.632116Z"
    }
   },
   "outputs": [
    {
     "data": {
      "text/plain": [
       "(666020,)"
      ]
     },
     "execution_count": 36,
     "metadata": {},
     "output_type": "execute_result"
    }
   ],
   "source": [
    "amazon.product_parent.unique().shape"
   ]
  },
  {
   "cell_type": "code",
   "execution_count": 39,
   "metadata": {
    "ExecuteTime": {
     "end_time": "2020-04-16T14:30:38.740406Z",
     "start_time": "2020-04-16T14:30:36.625717Z"
    }
   },
   "outputs": [
    {
     "data": {
      "text/html": [
       "<div>\n",
       "<style scoped>\n",
       "    .dataframe tbody tr th:only-of-type {\n",
       "        vertical-align: middle;\n",
       "    }\n",
       "\n",
       "    .dataframe tbody tr th {\n",
       "        vertical-align: top;\n",
       "    }\n",
       "\n",
       "    .dataframe thead th {\n",
       "        text-align: right;\n",
       "    }\n",
       "</style>\n",
       "<table border=\"1\" class=\"dataframe\">\n",
       "  <thead>\n",
       "    <tr style=\"text-align: right;\">\n",
       "      <th></th>\n",
       "      <th>product_title</th>\n",
       "    </tr>\n",
       "    <tr>\n",
       "      <th>product_parent</th>\n",
       "      <th></th>\n",
       "    </tr>\n",
       "  </thead>\n",
       "  <tbody>\n",
       "    <tr>\n",
       "      <td>667539744</td>\n",
       "      <td>15925</td>\n",
       "    </tr>\n",
       "    <tr>\n",
       "      <td>669379389</td>\n",
       "      <td>3815</td>\n",
       "    </tr>\n",
       "    <tr>\n",
       "      <td>315416156</td>\n",
       "      <td>3221</td>\n",
       "    </tr>\n",
       "    <tr>\n",
       "      <td>857217799</td>\n",
       "      <td>2785</td>\n",
       "    </tr>\n",
       "    <tr>\n",
       "      <td>829131114</td>\n",
       "      <td>2619</td>\n",
       "    </tr>\n",
       "    <tr>\n",
       "      <td>...</td>\n",
       "      <td>...</td>\n",
       "    </tr>\n",
       "    <tr>\n",
       "      <td>451826418</td>\n",
       "      <td>1</td>\n",
       "    </tr>\n",
       "    <tr>\n",
       "      <td>451826322</td>\n",
       "      <td>1</td>\n",
       "    </tr>\n",
       "    <tr>\n",
       "      <td>451826221</td>\n",
       "      <td>1</td>\n",
       "    </tr>\n",
       "    <tr>\n",
       "      <td>451822204</td>\n",
       "      <td>1</td>\n",
       "    </tr>\n",
       "    <tr>\n",
       "      <td>999999938</td>\n",
       "      <td>1</td>\n",
       "    </tr>\n",
       "  </tbody>\n",
       "</table>\n",
       "<p>666020 rows × 1 columns</p>\n",
       "</div>"
      ],
      "text/plain": [
       "                product_title\n",
       "product_parent               \n",
       "667539744               15925\n",
       "669379389                3815\n",
       "315416156                3221\n",
       "857217799                2785\n",
       "829131114                2619\n",
       "...                       ...\n",
       "451826418                   1\n",
       "451826322                   1\n",
       "451826221                   1\n",
       "451822204                   1\n",
       "999999938                   1\n",
       "\n",
       "[666020 rows x 1 columns]"
      ]
     },
     "execution_count": 39,
     "metadata": {},
     "output_type": "execute_result"
    }
   ],
   "source": [
    "parent = amazon.groupby('product_parent').count()[['product_title']].sort_values(by='product_title', ascending =False)\n",
    "parent"
   ]
  },
  {
   "cell_type": "code",
   "execution_count": 42,
   "metadata": {
    "ExecuteTime": {
     "end_time": "2020-04-16T14:38:20.111382Z",
     "start_time": "2020-04-16T14:38:20.069865Z"
    }
   },
   "outputs": [
    {
     "data": {
      "text/html": [
       "<div>\n",
       "<style scoped>\n",
       "    .dataframe tbody tr th:only-of-type {\n",
       "        vertical-align: middle;\n",
       "    }\n",
       "\n",
       "    .dataframe tbody tr th {\n",
       "        vertical-align: top;\n",
       "    }\n",
       "\n",
       "    .dataframe thead th {\n",
       "        text-align: right;\n",
       "    }\n",
       "</style>\n",
       "<table border=\"1\" class=\"dataframe\">\n",
       "  <thead>\n",
       "    <tr style=\"text-align: right;\">\n",
       "      <th></th>\n",
       "      <th>customer_id</th>\n",
       "      <th>product_id</th>\n",
       "      <th>product_parent</th>\n",
       "      <th>product_title</th>\n",
       "      <th>star_rating</th>\n",
       "      <th>helpful_votes</th>\n",
       "      <th>total_votes</th>\n",
       "      <th>verified_purchase</th>\n",
       "      <th>review_headline</th>\n",
       "      <th>review_date</th>\n",
       "    </tr>\n",
       "  </thead>\n",
       "  <tbody>\n",
       "    <tr>\n",
       "      <td>2136</td>\n",
       "      <td>15192562</td>\n",
       "      <td>0618260587</td>\n",
       "      <td>669379389</td>\n",
       "      <td>The Lord of the Rings</td>\n",
       "      <td>5.0</td>\n",
       "      <td>1.0</td>\n",
       "      <td>4.0</td>\n",
       "      <td>N</td>\n",
       "      <td>Wonderful</td>\n",
       "      <td>2005-10-13</td>\n",
       "    </tr>\n",
       "    <tr>\n",
       "      <td>4936</td>\n",
       "      <td>13256853</td>\n",
       "      <td>0618517650</td>\n",
       "      <td>669379389</td>\n",
       "      <td>The Lord of the Rings (50th Anniversary Edition)</td>\n",
       "      <td>3.0</td>\n",
       "      <td>31.0</td>\n",
       "      <td>102.0</td>\n",
       "      <td>N</td>\n",
       "      <td>Easy to admire, difficult to enjoy</td>\n",
       "      <td>2005-10-11</td>\n",
       "    </tr>\n",
       "    <tr>\n",
       "      <td>11350</td>\n",
       "      <td>14480837</td>\n",
       "      <td>0395177111</td>\n",
       "      <td>669379389</td>\n",
       "      <td>The Hobbit (or There and Back Again)</td>\n",
       "      <td>5.0</td>\n",
       "      <td>4.0</td>\n",
       "      <td>4.0</td>\n",
       "      <td>N</td>\n",
       "      <td>Pride</td>\n",
       "      <td>2005-10-07</td>\n",
       "    </tr>\n",
       "    <tr>\n",
       "      <td>13017</td>\n",
       "      <td>36553929</td>\n",
       "      <td>0345340426</td>\n",
       "      <td>669379389</td>\n",
       "      <td>J.R.R. Tolkien Boxed Set (The Hobbit and The L...</td>\n",
       "      <td>5.0</td>\n",
       "      <td>1.0</td>\n",
       "      <td>5.0</td>\n",
       "      <td>N</td>\n",
       "      <td>there is nothing more to say...</td>\n",
       "      <td>2005-10-06</td>\n",
       "    </tr>\n",
       "    <tr>\n",
       "      <td>13613</td>\n",
       "      <td>50780253</td>\n",
       "      <td>0788789821</td>\n",
       "      <td>669379389</td>\n",
       "      <td>The Hobbit</td>\n",
       "      <td>5.0</td>\n",
       "      <td>2.0</td>\n",
       "      <td>2.0</td>\n",
       "      <td>Y</td>\n",
       "      <td>Bilbo, the hero from Hobbiton</td>\n",
       "      <td>2005-10-06</td>\n",
       "    </tr>\n",
       "    <tr>\n",
       "      <td>...</td>\n",
       "      <td>...</td>\n",
       "      <td>...</td>\n",
       "      <td>...</td>\n",
       "      <td>...</td>\n",
       "      <td>...</td>\n",
       "      <td>...</td>\n",
       "      <td>...</td>\n",
       "      <td>...</td>\n",
       "      <td>...</td>\n",
       "      <td>...</td>\n",
       "    </tr>\n",
       "    <tr>\n",
       "      <td>3102434</td>\n",
       "      <td>53078876</td>\n",
       "      <td>0395272238</td>\n",
       "      <td>669379389</td>\n",
       "      <td>The Fellowship of the Ring (Lord of the Rings)</td>\n",
       "      <td>5.0</td>\n",
       "      <td>1.0</td>\n",
       "      <td>1.0</td>\n",
       "      <td>N</td>\n",
       "      <td>The diamond.</td>\n",
       "      <td>1996-10-23</td>\n",
       "    </tr>\n",
       "    <tr>\n",
       "      <td>3103090</td>\n",
       "      <td>53083150</td>\n",
       "      <td>0395282659</td>\n",
       "      <td>669379389</td>\n",
       "      <td>The Hobbit</td>\n",
       "      <td>5.0</td>\n",
       "      <td>0.0</td>\n",
       "      <td>0.0</td>\n",
       "      <td>N</td>\n",
       "      <td>The Book everyone must read.</td>\n",
       "      <td>1996-09-18</td>\n",
       "    </tr>\n",
       "    <tr>\n",
       "      <td>3103200</td>\n",
       "      <td>53092469</td>\n",
       "      <td>0395193958</td>\n",
       "      <td>669379389</td>\n",
       "      <td>The Lord of the Rings</td>\n",
       "      <td>5.0</td>\n",
       "      <td>2.0</td>\n",
       "      <td>2.0</td>\n",
       "      <td>N</td>\n",
       "      <td>This gets better with age...the trilogy's and ...</td>\n",
       "      <td>1996-09-12</td>\n",
       "    </tr>\n",
       "    <tr>\n",
       "      <td>3103841</td>\n",
       "      <td>53086513</td>\n",
       "      <td>0395595118</td>\n",
       "      <td>669379389</td>\n",
       "      <td>The Lord of the Rings</td>\n",
       "      <td>1.0</td>\n",
       "      <td>3.0</td>\n",
       "      <td>19.0</td>\n",
       "      <td>N</td>\n",
       "      <td>If you're a Tolkien Fan you've got to have thi...</td>\n",
       "      <td>1996-08-04</td>\n",
       "    </tr>\n",
       "    <tr>\n",
       "      <td>3104717</td>\n",
       "      <td>53091137</td>\n",
       "      <td>0395071224</td>\n",
       "      <td>669379389</td>\n",
       "      <td>The Hobbit</td>\n",
       "      <td>5.0</td>\n",
       "      <td>0.0</td>\n",
       "      <td>0.0</td>\n",
       "      <td>N</td>\n",
       "      <td>The book that started the Fantasy genre!!</td>\n",
       "      <td>1996-06-01</td>\n",
       "    </tr>\n",
       "  </tbody>\n",
       "</table>\n",
       "<p>3815 rows × 10 columns</p>\n",
       "</div>"
      ],
      "text/plain": [
       "         customer_id  product_id  product_parent  \\\n",
       "2136        15192562  0618260587       669379389   \n",
       "4936        13256853  0618517650       669379389   \n",
       "11350       14480837  0395177111       669379389   \n",
       "13017       36553929  0345340426       669379389   \n",
       "13613       50780253  0788789821       669379389   \n",
       "...              ...         ...             ...   \n",
       "3102434     53078876  0395272238       669379389   \n",
       "3103090     53083150  0395282659       669379389   \n",
       "3103200     53092469  0395193958       669379389   \n",
       "3103841     53086513  0395595118       669379389   \n",
       "3104717     53091137  0395071224       669379389   \n",
       "\n",
       "                                             product_title  star_rating  \\\n",
       "2136                                 The Lord of the Rings          5.0   \n",
       "4936      The Lord of the Rings (50th Anniversary Edition)          3.0   \n",
       "11350                 The Hobbit (or There and Back Again)          5.0   \n",
       "13017    J.R.R. Tolkien Boxed Set (The Hobbit and The L...          5.0   \n",
       "13613                                           The Hobbit          5.0   \n",
       "...                                                    ...          ...   \n",
       "3102434     The Fellowship of the Ring (Lord of the Rings)          5.0   \n",
       "3103090                                         The Hobbit          5.0   \n",
       "3103200                              The Lord of the Rings          5.0   \n",
       "3103841                              The Lord of the Rings          1.0   \n",
       "3104717                                         The Hobbit          5.0   \n",
       "\n",
       "         helpful_votes  total_votes verified_purchase  \\\n",
       "2136               1.0          4.0                 N   \n",
       "4936              31.0        102.0                 N   \n",
       "11350              4.0          4.0                 N   \n",
       "13017              1.0          5.0                 N   \n",
       "13613              2.0          2.0                 Y   \n",
       "...                ...          ...               ...   \n",
       "3102434            1.0          1.0                 N   \n",
       "3103090            0.0          0.0                 N   \n",
       "3103200            2.0          2.0                 N   \n",
       "3103841            3.0         19.0                 N   \n",
       "3104717            0.0          0.0                 N   \n",
       "\n",
       "                                           review_headline review_date  \n",
       "2136                                             Wonderful  2005-10-13  \n",
       "4936                    Easy to admire, difficult to enjoy  2005-10-11  \n",
       "11350                                                Pride  2005-10-07  \n",
       "13017                      there is nothing more to say...  2005-10-06  \n",
       "13613                        Bilbo, the hero from Hobbiton  2005-10-06  \n",
       "...                                                    ...         ...  \n",
       "3102434                                       The diamond.  1996-10-23  \n",
       "3103090                       The Book everyone must read.  1996-09-18  \n",
       "3103200  This gets better with age...the trilogy's and ...  1996-09-12  \n",
       "3103841  If you're a Tolkien Fan you've got to have thi...  1996-08-04  \n",
       "3104717          The book that started the Fantasy genre!!  1996-06-01  \n",
       "\n",
       "[3815 rows x 10 columns]"
      ]
     },
     "execution_count": 42,
     "metadata": {},
     "output_type": "execute_result"
    }
   ],
   "source": [
    "amazon[amazon.product_parent == 669379389]"
   ]
  },
  {
   "cell_type": "code",
   "execution_count": 26,
   "metadata": {
    "ExecuteTime": {
     "end_time": "2020-04-16T14:17:24.129299Z",
     "start_time": "2020-04-16T14:17:20.889520Z"
    }
   },
   "outputs": [],
   "source": [
    "a_sorted = amazon.groupby('customer_id').count()[['product_id']].sort_values(by='product_id', ascending = False)"
   ]
  },
  {
   "cell_type": "code",
   "execution_count": null,
   "metadata": {
    "ExecuteTime": {
     "end_time": "2020-04-13T20:53:04.995320Z",
     "start_time": "2020-04-13T20:40:44.325Z"
    }
   },
   "outputs": [],
   "source": [
    "a1_sorted[a1_sorted.review_id == 1]"
   ]
  },
  {
   "cell_type": "code",
   "execution_count": 38,
   "metadata": {
    "ExecuteTime": {
     "end_time": "2020-04-13T20:37:41.576791Z",
     "start_time": "2020-04-13T20:37:41.563691Z"
    }
   },
   "outputs": [
    {
     "data": {
      "text/html": [
       "<div>\n",
       "<style scoped>\n",
       "    .dataframe tbody tr th:only-of-type {\n",
       "        vertical-align: middle;\n",
       "    }\n",
       "\n",
       "    .dataframe tbody tr th {\n",
       "        vertical-align: top;\n",
       "    }\n",
       "\n",
       "    .dataframe thead th {\n",
       "        text-align: right;\n",
       "    }\n",
       "</style>\n",
       "<table border=\"1\" class=\"dataframe\">\n",
       "  <thead>\n",
       "    <tr style=\"text-align: right;\">\n",
       "      <th></th>\n",
       "      <th>review_id</th>\n",
       "    </tr>\n",
       "    <tr>\n",
       "      <th>customer_id</th>\n",
       "      <th></th>\n",
       "    </tr>\n",
       "  </thead>\n",
       "  <tbody>\n",
       "    <tr>\n",
       "      <td>50122160</td>\n",
       "      <td>4976</td>\n",
       "    </tr>\n",
       "    <tr>\n",
       "      <td>50732546</td>\n",
       "      <td>2713</td>\n",
       "    </tr>\n",
       "    <tr>\n",
       "      <td>50776149</td>\n",
       "      <td>1745</td>\n",
       "    </tr>\n",
       "    <tr>\n",
       "      <td>20595117</td>\n",
       "      <td>1635</td>\n",
       "    </tr>\n",
       "    <tr>\n",
       "      <td>38491967</td>\n",
       "      <td>896</td>\n",
       "    </tr>\n",
       "    <tr>\n",
       "      <td>...</td>\n",
       "      <td>...</td>\n",
       "    </tr>\n",
       "    <tr>\n",
       "      <td>25780322</td>\n",
       "      <td>1</td>\n",
       "    </tr>\n",
       "    <tr>\n",
       "      <td>25780442</td>\n",
       "      <td>1</td>\n",
       "    </tr>\n",
       "    <tr>\n",
       "      <td>25780640</td>\n",
       "      <td>1</td>\n",
       "    </tr>\n",
       "    <tr>\n",
       "      <td>25780685</td>\n",
       "      <td>1</td>\n",
       "    </tr>\n",
       "    <tr>\n",
       "      <td>33218960</td>\n",
       "      <td>1</td>\n",
       "    </tr>\n",
       "  </tbody>\n",
       "</table>\n",
       "<p>323534 rows × 1 columns</p>\n",
       "</div>"
      ],
      "text/plain": [
       "             review_id\n",
       "customer_id           \n",
       "50122160          4976\n",
       "50732546          2713\n",
       "50776149          1745\n",
       "20595117          1635\n",
       "38491967           896\n",
       "...                ...\n",
       "25780322             1\n",
       "25780442             1\n",
       "25780640             1\n",
       "25780685             1\n",
       "33218960             1\n",
       "\n",
       "[323534 rows x 1 columns]"
      ]
     },
     "execution_count": 38,
     "metadata": {},
     "output_type": "execute_result"
    }
   ],
   "source": [
    "a1_sorted"
   ]
  },
  {
   "cell_type": "code",
   "execution_count": null,
   "metadata": {},
   "outputs": [],
   "source": []
  }
 ],
 "metadata": {
  "kernelspec": {
   "display_name": "Python 3",
   "language": "python",
   "name": "python3"
  },
  "language_info": {
   "codemirror_mode": {
    "name": "ipython",
    "version": 3
   },
   "file_extension": ".py",
   "mimetype": "text/x-python",
   "name": "python",
   "nbconvert_exporter": "python",
   "pygments_lexer": "ipython3",
   "version": "3.7.4"
  },
  "toc": {
   "base_numbering": 1,
   "nav_menu": {},
   "number_sections": true,
   "sideBar": true,
   "skip_h1_title": false,
   "title_cell": "Table of Contents",
   "title_sidebar": "Contents",
   "toc_cell": false,
   "toc_position": {},
   "toc_section_display": true,
   "toc_window_display": false
  },
  "varInspector": {
   "cols": {
    "lenName": 16,
    "lenType": 16,
    "lenVar": 40
   },
   "kernels_config": {
    "python": {
     "delete_cmd_postfix": "",
     "delete_cmd_prefix": "del ",
     "library": "var_list.py",
     "varRefreshCmd": "print(var_dic_list())"
    },
    "r": {
     "delete_cmd_postfix": ") ",
     "delete_cmd_prefix": "rm(",
     "library": "var_list.r",
     "varRefreshCmd": "cat(var_dic_list()) "
    }
   },
   "types_to_exclude": [
    "module",
    "function",
    "builtin_function_or_method",
    "instance",
    "_Feature"
   ],
   "window_display": false
  }
 },
 "nbformat": 4,
 "nbformat_minor": 2
}
