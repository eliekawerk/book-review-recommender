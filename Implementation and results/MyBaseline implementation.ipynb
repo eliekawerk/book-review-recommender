{
 "cells": [
  {
   "cell_type": "code",
   "execution_count": 2,
   "metadata": {
    "ExecuteTime": {
     "end_time": "2020-05-20T11:37:21.072276Z",
     "start_time": "2020-05-20T11:37:19.383674Z"
    }
   },
   "outputs": [],
   "source": [
    "import pandas as pd \n",
    "import numpy as np \n",
    "import matplotlib.pyplot as plt\n",
    "import seaborn as sns\n",
    "import random\n",
    "import scipy.spatial.distance\n",
    "import csv\n",
    "#import dask.dataframe as dd\n",
    "\n",
    "sns.set(font_scale=1.5)\n",
    "plt.style.use('fivethirtyeight')\n",
    "\n",
    "\n",
    "%matplotlib inline\n",
    "%config InlineBackend.figure_format = 'retina'"
   ]
  },
  {
   "cell_type": "code",
   "execution_count": 2,
   "metadata": {
    "ExecuteTime": {
     "end_time": "2020-05-16T18:30:38.893439Z",
     "start_time": "2020-05-16T18:30:38.885697Z"
    }
   },
   "outputs": [
    {
     "data": {
      "text/plain": [
       "'0.25.1'"
      ]
     },
     "execution_count": 2,
     "metadata": {},
     "output_type": "execute_result"
    }
   ],
   "source": [
    "#Require a pandas version lower than the latest as the latest doesn't allow for indexing beyond size int32\n",
    "pd.__version__"
   ]
  },
  {
   "cell_type": "markdown",
   "metadata": {},
   "source": [
    "## Read in the sparse data - don't run this"
   ]
  },
  {
   "cell_type": "code",
   "execution_count": null,
   "metadata": {
    "ExecuteTime": {
     "start_time": "2020-05-20T11:37:44.066Z"
    }
   },
   "outputs": [],
   "source": [
    "df = pd.read_csv('/Volumes/external/Sangeetha-Project/Original files/book_reviews.csv.zip',\n",
    "                 names=['reviewerId', 'asin', 'review', 'rating',\n",
    "                        'summary', 'unixtime', 'pos_votes', 'total_votes']) \\\n",
    "    .drop(columns=['review'])\\\n",
    "    .astype({'rating': 'int8', 'total_votes': 'int32', 'pos_votes': 'int32'})"
   ]
  },
  {
   "cell_type": "code",
   "execution_count": 6,
   "metadata": {
    "ExecuteTime": {
     "end_time": "2020-05-11T21:53:06.891350Z",
     "start_time": "2020-05-11T21:53:06.865147Z"
    }
   },
   "outputs": [
    {
     "name": "stdout",
     "output_type": "stream",
     "text": [
      "<class 'pandas.core.frame.DataFrame'>\n",
      "RangeIndex: 2728360 entries, 0 to 2728359\n",
      "Data columns (total 5 columns):\n",
      "reviewerId     object\n",
      "asin           object\n",
      "rating         int8\n",
      "summary        object\n",
      "total_votes    int32\n",
      "dtypes: int32(1), int8(1), object(3)\n",
      "memory usage: 75.5+ MB\n"
     ]
    }
   ],
   "source": [
    "df.info()"
   ]
  },
  {
   "cell_type": "code",
   "execution_count": 7,
   "metadata": {
    "ExecuteTime": {
     "end_time": "2020-05-11T21:53:06.922248Z",
     "start_time": "2020-05-11T21:53:06.897061Z"
    },
    "scrolled": false
   },
   "outputs": [
    {
     "data": {
      "text/html": [
       "<div>\n",
       "<style scoped>\n",
       "    .dataframe tbody tr th:only-of-type {\n",
       "        vertical-align: middle;\n",
       "    }\n",
       "\n",
       "    .dataframe tbody tr th {\n",
       "        vertical-align: top;\n",
       "    }\n",
       "\n",
       "    .dataframe thead th {\n",
       "        text-align: right;\n",
       "    }\n",
       "</style>\n",
       "<table border=\"1\" class=\"dataframe\">\n",
       "  <thead>\n",
       "    <tr style=\"text-align: right;\">\n",
       "      <th></th>\n",
       "      <th>reviewerId</th>\n",
       "      <th>asin</th>\n",
       "      <th>rating</th>\n",
       "      <th>summary</th>\n",
       "      <th>total_votes</th>\n",
       "    </tr>\n",
       "  </thead>\n",
       "  <tbody>\n",
       "    <tr>\n",
       "      <th>0</th>\n",
       "      <td>A10000012B7CGYKOMPQ4L</td>\n",
       "      <td>000100039X</td>\n",
       "      <td>5</td>\n",
       "      <td>Wonderful!</td>\n",
       "      <td>0</td>\n",
       "    </tr>\n",
       "    <tr>\n",
       "      <th>1</th>\n",
       "      <td>A2S166WSCFIFP5</td>\n",
       "      <td>000100039X</td>\n",
       "      <td>5</td>\n",
       "      <td>close to god</td>\n",
       "      <td>2</td>\n",
       "    </tr>\n",
       "    <tr>\n",
       "      <th>2</th>\n",
       "      <td>A1MOSTXNIO5MPJ</td>\n",
       "      <td>000100039X</td>\n",
       "      <td>5</td>\n",
       "      <td>Timeless for every good and bad time in your l...</td>\n",
       "      <td>0</td>\n",
       "    </tr>\n",
       "    <tr>\n",
       "      <th>3</th>\n",
       "      <td>A2XQ5LZHTD4AFT</td>\n",
       "      <td>000100039X</td>\n",
       "      <td>5</td>\n",
       "      <td>A Modern Rumi</td>\n",
       "      <td>9</td>\n",
       "    </tr>\n",
       "    <tr>\n",
       "      <th>4</th>\n",
       "      <td>A3V1MKC2BVWY48</td>\n",
       "      <td>000100039X</td>\n",
       "      <td>5</td>\n",
       "      <td>This book will bring you peace</td>\n",
       "      <td>0</td>\n",
       "    </tr>\n",
       "  </tbody>\n",
       "</table>\n",
       "</div>"
      ],
      "text/plain": [
       "              reviewerId        asin  rating  \\\n",
       "0  A10000012B7CGYKOMPQ4L  000100039X       5   \n",
       "1         A2S166WSCFIFP5  000100039X       5   \n",
       "2         A1MOSTXNIO5MPJ  000100039X       5   \n",
       "3         A2XQ5LZHTD4AFT  000100039X       5   \n",
       "4         A3V1MKC2BVWY48  000100039X       5   \n",
       "\n",
       "                                             summary  total_votes  \n",
       "0                                         Wonderful!            0  \n",
       "1                                       close to god            2  \n",
       "2  Timeless for every good and bad time in your l...            0  \n",
       "3                                      A Modern Rumi            9  \n",
       "4                     This book will bring you peace            0  "
      ]
     },
     "execution_count": 7,
     "metadata": {},
     "output_type": "execute_result"
    }
   ],
   "source": [
    "df.head()"
   ]
  },
  {
   "cell_type": "code",
   "execution_count": 8,
   "metadata": {
    "ExecuteTime": {
     "end_time": "2020-05-11T21:53:07.701207Z",
     "start_time": "2020-05-11T21:53:07.037259Z"
    }
   },
   "outputs": [
    {
     "name": "stdout",
     "output_type": "stream",
     "text": [
      "306101\n",
      "92244\n"
     ]
    }
   ],
   "source": [
    "print(len(df.reviewerId.unique()))\n",
    "print(len(df.asin.unique()))"
   ]
  },
  {
   "cell_type": "markdown",
   "metadata": {},
   "source": [
    "## Cutting the dataset down - don't run this"
   ]
  },
  {
   "cell_type": "markdown",
   "metadata": {},
   "source": [
    "The kernel keep dying with the original 2,728,360 rows, with 306,101 reviewers and 92,244 books, due a memory error. So I decided to condense the dataset down a little more. The new dataset has 1,079,183 rows with 86,641 reviewers and 17,557 books and much easier for my laptop to handle. "
   ]
  },
  {
   "cell_type": "code",
   "execution_count": 9,
   "metadata": {
    "ExecuteTime": {
     "end_time": "2020-05-11T21:53:09.765349Z",
     "start_time": "2020-05-11T21:53:07.704722Z"
    },
    "scrolled": true
   },
   "outputs": [
    {
     "data": {
      "image/png": "[encoded data removed]",
      "text/plain": [
       "<Figure size 432x288 with 1 Axes>"
      ]
     },
     "metadata": {
      "image/png": {
       "height": 250,
       "width": 448
      },
      "needs_background": "light"
     },
     "output_type": "display_data"
    }
   ],
   "source": [
    "df.reviewerId.value_counts().hist()\n",
    "plt.show()"
   ]
  },
  {
   "cell_type": "code",
   "execution_count": 10,
   "metadata": {
    "ExecuteTime": {
     "end_time": "2020-05-11T21:53:10.231828Z",
     "start_time": "2020-05-11T21:53:09.769084Z"
    }
   },
   "outputs": [],
   "source": [
    "asin_counts = df.asin.value_counts()"
   ]
  },
  {
   "cell_type": "code",
   "execution_count": 11,
   "metadata": {
    "ExecuteTime": {
     "end_time": "2020-05-11T21:53:10.520143Z",
     "start_time": "2020-05-11T21:53:10.235343Z"
    }
   },
   "outputs": [],
   "source": [
    "df_sub = df[df.asin.isin(asin_counts[asin_counts>50].index)]"
   ]
  },
  {
   "cell_type": "code",
   "execution_count": 12,
   "metadata": {
    "ExecuteTime": {
     "end_time": "2020-05-11T21:53:11.427473Z",
     "start_time": "2020-05-11T21:53:10.523345Z"
    },
    "scrolled": true
   },
   "outputs": [],
   "source": [
    "review_counts = df_sub.reviewerId.value_counts()"
   ]
  },
  {
   "cell_type": "code",
   "execution_count": 13,
   "metadata": {
    "ExecuteTime": {
     "end_time": "2020-05-11T21:53:11.802872Z",
     "start_time": "2020-05-11T21:53:11.430681Z"
    }
   },
   "outputs": [],
   "source": [
    "df_sub = df_sub[df_sub.reviewerId.isin(review_counts[review_counts>50].index)]"
   ]
  },
  {
   "cell_type": "code",
   "execution_count": 14,
   "metadata": {
    "ExecuteTime": {
     "end_time": "2020-05-11T21:54:27.027058Z",
     "start_time": "2020-05-11T21:54:26.940896Z"
    },
    "scrolled": false
   },
   "outputs": [
    {
     "name": "stdout",
     "output_type": "stream",
     "text": [
      "<class 'pandas.core.frame.DataFrame'>\n",
      "Int64Index: 273661 entries, 1 to 2728290\n",
      "Data columns (total 5 columns):\n",
      "reviewerId     273661 non-null object\n",
      "asin           273661 non-null object\n",
      "rating         273661 non-null int8\n",
      "summary        273661 non-null object\n",
      "total_votes    273661 non-null int32\n",
      "dtypes: int32(1), int8(1), object(3)\n",
      "memory usage: 9.7+ MB\n"
     ]
    }
   ],
   "source": [
    "df_sub.info()"
   ]
  },
  {
   "cell_type": "code",
   "execution_count": 15,
   "metadata": {
    "ExecuteTime": {
     "end_time": "2020-05-11T21:34:40.538936Z",
     "start_time": "2020-05-11T21:34:37.468618Z"
    }
   },
   "outputs": [],
   "source": [
    "df_sub.to_csv('/Volumes/external/Sangeetha-Project/df_subx.csv.gz', header=True, index =False, compression='gzip')"
   ]
  },
  {
   "cell_type": "markdown",
   "metadata": {
    "heading_collapsed": true
   },
   "source": [
    "## Load the saved dense df"
   ]
  },
  {
   "cell_type": "code",
   "execution_count": 3,
   "metadata": {
    "ExecuteTime": {
     "end_time": "2020-05-14T19:04:44.719935Z",
     "start_time": "2020-05-14T19:04:44.032197Z"
    },
    "hidden": true
   },
   "outputs": [],
   "source": [
    "df_sub = pd.read_csv('/Volumes/external/Sangeetha-Project/df_sub.csv.gz', \n",
    "                       compression='gzip').astype({'rating':'int8', 'total_votes':'int32'})"
   ]
  },
  {
   "cell_type": "code",
   "execution_count": 4,
   "metadata": {
    "ExecuteTime": {
     "end_time": "2020-05-14T19:04:45.344935Z",
     "start_time": "2020-05-14T19:04:45.271006Z"
    },
    "hidden": true,
    "scrolled": true
   },
   "outputs": [
    {
     "name": "stdout",
     "output_type": "stream",
     "text": [
      "<class 'pandas.core.frame.DataFrame'>\n",
      "RangeIndex: 273661 entries, 0 to 273660\n",
      "Data columns (total 5 columns):\n",
      "reviewerId     273661 non-null object\n",
      "asin           273661 non-null object\n",
      "rating         273661 non-null int8\n",
      "summary        273661 non-null object\n",
      "total_votes    273661 non-null int32\n",
      "dtypes: int32(1), int8(1), object(3)\n",
      "memory usage: 7.6+ MB\n"
     ]
    }
   ],
   "source": [
    "df_sub.info()"
   ]
  },
  {
   "cell_type": "code",
   "execution_count": 14,
   "metadata": {
    "ExecuteTime": {
     "end_time": "2020-05-14T19:07:17.898542Z",
     "start_time": "2020-05-14T19:07:17.799612Z"
    },
    "hidden": true
   },
   "outputs": [
    {
     "data": {
      "text/html": [
       "<div>\n",
       "<style scoped>\n",
       "    .dataframe tbody tr th:only-of-type {\n",
       "        vertical-align: middle;\n",
       "    }\n",
       "\n",
       "    .dataframe tbody tr th {\n",
       "        vertical-align: top;\n",
       "    }\n",
       "\n",
       "    .dataframe thead th {\n",
       "        text-align: right;\n",
       "    }\n",
       "</style>\n",
       "<table border=\"1\" class=\"dataframe\">\n",
       "  <thead>\n",
       "    <tr style=\"text-align: right;\">\n",
       "      <th></th>\n",
       "      <th>rating</th>\n",
       "      <th>total_votes</th>\n",
       "    </tr>\n",
       "  </thead>\n",
       "  <tbody>\n",
       "    <tr>\n",
       "      <th>count</th>\n",
       "      <td>273661.000000</td>\n",
       "      <td>273661.000000</td>\n",
       "    </tr>\n",
       "    <tr>\n",
       "      <th>mean</th>\n",
       "      <td>4.089158</td>\n",
       "      <td>7.690533</td>\n",
       "    </tr>\n",
       "    <tr>\n",
       "      <th>std</th>\n",
       "      <td>0.986875</td>\n",
       "      <td>41.105538</td>\n",
       "    </tr>\n",
       "    <tr>\n",
       "      <th>min</th>\n",
       "      <td>1.000000</td>\n",
       "      <td>0.000000</td>\n",
       "    </tr>\n",
       "    <tr>\n",
       "      <th>25%</th>\n",
       "      <td>4.000000</td>\n",
       "      <td>0.000000</td>\n",
       "    </tr>\n",
       "    <tr>\n",
       "      <th>50%</th>\n",
       "      <td>4.000000</td>\n",
       "      <td>2.000000</td>\n",
       "    </tr>\n",
       "    <tr>\n",
       "      <th>75%</th>\n",
       "      <td>5.000000</td>\n",
       "      <td>5.000000</td>\n",
       "    </tr>\n",
       "    <tr>\n",
       "      <th>max</th>\n",
       "      <td>5.000000</td>\n",
       "      <td>5302.000000</td>\n",
       "    </tr>\n",
       "  </tbody>\n",
       "</table>\n",
       "</div>"
      ],
      "text/plain": [
       "              rating    total_votes\n",
       "count  273661.000000  273661.000000\n",
       "mean        4.089158       7.690533\n",
       "std         0.986875      41.105538\n",
       "min         1.000000       0.000000\n",
       "25%         4.000000       0.000000\n",
       "50%         4.000000       2.000000\n",
       "75%         5.000000       5.000000\n",
       "max         5.000000    5302.000000"
      ]
     },
     "execution_count": 14,
     "metadata": {},
     "output_type": "execute_result"
    }
   ],
   "source": [
    "df_sub.describe()"
   ]
  },
  {
   "cell_type": "code",
   "execution_count": 5,
   "metadata": {
    "ExecuteTime": {
     "end_time": "2020-05-14T19:04:47.288113Z",
     "start_time": "2020-05-14T19:04:47.269386Z"
    },
    "hidden": true
   },
   "outputs": [
    {
     "data": {
      "text/html": [
       "<div>\n",
       "<style scoped>\n",
       "    .dataframe tbody tr th:only-of-type {\n",
       "        vertical-align: middle;\n",
       "    }\n",
       "\n",
       "    .dataframe tbody tr th {\n",
       "        vertical-align: top;\n",
       "    }\n",
       "\n",
       "    .dataframe thead th {\n",
       "        text-align: right;\n",
       "    }\n",
       "</style>\n",
       "<table border=\"1\" class=\"dataframe\">\n",
       "  <thead>\n",
       "    <tr style=\"text-align: right;\">\n",
       "      <th></th>\n",
       "      <th>reviewerId</th>\n",
       "      <th>asin</th>\n",
       "      <th>rating</th>\n",
       "      <th>summary</th>\n",
       "      <th>total_votes</th>\n",
       "    </tr>\n",
       "  </thead>\n",
       "  <tbody>\n",
       "    <tr>\n",
       "      <th>0</th>\n",
       "      <td>A2S166WSCFIFP5</td>\n",
       "      <td>000100039X</td>\n",
       "      <td>5</td>\n",
       "      <td>close to god</td>\n",
       "      <td>2</td>\n",
       "    </tr>\n",
       "    <tr>\n",
       "      <th>1</th>\n",
       "      <td>AWLFVCT9128JV</td>\n",
       "      <td>000100039X</td>\n",
       "      <td>5</td>\n",
       "      <td>The Lessons Of Life</td>\n",
       "      <td>10</td>\n",
       "    </tr>\n",
       "    <tr>\n",
       "      <th>2</th>\n",
       "      <td>A2NHD7LUXVGTD3</td>\n",
       "      <td>000100039X</td>\n",
       "      <td>5</td>\n",
       "      <td>a beautiful poetic commentary on what it is to...</td>\n",
       "      <td>1</td>\n",
       "    </tr>\n",
       "    <tr>\n",
       "      <th>3</th>\n",
       "      <td>A1K1JW1C5CUSUZ</td>\n",
       "      <td>000100039X</td>\n",
       "      <td>5</td>\n",
       "      <td>Transcend Human Subjectivity to Find Godlike O...</td>\n",
       "      <td>4</td>\n",
       "    </tr>\n",
       "    <tr>\n",
       "      <th>4</th>\n",
       "      <td>A38AAPXSJN4C5G</td>\n",
       "      <td>000100039X</td>\n",
       "      <td>5</td>\n",
       "      <td>Inspired and Inspiring</td>\n",
       "      <td>0</td>\n",
       "    </tr>\n",
       "  </tbody>\n",
       "</table>\n",
       "</div>"
      ],
      "text/plain": [
       "       reviewerId        asin  rating  \\\n",
       "0  A2S166WSCFIFP5  000100039X       5   \n",
       "1   AWLFVCT9128JV  000100039X       5   \n",
       "2  A2NHD7LUXVGTD3  000100039X       5   \n",
       "3  A1K1JW1C5CUSUZ  000100039X       5   \n",
       "4  A38AAPXSJN4C5G  000100039X       5   \n",
       "\n",
       "                                             summary  total_votes  \n",
       "0                                       close to god            2  \n",
       "1                                The Lessons Of Life           10  \n",
       "2  a beautiful poetic commentary on what it is to...            1  \n",
       "3  Transcend Human Subjectivity to Find Godlike O...            4  \n",
       "4                             Inspired and Inspiring            0  "
      ]
     },
     "execution_count": 5,
     "metadata": {},
     "output_type": "execute_result"
    }
   ],
   "source": [
    "df_sub.head()"
   ]
  },
  {
   "cell_type": "code",
   "execution_count": 6,
   "metadata": {
    "ExecuteTime": {
     "end_time": "2020-05-14T19:04:48.115811Z",
     "start_time": "2020-05-14T19:04:47.856462Z"
    },
    "hidden": true,
    "scrolled": true
   },
   "outputs": [
    {
     "name": "stdout",
     "output_type": "stream",
     "text": [
      "Reviewers under 5:  0.0\n",
      "Mean reviewers:  103.3853418964866\n",
      "Median reviewers:  78.0\n",
      "-----------------------------------------------\n",
      "Books under 5:  0.0804953560371517\n",
      "Mean books:  24.919049353487527\n",
      "Median books:  19.0\n"
     ]
    }
   ],
   "source": [
    "print('Reviewers under 5: ', (df_sub.reviewerId.value_counts() < 5).mean())\n",
    "print('Mean reviewers: ', df_sub.reviewerId.value_counts().mean())\n",
    "print('Median reviewers: ', df_sub.reviewerId.value_counts().median())\n",
    "print('-----------------------------------------------')\n",
    "print('Books under 5: ', (df_sub.asin.value_counts() < 5).mean())\n",
    "print('Mean books: ', df_sub.asin.value_counts().mean())\n",
    "print('Median books: ', df_sub.asin.value_counts().median())"
   ]
  },
  {
   "cell_type": "code",
   "execution_count": 7,
   "metadata": {
    "ExecuteTime": {
     "end_time": "2020-05-14T19:04:50.740208Z",
     "start_time": "2020-05-14T19:04:49.732807Z"
    },
    "hidden": true
   },
   "outputs": [
    {
     "data": {
      "image/png": "[encoded data removed]",
      "text/plain": [
       "<Figure size 432x288 with 1 Axes>"
      ]
     },
     "metadata": {
      "image/png": {
       "height": 250,
       "width": 452
      },
      "needs_background": "light"
     },
     "output_type": "display_data"
    }
   ],
   "source": [
    "df_sub.asin.value_counts().hist()\n",
    "plt.show()"
   ]
  },
  {
   "cell_type": "markdown",
   "metadata": {
    "heading_collapsed": true
   },
   "source": [
    "## Prediction matrix based on collaborative filtering - baseline only"
   ]
  },
  {
   "cell_type": "code",
   "execution_count": 8,
   "metadata": {
    "ExecuteTime": {
     "end_time": "2020-05-14T19:04:52.599528Z",
     "start_time": "2020-05-14T19:04:52.587076Z"
    },
    "hidden": true
   },
   "outputs": [
    {
     "data": {
      "text/plain": [
       "4.089157753571024"
      ]
     },
     "execution_count": 8,
     "metadata": {},
     "output_type": "execute_result"
    }
   ],
   "source": [
    "overall_mean = df_sub.rating.mean()\n",
    "overall_mean"
   ]
  },
  {
   "cell_type": "code",
   "execution_count": 9,
   "metadata": {
    "ExecuteTime": {
     "end_time": "2020-05-14T19:04:53.199906Z",
     "start_time": "2020-05-14T19:04:53.146170Z"
    },
    "hidden": true
   },
   "outputs": [
    {
     "data": {
      "text/html": [
       "<div>\n",
       "<style scoped>\n",
       "    .dataframe tbody tr th:only-of-type {\n",
       "        vertical-align: middle;\n",
       "    }\n",
       "\n",
       "    .dataframe tbody tr th {\n",
       "        vertical-align: top;\n",
       "    }\n",
       "\n",
       "    .dataframe thead th {\n",
       "        text-align: right;\n",
       "    }\n",
       "</style>\n",
       "<table border=\"1\" class=\"dataframe\">\n",
       "  <thead>\n",
       "    <tr style=\"text-align: right;\">\n",
       "      <th></th>\n",
       "      <th>rating</th>\n",
       "    </tr>\n",
       "    <tr>\n",
       "      <th>reviewerId</th>\n",
       "      <th></th>\n",
       "    </tr>\n",
       "  </thead>\n",
       "  <tbody>\n",
       "    <tr>\n",
       "      <th>A100NGGXRQF0AQ</th>\n",
       "      <td>0.156605</td>\n",
       "    </tr>\n",
       "    <tr>\n",
       "      <th>A102Z3T7NSM5KC</th>\n",
       "      <td>0.148937</td>\n",
       "    </tr>\n",
       "    <tr>\n",
       "      <th>A106016KSI0YQ</th>\n",
       "      <td>-0.417925</td>\n",
       "    </tr>\n",
       "    <tr>\n",
       "      <th>A106E1N0ZQ4D9W</th>\n",
       "      <td>0.099248</td>\n",
       "    </tr>\n",
       "    <tr>\n",
       "      <th>A10BZSGALQPS0V</th>\n",
       "      <td>-0.145895</td>\n",
       "    </tr>\n",
       "  </tbody>\n",
       "</table>\n",
       "</div>"
      ],
      "text/plain": [
       "                  rating\n",
       "reviewerId              \n",
       "A100NGGXRQF0AQ  0.156605\n",
       "A102Z3T7NSM5KC  0.148937\n",
       "A106016KSI0YQ  -0.417925\n",
       "A106E1N0ZQ4D9W  0.099248\n",
       "A10BZSGALQPS0V -0.145895"
      ]
     },
     "execution_count": 9,
     "metadata": {},
     "output_type": "execute_result"
    }
   ],
   "source": [
    "#User bias:\n",
    "bu = df_sub.groupby('reviewerId')[['rating']].mean() - overall_mean\n",
    "bu[:5]"
   ]
  },
  {
   "cell_type": "code",
   "execution_count": 10,
   "metadata": {
    "ExecuteTime": {
     "end_time": "2020-05-14T19:04:54.011079Z",
     "start_time": "2020-05-14T19:04:53.969106Z"
    },
    "hidden": true
   },
   "outputs": [
    {
     "data": {
      "text/html": [
       "<div>\n",
       "<style scoped>\n",
       "    .dataframe tbody tr th:only-of-type {\n",
       "        vertical-align: middle;\n",
       "    }\n",
       "\n",
       "    .dataframe tbody tr th {\n",
       "        vertical-align: top;\n",
       "    }\n",
       "\n",
       "    .dataframe thead th {\n",
       "        text-align: right;\n",
       "    }\n",
       "</style>\n",
       "<table border=\"1\" class=\"dataframe\">\n",
       "  <thead>\n",
       "    <tr style=\"text-align: right;\">\n",
       "      <th></th>\n",
       "      <th>rating</th>\n",
       "    </tr>\n",
       "    <tr>\n",
       "      <th>asin</th>\n",
       "      <th></th>\n",
       "    </tr>\n",
       "  </thead>\n",
       "  <tbody>\n",
       "    <tr>\n",
       "      <th>000100039X</th>\n",
       "      <td>0.437158</td>\n",
       "    </tr>\n",
       "    <tr>\n",
       "      <th>0002007770</th>\n",
       "      <td>0.278872</td>\n",
       "    </tr>\n",
       "    <tr>\n",
       "      <th>0002051850</th>\n",
       "      <td>0.300673</td>\n",
       "    </tr>\n",
       "    <tr>\n",
       "      <th>0002219417</th>\n",
       "      <td>0.680073</td>\n",
       "    </tr>\n",
       "    <tr>\n",
       "      <th>000222383X</th>\n",
       "      <td>0.547206</td>\n",
       "    </tr>\n",
       "  </tbody>\n",
       "</table>\n",
       "</div>"
      ],
      "text/plain": [
       "              rating\n",
       "asin                \n",
       "000100039X  0.437158\n",
       "0002007770  0.278872\n",
       "0002051850  0.300673\n",
       "0002219417  0.680073\n",
       "000222383X  0.547206"
      ]
     },
     "execution_count": 10,
     "metadata": {},
     "output_type": "execute_result"
    }
   ],
   "source": [
    "#item bias\n",
    "bi = df_sub.groupby('asin')[['rating']].mean() - overall_mean\n",
    "bi[:5]"
   ]
  },
  {
   "cell_type": "code",
   "execution_count": 11,
   "metadata": {
    "ExecuteTime": {
     "end_time": "2020-05-14T19:04:55.679354Z",
     "start_time": "2020-05-14T19:04:55.511374Z"
    },
    "hidden": true
   },
   "outputs": [
    {
     "data": {
      "text/html": [
       "<div>\n",
       "<style scoped>\n",
       "    .dataframe tbody tr th:only-of-type {\n",
       "        vertical-align: middle;\n",
       "    }\n",
       "\n",
       "    .dataframe tbody tr th {\n",
       "        vertical-align: top;\n",
       "    }\n",
       "\n",
       "    .dataframe thead th {\n",
       "        text-align: right;\n",
       "    }\n",
       "</style>\n",
       "<table border=\"1\" class=\"dataframe\">\n",
       "  <thead>\n",
       "    <tr style=\"text-align: right;\">\n",
       "      <th>asin</th>\n",
       "      <th>000100039X</th>\n",
       "      <th>0002007770</th>\n",
       "      <th>0002051850</th>\n",
       "      <th>0002219417</th>\n",
       "      <th>000222383X</th>\n",
       "      <th>000224053X</th>\n",
       "      <th>0002242052</th>\n",
       "      <th>0002247399</th>\n",
       "      <th>0002550938</th>\n",
       "      <th>0002726874</th>\n",
       "      <th>...</th>\n",
       "      <th>452289858</th>\n",
       "      <th>452295297</th>\n",
       "      <th>452295386</th>\n",
       "      <th>452295513</th>\n",
       "      <th>452295831</th>\n",
       "      <th>452296099</th>\n",
       "      <th>452296293</th>\n",
       "      <th>452296315</th>\n",
       "      <th>452296366</th>\n",
       "      <th>452296544</th>\n",
       "    </tr>\n",
       "    <tr>\n",
       "      <th>reviewerId</th>\n",
       "      <th></th>\n",
       "      <th></th>\n",
       "      <th></th>\n",
       "      <th></th>\n",
       "      <th></th>\n",
       "      <th></th>\n",
       "      <th></th>\n",
       "      <th></th>\n",
       "      <th></th>\n",
       "      <th></th>\n",
       "      <th></th>\n",
       "      <th></th>\n",
       "      <th></th>\n",
       "      <th></th>\n",
       "      <th></th>\n",
       "      <th></th>\n",
       "      <th></th>\n",
       "      <th></th>\n",
       "      <th></th>\n",
       "      <th></th>\n",
       "      <th></th>\n",
       "    </tr>\n",
       "  </thead>\n",
       "  <tbody>\n",
       "    <tr>\n",
       "      <th>A100NGGXRQF0AQ</th>\n",
       "      <td>4.682921</td>\n",
       "      <td>4.524635</td>\n",
       "      <td>4.546435</td>\n",
       "      <td>4.925836</td>\n",
       "      <td>4.792969</td>\n",
       "      <td>4.008457</td>\n",
       "      <td>4.549462</td>\n",
       "      <td>3.993814</td>\n",
       "      <td>3.611150</td>\n",
       "      <td>4.792969</td>\n",
       "      <td>...</td>\n",
       "      <td>4.823272</td>\n",
       "      <td>4.734918</td>\n",
       "      <td>3.538958</td>\n",
       "      <td>3.771990</td>\n",
       "      <td>5.156605</td>\n",
       "      <td>3.448272</td>\n",
       "      <td>3.468293</td>\n",
       "      <td>3.299462</td>\n",
       "      <td>4.562855</td>\n",
       "      <td>4.156605</td>\n",
       "    </tr>\n",
       "    <tr>\n",
       "      <th>A102Z3T7NSM5KC</th>\n",
       "      <td>4.675253</td>\n",
       "      <td>4.516967</td>\n",
       "      <td>4.538768</td>\n",
       "      <td>4.918168</td>\n",
       "      <td>4.785301</td>\n",
       "      <td>4.000789</td>\n",
       "      <td>4.541795</td>\n",
       "      <td>3.986147</td>\n",
       "      <td>3.603483</td>\n",
       "      <td>4.785301</td>\n",
       "      <td>...</td>\n",
       "      <td>4.815604</td>\n",
       "      <td>4.727251</td>\n",
       "      <td>3.531290</td>\n",
       "      <td>3.764322</td>\n",
       "      <td>5.148937</td>\n",
       "      <td>3.440604</td>\n",
       "      <td>3.460626</td>\n",
       "      <td>3.291795</td>\n",
       "      <td>4.555187</td>\n",
       "      <td>4.148937</td>\n",
       "    </tr>\n",
       "    <tr>\n",
       "      <th>A106016KSI0YQ</th>\n",
       "      <td>4.108391</td>\n",
       "      <td>3.950105</td>\n",
       "      <td>3.971906</td>\n",
       "      <td>4.351306</td>\n",
       "      <td>4.218439</td>\n",
       "      <td>3.433927</td>\n",
       "      <td>3.974932</td>\n",
       "      <td>3.419284</td>\n",
       "      <td>3.036621</td>\n",
       "      <td>4.218439</td>\n",
       "      <td>...</td>\n",
       "      <td>4.248742</td>\n",
       "      <td>4.160388</td>\n",
       "      <td>2.964428</td>\n",
       "      <td>3.197460</td>\n",
       "      <td>4.582075</td>\n",
       "      <td>2.873742</td>\n",
       "      <td>2.893763</td>\n",
       "      <td>2.724932</td>\n",
       "      <td>3.988325</td>\n",
       "      <td>3.582075</td>\n",
       "    </tr>\n",
       "    <tr>\n",
       "      <th>A106E1N0ZQ4D9W</th>\n",
       "      <td>4.625564</td>\n",
       "      <td>4.467278</td>\n",
       "      <td>4.489079</td>\n",
       "      <td>4.868479</td>\n",
       "      <td>4.735612</td>\n",
       "      <td>3.951100</td>\n",
       "      <td>4.492105</td>\n",
       "      <td>3.936457</td>\n",
       "      <td>3.553793</td>\n",
       "      <td>4.735612</td>\n",
       "      <td>...</td>\n",
       "      <td>4.765915</td>\n",
       "      <td>4.677561</td>\n",
       "      <td>3.481601</td>\n",
       "      <td>3.714633</td>\n",
       "      <td>5.099248</td>\n",
       "      <td>3.390915</td>\n",
       "      <td>3.410936</td>\n",
       "      <td>3.242105</td>\n",
       "      <td>4.505498</td>\n",
       "      <td>4.099248</td>\n",
       "    </tr>\n",
       "    <tr>\n",
       "      <th>A10BZSGALQPS0V</th>\n",
       "      <td>4.380420</td>\n",
       "      <td>4.222134</td>\n",
       "      <td>4.243935</td>\n",
       "      <td>4.623335</td>\n",
       "      <td>4.490468</td>\n",
       "      <td>3.705957</td>\n",
       "      <td>4.246962</td>\n",
       "      <td>3.691314</td>\n",
       "      <td>3.308650</td>\n",
       "      <td>4.490468</td>\n",
       "      <td>...</td>\n",
       "      <td>4.520771</td>\n",
       "      <td>4.432418</td>\n",
       "      <td>3.236458</td>\n",
       "      <td>3.469489</td>\n",
       "      <td>4.854105</td>\n",
       "      <td>3.145771</td>\n",
       "      <td>3.165793</td>\n",
       "      <td>2.996962</td>\n",
       "      <td>4.260355</td>\n",
       "      <td>3.854105</td>\n",
       "    </tr>\n",
       "  </tbody>\n",
       "</table>\n",
       "<p>5 rows × 10982 columns</p>\n",
       "</div>"
      ],
      "text/plain": [
       "asin            000100039X  0002007770  0002051850  0002219417  000222383X  \\\n",
       "reviewerId                                                                   \n",
       "A100NGGXRQF0AQ    4.682921    4.524635    4.546435    4.925836    4.792969   \n",
       "A102Z3T7NSM5KC    4.675253    4.516967    4.538768    4.918168    4.785301   \n",
       "A106016KSI0YQ     4.108391    3.950105    3.971906    4.351306    4.218439   \n",
       "A106E1N0ZQ4D9W    4.625564    4.467278    4.489079    4.868479    4.735612   \n",
       "A10BZSGALQPS0V    4.380420    4.222134    4.243935    4.623335    4.490468   \n",
       "\n",
       "asin            000224053X  0002242052  0002247399  0002550938  0002726874  \\\n",
       "reviewerId                                                                   \n",
       "A100NGGXRQF0AQ    4.008457    4.549462    3.993814    3.611150    4.792969   \n",
       "A102Z3T7NSM5KC    4.000789    4.541795    3.986147    3.603483    4.785301   \n",
       "A106016KSI0YQ     3.433927    3.974932    3.419284    3.036621    4.218439   \n",
       "A106E1N0ZQ4D9W    3.951100    4.492105    3.936457    3.553793    4.735612   \n",
       "A10BZSGALQPS0V    3.705957    4.246962    3.691314    3.308650    4.490468   \n",
       "\n",
       "asin              ...      452289858  452295297  452295386  452295513  \\\n",
       "reviewerId        ...                                                   \n",
       "A100NGGXRQF0AQ    ...       4.823272   4.734918   3.538958   3.771990   \n",
       "A102Z3T7NSM5KC    ...       4.815604   4.727251   3.531290   3.764322   \n",
       "A106016KSI0YQ     ...       4.248742   4.160388   2.964428   3.197460   \n",
       "A106E1N0ZQ4D9W    ...       4.765915   4.677561   3.481601   3.714633   \n",
       "A10BZSGALQPS0V    ...       4.520771   4.432418   3.236458   3.469489   \n",
       "\n",
       "asin            452295831  452296099  452296293  452296315  452296366  \\\n",
       "reviewerId                                                              \n",
       "A100NGGXRQF0AQ   5.156605   3.448272   3.468293   3.299462   4.562855   \n",
       "A102Z3T7NSM5KC   5.148937   3.440604   3.460626   3.291795   4.555187   \n",
       "A106016KSI0YQ    4.582075   2.873742   2.893763   2.724932   3.988325   \n",
       "A106E1N0ZQ4D9W   5.099248   3.390915   3.410936   3.242105   4.505498   \n",
       "A10BZSGALQPS0V   4.854105   3.145771   3.165793   2.996962   4.260355   \n",
       "\n",
       "asin            452296544  \n",
       "reviewerId                 \n",
       "A100NGGXRQF0AQ   4.156605  \n",
       "A102Z3T7NSM5KC   4.148937  \n",
       "A106016KSI0YQ    3.582075  \n",
       "A106E1N0ZQ4D9W   4.099248  \n",
       "A10BZSGALQPS0V   3.854105  \n",
       "\n",
       "[5 rows x 10982 columns]"
      ]
     },
     "execution_count": 11,
     "metadata": {},
     "output_type": "execute_result"
    }
   ],
   "source": [
    "baseline_est = overall_mean + bu.values.reshape(-1,1) + bi.values.reshape(1,-1)\n",
    "baseline_est = pd.DataFrame(baseline_est, index = bu.index, columns = bi.index)\n",
    "baseline_est.head()"
   ]
  },
  {
   "cell_type": "code",
   "execution_count": 12,
   "metadata": {
    "ExecuteTime": {
     "end_time": "2020-05-14T19:04:58.195143Z",
     "start_time": "2020-05-14T19:04:58.104290Z"
    },
    "hidden": true,
    "scrolled": true
   },
   "outputs": [
    {
     "name": "stdout",
     "output_type": "stream",
     "text": [
      "<class 'pandas.core.frame.DataFrame'>\n",
      "Index: 2647 entries, A100NGGXRQF0AQ to AZY96LU53VWGO\n",
      "Columns: 10982 entries, 000100039X to 452296544\n",
      "dtypes: float64(10982)\n",
      "memory usage: 221.8+ MB\n"
     ]
    }
   ],
   "source": [
    "baseline_est.info()"
   ]
  },
  {
   "cell_type": "code",
   "execution_count": 15,
   "metadata": {
    "ExecuteTime": {
     "end_time": "2020-05-14T19:07:31.499641Z",
     "start_time": "2020-05-14T19:07:30.074234Z"
    },
    "hidden": true
   },
   "outputs": [],
   "source": [
    "baseline_est[baseline_est>5] = 5\n",
    "baseline_est[baseline_est<1] = 1"
   ]
  },
  {
   "cell_type": "code",
   "execution_count": 5,
   "metadata": {
    "ExecuteTime": {
     "end_time": "2020-05-16T18:31:58.772549Z",
     "start_time": "2020-05-16T18:31:58.738561Z"
    },
    "hidden": true
   },
   "outputs": [
    {
     "ename": "NameError",
     "evalue": "name 'baseline_est' is not defined",
     "output_type": "error",
     "traceback": [
      "\u001b[0;31m---------------------------------------------------------------------------\u001b[0m",
      "\u001b[0;31mNameError\u001b[0m                                 Traceback (most recent call last)",
      "\u001b[0;32m<ipython-input-5-a9546f0d26e9>\u001b[0m in \u001b[0;36m<module>\u001b[0;34m\u001b[0m\n\u001b[0;32m----> 1\u001b[0;31m baseline_est.to_csv('/Volumes/external/Sangeetha-Project/baseline_est.csv.gz', index=True,\n\u001b[0m\u001b[1;32m      2\u001b[0m                        compression='gzip')\n",
      "\u001b[0;31mNameError\u001b[0m: name 'baseline_est' is not defined"
     ]
    }
   ],
   "source": [
    "baseline_est.to_csv('/Volumes/external/Sangeetha-Project/baseline_est-.csv.gz', header = True, index=True,\n",
    "                       compression='gzip')"
   ]
  },
  {
   "cell_type": "markdown",
   "metadata": {},
   "source": [
    "## Running through an example - user 100 ('A151OW029XD9JU') & book 4599 (0312385846)"
   ]
  },
  {
   "cell_type": "code",
   "execution_count": 7,
   "metadata": {
    "ExecuteTime": {
     "end_time": "2020-05-16T18:32:45.590134Z",
     "start_time": "2020-05-16T18:32:27.184590Z"
    }
   },
   "outputs": [],
   "source": [
    "baseline_est = pd.read_csv('/Volumes/external/Sangeetha-Project/baseline_est.csv.gz', index_col=0,\n",
    "                       compression='gzip')"
   ]
  },
  {
   "cell_type": "code",
   "execution_count": 9,
   "metadata": {
    "ExecuteTime": {
     "end_time": "2020-05-16T18:33:44.980649Z",
     "start_time": "2020-05-16T18:33:44.409707Z"
    }
   },
   "outputs": [],
   "source": [
    "df_sub = pd.read_csv('/Volumes/external/Sangeetha-Project/df_sub.csv.gz', \n",
    "                       compression='gzip').astype({'rating':'int8', 'total_votes':'int32'})"
   ]
  },
  {
   "cell_type": "code",
   "execution_count": 61,
   "metadata": {
    "ExecuteTime": {
     "end_time": "2020-05-16T20:49:08.956173Z",
     "start_time": "2020-05-16T20:49:08.949098Z"
    }
   },
   "outputs": [
    {
     "data": {
      "text/plain": [
       "'A2S166WSCFIFP5'"
      ]
     },
     "execution_count": 61,
     "metadata": {},
     "output_type": "execute_result"
    }
   ],
   "source": [
    "#Pick a random user:\n",
    "#user=random.choice(np.unique(df_sub.reviewerId))\n",
    "user = 'A2S166WSCFIFP5'\n",
    "user"
   ]
  },
  {
   "cell_type": "code",
   "execution_count": 62,
   "metadata": {
    "ExecuteTime": {
     "end_time": "2020-05-16T20:49:20.774620Z",
     "start_time": "2020-05-16T20:49:20.737647Z"
    }
   },
   "outputs": [
    {
     "data": {
      "text/plain": [
       "array(['0439023483', '0143170090', '030758836X', '0439023513',\n",
       "       '0141039280'], dtype=object)"
      ]
     },
     "execution_count": 62,
     "metadata": {},
     "output_type": "execute_result"
    }
   ],
   "source": [
    "#Create a list of unread books with more than 10 reviews\n",
    "books_over_10_reviews = df_sub.asin.value_counts()\n",
    "books_over_10_reviews= np.array(books_over_10_reviews[books_over_10_reviews>10].index)\n",
    "books_over_10_reviews[:5]"
   ]
  },
  {
   "cell_type": "code",
   "execution_count": 63,
   "metadata": {
    "ExecuteTime": {
     "end_time": "2020-05-16T20:49:26.523581Z",
     "start_time": "2020-05-16T20:49:26.489626Z"
    }
   },
   "outputs": [
    {
     "data": {
      "text/plain": [
       "array(['000100039X', '0007136838', '0020519001', '0020519109',\n",
       "       '006000942X'], dtype=object)"
      ]
     },
     "execution_count": 63,
     "metadata": {},
     "output_type": "execute_result"
    }
   ],
   "source": [
    "books_read_by_user = df_sub[df_sub.reviewerId == user].asin.values\n",
    "books_read_by_user[:5]"
   ]
  },
  {
   "cell_type": "code",
   "execution_count": 64,
   "metadata": {
    "ExecuteTime": {
     "end_time": "2020-05-16T20:49:31.835871Z",
     "start_time": "2020-05-16T20:49:31.718369Z"
    },
    "scrolled": true
   },
   "outputs": [
    {
     "data": {
      "text/plain": [
       "['0439023483', '0143170090', '030758836X', '0439023513', '0141039280']"
      ]
     },
     "execution_count": 64,
     "metadata": {},
     "output_type": "execute_result"
    }
   ],
   "source": [
    "#Books that have over 10 reviews but hasnt been read by user\n",
    "unread_book_by_user= [x for x in books_over_10_reviews if x not in books_read_by_user]\n",
    "unread_book_by_user[:5]"
   ]
  },
  {
   "cell_type": "code",
   "execution_count": 79,
   "metadata": {
    "ExecuteTime": {
     "end_time": "2020-05-16T20:55:23.251119Z",
     "start_time": "2020-05-16T20:55:23.245885Z"
    }
   },
   "outputs": [],
   "source": [
    "book_chosen = random.choice(unread_book_by_user)\n",
    "#book_chosen = '0312385846'\n",
    "book_chosen = '0002007770'"
   ]
  },
  {
   "cell_type": "code",
   "execution_count": 80,
   "metadata": {
    "ExecuteTime": {
     "end_time": "2020-05-16T20:55:27.890824Z",
     "start_time": "2020-05-16T20:55:27.833748Z"
    },
    "scrolled": false
   },
   "outputs": [
    {
     "data": {
      "text/html": [
       "<div>\n",
       "<style scoped>\n",
       "    .dataframe tbody tr th:only-of-type {\n",
       "        vertical-align: middle;\n",
       "    }\n",
       "\n",
       "    .dataframe tbody tr th {\n",
       "        vertical-align: top;\n",
       "    }\n",
       "\n",
       "    .dataframe thead th {\n",
       "        text-align: right;\n",
       "    }\n",
       "</style>\n",
       "<table border=\"1\" class=\"dataframe\">\n",
       "  <thead>\n",
       "    <tr style=\"text-align: right;\">\n",
       "      <th></th>\n",
       "      <th>reviewerId</th>\n",
       "      <th>asin</th>\n",
       "      <th>rating</th>\n",
       "      <th>summary</th>\n",
       "      <th>total_votes</th>\n",
       "    </tr>\n",
       "  </thead>\n",
       "  <tbody>\n",
       "  </tbody>\n",
       "</table>\n",
       "</div>"
      ],
      "text/plain": [
       "Empty DataFrame\n",
       "Columns: [reviewerId, asin, rating, summary, total_votes]\n",
       "Index: []"
      ]
     },
     "execution_count": 80,
     "metadata": {},
     "output_type": "execute_result"
    }
   ],
   "source": [
    "#Check to see if the reviewer hasnt read the book yet if you want \n",
    "df_sub[(df_sub.reviewerId==user)&(df_sub.asin==book_chosen)]"
   ]
  },
  {
   "cell_type": "code",
   "execution_count": 81,
   "metadata": {
    "ExecuteTime": {
     "end_time": "2020-05-16T20:55:34.056328Z",
     "start_time": "2020-05-16T20:55:34.029512Z"
    }
   },
   "outputs": [
    {
     "data": {
      "text/plain": [
       "array(['APBA7Y4SINS0H', 'A22019GDU7OVFG', 'A1HRYC60VTMYC0',\n",
       "       'A1QZ6MFP9TSQU6', 'A3T4KN9XO3PIXG', 'A19D3N662QS9WD',\n",
       "       'A26UNIPEVYE9DE', 'A914TQVHI872U', 'A3E02KBFI21TY0',\n",
       "       'A3BIWTN2DA0YY2', 'A30H2335OM7RD6', 'A21NVBFIEQWDSG',\n",
       "       'AJQ1S39GZBKUG', 'A2PN65B6BSTIYZ', 'A3KOO6L0NA2PJA',\n",
       "       'A3GUK4RWXKHS9I', 'ASPABROV8R7M5', 'A75W6T9I2S8BA',\n",
       "       'A33E0CODNP98PV', 'A3QVI57VT1VGRO', 'A5H86XYSS0OU6',\n",
       "       'A2PWUIQG57O1AZ', 'AK536TCZST9B', 'A26BVUB2YJMGB7',\n",
       "       'A2ATWKOFJXRRR1', 'A1PKJUAQFGNLSX', 'A15NZD5WINDQZM',\n",
       "       'A39650P2CZUUC9', 'A2VUNCELWAV29X', 'A1GIW9VUC7V2WE',\n",
       "       'A27QB2QCDK90GP', 'AO3M6LS4V3UY4', 'A7SSCDSCM4PXF',\n",
       "       'A2F6N60Z96CAJI', 'A2R53V98P2T4Y4', 'AGFNLMUZ09UF1',\n",
       "       'A2HRPFBYBZ4RJ5', 'A1NOBRCN20NGD5', 'AYT4FJYVCHYLE',\n",
       "       'A1QQEFV51EMD7E', 'A3F0OFSE2M25U2', 'A35ROK8CVWNF62',\n",
       "       'A1BI8PUEHA5CHW', 'A19KMJBW99ZTZK', 'A2ZATPER188K3J',\n",
       "       'AG2YXYIQ8TLTA', 'A2SPCMHMXS2QSF', 'A99CILDQPTRTZ',\n",
       "       'A3JSDV57XPD937', 'A3SUD7WHS9KI57', 'A2VZ11U5DXM8J5',\n",
       "       'A1O3SZ5I2F42A', 'AVJDSIQPP87B9', 'A2H44WVZS59KKT',\n",
       "       'A367Y1QXNWRJP0', 'ARBMZ59SXGUGI', 'AX7JJMP7ZMEWG',\n",
       "       'A34N0IE7D4M0E6', 'A1T17LMQABMBN5', 'A39AWL2FKWDFK6',\n",
       "       'A51IK68MWKV5R', 'AQCQ5F0OJXMG9', 'A3VLAHQIRK8PA7',\n",
       "       'A1FNIBTI1D91KM', 'A3VJ27010XUWTF', 'AGZK126DNQ2FN',\n",
       "       'A39ABKRS1MKFTW', 'A1S4A310394IL7', 'A3IYEFZES0QRFT',\n",
       "       'A1G0DH7UQ4ILS6', 'A359U0JFFZ0Q04', 'AAL7QMRIOAGVD',\n",
       "       'A2MQQI4UYT9C11', 'A1E2NA2F4RTQ9B', 'A1WKQ94M45D8MG',\n",
       "       'A2C4MKATLLGFB0', 'A1DT70XSV8FUB5', 'AIK0G28AWIL17',\n",
       "       'A3UIPJ29I9Y61', 'A2NHD7LUXVGTD3', 'A1K1JW1C5CUSUZ',\n",
       "       'A3ORWAR4CAOPAC', 'AWFMGDUUGNGYW', 'A1V09ASZ9HWQAE',\n",
       "       'A28S3F43F76HSH', 'A2Q6R7WN1D2K27', 'A3FA9MUYT5D2C8',\n",
       "       'A1BY89JC6JOAC5', 'AFFGYGNO989PD', 'ANXM8UXIIF2HC',\n",
       "       'A27OBJA1YDQFZI', 'A3M6PVBDT2ED45', 'AQW3C1QOR6MV8',\n",
       "       'AZY96LU53VWGO', 'A28SBPF6KFZ7VL', 'A1CHM200OEN65X',\n",
       "       'A14ASJYL2MJNUF', 'A19OQ7LWE2YJL3', 'A73DFWJE0CGY6',\n",
       "       'A3IKBHODOTYYHM', 'A3PGGI7A6XCNF1', 'AW3H09TT8YDQG',\n",
       "       'A12OB10E5L01V0', 'A3M174IC0VXOS2', 'A2KJZXIXBHVG0K',\n",
       "       'AK7D1BHZOSOL1', 'A16A3MYURJDYS7', 'A2PR6NXG0PA3KY',\n",
       "       'ASLHDTUUMOH7F', 'A3TBNZFDY7ZNU7', 'A3P9D22KDEXVMN',\n",
       "       'A20FK68BUB1IVA', 'A2R6YYZJU332O8', 'A2T110FW5JH644',\n",
       "       'A3HZKNZY9KKQZA', 'A1UFV4HALV2OXW', 'A3617MUVB2ACOQ',\n",
       "       'A2XK04SBBC164A', 'AZ8N5BS6476S8', 'A1CNQTCRQ35IMM',\n",
       "       'A2SZ9BG00RYAHG', 'A1EEW7AS30AK5Q', 'A2BCIAH2TIYVQ9',\n",
       "       'A3DRSOGQJRX10', 'A3RP1I0SL7091Q', 'AHU9DUUIU37PK',\n",
       "       'A1X1TY8AT7E03H', 'A2XQMGE2YY88DC', 'A1IIX764GG3WNZ',\n",
       "       'A1WCJEZS66D224', 'A146H6A41B26QT', 'A1G9UEWALDT9JI',\n",
       "       'A20VXF9DYI0I6H', 'AGFGY4EJ37VS2', 'A2TAPSNKK9AFSQ',\n",
       "       'A1CB9F7TVZ7IRT', 'A2ECPW4RA7NWMP', 'AZ85B5Q1UEH5U',\n",
       "       'AHQYCRL2FMG3D', 'A1237ROTM7659', 'A1DW700HEBQC4P',\n",
       "       'A2E3GFHUDNPYDH', 'A5A3C6XVDYUND', 'A3PHF9UV3F177L',\n",
       "       'A1IOJE0W1NXOSE', 'A2T9EHCUD7CNEB', 'A2EHSB26B1U4X2',\n",
       "       'A22B13EJTZKCTM', 'A11PKVBGCKRVEK', 'ALAFR9RRKEUZP',\n",
       "       'A11L3YX5WIDKJ', 'A1DW4U1LQV0XW7', 'AKHKBZEHJ36FQ',\n",
       "       'A2TWBMSMBXFJKE', 'A2GPEV42IO41CI', 'A2NJL67GOMVDU0',\n",
       "       'A2H6Q6AK8S90F3', 'AOCADWNP0OCKD', 'A2WJC8K1PN8HLW',\n",
       "       'APX6P0TIEUNWD', 'A3CZM67USY6DQ8', 'A32F7XPPKIILVC',\n",
       "       'AS6EPVW1IRRP5', 'A3Q86MZSVUUAD8', 'A2K9FXOFFHVNWG',\n",
       "       'A1B23PU99IVME', 'A17FLA8HQOFVIG', 'ADDR431KVX4WN',\n",
       "       'A3DII698XLNK94', 'A2X7F0D66LK2WN', 'APTVNT7U6RZC3',\n",
       "       'A2MF2QVSCUI27G', 'A1JYYFGPMHSEB6', 'A33N05GF31KN8N',\n",
       "       'A16W9E27VW9IND', 'A3GWVB80CNOSN8', 'A1BIGYMFZOFTR8',\n",
       "       'A21A2JGWH92TXZ', 'AU5HUS2XJBDZZ', 'AYYAIPS6M3HB8',\n",
       "       'A1WDHQ9V2E4H5C', 'A2T1B8LGQRYCEA', 'A11NL2A0RDEGF',\n",
       "       'A2HR0DJG4WMR8R', 'AFHYEO3Y1IIDD', 'A370Z6I5GBWU44',\n",
       "       'A3HBE3VAKQ7RYF', 'A1NKHQ9L0KIIB5', 'A3KEZLJ59C1JVH',\n",
       "       'A1F3PBBSHAA2Y9', 'AB073YS7FTWCA', 'A1GFM0ZKG5PKJJ',\n",
       "       'A3LKWMM12AF0PU', 'AP8AUHUUYL34A', 'A1WUPRPQBV4FB8',\n",
       "       'A3LWRDY0OQH3LY', 'AFUQ93IMBSVR4', 'A3OZPA2Y2SUYX5',\n",
       "       'A3MDLDRB2GVKBH', 'A17TASZJT6Y39D', 'A3T0OTH5072YRE',\n",
       "       'A2VWGLT380E60S', 'A1OLGW6LUM9M5U', 'A1129LM24YWSZV',\n",
       "       'AEXE5RH7221AJ', 'A2QTG1OWAWEFR4', 'A1XHK8COWBZ34F',\n",
       "       'A3UKWQS8SRW6IO', 'A257XGMVGITLCT', 'A2ESOF0E2FTXXL',\n",
       "       'A9L1JTFE26GLN', 'A1D3XQC2DIT', 'AQ6SJVPZ6P6DC', 'A2V6FC7GVZ6T7M',\n",
       "       'A1FCBJNIFF4PPU', 'A2T5O7MHGONT6S', 'A38UNI88GFRH60',\n",
       "       'AVL5IDEE8YA3D', 'AX54G5AL870Q8', 'A19O53R0L0W4O7',\n",
       "       'AA30KAI4RI6AT', 'AN3D3M8MJ07BQ', 'ASK5NF6RO8W19',\n",
       "       'A1YN0D68BEBUUQ', 'A1RMHZSWZ7ZEQO', 'A3QM5ZB79I7MT0',\n",
       "       'A32PC5F6QT0SC9', 'AS6SH2JM2YY3H', 'A3DHLK8J85U32F',\n",
       "       'A37S3ACL57LN62', 'A1F3DFRPGVEUI8', 'A35CCGJDNXUDY9',\n",
       "       'A3SN9EF7GTNEU2', 'A8QNRCZFSSY9C', 'A30F8LGQXSIV50',\n",
       "       'A2PN7Z2VTHICL8', 'A2DW6ITKD576FH', 'AIKL4PJ4M35ER',\n",
       "       'A1T9P4HXF0F2NS', 'A3B6FOHAAOL7G3', 'A1KAS2W1TD8UOU',\n",
       "       'A7YRO6JIVVG7D', 'A1OSPY4MSOLE5V', 'A2IYCVYH319OEN',\n",
       "       'A2UW83R0JOZZ6', 'A1N1YEMTI9DJ86', 'AGIWOEGLZYWQ9',\n",
       "       'APXQHFTTYERDE', 'A3QW09WANRS6BZ', 'A2ZHH7AK83JB5G',\n",
       "       'A151OW029XD9JU', 'A2T6RWGHT3DIDH', 'A4OC42L6GVJ6Y',\n",
       "       'A14QJKY3DA19AP', 'A303U1MOXG5R1F', 'A265NE6H6LYX87',\n",
       "       'A30GESVUFJTTZF', 'A3SQQYS79AV13M', 'A3NDPSK6QZHSAV',\n",
       "       'A18VICK1AMJS6B', 'A1DQZBHEU98PBT', 'A1S3IN6CSTBPY6',\n",
       "       'A1YBVBU27AKJ1J', 'A3NSMGE2T71EGV', 'A3U437ALQKGREY',\n",
       "       'A23E9QQHJLNGUI', 'A1FT7QFKNHL9DT', 'A3ADK3ZTJ87915',\n",
       "       'A3QS5UYAGHF4IU'], dtype=object)"
      ]
     },
     "execution_count": 81,
     "metadata": {},
     "output_type": "execute_result"
    }
   ],
   "source": [
    "#List of users who have rated the book\n",
    "reviewers_rated_book = df_sub[df_sub.asin==book_chosen].reviewerId.values\n",
    "reviewers_rated_book"
   ]
  },
  {
   "cell_type": "code",
   "execution_count": 82,
   "metadata": {
    "ExecuteTime": {
     "end_time": "2020-05-16T20:55:39.028757Z",
     "start_time": "2020-05-16T20:55:38.729860Z"
    }
   },
   "outputs": [
    {
     "data": {
      "text/plain": [
       "[2.0211375665879494e-05,\n",
       " 3.555496537110958e-05,\n",
       " 1.6393689702187686e-05,\n",
       " 2.3400917009808175e-05,\n",
       " 4.505484467887122e-05]"
      ]
     },
     "execution_count": 82,
     "metadata": {},
     "output_type": "execute_result"
    }
   ],
   "source": [
    "user_distances = []\n",
    "\n",
    "for reviewer in reviewers_rated_book:\n",
    "    user_distances.append(scipy.spatial.distance.cosine(baseline_est.loc[user,:].values, \n",
    "                                                          baseline_est.loc[reviewer,:].values))\n",
    "user_distances[:5]"
   ]
  },
  {
   "cell_type": "code",
   "execution_count": 83,
   "metadata": {
    "ExecuteTime": {
     "end_time": "2020-05-16T20:55:44.188933Z",
     "start_time": "2020-05-16T20:55:44.174800Z"
    }
   },
   "outputs": [
    {
     "data": {
      "text/html": [
       "<div>\n",
       "<style scoped>\n",
       "    .dataframe tbody tr th:only-of-type {\n",
       "        vertical-align: middle;\n",
       "    }\n",
       "\n",
       "    .dataframe tbody tr th {\n",
       "        vertical-align: top;\n",
       "    }\n",
       "\n",
       "    .dataframe thead th {\n",
       "        text-align: right;\n",
       "    }\n",
       "</style>\n",
       "<table border=\"1\" class=\"dataframe\">\n",
       "  <thead>\n",
       "    <tr style=\"text-align: right;\">\n",
       "      <th></th>\n",
       "      <th>reviewerId</th>\n",
       "      <th>cos_distance</th>\n",
       "    </tr>\n",
       "  </thead>\n",
       "  <tbody>\n",
       "    <tr>\n",
       "      <td>0</td>\n",
       "      <td>A1PKJUAQFGNLSX</td>\n",
       "      <td>3.806073e-09</td>\n",
       "    </tr>\n",
       "    <tr>\n",
       "      <td>1</td>\n",
       "      <td>A7SSCDSCM4PXF</td>\n",
       "      <td>7.656516e-09</td>\n",
       "    </tr>\n",
       "    <tr>\n",
       "      <td>2</td>\n",
       "      <td>A75W6T9I2S8BA</td>\n",
       "      <td>1.340006e-08</td>\n",
       "    </tr>\n",
       "    <tr>\n",
       "      <td>3</td>\n",
       "      <td>A2ECPW4RA7NWMP</td>\n",
       "      <td>1.453352e-08</td>\n",
       "    </tr>\n",
       "    <tr>\n",
       "      <td>4</td>\n",
       "      <td>A21NVBFIEQWDSG</td>\n",
       "      <td>2.817721e-08</td>\n",
       "    </tr>\n",
       "  </tbody>\n",
       "</table>\n",
       "</div>"
      ],
      "text/plain": [
       "       reviewerId  cos_distance\n",
       "0  A1PKJUAQFGNLSX  3.806073e-09\n",
       "1   A7SSCDSCM4PXF  7.656516e-09\n",
       "2   A75W6T9I2S8BA  1.340006e-08\n",
       "3  A2ECPW4RA7NWMP  1.453352e-08\n",
       "4  A21NVBFIEQWDSG  2.817721e-08"
      ]
     },
     "execution_count": 83,
     "metadata": {},
     "output_type": "execute_result"
    }
   ],
   "source": [
    "sorted_reviewers = sorted(zip(reviewers_rated_book,user_distances), key=lambda x:x[1])\n",
    "sorted_reviewers = pd.DataFrame(sorted_reviewers, columns = ['reviewerId', 'cos_distance'])\n",
    "sorted_reviewers[:5]"
   ]
  },
  {
   "cell_type": "code",
   "execution_count": 84,
   "metadata": {
    "ExecuteTime": {
     "end_time": "2020-05-16T20:55:52.493456Z",
     "start_time": "2020-05-16T20:55:52.464935Z"
    }
   },
   "outputs": [],
   "source": [
    "reviews_example = df_sub[df_sub.asin == book_chosen].copy()\n",
    "reviews_example = reviews_example.merge(sorted_reviewers, on ='reviewerId')"
   ]
  },
  {
   "cell_type": "code",
   "execution_count": 50,
   "metadata": {
    "ExecuteTime": {
     "end_time": "2020-05-16T18:51:32.650606Z",
     "start_time": "2020-05-16T18:51:32.639018Z"
    }
   },
   "outputs": [
    {
     "name": "stdout",
     "output_type": "stream",
     "text": [
      "<class 'pandas.core.frame.DataFrame'>\n",
      "Int64Index: 14 entries, 0 to 13\n",
      "Data columns (total 6 columns):\n",
      "reviewerId      14 non-null object\n",
      "asin            14 non-null object\n",
      "rating          14 non-null int8\n",
      "summary         14 non-null object\n",
      "total_votes     14 non-null int32\n",
      "cos_distance    14 non-null float64\n",
      "dtypes: float64(1), int32(1), int8(1), object(3)\n",
      "memory usage: 630.0+ bytes\n"
     ]
    }
   ],
   "source": [
    "reviews_example.info()"
   ]
  },
  {
   "cell_type": "markdown",
   "metadata": {},
   "source": [
    "I chose the method 'average' for the rank for the total votes and the method 'dense' for the cosine as cosine will always be different for each row so the ranks will increase faster than for the total_votes where there are more likely to be ties. So average for total_votes and dense for cos_distance should smooth these differences"
   ]
  },
  {
   "cell_type": "code",
   "execution_count": 85,
   "metadata": {
    "ExecuteTime": {
     "end_time": "2020-05-16T20:56:11.778890Z",
     "start_time": "2020-05-16T20:56:11.753913Z"
    },
    "scrolled": true
   },
   "outputs": [
    {
     "data": {
      "text/html": [
       "<div>\n",
       "<style scoped>\n",
       "    .dataframe tbody tr th:only-of-type {\n",
       "        vertical-align: middle;\n",
       "    }\n",
       "\n",
       "    .dataframe tbody tr th {\n",
       "        vertical-align: top;\n",
       "    }\n",
       "\n",
       "    .dataframe thead th {\n",
       "        text-align: right;\n",
       "    }\n",
       "</style>\n",
       "<table border=\"1\" class=\"dataframe\">\n",
       "  <thead>\n",
       "    <tr style=\"text-align: right;\">\n",
       "      <th></th>\n",
       "      <th>reviewerId</th>\n",
       "      <th>asin</th>\n",
       "      <th>rating</th>\n",
       "      <th>summary</th>\n",
       "      <th>total_votes</th>\n",
       "      <th>cos_distance</th>\n",
       "      <th>vote_rank</th>\n",
       "    </tr>\n",
       "  </thead>\n",
       "  <tbody>\n",
       "    <tr>\n",
       "      <td>171</td>\n",
       "      <td>A2MF2QVSCUI27G</td>\n",
       "      <td>0002007770</td>\n",
       "      <td>5</td>\n",
       "      <td>\"In seventy years, I've never told a blessed s...</td>\n",
       "      <td>1150</td>\n",
       "      <td>5.920482e-05</td>\n",
       "      <td>5.0</td>\n",
       "    </tr>\n",
       "    <tr>\n",
       "      <td>66</td>\n",
       "      <td>A39ABKRS1MKFTW</td>\n",
       "      <td>0002007770</td>\n",
       "      <td>5</td>\n",
       "      <td>One of the best books I've read this year...</td>\n",
       "      <td>394</td>\n",
       "      <td>4.134266e-05</td>\n",
       "      <td>10.0</td>\n",
       "    </tr>\n",
       "    <tr>\n",
       "      <td>107</td>\n",
       "      <td>A2PR6NXG0PA3KY</td>\n",
       "      <td>0002007770</td>\n",
       "      <td>2</td>\n",
       "      <td>Basically a Question of Taste</td>\n",
       "      <td>258</td>\n",
       "      <td>4.734389e-06</td>\n",
       "      <td>6.0</td>\n",
       "    </tr>\n",
       "    <tr>\n",
       "      <td>221</td>\n",
       "      <td>AN3D3M8MJ07BQ</td>\n",
       "      <td>0002007770</td>\n",
       "      <td>5</td>\n",
       "      <td>YOU CAN GO HOME AGAIN</td>\n",
       "      <td>77</td>\n",
       "      <td>4.577832e-04</td>\n",
       "      <td>20.0</td>\n",
       "    </tr>\n",
       "    <tr>\n",
       "      <td>0</td>\n",
       "      <td>APBA7Y4SINS0H</td>\n",
       "      <td>0002007770</td>\n",
       "      <td>1</td>\n",
       "      <td>Now I lay me down to sleep</td>\n",
       "      <td>49</td>\n",
       "      <td>2.021138e-05</td>\n",
       "      <td>5.0</td>\n",
       "    </tr>\n",
       "    <tr>\n",
       "      <td>...</td>\n",
       "      <td>...</td>\n",
       "      <td>...</td>\n",
       "      <td>...</td>\n",
       "      <td>...</td>\n",
       "      <td>...</td>\n",
       "      <td>...</td>\n",
       "      <td>...</td>\n",
       "    </tr>\n",
       "    <tr>\n",
       "      <td>173</td>\n",
       "      <td>A33N05GF31KN8N</td>\n",
       "      <td>0002007770</td>\n",
       "      <td>4</td>\n",
       "      <td>Entertaining and Well Paced</td>\n",
       "      <td>0</td>\n",
       "      <td>4.793384e-06</td>\n",
       "      <td>994.0</td>\n",
       "    </tr>\n",
       "    <tr>\n",
       "      <td>215</td>\n",
       "      <td>A2T5O7MHGONT6S</td>\n",
       "      <td>0002007770</td>\n",
       "      <td>5</td>\n",
       "      <td>A \"must read\"</td>\n",
       "      <td>0</td>\n",
       "      <td>8.938374e-06</td>\n",
       "      <td>1242.5</td>\n",
       "    </tr>\n",
       "    <tr>\n",
       "      <td>22</td>\n",
       "      <td>AK536TCZST9B</td>\n",
       "      <td>0002007770</td>\n",
       "      <td>5</td>\n",
       "      <td>the life of Jacob</td>\n",
       "      <td>0</td>\n",
       "      <td>7.627394e-05</td>\n",
       "      <td>1242.5</td>\n",
       "    </tr>\n",
       "    <tr>\n",
       "      <td>96</td>\n",
       "      <td>A14ASJYL2MJNUF</td>\n",
       "      <td>0002007770</td>\n",
       "      <td>5</td>\n",
       "      <td>Narration is excellent</td>\n",
       "      <td>0</td>\n",
       "      <td>2.837032e-05</td>\n",
       "      <td>1242.5</td>\n",
       "    </tr>\n",
       "    <tr>\n",
       "      <td>95</td>\n",
       "      <td>A1CHM200OEN65X</td>\n",
       "      <td>0002007770</td>\n",
       "      <td>3</td>\n",
       "      <td>A \"Blind Man's\" View</td>\n",
       "      <td>0</td>\n",
       "      <td>3.479642e-07</td>\n",
       "      <td>745.5</td>\n",
       "    </tr>\n",
       "  </tbody>\n",
       "</table>\n",
       "<p>269 rows × 7 columns</p>\n",
       "</div>"
      ],
      "text/plain": [
       "         reviewerId        asin  rating  \\\n",
       "171  A2MF2QVSCUI27G  0002007770       5   \n",
       "66   A39ABKRS1MKFTW  0002007770       5   \n",
       "107  A2PR6NXG0PA3KY  0002007770       2   \n",
       "221   AN3D3M8MJ07BQ  0002007770       5   \n",
       "0     APBA7Y4SINS0H  0002007770       1   \n",
       "..              ...         ...     ...   \n",
       "173  A33N05GF31KN8N  0002007770       4   \n",
       "215  A2T5O7MHGONT6S  0002007770       5   \n",
       "22     AK536TCZST9B  0002007770       5   \n",
       "96   A14ASJYL2MJNUF  0002007770       5   \n",
       "95   A1CHM200OEN65X  0002007770       3   \n",
       "\n",
       "                                               summary  total_votes  \\\n",
       "171  \"In seventy years, I've never told a blessed s...         1150   \n",
       "66        One of the best books I've read this year...          394   \n",
       "107                      Basically a Question of Taste          258   \n",
       "221                              YOU CAN GO HOME AGAIN           77   \n",
       "0                           Now I lay me down to sleep           49   \n",
       "..                                                 ...          ...   \n",
       "173                        Entertaining and Well Paced            0   \n",
       "215                                      A \"must read\"            0   \n",
       "22                                   the life of Jacob            0   \n",
       "96                              Narration is excellent            0   \n",
       "95                                A \"Blind Man's\" View            0   \n",
       "\n",
       "     cos_distance  vote_rank  \n",
       "171  5.920482e-05        5.0  \n",
       "66   4.134266e-05       10.0  \n",
       "107  4.734389e-06        6.0  \n",
       "221  4.577832e-04       20.0  \n",
       "0    2.021138e-05        5.0  \n",
       "..            ...        ...  \n",
       "173  4.793384e-06      994.0  \n",
       "215  8.938374e-06     1242.5  \n",
       "22   7.627394e-05     1242.5  \n",
       "96   2.837032e-05     1242.5  \n",
       "95   3.479642e-07      745.5  \n",
       "\n",
       "[269 rows x 7 columns]"
      ]
     },
     "execution_count": 85,
     "metadata": {},
     "output_type": "execute_result"
    }
   ],
   "source": [
    "reviews_example['vote_rank'] = reviews_example['total_votes'].rank(method = 'average', ascending=False)*reviews_example['rating']\n",
    "reviews_example.sort_values(by='total_votes', ascending = False)"
   ]
  },
  {
   "cell_type": "code",
   "execution_count": 86,
   "metadata": {
    "ExecuteTime": {
     "end_time": "2020-05-16T20:56:17.689981Z",
     "start_time": "2020-05-16T20:56:17.663912Z"
    },
    "scrolled": true
   },
   "outputs": [
    {
     "data": {
      "text/html": [
       "<div>\n",
       "<style scoped>\n",
       "    .dataframe tbody tr th:only-of-type {\n",
       "        vertical-align: middle;\n",
       "    }\n",
       "\n",
       "    .dataframe tbody tr th {\n",
       "        vertical-align: top;\n",
       "    }\n",
       "\n",
       "    .dataframe thead th {\n",
       "        text-align: right;\n",
       "    }\n",
       "</style>\n",
       "<table border=\"1\" class=\"dataframe\">\n",
       "  <thead>\n",
       "    <tr style=\"text-align: right;\">\n",
       "      <th></th>\n",
       "      <th>reviewerId</th>\n",
       "      <th>asin</th>\n",
       "      <th>rating</th>\n",
       "      <th>summary</th>\n",
       "      <th>total_votes</th>\n",
       "      <th>cos_distance</th>\n",
       "      <th>vote_rank</th>\n",
       "      <th>cos_rank</th>\n",
       "    </tr>\n",
       "  </thead>\n",
       "  <tbody>\n",
       "    <tr>\n",
       "      <td>189</td>\n",
       "      <td>A1F3PBBSHAA2Y9</td>\n",
       "      <td>0002007770</td>\n",
       "      <td>3</td>\n",
       "      <td>Where's the romance?</td>\n",
       "      <td>3</td>\n",
       "      <td>3.496928e-03</td>\n",
       "      <td>252.0</td>\n",
       "      <td>3.0</td>\n",
       "    </tr>\n",
       "    <tr>\n",
       "      <td>239</td>\n",
       "      <td>A3B6FOHAAOL7G3</td>\n",
       "      <td>0002007770</td>\n",
       "      <td>5</td>\n",
       "      <td>Circus, Circa, 1930</td>\n",
       "      <td>7</td>\n",
       "      <td>1.654271e-03</td>\n",
       "      <td>172.5</td>\n",
       "      <td>10.0</td>\n",
       "    </tr>\n",
       "    <tr>\n",
       "      <td>35</td>\n",
       "      <td>AGFNLMUZ09UF1</td>\n",
       "      <td>0002007770</td>\n",
       "      <td>4</td>\n",
       "      <td>Worth reading</td>\n",
       "      <td>1</td>\n",
       "      <td>1.359798e-03</td>\n",
       "      <td>726.0</td>\n",
       "      <td>12.0</td>\n",
       "    </tr>\n",
       "    <tr>\n",
       "      <td>115</td>\n",
       "      <td>A1UFV4HALV2OXW</td>\n",
       "      <td>0002007770</td>\n",
       "      <td>5</td>\n",
       "      <td>Wonderful story.</td>\n",
       "      <td>1</td>\n",
       "      <td>1.356055e-03</td>\n",
       "      <td>907.5</td>\n",
       "      <td>20.0</td>\n",
       "    </tr>\n",
       "    <tr>\n",
       "      <td>65</td>\n",
       "      <td>AGZK126DNQ2FN</td>\n",
       "      <td>0002007770</td>\n",
       "      <td>5</td>\n",
       "      <td>A story not to be missed</td>\n",
       "      <td>1</td>\n",
       "      <td>1.243148e-03</td>\n",
       "      <td>907.5</td>\n",
       "      <td>25.0</td>\n",
       "    </tr>\n",
       "    <tr>\n",
       "      <td>...</td>\n",
       "      <td>...</td>\n",
       "      <td>...</td>\n",
       "      <td>...</td>\n",
       "      <td>...</td>\n",
       "      <td>...</td>\n",
       "      <td>...</td>\n",
       "      <td>...</td>\n",
       "      <td>...</td>\n",
       "    </tr>\n",
       "    <tr>\n",
       "      <td>11</td>\n",
       "      <td>A21NVBFIEQWDSG</td>\n",
       "      <td>0002007770</td>\n",
       "      <td>5</td>\n",
       "      <td>A 5-star read in any season</td>\n",
       "      <td>3</td>\n",
       "      <td>2.817721e-08</td>\n",
       "      <td>420.0</td>\n",
       "      <td>1295.0</td>\n",
       "    </tr>\n",
       "    <tr>\n",
       "      <td>136</td>\n",
       "      <td>A2ECPW4RA7NWMP</td>\n",
       "      <td>0002007770</td>\n",
       "      <td>4</td>\n",
       "      <td>Quick, Fun, But a Little Thin</td>\n",
       "      <td>6</td>\n",
       "      <td>1.453352e-08</td>\n",
       "      <td>166.0</td>\n",
       "      <td>1040.0</td>\n",
       "    </tr>\n",
       "    <tr>\n",
       "      <td>17</td>\n",
       "      <td>A75W6T9I2S8BA</td>\n",
       "      <td>0002007770</td>\n",
       "      <td>5</td>\n",
       "      <td>The Perfect Gift for Almost Everyone!</td>\n",
       "      <td>18</td>\n",
       "      <td>1.340006e-08</td>\n",
       "      <td>75.0</td>\n",
       "      <td>1305.0</td>\n",
       "    </tr>\n",
       "    <tr>\n",
       "      <td>32</td>\n",
       "      <td>A7SSCDSCM4PXF</td>\n",
       "      <td>0002007770</td>\n",
       "      <td>3</td>\n",
       "      <td>I wish I could say</td>\n",
       "      <td>2</td>\n",
       "      <td>7.656516e-09</td>\n",
       "      <td>345.0</td>\n",
       "      <td>786.0</td>\n",
       "    </tr>\n",
       "    <tr>\n",
       "      <td>25</td>\n",
       "      <td>A1PKJUAQFGNLSX</td>\n",
       "      <td>0002007770</td>\n",
       "      <td>5</td>\n",
       "      <td>A Wonderful Read</td>\n",
       "      <td>2</td>\n",
       "      <td>3.806073e-09</td>\n",
       "      <td>575.0</td>\n",
       "      <td>1315.0</td>\n",
       "    </tr>\n",
       "  </tbody>\n",
       "</table>\n",
       "<p>269 rows × 8 columns</p>\n",
       "</div>"
      ],
      "text/plain": [
       "         reviewerId        asin  rating  \\\n",
       "189  A1F3PBBSHAA2Y9  0002007770       3   \n",
       "239  A3B6FOHAAOL7G3  0002007770       5   \n",
       "35    AGFNLMUZ09UF1  0002007770       4   \n",
       "115  A1UFV4HALV2OXW  0002007770       5   \n",
       "65    AGZK126DNQ2FN  0002007770       5   \n",
       "..              ...         ...     ...   \n",
       "11   A21NVBFIEQWDSG  0002007770       5   \n",
       "136  A2ECPW4RA7NWMP  0002007770       4   \n",
       "17    A75W6T9I2S8BA  0002007770       5   \n",
       "32    A7SSCDSCM4PXF  0002007770       3   \n",
       "25   A1PKJUAQFGNLSX  0002007770       5   \n",
       "\n",
       "                                   summary  total_votes  cos_distance  \\\n",
       "189                   Where's the romance?            3  3.496928e-03   \n",
       "239                    Circus, Circa, 1930            7  1.654271e-03   \n",
       "35                           Worth reading            1  1.359798e-03   \n",
       "115                       Wonderful story.            1  1.356055e-03   \n",
       "65                A story not to be missed            1  1.243148e-03   \n",
       "..                                     ...          ...           ...   \n",
       "11             A 5-star read in any season            3  2.817721e-08   \n",
       "136          Quick, Fun, But a Little Thin            6  1.453352e-08   \n",
       "17   The Perfect Gift for Almost Everyone!           18  1.340006e-08   \n",
       "32                      I wish I could say            2  7.656516e-09   \n",
       "25                        A Wonderful Read            2  3.806073e-09   \n",
       "\n",
       "     vote_rank  cos_rank  \n",
       "189      252.0       3.0  \n",
       "239      172.5      10.0  \n",
       "35       726.0      12.0  \n",
       "115      907.5      20.0  \n",
       "65       907.5      25.0  \n",
       "..         ...       ...  \n",
       "11       420.0    1295.0  \n",
       "136      166.0    1040.0  \n",
       "17        75.0    1305.0  \n",
       "32       345.0     786.0  \n",
       "25       575.0    1315.0  \n",
       "\n",
       "[269 rows x 8 columns]"
      ]
     },
     "execution_count": 86,
     "metadata": {},
     "output_type": "execute_result"
    }
   ],
   "source": [
    "reviews_example['cos_rank'] = reviews_example['cos_distance'].rank(method = 'dense', ascending=False)*reviews_example['rating']\n",
    "reviews_example.sort_values(by='cos_distance', ascending = False)"
   ]
  },
  {
   "cell_type": "code",
   "execution_count": 87,
   "metadata": {
    "ExecuteTime": {
     "end_time": "2020-05-16T20:56:25.721323Z",
     "start_time": "2020-05-16T20:56:25.715691Z"
    }
   },
   "outputs": [
    {
     "name": "stdout",
     "output_type": "stream",
     "text": [
      "160657.5\n",
      "156235.0\n",
      "4422.5\n"
     ]
    }
   ],
   "source": [
    "print(reviews_example['vote_rank'].sum())\n",
    "print(reviews_example['cos_rank'].sum())\n",
    "print(reviews_example['vote_rank'].sum()-reviews_example['cos_rank'].sum())"
   ]
  },
  {
   "cell_type": "markdown",
   "metadata": {},
   "source": [
    "## Calculating the impact of the model"
   ]
  },
  {
   "cell_type": "code",
   "execution_count": 94,
   "metadata": {
    "ExecuteTime": {
     "end_time": "2020-05-17T09:47:32.244500Z",
     "start_time": "2020-05-17T09:47:32.134027Z"
    }
   },
   "outputs": [],
   "source": [
    "impact_df = pd.read_csv('/Volumes/external/Sangeetha-Project/impact.csv.gz', \n",
    "                        names =['reviewerId', 'book', 'impact'])"
   ]
  },
  {
   "cell_type": "code",
   "execution_count": 95,
   "metadata": {
    "ExecuteTime": {
     "end_time": "2020-05-17T09:47:46.654471Z",
     "start_time": "2020-05-17T09:47:46.639692Z"
    },
    "scrolled": true
   },
   "outputs": [
    {
     "data": {
      "text/html": [
       "<div>\n",
       "<style scoped>\n",
       "    .dataframe tbody tr th:only-of-type {\n",
       "        vertical-align: middle;\n",
       "    }\n",
       "\n",
       "    .dataframe tbody tr th {\n",
       "        vertical-align: top;\n",
       "    }\n",
       "\n",
       "    .dataframe thead th {\n",
       "        text-align: right;\n",
       "    }\n",
       "</style>\n",
       "<table border=\"1\" class=\"dataframe\">\n",
       "  <thead>\n",
       "    <tr style=\"text-align: right;\">\n",
       "      <th></th>\n",
       "      <th>reviewerId</th>\n",
       "      <th>book</th>\n",
       "      <th>impact</th>\n",
       "    </tr>\n",
       "  </thead>\n",
       "  <tbody>\n",
       "    <tr>\n",
       "      <td>0</td>\n",
       "      <td>A2S166WSCFIFP5</td>\n",
       "      <td>0002007770</td>\n",
       "      <td>4422.5</td>\n",
       "    </tr>\n",
       "    <tr>\n",
       "      <td>1</td>\n",
       "      <td>A2S166WSCFIFP5</td>\n",
       "      <td>0002051850</td>\n",
       "      <td>376.0</td>\n",
       "    </tr>\n",
       "    <tr>\n",
       "      <td>2</td>\n",
       "      <td>A2S166WSCFIFP5</td>\n",
       "      <td>0002219417</td>\n",
       "      <td>3.5</td>\n",
       "    </tr>\n",
       "    <tr>\n",
       "      <td>3</td>\n",
       "      <td>A2S166WSCFIFP5</td>\n",
       "      <td>000222383X</td>\n",
       "      <td>1.0</td>\n",
       "    </tr>\n",
       "    <tr>\n",
       "      <td>4</td>\n",
       "      <td>A2S166WSCFIFP5</td>\n",
       "      <td>000224053X</td>\n",
       "      <td>30.5</td>\n",
       "    </tr>\n",
       "  </tbody>\n",
       "</table>\n",
       "</div>"
      ],
      "text/plain": [
       "       reviewerId        book  impact\n",
       "0  A2S166WSCFIFP5  0002007770  4422.5\n",
       "1  A2S166WSCFIFP5  0002051850   376.0\n",
       "2  A2S166WSCFIFP5  0002219417     3.5\n",
       "3  A2S166WSCFIFP5  000222383X     1.0\n",
       "4  A2S166WSCFIFP5  000224053X    30.5"
      ]
     },
     "execution_count": 95,
     "metadata": {},
     "output_type": "execute_result"
    }
   ],
   "source": [
    "impact_df.head()"
   ]
  },
  {
   "cell_type": "code",
   "execution_count": 99,
   "metadata": {
    "ExecuteTime": {
     "end_time": "2020-05-17T09:50:47.217618Z",
     "start_time": "2020-05-17T09:50:47.195571Z"
    }
   },
   "outputs": [
    {
     "name": "stdout",
     "output_type": "stream",
     "text": [
      "<class 'pandas.core.frame.DataFrame'>\n",
      "RangeIndex: 115000 entries, 0 to 114999\n",
      "Data columns (total 3 columns):\n",
      "reviewerId    115000 non-null object\n",
      "book          115000 non-null object\n",
      "impact        115000 non-null float64\n",
      "dtypes: float64(1), object(2)\n",
      "memory usage: 2.6+ MB\n"
     ]
    }
   ],
   "source": [
    "impact_df.info()"
   ]
  },
  {
   "cell_type": "code",
   "execution_count": 98,
   "metadata": {
    "ExecuteTime": {
     "end_time": "2020-05-17T09:50:36.452030Z",
     "start_time": "2020-05-17T09:50:36.400193Z"
    }
   },
   "outputs": [
    {
     "data": {
      "text/plain": [
       "35.22292608695652"
      ]
     },
     "execution_count": 98,
     "metadata": {},
     "output_type": "execute_result"
    }
   ],
   "source": [
    "impact_df.impact.mean()"
   ]
  },
  {
   "cell_type": "code",
   "execution_count": 100,
   "metadata": {
    "ExecuteTime": {
     "end_time": "2020-05-17T09:52:48.958994Z",
     "start_time": "2020-05-17T09:52:48.950656Z"
    }
   },
   "outputs": [
    {
     "data": {
      "text/plain": [
       "-2965.0"
      ]
     },
     "execution_count": 100,
     "metadata": {},
     "output_type": "execute_result"
    }
   ],
   "source": [
    "impact_df.impact.min()"
   ]
  },
  {
   "cell_type": "code",
   "execution_count": 101,
   "metadata": {
    "ExecuteTime": {
     "end_time": "2020-05-17T09:52:54.483464Z",
     "start_time": "2020-05-17T09:52:54.476569Z"
    }
   },
   "outputs": [
    {
     "data": {
      "text/plain": [
       "49964.0"
      ]
     },
     "execution_count": 101,
     "metadata": {},
     "output_type": "execute_result"
    }
   ],
   "source": [
    "impact_df.impact.max()"
   ]
  },
  {
   "cell_type": "code",
   "execution_count": 97,
   "metadata": {
    "ExecuteTime": {
     "end_time": "2020-05-17T09:49:52.221390Z",
     "start_time": "2020-05-17T09:49:52.207097Z"
    },
    "scrolled": false
   },
   "outputs": [],
   "source": [
    "impact = []\n",
    "counter = 0\n",
    "\n",
    "for user_ in df_sub.reviewerId.unique():\n",
    "\n",
    "    # get all the books the user hasn't read\n",
    "    read_books = df_sub[df_sub.reviewerId == user_].asin\n",
    "    unread_books = [x for x in df_sub.asin.unique()\n",
    "                    if x not in read_books.values]\n",
    "\n",
    "    # For each book in this list, calculate the impact\n",
    "    for book_ in unread_books:\n",
    "\n",
    "        # every 30000 rows write to csv and clear the impact list for memory management\n",
    "        print(counter)\n",
    "        '''if counter == 5000:\n",
    "            section_df = pd.DataFrame(impact)\n",
    "            section_df.to_csv('/Volumes/external/Sangeetha-Project/impact.csv.gz', compression='gzip',\n",
    "                              header=False, mode='a', index=False)\n",
    "            impact = []\n",
    "            counter = 0\n",
    "'''\n",
    "        counter += 1\n",
    "\n",
    "        # get all the reviewers who have reviewed the book\n",
    "        relevant_reviews = df_sub[df_sub.asin == book_].copy()\n",
    "\n",
    "        # for each reviewer in the reviewers who have rated the book calculate the cosine similarities\n",
    "        distances_ = []\n",
    "        for reviewer_ in relevant_reviews.reviewerId:\n",
    "\n",
    "            distances_.append(scipy.spatial.distance.cosine(baseline_est.loc[user_, :].values,\n",
    "                                                            baseline_est.loc[reviewer_, :].values))\n",
    "\n",
    "        relevant_reviews['cos_dist'] = distances_\n",
    "\n",
    "        # Calculate the rank*rating for total votes\n",
    "        relevant_reviews['vote_rank'] = relevant_reviews['total_votes'].rank(\n",
    "            method='average', ascending=False)*relevant_reviews['rating']\n",
    "\n",
    "        # Calculate the rank*rating for cosine_distances\n",
    "        relevant_reviews['cos_rank'] = relevant_reviews['cos_dist'].rank(\n",
    "            method='dense', ascending=False)*relevant_reviews['rating']\n",
    "\n",
    "        # add the result (impact) of each user-item pair to the final list\n",
    "        impact.append((user_, book_, relevant_reviews['vote_rank'].sum(\n",
    "        ) - relevant_reviews['cos_rank'].sum()))"
   ]
  },
  {
   "cell_type": "markdown",
   "metadata": {
    "heading_collapsed": true
   },
   "source": [
    "## Calculating user similarities - dont run this"
   ]
  },
  {
   "cell_type": "code",
   "execution_count": null,
   "metadata": {
    "hidden": true
   },
   "outputs": [],
   "source": [
    "predictions = pd.read_csv('/Volumes/external/Sangeetha-Project/pred_cosine_sim.csv.gz', index_col=0,\n",
    "                       compression='gzip')"
   ]
  },
  {
   "cell_type": "code",
   "execution_count": 83,
   "metadata": {
    "ExecuteTime": {
     "end_time": "2020-05-10T22:29:23.924940Z",
     "start_time": "2020-05-10T22:29:23.918053Z"
    },
    "hidden": true
   },
   "outputs": [],
   "source": [
    "mat = predictions.values\n",
    "\n",
    "#Pick a user\n",
    "#user = 'A102Z3T7NSM5KC'\n",
    "#user_val = predictions.index.get_loc(user)\n",
    "\n",
    "user_val = 78\n",
    "user = predictions.index[user_val]"
   ]
  },
  {
   "cell_type": "markdown",
   "metadata": {
    "hidden": true
   },
   "source": [
    "This goes through each row in the matrix, subtracts your row of choice from the each row of the matrix (elementwise) \n",
    "nd squares each element in each row for all rows in the matrix. How is this the cosine distance?"
   ]
  },
  {
   "cell_type": "code",
   "execution_count": 84,
   "metadata": {
    "ExecuteTime": {
     "end_time": "2020-05-10T22:30:04.835214Z",
     "start_time": "2020-05-10T22:30:04.308283Z"
    },
    "hidden": true
   },
   "outputs": [],
   "source": [
    "#Calculate the distances\n",
    "\n",
    "distances = []\n",
    "\n",
    "for row in mat:\n",
    "    distancess.append(scipy.spatial.distance.cosine(mat[user_val,:], row))\n",
    "distances"
   ]
  },
  {
   "cell_type": "code",
   "execution_count": 85,
   "metadata": {
    "ExecuteTime": {
     "end_time": "2020-05-10T22:30:41.067156Z",
     "start_time": "2020-05-10T22:30:41.056750Z"
    },
    "hidden": true,
    "scrolled": true
   },
   "outputs": [
    {
     "data": {
      "text/plain": [
       "1492"
      ]
     },
     "execution_count": 85,
     "metadata": {},
     "output_type": "execute_result"
    }
   ],
   "source": [
    "#Find the closest neighbour\n",
    "closest_n = np.argpartition(distances, 1)[1]\n",
    "closest_n"
   ]
  },
  {
   "cell_type": "code",
   "execution_count": 86,
   "metadata": {
    "ExecuteTime": {
     "end_time": "2020-05-10T22:31:20.732729Z",
     "start_time": "2020-05-10T22:31:20.722440Z"
    },
    "hidden": true,
    "scrolled": true
   },
   "outputs": [
    {
     "data": {
      "text/plain": [
       "'A368INKWDUYHMK'"
      ]
     },
     "execution_count": 86,
     "metadata": {},
     "output_type": "execute_result"
    }
   ],
   "source": [
    "cloest_n_id = predictions.index[closest_n]\n",
    "cloest_n_id"
   ]
  },
  {
   "cell_type": "code",
   "execution_count": 88,
   "metadata": {
    "ExecuteTime": {
     "end_time": "2020-05-10T22:32:22.234602Z",
     "start_time": "2020-05-10T22:32:22.225685Z"
    },
    "hidden": true
   },
   "outputs": [
    {
     "data": {
      "text/plain": [
       "192.08513160657645"
      ]
     },
     "execution_count": 88,
     "metadata": {},
     "output_type": "execute_result"
    }
   ],
   "source": [
    "distances[closest_n]"
   ]
  },
  {
   "cell_type": "code",
   "execution_count": 89,
   "metadata": {
    "ExecuteTime": {
     "end_time": "2020-05-10T22:32:59.830458Z",
     "start_time": "2020-05-10T22:32:59.819362Z"
    },
    "hidden": true,
    "scrolled": true
   },
   "outputs": [
    {
     "data": {
      "text/plain": [
       "192.085131606613"
      ]
     },
     "execution_count": 89,
     "metadata": {},
     "output_type": "execute_result"
    }
   ],
   "source": [
    "np.nansum((mat[closest_n,:] - mat[user_val,:])**2)"
   ]
  },
  {
   "cell_type": "code",
   "execution_count": 91,
   "metadata": {
    "ExecuteTime": {
     "end_time": "2020-05-10T22:34:12.162096Z",
     "start_time": "2020-05-10T22:34:12.154478Z"
    },
    "hidden": true,
    "scrolled": true
   },
   "outputs": [
    {
     "data": {
      "text/plain": [
       "True"
      ]
     },
     "execution_count": 91,
     "metadata": {},
     "output_type": "execute_result"
    }
   ],
   "source": [
    "#To check if the distances have been calculated correctly\n",
    "np.isclose(distances[closest_n], np.nansum((mat[closest_n,:] - mat[user_val,:])**2))"
   ]
  },
  {
   "cell_type": "markdown",
   "metadata": {
    "heading_collapsed": true
   },
   "source": [
    "## Incorrect code - obviously dont run this"
   ]
  },
  {
   "cell_type": "code",
   "execution_count": 15,
   "metadata": {
    "ExecuteTime": {
     "end_time": "2020-05-11T21:54:50.249303Z",
     "start_time": "2020-05-11T21:54:49.823226Z"
    },
    "hidden": true
   },
   "outputs": [],
   "source": [
    "#Reformating the data as a 2d matrix\n",
    "pref_matrix = df_sub.pivot(index='reviewerId', columns='asin', values='rating')"
   ]
  },
  {
   "cell_type": "code",
   "execution_count": 16,
   "metadata": {
    "ExecuteTime": {
     "end_time": "2020-05-11T21:55:15.083064Z",
     "start_time": "2020-05-11T21:55:14.997569Z"
    },
    "hidden": true,
    "scrolled": false
   },
   "outputs": [
    {
     "name": "stdout",
     "output_type": "stream",
     "text": [
      "<class 'pandas.core.frame.DataFrame'>\n",
      "Index: 2647 entries, A100NGGXRQF0AQ to AZY96LU53VWGO\n",
      "Columns: 10982 entries, 000100039X to 452296544\n",
      "dtypes: float64(10982)\n",
      "memory usage: 221.8+ MB\n"
     ]
    }
   ],
   "source": [
    "pref_matrix.info()"
   ]
  },
  {
   "cell_type": "code",
   "execution_count": 17,
   "metadata": {
    "ExecuteTime": {
     "end_time": "2020-05-11T21:55:15.858403Z",
     "start_time": "2020-05-11T21:55:15.087016Z"
    },
    "hidden": true
   },
   "outputs": [
    {
     "name": "stdout",
     "output_type": "stream",
     "text": [
      "28795693 0.9905859277092982\n"
     ]
    }
   ],
   "source": [
    "#Sparcity of the matrix\n",
    "print(pref_matrix.isnull().sum().sum(), pref_matrix.isnull().sum().sum()/(2647*10982))"
   ]
  },
  {
   "cell_type": "code",
   "execution_count": 18,
   "metadata": {
    "ExecuteTime": {
     "end_time": "2020-05-11T21:55:15.904942Z",
     "start_time": "2020-05-11T21:55:15.862371Z"
    },
    "hidden": true,
    "scrolled": true
   },
   "outputs": [
    {
     "name": "stdout",
     "output_type": "stream",
     "text": [
      "(2647, 10982)\n"
     ]
    },
    {
     "data": {
      "text/html": [
       "<div>\n",
       "<style scoped>\n",
       "    .dataframe tbody tr th:only-of-type {\n",
       "        vertical-align: middle;\n",
       "    }\n",
       "\n",
       "    .dataframe tbody tr th {\n",
       "        vertical-align: top;\n",
       "    }\n",
       "\n",
       "    .dataframe thead th {\n",
       "        text-align: right;\n",
       "    }\n",
       "</style>\n",
       "<table border=\"1\" class=\"dataframe\">\n",
       "  <thead>\n",
       "    <tr style=\"text-align: right;\">\n",
       "      <th>asin</th>\n",
       "      <th>000100039X</th>\n",
       "      <th>0002007770</th>\n",
       "      <th>0002051850</th>\n",
       "      <th>0002219417</th>\n",
       "      <th>000222383X</th>\n",
       "      <th>000224053X</th>\n",
       "      <th>0002242052</th>\n",
       "      <th>0002247399</th>\n",
       "      <th>0002550938</th>\n",
       "      <th>0002726874</th>\n",
       "      <th>...</th>\n",
       "      <th>452289858</th>\n",
       "      <th>452295297</th>\n",
       "      <th>452295386</th>\n",
       "      <th>452295513</th>\n",
       "      <th>452295831</th>\n",
       "      <th>452296099</th>\n",
       "      <th>452296293</th>\n",
       "      <th>452296315</th>\n",
       "      <th>452296366</th>\n",
       "      <th>452296544</th>\n",
       "    </tr>\n",
       "    <tr>\n",
       "      <th>reviewerId</th>\n",
       "      <th></th>\n",
       "      <th></th>\n",
       "      <th></th>\n",
       "      <th></th>\n",
       "      <th></th>\n",
       "      <th></th>\n",
       "      <th></th>\n",
       "      <th></th>\n",
       "      <th></th>\n",
       "      <th></th>\n",
       "      <th></th>\n",
       "      <th></th>\n",
       "      <th></th>\n",
       "      <th></th>\n",
       "      <th></th>\n",
       "      <th></th>\n",
       "      <th></th>\n",
       "      <th></th>\n",
       "      <th></th>\n",
       "      <th></th>\n",
       "      <th></th>\n",
       "    </tr>\n",
       "  </thead>\n",
       "  <tbody>\n",
       "    <tr>\n",
       "      <th>A100NGGXRQF0AQ</th>\n",
       "      <td>NaN</td>\n",
       "      <td>NaN</td>\n",
       "      <td>NaN</td>\n",
       "      <td>NaN</td>\n",
       "      <td>NaN</td>\n",
       "      <td>NaN</td>\n",
       "      <td>NaN</td>\n",
       "      <td>NaN</td>\n",
       "      <td>NaN</td>\n",
       "      <td>NaN</td>\n",
       "      <td>...</td>\n",
       "      <td>NaN</td>\n",
       "      <td>NaN</td>\n",
       "      <td>NaN</td>\n",
       "      <td>NaN</td>\n",
       "      <td>NaN</td>\n",
       "      <td>NaN</td>\n",
       "      <td>NaN</td>\n",
       "      <td>NaN</td>\n",
       "      <td>NaN</td>\n",
       "      <td>NaN</td>\n",
       "    </tr>\n",
       "    <tr>\n",
       "      <th>A102Z3T7NSM5KC</th>\n",
       "      <td>NaN</td>\n",
       "      <td>NaN</td>\n",
       "      <td>NaN</td>\n",
       "      <td>NaN</td>\n",
       "      <td>NaN</td>\n",
       "      <td>NaN</td>\n",
       "      <td>NaN</td>\n",
       "      <td>NaN</td>\n",
       "      <td>NaN</td>\n",
       "      <td>NaN</td>\n",
       "      <td>...</td>\n",
       "      <td>NaN</td>\n",
       "      <td>NaN</td>\n",
       "      <td>NaN</td>\n",
       "      <td>NaN</td>\n",
       "      <td>NaN</td>\n",
       "      <td>NaN</td>\n",
       "      <td>NaN</td>\n",
       "      <td>NaN</td>\n",
       "      <td>NaN</td>\n",
       "      <td>NaN</td>\n",
       "    </tr>\n",
       "    <tr>\n",
       "      <th>A106016KSI0YQ</th>\n",
       "      <td>NaN</td>\n",
       "      <td>NaN</td>\n",
       "      <td>NaN</td>\n",
       "      <td>NaN</td>\n",
       "      <td>NaN</td>\n",
       "      <td>NaN</td>\n",
       "      <td>NaN</td>\n",
       "      <td>NaN</td>\n",
       "      <td>NaN</td>\n",
       "      <td>NaN</td>\n",
       "      <td>...</td>\n",
       "      <td>NaN</td>\n",
       "      <td>NaN</td>\n",
       "      <td>NaN</td>\n",
       "      <td>NaN</td>\n",
       "      <td>NaN</td>\n",
       "      <td>NaN</td>\n",
       "      <td>NaN</td>\n",
       "      <td>NaN</td>\n",
       "      <td>NaN</td>\n",
       "      <td>NaN</td>\n",
       "    </tr>\n",
       "    <tr>\n",
       "      <th>A106E1N0ZQ4D9W</th>\n",
       "      <td>NaN</td>\n",
       "      <td>NaN</td>\n",
       "      <td>NaN</td>\n",
       "      <td>NaN</td>\n",
       "      <td>NaN</td>\n",
       "      <td>NaN</td>\n",
       "      <td>NaN</td>\n",
       "      <td>NaN</td>\n",
       "      <td>NaN</td>\n",
       "      <td>NaN</td>\n",
       "      <td>...</td>\n",
       "      <td>NaN</td>\n",
       "      <td>NaN</td>\n",
       "      <td>NaN</td>\n",
       "      <td>NaN</td>\n",
       "      <td>NaN</td>\n",
       "      <td>NaN</td>\n",
       "      <td>NaN</td>\n",
       "      <td>NaN</td>\n",
       "      <td>NaN</td>\n",
       "      <td>NaN</td>\n",
       "    </tr>\n",
       "    <tr>\n",
       "      <th>A10BZSGALQPS0V</th>\n",
       "      <td>NaN</td>\n",
       "      <td>NaN</td>\n",
       "      <td>NaN</td>\n",
       "      <td>NaN</td>\n",
       "      <td>NaN</td>\n",
       "      <td>NaN</td>\n",
       "      <td>NaN</td>\n",
       "      <td>4.0</td>\n",
       "      <td>NaN</td>\n",
       "      <td>NaN</td>\n",
       "      <td>...</td>\n",
       "      <td>NaN</td>\n",
       "      <td>5.0</td>\n",
       "      <td>NaN</td>\n",
       "      <td>NaN</td>\n",
       "      <td>NaN</td>\n",
       "      <td>NaN</td>\n",
       "      <td>4.0</td>\n",
       "      <td>NaN</td>\n",
       "      <td>NaN</td>\n",
       "      <td>NaN</td>\n",
       "    </tr>\n",
       "  </tbody>\n",
       "</table>\n",
       "<p>5 rows × 10982 columns</p>\n",
       "</div>"
      ],
      "text/plain": [
       "asin            000100039X  0002007770  0002051850  0002219417  000222383X  \\\n",
       "reviewerId                                                                   \n",
       "A100NGGXRQF0AQ         NaN         NaN         NaN         NaN         NaN   \n",
       "A102Z3T7NSM5KC         NaN         NaN         NaN         NaN         NaN   \n",
       "A106016KSI0YQ          NaN         NaN         NaN         NaN         NaN   \n",
       "A106E1N0ZQ4D9W         NaN         NaN         NaN         NaN         NaN   \n",
       "A10BZSGALQPS0V         NaN         NaN         NaN         NaN         NaN   \n",
       "\n",
       "asin            000224053X  0002242052  0002247399  0002550938  0002726874  \\\n",
       "reviewerId                                                                   \n",
       "A100NGGXRQF0AQ         NaN         NaN         NaN         NaN         NaN   \n",
       "A102Z3T7NSM5KC         NaN         NaN         NaN         NaN         NaN   \n",
       "A106016KSI0YQ          NaN         NaN         NaN         NaN         NaN   \n",
       "A106E1N0ZQ4D9W         NaN         NaN         NaN         NaN         NaN   \n",
       "A10BZSGALQPS0V         NaN         NaN         4.0         NaN         NaN   \n",
       "\n",
       "asin              ...      452289858  452295297  452295386  452295513  \\\n",
       "reviewerId        ...                                                   \n",
       "A100NGGXRQF0AQ    ...            NaN        NaN        NaN        NaN   \n",
       "A102Z3T7NSM5KC    ...            NaN        NaN        NaN        NaN   \n",
       "A106016KSI0YQ     ...            NaN        NaN        NaN        NaN   \n",
       "A106E1N0ZQ4D9W    ...            NaN        NaN        NaN        NaN   \n",
       "A10BZSGALQPS0V    ...            NaN        5.0        NaN        NaN   \n",
       "\n",
       "asin            452295831  452296099  452296293  452296315  452296366  \\\n",
       "reviewerId                                                              \n",
       "A100NGGXRQF0AQ        NaN        NaN        NaN        NaN        NaN   \n",
       "A102Z3T7NSM5KC        NaN        NaN        NaN        NaN        NaN   \n",
       "A106016KSI0YQ         NaN        NaN        NaN        NaN        NaN   \n",
       "A106E1N0ZQ4D9W        NaN        NaN        NaN        NaN        NaN   \n",
       "A10BZSGALQPS0V        NaN        NaN        4.0        NaN        NaN   \n",
       "\n",
       "asin            452296544  \n",
       "reviewerId                 \n",
       "A100NGGXRQF0AQ        NaN  \n",
       "A102Z3T7NSM5KC        NaN  \n",
       "A106016KSI0YQ         NaN  \n",
       "A106E1N0ZQ4D9W        NaN  \n",
       "A10BZSGALQPS0V        NaN  \n",
       "\n",
       "[5 rows x 10982 columns]"
      ]
     },
     "execution_count": 18,
     "metadata": {},
     "output_type": "execute_result"
    }
   ],
   "source": [
    "print(pref_matrix.shape)\n",
    "pref_matrix.head()"
   ]
  },
  {
   "cell_type": "code",
   "execution_count": 19,
   "metadata": {
    "ExecuteTime": {
     "end_time": "2020-05-11T21:55:15.939050Z",
     "start_time": "2020-05-11T21:55:15.908943Z"
    },
    "hidden": true
   },
   "outputs": [
    {
     "data": {
      "text/plain": [
       "4.089157753571024"
      ]
     },
     "execution_count": 19,
     "metadata": {},
     "output_type": "execute_result"
    }
   ],
   "source": [
    "#Calculate the overall mean rating of the films \n",
    "overall_mean = df_sub.rating.mean()\n",
    "overall_mean"
   ]
  },
  {
   "cell_type": "code",
   "execution_count": 20,
   "metadata": {
    "ExecuteTime": {
     "end_time": "2020-05-11T21:56:53.400413Z",
     "start_time": "2020-05-11T21:56:53.260219Z"
    },
    "hidden": true
   },
   "outputs": [],
   "source": [
    "#Adjust the entire matrix by the mean rating \n",
    "pref_matrix = pref_matrix-overall_mean"
   ]
  },
  {
   "cell_type": "code",
   "execution_count": 21,
   "metadata": {
    "ExecuteTime": {
     "end_time": "2020-05-11T21:57:18.117332Z",
     "start_time": "2020-05-11T21:57:17.838317Z"
    },
    "hidden": true
   },
   "outputs": [],
   "source": [
    "#Calculate the mean of each book and subtract from that book rating \n",
    "#to adjust for the difference in mean rating of that film \n",
    "item_mean_rating = pref_matrix.mean(axis=0)"
   ]
  },
  {
   "cell_type": "code",
   "execution_count": 22,
   "metadata": {
    "ExecuteTime": {
     "end_time": "2020-05-11T21:57:18.281008Z",
     "start_time": "2020-05-11T21:57:18.120329Z"
    },
    "hidden": true
   },
   "outputs": [],
   "source": [
    "pref_matrix = pref_matrix - item_mean_rating"
   ]
  },
  {
   "cell_type": "code",
   "execution_count": 23,
   "metadata": {
    "ExecuteTime": {
     "end_time": "2020-05-11T21:57:26.399919Z",
     "start_time": "2020-05-11T21:57:26.111626Z"
    },
    "hidden": true
   },
   "outputs": [],
   "source": [
    "#Now we can adjust for the mean user rating - taking out any user bias\n",
    "user_mean_rating = pref_matrix.mean(axis=1)"
   ]
  },
  {
   "cell_type": "code",
   "execution_count": 24,
   "metadata": {
    "ExecuteTime": {
     "end_time": "2020-05-11T21:57:43.809032Z",
     "start_time": "2020-05-11T21:57:43.666325Z"
    },
    "hidden": true
   },
   "outputs": [],
   "source": [
    "pref_matrix = pref_matrix.T - user_mean_rating"
   ]
  },
  {
   "cell_type": "code",
   "execution_count": 25,
   "metadata": {
    "ExecuteTime": {
     "end_time": "2020-05-11T21:58:40.234166Z",
     "start_time": "2020-05-11T21:58:40.226845Z"
    },
    "hidden": true
   },
   "outputs": [],
   "source": [
    "pref_matrix = pref_matrix.T"
   ]
  },
  {
   "cell_type": "markdown",
   "metadata": {
    "hidden": true
   },
   "source": [
    "Now we can use this to work backward from the matrix but filling all the null values with 0 as a baseline estimate and then adding the biases back. What you are essentially doing is that you are adding back the mean user rating (after item bias has been removed), then adding back the mean item rating, before recentering for 0. This is to get the user similarity matrix. But how can I deal with the negative values?"
   ]
  },
  {
   "cell_type": "code",
   "execution_count": 26,
   "metadata": {
    "ExecuteTime": {
     "end_time": "2020-05-11T21:59:08.459845Z",
     "start_time": "2020-05-11T21:59:07.937159Z"
    },
    "hidden": true,
    "scrolled": false
   },
   "outputs": [
    {
     "data": {
      "text/html": [
       "<div>\n",
       "<style scoped>\n",
       "    .dataframe tbody tr th:only-of-type {\n",
       "        vertical-align: middle;\n",
       "    }\n",
       "\n",
       "    .dataframe tbody tr th {\n",
       "        vertical-align: top;\n",
       "    }\n",
       "\n",
       "    .dataframe thead th {\n",
       "        text-align: right;\n",
       "    }\n",
       "</style>\n",
       "<table border=\"1\" class=\"dataframe\">\n",
       "  <thead>\n",
       "    <tr style=\"text-align: right;\">\n",
       "      <th>asin</th>\n",
       "      <th>000100039X</th>\n",
       "      <th>0002007770</th>\n",
       "      <th>0002051850</th>\n",
       "      <th>0002219417</th>\n",
       "      <th>000222383X</th>\n",
       "      <th>000224053X</th>\n",
       "      <th>0002242052</th>\n",
       "      <th>0002247399</th>\n",
       "      <th>0002550938</th>\n",
       "      <th>0002726874</th>\n",
       "      <th>...</th>\n",
       "      <th>452289858</th>\n",
       "      <th>452295297</th>\n",
       "      <th>452295386</th>\n",
       "      <th>452295513</th>\n",
       "      <th>452295831</th>\n",
       "      <th>452296099</th>\n",
       "      <th>452296293</th>\n",
       "      <th>452296315</th>\n",
       "      <th>452296366</th>\n",
       "      <th>452296544</th>\n",
       "    </tr>\n",
       "    <tr>\n",
       "      <th>reviewerId</th>\n",
       "      <th></th>\n",
       "      <th></th>\n",
       "      <th></th>\n",
       "      <th></th>\n",
       "      <th></th>\n",
       "      <th></th>\n",
       "      <th></th>\n",
       "      <th></th>\n",
       "      <th></th>\n",
       "      <th></th>\n",
       "      <th></th>\n",
       "      <th></th>\n",
       "      <th></th>\n",
       "      <th></th>\n",
       "      <th></th>\n",
       "      <th></th>\n",
       "      <th></th>\n",
       "      <th></th>\n",
       "      <th></th>\n",
       "      <th></th>\n",
       "      <th></th>\n",
       "    </tr>\n",
       "  </thead>\n",
       "  <tbody>\n",
       "    <tr>\n",
       "      <th>A100NGGXRQF0AQ</th>\n",
       "      <td>0.0</td>\n",
       "      <td>0.0</td>\n",
       "      <td>0.0</td>\n",
       "      <td>0.0</td>\n",
       "      <td>0.0</td>\n",
       "      <td>0.0</td>\n",
       "      <td>0.0</td>\n",
       "      <td>0.000000</td>\n",
       "      <td>0.0</td>\n",
       "      <td>0.0</td>\n",
       "      <td>...</td>\n",
       "      <td>0.0</td>\n",
       "      <td>0.000000</td>\n",
       "      <td>0.0</td>\n",
       "      <td>0.0</td>\n",
       "      <td>0.0</td>\n",
       "      <td>0.0</td>\n",
       "      <td>0.000000</td>\n",
       "      <td>0.0</td>\n",
       "      <td>0.0</td>\n",
       "      <td>0.0</td>\n",
       "    </tr>\n",
       "    <tr>\n",
       "      <th>A102Z3T7NSM5KC</th>\n",
       "      <td>0.0</td>\n",
       "      <td>0.0</td>\n",
       "      <td>0.0</td>\n",
       "      <td>0.0</td>\n",
       "      <td>0.0</td>\n",
       "      <td>0.0</td>\n",
       "      <td>0.0</td>\n",
       "      <td>0.000000</td>\n",
       "      <td>0.0</td>\n",
       "      <td>0.0</td>\n",
       "      <td>...</td>\n",
       "      <td>0.0</td>\n",
       "      <td>0.000000</td>\n",
       "      <td>0.0</td>\n",
       "      <td>0.0</td>\n",
       "      <td>0.0</td>\n",
       "      <td>0.0</td>\n",
       "      <td>0.000000</td>\n",
       "      <td>0.0</td>\n",
       "      <td>0.0</td>\n",
       "      <td>0.0</td>\n",
       "    </tr>\n",
       "    <tr>\n",
       "      <th>A106016KSI0YQ</th>\n",
       "      <td>0.0</td>\n",
       "      <td>0.0</td>\n",
       "      <td>0.0</td>\n",
       "      <td>0.0</td>\n",
       "      <td>0.0</td>\n",
       "      <td>0.0</td>\n",
       "      <td>0.0</td>\n",
       "      <td>0.000000</td>\n",
       "      <td>0.0</td>\n",
       "      <td>0.0</td>\n",
       "      <td>...</td>\n",
       "      <td>0.0</td>\n",
       "      <td>0.000000</td>\n",
       "      <td>0.0</td>\n",
       "      <td>0.0</td>\n",
       "      <td>0.0</td>\n",
       "      <td>0.0</td>\n",
       "      <td>0.000000</td>\n",
       "      <td>0.0</td>\n",
       "      <td>0.0</td>\n",
       "      <td>0.0</td>\n",
       "    </tr>\n",
       "    <tr>\n",
       "      <th>A106E1N0ZQ4D9W</th>\n",
       "      <td>0.0</td>\n",
       "      <td>0.0</td>\n",
       "      <td>0.0</td>\n",
       "      <td>0.0</td>\n",
       "      <td>0.0</td>\n",
       "      <td>0.0</td>\n",
       "      <td>0.0</td>\n",
       "      <td>0.000000</td>\n",
       "      <td>0.0</td>\n",
       "      <td>0.0</td>\n",
       "      <td>...</td>\n",
       "      <td>0.0</td>\n",
       "      <td>0.000000</td>\n",
       "      <td>0.0</td>\n",
       "      <td>0.0</td>\n",
       "      <td>0.0</td>\n",
       "      <td>0.0</td>\n",
       "      <td>0.000000</td>\n",
       "      <td>0.0</td>\n",
       "      <td>0.0</td>\n",
       "      <td>0.0</td>\n",
       "    </tr>\n",
       "    <tr>\n",
       "      <th>A10BZSGALQPS0V</th>\n",
       "      <td>0.0</td>\n",
       "      <td>0.0</td>\n",
       "      <td>0.0</td>\n",
       "      <td>0.0</td>\n",
       "      <td>0.0</td>\n",
       "      <td>0.0</td>\n",
       "      <td>0.0</td>\n",
       "      <td>0.412608</td>\n",
       "      <td>0.0</td>\n",
       "      <td>0.0</td>\n",
       "      <td>...</td>\n",
       "      <td>0.0</td>\n",
       "      <td>0.671504</td>\n",
       "      <td>0.0</td>\n",
       "      <td>0.0</td>\n",
       "      <td>0.0</td>\n",
       "      <td>0.0</td>\n",
       "      <td>0.938129</td>\n",
       "      <td>0.0</td>\n",
       "      <td>0.0</td>\n",
       "      <td>0.0</td>\n",
       "    </tr>\n",
       "  </tbody>\n",
       "</table>\n",
       "<p>5 rows × 10982 columns</p>\n",
       "</div>"
      ],
      "text/plain": [
       "asin            000100039X  0002007770  0002051850  0002219417  000222383X  \\\n",
       "reviewerId                                                                   \n",
       "A100NGGXRQF0AQ         0.0         0.0         0.0         0.0         0.0   \n",
       "A102Z3T7NSM5KC         0.0         0.0         0.0         0.0         0.0   \n",
       "A106016KSI0YQ          0.0         0.0         0.0         0.0         0.0   \n",
       "A106E1N0ZQ4D9W         0.0         0.0         0.0         0.0         0.0   \n",
       "A10BZSGALQPS0V         0.0         0.0         0.0         0.0         0.0   \n",
       "\n",
       "asin            000224053X  0002242052  0002247399  0002550938  0002726874  \\\n",
       "reviewerId                                                                   \n",
       "A100NGGXRQF0AQ         0.0         0.0    0.000000         0.0         0.0   \n",
       "A102Z3T7NSM5KC         0.0         0.0    0.000000         0.0         0.0   \n",
       "A106016KSI0YQ          0.0         0.0    0.000000         0.0         0.0   \n",
       "A106E1N0ZQ4D9W         0.0         0.0    0.000000         0.0         0.0   \n",
       "A10BZSGALQPS0V         0.0         0.0    0.412608         0.0         0.0   \n",
       "\n",
       "asin              ...      452289858  452295297  452295386  452295513  \\\n",
       "reviewerId        ...                                                   \n",
       "A100NGGXRQF0AQ    ...            0.0   0.000000        0.0        0.0   \n",
       "A102Z3T7NSM5KC    ...            0.0   0.000000        0.0        0.0   \n",
       "A106016KSI0YQ     ...            0.0   0.000000        0.0        0.0   \n",
       "A106E1N0ZQ4D9W    ...            0.0   0.000000        0.0        0.0   \n",
       "A10BZSGALQPS0V    ...            0.0   0.671504        0.0        0.0   \n",
       "\n",
       "asin            452295831  452296099  452296293  452296315  452296366  \\\n",
       "reviewerId                                                              \n",
       "A100NGGXRQF0AQ        0.0        0.0   0.000000        0.0        0.0   \n",
       "A102Z3T7NSM5KC        0.0        0.0   0.000000        0.0        0.0   \n",
       "A106016KSI0YQ         0.0        0.0   0.000000        0.0        0.0   \n",
       "A106E1N0ZQ4D9W        0.0        0.0   0.000000        0.0        0.0   \n",
       "A10BZSGALQPS0V        0.0        0.0   0.938129        0.0        0.0   \n",
       "\n",
       "asin            452296544  \n",
       "reviewerId                 \n",
       "A100NGGXRQF0AQ        0.0  \n",
       "A102Z3T7NSM5KC        0.0  \n",
       "A106016KSI0YQ         0.0  \n",
       "A106E1N0ZQ4D9W        0.0  \n",
       "A10BZSGALQPS0V        0.0  \n",
       "\n",
       "[5 rows x 10982 columns]"
      ]
     },
     "execution_count": 26,
     "metadata": {},
     "output_type": "execute_result"
    }
   ],
   "source": [
    "pref_matrix = pref_matrix.fillna(0)\n",
    "pref_matrix.head()"
   ]
  },
  {
   "cell_type": "code",
   "execution_count": 27,
   "metadata": {
    "ExecuteTime": {
     "end_time": "2020-05-11T21:59:35.644920Z",
     "start_time": "2020-05-11T21:59:35.575306Z"
    },
    "hidden": true,
    "scrolled": true
   },
   "outputs": [
    {
     "name": "stdout",
     "output_type": "stream",
     "text": [
      "<class 'pandas.core.frame.DataFrame'>\n",
      "Index: 2647 entries, A100NGGXRQF0AQ to AZY96LU53VWGO\n",
      "Columns: 10982 entries, 000100039X to 452296544\n",
      "dtypes: float64(10982)\n",
      "memory usage: 221.9+ MB\n"
     ]
    }
   ],
   "source": [
    "pref_matrix.info()"
   ]
  },
  {
   "cell_type": "code",
   "execution_count": 28,
   "metadata": {
    "ExecuteTime": {
     "end_time": "2020-05-11T21:59:35.801168Z",
     "start_time": "2020-05-11T21:59:35.649854Z"
    },
    "hidden": true
   },
   "outputs": [],
   "source": [
    "predictions = pref_matrix.T + user_mean_rating "
   ]
  },
  {
   "cell_type": "code",
   "execution_count": 29,
   "metadata": {
    "ExecuteTime": {
     "end_time": "2020-05-11T21:59:53.362222Z",
     "start_time": "2020-05-11T21:59:53.355688Z"
    },
    "hidden": true
   },
   "outputs": [],
   "source": [
    "predictions = predictions.T"
   ]
  },
  {
   "cell_type": "code",
   "execution_count": 30,
   "metadata": {
    "ExecuteTime": {
     "end_time": "2020-05-11T22:00:11.843272Z",
     "start_time": "2020-05-11T22:00:11.703200Z"
    },
    "hidden": true
   },
   "outputs": [],
   "source": [
    "predictions = predictions + item_mean_rating "
   ]
  },
  {
   "cell_type": "code",
   "execution_count": 31,
   "metadata": {
    "ExecuteTime": {
     "end_time": "2020-05-11T22:02:22.418462Z",
     "start_time": "2020-05-11T22:02:22.269615Z"
    },
    "hidden": true
   },
   "outputs": [],
   "source": [
    "predictions = predictions + overall_mean"
   ]
  },
  {
   "cell_type": "code",
   "execution_count": 34,
   "metadata": {
    "ExecuteTime": {
     "end_time": "2020-05-11T22:03:59.706612Z",
     "start_time": "2020-05-11T22:03:59.663428Z"
    },
    "hidden": true,
    "scrolled": true
   },
   "outputs": [
    {
     "data": {
      "text/html": [
       "<div>\n",
       "<style scoped>\n",
       "    .dataframe tbody tr th:only-of-type {\n",
       "        vertical-align: middle;\n",
       "    }\n",
       "\n",
       "    .dataframe tbody tr th {\n",
       "        vertical-align: top;\n",
       "    }\n",
       "\n",
       "    .dataframe thead th {\n",
       "        text-align: right;\n",
       "    }\n",
       "</style>\n",
       "<table border=\"1\" class=\"dataframe\">\n",
       "  <thead>\n",
       "    <tr style=\"text-align: right;\">\n",
       "      <th>asin</th>\n",
       "      <th>000100039X</th>\n",
       "      <th>0002007770</th>\n",
       "      <th>0002051850</th>\n",
       "      <th>0002219417</th>\n",
       "      <th>000222383X</th>\n",
       "      <th>000224053X</th>\n",
       "      <th>0002242052</th>\n",
       "      <th>0002247399</th>\n",
       "      <th>0002550938</th>\n",
       "      <th>0002726874</th>\n",
       "      <th>...</th>\n",
       "      <th>452289858</th>\n",
       "      <th>452295297</th>\n",
       "      <th>452295386</th>\n",
       "      <th>452295513</th>\n",
       "      <th>452295831</th>\n",
       "      <th>452296099</th>\n",
       "      <th>452296293</th>\n",
       "      <th>452296315</th>\n",
       "      <th>452296366</th>\n",
       "      <th>452296544</th>\n",
       "    </tr>\n",
       "    <tr>\n",
       "      <th>reviewerId</th>\n",
       "      <th></th>\n",
       "      <th></th>\n",
       "      <th></th>\n",
       "      <th></th>\n",
       "      <th></th>\n",
       "      <th></th>\n",
       "      <th></th>\n",
       "      <th></th>\n",
       "      <th></th>\n",
       "      <th></th>\n",
       "      <th></th>\n",
       "      <th></th>\n",
       "      <th></th>\n",
       "      <th></th>\n",
       "      <th></th>\n",
       "      <th></th>\n",
       "      <th></th>\n",
       "      <th></th>\n",
       "      <th></th>\n",
       "      <th></th>\n",
       "      <th></th>\n",
       "    </tr>\n",
       "  </thead>\n",
       "  <tbody>\n",
       "    <tr>\n",
       "      <th>A100NGGXRQF0AQ</th>\n",
       "      <td>4.470021</td>\n",
       "      <td>4.311735</td>\n",
       "      <td>4.333536</td>\n",
       "      <td>4.712936</td>\n",
       "      <td>4.580069</td>\n",
       "      <td>3.795557</td>\n",
       "      <td>4.336562</td>\n",
       "      <td>3.780914</td>\n",
       "      <td>3.398251</td>\n",
       "      <td>4.580069</td>\n",
       "      <td>...</td>\n",
       "      <td>4.610372</td>\n",
       "      <td>4.522018</td>\n",
       "      <td>3.326058</td>\n",
       "      <td>3.559090</td>\n",
       "      <td>4.943705</td>\n",
       "      <td>3.235372</td>\n",
       "      <td>3.255393</td>\n",
       "      <td>3.086562</td>\n",
       "      <td>4.349955</td>\n",
       "      <td>3.943705</td>\n",
       "    </tr>\n",
       "    <tr>\n",
       "      <th>A102Z3T7NSM5KC</th>\n",
       "      <td>4.608323</td>\n",
       "      <td>4.450037</td>\n",
       "      <td>4.471838</td>\n",
       "      <td>4.851238</td>\n",
       "      <td>4.718371</td>\n",
       "      <td>3.933859</td>\n",
       "      <td>4.474864</td>\n",
       "      <td>3.919216</td>\n",
       "      <td>3.536553</td>\n",
       "      <td>4.718371</td>\n",
       "      <td>...</td>\n",
       "      <td>4.748674</td>\n",
       "      <td>4.660320</td>\n",
       "      <td>3.464360</td>\n",
       "      <td>3.697392</td>\n",
       "      <td>5.082007</td>\n",
       "      <td>3.373674</td>\n",
       "      <td>3.393695</td>\n",
       "      <td>3.224864</td>\n",
       "      <td>4.488257</td>\n",
       "      <td>4.082007</td>\n",
       "    </tr>\n",
       "    <tr>\n",
       "      <th>A106016KSI0YQ</th>\n",
       "      <td>4.090865</td>\n",
       "      <td>3.932579</td>\n",
       "      <td>3.954380</td>\n",
       "      <td>4.333780</td>\n",
       "      <td>4.200913</td>\n",
       "      <td>3.416401</td>\n",
       "      <td>3.957407</td>\n",
       "      <td>3.401759</td>\n",
       "      <td>3.019095</td>\n",
       "      <td>4.200913</td>\n",
       "      <td>...</td>\n",
       "      <td>4.231216</td>\n",
       "      <td>4.142863</td>\n",
       "      <td>2.946903</td>\n",
       "      <td>3.179934</td>\n",
       "      <td>4.564550</td>\n",
       "      <td>2.856216</td>\n",
       "      <td>2.876238</td>\n",
       "      <td>2.707407</td>\n",
       "      <td>3.970800</td>\n",
       "      <td>3.564550</td>\n",
       "    </tr>\n",
       "    <tr>\n",
       "      <th>A106E1N0ZQ4D9W</th>\n",
       "      <td>4.770534</td>\n",
       "      <td>4.612248</td>\n",
       "      <td>4.634048</td>\n",
       "      <td>5.013449</td>\n",
       "      <td>4.880582</td>\n",
       "      <td>4.096070</td>\n",
       "      <td>4.637075</td>\n",
       "      <td>4.081427</td>\n",
       "      <td>3.698763</td>\n",
       "      <td>4.880582</td>\n",
       "      <td>...</td>\n",
       "      <td>4.910885</td>\n",
       "      <td>4.822531</td>\n",
       "      <td>3.626571</td>\n",
       "      <td>3.859603</td>\n",
       "      <td>5.244218</td>\n",
       "      <td>3.535885</td>\n",
       "      <td>3.555906</td>\n",
       "      <td>3.387075</td>\n",
       "      <td>4.650468</td>\n",
       "      <td>4.244218</td>\n",
       "    </tr>\n",
       "    <tr>\n",
       "      <th>A10BZSGALQPS0V</th>\n",
       "      <td>4.276498</td>\n",
       "      <td>4.118212</td>\n",
       "      <td>4.140013</td>\n",
       "      <td>4.519413</td>\n",
       "      <td>4.386546</td>\n",
       "      <td>3.602035</td>\n",
       "      <td>4.143040</td>\n",
       "      <td>4.000000</td>\n",
       "      <td>3.204728</td>\n",
       "      <td>4.386546</td>\n",
       "      <td>...</td>\n",
       "      <td>4.416849</td>\n",
       "      <td>5.000000</td>\n",
       "      <td>3.132536</td>\n",
       "      <td>3.365567</td>\n",
       "      <td>4.750183</td>\n",
       "      <td>3.041849</td>\n",
       "      <td>4.000000</td>\n",
       "      <td>2.893040</td>\n",
       "      <td>4.156433</td>\n",
       "      <td>3.750183</td>\n",
       "    </tr>\n",
       "  </tbody>\n",
       "</table>\n",
       "<p>5 rows × 10982 columns</p>\n",
       "</div>"
      ],
      "text/plain": [
       "asin            000100039X  0002007770  0002051850  0002219417  000222383X  \\\n",
       "reviewerId                                                                   \n",
       "A100NGGXRQF0AQ    4.470021    4.311735    4.333536    4.712936    4.580069   \n",
       "A102Z3T7NSM5KC    4.608323    4.450037    4.471838    4.851238    4.718371   \n",
       "A106016KSI0YQ     4.090865    3.932579    3.954380    4.333780    4.200913   \n",
       "A106E1N0ZQ4D9W    4.770534    4.612248    4.634048    5.013449    4.880582   \n",
       "A10BZSGALQPS0V    4.276498    4.118212    4.140013    4.519413    4.386546   \n",
       "\n",
       "asin            000224053X  0002242052  0002247399  0002550938  0002726874  \\\n",
       "reviewerId                                                                   \n",
       "A100NGGXRQF0AQ    3.795557    4.336562    3.780914    3.398251    4.580069   \n",
       "A102Z3T7NSM5KC    3.933859    4.474864    3.919216    3.536553    4.718371   \n",
       "A106016KSI0YQ     3.416401    3.957407    3.401759    3.019095    4.200913   \n",
       "A106E1N0ZQ4D9W    4.096070    4.637075    4.081427    3.698763    4.880582   \n",
       "A10BZSGALQPS0V    3.602035    4.143040    4.000000    3.204728    4.386546   \n",
       "\n",
       "asin              ...      452289858  452295297  452295386  452295513  \\\n",
       "reviewerId        ...                                                   \n",
       "A100NGGXRQF0AQ    ...       4.610372   4.522018   3.326058   3.559090   \n",
       "A102Z3T7NSM5KC    ...       4.748674   4.660320   3.464360   3.697392   \n",
       "A106016KSI0YQ     ...       4.231216   4.142863   2.946903   3.179934   \n",
       "A106E1N0ZQ4D9W    ...       4.910885   4.822531   3.626571   3.859603   \n",
       "A10BZSGALQPS0V    ...       4.416849   5.000000   3.132536   3.365567   \n",
       "\n",
       "asin            452295831  452296099  452296293  452296315  452296366  \\\n",
       "reviewerId                                                              \n",
       "A100NGGXRQF0AQ   4.943705   3.235372   3.255393   3.086562   4.349955   \n",
       "A102Z3T7NSM5KC   5.082007   3.373674   3.393695   3.224864   4.488257   \n",
       "A106016KSI0YQ    4.564550   2.856216   2.876238   2.707407   3.970800   \n",
       "A106E1N0ZQ4D9W   5.244218   3.535885   3.555906   3.387075   4.650468   \n",
       "A10BZSGALQPS0V   4.750183   3.041849   4.000000   2.893040   4.156433   \n",
       "\n",
       "asin            452296544  \n",
       "reviewerId                 \n",
       "A100NGGXRQF0AQ   3.943705  \n",
       "A102Z3T7NSM5KC   4.082007  \n",
       "A106016KSI0YQ    3.564550  \n",
       "A106E1N0ZQ4D9W   4.244218  \n",
       "A10BZSGALQPS0V   3.750183  \n",
       "\n",
       "[5 rows x 10982 columns]"
      ]
     },
     "execution_count": 34,
     "metadata": {},
     "output_type": "execute_result"
    }
   ],
   "source": [
    "predictions.head()"
   ]
  },
  {
   "cell_type": "code",
   "execution_count": 35,
   "metadata": {
    "ExecuteTime": {
     "end_time": "2020-05-11T22:03:59.719772Z",
     "start_time": "2020-05-11T22:03:59.711209Z"
    },
    "hidden": true
   },
   "outputs": [
    {
     "name": "stdout",
     "output_type": "stream",
     "text": [
      "(2647, 10982) (10982,) (2647,)\n"
     ]
    }
   ],
   "source": [
    "print(pref_matrix.shape, item_mean_rating.shape, user_mean_rating.shape)"
   ]
  },
  {
   "cell_type": "code",
   "execution_count": 36,
   "metadata": {
    "ExecuteTime": {
     "end_time": "2020-05-11T22:03:59.822502Z",
     "start_time": "2020-05-11T22:03:59.724521Z"
    },
    "hidden": true,
    "scrolled": false
   },
   "outputs": [
    {
     "name": "stdout",
     "output_type": "stream",
     "text": [
      "<class 'pandas.core.frame.DataFrame'>\n",
      "Index: 2647 entries, A100NGGXRQF0AQ to AZY96LU53VWGO\n",
      "Columns: 10982 entries, 000100039X to 452296544\n",
      "dtypes: float64(10982)\n",
      "memory usage: 221.9+ MB\n"
     ]
    }
   ],
   "source": [
    "predictions.info()"
   ]
  },
  {
   "cell_type": "code",
   "execution_count": 38,
   "metadata": {
    "ExecuteTime": {
     "end_time": "2020-05-11T22:08:30.887831Z",
     "start_time": "2020-05-11T22:06:51.045921Z"
    },
    "hidden": true
   },
   "outputs": [],
   "source": [
    "predictions.to_csv('/Volumes/external/Sangeetha-Project/pred_cosine_sim.csv.gz', header = True, index=True,\n",
    "                       compression='gzip')"
   ]
  },
  {
   "cell_type": "code",
   "execution_count": 41,
   "metadata": {
    "ExecuteTime": {
     "end_time": "2020-05-11T22:16:06.142157Z",
     "start_time": "2020-05-11T22:15:31.466098Z"
    },
    "hidden": true
   },
   "outputs": [],
   "source": [
    "pref_matrix.to_csv('/Volumes/external/Sangeetha-Project/pref_matrix.csv.gz', header = True, index=True,\n",
    "                       compression='gzip')"
   ]
  },
  {
   "cell_type": "code",
   "execution_count": 39,
   "metadata": {
    "ExecuteTime": {
     "end_time": "2020-05-11T22:09:17.001884Z",
     "start_time": "2020-05-11T22:09:16.991610Z"
    },
    "hidden": true,
    "scrolled": false
   },
   "outputs": [
    {
     "data": {
      "text/plain": [
       "''"
      ]
     },
     "execution_count": 39,
     "metadata": {},
     "output_type": "execute_result"
    }
   ],
   "source": [
    "#If you wanted to track the negative values\n",
    "'''print(pref_matrix.loc['A11MN43FYU3H04', '0062501143'])\n",
    "print('-----------------------------------')\n",
    "print(pref_matrix.loc['A11MN43FYU3H04'].dropna().mean())\n",
    "print(pref_matrix.loc['A11MN43FYU3H04'].mean())\n",
    "print(len(pref_matrix.loc['A11MN43FYU3H04'].dropna()))\n",
    "print('-----------------------------------')\n",
    "print(pref_matrix['0062501143'].dropna().mean())\n",
    "print(pref_matrix['0062501143'].mean())\n",
    "print(len(pref_matrix['0062501143'].dropna()))'''\n",
    "''"
   ]
  },
  {
   "cell_type": "code",
   "execution_count": 2,
   "metadata": {
    "ExecuteTime": {
     "end_time": "2020-05-12T14:25:43.718192Z",
     "start_time": "2020-05-12T14:25:29.119942Z"
    },
    "hidden": true
   },
   "outputs": [],
   "source": [
    "pref_matrix = pd.read_csv('/Volumes/external/Sangeetha-Project/pref_matrix.csv.gz', index_col=0,\n",
    "                       compression='gzip')"
   ]
  },
  {
   "cell_type": "code",
   "execution_count": 22,
   "metadata": {
    "ExecuteTime": {
     "end_time": "2020-05-12T14:42:53.055384Z",
     "start_time": "2020-05-12T14:42:29.586383Z"
    },
    "hidden": true
   },
   "outputs": [],
   "source": [
    "predictions = pd.read_csv('/Volumes/external/Sangeetha-Project/pred_cosine_sim.csv.gz', index_col=0,\n",
    "                       compression='gzip')"
   ]
  },
  {
   "cell_type": "code",
   "execution_count": null,
   "metadata": {
    "hidden": true
   },
   "outputs": [],
   "source": [
    "adj_predictions = pd.read_csv('/Volumes/external/Sangeetha-Project/adj_pred_cosine_sim.csv.gz', index_col=0,\n",
    "                       compression='gzip')"
   ]
  },
  {
   "cell_type": "code",
   "execution_count": 4,
   "metadata": {
    "ExecuteTime": {
     "end_time": "2020-05-12T14:26:11.366291Z",
     "start_time": "2020-05-12T14:26:10.658614Z"
    },
    "hidden": true
   },
   "outputs": [],
   "source": [
    "df_sub = pd.read_csv('/Volumes/external/Sangeetha-Project/df_sub.csv.gz', \n",
    "                       compression='gzip').astype({'rating':'int8', 'total_votes':'int32'})"
   ]
  },
  {
   "cell_type": "code",
   "execution_count": 5,
   "metadata": {
    "ExecuteTime": {
     "end_time": "2020-05-12T09:19:28.863372Z",
     "start_time": "2020-05-12T09:19:28.856345Z"
    },
    "hidden": true
   },
   "outputs": [],
   "source": [
    "mat = predictions.values\n",
    "\n",
    "#Pick a random user:\n",
    "user_val = 100\n",
    "user = predictions.index[user_val]"
   ]
  },
  {
   "cell_type": "code",
   "execution_count": 6,
   "metadata": {
    "ExecuteTime": {
     "end_time": "2020-05-12T09:19:29.539993Z",
     "start_time": "2020-05-12T09:19:29.478872Z"
    },
    "hidden": true
   },
   "outputs": [],
   "source": [
    "#Create a list of unread books with more than 10 reviews\n",
    "books_count = df_sub.asin.value_counts()\n",
    "books_count = books_count[books_count>10]"
   ]
  },
  {
   "cell_type": "code",
   "execution_count": 7,
   "metadata": {
    "ExecuteTime": {
     "end_time": "2020-05-12T09:19:30.127699Z",
     "start_time": "2020-05-12T09:19:30.110459Z"
    },
    "hidden": true
   },
   "outputs": [],
   "source": [
    "#Pick a random book (one that the reviewer has not yet read\n",
    "#First create a list of books the user hasnt read\n",
    "list_books = np.argwhere(pref_matrix.loc[user] ==0).reshape(1, -1)[0]"
   ]
  },
  {
   "cell_type": "code",
   "execution_count": 8,
   "metadata": {
    "ExecuteTime": {
     "end_time": "2020-05-12T09:19:30.742766Z",
     "start_time": "2020-05-12T09:19:30.730662Z"
    },
    "hidden": true
   },
   "outputs": [
    {
     "data": {
      "text/plain": [
       "4599"
      ]
     },
     "execution_count": 8,
     "metadata": {},
     "output_type": "execute_result"
    }
   ],
   "source": [
    "#Choose a random book (this only results the index)\n",
    "book = random.choice(list_books)\n",
    "book"
   ]
  },
  {
   "cell_type": "code",
   "execution_count": 9,
   "metadata": {
    "ExecuteTime": {
     "end_time": "2020-05-12T09:19:33.745602Z",
     "start_time": "2020-05-12T09:19:33.732888Z"
    },
    "hidden": true,
    "scrolled": true
   },
   "outputs": [
    {
     "data": {
      "text/plain": [
       "True"
      ]
     },
     "execution_count": 9,
     "metadata": {},
     "output_type": "execute_result"
    }
   ],
   "source": [
    "#Check if book is in the list of books that the user hasn't read and has more than 10 reviews, otherwise try again\n",
    "pref_matrix.columns[book] in books_count"
   ]
  },
  {
   "cell_type": "code",
   "execution_count": 10,
   "metadata": {
    "ExecuteTime": {
     "end_time": "2020-05-12T09:19:35.518185Z",
     "start_time": "2020-05-12T09:19:35.496770Z"
    },
    "hidden": true,
    "scrolled": true
   },
   "outputs": [
    {
     "data": {
      "text/plain": [
       "array([  21,   71,  104,  106,  111,  127,  252,  283,  289,  377,  399,\n",
       "        496,  501,  553,  623,  624,  629,  677,  717,  824,  837,  857,\n",
       "        973, 1088, 1137, 1151, 1178, 1179, 1324, 1335, 1444, 1479, 1667,\n",
       "       1770, 1897, 1906, 1919, 2009, 2023, 2042, 2331, 2402, 2409, 2434,\n",
       "       2550, 2625, 2636])"
      ]
     },
     "execution_count": 10,
     "metadata": {},
     "output_type": "execute_result"
    }
   ],
   "source": [
    "#For this book, get all the users that have reviewed the book\n",
    "list_users = np.argwhere(pref_matrix.iloc[:, book] !=0).reshape(1, -1)[0]\n",
    "list_users"
   ]
  },
  {
   "cell_type": "code",
   "execution_count": null,
   "metadata": {
    "ExecuteTime": {
     "start_time": "2020-05-11T20:19:58.740Z"
    },
    "hidden": true,
    "scrolled": true
   },
   "outputs": [],
   "source": [
    "'''review_distances = []\n",
    "\n",
    "for reviewer in list_users:\n",
    "    review_distances.append(\n",
    "        1-(mat[reviewer,:].dot(mat[user_val,:])/(np.linalg.norm(mat[reviewer,:]) * np.linalg.norm(mat[user_val,:]))))\n",
    "\n",
    "review_distances'''"
   ]
  },
  {
   "cell_type": "code",
   "execution_count": 11,
   "metadata": {
    "ExecuteTime": {
     "end_time": "2020-05-12T09:19:38.764658Z",
     "start_time": "2020-05-12T09:19:38.678724Z"
    },
    "hidden": true
   },
   "outputs": [
    {
     "data": {
      "text/plain": [
       "[0.00046993883865098507,\n",
       " 0.0007644765385815822,\n",
       " 0.00041311277014477454,\n",
       " 0.0005021716973870882,\n",
       " 0.0004057139499779039,\n",
       " 0.0019288536439415749,\n",
       " 0.0015000218353845574,\n",
       " 0.0004745629603214452,\n",
       " 0.0012563673839666167,\n",
       " 0.0006040122177051188,\n",
       " 0.0008007279278524626,\n",
       " 0.0006533007127657031,\n",
       " 0.00038226726008183665,\n",
       " 0.0008693899140193029,\n",
       " 0.0006342450103036246,\n",
       " 0.0011016551939867503,\n",
       " 0.00105598447222921,\n",
       " 0.0004406673474141032,\n",
       " 0.0006424889436238423,\n",
       " 0.0008194205225553475,\n",
       " 0.0018388392168824375,\n",
       " 0.0004212883083081209,\n",
       " 0.0019880960574871764,\n",
       " 0.0004997974711260511,\n",
       " 0.0004871992279542603,\n",
       " 0.00046023861487431983,\n",
       " 0.0004701316780237885,\n",
       " 0.0004372124446710979,\n",
       " 0.000646148881611408,\n",
       " 0.0007948488141596988,\n",
       " 0.0008493369007512852,\n",
       " 0.00046271176762269217,\n",
       " 0.0004478424015875726,\n",
       " 0.0005452575770973356,\n",
       " 0.0005139992871521226,\n",
       " 0.0006400224186303705,\n",
       " 0.0005984289732922088,\n",
       " 0.0005493380819893146,\n",
       " 0.0012301659035395263,\n",
       " 0.0005566289973292227,\n",
       " 0.00038724380578980533,\n",
       " 0.0006114706123836466,\n",
       " 0.0015192479709629225,\n",
       " 0.00043987690388480605,\n",
       " 0.00036481968132751064,\n",
       " 0.0010828397649382815,\n",
       " 0.0004389237491715381]"
      ]
     },
     "execution_count": 11,
     "metadata": {},
     "output_type": "execute_result"
    }
   ],
   "source": [
    "review_distances = []\n",
    "\n",
    "for reviewer in list_users:\n",
    "    review_distances.append(scipy.spatial.distance.cosine(mat[user_val,:], mat[reviewer,:]))\n",
    "review_distances"
   ]
  },
  {
   "cell_type": "code",
   "execution_count": 12,
   "metadata": {
    "ExecuteTime": {
     "end_time": "2020-05-12T09:19:43.955386Z",
     "start_time": "2020-05-12T09:19:43.918626Z"
    },
    "hidden": true,
    "scrolled": true
   },
   "outputs": [
    {
     "data": {
      "text/html": [
       "<div>\n",
       "<style scoped>\n",
       "    .dataframe tbody tr th:only-of-type {\n",
       "        vertical-align: middle;\n",
       "    }\n",
       "\n",
       "    .dataframe tbody tr th {\n",
       "        vertical-align: top;\n",
       "    }\n",
       "\n",
       "    .dataframe thead th {\n",
       "        text-align: right;\n",
       "    }\n",
       "</style>\n",
       "<table border=\"1\" class=\"dataframe\">\n",
       "  <thead>\n",
       "    <tr style=\"text-align: right;\">\n",
       "      <th></th>\n",
       "      <th>distance</th>\n",
       "      <th>reviewerId</th>\n",
       "      <th>r_label</th>\n",
       "    </tr>\n",
       "  </thead>\n",
       "  <tbody>\n",
       "    <tr>\n",
       "      <th>0</th>\n",
       "      <td>0.000365</td>\n",
       "      <td>AUEW0SKOB1XYF</td>\n",
       "      <td>2550</td>\n",
       "    </tr>\n",
       "    <tr>\n",
       "      <th>1</th>\n",
       "      <td>0.000382</td>\n",
       "      <td>A1Q1T811N4IY3Z</td>\n",
       "      <td>501</td>\n",
       "    </tr>\n",
       "    <tr>\n",
       "      <th>2</th>\n",
       "      <td>0.000387</td>\n",
       "      <td>AJ8TBV3FD6704</td>\n",
       "      <td>2331</td>\n",
       "    </tr>\n",
       "    <tr>\n",
       "      <th>3</th>\n",
       "      <td>0.000406</td>\n",
       "      <td>A15QN769N6JEYN</td>\n",
       "      <td>111</td>\n",
       "    </tr>\n",
       "    <tr>\n",
       "      <th>4</th>\n",
       "      <td>0.000413</td>\n",
       "      <td>A15D2X8MICR2VQ</td>\n",
       "      <td>104</td>\n",
       "    </tr>\n",
       "    <tr>\n",
       "      <th>5</th>\n",
       "      <td>0.000421</td>\n",
       "      <td>A28OB1QLXN5BM6</td>\n",
       "      <td>857</td>\n",
       "    </tr>\n",
       "    <tr>\n",
       "      <th>6</th>\n",
       "      <td>0.000437</td>\n",
       "      <td>A2QD4TPD0K4MOI</td>\n",
       "      <td>1179</td>\n",
       "    </tr>\n",
       "    <tr>\n",
       "      <th>7</th>\n",
       "      <td>0.000439</td>\n",
       "      <td>AZD8SMNGQI98O</td>\n",
       "      <td>2636</td>\n",
       "    </tr>\n",
       "    <tr>\n",
       "      <th>8</th>\n",
       "      <td>0.000440</td>\n",
       "      <td>AO7RFXGXSY3LN</td>\n",
       "      <td>2434</td>\n",
       "    </tr>\n",
       "    <tr>\n",
       "      <th>9</th>\n",
       "      <td>0.000441</td>\n",
       "      <td>A1Z1DOBASN3YZB</td>\n",
       "      <td>677</td>\n",
       "    </tr>\n",
       "    <tr>\n",
       "      <th>10</th>\n",
       "      <td>0.000448</td>\n",
       "      <td>A3EUSH8DPW75LR</td>\n",
       "      <td>1667</td>\n",
       "    </tr>\n",
       "    <tr>\n",
       "      <th>11</th>\n",
       "      <td>0.000460</td>\n",
       "      <td>A2OU2NCXK689Z2</td>\n",
       "      <td>1151</td>\n",
       "    </tr>\n",
       "    <tr>\n",
       "      <th>12</th>\n",
       "      <td>0.000463</td>\n",
       "      <td>A359D655P5XEU4</td>\n",
       "      <td>1479</td>\n",
       "    </tr>\n",
       "    <tr>\n",
       "      <th>13</th>\n",
       "      <td>0.000470</td>\n",
       "      <td>A1143YEAZYMYHJ</td>\n",
       "      <td>21</td>\n",
       "    </tr>\n",
       "    <tr>\n",
       "      <th>14</th>\n",
       "      <td>0.000470</td>\n",
       "      <td>A2QA5L9WUYVATT</td>\n",
       "      <td>1178</td>\n",
       "    </tr>\n",
       "    <tr>\n",
       "      <th>15</th>\n",
       "      <td>0.000475</td>\n",
       "      <td>A1EKF9JFF1XWSV</td>\n",
       "      <td>283</td>\n",
       "    </tr>\n",
       "    <tr>\n",
       "      <th>16</th>\n",
       "      <td>0.000487</td>\n",
       "      <td>A2O9L2LA6Z5LXJ</td>\n",
       "      <td>1137</td>\n",
       "    </tr>\n",
       "    <tr>\n",
       "      <th>17</th>\n",
       "      <td>0.000500</td>\n",
       "      <td>A2M4R8R6SU049A</td>\n",
       "      <td>1088</td>\n",
       "    </tr>\n",
       "    <tr>\n",
       "      <th>18</th>\n",
       "      <td>0.000502</td>\n",
       "      <td>A15J71JLC29KPW</td>\n",
       "      <td>106</td>\n",
       "    </tr>\n",
       "    <tr>\n",
       "      <th>19</th>\n",
       "      <td>0.000514</td>\n",
       "      <td>A3P3U42S4A2YHQ</td>\n",
       "      <td>1897</td>\n",
       "    </tr>\n",
       "    <tr>\n",
       "      <th>20</th>\n",
       "      <td>0.000545</td>\n",
       "      <td>A3JXBZ8F65100O</td>\n",
       "      <td>1770</td>\n",
       "    </tr>\n",
       "    <tr>\n",
       "      <th>21</th>\n",
       "      <td>0.000549</td>\n",
       "      <td>A3U5CZ3PV82JXD</td>\n",
       "      <td>2009</td>\n",
       "    </tr>\n",
       "    <tr>\n",
       "      <th>22</th>\n",
       "      <td>0.000557</td>\n",
       "      <td>A3VWGPUMJMVD1I</td>\n",
       "      <td>2042</td>\n",
       "    </tr>\n",
       "    <tr>\n",
       "      <th>23</th>\n",
       "      <td>0.000598</td>\n",
       "      <td>A3QD59N3M7O7KB</td>\n",
       "      <td>1919</td>\n",
       "    </tr>\n",
       "    <tr>\n",
       "      <th>24</th>\n",
       "      <td>0.000604</td>\n",
       "      <td>A1ITRGMT80D5TK</td>\n",
       "      <td>377</td>\n",
       "    </tr>\n",
       "    <tr>\n",
       "      <th>25</th>\n",
       "      <td>0.000611</td>\n",
       "      <td>AMUP8DYE7EAN2</td>\n",
       "      <td>2402</td>\n",
       "    </tr>\n",
       "    <tr>\n",
       "      <th>26</th>\n",
       "      <td>0.000634</td>\n",
       "      <td>A1W7R5ZAGVOSVQ</td>\n",
       "      <td>623</td>\n",
       "    </tr>\n",
       "    <tr>\n",
       "      <th>27</th>\n",
       "      <td>0.000640</td>\n",
       "      <td>A3PGGI7A6XCNF1</td>\n",
       "      <td>1906</td>\n",
       "    </tr>\n",
       "    <tr>\n",
       "      <th>28</th>\n",
       "      <td>0.000642</td>\n",
       "      <td>A215WH6RUDUCMP</td>\n",
       "      <td>717</td>\n",
       "    </tr>\n",
       "    <tr>\n",
       "      <th>29</th>\n",
       "      <td>0.000646</td>\n",
       "      <td>A2WCZZ304SM5HC</td>\n",
       "      <td>1324</td>\n",
       "    </tr>\n",
       "    <tr>\n",
       "      <th>30</th>\n",
       "      <td>0.000653</td>\n",
       "      <td>A1POFVVXUZR3IQ</td>\n",
       "      <td>496</td>\n",
       "    </tr>\n",
       "    <tr>\n",
       "      <th>31</th>\n",
       "      <td>0.000764</td>\n",
       "      <td>A13H5US9Z7L9M7</td>\n",
       "      <td>71</td>\n",
       "    </tr>\n",
       "    <tr>\n",
       "      <th>32</th>\n",
       "      <td>0.000795</td>\n",
       "      <td>A2WY52YD5GAEIB</td>\n",
       "      <td>1335</td>\n",
       "    </tr>\n",
       "    <tr>\n",
       "      <th>33</th>\n",
       "      <td>0.000801</td>\n",
       "      <td>A1JV4QKTEB7QBL</td>\n",
       "      <td>399</td>\n",
       "    </tr>\n",
       "    <tr>\n",
       "      <th>34</th>\n",
       "      <td>0.000819</td>\n",
       "      <td>A277GP2U2TXH51</td>\n",
       "      <td>824</td>\n",
       "    </tr>\n",
       "    <tr>\n",
       "      <th>35</th>\n",
       "      <td>0.000849</td>\n",
       "      <td>A33EVEMS61JYRQ</td>\n",
       "      <td>1444</td>\n",
       "    </tr>\n",
       "    <tr>\n",
       "      <th>36</th>\n",
       "      <td>0.000869</td>\n",
       "      <td>A1SKNS2DGG46XM</td>\n",
       "      <td>553</td>\n",
       "    </tr>\n",
       "    <tr>\n",
       "      <th>37</th>\n",
       "      <td>0.001056</td>\n",
       "      <td>A1WKQ94M45D8MG</td>\n",
       "      <td>629</td>\n",
       "    </tr>\n",
       "    <tr>\n",
       "      <th>38</th>\n",
       "      <td>0.001083</td>\n",
       "      <td>AYT4FJYVCHYLE</td>\n",
       "      <td>2625</td>\n",
       "    </tr>\n",
       "    <tr>\n",
       "      <th>39</th>\n",
       "      <td>0.001102</td>\n",
       "      <td>A1WCJEZS66D224</td>\n",
       "      <td>624</td>\n",
       "    </tr>\n",
       "    <tr>\n",
       "      <th>40</th>\n",
       "      <td>0.001230</td>\n",
       "      <td>A3UZSZIL13VQZ2</td>\n",
       "      <td>2023</td>\n",
       "    </tr>\n",
       "    <tr>\n",
       "      <th>41</th>\n",
       "      <td>0.001256</td>\n",
       "      <td>A1EW1OILI6AGGC</td>\n",
       "      <td>289</td>\n",
       "    </tr>\n",
       "    <tr>\n",
       "      <th>42</th>\n",
       "      <td>0.001500</td>\n",
       "      <td>A1D5RCOILPC9LX</td>\n",
       "      <td>252</td>\n",
       "    </tr>\n",
       "    <tr>\n",
       "      <th>43</th>\n",
       "      <td>0.001519</td>\n",
       "      <td>AN3D3M8MJ07BQ</td>\n",
       "      <td>2409</td>\n",
       "    </tr>\n",
       "    <tr>\n",
       "      <th>44</th>\n",
       "      <td>0.001839</td>\n",
       "      <td>A27R2V3WLS43LP</td>\n",
       "      <td>837</td>\n",
       "    </tr>\n",
       "    <tr>\n",
       "      <th>45</th>\n",
       "      <td>0.001929</td>\n",
       "      <td>A16QQ78I8J29PA</td>\n",
       "      <td>127</td>\n",
       "    </tr>\n",
       "    <tr>\n",
       "      <th>46</th>\n",
       "      <td>0.001988</td>\n",
       "      <td>A2F6N60Z96CAJI</td>\n",
       "      <td>973</td>\n",
       "    </tr>\n",
       "  </tbody>\n",
       "</table>\n",
       "</div>"
      ],
      "text/plain": [
       "    distance      reviewerId  r_label\n",
       "0   0.000365   AUEW0SKOB1XYF     2550\n",
       "1   0.000382  A1Q1T811N4IY3Z      501\n",
       "2   0.000387   AJ8TBV3FD6704     2331\n",
       "3   0.000406  A15QN769N6JEYN      111\n",
       "4   0.000413  A15D2X8MICR2VQ      104\n",
       "5   0.000421  A28OB1QLXN5BM6      857\n",
       "6   0.000437  A2QD4TPD0K4MOI     1179\n",
       "7   0.000439   AZD8SMNGQI98O     2636\n",
       "8   0.000440   AO7RFXGXSY3LN     2434\n",
       "9   0.000441  A1Z1DOBASN3YZB      677\n",
       "10  0.000448  A3EUSH8DPW75LR     1667\n",
       "11  0.000460  A2OU2NCXK689Z2     1151\n",
       "12  0.000463  A359D655P5XEU4     1479\n",
       "13  0.000470  A1143YEAZYMYHJ       21\n",
       "14  0.000470  A2QA5L9WUYVATT     1178\n",
       "15  0.000475  A1EKF9JFF1XWSV      283\n",
       "16  0.000487  A2O9L2LA6Z5LXJ     1137\n",
       "17  0.000500  A2M4R8R6SU049A     1088\n",
       "18  0.000502  A15J71JLC29KPW      106\n",
       "19  0.000514  A3P3U42S4A2YHQ     1897\n",
       "20  0.000545  A3JXBZ8F65100O     1770\n",
       "21  0.000549  A3U5CZ3PV82JXD     2009\n",
       "22  0.000557  A3VWGPUMJMVD1I     2042\n",
       "23  0.000598  A3QD59N3M7O7KB     1919\n",
       "24  0.000604  A1ITRGMT80D5TK      377\n",
       "25  0.000611   AMUP8DYE7EAN2     2402\n",
       "26  0.000634  A1W7R5ZAGVOSVQ      623\n",
       "27  0.000640  A3PGGI7A6XCNF1     1906\n",
       "28  0.000642  A215WH6RUDUCMP      717\n",
       "29  0.000646  A2WCZZ304SM5HC     1324\n",
       "30  0.000653  A1POFVVXUZR3IQ      496\n",
       "31  0.000764  A13H5US9Z7L9M7       71\n",
       "32  0.000795  A2WY52YD5GAEIB     1335\n",
       "33  0.000801  A1JV4QKTEB7QBL      399\n",
       "34  0.000819  A277GP2U2TXH51      824\n",
       "35  0.000849  A33EVEMS61JYRQ     1444\n",
       "36  0.000869  A1SKNS2DGG46XM      553\n",
       "37  0.001056  A1WKQ94M45D8MG      629\n",
       "38  0.001083   AYT4FJYVCHYLE     2625\n",
       "39  0.001102  A1WCJEZS66D224      624\n",
       "40  0.001230  A3UZSZIL13VQZ2     2023\n",
       "41  0.001256  A1EW1OILI6AGGC      289\n",
       "42  0.001500  A1D5RCOILPC9LX      252\n",
       "43  0.001519   AN3D3M8MJ07BQ     2409\n",
       "44  0.001839  A27R2V3WLS43LP      837\n",
       "45  0.001929  A16QQ78I8J29PA      127\n",
       "46  0.001988  A2F6N60Z96CAJI      973"
      ]
     },
     "execution_count": 12,
     "metadata": {},
     "output_type": "execute_result"
    }
   ],
   "source": [
    "sorted_reviewers = sorted(zip(review_distances,[pref_matrix.index[x] for x in list_users], \n",
    "                              list_users), key=lambda x:x[0])\n",
    "sorted_reviewers = pd.DataFrame(sorted_reviewers, columns = ['distance', 'reviewerId', 'r_label'])\n",
    "sorted_reviewers"
   ]
  },
  {
   "cell_type": "code",
   "execution_count": 17,
   "metadata": {
    "ExecuteTime": {
     "end_time": "2020-05-12T09:21:17.335962Z",
     "start_time": "2020-05-12T09:21:17.247670Z"
    },
    "hidden": true,
    "scrolled": true
   },
   "outputs": [
    {
     "data": {
      "text/html": [
       "<div>\n",
       "<style scoped>\n",
       "    .dataframe tbody tr th:only-of-type {\n",
       "        vertical-align: middle;\n",
       "    }\n",
       "\n",
       "    .dataframe tbody tr th {\n",
       "        vertical-align: top;\n",
       "    }\n",
       "\n",
       "    .dataframe thead th {\n",
       "        text-align: right;\n",
       "    }\n",
       "</style>\n",
       "<table border=\"1\" class=\"dataframe\">\n",
       "  <thead>\n",
       "    <tr style=\"text-align: right;\">\n",
       "      <th></th>\n",
       "      <th>reviewerId</th>\n",
       "      <th>asin</th>\n",
       "      <th>rating</th>\n",
       "      <th>summary</th>\n",
       "      <th>total_votes</th>\n",
       "      <th>distance</th>\n",
       "      <th>r_label</th>\n",
       "    </tr>\n",
       "  </thead>\n",
       "  <tbody>\n",
       "    <tr>\n",
       "      <th>0</th>\n",
       "      <td>A2M4R8R6SU049A</td>\n",
       "      <td>0312385846</td>\n",
       "      <td>5</td>\n",
       "      <td>Mammamia!  A really scary book!</td>\n",
       "      <td>7</td>\n",
       "      <td>0.000500</td>\n",
       "      <td>1088</td>\n",
       "    </tr>\n",
       "    <tr>\n",
       "      <th>1</th>\n",
       "      <td>AO7RFXGXSY3LN</td>\n",
       "      <td>0312385846</td>\n",
       "      <td>5</td>\n",
       "      <td>Fantastic novel that combines history, ghosts ...</td>\n",
       "      <td>9</td>\n",
       "      <td>0.000440</td>\n",
       "      <td>2434</td>\n",
       "    </tr>\n",
       "    <tr>\n",
       "      <th>2</th>\n",
       "      <td>A3EUSH8DPW75LR</td>\n",
       "      <td>0312385846</td>\n",
       "      <td>2</td>\n",
       "      <td>Just plain bad</td>\n",
       "      <td>4</td>\n",
       "      <td>0.000448</td>\n",
       "      <td>1667</td>\n",
       "    </tr>\n",
       "    <tr>\n",
       "      <th>3</th>\n",
       "      <td>A2F6N60Z96CAJI</td>\n",
       "      <td>0312385846</td>\n",
       "      <td>5</td>\n",
       "      <td>Ransom's debut novel grabs hold and doesn't le...</td>\n",
       "      <td>4</td>\n",
       "      <td>0.001988</td>\n",
       "      <td>973</td>\n",
       "    </tr>\n",
       "    <tr>\n",
       "      <th>4</th>\n",
       "      <td>AYT4FJYVCHYLE</td>\n",
       "      <td>0312385846</td>\n",
       "      <td>1</td>\n",
       "      <td>Wow. What A Disappointment.</td>\n",
       "      <td>27</td>\n",
       "      <td>0.001083</td>\n",
       "      <td>2625</td>\n",
       "    </tr>\n",
       "    <tr>\n",
       "      <th>5</th>\n",
       "      <td>AUEW0SKOB1XYF</td>\n",
       "      <td>0312385846</td>\n",
       "      <td>3</td>\n",
       "      <td>Pretty good read</td>\n",
       "      <td>2</td>\n",
       "      <td>0.000365</td>\n",
       "      <td>2550</td>\n",
       "    </tr>\n",
       "    <tr>\n",
       "      <th>6</th>\n",
       "      <td>A3P3U42S4A2YHQ</td>\n",
       "      <td>0312385846</td>\n",
       "      <td>3</td>\n",
       "      <td>A twisted mess of a novel</td>\n",
       "      <td>3</td>\n",
       "      <td>0.000514</td>\n",
       "      <td>1897</td>\n",
       "    </tr>\n",
       "    <tr>\n",
       "      <th>7</th>\n",
       "      <td>A27R2V3WLS43LP</td>\n",
       "      <td>0312385846</td>\n",
       "      <td>3</td>\n",
       "      <td>Wanting more</td>\n",
       "      <td>3</td>\n",
       "      <td>0.001839</td>\n",
       "      <td>837</td>\n",
       "    </tr>\n",
       "    <tr>\n",
       "      <th>8</th>\n",
       "      <td>A3U5CZ3PV82JXD</td>\n",
       "      <td>0312385846</td>\n",
       "      <td>2</td>\n",
       "      <td>Too confusing to be scary</td>\n",
       "      <td>1</td>\n",
       "      <td>0.000549</td>\n",
       "      <td>2009</td>\n",
       "    </tr>\n",
       "    <tr>\n",
       "      <th>9</th>\n",
       "      <td>AZD8SMNGQI98O</td>\n",
       "      <td>0312385846</td>\n",
       "      <td>4</td>\n",
       "      <td>Almost a Five Star Read!</td>\n",
       "      <td>4</td>\n",
       "      <td>0.000439</td>\n",
       "      <td>2636</td>\n",
       "    </tr>\n",
       "    <tr>\n",
       "      <th>10</th>\n",
       "      <td>A1EW1OILI6AGGC</td>\n",
       "      <td>0312385846</td>\n",
       "      <td>5</td>\n",
       "      <td>Great Ghost Story</td>\n",
       "      <td>4</td>\n",
       "      <td>0.001256</td>\n",
       "      <td>289</td>\n",
       "    </tr>\n",
       "    <tr>\n",
       "      <th>11</th>\n",
       "      <td>A1WKQ94M45D8MG</td>\n",
       "      <td>0312385846</td>\n",
       "      <td>3</td>\n",
       "      <td>What happened in this house?</td>\n",
       "      <td>4</td>\n",
       "      <td>0.001056</td>\n",
       "      <td>629</td>\n",
       "    </tr>\n",
       "    <tr>\n",
       "      <th>12</th>\n",
       "      <td>A1JV4QKTEB7QBL</td>\n",
       "      <td>0312385846</td>\n",
       "      <td>2</td>\n",
       "      <td>Death Drive</td>\n",
       "      <td>3</td>\n",
       "      <td>0.000801</td>\n",
       "      <td>399</td>\n",
       "    </tr>\n",
       "    <tr>\n",
       "      <th>13</th>\n",
       "      <td>A15D2X8MICR2VQ</td>\n",
       "      <td>0312385846</td>\n",
       "      <td>3</td>\n",
       "      <td>Was drawn in immediately but....</td>\n",
       "      <td>2</td>\n",
       "      <td>0.000413</td>\n",
       "      <td>104</td>\n",
       "    </tr>\n",
       "    <tr>\n",
       "      <th>14</th>\n",
       "      <td>A3JXBZ8F65100O</td>\n",
       "      <td>0312385846</td>\n",
       "      <td>2</td>\n",
       "      <td>Convoluted and Confusing</td>\n",
       "      <td>2</td>\n",
       "      <td>0.000545</td>\n",
       "      <td>1770</td>\n",
       "    </tr>\n",
       "    <tr>\n",
       "      <th>15</th>\n",
       "      <td>A3PGGI7A6XCNF1</td>\n",
       "      <td>0312385846</td>\n",
       "      <td>1</td>\n",
       "      <td>Just couldn't get into it</td>\n",
       "      <td>7</td>\n",
       "      <td>0.000640</td>\n",
       "      <td>1906</td>\n",
       "    </tr>\n",
       "    <tr>\n",
       "      <th>16</th>\n",
       "      <td>A1SKNS2DGG46XM</td>\n",
       "      <td>0312385846</td>\n",
       "      <td>2</td>\n",
       "      <td>Still Born</td>\n",
       "      <td>5</td>\n",
       "      <td>0.000869</td>\n",
       "      <td>553</td>\n",
       "    </tr>\n",
       "    <tr>\n",
       "      <th>17</th>\n",
       "      <td>A1Z1DOBASN3YZB</td>\n",
       "      <td>0312385846</td>\n",
       "      <td>4</td>\n",
       "      <td>A Great Little Ghost Story</td>\n",
       "      <td>2</td>\n",
       "      <td>0.000441</td>\n",
       "      <td>677</td>\n",
       "    </tr>\n",
       "    <tr>\n",
       "      <th>18</th>\n",
       "      <td>A15QN769N6JEYN</td>\n",
       "      <td>0312385846</td>\n",
       "      <td>3</td>\n",
       "      <td>Very Creepy Debut Novel</td>\n",
       "      <td>5</td>\n",
       "      <td>0.000406</td>\n",
       "      <td>111</td>\n",
       "    </tr>\n",
       "    <tr>\n",
       "      <th>19</th>\n",
       "      <td>A277GP2U2TXH51</td>\n",
       "      <td>0312385846</td>\n",
       "      <td>2</td>\n",
       "      <td>didn't click with me</td>\n",
       "      <td>2</td>\n",
       "      <td>0.000819</td>\n",
       "      <td>824</td>\n",
       "    </tr>\n",
       "    <tr>\n",
       "      <th>20</th>\n",
       "      <td>A1143YEAZYMYHJ</td>\n",
       "      <td>0312385846</td>\n",
       "      <td>3</td>\n",
       "      <td>Started Strong But Couldn't Deliver</td>\n",
       "      <td>5</td>\n",
       "      <td>0.000470</td>\n",
       "      <td>21</td>\n",
       "    </tr>\n",
       "    <tr>\n",
       "      <th>21</th>\n",
       "      <td>A215WH6RUDUCMP</td>\n",
       "      <td>0312385846</td>\n",
       "      <td>3</td>\n",
       "      <td>Decent Read</td>\n",
       "      <td>4</td>\n",
       "      <td>0.000642</td>\n",
       "      <td>717</td>\n",
       "    </tr>\n",
       "    <tr>\n",
       "      <th>22</th>\n",
       "      <td>A1WCJEZS66D224</td>\n",
       "      <td>0312385846</td>\n",
       "      <td>2</td>\n",
       "      <td>Lack of follow through made for a weak read.</td>\n",
       "      <td>0</td>\n",
       "      <td>0.001102</td>\n",
       "      <td>624</td>\n",
       "    </tr>\n",
       "    <tr>\n",
       "      <th>23</th>\n",
       "      <td>A1W7R5ZAGVOSVQ</td>\n",
       "      <td>0312385846</td>\n",
       "      <td>3</td>\n",
       "      <td>Weird, Dark and Disconnected Ghost Story</td>\n",
       "      <td>12</td>\n",
       "      <td>0.000634</td>\n",
       "      <td>623</td>\n",
       "    </tr>\n",
       "    <tr>\n",
       "      <th>24</th>\n",
       "      <td>A33EVEMS61JYRQ</td>\n",
       "      <td>0312385846</td>\n",
       "      <td>4</td>\n",
       "      <td>Incredible suspense!</td>\n",
       "      <td>2</td>\n",
       "      <td>0.000849</td>\n",
       "      <td>1444</td>\n",
       "    </tr>\n",
       "    <tr>\n",
       "      <th>25</th>\n",
       "      <td>A28OB1QLXN5BM6</td>\n",
       "      <td>0312385846</td>\n",
       "      <td>2</td>\n",
       "      <td>Nope...Just Doesn't Work</td>\n",
       "      <td>13</td>\n",
       "      <td>0.000421</td>\n",
       "      <td>857</td>\n",
       "    </tr>\n",
       "    <tr>\n",
       "      <th>26</th>\n",
       "      <td>A2O9L2LA6Z5LXJ</td>\n",
       "      <td>0312385846</td>\n",
       "      <td>4</td>\n",
       "      <td>well written ghost story</td>\n",
       "      <td>3</td>\n",
       "      <td>0.000487</td>\n",
       "      <td>1137</td>\n",
       "    </tr>\n",
       "    <tr>\n",
       "      <th>27</th>\n",
       "      <td>A13H5US9Z7L9M7</td>\n",
       "      <td>0312385846</td>\n",
       "      <td>2</td>\n",
       "      <td>Fizzled</td>\n",
       "      <td>3</td>\n",
       "      <td>0.000764</td>\n",
       "      <td>71</td>\n",
       "    </tr>\n",
       "    <tr>\n",
       "      <th>28</th>\n",
       "      <td>A2WY52YD5GAEIB</td>\n",
       "      <td>0312385846</td>\n",
       "      <td>2</td>\n",
       "      <td>A Tough One to Review</td>\n",
       "      <td>2</td>\n",
       "      <td>0.000795</td>\n",
       "      <td>1335</td>\n",
       "    </tr>\n",
       "    <tr>\n",
       "      <th>29</th>\n",
       "      <td>A2QA5L9WUYVATT</td>\n",
       "      <td>0312385846</td>\n",
       "      <td>1</td>\n",
       "      <td>Find something else to read</td>\n",
       "      <td>6</td>\n",
       "      <td>0.000470</td>\n",
       "      <td>1178</td>\n",
       "    </tr>\n",
       "    <tr>\n",
       "      <th>30</th>\n",
       "      <td>A15J71JLC29KPW</td>\n",
       "      <td>0312385846</td>\n",
       "      <td>1</td>\n",
       "      <td>Started out great, then fell apart</td>\n",
       "      <td>2</td>\n",
       "      <td>0.000502</td>\n",
       "      <td>106</td>\n",
       "    </tr>\n",
       "    <tr>\n",
       "      <th>31</th>\n",
       "      <td>AMUP8DYE7EAN2</td>\n",
       "      <td>0312385846</td>\n",
       "      <td>2</td>\n",
       "      <td>Late Term Abortion</td>\n",
       "      <td>2</td>\n",
       "      <td>0.000611</td>\n",
       "      <td>2402</td>\n",
       "    </tr>\n",
       "    <tr>\n",
       "      <th>32</th>\n",
       "      <td>A3UZSZIL13VQZ2</td>\n",
       "      <td>0312385846</td>\n",
       "      <td>1</td>\n",
       "      <td>I'm not even sure what happened at the end!</td>\n",
       "      <td>19</td>\n",
       "      <td>0.001230</td>\n",
       "      <td>2023</td>\n",
       "    </tr>\n",
       "    <tr>\n",
       "      <th>33</th>\n",
       "      <td>A3VWGPUMJMVD1I</td>\n",
       "      <td>0312385846</td>\n",
       "      <td>4</td>\n",
       "      <td>Do men get baby fever?</td>\n",
       "      <td>5</td>\n",
       "      <td>0.000557</td>\n",
       "      <td>2042</td>\n",
       "    </tr>\n",
       "    <tr>\n",
       "      <th>34</th>\n",
       "      <td>A2WCZZ304SM5HC</td>\n",
       "      <td>0312385846</td>\n",
       "      <td>1</td>\n",
       "      <td>Oh no he didn't</td>\n",
       "      <td>13</td>\n",
       "      <td>0.000646</td>\n",
       "      <td>1324</td>\n",
       "    </tr>\n",
       "    <tr>\n",
       "      <th>35</th>\n",
       "      <td>A359D655P5XEU4</td>\n",
       "      <td>0312385846</td>\n",
       "      <td>3</td>\n",
       "      <td>Fantastic First Half, Then Downhill</td>\n",
       "      <td>3</td>\n",
       "      <td>0.000463</td>\n",
       "      <td>1479</td>\n",
       "    </tr>\n",
       "    <tr>\n",
       "      <th>36</th>\n",
       "      <td>AN3D3M8MJ07BQ</td>\n",
       "      <td>0312385846</td>\n",
       "      <td>1</td>\n",
       "      <td>HAPPINESS  ABORTED</td>\n",
       "      <td>7</td>\n",
       "      <td>0.001519</td>\n",
       "      <td>2409</td>\n",
       "    </tr>\n",
       "    <tr>\n",
       "      <th>37</th>\n",
       "      <td>AJ8TBV3FD6704</td>\n",
       "      <td>0312385846</td>\n",
       "      <td>5</td>\n",
       "      <td>A true \"page-turner\" in the psychological susp...</td>\n",
       "      <td>6</td>\n",
       "      <td>0.000387</td>\n",
       "      <td>2331</td>\n",
       "    </tr>\n",
       "    <tr>\n",
       "      <th>38</th>\n",
       "      <td>A1ITRGMT80D5TK</td>\n",
       "      <td>0312385846</td>\n",
       "      <td>2</td>\n",
       "      <td>Not that great...</td>\n",
       "      <td>1</td>\n",
       "      <td>0.000604</td>\n",
       "      <td>377</td>\n",
       "    </tr>\n",
       "    <tr>\n",
       "      <th>39</th>\n",
       "      <td>A16QQ78I8J29PA</td>\n",
       "      <td>0312385846</td>\n",
       "      <td>3</td>\n",
       "      <td>Well Written, But A Real Lack of Sympathetic C...</td>\n",
       "      <td>6</td>\n",
       "      <td>0.001929</td>\n",
       "      <td>127</td>\n",
       "    </tr>\n",
       "    <tr>\n",
       "      <th>40</th>\n",
       "      <td>A2OU2NCXK689Z2</td>\n",
       "      <td>0312385846</td>\n",
       "      <td>4</td>\n",
       "      <td>A very promising debut!</td>\n",
       "      <td>2</td>\n",
       "      <td>0.000460</td>\n",
       "      <td>1151</td>\n",
       "    </tr>\n",
       "    <tr>\n",
       "      <th>41</th>\n",
       "      <td>A1EKF9JFF1XWSV</td>\n",
       "      <td>0312385846</td>\n",
       "      <td>4</td>\n",
       "      <td>paranormal thriller that will keep you awake, ...</td>\n",
       "      <td>3</td>\n",
       "      <td>0.000475</td>\n",
       "      <td>283</td>\n",
       "    </tr>\n",
       "    <tr>\n",
       "      <th>42</th>\n",
       "      <td>A2QD4TPD0K4MOI</td>\n",
       "      <td>0312385846</td>\n",
       "      <td>2</td>\n",
       "      <td>Just didn't do it for me.</td>\n",
       "      <td>0</td>\n",
       "      <td>0.000437</td>\n",
       "      <td>1179</td>\n",
       "    </tr>\n",
       "    <tr>\n",
       "      <th>43</th>\n",
       "      <td>A1Q1T811N4IY3Z</td>\n",
       "      <td>0312385846</td>\n",
       "      <td>5</td>\n",
       "      <td>I really enjoyed reading this book</td>\n",
       "      <td>4</td>\n",
       "      <td>0.000382</td>\n",
       "      <td>501</td>\n",
       "    </tr>\n",
       "    <tr>\n",
       "      <th>44</th>\n",
       "      <td>A3QD59N3M7O7KB</td>\n",
       "      <td>0312385846</td>\n",
       "      <td>2</td>\n",
       "      <td>What a Hot mess!</td>\n",
       "      <td>2</td>\n",
       "      <td>0.000598</td>\n",
       "      <td>1919</td>\n",
       "    </tr>\n",
       "    <tr>\n",
       "      <th>45</th>\n",
       "      <td>A1D5RCOILPC9LX</td>\n",
       "      <td>0312385846</td>\n",
       "      <td>2</td>\n",
       "      <td>Bizarre -</td>\n",
       "      <td>4</td>\n",
       "      <td>0.001500</td>\n",
       "      <td>252</td>\n",
       "    </tr>\n",
       "    <tr>\n",
       "      <th>46</th>\n",
       "      <td>A1POFVVXUZR3IQ</td>\n",
       "      <td>0312385846</td>\n",
       "      <td>3</td>\n",
       "      <td>Ultimately, a disappointing entry in the genre</td>\n",
       "      <td>8</td>\n",
       "      <td>0.000653</td>\n",
       "      <td>496</td>\n",
       "    </tr>\n",
       "  </tbody>\n",
       "</table>\n",
       "</div>"
      ],
      "text/plain": [
       "        reviewerId        asin  rating  \\\n",
       "0   A2M4R8R6SU049A  0312385846       5   \n",
       "1    AO7RFXGXSY3LN  0312385846       5   \n",
       "2   A3EUSH8DPW75LR  0312385846       2   \n",
       "3   A2F6N60Z96CAJI  0312385846       5   \n",
       "4    AYT4FJYVCHYLE  0312385846       1   \n",
       "5    AUEW0SKOB1XYF  0312385846       3   \n",
       "6   A3P3U42S4A2YHQ  0312385846       3   \n",
       "7   A27R2V3WLS43LP  0312385846       3   \n",
       "8   A3U5CZ3PV82JXD  0312385846       2   \n",
       "9    AZD8SMNGQI98O  0312385846       4   \n",
       "10  A1EW1OILI6AGGC  0312385846       5   \n",
       "11  A1WKQ94M45D8MG  0312385846       3   \n",
       "12  A1JV4QKTEB7QBL  0312385846       2   \n",
       "13  A15D2X8MICR2VQ  0312385846       3   \n",
       "14  A3JXBZ8F65100O  0312385846       2   \n",
       "15  A3PGGI7A6XCNF1  0312385846       1   \n",
       "16  A1SKNS2DGG46XM  0312385846       2   \n",
       "17  A1Z1DOBASN3YZB  0312385846       4   \n",
       "18  A15QN769N6JEYN  0312385846       3   \n",
       "19  A277GP2U2TXH51  0312385846       2   \n",
       "20  A1143YEAZYMYHJ  0312385846       3   \n",
       "21  A215WH6RUDUCMP  0312385846       3   \n",
       "22  A1WCJEZS66D224  0312385846       2   \n",
       "23  A1W7R5ZAGVOSVQ  0312385846       3   \n",
       "24  A33EVEMS61JYRQ  0312385846       4   \n",
       "25  A28OB1QLXN5BM6  0312385846       2   \n",
       "26  A2O9L2LA6Z5LXJ  0312385846       4   \n",
       "27  A13H5US9Z7L9M7  0312385846       2   \n",
       "28  A2WY52YD5GAEIB  0312385846       2   \n",
       "29  A2QA5L9WUYVATT  0312385846       1   \n",
       "30  A15J71JLC29KPW  0312385846       1   \n",
       "31   AMUP8DYE7EAN2  0312385846       2   \n",
       "32  A3UZSZIL13VQZ2  0312385846       1   \n",
       "33  A3VWGPUMJMVD1I  0312385846       4   \n",
       "34  A2WCZZ304SM5HC  0312385846       1   \n",
       "35  A359D655P5XEU4  0312385846       3   \n",
       "36   AN3D3M8MJ07BQ  0312385846       1   \n",
       "37   AJ8TBV3FD6704  0312385846       5   \n",
       "38  A1ITRGMT80D5TK  0312385846       2   \n",
       "39  A16QQ78I8J29PA  0312385846       3   \n",
       "40  A2OU2NCXK689Z2  0312385846       4   \n",
       "41  A1EKF9JFF1XWSV  0312385846       4   \n",
       "42  A2QD4TPD0K4MOI  0312385846       2   \n",
       "43  A1Q1T811N4IY3Z  0312385846       5   \n",
       "44  A3QD59N3M7O7KB  0312385846       2   \n",
       "45  A1D5RCOILPC9LX  0312385846       2   \n",
       "46  A1POFVVXUZR3IQ  0312385846       3   \n",
       "\n",
       "                                              summary  total_votes  distance  \\\n",
       "0                     Mammamia!  A really scary book!            7  0.000500   \n",
       "1   Fantastic novel that combines history, ghosts ...            9  0.000440   \n",
       "2                                      Just plain bad            4  0.000448   \n",
       "3   Ransom's debut novel grabs hold and doesn't le...            4  0.001988   \n",
       "4                         Wow. What A Disappointment.           27  0.001083   \n",
       "5                                    Pretty good read            2  0.000365   \n",
       "6                           A twisted mess of a novel            3  0.000514   \n",
       "7                                        Wanting more            3  0.001839   \n",
       "8                           Too confusing to be scary            1  0.000549   \n",
       "9                            Almost a Five Star Read!            4  0.000439   \n",
       "10                                  Great Ghost Story            4  0.001256   \n",
       "11                       What happened in this house?            4  0.001056   \n",
       "12                                        Death Drive            3  0.000801   \n",
       "13                   Was drawn in immediately but....            2  0.000413   \n",
       "14                           Convoluted and Confusing            2  0.000545   \n",
       "15                          Just couldn't get into it            7  0.000640   \n",
       "16                                         Still Born            5  0.000869   \n",
       "17                         A Great Little Ghost Story            2  0.000441   \n",
       "18                            Very Creepy Debut Novel            5  0.000406   \n",
       "19                               didn't click with me            2  0.000819   \n",
       "20                Started Strong But Couldn't Deliver            5  0.000470   \n",
       "21                                        Decent Read            4  0.000642   \n",
       "22       Lack of follow through made for a weak read.            0  0.001102   \n",
       "23           Weird, Dark and Disconnected Ghost Story           12  0.000634   \n",
       "24                               Incredible suspense!            2  0.000849   \n",
       "25                           Nope...Just Doesn't Work           13  0.000421   \n",
       "26                           well written ghost story            3  0.000487   \n",
       "27                                            Fizzled            3  0.000764   \n",
       "28                              A Tough One to Review            2  0.000795   \n",
       "29                        Find something else to read            6  0.000470   \n",
       "30                 Started out great, then fell apart            2  0.000502   \n",
       "31                                 Late Term Abortion            2  0.000611   \n",
       "32        I'm not even sure what happened at the end!           19  0.001230   \n",
       "33                             Do men get baby fever?            5  0.000557   \n",
       "34                                    Oh no he didn't           13  0.000646   \n",
       "35                Fantastic First Half, Then Downhill            3  0.000463   \n",
       "36                                 HAPPINESS  ABORTED            7  0.001519   \n",
       "37  A true \"page-turner\" in the psychological susp...            6  0.000387   \n",
       "38                                  Not that great...            1  0.000604   \n",
       "39  Well Written, But A Real Lack of Sympathetic C...            6  0.001929   \n",
       "40                            A very promising debut!            2  0.000460   \n",
       "41  paranormal thriller that will keep you awake, ...            3  0.000475   \n",
       "42                          Just didn't do it for me.            0  0.000437   \n",
       "43                 I really enjoyed reading this book            4  0.000382   \n",
       "44                                   What a Hot mess!            2  0.000598   \n",
       "45                                          Bizarre -            4  0.001500   \n",
       "46     Ultimately, a disappointing entry in the genre            8  0.000653   \n",
       "\n",
       "    r_label  \n",
       "0      1088  \n",
       "1      2434  \n",
       "2      1667  \n",
       "3       973  \n",
       "4      2625  \n",
       "5      2550  \n",
       "6      1897  \n",
       "7       837  \n",
       "8      2009  \n",
       "9      2636  \n",
       "10      289  \n",
       "11      629  \n",
       "12      399  \n",
       "13      104  \n",
       "14     1770  \n",
       "15     1906  \n",
       "16      553  \n",
       "17      677  \n",
       "18      111  \n",
       "19      824  \n",
       "20       21  \n",
       "21      717  \n",
       "22      624  \n",
       "23      623  \n",
       "24     1444  \n",
       "25      857  \n",
       "26     1137  \n",
       "27       71  \n",
       "28     1335  \n",
       "29     1178  \n",
       "30      106  \n",
       "31     2402  \n",
       "32     2023  \n",
       "33     2042  \n",
       "34     1324  \n",
       "35     1479  \n",
       "36     2409  \n",
       "37     2331  \n",
       "38      377  \n",
       "39      127  \n",
       "40     1151  \n",
       "41      283  \n",
       "42     1179  \n",
       "43      501  \n",
       "44     1919  \n",
       "45      252  \n",
       "46      496  "
      ]
     },
     "execution_count": 17,
     "metadata": {},
     "output_type": "execute_result"
    }
   ],
   "source": [
    "reviews_example = df_sub[df_sub.asin == pref_matrix.columns[book]]\n",
    "reviews_example = reviews_example.merge(sorted_reviewers, on ='reviewerId')\n",
    "reviews_example"
   ]
  },
  {
   "cell_type": "code",
   "execution_count": 18,
   "metadata": {
    "ExecuteTime": {
     "end_time": "2020-05-12T09:21:20.197869Z",
     "start_time": "2020-05-12T09:21:20.139233Z"
    },
    "hidden": true,
    "scrolled": true
   },
   "outputs": [
    {
     "data": {
      "text/html": [
       "<div>\n",
       "<style scoped>\n",
       "    .dataframe tbody tr th:only-of-type {\n",
       "        vertical-align: middle;\n",
       "    }\n",
       "\n",
       "    .dataframe tbody tr th {\n",
       "        vertical-align: top;\n",
       "    }\n",
       "\n",
       "    .dataframe thead th {\n",
       "        text-align: right;\n",
       "    }\n",
       "</style>\n",
       "<table border=\"1\" class=\"dataframe\">\n",
       "  <thead>\n",
       "    <tr style=\"text-align: right;\">\n",
       "      <th></th>\n",
       "      <th>reviewerId</th>\n",
       "      <th>asin</th>\n",
       "      <th>rating</th>\n",
       "      <th>summary</th>\n",
       "      <th>total_votes</th>\n",
       "      <th>distance</th>\n",
       "      <th>r_label</th>\n",
       "    </tr>\n",
       "  </thead>\n",
       "  <tbody>\n",
       "    <tr>\n",
       "      <th>4</th>\n",
       "      <td>AYT4FJYVCHYLE</td>\n",
       "      <td>0312385846</td>\n",
       "      <td>1</td>\n",
       "      <td>Wow. What A Disappointment.</td>\n",
       "      <td>27</td>\n",
       "      <td>0.001083</td>\n",
       "      <td>2625</td>\n",
       "    </tr>\n",
       "    <tr>\n",
       "      <th>32</th>\n",
       "      <td>A3UZSZIL13VQZ2</td>\n",
       "      <td>0312385846</td>\n",
       "      <td>1</td>\n",
       "      <td>I'm not even sure what happened at the end!</td>\n",
       "      <td>19</td>\n",
       "      <td>0.001230</td>\n",
       "      <td>2023</td>\n",
       "    </tr>\n",
       "    <tr>\n",
       "      <th>34</th>\n",
       "      <td>A2WCZZ304SM5HC</td>\n",
       "      <td>0312385846</td>\n",
       "      <td>1</td>\n",
       "      <td>Oh no he didn't</td>\n",
       "      <td>13</td>\n",
       "      <td>0.000646</td>\n",
       "      <td>1324</td>\n",
       "    </tr>\n",
       "    <tr>\n",
       "      <th>25</th>\n",
       "      <td>A28OB1QLXN5BM6</td>\n",
       "      <td>0312385846</td>\n",
       "      <td>2</td>\n",
       "      <td>Nope...Just Doesn't Work</td>\n",
       "      <td>13</td>\n",
       "      <td>0.000421</td>\n",
       "      <td>857</td>\n",
       "    </tr>\n",
       "    <tr>\n",
       "      <th>23</th>\n",
       "      <td>A1W7R5ZAGVOSVQ</td>\n",
       "      <td>0312385846</td>\n",
       "      <td>3</td>\n",
       "      <td>Weird, Dark and Disconnected Ghost Story</td>\n",
       "      <td>12</td>\n",
       "      <td>0.000634</td>\n",
       "      <td>623</td>\n",
       "    </tr>\n",
       "    <tr>\n",
       "      <th>1</th>\n",
       "      <td>AO7RFXGXSY3LN</td>\n",
       "      <td>0312385846</td>\n",
       "      <td>5</td>\n",
       "      <td>Fantastic novel that combines history, ghosts ...</td>\n",
       "      <td>9</td>\n",
       "      <td>0.000440</td>\n",
       "      <td>2434</td>\n",
       "    </tr>\n",
       "    <tr>\n",
       "      <th>46</th>\n",
       "      <td>A1POFVVXUZR3IQ</td>\n",
       "      <td>0312385846</td>\n",
       "      <td>3</td>\n",
       "      <td>Ultimately, a disappointing entry in the genre</td>\n",
       "      <td>8</td>\n",
       "      <td>0.000653</td>\n",
       "      <td>496</td>\n",
       "    </tr>\n",
       "    <tr>\n",
       "      <th>0</th>\n",
       "      <td>A2M4R8R6SU049A</td>\n",
       "      <td>0312385846</td>\n",
       "      <td>5</td>\n",
       "      <td>Mammamia!  A really scary book!</td>\n",
       "      <td>7</td>\n",
       "      <td>0.000500</td>\n",
       "      <td>1088</td>\n",
       "    </tr>\n",
       "    <tr>\n",
       "      <th>15</th>\n",
       "      <td>A3PGGI7A6XCNF1</td>\n",
       "      <td>0312385846</td>\n",
       "      <td>1</td>\n",
       "      <td>Just couldn't get into it</td>\n",
       "      <td>7</td>\n",
       "      <td>0.000640</td>\n",
       "      <td>1906</td>\n",
       "    </tr>\n",
       "    <tr>\n",
       "      <th>36</th>\n",
       "      <td>AN3D3M8MJ07BQ</td>\n",
       "      <td>0312385846</td>\n",
       "      <td>1</td>\n",
       "      <td>HAPPINESS  ABORTED</td>\n",
       "      <td>7</td>\n",
       "      <td>0.001519</td>\n",
       "      <td>2409</td>\n",
       "    </tr>\n",
       "    <tr>\n",
       "      <th>37</th>\n",
       "      <td>AJ8TBV3FD6704</td>\n",
       "      <td>0312385846</td>\n",
       "      <td>5</td>\n",
       "      <td>A true \"page-turner\" in the psychological susp...</td>\n",
       "      <td>6</td>\n",
       "      <td>0.000387</td>\n",
       "      <td>2331</td>\n",
       "    </tr>\n",
       "    <tr>\n",
       "      <th>29</th>\n",
       "      <td>A2QA5L9WUYVATT</td>\n",
       "      <td>0312385846</td>\n",
       "      <td>1</td>\n",
       "      <td>Find something else to read</td>\n",
       "      <td>6</td>\n",
       "      <td>0.000470</td>\n",
       "      <td>1178</td>\n",
       "    </tr>\n",
       "    <tr>\n",
       "      <th>39</th>\n",
       "      <td>A16QQ78I8J29PA</td>\n",
       "      <td>0312385846</td>\n",
       "      <td>3</td>\n",
       "      <td>Well Written, But A Real Lack of Sympathetic C...</td>\n",
       "      <td>6</td>\n",
       "      <td>0.001929</td>\n",
       "      <td>127</td>\n",
       "    </tr>\n",
       "    <tr>\n",
       "      <th>16</th>\n",
       "      <td>A1SKNS2DGG46XM</td>\n",
       "      <td>0312385846</td>\n",
       "      <td>2</td>\n",
       "      <td>Still Born</td>\n",
       "      <td>5</td>\n",
       "      <td>0.000869</td>\n",
       "      <td>553</td>\n",
       "    </tr>\n",
       "    <tr>\n",
       "      <th>18</th>\n",
       "      <td>A15QN769N6JEYN</td>\n",
       "      <td>0312385846</td>\n",
       "      <td>3</td>\n",
       "      <td>Very Creepy Debut Novel</td>\n",
       "      <td>5</td>\n",
       "      <td>0.000406</td>\n",
       "      <td>111</td>\n",
       "    </tr>\n",
       "    <tr>\n",
       "      <th>20</th>\n",
       "      <td>A1143YEAZYMYHJ</td>\n",
       "      <td>0312385846</td>\n",
       "      <td>3</td>\n",
       "      <td>Started Strong But Couldn't Deliver</td>\n",
       "      <td>5</td>\n",
       "      <td>0.000470</td>\n",
       "      <td>21</td>\n",
       "    </tr>\n",
       "    <tr>\n",
       "      <th>33</th>\n",
       "      <td>A3VWGPUMJMVD1I</td>\n",
       "      <td>0312385846</td>\n",
       "      <td>4</td>\n",
       "      <td>Do men get baby fever?</td>\n",
       "      <td>5</td>\n",
       "      <td>0.000557</td>\n",
       "      <td>2042</td>\n",
       "    </tr>\n",
       "    <tr>\n",
       "      <th>43</th>\n",
       "      <td>A1Q1T811N4IY3Z</td>\n",
       "      <td>0312385846</td>\n",
       "      <td>5</td>\n",
       "      <td>I really enjoyed reading this book</td>\n",
       "      <td>4</td>\n",
       "      <td>0.000382</td>\n",
       "      <td>501</td>\n",
       "    </tr>\n",
       "    <tr>\n",
       "      <th>45</th>\n",
       "      <td>A1D5RCOILPC9LX</td>\n",
       "      <td>0312385846</td>\n",
       "      <td>2</td>\n",
       "      <td>Bizarre -</td>\n",
       "      <td>4</td>\n",
       "      <td>0.001500</td>\n",
       "      <td>252</td>\n",
       "    </tr>\n",
       "    <tr>\n",
       "      <th>11</th>\n",
       "      <td>A1WKQ94M45D8MG</td>\n",
       "      <td>0312385846</td>\n",
       "      <td>3</td>\n",
       "      <td>What happened in this house?</td>\n",
       "      <td>4</td>\n",
       "      <td>0.001056</td>\n",
       "      <td>629</td>\n",
       "    </tr>\n",
       "    <tr>\n",
       "      <th>10</th>\n",
       "      <td>A1EW1OILI6AGGC</td>\n",
       "      <td>0312385846</td>\n",
       "      <td>5</td>\n",
       "      <td>Great Ghost Story</td>\n",
       "      <td>4</td>\n",
       "      <td>0.001256</td>\n",
       "      <td>289</td>\n",
       "    </tr>\n",
       "    <tr>\n",
       "      <th>21</th>\n",
       "      <td>A215WH6RUDUCMP</td>\n",
       "      <td>0312385846</td>\n",
       "      <td>3</td>\n",
       "      <td>Decent Read</td>\n",
       "      <td>4</td>\n",
       "      <td>0.000642</td>\n",
       "      <td>717</td>\n",
       "    </tr>\n",
       "    <tr>\n",
       "      <th>9</th>\n",
       "      <td>AZD8SMNGQI98O</td>\n",
       "      <td>0312385846</td>\n",
       "      <td>4</td>\n",
       "      <td>Almost a Five Star Read!</td>\n",
       "      <td>4</td>\n",
       "      <td>0.000439</td>\n",
       "      <td>2636</td>\n",
       "    </tr>\n",
       "    <tr>\n",
       "      <th>2</th>\n",
       "      <td>A3EUSH8DPW75LR</td>\n",
       "      <td>0312385846</td>\n",
       "      <td>2</td>\n",
       "      <td>Just plain bad</td>\n",
       "      <td>4</td>\n",
       "      <td>0.000448</td>\n",
       "      <td>1667</td>\n",
       "    </tr>\n",
       "    <tr>\n",
       "      <th>3</th>\n",
       "      <td>A2F6N60Z96CAJI</td>\n",
       "      <td>0312385846</td>\n",
       "      <td>5</td>\n",
       "      <td>Ransom's debut novel grabs hold and doesn't le...</td>\n",
       "      <td>4</td>\n",
       "      <td>0.001988</td>\n",
       "      <td>973</td>\n",
       "    </tr>\n",
       "    <tr>\n",
       "      <th>41</th>\n",
       "      <td>A1EKF9JFF1XWSV</td>\n",
       "      <td>0312385846</td>\n",
       "      <td>4</td>\n",
       "      <td>paranormal thriller that will keep you awake, ...</td>\n",
       "      <td>3</td>\n",
       "      <td>0.000475</td>\n",
       "      <td>283</td>\n",
       "    </tr>\n",
       "    <tr>\n",
       "      <th>35</th>\n",
       "      <td>A359D655P5XEU4</td>\n",
       "      <td>0312385846</td>\n",
       "      <td>3</td>\n",
       "      <td>Fantastic First Half, Then Downhill</td>\n",
       "      <td>3</td>\n",
       "      <td>0.000463</td>\n",
       "      <td>1479</td>\n",
       "    </tr>\n",
       "    <tr>\n",
       "      <th>7</th>\n",
       "      <td>A27R2V3WLS43LP</td>\n",
       "      <td>0312385846</td>\n",
       "      <td>3</td>\n",
       "      <td>Wanting more</td>\n",
       "      <td>3</td>\n",
       "      <td>0.001839</td>\n",
       "      <td>837</td>\n",
       "    </tr>\n",
       "    <tr>\n",
       "      <th>27</th>\n",
       "      <td>A13H5US9Z7L9M7</td>\n",
       "      <td>0312385846</td>\n",
       "      <td>2</td>\n",
       "      <td>Fizzled</td>\n",
       "      <td>3</td>\n",
       "      <td>0.000764</td>\n",
       "      <td>71</td>\n",
       "    </tr>\n",
       "    <tr>\n",
       "      <th>12</th>\n",
       "      <td>A1JV4QKTEB7QBL</td>\n",
       "      <td>0312385846</td>\n",
       "      <td>2</td>\n",
       "      <td>Death Drive</td>\n",
       "      <td>3</td>\n",
       "      <td>0.000801</td>\n",
       "      <td>399</td>\n",
       "    </tr>\n",
       "    <tr>\n",
       "      <th>26</th>\n",
       "      <td>A2O9L2LA6Z5LXJ</td>\n",
       "      <td>0312385846</td>\n",
       "      <td>4</td>\n",
       "      <td>well written ghost story</td>\n",
       "      <td>3</td>\n",
       "      <td>0.000487</td>\n",
       "      <td>1137</td>\n",
       "    </tr>\n",
       "    <tr>\n",
       "      <th>6</th>\n",
       "      <td>A3P3U42S4A2YHQ</td>\n",
       "      <td>0312385846</td>\n",
       "      <td>3</td>\n",
       "      <td>A twisted mess of a novel</td>\n",
       "      <td>3</td>\n",
       "      <td>0.000514</td>\n",
       "      <td>1897</td>\n",
       "    </tr>\n",
       "    <tr>\n",
       "      <th>17</th>\n",
       "      <td>A1Z1DOBASN3YZB</td>\n",
       "      <td>0312385846</td>\n",
       "      <td>4</td>\n",
       "      <td>A Great Little Ghost Story</td>\n",
       "      <td>2</td>\n",
       "      <td>0.000441</td>\n",
       "      <td>677</td>\n",
       "    </tr>\n",
       "    <tr>\n",
       "      <th>44</th>\n",
       "      <td>A3QD59N3M7O7KB</td>\n",
       "      <td>0312385846</td>\n",
       "      <td>2</td>\n",
       "      <td>What a Hot mess!</td>\n",
       "      <td>2</td>\n",
       "      <td>0.000598</td>\n",
       "      <td>1919</td>\n",
       "    </tr>\n",
       "    <tr>\n",
       "      <th>13</th>\n",
       "      <td>A15D2X8MICR2VQ</td>\n",
       "      <td>0312385846</td>\n",
       "      <td>3</td>\n",
       "      <td>Was drawn in immediately but....</td>\n",
       "      <td>2</td>\n",
       "      <td>0.000413</td>\n",
       "      <td>104</td>\n",
       "    </tr>\n",
       "    <tr>\n",
       "      <th>14</th>\n",
       "      <td>A3JXBZ8F65100O</td>\n",
       "      <td>0312385846</td>\n",
       "      <td>2</td>\n",
       "      <td>Convoluted and Confusing</td>\n",
       "      <td>2</td>\n",
       "      <td>0.000545</td>\n",
       "      <td>1770</td>\n",
       "    </tr>\n",
       "    <tr>\n",
       "      <th>40</th>\n",
       "      <td>A2OU2NCXK689Z2</td>\n",
       "      <td>0312385846</td>\n",
       "      <td>4</td>\n",
       "      <td>A very promising debut!</td>\n",
       "      <td>2</td>\n",
       "      <td>0.000460</td>\n",
       "      <td>1151</td>\n",
       "    </tr>\n",
       "    <tr>\n",
       "      <th>28</th>\n",
       "      <td>A2WY52YD5GAEIB</td>\n",
       "      <td>0312385846</td>\n",
       "      <td>2</td>\n",
       "      <td>A Tough One to Review</td>\n",
       "      <td>2</td>\n",
       "      <td>0.000795</td>\n",
       "      <td>1335</td>\n",
       "    </tr>\n",
       "    <tr>\n",
       "      <th>24</th>\n",
       "      <td>A33EVEMS61JYRQ</td>\n",
       "      <td>0312385846</td>\n",
       "      <td>4</td>\n",
       "      <td>Incredible suspense!</td>\n",
       "      <td>2</td>\n",
       "      <td>0.000849</td>\n",
       "      <td>1444</td>\n",
       "    </tr>\n",
       "    <tr>\n",
       "      <th>5</th>\n",
       "      <td>AUEW0SKOB1XYF</td>\n",
       "      <td>0312385846</td>\n",
       "      <td>3</td>\n",
       "      <td>Pretty good read</td>\n",
       "      <td>2</td>\n",
       "      <td>0.000365</td>\n",
       "      <td>2550</td>\n",
       "    </tr>\n",
       "    <tr>\n",
       "      <th>31</th>\n",
       "      <td>AMUP8DYE7EAN2</td>\n",
       "      <td>0312385846</td>\n",
       "      <td>2</td>\n",
       "      <td>Late Term Abortion</td>\n",
       "      <td>2</td>\n",
       "      <td>0.000611</td>\n",
       "      <td>2402</td>\n",
       "    </tr>\n",
       "    <tr>\n",
       "      <th>30</th>\n",
       "      <td>A15J71JLC29KPW</td>\n",
       "      <td>0312385846</td>\n",
       "      <td>1</td>\n",
       "      <td>Started out great, then fell apart</td>\n",
       "      <td>2</td>\n",
       "      <td>0.000502</td>\n",
       "      <td>106</td>\n",
       "    </tr>\n",
       "    <tr>\n",
       "      <th>19</th>\n",
       "      <td>A277GP2U2TXH51</td>\n",
       "      <td>0312385846</td>\n",
       "      <td>2</td>\n",
       "      <td>didn't click with me</td>\n",
       "      <td>2</td>\n",
       "      <td>0.000819</td>\n",
       "      <td>824</td>\n",
       "    </tr>\n",
       "    <tr>\n",
       "      <th>38</th>\n",
       "      <td>A1ITRGMT80D5TK</td>\n",
       "      <td>0312385846</td>\n",
       "      <td>2</td>\n",
       "      <td>Not that great...</td>\n",
       "      <td>1</td>\n",
       "      <td>0.000604</td>\n",
       "      <td>377</td>\n",
       "    </tr>\n",
       "    <tr>\n",
       "      <th>8</th>\n",
       "      <td>A3U5CZ3PV82JXD</td>\n",
       "      <td>0312385846</td>\n",
       "      <td>2</td>\n",
       "      <td>Too confusing to be scary</td>\n",
       "      <td>1</td>\n",
       "      <td>0.000549</td>\n",
       "      <td>2009</td>\n",
       "    </tr>\n",
       "    <tr>\n",
       "      <th>22</th>\n",
       "      <td>A1WCJEZS66D224</td>\n",
       "      <td>0312385846</td>\n",
       "      <td>2</td>\n",
       "      <td>Lack of follow through made for a weak read.</td>\n",
       "      <td>0</td>\n",
       "      <td>0.001102</td>\n",
       "      <td>624</td>\n",
       "    </tr>\n",
       "    <tr>\n",
       "      <th>42</th>\n",
       "      <td>A2QD4TPD0K4MOI</td>\n",
       "      <td>0312385846</td>\n",
       "      <td>2</td>\n",
       "      <td>Just didn't do it for me.</td>\n",
       "      <td>0</td>\n",
       "      <td>0.000437</td>\n",
       "      <td>1179</td>\n",
       "    </tr>\n",
       "  </tbody>\n",
       "</table>\n",
       "</div>"
      ],
      "text/plain": [
       "        reviewerId        asin  rating  \\\n",
       "4    AYT4FJYVCHYLE  0312385846       1   \n",
       "32  A3UZSZIL13VQZ2  0312385846       1   \n",
       "34  A2WCZZ304SM5HC  0312385846       1   \n",
       "25  A28OB1QLXN5BM6  0312385846       2   \n",
       "23  A1W7R5ZAGVOSVQ  0312385846       3   \n",
       "1    AO7RFXGXSY3LN  0312385846       5   \n",
       "46  A1POFVVXUZR3IQ  0312385846       3   \n",
       "0   A2M4R8R6SU049A  0312385846       5   \n",
       "15  A3PGGI7A6XCNF1  0312385846       1   \n",
       "36   AN3D3M8MJ07BQ  0312385846       1   \n",
       "37   AJ8TBV3FD6704  0312385846       5   \n",
       "29  A2QA5L9WUYVATT  0312385846       1   \n",
       "39  A16QQ78I8J29PA  0312385846       3   \n",
       "16  A1SKNS2DGG46XM  0312385846       2   \n",
       "18  A15QN769N6JEYN  0312385846       3   \n",
       "20  A1143YEAZYMYHJ  0312385846       3   \n",
       "33  A3VWGPUMJMVD1I  0312385846       4   \n",
       "43  A1Q1T811N4IY3Z  0312385846       5   \n",
       "45  A1D5RCOILPC9LX  0312385846       2   \n",
       "11  A1WKQ94M45D8MG  0312385846       3   \n",
       "10  A1EW1OILI6AGGC  0312385846       5   \n",
       "21  A215WH6RUDUCMP  0312385846       3   \n",
       "9    AZD8SMNGQI98O  0312385846       4   \n",
       "2   A3EUSH8DPW75LR  0312385846       2   \n",
       "3   A2F6N60Z96CAJI  0312385846       5   \n",
       "41  A1EKF9JFF1XWSV  0312385846       4   \n",
       "35  A359D655P5XEU4  0312385846       3   \n",
       "7   A27R2V3WLS43LP  0312385846       3   \n",
       "27  A13H5US9Z7L9M7  0312385846       2   \n",
       "12  A1JV4QKTEB7QBL  0312385846       2   \n",
       "26  A2O9L2LA6Z5LXJ  0312385846       4   \n",
       "6   A3P3U42S4A2YHQ  0312385846       3   \n",
       "17  A1Z1DOBASN3YZB  0312385846       4   \n",
       "44  A3QD59N3M7O7KB  0312385846       2   \n",
       "13  A15D2X8MICR2VQ  0312385846       3   \n",
       "14  A3JXBZ8F65100O  0312385846       2   \n",
       "40  A2OU2NCXK689Z2  0312385846       4   \n",
       "28  A2WY52YD5GAEIB  0312385846       2   \n",
       "24  A33EVEMS61JYRQ  0312385846       4   \n",
       "5    AUEW0SKOB1XYF  0312385846       3   \n",
       "31   AMUP8DYE7EAN2  0312385846       2   \n",
       "30  A15J71JLC29KPW  0312385846       1   \n",
       "19  A277GP2U2TXH51  0312385846       2   \n",
       "38  A1ITRGMT80D5TK  0312385846       2   \n",
       "8   A3U5CZ3PV82JXD  0312385846       2   \n",
       "22  A1WCJEZS66D224  0312385846       2   \n",
       "42  A2QD4TPD0K4MOI  0312385846       2   \n",
       "\n",
       "                                              summary  total_votes  distance  \\\n",
       "4                         Wow. What A Disappointment.           27  0.001083   \n",
       "32        I'm not even sure what happened at the end!           19  0.001230   \n",
       "34                                    Oh no he didn't           13  0.000646   \n",
       "25                           Nope...Just Doesn't Work           13  0.000421   \n",
       "23           Weird, Dark and Disconnected Ghost Story           12  0.000634   \n",
       "1   Fantastic novel that combines history, ghosts ...            9  0.000440   \n",
       "46     Ultimately, a disappointing entry in the genre            8  0.000653   \n",
       "0                     Mammamia!  A really scary book!            7  0.000500   \n",
       "15                          Just couldn't get into it            7  0.000640   \n",
       "36                                 HAPPINESS  ABORTED            7  0.001519   \n",
       "37  A true \"page-turner\" in the psychological susp...            6  0.000387   \n",
       "29                        Find something else to read            6  0.000470   \n",
       "39  Well Written, But A Real Lack of Sympathetic C...            6  0.001929   \n",
       "16                                         Still Born            5  0.000869   \n",
       "18                            Very Creepy Debut Novel            5  0.000406   \n",
       "20                Started Strong But Couldn't Deliver            5  0.000470   \n",
       "33                             Do men get baby fever?            5  0.000557   \n",
       "43                 I really enjoyed reading this book            4  0.000382   \n",
       "45                                          Bizarre -            4  0.001500   \n",
       "11                       What happened in this house?            4  0.001056   \n",
       "10                                  Great Ghost Story            4  0.001256   \n",
       "21                                        Decent Read            4  0.000642   \n",
       "9                            Almost a Five Star Read!            4  0.000439   \n",
       "2                                      Just plain bad            4  0.000448   \n",
       "3   Ransom's debut novel grabs hold and doesn't le...            4  0.001988   \n",
       "41  paranormal thriller that will keep you awake, ...            3  0.000475   \n",
       "35                Fantastic First Half, Then Downhill            3  0.000463   \n",
       "7                                        Wanting more            3  0.001839   \n",
       "27                                            Fizzled            3  0.000764   \n",
       "12                                        Death Drive            3  0.000801   \n",
       "26                           well written ghost story            3  0.000487   \n",
       "6                           A twisted mess of a novel            3  0.000514   \n",
       "17                         A Great Little Ghost Story            2  0.000441   \n",
       "44                                   What a Hot mess!            2  0.000598   \n",
       "13                   Was drawn in immediately but....            2  0.000413   \n",
       "14                           Convoluted and Confusing            2  0.000545   \n",
       "40                            A very promising debut!            2  0.000460   \n",
       "28                              A Tough One to Review            2  0.000795   \n",
       "24                               Incredible suspense!            2  0.000849   \n",
       "5                                    Pretty good read            2  0.000365   \n",
       "31                                 Late Term Abortion            2  0.000611   \n",
       "30                 Started out great, then fell apart            2  0.000502   \n",
       "19                               didn't click with me            2  0.000819   \n",
       "38                                  Not that great...            1  0.000604   \n",
       "8                           Too confusing to be scary            1  0.000549   \n",
       "22       Lack of follow through made for a weak read.            0  0.001102   \n",
       "42                          Just didn't do it for me.            0  0.000437   \n",
       "\n",
       "    r_label  \n",
       "4      2625  \n",
       "32     2023  \n",
       "34     1324  \n",
       "25      857  \n",
       "23      623  \n",
       "1      2434  \n",
       "46      496  \n",
       "0      1088  \n",
       "15     1906  \n",
       "36     2409  \n",
       "37     2331  \n",
       "29     1178  \n",
       "39      127  \n",
       "16      553  \n",
       "18      111  \n",
       "20       21  \n",
       "33     2042  \n",
       "43      501  \n",
       "45      252  \n",
       "11      629  \n",
       "10      289  \n",
       "21      717  \n",
       "9      2636  \n",
       "2      1667  \n",
       "3       973  \n",
       "41      283  \n",
       "35     1479  \n",
       "7       837  \n",
       "27       71  \n",
       "12      399  \n",
       "26     1137  \n",
       "6      1897  \n",
       "17      677  \n",
       "44     1919  \n",
       "13      104  \n",
       "14     1770  \n",
       "40     1151  \n",
       "28     1335  \n",
       "24     1444  \n",
       "5      2550  \n",
       "31     2402  \n",
       "30      106  \n",
       "19      824  \n",
       "38      377  \n",
       "8      2009  \n",
       "22      624  \n",
       "42     1179  "
      ]
     },
     "execution_count": 18,
     "metadata": {},
     "output_type": "execute_result"
    }
   ],
   "source": [
    "reviews_example.sort_values(by='total_votes', ascending = False)"
   ]
  },
  {
   "cell_type": "code",
   "execution_count": 21,
   "metadata": {
    "ExecuteTime": {
     "end_time": "2020-05-12T09:21:43.030298Z",
     "start_time": "2020-05-12T09:21:42.963136Z"
    },
    "hidden": true,
    "scrolled": false
   },
   "outputs": [
    {
     "data": {
      "text/html": [
       "<div>\n",
       "<style scoped>\n",
       "    .dataframe tbody tr th:only-of-type {\n",
       "        vertical-align: middle;\n",
       "    }\n",
       "\n",
       "    .dataframe tbody tr th {\n",
       "        vertical-align: top;\n",
       "    }\n",
       "\n",
       "    .dataframe thead th {\n",
       "        text-align: right;\n",
       "    }\n",
       "</style>\n",
       "<table border=\"1\" class=\"dataframe\">\n",
       "  <thead>\n",
       "    <tr style=\"text-align: right;\">\n",
       "      <th></th>\n",
       "      <th>reviewerId</th>\n",
       "      <th>asin</th>\n",
       "      <th>rating</th>\n",
       "      <th>summary</th>\n",
       "      <th>total_votes</th>\n",
       "      <th>distance</th>\n",
       "      <th>r_label</th>\n",
       "    </tr>\n",
       "  </thead>\n",
       "  <tbody>\n",
       "    <tr>\n",
       "      <th>5</th>\n",
       "      <td>AUEW0SKOB1XYF</td>\n",
       "      <td>0312385846</td>\n",
       "      <td>3</td>\n",
       "      <td>Pretty good read</td>\n",
       "      <td>2</td>\n",
       "      <td>0.000365</td>\n",
       "      <td>2550</td>\n",
       "    </tr>\n",
       "    <tr>\n",
       "      <th>43</th>\n",
       "      <td>A1Q1T811N4IY3Z</td>\n",
       "      <td>0312385846</td>\n",
       "      <td>5</td>\n",
       "      <td>I really enjoyed reading this book</td>\n",
       "      <td>4</td>\n",
       "      <td>0.000382</td>\n",
       "      <td>501</td>\n",
       "    </tr>\n",
       "    <tr>\n",
       "      <th>37</th>\n",
       "      <td>AJ8TBV3FD6704</td>\n",
       "      <td>0312385846</td>\n",
       "      <td>5</td>\n",
       "      <td>A true \"page-turner\" in the psychological susp...</td>\n",
       "      <td>6</td>\n",
       "      <td>0.000387</td>\n",
       "      <td>2331</td>\n",
       "    </tr>\n",
       "    <tr>\n",
       "      <th>18</th>\n",
       "      <td>A15QN769N6JEYN</td>\n",
       "      <td>0312385846</td>\n",
       "      <td>3</td>\n",
       "      <td>Very Creepy Debut Novel</td>\n",
       "      <td>5</td>\n",
       "      <td>0.000406</td>\n",
       "      <td>111</td>\n",
       "    </tr>\n",
       "    <tr>\n",
       "      <th>13</th>\n",
       "      <td>A15D2X8MICR2VQ</td>\n",
       "      <td>0312385846</td>\n",
       "      <td>3</td>\n",
       "      <td>Was drawn in immediately but....</td>\n",
       "      <td>2</td>\n",
       "      <td>0.000413</td>\n",
       "      <td>104</td>\n",
       "    </tr>\n",
       "    <tr>\n",
       "      <th>25</th>\n",
       "      <td>A28OB1QLXN5BM6</td>\n",
       "      <td>0312385846</td>\n",
       "      <td>2</td>\n",
       "      <td>Nope...Just Doesn't Work</td>\n",
       "      <td>13</td>\n",
       "      <td>0.000421</td>\n",
       "      <td>857</td>\n",
       "    </tr>\n",
       "    <tr>\n",
       "      <th>42</th>\n",
       "      <td>A2QD4TPD0K4MOI</td>\n",
       "      <td>0312385846</td>\n",
       "      <td>2</td>\n",
       "      <td>Just didn't do it for me.</td>\n",
       "      <td>0</td>\n",
       "      <td>0.000437</td>\n",
       "      <td>1179</td>\n",
       "    </tr>\n",
       "    <tr>\n",
       "      <th>9</th>\n",
       "      <td>AZD8SMNGQI98O</td>\n",
       "      <td>0312385846</td>\n",
       "      <td>4</td>\n",
       "      <td>Almost a Five Star Read!</td>\n",
       "      <td>4</td>\n",
       "      <td>0.000439</td>\n",
       "      <td>2636</td>\n",
       "    </tr>\n",
       "    <tr>\n",
       "      <th>1</th>\n",
       "      <td>AO7RFXGXSY3LN</td>\n",
       "      <td>0312385846</td>\n",
       "      <td>5</td>\n",
       "      <td>Fantastic novel that combines history, ghosts ...</td>\n",
       "      <td>9</td>\n",
       "      <td>0.000440</td>\n",
       "      <td>2434</td>\n",
       "    </tr>\n",
       "    <tr>\n",
       "      <th>17</th>\n",
       "      <td>A1Z1DOBASN3YZB</td>\n",
       "      <td>0312385846</td>\n",
       "      <td>4</td>\n",
       "      <td>A Great Little Ghost Story</td>\n",
       "      <td>2</td>\n",
       "      <td>0.000441</td>\n",
       "      <td>677</td>\n",
       "    </tr>\n",
       "    <tr>\n",
       "      <th>2</th>\n",
       "      <td>A3EUSH8DPW75LR</td>\n",
       "      <td>0312385846</td>\n",
       "      <td>2</td>\n",
       "      <td>Just plain bad</td>\n",
       "      <td>4</td>\n",
       "      <td>0.000448</td>\n",
       "      <td>1667</td>\n",
       "    </tr>\n",
       "    <tr>\n",
       "      <th>40</th>\n",
       "      <td>A2OU2NCXK689Z2</td>\n",
       "      <td>0312385846</td>\n",
       "      <td>4</td>\n",
       "      <td>A very promising debut!</td>\n",
       "      <td>2</td>\n",
       "      <td>0.000460</td>\n",
       "      <td>1151</td>\n",
       "    </tr>\n",
       "    <tr>\n",
       "      <th>35</th>\n",
       "      <td>A359D655P5XEU4</td>\n",
       "      <td>0312385846</td>\n",
       "      <td>3</td>\n",
       "      <td>Fantastic First Half, Then Downhill</td>\n",
       "      <td>3</td>\n",
       "      <td>0.000463</td>\n",
       "      <td>1479</td>\n",
       "    </tr>\n",
       "    <tr>\n",
       "      <th>20</th>\n",
       "      <td>A1143YEAZYMYHJ</td>\n",
       "      <td>0312385846</td>\n",
       "      <td>3</td>\n",
       "      <td>Started Strong But Couldn't Deliver</td>\n",
       "      <td>5</td>\n",
       "      <td>0.000470</td>\n",
       "      <td>21</td>\n",
       "    </tr>\n",
       "    <tr>\n",
       "      <th>29</th>\n",
       "      <td>A2QA5L9WUYVATT</td>\n",
       "      <td>0312385846</td>\n",
       "      <td>1</td>\n",
       "      <td>Find something else to read</td>\n",
       "      <td>6</td>\n",
       "      <td>0.000470</td>\n",
       "      <td>1178</td>\n",
       "    </tr>\n",
       "    <tr>\n",
       "      <th>41</th>\n",
       "      <td>A1EKF9JFF1XWSV</td>\n",
       "      <td>0312385846</td>\n",
       "      <td>4</td>\n",
       "      <td>paranormal thriller that will keep you awake, ...</td>\n",
       "      <td>3</td>\n",
       "      <td>0.000475</td>\n",
       "      <td>283</td>\n",
       "    </tr>\n",
       "    <tr>\n",
       "      <th>26</th>\n",
       "      <td>A2O9L2LA6Z5LXJ</td>\n",
       "      <td>0312385846</td>\n",
       "      <td>4</td>\n",
       "      <td>well written ghost story</td>\n",
       "      <td>3</td>\n",
       "      <td>0.000487</td>\n",
       "      <td>1137</td>\n",
       "    </tr>\n",
       "    <tr>\n",
       "      <th>0</th>\n",
       "      <td>A2M4R8R6SU049A</td>\n",
       "      <td>0312385846</td>\n",
       "      <td>5</td>\n",
       "      <td>Mammamia!  A really scary book!</td>\n",
       "      <td>7</td>\n",
       "      <td>0.000500</td>\n",
       "      <td>1088</td>\n",
       "    </tr>\n",
       "    <tr>\n",
       "      <th>30</th>\n",
       "      <td>A15J71JLC29KPW</td>\n",
       "      <td>0312385846</td>\n",
       "      <td>1</td>\n",
       "      <td>Started out great, then fell apart</td>\n",
       "      <td>2</td>\n",
       "      <td>0.000502</td>\n",
       "      <td>106</td>\n",
       "    </tr>\n",
       "    <tr>\n",
       "      <th>6</th>\n",
       "      <td>A3P3U42S4A2YHQ</td>\n",
       "      <td>0312385846</td>\n",
       "      <td>3</td>\n",
       "      <td>A twisted mess of a novel</td>\n",
       "      <td>3</td>\n",
       "      <td>0.000514</td>\n",
       "      <td>1897</td>\n",
       "    </tr>\n",
       "    <tr>\n",
       "      <th>14</th>\n",
       "      <td>A3JXBZ8F65100O</td>\n",
       "      <td>0312385846</td>\n",
       "      <td>2</td>\n",
       "      <td>Convoluted and Confusing</td>\n",
       "      <td>2</td>\n",
       "      <td>0.000545</td>\n",
       "      <td>1770</td>\n",
       "    </tr>\n",
       "    <tr>\n",
       "      <th>8</th>\n",
       "      <td>A3U5CZ3PV82JXD</td>\n",
       "      <td>0312385846</td>\n",
       "      <td>2</td>\n",
       "      <td>Too confusing to be scary</td>\n",
       "      <td>1</td>\n",
       "      <td>0.000549</td>\n",
       "      <td>2009</td>\n",
       "    </tr>\n",
       "    <tr>\n",
       "      <th>33</th>\n",
       "      <td>A3VWGPUMJMVD1I</td>\n",
       "      <td>0312385846</td>\n",
       "      <td>4</td>\n",
       "      <td>Do men get baby fever?</td>\n",
       "      <td>5</td>\n",
       "      <td>0.000557</td>\n",
       "      <td>2042</td>\n",
       "    </tr>\n",
       "    <tr>\n",
       "      <th>44</th>\n",
       "      <td>A3QD59N3M7O7KB</td>\n",
       "      <td>0312385846</td>\n",
       "      <td>2</td>\n",
       "      <td>What a Hot mess!</td>\n",
       "      <td>2</td>\n",
       "      <td>0.000598</td>\n",
       "      <td>1919</td>\n",
       "    </tr>\n",
       "    <tr>\n",
       "      <th>38</th>\n",
       "      <td>A1ITRGMT80D5TK</td>\n",
       "      <td>0312385846</td>\n",
       "      <td>2</td>\n",
       "      <td>Not that great...</td>\n",
       "      <td>1</td>\n",
       "      <td>0.000604</td>\n",
       "      <td>377</td>\n",
       "    </tr>\n",
       "    <tr>\n",
       "      <th>31</th>\n",
       "      <td>AMUP8DYE7EAN2</td>\n",
       "      <td>0312385846</td>\n",
       "      <td>2</td>\n",
       "      <td>Late Term Abortion</td>\n",
       "      <td>2</td>\n",
       "      <td>0.000611</td>\n",
       "      <td>2402</td>\n",
       "    </tr>\n",
       "    <tr>\n",
       "      <th>23</th>\n",
       "      <td>A1W7R5ZAGVOSVQ</td>\n",
       "      <td>0312385846</td>\n",
       "      <td>3</td>\n",
       "      <td>Weird, Dark and Disconnected Ghost Story</td>\n",
       "      <td>12</td>\n",
       "      <td>0.000634</td>\n",
       "      <td>623</td>\n",
       "    </tr>\n",
       "    <tr>\n",
       "      <th>15</th>\n",
       "      <td>A3PGGI7A6XCNF1</td>\n",
       "      <td>0312385846</td>\n",
       "      <td>1</td>\n",
       "      <td>Just couldn't get into it</td>\n",
       "      <td>7</td>\n",
       "      <td>0.000640</td>\n",
       "      <td>1906</td>\n",
       "    </tr>\n",
       "    <tr>\n",
       "      <th>21</th>\n",
       "      <td>A215WH6RUDUCMP</td>\n",
       "      <td>0312385846</td>\n",
       "      <td>3</td>\n",
       "      <td>Decent Read</td>\n",
       "      <td>4</td>\n",
       "      <td>0.000642</td>\n",
       "      <td>717</td>\n",
       "    </tr>\n",
       "    <tr>\n",
       "      <th>34</th>\n",
       "      <td>A2WCZZ304SM5HC</td>\n",
       "      <td>0312385846</td>\n",
       "      <td>1</td>\n",
       "      <td>Oh no he didn't</td>\n",
       "      <td>13</td>\n",
       "      <td>0.000646</td>\n",
       "      <td>1324</td>\n",
       "    </tr>\n",
       "    <tr>\n",
       "      <th>46</th>\n",
       "      <td>A1POFVVXUZR3IQ</td>\n",
       "      <td>0312385846</td>\n",
       "      <td>3</td>\n",
       "      <td>Ultimately, a disappointing entry in the genre</td>\n",
       "      <td>8</td>\n",
       "      <td>0.000653</td>\n",
       "      <td>496</td>\n",
       "    </tr>\n",
       "    <tr>\n",
       "      <th>27</th>\n",
       "      <td>A13H5US9Z7L9M7</td>\n",
       "      <td>0312385846</td>\n",
       "      <td>2</td>\n",
       "      <td>Fizzled</td>\n",
       "      <td>3</td>\n",
       "      <td>0.000764</td>\n",
       "      <td>71</td>\n",
       "    </tr>\n",
       "    <tr>\n",
       "      <th>28</th>\n",
       "      <td>A2WY52YD5GAEIB</td>\n",
       "      <td>0312385846</td>\n",
       "      <td>2</td>\n",
       "      <td>A Tough One to Review</td>\n",
       "      <td>2</td>\n",
       "      <td>0.000795</td>\n",
       "      <td>1335</td>\n",
       "    </tr>\n",
       "    <tr>\n",
       "      <th>12</th>\n",
       "      <td>A1JV4QKTEB7QBL</td>\n",
       "      <td>0312385846</td>\n",
       "      <td>2</td>\n",
       "      <td>Death Drive</td>\n",
       "      <td>3</td>\n",
       "      <td>0.000801</td>\n",
       "      <td>399</td>\n",
       "    </tr>\n",
       "    <tr>\n",
       "      <th>19</th>\n",
       "      <td>A277GP2U2TXH51</td>\n",
       "      <td>0312385846</td>\n",
       "      <td>2</td>\n",
       "      <td>didn't click with me</td>\n",
       "      <td>2</td>\n",
       "      <td>0.000819</td>\n",
       "      <td>824</td>\n",
       "    </tr>\n",
       "    <tr>\n",
       "      <th>24</th>\n",
       "      <td>A33EVEMS61JYRQ</td>\n",
       "      <td>0312385846</td>\n",
       "      <td>4</td>\n",
       "      <td>Incredible suspense!</td>\n",
       "      <td>2</td>\n",
       "      <td>0.000849</td>\n",
       "      <td>1444</td>\n",
       "    </tr>\n",
       "    <tr>\n",
       "      <th>16</th>\n",
       "      <td>A1SKNS2DGG46XM</td>\n",
       "      <td>0312385846</td>\n",
       "      <td>2</td>\n",
       "      <td>Still Born</td>\n",
       "      <td>5</td>\n",
       "      <td>0.000869</td>\n",
       "      <td>553</td>\n",
       "    </tr>\n",
       "    <tr>\n",
       "      <th>11</th>\n",
       "      <td>A1WKQ94M45D8MG</td>\n",
       "      <td>0312385846</td>\n",
       "      <td>3</td>\n",
       "      <td>What happened in this house?</td>\n",
       "      <td>4</td>\n",
       "      <td>0.001056</td>\n",
       "      <td>629</td>\n",
       "    </tr>\n",
       "    <tr>\n",
       "      <th>4</th>\n",
       "      <td>AYT4FJYVCHYLE</td>\n",
       "      <td>0312385846</td>\n",
       "      <td>1</td>\n",
       "      <td>Wow. What A Disappointment.</td>\n",
       "      <td>27</td>\n",
       "      <td>0.001083</td>\n",
       "      <td>2625</td>\n",
       "    </tr>\n",
       "    <tr>\n",
       "      <th>22</th>\n",
       "      <td>A1WCJEZS66D224</td>\n",
       "      <td>0312385846</td>\n",
       "      <td>2</td>\n",
       "      <td>Lack of follow through made for a weak read.</td>\n",
       "      <td>0</td>\n",
       "      <td>0.001102</td>\n",
       "      <td>624</td>\n",
       "    </tr>\n",
       "    <tr>\n",
       "      <th>32</th>\n",
       "      <td>A3UZSZIL13VQZ2</td>\n",
       "      <td>0312385846</td>\n",
       "      <td>1</td>\n",
       "      <td>I'm not even sure what happened at the end!</td>\n",
       "      <td>19</td>\n",
       "      <td>0.001230</td>\n",
       "      <td>2023</td>\n",
       "    </tr>\n",
       "    <tr>\n",
       "      <th>10</th>\n",
       "      <td>A1EW1OILI6AGGC</td>\n",
       "      <td>0312385846</td>\n",
       "      <td>5</td>\n",
       "      <td>Great Ghost Story</td>\n",
       "      <td>4</td>\n",
       "      <td>0.001256</td>\n",
       "      <td>289</td>\n",
       "    </tr>\n",
       "    <tr>\n",
       "      <th>45</th>\n",
       "      <td>A1D5RCOILPC9LX</td>\n",
       "      <td>0312385846</td>\n",
       "      <td>2</td>\n",
       "      <td>Bizarre -</td>\n",
       "      <td>4</td>\n",
       "      <td>0.001500</td>\n",
       "      <td>252</td>\n",
       "    </tr>\n",
       "    <tr>\n",
       "      <th>36</th>\n",
       "      <td>AN3D3M8MJ07BQ</td>\n",
       "      <td>0312385846</td>\n",
       "      <td>1</td>\n",
       "      <td>HAPPINESS  ABORTED</td>\n",
       "      <td>7</td>\n",
       "      <td>0.001519</td>\n",
       "      <td>2409</td>\n",
       "    </tr>\n",
       "    <tr>\n",
       "      <th>7</th>\n",
       "      <td>A27R2V3WLS43LP</td>\n",
       "      <td>0312385846</td>\n",
       "      <td>3</td>\n",
       "      <td>Wanting more</td>\n",
       "      <td>3</td>\n",
       "      <td>0.001839</td>\n",
       "      <td>837</td>\n",
       "    </tr>\n",
       "    <tr>\n",
       "      <th>39</th>\n",
       "      <td>A16QQ78I8J29PA</td>\n",
       "      <td>0312385846</td>\n",
       "      <td>3</td>\n",
       "      <td>Well Written, But A Real Lack of Sympathetic C...</td>\n",
       "      <td>6</td>\n",
       "      <td>0.001929</td>\n",
       "      <td>127</td>\n",
       "    </tr>\n",
       "    <tr>\n",
       "      <th>3</th>\n",
       "      <td>A2F6N60Z96CAJI</td>\n",
       "      <td>0312385846</td>\n",
       "      <td>5</td>\n",
       "      <td>Ransom's debut novel grabs hold and doesn't le...</td>\n",
       "      <td>4</td>\n",
       "      <td>0.001988</td>\n",
       "      <td>973</td>\n",
       "    </tr>\n",
       "  </tbody>\n",
       "</table>\n",
       "</div>"
      ],
      "text/plain": [
       "        reviewerId        asin  rating  \\\n",
       "5    AUEW0SKOB1XYF  0312385846       3   \n",
       "43  A1Q1T811N4IY3Z  0312385846       5   \n",
       "37   AJ8TBV3FD6704  0312385846       5   \n",
       "18  A15QN769N6JEYN  0312385846       3   \n",
       "13  A15D2X8MICR2VQ  0312385846       3   \n",
       "25  A28OB1QLXN5BM6  0312385846       2   \n",
       "42  A2QD4TPD0K4MOI  0312385846       2   \n",
       "9    AZD8SMNGQI98O  0312385846       4   \n",
       "1    AO7RFXGXSY3LN  0312385846       5   \n",
       "17  A1Z1DOBASN3YZB  0312385846       4   \n",
       "2   A3EUSH8DPW75LR  0312385846       2   \n",
       "40  A2OU2NCXK689Z2  0312385846       4   \n",
       "35  A359D655P5XEU4  0312385846       3   \n",
       "20  A1143YEAZYMYHJ  0312385846       3   \n",
       "29  A2QA5L9WUYVATT  0312385846       1   \n",
       "41  A1EKF9JFF1XWSV  0312385846       4   \n",
       "26  A2O9L2LA6Z5LXJ  0312385846       4   \n",
       "0   A2M4R8R6SU049A  0312385846       5   \n",
       "30  A15J71JLC29KPW  0312385846       1   \n",
       "6   A3P3U42S4A2YHQ  0312385846       3   \n",
       "14  A3JXBZ8F65100O  0312385846       2   \n",
       "8   A3U5CZ3PV82JXD  0312385846       2   \n",
       "33  A3VWGPUMJMVD1I  0312385846       4   \n",
       "44  A3QD59N3M7O7KB  0312385846       2   \n",
       "38  A1ITRGMT80D5TK  0312385846       2   \n",
       "31   AMUP8DYE7EAN2  0312385846       2   \n",
       "23  A1W7R5ZAGVOSVQ  0312385846       3   \n",
       "15  A3PGGI7A6XCNF1  0312385846       1   \n",
       "21  A215WH6RUDUCMP  0312385846       3   \n",
       "34  A2WCZZ304SM5HC  0312385846       1   \n",
       "46  A1POFVVXUZR3IQ  0312385846       3   \n",
       "27  A13H5US9Z7L9M7  0312385846       2   \n",
       "28  A2WY52YD5GAEIB  0312385846       2   \n",
       "12  A1JV4QKTEB7QBL  0312385846       2   \n",
       "19  A277GP2U2TXH51  0312385846       2   \n",
       "24  A33EVEMS61JYRQ  0312385846       4   \n",
       "16  A1SKNS2DGG46XM  0312385846       2   \n",
       "11  A1WKQ94M45D8MG  0312385846       3   \n",
       "4    AYT4FJYVCHYLE  0312385846       1   \n",
       "22  A1WCJEZS66D224  0312385846       2   \n",
       "32  A3UZSZIL13VQZ2  0312385846       1   \n",
       "10  A1EW1OILI6AGGC  0312385846       5   \n",
       "45  A1D5RCOILPC9LX  0312385846       2   \n",
       "36   AN3D3M8MJ07BQ  0312385846       1   \n",
       "7   A27R2V3WLS43LP  0312385846       3   \n",
       "39  A16QQ78I8J29PA  0312385846       3   \n",
       "3   A2F6N60Z96CAJI  0312385846       5   \n",
       "\n",
       "                                              summary  total_votes  distance  \\\n",
       "5                                    Pretty good read            2  0.000365   \n",
       "43                 I really enjoyed reading this book            4  0.000382   \n",
       "37  A true \"page-turner\" in the psychological susp...            6  0.000387   \n",
       "18                            Very Creepy Debut Novel            5  0.000406   \n",
       "13                   Was drawn in immediately but....            2  0.000413   \n",
       "25                           Nope...Just Doesn't Work           13  0.000421   \n",
       "42                          Just didn't do it for me.            0  0.000437   \n",
       "9                            Almost a Five Star Read!            4  0.000439   \n",
       "1   Fantastic novel that combines history, ghosts ...            9  0.000440   \n",
       "17                         A Great Little Ghost Story            2  0.000441   \n",
       "2                                      Just plain bad            4  0.000448   \n",
       "40                            A very promising debut!            2  0.000460   \n",
       "35                Fantastic First Half, Then Downhill            3  0.000463   \n",
       "20                Started Strong But Couldn't Deliver            5  0.000470   \n",
       "29                        Find something else to read            6  0.000470   \n",
       "41  paranormal thriller that will keep you awake, ...            3  0.000475   \n",
       "26                           well written ghost story            3  0.000487   \n",
       "0                     Mammamia!  A really scary book!            7  0.000500   \n",
       "30                 Started out great, then fell apart            2  0.000502   \n",
       "6                           A twisted mess of a novel            3  0.000514   \n",
       "14                           Convoluted and Confusing            2  0.000545   \n",
       "8                           Too confusing to be scary            1  0.000549   \n",
       "33                             Do men get baby fever?            5  0.000557   \n",
       "44                                   What a Hot mess!            2  0.000598   \n",
       "38                                  Not that great...            1  0.000604   \n",
       "31                                 Late Term Abortion            2  0.000611   \n",
       "23           Weird, Dark and Disconnected Ghost Story           12  0.000634   \n",
       "15                          Just couldn't get into it            7  0.000640   \n",
       "21                                        Decent Read            4  0.000642   \n",
       "34                                    Oh no he didn't           13  0.000646   \n",
       "46     Ultimately, a disappointing entry in the genre            8  0.000653   \n",
       "27                                            Fizzled            3  0.000764   \n",
       "28                              A Tough One to Review            2  0.000795   \n",
       "12                                        Death Drive            3  0.000801   \n",
       "19                               didn't click with me            2  0.000819   \n",
       "24                               Incredible suspense!            2  0.000849   \n",
       "16                                         Still Born            5  0.000869   \n",
       "11                       What happened in this house?            4  0.001056   \n",
       "4                         Wow. What A Disappointment.           27  0.001083   \n",
       "22       Lack of follow through made for a weak read.            0  0.001102   \n",
       "32        I'm not even sure what happened at the end!           19  0.001230   \n",
       "10                                  Great Ghost Story            4  0.001256   \n",
       "45                                          Bizarre -            4  0.001500   \n",
       "36                                 HAPPINESS  ABORTED            7  0.001519   \n",
       "7                                        Wanting more            3  0.001839   \n",
       "39  Well Written, But A Real Lack of Sympathetic C...            6  0.001929   \n",
       "3   Ransom's debut novel grabs hold and doesn't le...            4  0.001988   \n",
       "\n",
       "    r_label  \n",
       "5      2550  \n",
       "43      501  \n",
       "37     2331  \n",
       "18      111  \n",
       "13      104  \n",
       "25      857  \n",
       "42     1179  \n",
       "9      2636  \n",
       "1      2434  \n",
       "17      677  \n",
       "2      1667  \n",
       "40     1151  \n",
       "35     1479  \n",
       "20       21  \n",
       "29     1178  \n",
       "41      283  \n",
       "26     1137  \n",
       "0      1088  \n",
       "30      106  \n",
       "6      1897  \n",
       "14     1770  \n",
       "8      2009  \n",
       "33     2042  \n",
       "44     1919  \n",
       "38      377  \n",
       "31     2402  \n",
       "23      623  \n",
       "15     1906  \n",
       "21      717  \n",
       "34     1324  \n",
       "46      496  \n",
       "27       71  \n",
       "28     1335  \n",
       "12      399  \n",
       "19      824  \n",
       "24     1444  \n",
       "16      553  \n",
       "11      629  \n",
       "4      2625  \n",
       "22      624  \n",
       "32     2023  \n",
       "10      289  \n",
       "45      252  \n",
       "36     2409  \n",
       "7       837  \n",
       "39      127  \n",
       "3       973  "
      ]
     },
     "execution_count": 21,
     "metadata": {},
     "output_type": "execute_result"
    }
   ],
   "source": [
    "reviews_example.sort_values(by='distance', ascending = True)"
   ]
  },
  {
   "cell_type": "markdown",
   "metadata": {
    "heading_collapsed": true
   },
   "source": [
    "## Negative Value Check - Truncate the rating scale between 0-5 - dont run this"
   ]
  },
  {
   "cell_type": "markdown",
   "metadata": {
    "hidden": true
   },
   "source": [
    "### Negative value check"
   ]
  },
  {
   "cell_type": "code",
   "execution_count": 32,
   "metadata": {
    "ExecuteTime": {
     "end_time": "2020-05-12T14:57:45.824699Z",
     "start_time": "2020-05-12T14:57:42.396270Z"
    },
    "hidden": true
   },
   "outputs": [
    {
     "data": {
      "text/plain": [
       "{}"
      ]
     },
     "execution_count": 32,
     "metadata": {},
     "output_type": "execute_result"
    }
   ],
   "source": [
    "check_indices = predictions.where(predictions >5).stack().to_dict()\n",
    "check_indices"
   ]
  },
  {
   "cell_type": "code",
   "execution_count": 26,
   "metadata": {
    "ExecuteTime": {
     "end_time": "2020-05-12T14:43:16.766915Z",
     "start_time": "2020-05-12T14:43:14.916702Z"
    },
    "hidden": true,
    "scrolled": true
   },
   "outputs": [
    {
     "data": {
      "text/plain": [
       "array([('A12FPG5P7T0IMA', '0062089374'), ('A12FPG5P7T0IMA', '0345518446'),\n",
       "       ('A15NZD5WINDQZM', '0062089374'), ('A15NZD5WINDQZM', '0345518446'),\n",
       "       ('A16PDIEAT8N8A9', '0062089374'), ('A16PDIEAT8N8A9', '0345518446'),\n",
       "       ('A16PDIEAT8N8A9', '0520217551'), ('A19B0GTBYVO2OL', '0062089374'),\n",
       "       ('A19B0GTBYVO2OL', '0345518446'), ('A1F3PBBSHAA2Y9', '0062089374'),\n",
       "       ('A1F3PBBSHAA2Y9', '0345518446'), ('A1F3PBBSHAA2Y9', '0425269515'),\n",
       "       ('A1F3PBBSHAA2Y9', '0520217551'), ('A1F5B1UQFE8QE0', '0062089374'),\n",
       "       ('A1F5B1UQFE8QE0', '0345518446'), ('A1FS0Q73QVUH4Y', '0062089374'),\n",
       "       ('A1FS0Q73QVUH4Y', '0345518446'), ('A1G5M4C5XPUX8H', '0062089374'),\n",
       "       ('A1G5M4C5XPUX8H', '0345518446'), ('A1GALZCXD8FHOR', '0062089374'),\n",
       "       ('A1GALZCXD8FHOR', '0345518446'), ('A1HCFRHIAE0T63', '0062089374'),\n",
       "       ('A1HCFRHIAE0T63', '0345518446'), ('A1HCFRHIAE0T63', '0520217551'),\n",
       "       ('A1OB5L3WMHJAD9', '0062089374'), ('A1OB5L3WMHJAD9', '0345518446'),\n",
       "       ('A1PDWD4KCP1ABG', '0062089374'), ('A1PDWD4KCP1ABG', '0345518446'),\n",
       "       ('A1PDWD4KCP1ABG', '0520217551'), ('A1TUBKEWD01LLS', '0062089374'),\n",
       "       ('A1TUBKEWD01LLS', '0345518446'), ('A26L2WIEQL8EML', '0062089374'),\n",
       "       ('A26L2WIEQL8EML', '0345518446'), ('A2CK0VXUDVXGMN', '0062089374'),\n",
       "       ('A2CK0VXUDVXGMN', '0345518446'), ('A2F3SXHT6RBV81', '0062089374'),\n",
       "       ('A2F3SXHT6RBV81', '0345518446'), ('A2FTHCGH06O4Y5', '0062089374'),\n",
       "       ('A2FTHCGH06O4Y5', '0345518446'), ('A2GI6MB9RZL72O', '0062089374'),\n",
       "       ('A2GI6MB9RZL72O', '0345518446'), ('A2GI6MB9RZL72O', '0520217551'),\n",
       "       ('A2M55SGTZ6HXQC', '0062089374'), ('A2M55SGTZ6HXQC', '0345518446'),\n",
       "       ('A2NOLI10R74GTE', '0062089374'), ('A2NOLI10R74GTE', '0345518446'),\n",
       "       ('A2Q3D3CC9HT0S5', '0062089374'), ('A2Q3D3CC9HT0S5', '0345518446'),\n",
       "       ('A2VIBW6JFZ10MQ', '0062089374'), ('A2VIBW6JFZ10MQ', '0345518446'),\n",
       "       ('A2VKK7SUEOS7LK', '0062089374'), ('A2VKK7SUEOS7LK', '0345518446'),\n",
       "       ('A2X9TSWP9AZFS4', '0062089374'), ('A2X9TSWP9AZFS4', '0345518446'),\n",
       "       ('A34YUT6ZXTRWWZ', '0062089374'), ('A34YUT6ZXTRWWZ', '0345518446'),\n",
       "       ('A34YUT6ZXTRWWZ', '0520217551'), ('A3E9H5ZVB53NO0', '0062089374'),\n",
       "       ('A3E9H5ZVB53NO0', '0345518446'), ('A3FR0IG70PQYKO', '0062089374'),\n",
       "       ('A3FR0IG70PQYKO', '0345518446'), ('A3MVAN55WKCGR7', '0062089374'),\n",
       "       ('A3MVAN55WKCGR7', '0345518446'), ('A3THEG0O151CO6', '0062089374'),\n",
       "       ('A3THEG0O151CO6', '0345518446'), ('A3UOQJ78EKTKI5', '0062089374'),\n",
       "       ('A3UOQJ78EKTKI5', '0345518446'), ('A3UOQJ78EKTKI5', '0520217551'),\n",
       "       ('A3VOZJDB8473H7', '0062089374'), ('A3VOZJDB8473H7', '0345518446'),\n",
       "       ('A8Q3M6FHASIJ7', '0062089374'), ('A8Q3M6FHASIJ7', '0345518446'),\n",
       "       ('ABCNNP742AV30', '0062089374'), ('ABCNNP742AV30', '0345518446'),\n",
       "       ('ABCNNP742AV30', '0520217551'), ('AGFNLMUZ09UF1', '0062089374'),\n",
       "       ('AGFNLMUZ09UF1', '0345518446'), ('AH5KXJMSWFZTO', '0062089374'),\n",
       "       ('AH5KXJMSWFZTO', '0345518446'), ('AH62BQTCMR3BR', '000720311X'),\n",
       "       ('AH62BQTCMR3BR', '000752417X'), ('AH62BQTCMR3BR', '0060182989'),\n",
       "       ('AH62BQTCMR3BR', '0060675365'), ('AH62BQTCMR3BR', '0060723513'),\n",
       "       ('AH62BQTCMR3BR', '0060781580'), ('AH62BQTCMR3BR', '0060799250'),\n",
       "       ('AH62BQTCMR3BR', '0060827130'), ('AH62BQTCMR3BR', '0060898771'),\n",
       "       ('AH62BQTCMR3BR', '0060988649'), ('AH62BQTCMR3BR', '0061438456'),\n",
       "       ('AH62BQTCMR3BR', '0061492175'), ('AH62BQTCMR3BR', '0061626821'),\n",
       "       ('AH62BQTCMR3BR', '0061767948'), ('AH62BQTCMR3BR', '0061930237'),\n",
       "       ('AH62BQTCMR3BR', '0062062247'), ('AH62BQTCMR3BR', '0062069403'),\n",
       "       ('AH62BQTCMR3BR', '006208576X'), ('AH62BQTCMR3BR', '0062089374'),\n",
       "       ('AH62BQTCMR3BR', '006211851X'), ('AH62BQTCMR3BR', '0062267434'),\n",
       "       ('AH62BQTCMR3BR', '0091944058'), ('AH62BQTCMR3BR', '013807206X'),\n",
       "       ('AH62BQTCMR3BR', '0141004924'), ('AH62BQTCMR3BR', '0141011467'),\n",
       "       ('AH62BQTCMR3BR', '0143035363'), ('AH62BQTCMR3BR', '0143058266'),\n",
       "       ('AH62BQTCMR3BR', '0143059114'), ('AH62BQTCMR3BR', '014311669X'),\n",
       "       ('AH62BQTCMR3BR', '0263874680'), ('AH62BQTCMR3BR', '030744645X'),\n",
       "       ('AH62BQTCMR3BR', '0307476286'), ('AH62BQTCMR3BR', '0307593983'),\n",
       "       ('AH62BQTCMR3BR', '0307741907'), ('AH62BQTCMR3BR', '0310257670'),\n",
       "       ('AH62BQTCMR3BR', '031027771X'), ('AH62BQTCMR3BR', '0310724228'),\n",
       "       ('AH62BQTCMR3BR', '0312381042'), ('AH62BQTCMR3BR', '0312385846'),\n",
       "       ('AH62BQTCMR3BR', '0312531540'), ('AH62BQTCMR3BR', '0312550650'),\n",
       "       ('AH62BQTCMR3BR', '0312656262'), ('AH62BQTCMR3BR', '0312656270'),\n",
       "       ('AH62BQTCMR3BR', '0312662114'), ('AH62BQTCMR3BR', '0312667574'),\n",
       "       ('AH62BQTCMR3BR', '0312864590'), ('AH62BQTCMR3BR', '0312947054'),\n",
       "       ('AH62BQTCMR3BR', '0316009571'), ('AH62BQTCMR3BR', '0316012793'),\n",
       "       ('AH62BQTCMR3BR', '0316014508'), ('AH62BQTCMR3BR', '0316018775'),\n",
       "       ('AH62BQTCMR3BR', '0316034045'), ('AH62BQTCMR3BR', '0316036242'),\n",
       "       ('AH62BQTCMR3BR', '0316067369'), ('AH62BQTCMR3BR', '0316097365'),\n",
       "       ('AH62BQTCMR3BR', '0316211079'), ('AH62BQTCMR3BR', '0316603287'),\n",
       "       ('AH62BQTCMR3BR', '0316779423'), ('AH62BQTCMR3BR', '0330412744'),\n",
       "       ('AH62BQTCMR3BR', '0330518364'), ('AH62BQTCMR3BR', '0345315227'),\n",
       "       ('AH62BQTCMR3BR', '0345442997'), ('AH62BQTCMR3BR', '0345443691'),\n",
       "       ('AH62BQTCMR3BR', '0345448928'), ('AH62BQTCMR3BR', '0345486587'),\n",
       "       ('AH62BQTCMR3BR', '0345495969'), ('AH62BQTCMR3BR', '0345518446'),\n",
       "       ('AH62BQTCMR3BR', '0345530489'), ('AH62BQTCMR3BR', '0345541936'),\n",
       "       ('AH62BQTCMR3BR', '034554241X'), ('AH62BQTCMR3BR', '0345544293'),\n",
       "       ('AH62BQTCMR3BR', '0345549333'), ('AH62BQTCMR3BR', '0345803507'),\n",
       "       ('AH62BQTCMR3BR', '0373084749'), ('AH62BQTCMR3BR', '0373218427'),\n",
       "       ('AH62BQTCMR3BR', '0373510101'), ('AH62BQTCMR3BR', '0373617623'),\n",
       "       ('AH62BQTCMR3BR', '0373617712'), ('AH62BQTCMR3BR', '0373778287'),\n",
       "       ('AH62BQTCMR3BR', '0373827822'), ('AH62BQTCMR3BR', '0373828640'),\n",
       "       ('AH62BQTCMR3BR', '0373860641'), ('AH62BQTCMR3BR', '0374532915'),\n",
       "       ('AH62BQTCMR3BR', '0375404120'), ('AH62BQTCMR3BR', '0375433821'),\n",
       "       ('AH62BQTCMR3BR', '0375435417'), ('AH62BQTCMR3BR', '0375706682'),\n",
       "       ('AH62BQTCMR3BR', '0375756450'), ('AH62BQTCMR3BR', '0375869751'),\n",
       "       ('AH62BQTCMR3BR', '0375875263'), ('AH62BQTCMR3BR', '0380015390'),\n",
       "       ('AH62BQTCMR3BR', '0380016974'), ('AH62BQTCMR3BR', '0380781433'),\n",
       "       ('AH62BQTCMR3BR', '0380805685'), ('AH62BQTCMR3BR', '038081479X'),\n",
       "       ('AH62BQTCMR3BR', '0385333609'), ('AH62BQTCMR3BR', '0385340265'),\n",
       "       ('AH62BQTCMR3BR', '0385340354'), ('AH62BQTCMR3BR', '0385343183'),\n",
       "       ('AH62BQTCMR3BR', '038551316X'), ('AH62BQTCMR3BR', '0385517831'),\n",
       "       ('AH62BQTCMR3BR', '0385520808'), ('AH62BQTCMR3BR', '0385526350'),\n",
       "       ('AH62BQTCMR3BR', '0399142282'), ('AH62BQTCMR3BR', '0399143955'),\n",
       "       ('AH62BQTCMR3BR', '039914465X'), ('AH62BQTCMR3BR', '039914739X'),\n",
       "       ('AH62BQTCMR3BR', '0399148701'), ('AH62BQTCMR3BR', '0399150897'),\n",
       "       ('AH62BQTCMR3BR', '0399151079'), ('AH62BQTCMR3BR', '0399151877'),\n",
       "       ('AH62BQTCMR3BR', '0399152199'), ('AH62BQTCMR3BR', '0399152245'),\n",
       "       ('AH62BQTCMR3BR', '0399153322'), ('AH62BQTCMR3BR', '0399153624'),\n",
       "       ('AH62BQTCMR3BR', '0399153934'), ('AH62BQTCMR3BR', '0399154183'),\n",
       "       ('AH62BQTCMR3BR', '0399156119'), ('AH62BQTCMR3BR', '0399157301'),\n",
       "       ('AH62BQTCMR3BR', '0399157654'), ('AH62BQTCMR3BR', '0399158863'),\n",
       "       ('AH62BQTCMR3BR', '0399160671'), ('AH62BQTCMR3BR', '0399160825'),\n",
       "       ('AH62BQTCMR3BR', '0399242562'), ('AH62BQTCMR3BR', '042504386X'),\n",
       "       ('AH62BQTCMR3BR', '0425158594'), ('AH62BQTCMR3BR', '0425197387'),\n",
       "       ('AH62BQTCMR3BR', '0425198243'), ('AH62BQTCMR3BR', '0425207978'),\n",
       "       ('AH62BQTCMR3BR', '0425210545'), ('AH62BQTCMR3BR', '0425222195'),\n",
       "       ('AH62BQTCMR3BR', '0425234339'), ('AH62BQTCMR3BR', '042523567X'),\n",
       "       ('AH62BQTCMR3BR', '0425241270'), ('AH62BQTCMR3BR', '0425247546'),\n",
       "       ('AH62BQTCMR3BR', '0425269515'), ('AH62BQTCMR3BR', '0440423627'),\n",
       "       ('AH62BQTCMR3BR', '0446518131'), ('AH62BQTCMR3BR', '044651862X'),\n",
       "       ('AH62BQTCMR3BR', '0446532215'), ('AH62BQTCMR3BR', '044656446X'),\n",
       "       ('AH62BQTCMR3BR', '0446609323'), ('AH62BQTCMR3BR', '044661095X'),\n",
       "       ('AH62BQTCMR3BR', '0451118537'), ('AH62BQTCMR3BR', '0451239652'),\n",
       "       ('AH62BQTCMR3BR', '0470913045'), ('AH62BQTCMR3BR', '0515140872'),\n",
       "       ('AH62BQTCMR3BR', '0515143944'), ('AH62BQTCMR3BR', '0517580519'),\n",
       "       ('AH62BQTCMR3BR', '0520217551'), ('AH62BQTCMR3BR', '0529064634'),\n",
       "       ('AH62BQTCMR3BR', '0547813376'), ('AH62BQTCMR3BR', '0553286587'),\n",
       "       ('AH62BQTCMR3BR', '0553382640'), ('AH62BQTCMR3BR', '055358653X'),\n",
       "       ('AH62BQTCMR3BR', '345803485'), ('AH62BQTCMR3BR', '451194721'),\n",
       "       ('AHCUFJHJAD6HP', '0062089374'), ('AHCUFJHJAD6HP', '0345518446'),\n",
       "       ('AL5RP8DS1NUV3', '0062089374'), ('AL5RP8DS1NUV3', '0345518446'),\n",
       "       ('AORT3BGJ6RK7R', '0062089374'), ('AORT3BGJ6RK7R', '0345518446'),\n",
       "       ('AOTEOBX9GFZ48', '0062089374'), ('AOTEOBX9GFZ48', '0345518446'),\n",
       "       ('AQ1F3NP2G15S5', '0062089374'), ('AQ1F3NP2G15S5', '0345518446'),\n",
       "       ('AV88YTJXG5REB', '0062089374'), ('AV88YTJXG5REB', '0345518446'),\n",
       "       ('AWECCFC31HF4U', '0062089374'), ('AWECCFC31HF4U', '0345518446'),\n",
       "       ('AZK12FBX7X7LN', '0062089374'), ('AZK12FBX7X7LN', '0345518446')],\n",
       "      dtype=object)"
      ]
     },
     "execution_count": 26,
     "metadata": {},
     "output_type": "execute_result"
    }
   ],
   "source": [
    "check_indices_values = predictions.where(predictions <0).stack().index.values\n",
    "check_indices_values"
   ]
  },
  {
   "cell_type": "code",
   "execution_count": 30,
   "metadata": {
    "ExecuteTime": {
     "end_time": "2020-05-12T14:44:16.682518Z",
     "start_time": "2020-05-12T14:44:16.669607Z"
    },
    "hidden": true
   },
   "outputs": [
    {
     "data": {
      "text/plain": [
       "1432699"
      ]
     },
     "execution_count": 30,
     "metadata": {},
     "output_type": "execute_result"
    }
   ],
   "source": [
    "len(check_indices)"
   ]
  },
  {
   "cell_type": "code",
   "execution_count": 31,
   "metadata": {
    "ExecuteTime": {
     "end_time": "2020-05-12T14:52:43.597895Z",
     "start_time": "2020-05-12T14:44:38.005742Z"
    },
    "hidden": true
   },
   "outputs": [],
   "source": [
    "for index in check_indices.keys():\n",
    "    predictions.loc[index[0], index[1]] =5"
   ]
  },
  {
   "cell_type": "code",
   "execution_count": 48,
   "metadata": {
    "ExecuteTime": {
     "end_time": "2020-05-10T21:13:21.947477Z",
     "start_time": "2020-05-10T21:13:21.920018Z"
    },
    "hidden": true
   },
   "outputs": [
    {
     "data": {
      "text/plain": [
       "{('A12FPG5P7T0IMA', '0062089374'): -0.08630008134762424,\n",
       " ('A12FPG5P7T0IMA', '0345518446'): -0.08630008134762424,\n",
       " ('A15NZD5WINDQZM', '0062089374'): -0.03945348144555716,\n",
       " ('A15NZD5WINDQZM', '0345518446'): -0.03945348144555716,\n",
       " ('A16PDIEAT8N8A9', '0062089374'): -0.36251052052604216,\n",
       " ('A16PDIEAT8N8A9', '0345518446'): -0.36251052052604216,\n",
       " ('A16PDIEAT8N8A9', '0520217551'): -0.02917718719270912,\n",
       " ('A19B0GTBYVO2OL', '0062089374'): -0.2585506259314059,\n",
       " ('A19B0GTBYVO2OL', '0345518446'): -0.2585506259314059,\n",
       " ('A1F3PBBSHAA2Y9', '0062089374'): -0.7356836202938517,\n",
       " ('A1F3PBBSHAA2Y9', '0345518446'): -0.7356836202938517,\n",
       " ('A1F3PBBSHAA2Y9', '0425269515'): -0.04818362029384993,\n",
       " ('A1F3PBBSHAA2Y9', '0520217551'): -0.4023502869605178,\n",
       " ('A1F5B1UQFE8QE0', '0062089374'): -0.22010623239076565,\n",
       " ('A1F5B1UQFE8QE0', '0345518446'): -0.22010623239076565,\n",
       " ('A1FS0Q73QVUH4Y', '0062089374'): -0.04468331862209496,\n",
       " ('A1FS0Q73QVUH4Y', '0345518446'): -0.04468331862209496,\n",
       " ('A1G5M4C5XPUX8H', '0062089374'): -0.007639143844349938,\n",
       " ('A1G5M4C5XPUX8H', '0345518446'): -0.007639143844349938,\n",
       " ('A1GALZCXD8FHOR', '0062089374'): -0.3020856111684598,\n",
       " ('A1GALZCXD8FHOR', '0345518446'): -0.3020856111684598,\n",
       " ('A1HCFRHIAE0T63', '0062089374'): -0.42529935808385133,\n",
       " ('A1HCFRHIAE0T63', '0345518446'): -0.42529935808385133,\n",
       " ('A1HCFRHIAE0T63', '0520217551'): -0.0919660247505174,\n",
       " ('A1OB5L3WMHJAD9', '0062089374'): -0.020086511887562608,\n",
       " ('A1OB5L3WMHJAD9', '0345518446'): -0.020086511887562608,\n",
       " ('A1PDWD4KCP1ABG', '0062089374'): -0.4240731204014736,\n",
       " ('A1PDWD4KCP1ABG', '0345518446'): -0.4240731204014736,\n",
       " ('A1PDWD4KCP1ABG', '0520217551'): -0.09073978706813968,\n",
       " ('A1TUBKEWD01LLS', '0062089374'): -0.22610316590351331,\n",
       " ('A1TUBKEWD01LLS', '0345518446'): -0.22610316590351331,\n",
       " ('A26L2WIEQL8EML', '0062089374'): -0.18349334888771907,\n",
       " ('A26L2WIEQL8EML', '0345518446'): -0.18349334888771907,\n",
       " ('A2CK0VXUDVXGMN', '0062089374'): -0.2994001936014268,\n",
       " ('A2CK0VXUDVXGMN', '0345518446'): -0.2994001936014268,\n",
       " ('A2F3SXHT6RBV81', '0062089374'): -0.020663663288606138,\n",
       " ('A2F3SXHT6RBV81', '0345518446'): -0.020663663288606138,\n",
       " ('A2FTHCGH06O4Y5', '0062089374'): -0.07140204924947113,\n",
       " ('A2FTHCGH06O4Y5', '0345518446'): -0.07140204924947113,\n",
       " ('A2GI6MB9RZL72O', '0062089374'): -0.5118613289775169,\n",
       " ('A2GI6MB9RZL72O', '0345518446'): -0.5118613289775169,\n",
       " ('A2GI6MB9RZL72O', '0520217551'): -0.17852799564418387,\n",
       " ('A2M55SGTZ6HXQC', '0062089374'): -0.2374095658382478,\n",
       " ('A2M55SGTZ6HXQC', '0345518446'): -0.2374095658382478,\n",
       " ('A2NOLI10R74GTE', '0062089374'): -0.23370735736096382,\n",
       " ('A2NOLI10R74GTE', '0345518446'): -0.23370735736096382,\n",
       " ('A2Q3D3CC9HT0S5', '0062089374'): -0.29717609838541126,\n",
       " ('A2Q3D3CC9HT0S5', '0345518446'): -0.29717609838541126,\n",
       " ('A2VIBW6JFZ10MQ', '0062089374'): -0.11828778399599926,\n",
       " ('A2VIBW6JFZ10MQ', '0345518446'): -0.11828778399599926,\n",
       " ('A2VKK7SUEOS7LK', '0062089374'): -0.07472103068296754,\n",
       " ('A2VKK7SUEOS7LK', '0345518446'): -0.07472103068296754,\n",
       " ('A2X9TSWP9AZFS4', '0062089374'): -0.09182846117947285,\n",
       " ('A2X9TSWP9AZFS4', '0345518446'): -0.09182846117947285,\n",
       " ('A34YUT6ZXTRWWZ', '0062089374'): -0.37727517913295916,\n",
       " ('A34YUT6ZXTRWWZ', '0345518446'): -0.37727517913295916,\n",
       " ('A34YUT6ZXTRWWZ', '0520217551'): -0.04394184579962612,\n",
       " ('A3E9H5ZVB53NO0', '0062089374'): -0.07832790258715061,\n",
       " ('A3E9H5ZVB53NO0', '0345518446'): -0.07832790258715061,\n",
       " ('A3FR0IG70PQYKO', '0062089374'): -0.16945020165175606,\n",
       " ('A3FR0IG70PQYKO', '0345518446'): -0.16945020165175606,\n",
       " ('A3MVAN55WKCGR7', '0062089374'): -0.003071990193135754,\n",
       " ('A3MVAN55WKCGR7', '0345518446'): -0.003071990193135754,\n",
       " ('A3THEG0O151CO6', '0062089374'): -0.12685625397121925,\n",
       " ('A3THEG0O151CO6', '0345518446'): -0.12685625397121925,\n",
       " ('A3UOQJ78EKTKI5', '0062089374'): -0.41214334154821675,\n",
       " ('A3UOQJ78EKTKI5', '0345518446'): -0.41214334154821675,\n",
       " ('A3UOQJ78EKTKI5', '0520217551'): -0.07881000821488371,\n",
       " ('A3VOZJDB8473H7', '0062089374'): -0.08793536375967292,\n",
       " ('A3VOZJDB8473H7', '0345518446'): -0.08793536375967292,\n",
       " ('A8Q3M6FHASIJ7', '0062089374'): -0.1097498832344499,\n",
       " ('A8Q3M6FHASIJ7', '0345518446'): -0.1097498832344499,\n",
       " ('ABCNNP742AV30', '0062089374'): -0.5605164973220047,\n",
       " ('ABCNNP742AV30', '0345518446'): -0.5605164973220047,\n",
       " ('ABCNNP742AV30', '0520217551'): -0.22718316398867167,\n",
       " ('AGFNLMUZ09UF1', '0062089374'): -0.2921013367083649,\n",
       " ('AGFNLMUZ09UF1', '0345518446'): -0.2921013367083649,\n",
       " ('AH5KXJMSWFZTO', '0062089374'): -0.17685564092908201,\n",
       " ('AH5KXJMSWFZTO', '0345518446'): -0.17685564092908201,\n",
       " ('AH62BQTCMR3BR', '000720311X'): -0.03979427501609223,\n",
       " ('AH62BQTCMR3BR', '000752417X'): -0.05368316390498151,\n",
       " ('AH62BQTCMR3BR', '0060182989'): -0.2411831639049815,\n",
       " ('AH62BQTCMR3BR', '0060675365'): -0.26201649723831544,\n",
       " ('AH62BQTCMR3BR', '0060723513'): -0.214397449619268,\n",
       " ('AH62BQTCMR3BR', '0060781580'): -0.4286831639049815,\n",
       " ('AH62BQTCMR3BR', '0060799250'): -0.2363754715972899,\n",
       " ('AH62BQTCMR3BR', '0060827130'): -0.07154030676212475,\n",
       " ('AH62BQTCMR3BR', '0060898771'): -0.214397449619268,\n",
       " ('AH62BQTCMR3BR', '0060988649'): -0.26201649723831544,\n",
       " ('AH62BQTCMR3BR', '0061438456'): -0.019592254814071453,\n",
       " ('AH62BQTCMR3BR', '0061492175'): -0.1786831639049815,\n",
       " ('AH62BQTCMR3BR', '0061626821'): -0.4286831639049815,\n",
       " ('AH62BQTCMR3BR', '0061767948'): -0.9286831639049815,\n",
       " ('AH62BQTCMR3BR', '0061930237'): -0.07154030676212475,\n",
       " ('AH62BQTCMR3BR', '0062062247'): -0.23423871946053687,\n",
       " ('AH62BQTCMR3BR', '0062069403'): -0.469223704445521,\n",
       " ('AH62BQTCMR3BR', '006208576X'): -0.26201649723831366,\n",
       " ('AH62BQTCMR3BR', '0062089374'): -1.9286831639049815,\n",
       " ('AH62BQTCMR3BR', '006211851X'): -0.3433173102464444,\n",
       " ('AH62BQTCMR3BR', '0062267434'): -0.4286831639049815,\n",
       " ('AH62BQTCMR3BR', '0091944058'): -0.00560624082805905,\n",
       " ('AH62BQTCMR3BR', '013807206X'): -0.9286831639049815,\n",
       " ('AH62BQTCMR3BR', '0141004924'): -0.10368316390498045,\n",
       " ('AH62BQTCMR3BR', '0141011467'): -0.9286831639049815,\n",
       " ('AH62BQTCMR3BR', '0143035363'): -0.07868316390498187,\n",
       " ('AH62BQTCMR3BR', '0143058266'): -0.41516965039146747,\n",
       " ('AH62BQTCMR3BR', '0143059114'): -1.0825293177511348,\n",
       " ('AH62BQTCMR3BR', '014311669X'): -0.4286831639049815,\n",
       " ('AH62BQTCMR3BR', '0263874680'): -0.4286831639049815,\n",
       " ('AH62BQTCMR3BR', '030744645X'): -0.26201649723831544,\n",
       " ('AH62BQTCMR3BR', '0307476286'): -0.2923195275413457,\n",
       " ('AH62BQTCMR3BR', '0307593983'): -0.3036831639049815,\n",
       " ('AH62BQTCMR3BR', '0307741907'): -0.14201649723831622,\n",
       " ('AH62BQTCMR3BR', '0310257670'): -0.09534983057164848,\n",
       " ('AH62BQTCMR3BR', '031027771X'): -0.7858260210478392,\n",
       " ('AH62BQTCMR3BR', '0310724228'): -0.9286831639049815,\n",
       " ('AH62BQTCMR3BR', '0312381042'): -0.1286831639049817,\n",
       " ('AH62BQTCMR3BR', '0312385846'): -0.14144912135178878,\n",
       " ('AH62BQTCMR3BR', '0312531540'): -0.4703498305716476,\n",
       " ('AH62BQTCMR3BR', '0312550650'): -0.00560624082805905,\n",
       " ('AH62BQTCMR3BR', '0312656262'): -0.01201649723831455,\n",
       " ('AH62BQTCMR3BR', '0312656270'): -0.2203498305716476,\n",
       " ('AH62BQTCMR3BR', '0312662114'): -0.15090538612720472,\n",
       " ('AH62BQTCMR3BR', '0312667574'): -0.5286831639049812,\n",
       " ('AH62BQTCMR3BR', '0312864590'): -0.47154030676212333,\n",
       " ('AH62BQTCMR3BR', '0312947054'): -0.105153752140275,\n",
       " ('AH62BQTCMR3BR', '0316009571'): -0.09534983057164936,\n",
       " ('AH62BQTCMR3BR', '0316012793'): -0.07154030676212386,\n",
       " ('AH62BQTCMR3BR', '0316014508'): -0.8036831639049815,\n",
       " ('AH62BQTCMR3BR', '0316018775'): -0.14296887819069504,\n",
       " ('AH62BQTCMR3BR', '0316034045'): -0.005606240828058162,\n",
       " ('AH62BQTCMR3BR', '0316036242'): -0.2143974496192662,\n",
       " ('AH62BQTCMR3BR', '0316067369'): -0.11235663329273571,\n",
       " ('AH62BQTCMR3BR', '0316097365'): -0.5286831639049812,\n",
       " ('AH62BQTCMR3BR', '0316211079'): -0.03394632179971868,\n",
       " ('AH62BQTCMR3BR', '0316603287'): -0.5232777584995754,\n",
       " ('AH62BQTCMR3BR', '0316779423'): -0.09534983057164848,\n",
       " ('AH62BQTCMR3BR', '0330412744'): -0.1286831639049808,\n",
       " ('AH62BQTCMR3BR', '0330518364'): -0.9286831639049815,\n",
       " ('AH62BQTCMR3BR', '0345315227'): -0.4286831639049815,\n",
       " ('AH62BQTCMR3BR', '0345442997'): -0.15090538612720472,\n",
       " ('AH62BQTCMR3BR', '0345443691'): -0.05368316390498151,\n",
       " ('AH62BQTCMR3BR', '0345448928'): -0.7286831639049822,\n",
       " ('AH62BQTCMR3BR', '0345486587'): -0.00011173533355357534,\n",
       " ('AH62BQTCMR3BR', '0345495969'): -0.08868316390498077,\n",
       " ('AH62BQTCMR3BR', '0345518446'): -1.9286831639049815,\n",
       " ('AH62BQTCMR3BR', '0345530489'): -0.09534983057164848,\n",
       " ('AH62BQTCMR3BR', '0345541936'): -0.1286831639049817,\n",
       " ('AH62BQTCMR3BR', '034554241X'): -0.1474331639049815,\n",
       " ('AH62BQTCMR3BR', '0345544293'): -0.1786831639049815,\n",
       " ('AH62BQTCMR3BR', '0345549333'): -0.1286831639049817,\n",
       " ('AH62BQTCMR3BR', '0345803507'): -0.4286831639049815,\n",
       " ('AH62BQTCMR3BR', '0373084749'): -0.4286831639049815,\n",
       " ('AH62BQTCMR3BR', '0373218427'): -0.4286831639049815,\n",
       " ('AH62BQTCMR3BR', '0373510101'): -0.6786831639049815,\n",
       " ('AH62BQTCMR3BR', '0373617623'): -0.34044786978733477,\n",
       " ('AH62BQTCMR3BR', '0373617712'): -0.4286831639049815,\n",
       " ('AH62BQTCMR3BR', '0373778287'): -0.3453498305716485,\n",
       " ('AH62BQTCMR3BR', '0373827822'): -0.214397449619268,\n",
       " ('AH62BQTCMR3BR', '0373828640'): -0.4286831639049815,\n",
       " ('AH62BQTCMR3BR', '0373860641'): -0.37312760834942615,\n",
       " ('AH62BQTCMR3BR', '0374532915'): -0.7181568481155072,\n",
       " ('AH62BQTCMR3BR', '0375404120'): -0.8036831639049815,\n",
       " ('AH62BQTCMR3BR', '0375433821'): -0.012016497238315438,\n",
       " ('AH62BQTCMR3BR', '0375435417'): -0.1786831639049824,\n",
       " ('AH62BQTCMR3BR', '0375706682'): -0.35725459247641034,\n",
       " ('AH62BQTCMR3BR', '0375756450'): -0.1286831639049817,\n",
       " ('AH62BQTCMR3BR', '0375869751'): -0.023921259143076412,\n",
       " ('AH62BQTCMR3BR', '0375875263'): -0.05368316390498151,\n",
       " ('AH62BQTCMR3BR', '0380015390'): -0.1786831639049815,\n",
       " ('AH62BQTCMR3BR', '0380016974'): -1.0715403067621248,\n",
       " ('AH62BQTCMR3BR', '0380781433'): -0.012016497238315438,\n",
       " ('AH62BQTCMR3BR', '0380805685'): -0.09534983057164848,\n",
       " ('AH62BQTCMR3BR', '038081479X'): -0.9286831639049815,\n",
       " ('AH62BQTCMR3BR', '0385333609'): -0.528683163904982,\n",
       " ('AH62BQTCMR3BR', '0385340265'): -0.3036831639049815,\n",
       " ('AH62BQTCMR3BR', '0385340354'): -0.01959225481407323,\n",
       " ('AH62BQTCMR3BR', '0385343183'): -0.35725459247641034,\n",
       " ('AH62BQTCMR3BR', '038551316X'): -0.06201649723831437,\n",
       " ('AH62BQTCMR3BR', '0385517831'): -0.09351832874014843,\n",
       " ('AH62BQTCMR3BR', '0385520808'): -0.5650468002686182,\n",
       " ('AH62BQTCMR3BR', '0385526350'): -0.2014104366322531,\n",
       " ('AH62BQTCMR3BR', '0399142282'): -1.0536831639049815,\n",
       " ('AH62BQTCMR3BR', '0399143955'): -0.07154030676212475,\n",
       " ('AH62BQTCMR3BR', '039914465X'): -0.655955891177709,\n",
       " ('AH62BQTCMR3BR', '039914739X'): -0.3377740729958898,\n",
       " ('AH62BQTCMR3BR', '0399148701'): -0.2816243403755685,\n",
       " ('AH62BQTCMR3BR', '0399150897'): -0.3881426233644403,\n",
       " ('AH62BQTCMR3BR', '0399151079'): -0.046330222728510506,\n",
       " ('AH62BQTCMR3BR', '0399151877'): -0.05368316390498151,\n",
       " ('AH62BQTCMR3BR', '0399152199'): -0.26959225481407145,\n",
       " ('AH62BQTCMR3BR', '0399152245'): -0.5715403067621248,\n",
       " ('AH62BQTCMR3BR', '0399153322'): -0.09534983057164848,\n",
       " ('AH62BQTCMR3BR', '0399153624'): -0.642968878190695,\n",
       " ('AH62BQTCMR3BR', '0399153934'): -0.5572545924764096,\n",
       " ('AH62BQTCMR3BR', '0399154183'): -0.8517600869819049,\n",
       " ('AH62BQTCMR3BR', '0399156119'): -0.5076305323260337,\n",
       " ('AH62BQTCMR3BR', '0399157301'): -0.32868316390498187,\n",
       " ('AH62BQTCMR3BR', '0399157654'): -0.11050134572316406,\n",
       " ('AH62BQTCMR3BR', '0399158863'): -0.5953498305716485,\n",
       " ('AH62BQTCMR3BR', '0399160671'): -0.528683163904982,\n",
       " ('AH62BQTCMR3BR', '0399160825'): -0.2363754715972899,\n",
       " ('AH62BQTCMR3BR', '0399242562'): -0.3453498305716485,\n",
       " ('AH62BQTCMR3BR', '042504386X'): -0.26201649723831544,\n",
       " ('AH62BQTCMR3BR', '0425158594'): -0.12868316390498258,\n",
       " ('AH62BQTCMR3BR', '0425197387'): -0.09534983057164848,\n",
       " ('AH62BQTCMR3BR', '0425198243'): -0.28979427501609223,\n",
       " ('AH62BQTCMR3BR', '0425207978'): -0.4564609416827583,\n",
       " ('AH62BQTCMR3BR', '0425210545'): -0.00011173533355357534,\n",
       " ('AH62BQTCMR3BR', '0425222195'): -0.7028767122920776,\n",
       " ('AH62BQTCMR3BR', '0425234339'): -0.3036831639049815,\n",
       " ('AH62BQTCMR3BR', '042523567X'): -0.29905353427535175,\n",
       " ('AH62BQTCMR3BR', '0425241270'): -0.47413770935952737,\n",
       " ('AH62BQTCMR3BR', '0425247546'): -0.015639685644111445,\n",
       " ('AH62BQTCMR3BR', '0425269515'): -1.2411831639049815,\n",
       " ('AH62BQTCMR3BR', '0440423627'): -0.09534983057164848,\n",
       " ('AH62BQTCMR3BR', '0446518131'): -0.7620164972383154,\n",
       " ('AH62BQTCMR3BR', '044651862X'): -0.13920947969445496,\n",
       " ('AH62BQTCMR3BR', '0446532215'): -0.4286831639049815,\n",
       " ('AH62BQTCMR3BR', '044656446X'): -0.15090538612720472,\n",
       " ('AH62BQTCMR3BR', '0446609323'): -0.15090538612720472,\n",
       " ('AH62BQTCMR3BR', '044661095X'): -0.669423904645722,\n",
       " ('AH62BQTCMR3BR', '0451118537'): -0.26201649723831544,\n",
       " ('AH62BQTCMR3BR', '0451239652'): -0.32868316390498187,\n",
       " ('AH62BQTCMR3BR', '0470913045'): -0.9286831639049815,\n",
       " ('AH62BQTCMR3BR', '0515140872'): -0.003683163904980802,\n",
       " ('AH62BQTCMR3BR', '0515143944'): -0.028683163904982045,\n",
       " ('AH62BQTCMR3BR', '0517580519'): -0.2562693708015331,\n",
       " ('AH62BQTCMR3BR', '0520217551'): -1.5953498305716485,\n",
       " ('AH62BQTCMR3BR', '0529064634'): -0.1786831639049815,\n",
       " ('AH62BQTCMR3BR', '0547813376'): -0.08657790074708682,\n",
       " ('AH62BQTCMR3BR', '0553286587'): -0.07154030676212475,\n",
       " ('AH62BQTCMR3BR', '0553382640'): -0.07154030676212475,\n",
       " ('AH62BQTCMR3BR', '055358653X'): -0.046330222728510506,\n",
       " ('AH62BQTCMR3BR', '345803485'): -0.31806369487843256,\n",
       " ('AH62BQTCMR3BR', '451194721'): -1.1105013457231632,\n",
       " ('AHCUFJHJAD6HP', '0062089374'): -0.08488932776243896,\n",
       " ('AHCUFJHJAD6HP', '0345518446'): -0.08488932776243896,\n",
       " ('AL5RP8DS1NUV3', '0062089374'): -0.26185065953340825,\n",
       " ('AL5RP8DS1NUV3', '0345518446'): -0.26185065953340825,\n",
       " ('AORT3BGJ6RK7R', '0062089374'): -0.18065710072280083,\n",
       " ('AORT3BGJ6RK7R', '0345518446'): -0.18065710072280083,\n",
       " ('AOTEOBX9GFZ48', '0062089374'): -0.2544922736705084,\n",
       " ('AOTEOBX9GFZ48', '0345518446'): -0.2544922736705084,\n",
       " ('AQ1F3NP2G15S5', '0062089374'): -0.04786448285716105,\n",
       " ('AQ1F3NP2G15S5', '0345518446'): -0.04786448285716105,\n",
       " ('AV88YTJXG5REB', '0062089374'): -0.12301498137765599,\n",
       " ('AV88YTJXG5REB', '0345518446'): -0.12301498137765599,\n",
       " ('AWECCFC31HF4U', '0062089374'): -0.19149419079387364,\n",
       " ('AWECCFC31HF4U', '0345518446'): -0.19149419079387364,\n",
       " ('AZK12FBX7X7LN', '0062089374'): -0.0427744480045158,\n",
       " ('AZK12FBX7X7LN', '0345518446'): -0.0427744480045158}"
      ]
     },
     "execution_count": 48,
     "metadata": {},
     "output_type": "execute_result"
    }
   ],
   "source": [
    "check_indices"
   ]
  },
  {
   "cell_type": "code",
   "execution_count": 50,
   "metadata": {
    "ExecuteTime": {
     "end_time": "2020-05-10T12:12:45.523773Z",
     "start_time": "2020-05-10T12:12:28.541778Z"
    },
    "hidden": true
   },
   "outputs": [],
   "source": [
    "values = []\n",
    "for value in check_indices_values:\n",
    "    values.append((pref_matrix.loc[value[0], value[1]], (pref_matrix[value[1]] != 0).mean()))"
   ]
  },
  {
   "cell_type": "code",
   "execution_count": 55,
   "metadata": {
    "ExecuteTime": {
     "end_time": "2020-05-10T12:19:06.031764Z",
     "start_time": "2020-05-10T12:19:05.999679Z"
    },
    "hidden": true
   },
   "outputs": [
    {
     "data": {
      "text/plain": [
       "array([ 1.,  2.,  3.,  4.,  5.,  6.,  7.,  8.,  9., 10., 11., 12., 13.,\n",
       "       14., 15., 16., 17., 18., 19., 20., 21., 22., 23., 24., 26., 27.,\n",
       "       29., 32., 33., 34., 35., 38., 43., 44., 46., 48., 51., 53., 54.,\n",
       "       57.])"
      ]
     },
     "execution_count": 55,
     "metadata": {},
     "output_type": "execute_result"
    }
   ],
   "source": [
    "percentages = np.array([(y*5634) for (x,y) in values])\n",
    "np.unique(percentages)"
   ]
  },
  {
   "cell_type": "code",
   "execution_count": 56,
   "metadata": {
    "ExecuteTime": {
     "end_time": "2020-05-10T12:19:30.140169Z",
     "start_time": "2020-05-10T12:19:30.131934Z"
    },
    "hidden": true,
    "scrolled": false
   },
   "outputs": [
    {
     "data": {
      "text/plain": [
       "34295"
      ]
     },
     "execution_count": 56,
     "metadata": {},
     "output_type": "execute_result"
    }
   ],
   "source": [
    "len(values)"
   ]
  },
  {
   "cell_type": "markdown",
   "metadata": {
    "heading_collapsed": true
   },
   "source": [
    "## Testing ground "
   ]
  },
  {
   "cell_type": "code",
   "execution_count": 35,
   "metadata": {
    "ExecuteTime": {
     "end_time": "2020-05-09T15:11:14.601180Z",
     "start_time": "2020-05-09T15:11:14.595274Z"
    },
    "hidden": true
   },
   "outputs": [],
   "source": [
    "test = pd.DataFrame([[1,1,1], [1,1,1], [1,1,1], [1,1,1]])"
   ]
  },
  {
   "cell_type": "code",
   "execution_count": 45,
   "metadata": {
    "ExecuteTime": {
     "end_time": "2020-05-09T15:19:16.108223Z",
     "start_time": "2020-05-09T15:19:16.093912Z"
    },
    "hidden": true
   },
   "outputs": [
    {
     "data": {
      "text/html": [
       "<div>\n",
       "<style scoped>\n",
       "    .dataframe tbody tr th:only-of-type {\n",
       "        vertical-align: middle;\n",
       "    }\n",
       "\n",
       "    .dataframe tbody tr th {\n",
       "        vertical-align: top;\n",
       "    }\n",
       "\n",
       "    .dataframe thead th {\n",
       "        text-align: right;\n",
       "    }\n",
       "</style>\n",
       "<table border=\"1\" class=\"dataframe\">\n",
       "  <thead>\n",
       "    <tr style=\"text-align: right;\">\n",
       "      <th></th>\n",
       "      <th>0</th>\n",
       "      <th>1</th>\n",
       "      <th>2</th>\n",
       "    </tr>\n",
       "  </thead>\n",
       "  <tbody>\n",
       "    <tr>\n",
       "      <th>0</th>\n",
       "      <td>1</td>\n",
       "      <td>1</td>\n",
       "      <td>1</td>\n",
       "    </tr>\n",
       "    <tr>\n",
       "      <th>1</th>\n",
       "      <td>1</td>\n",
       "      <td>1</td>\n",
       "      <td>1</td>\n",
       "    </tr>\n",
       "    <tr>\n",
       "      <th>2</th>\n",
       "      <td>1</td>\n",
       "      <td>1</td>\n",
       "      <td>1</td>\n",
       "    </tr>\n",
       "    <tr>\n",
       "      <th>3</th>\n",
       "      <td>1</td>\n",
       "      <td>1</td>\n",
       "      <td>1</td>\n",
       "    </tr>\n",
       "  </tbody>\n",
       "</table>\n",
       "</div>"
      ],
      "text/plain": [
       "   0  1  2\n",
       "0  1  1  1\n",
       "1  1  1  1\n",
       "2  1  1  1\n",
       "3  1  1  1"
      ]
     },
     "execution_count": 45,
     "metadata": {},
     "output_type": "execute_result"
    }
   ],
   "source": [
    "test"
   ]
  },
  {
   "cell_type": "code",
   "execution_count": 36,
   "metadata": {
    "ExecuteTime": {
     "end_time": "2020-05-09T15:11:16.841444Z",
     "start_time": "2020-05-09T15:11:16.835807Z"
    },
    "hidden": true
   },
   "outputs": [],
   "source": [
    "items = pd.Series([0.1, 0.2, 0.3])"
   ]
  },
  {
   "cell_type": "code",
   "execution_count": 37,
   "metadata": {
    "ExecuteTime": {
     "end_time": "2020-05-09T15:11:32.052925Z",
     "start_time": "2020-05-09T15:11:32.045946Z"
    },
    "hidden": true
   },
   "outputs": [],
   "source": [
    "users = pd.Series([0.1, 0.2, 0.3, 0.4])"
   ]
  },
  {
   "cell_type": "code",
   "execution_count": 38,
   "metadata": {
    "ExecuteTime": {
     "end_time": "2020-05-09T15:11:39.978196Z",
     "start_time": "2020-05-09T15:11:39.969357Z"
    },
    "hidden": true,
    "scrolled": false
   },
   "outputs": [
    {
     "name": "stdout",
     "output_type": "stream",
     "text": [
      "(3,) (4,)\n"
     ]
    }
   ],
   "source": [
    "print(items.shape, users.shape)"
   ]
  },
  {
   "cell_type": "code",
   "execution_count": null,
   "metadata": {
    "hidden": true
   },
   "outputs": [],
   "source": []
  },
  {
   "cell_type": "code",
   "execution_count": 60,
   "metadata": {
    "ExecuteTime": {
     "end_time": "2020-05-09T14:41:07.976105Z",
     "start_time": "2020-05-09T14:41:07.956380Z"
    },
    "hidden": true
   },
   "outputs": [
    {
     "data": {
      "text/plain": [
       "0    0.1\n",
       "1    0.2\n",
       "2    0.3\n",
       "dtype: float64"
      ]
     },
     "execution_count": 60,
     "metadata": {},
     "output_type": "execute_result"
    }
   ],
   "source": [
    "items"
   ]
  },
  {
   "cell_type": "code",
   "execution_count": 58,
   "metadata": {
    "ExecuteTime": {
     "end_time": "2020-05-09T14:40:19.581436Z",
     "start_time": "2020-05-09T14:40:19.560425Z"
    },
    "hidden": true
   },
   "outputs": [
    {
     "data": {
      "text/html": [
       "<div>\n",
       "<style scoped>\n",
       "    .dataframe tbody tr th:only-of-type {\n",
       "        vertical-align: middle;\n",
       "    }\n",
       "\n",
       "    .dataframe tbody tr th {\n",
       "        vertical-align: top;\n",
       "    }\n",
       "\n",
       "    .dataframe thead th {\n",
       "        text-align: right;\n",
       "    }\n",
       "</style>\n",
       "<table border=\"1\" class=\"dataframe\">\n",
       "  <thead>\n",
       "    <tr style=\"text-align: right;\">\n",
       "      <th></th>\n",
       "      <th>0</th>\n",
       "      <th>1</th>\n",
       "      <th>2</th>\n",
       "    </tr>\n",
       "  </thead>\n",
       "  <tbody>\n",
       "    <tr>\n",
       "      <th>0</th>\n",
       "      <td>0.9</td>\n",
       "      <td>0.8</td>\n",
       "      <td>0.7</td>\n",
       "    </tr>\n",
       "    <tr>\n",
       "      <th>1</th>\n",
       "      <td>0.9</td>\n",
       "      <td>0.8</td>\n",
       "      <td>0.7</td>\n",
       "    </tr>\n",
       "    <tr>\n",
       "      <th>2</th>\n",
       "      <td>0.9</td>\n",
       "      <td>0.8</td>\n",
       "      <td>0.7</td>\n",
       "    </tr>\n",
       "    <tr>\n",
       "      <th>3</th>\n",
       "      <td>0.9</td>\n",
       "      <td>0.8</td>\n",
       "      <td>0.7</td>\n",
       "    </tr>\n",
       "  </tbody>\n",
       "</table>\n",
       "</div>"
      ],
      "text/plain": [
       "     0    1    2\n",
       "0  0.9  0.8  0.7\n",
       "1  0.9  0.8  0.7\n",
       "2  0.9  0.8  0.7\n",
       "3  0.9  0.8  0.7"
      ]
     },
     "execution_count": 58,
     "metadata": {},
     "output_type": "execute_result"
    }
   ],
   "source": [
    "test - items"
   ]
  },
  {
   "cell_type": "code",
   "execution_count": 46,
   "metadata": {
    "ExecuteTime": {
     "end_time": "2020-05-09T15:19:38.265675Z",
     "start_time": "2020-05-09T15:19:38.245368Z"
    },
    "hidden": true
   },
   "outputs": [
    {
     "data": {
      "text/html": [
       "<div>\n",
       "<style scoped>\n",
       "    .dataframe tbody tr th:only-of-type {\n",
       "        vertical-align: middle;\n",
       "    }\n",
       "\n",
       "    .dataframe tbody tr th {\n",
       "        vertical-align: top;\n",
       "    }\n",
       "\n",
       "    .dataframe thead th {\n",
       "        text-align: right;\n",
       "    }\n",
       "</style>\n",
       "<table border=\"1\" class=\"dataframe\">\n",
       "  <thead>\n",
       "    <tr style=\"text-align: right;\">\n",
       "      <th></th>\n",
       "      <th>0</th>\n",
       "      <th>1</th>\n",
       "      <th>2</th>\n",
       "    </tr>\n",
       "  </thead>\n",
       "  <tbody>\n",
       "    <tr>\n",
       "      <th>0</th>\n",
       "      <td>0.9</td>\n",
       "      <td>0.9</td>\n",
       "      <td>0.9</td>\n",
       "    </tr>\n",
       "    <tr>\n",
       "      <th>1</th>\n",
       "      <td>0.8</td>\n",
       "      <td>0.8</td>\n",
       "      <td>0.8</td>\n",
       "    </tr>\n",
       "    <tr>\n",
       "      <th>2</th>\n",
       "      <td>0.7</td>\n",
       "      <td>0.7</td>\n",
       "      <td>0.7</td>\n",
       "    </tr>\n",
       "    <tr>\n",
       "      <th>3</th>\n",
       "      <td>0.6</td>\n",
       "      <td>0.6</td>\n",
       "      <td>0.6</td>\n",
       "    </tr>\n",
       "  </tbody>\n",
       "</table>\n",
       "</div>"
      ],
      "text/plain": [
       "     0    1    2\n",
       "0  0.9  0.9  0.9\n",
       "1  0.8  0.8  0.8\n",
       "2  0.7  0.7  0.7\n",
       "3  0.6  0.6  0.6"
      ]
     },
     "execution_count": 46,
     "metadata": {},
     "output_type": "execute_result"
    }
   ],
   "source": [
    "test_1 = test.T - users\n",
    "test_1 = test_1.T\n",
    "test_1"
   ]
  },
  {
   "cell_type": "code",
   "execution_count": 47,
   "metadata": {
    "ExecuteTime": {
     "end_time": "2020-05-09T15:20:06.088972Z",
     "start_time": "2020-05-09T15:20:06.066362Z"
    },
    "hidden": true
   },
   "outputs": [
    {
     "data": {
      "text/html": [
       "<div>\n",
       "<style scoped>\n",
       "    .dataframe tbody tr th:only-of-type {\n",
       "        vertical-align: middle;\n",
       "    }\n",
       "\n",
       "    .dataframe tbody tr th {\n",
       "        vertical-align: top;\n",
       "    }\n",
       "\n",
       "    .dataframe thead th {\n",
       "        text-align: right;\n",
       "    }\n",
       "</style>\n",
       "<table border=\"1\" class=\"dataframe\">\n",
       "  <thead>\n",
       "    <tr style=\"text-align: right;\">\n",
       "      <th></th>\n",
       "      <th>0</th>\n",
       "      <th>1</th>\n",
       "      <th>2</th>\n",
       "    </tr>\n",
       "  </thead>\n",
       "  <tbody>\n",
       "    <tr>\n",
       "      <th>0</th>\n",
       "      <td>1.0</td>\n",
       "      <td>1.0</td>\n",
       "      <td>1.0</td>\n",
       "    </tr>\n",
       "    <tr>\n",
       "      <th>1</th>\n",
       "      <td>1.0</td>\n",
       "      <td>1.0</td>\n",
       "      <td>1.0</td>\n",
       "    </tr>\n",
       "    <tr>\n",
       "      <th>2</th>\n",
       "      <td>1.0</td>\n",
       "      <td>1.0</td>\n",
       "      <td>1.0</td>\n",
       "    </tr>\n",
       "    <tr>\n",
       "      <th>3</th>\n",
       "      <td>1.0</td>\n",
       "      <td>1.0</td>\n",
       "      <td>1.0</td>\n",
       "    </tr>\n",
       "  </tbody>\n",
       "</table>\n",
       "</div>"
      ],
      "text/plain": [
       "     0    1    2\n",
       "0  1.0  1.0  1.0\n",
       "1  1.0  1.0  1.0\n",
       "2  1.0  1.0  1.0\n",
       "3  1.0  1.0  1.0"
      ]
     },
     "execution_count": 47,
     "metadata": {},
     "output_type": "execute_result"
    }
   ],
   "source": [
    "test_2 = test_1.T + users\n",
    "test_2 = test_2.T\n",
    "test_2"
   ]
  },
  {
   "cell_type": "code",
   "execution_count": null,
   "metadata": {
    "hidden": true
   },
   "outputs": [],
   "source": []
  }
 ],
 "metadata": {
  "kernelspec": {
   "display_name": "Python 3",
   "language": "python",
   "name": "python3"
  },
  "language_info": {
   "codemirror_mode": {
    "name": "ipython",
    "version": 3
   },
   "file_extension": ".py",
   "mimetype": "text/x-python",
   "name": "python",
   "nbconvert_exporter": "python",
   "pygments_lexer": "ipython3",
   "version": "3.7.4"
  },
  "toc": {
   "base_numbering": 1,
   "nav_menu": {},
   "number_sections": true,
   "sideBar": true,
   "skip_h1_title": false,
   "title_cell": "Table of Contents",
   "title_sidebar": "Contents",
   "toc_cell": false,
   "toc_position": {},
   "toc_section_display": true,
   "toc_window_display": false
  },
  "varInspector": {
   "cols": {
    "lenName": 16,
    "lenType": 16,
    "lenVar": 40
   },
   "kernels_config": {
    "python": {
     "delete_cmd_postfix": "",
     "delete_cmd_prefix": "del ",
     "library": "var_list.py",
     "varRefreshCmd": "print(var_dic_list())"
    },
    "r": {
     "delete_cmd_postfix": ") ",
     "delete_cmd_prefix": "rm(",
     "library": "var_list.r",
     "varRefreshCmd": "cat(var_dic_list()) "
    }
   },
   "types_to_exclude": [
    "module",
    "function",
    "builtin_function_or_method",
    "instance",
    "_Feature"
   ],
   "window_display": false
  }
 },
 "nbformat": 4,
 "nbformat_minor": 2
}
