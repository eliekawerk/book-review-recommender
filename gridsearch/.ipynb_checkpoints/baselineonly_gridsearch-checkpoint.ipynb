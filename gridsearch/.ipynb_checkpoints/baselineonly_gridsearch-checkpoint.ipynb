{
 "cells": [
  {
   "cell_type": "markdown",
   "metadata": {},
   "source": [
    "# Gridsearching BaselineOnly"
   ]
  },
  {
   "cell_type": "code",
   "execution_count": 0,
   "metadata": {
    "colab": {},
    "colab_type": "code",
    "id": "12lELD94aqqN"
   },
   "outputs": [],
   "source": [
    "import pandas as pd\n",
    "import numpy as np\n",
    "import surprise as sur\n",
    "import random"
   ]
  },
  {
   "cell_type": "markdown",
   "metadata": {
    "ExecuteTime": {
     "end_time": "2020-05-31T09:40:00.457702Z",
     "start_time": "2020-05-31T09:40:00.448867Z"
    }
   },
   "source": [
    "Read in the review dataset and prepare the dataset to be processed by the Surprise library using the Reader and Dataset classes."
   ]
  },
  {
   "cell_type": "code",
   "execution_count": 0,
   "metadata": {
    "colab": {},
    "colab_type": "code",
    "id": "MQl4jDgxMQgi"
   },
   "outputs": [],
   "source": [
    "df=pd.read_csv('df_sub.csv.gz', \n",
    "                       compression='gzip').astype({'rating':'int8', 'total_votes':'int32'})"
   ]
  },
  {
   "cell_type": "code",
   "execution_count": 0,
   "metadata": {
    "colab": {},
    "colab_type": "code",
    "id": "Ts_Z-0qKMbre"
   },
   "outputs": [],
   "source": [
    "reader = sur.Reader(rating_scale=(1,5))\n",
    "data = sur.Dataset.load_from_df(df[['reviewerId', 'asin','rating']], reader)"
   ]
  },
  {
   "cell_type": "code",
   "execution_count": 33,
   "metadata": {
    "colab": {
     "base_uri": "https://localhost:8080/",
     "height": 51
    },
    "colab_type": "code",
    "executionInfo": {
     "elapsed": 3933,
     "status": "ok",
     "timestamp": 1589726680035,
     "user": {
      "displayName": "Sangeetha Veluru",
      "photoUrl": "",
      "userId": "08317894177451466178"
     },
     "user_tz": -60
    },
    "id": "uAalqxyKcMZv",
    "outputId": "92756c8a-a170-485e-c949-a0bc0c227837",
    "scrolled": true
   },
   "outputs": [
    {
     "name": "stdout",
     "output_type": "stream",
     "text": [
      "246294\n",
      "27367\n"
     ]
    }
   ],
   "source": [
    "#Splitting the data into train and test set\n",
    "\n",
    "raw_ratings = data.raw_ratings\n",
    "np.random.seed(1)\n",
    "# shuffle ratings if you want\n",
    "random.shuffle(raw_ratings)\n",
    "\n",
    "threshold = int(.9 * len(raw_ratings))\n",
    "A_raw_ratings = raw_ratings[:threshold]\n",
    "B_raw_ratings = raw_ratings[threshold:]\n",
    "\n",
    "print(len(A_raw_ratings))\n",
    "print(len(B_raw_ratings))\n",
    "\n",
    "data.raw_ratings = A_raw_ratings"
   ]
  },
  {
   "cell_type": "markdown",
   "metadata": {},
   "source": [
    "Gridsearching BaselineOnly with various options. I ran through quite a few iterations of testing different ranges for all options, see the [Surprise documentation](https://surprise.readthedocs.io/en/stable/index.html) for more information."
   ]
  },
  {
   "cell_type": "code",
   "execution_count": 0,
   "metadata": {
    "colab": {},
    "colab_type": "code",
    "id": "SfCnR0oBzMni"
   },
   "outputs": [],
   "source": [
    "baseline = sur.BaselineOnly()"
   ]
  },
  {
   "cell_type": "code",
   "execution_count": 0,
   "metadata": {
    "colab": {},
    "colab_type": "code",
    "id": "abbKyLxgMex6"
   },
   "outputs": [],
   "source": [
    "param_grid = {'bsl_options': {'method': ['als', 'sgd'], \n",
    "                              'reg_i': [4,5,6],\n",
    "                              'reg_u': [4,6,7],\n",
    "                              'n_epochs': [10, 15, 20], \n",
    "                              'reg': [0.01, 0.02, 0.05, 0.1]\n",
    "                              },\n",
    "              }\n",
    "grid_search = sur.model_selection.GridSearchCV(sur.BaselineOnly,\n",
    "                                               param_grid,\n",
    "                                               measures=['rmse'],\n",
    "                                               cv=3,\n",
    "                                               refit=True)"
   ]
  },
  {
   "cell_type": "code",
   "execution_count": 50,
   "metadata": {
    "colab": {
     "base_uri": "https://localhost:8080/",
     "height": 969
    },
    "colab_type": "code",
    "executionInfo": {
     "elapsed": 108916,
     "status": "ok",
     "timestamp": 1589735147728,
     "user": {
      "displayName": "Sangeetha Veluru",
      "photoUrl": "",
      "userId": "08317894177451466178"
     },
     "user_tz": -60
    },
    "id": "941lHL18W4gV",
    "outputId": "54dbdab3-7af5-42fa-8d20-c667d7a6eae2"
   },
   "outputs": [
    {
     "name": "stdout",
     "output_type": "stream",
     "text": [
      "Estimating biases using als...\n",
      "Estimating biases using als...\n",
      "Estimating biases using als...\n",
      "Estimating biases using als...\n",
      "Estimating biases using als...\n",
      "Estimating biases using als...\n",
      "Estimating biases using als...\n",
      "Estimating biases using als...\n",
      "Estimating biases using als...\n",
      "Estimating biases using als...\n",
      "Estimating biases using als...\n",
      "Estimating biases using als...\n",
      "Estimating biases using als...\n",
      "Estimating biases using als...\n",
      "Estimating biases using als...\n",
      "Estimating biases using als...\n",
      "Estimating biases using als...\n",
      "Estimating biases using als...\n",
      "Estimating biases using als...\n",
      "Estimating biases using als...\n",
      "Estimating biases using als...\n",
      "Estimating biases using als...\n",
      "Estimating biases using als...\n",
      "Estimating biases using als...\n",
      "Estimating biases using als...\n",
      "Estimating biases using als...\n",
      "Estimating biases using als...\n",
      "Estimating biases using als...\n",
      "Estimating biases using als...\n",
      "Estimating biases using als...\n",
      "Estimating biases using als...\n",
      "Estimating biases using als...\n",
      "Estimating biases using als...\n",
      "Estimating biases using als...\n",
      "Estimating biases using als...\n",
      "Estimating biases using als...\n",
      "Estimating biases using als...\n",
      "Estimating biases using als...\n",
      "Estimating biases using als...\n",
      "Estimating biases using als...\n",
      "Estimating biases using als...\n",
      "Estimating biases using als...\n",
      "Estimating biases using als...\n",
      "Estimating biases using als...\n",
      "Estimating biases using als...\n",
      "Estimating biases using als...\n",
      "Estimating biases using als...\n",
      "Estimating biases using als...\n",
      "Estimating biases using als...\n",
      "Estimating biases using als...\n",
      "Estimating biases using als...\n",
      "Estimating biases using als...\n",
      "Estimating biases using als...\n",
      "Estimating biases using als...\n",
      "Estimating biases using als...\n",
      "Best score    {'rmse': 0.8525746739211909}\n"
     ]
    }
   ],
   "source": [
    "grid_search.fit(data)\n",
    "\n",
    "algo = grid_search.best_estimator['rmse']\n",
    "\n",
    "print('Best score ', end='   ')\n",
    "print(grid_search.best_score)"
   ]
  },
  {
   "cell_type": "code",
   "execution_count": 52,
   "metadata": {
    "colab": {
     "base_uri": "https://localhost:8080/",
     "height": 85
    },
    "colab_type": "code",
    "executionInfo": {
     "elapsed": 105346,
     "status": "ok",
     "timestamp": 1589735147731,
     "user": {
      "displayName": "Sangeetha Veluru",
      "photoUrl": "",
      "userId": "08317894177451466178"
     },
     "user_tz": -60
    },
    "id": "eFF5y9a9mdU7",
    "outputId": "026bd510-dd7b-4036-f50f-8ce946be82bc"
   },
   "outputs": [
    {
     "data": {
      "text/plain": [
       "{'rmse': {'bsl_options': {'method': 'als',\n",
       "   'n_epochs': 20,\n",
       "   'reg_i': 4,\n",
       "   'reg_u': 4}}}"
      ]
     },
     "execution_count": 52,
     "metadata": {
      "tags": []
     },
     "output_type": "execute_result"
    }
   ],
   "source": [
    "#Obtaining the optimal parameters\n",
    "grid_search.best_params"
   ]
  },
  {
   "cell_type": "code",
   "execution_count": 0,
   "metadata": {
    "colab": {},
    "colab_type": "code",
    "id": "iPwbNx-1Nj7S"
   },
   "outputs": [],
   "source": [
    "algo = grid_search.best_estimator['rmse']"
   ]
  },
  {
   "cell_type": "markdown",
   "metadata": {},
   "source": [
    "Refitting the optimal algo with the training and test set to compute trainign and test scores."
   ]
  },
  {
   "cell_type": "code",
   "execution_count": 44,
   "metadata": {
    "colab": {
     "base_uri": "https://localhost:8080/",
     "height": 102
    },
    "colab_type": "code",
    "executionInfo": {
     "elapsed": 6262,
     "status": "ok",
     "timestamp": 1589734630451,
     "user": {
      "displayName": "Sangeetha Veluru",
      "photoUrl": "",
      "userId": "08317894177451466178"
     },
     "user_tz": -60
    },
    "id": "maoxUKq6d4TI",
    "outputId": "68b0e8dd-199d-4516-8fa2-e03df21e8c91"
   },
   "outputs": [
    {
     "name": "stdout",
     "output_type": "stream",
     "text": [
      "Estimating biases using als...\n",
      "Training score    RMSE: 0.8097\n",
      "0.8096642650404079\n",
      "Test score (rated items)  RMSE: 0.8549\n",
      "0.8549069265508885\n"
     ]
    }
   ],
   "source": [
    "# retrain on the whole set A\n",
    "trainset = data.build_full_trainset()\n",
    "algo.fit(trainset)\n",
    "\n",
    "# Compute score on training set\n",
    "trainset_build = trainset.build_testset()\n",
    "predictions_train = algo.test(trainset_build)\n",
    "print('Training score ', end='   ')\n",
    "print(sur.accuracy.rmse(predictions_train))\n",
    "\n",
    "# Compute score on rated test set\n",
    "testset = data.construct_testset(B_raw_ratings)  # testset is now the set B\n",
    "predictions_test = algo.test(testset)\n",
    "print('Test score (rated items) ', end=' ')\n",
    "print(sur.accuracy.rmse(predictions_test))\n"
   ]
  },
  {
   "cell_type": "code",
   "execution_count": 0,
   "metadata": {
    "colab": {},
    "colab_type": "code",
    "id": "fUbXycpZNZX8"
   },
   "outputs": [],
   "source": []
  }
 ],
 "metadata": {
  "colab": {
   "authorship_tag": "ABX9TyOhXZlwilhOCXpC0/mI8/rc",
   "name": "BaselineOnly - Gridsearch.ipynb",
   "provenance": []
  },
  "kernelspec": {
   "display_name": "Python 3",
   "language": "python",
   "name": "python3"
  },
  "language_info": {
   "codemirror_mode": {
    "name": "ipython",
    "version": 3
   },
   "file_extension": ".py",
   "mimetype": "text/x-python",
   "name": "python",
   "nbconvert_exporter": "python",
   "pygments_lexer": "ipython3",
   "version": "3.7.4"
  },
  "toc": {
   "base_numbering": 1,
   "nav_menu": {},
   "number_sections": true,
   "sideBar": true,
   "skip_h1_title": false,
   "title_cell": "Table of Contents",
   "title_sidebar": "Contents",
   "toc_cell": false,
   "toc_position": {},
   "toc_section_display": true,
   "toc_window_display": false
  },
  "varInspector": {
   "cols": {
    "lenName": 16,
    "lenType": 16,
    "lenVar": 40
   },
   "kernels_config": {
    "python": {
     "delete_cmd_postfix": "",
     "delete_cmd_prefix": "del ",
     "library": "var_list.py",
     "varRefreshCmd": "print(var_dic_list())"
    },
    "r": {
     "delete_cmd_postfix": ") ",
     "delete_cmd_prefix": "rm(",
     "library": "var_list.r",
     "varRefreshCmd": "cat(var_dic_list()) "
    }
   },
   "types_to_exclude": [
    "module",
    "function",
    "builtin_function_or_method",
    "instance",
    "_Feature"
   ],
   "window_display": false
  }
 },
 "nbformat": 4,
 "nbformat_minor": 1
}
