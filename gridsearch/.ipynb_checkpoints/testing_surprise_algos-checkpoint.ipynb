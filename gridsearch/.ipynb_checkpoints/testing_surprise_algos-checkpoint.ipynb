{
 "cells": [
  {
   "cell_type": "code",
   "execution_count": 5,
   "metadata": {
    "ExecuteTime": {
     "end_time": "2020-06-01T09:27:03.148839Z",
     "start_time": "2020-06-01T09:27:03.140304Z"
    },
    "colab": {},
    "colab_type": "code",
    "id": "1wrEYqd2XtF3"
   },
   "outputs": [],
   "source": [
    "import pandas as pd \n",
    "import surprise as sur\n",
    "import matplotlib.pyplot as plt\n",
    "import seaborn as sns\n",
    "from surprise.model_selection import cross_validate\n",
    "\n",
    "plt.style.use('ggplot') "
   ]
  },
  {
   "cell_type": "markdown",
   "metadata": {},
   "source": [
    "Read in the review dataset and prepare the dataset to be processed by the Surprise library using the Reader and Dataset classes."
   ]
  },
  {
   "cell_type": "code",
   "execution_count": 0,
   "metadata": {
    "colab": {},
    "colab_type": "code",
    "id": "LxsJ05LxZ0OS"
   },
   "outputs": [],
   "source": [
    "df = pd.read_csv('df_sub.csv.gz', \n",
    "                       compression='gzip').astype({'rating':'int8', 'total_votes':'int32'})"
   ]
  },
  {
   "cell_type": "code",
   "execution_count": 0,
   "metadata": {
    "colab": {},
    "colab_type": "code",
    "id": "55iJ35D-1hcF"
   },
   "outputs": [],
   "source": [
    "reader = sur.Reader(rating_scale=(0,5))\n",
    "data = sur.Dataset.load_from_df(df[['reviewerId', 'asin','rating']], reader)"
   ]
  },
  {
   "cell_type": "markdown",
   "metadata": {
    "colab_type": "text",
    "id": "OcR2ummuaZVt"
   },
   "source": [
    "## Calculating RMSE for all algos in Surprise"
   ]
  },
  {
   "cell_type": "markdown",
   "metadata": {},
   "source": [
    "I first wanted to find the best algorithms offered by the Surprise in terms of minimising RMSE. I used code from [this notebook](https://github.com/susanli2016/Machine-Learning-with-Python/blob/master/Building%20Recommender%20System%20with%20Surprise.ipynb) to iterate and cross validate all the algorithms to obtain RMSE, MAE, fit times and test times so I could pick the best ones to gridsearch even further."
   ]
  },
  {
   "cell_type": "markdown",
   "metadata": {},
   "source": [
    "After calculating the RMSE scores for all the algorithms, I decided to pick BaselineOnly, SVD and KNNBaseline to gridsearch further to optimise the RMSE through hypertuning. I decided to chose SVD over SVDpp as it performed only marginall better that SVD which wasn't enough to justify the fit time. These were done in seperate notebook as I used hosted runtime on Google Collabs to ease the load on my laptop."
   ]
  },
  {
   "cell_type": "code",
   "execution_count": 0,
   "metadata": {
    "colab": {
     "base_uri": "https://localhost:8080/",
     "height": 1000
    },
    "colab_type": "code",
    "id": "HhkC7qvvbTbK",
    "outputId": "7f4629ce-236a-4aea-ac97-7a6f97dc0f6b",
    "scrolled": true
   },
   "outputs": [
    {
     "name": "stdout",
     "output_type": "stream",
     "text": [
      "Evaluating RMSE, MAE of algorithm SVD on 3 split(s).\n",
      "\n",
      "                  Fold 1  Fold 2  Fold 3  Mean    Std     \n",
      "RMSE (testset)    0.8601  0.8606  0.8656  0.8621  0.0025  \n",
      "MAE (testset)     0.6644  0.6657  0.6693  0.6665  0.0021  \n",
      "Fit time          12.54   12.99   12.83   12.79   0.19    \n",
      "Test time         0.95    1.29    1.09    1.11    0.14    \n",
      "Evaluating RMSE, MAE of algorithm SVDpp on 3 split(s).\n",
      "\n",
      "                  Fold 1  Fold 2  Fold 3  Mean    Std     \n",
      "RMSE (testset)    0.8599  0.8588  0.8585  0.8591  0.0006  \n",
      "MAE (testset)     0.6624  0.6599  0.6613  0.6612  0.0010  \n",
      "Fit time          363.73  345.33  351.35  353.47  7.66    \n",
      "Test time         17.77   18.45   19.33   18.52   0.64    \n",
      "Evaluating RMSE, MAE of algorithm SlopeOne on 3 split(s).\n",
      "\n",
      "                  Fold 1  Fold 2  Fold 3  Mean    Std     \n",
      "RMSE (testset)    0.8916  0.8952  0.8892  0.8920  0.0025  \n",
      "MAE (testset)     0.6822  0.6823  0.6826  0.6824  0.0002  \n",
      "Fit time          7.21    8.16    7.53    7.63    0.39    \n",
      "Test time         12.61   12.85   14.34   13.27   0.77    \n",
      "Evaluating RMSE, MAE of algorithm NMF on 3 split(s).\n",
      "\n",
      "                  Fold 1  Fold 2  Fold 3  Mean    Std     \n",
      "RMSE (testset)    0.9265  0.9215  0.9251  0.9244  0.0021  \n",
      "MAE (testset)     0.7178  0.7138  0.7189  0.7168  0.0022  \n",
      "Fit time          16.82   17.10   17.93   17.29   0.47    \n",
      "Test time         0.92    0.90    1.00    0.94    0.04    \n",
      "Evaluating RMSE, MAE of algorithm NormalPredictor on 3 split(s).\n",
      "\n",
      "                  Fold 1  Fold 2  Fold 3  Mean    Std     \n",
      "RMSE (testset)    1.2947  1.2992  1.2994  1.2978  0.0022  \n",
      "MAE (testset)     1.0079  1.0126  1.0130  1.0111  0.0023  \n",
      "Fit time          0.30    0.44    0.43    0.39    0.06    \n",
      "Test time         0.97    1.01    0.97    0.98    0.02    \n",
      "Estimating biases using als...\n",
      "Computing the msd similarity matrix...\n",
      "Done computing similarity matrix.\n",
      "Estimating biases using als...\n",
      "Computing the msd similarity matrix...\n",
      "Done computing similarity matrix.\n",
      "Estimating biases using als...\n",
      "Computing the msd similarity matrix...\n",
      "Done computing similarity matrix.\n",
      "Evaluating RMSE, MAE of algorithm KNNBaseline on 3 split(s).\n",
      "\n",
      "                  Fold 1  Fold 2  Fold 3  Mean    Std     \n",
      "RMSE (testset)    0.8683  0.8680  0.8703  0.8689  0.0010  \n",
      "MAE (testset)     0.6667  0.6660  0.6663  0.6663  0.0003  \n",
      "Fit time          1.67    1.71    1.95    1.77    0.12    \n",
      "Test time         8.15    7.81    7.72    7.89    0.18    \n",
      "Computing the msd similarity matrix...\n",
      "Done computing similarity matrix.\n",
      "Computing the msd similarity matrix...\n",
      "Done computing similarity matrix.\n",
      "Computing the msd similarity matrix...\n",
      "Done computing similarity matrix.\n",
      "Evaluating RMSE, MAE of algorithm KNNBasic on 3 split(s).\n",
      "\n",
      "                  Fold 1  Fold 2  Fold 3  Mean    Std     \n",
      "RMSE (testset)    0.9417  0.9458  0.9456  0.9444  0.0019  \n",
      "MAE (testset)     0.7335  0.7370  0.7352  0.7352  0.0014  \n",
      "Fit time          0.70    0.79    0.81    0.77    0.05    \n",
      "Test time         5.83    5.84    5.88    5.85    0.02    \n",
      "Computing the msd similarity matrix...\n",
      "Done computing similarity matrix.\n",
      "Computing the msd similarity matrix...\n",
      "Done computing similarity matrix.\n",
      "Computing the msd similarity matrix...\n",
      "Done computing similarity matrix.\n",
      "Evaluating RMSE, MAE of algorithm KNNWithMeans on 3 split(s).\n",
      "\n",
      "                  Fold 1  Fold 2  Fold 3  Mean    Std     \n",
      "RMSE (testset)    0.8726  0.8676  0.8744  0.8715  0.0029  \n",
      "MAE (testset)     0.6675  0.6629  0.6677  0.6660  0.0022  \n",
      "Fit time          0.85    0.90    0.93    0.90    0.03    \n",
      "Test time         9.23    6.63    6.69    7.52    1.21    \n",
      "Computing the msd similarity matrix...\n",
      "Done computing similarity matrix.\n",
      "Computing the msd similarity matrix...\n",
      "Done computing similarity matrix.\n",
      "Computing the msd similarity matrix...\n",
      "Done computing similarity matrix.\n",
      "Evaluating RMSE, MAE of algorithm KNNWithZScore on 3 split(s).\n",
      "\n",
      "                  Fold 1  Fold 2  Fold 3  Mean    Std     \n",
      "RMSE (testset)    0.8745  0.8772  0.8746  0.8754  0.0012  \n",
      "MAE (testset)     0.6663  0.6653  0.6646  0.6654  0.0007  \n",
      "Fit time          1.11    1.38    1.07    1.19    0.14    \n",
      "Test time         7.60    7.47    7.31    7.46    0.12    \n",
      "Estimating biases using als...\n",
      "Estimating biases using als...\n",
      "Estimating biases using als...\n",
      "Evaluating RMSE, MAE of algorithm BaselineOnly on 3 split(s).\n",
      "\n",
      "                  Fold 1  Fold 2  Fold 3  Mean    Std     \n",
      "RMSE (testset)    0.8557  0.8582  0.8539  0.8560  0.0018  \n",
      "MAE (testset)     0.6661  0.6692  0.6652  0.6668  0.0017  \n",
      "Fit time          0.99    1.04    1.12    1.05    0.05    \n",
      "Test time         1.08    0.96    1.01    1.01    0.05    \n",
      "Evaluating RMSE, MAE of algorithm CoClustering on 3 split(s).\n",
      "\n",
      "                  Fold 1  Fold 2  Fold 3  Mean    Std     \n",
      "RMSE (testset)    0.8913  0.8873  0.8962  0.8916  0.0037  \n",
      "MAE (testset)     0.6810  0.6779  0.6846  0.6811  0.0027  \n",
      "Fit time          6.43    6.95    6.10    6.49    0.35    \n",
      "Test time         1.15    1.33    1.28    1.25    0.07    \n"
     ]
    },
    {
     "data": {
      "text/html": [
       "<div>\n",
       "<style scoped>\n",
       "    .dataframe tbody tr th:only-of-type {\n",
       "        vertical-align: middle;\n",
       "    }\n",
       "\n",
       "    .dataframe tbody tr th {\n",
       "        vertical-align: top;\n",
       "    }\n",
       "\n",
       "    .dataframe thead th {\n",
       "        text-align: right;\n",
       "    }\n",
       "</style>\n",
       "<table border=\"1\" class=\"dataframe\">\n",
       "  <thead>\n",
       "    <tr style=\"text-align: right;\">\n",
       "      <th></th>\n",
       "      <th>test_rmse</th>\n",
       "      <th>test_mae</th>\n",
       "      <th>fit_time</th>\n",
       "      <th>test_time</th>\n",
       "    </tr>\n",
       "    <tr>\n",
       "      <th>Algorithm</th>\n",
       "      <th></th>\n",
       "      <th></th>\n",
       "      <th></th>\n",
       "      <th></th>\n",
       "    </tr>\n",
       "  </thead>\n",
       "  <tbody>\n",
       "    <tr>\n",
       "      <th>BaselineOnly</th>\n",
       "      <td>0.855957</td>\n",
       "      <td>0.666846</td>\n",
       "      <td>1.051120</td>\n",
       "      <td>1.013781</td>\n",
       "    </tr>\n",
       "    <tr>\n",
       "      <th>SVDpp</th>\n",
       "      <td>0.859079</td>\n",
       "      <td>0.661183</td>\n",
       "      <td>353.472611</td>\n",
       "      <td>18.518866</td>\n",
       "    </tr>\n",
       "    <tr>\n",
       "      <th>SVD</th>\n",
       "      <td>0.862076</td>\n",
       "      <td>0.666452</td>\n",
       "      <td>12.785394</td>\n",
       "      <td>1.107035</td>\n",
       "    </tr>\n",
       "    <tr>\n",
       "      <th>KNNBaseline</th>\n",
       "      <td>0.868869</td>\n",
       "      <td>0.666314</td>\n",
       "      <td>1.774138</td>\n",
       "      <td>7.893475</td>\n",
       "    </tr>\n",
       "    <tr>\n",
       "      <th>KNNWithMeans</th>\n",
       "      <td>0.871516</td>\n",
       "      <td>0.666048</td>\n",
       "      <td>0.896398</td>\n",
       "      <td>7.516442</td>\n",
       "    </tr>\n",
       "    <tr>\n",
       "      <th>KNNWithZScore</th>\n",
       "      <td>0.875444</td>\n",
       "      <td>0.665424</td>\n",
       "      <td>1.186114</td>\n",
       "      <td>7.462321</td>\n",
       "    </tr>\n",
       "    <tr>\n",
       "      <th>CoClustering</th>\n",
       "      <td>0.891596</td>\n",
       "      <td>0.681144</td>\n",
       "      <td>6.491434</td>\n",
       "      <td>1.251335</td>\n",
       "    </tr>\n",
       "    <tr>\n",
       "      <th>SlopeOne</th>\n",
       "      <td>0.891981</td>\n",
       "      <td>0.682352</td>\n",
       "      <td>7.632689</td>\n",
       "      <td>13.265806</td>\n",
       "    </tr>\n",
       "    <tr>\n",
       "      <th>NMF</th>\n",
       "      <td>0.924378</td>\n",
       "      <td>0.716844</td>\n",
       "      <td>17.285174</td>\n",
       "      <td>0.939333</td>\n",
       "    </tr>\n",
       "    <tr>\n",
       "      <th>KNNBasic</th>\n",
       "      <td>0.944350</td>\n",
       "      <td>0.735248</td>\n",
       "      <td>0.768897</td>\n",
       "      <td>5.848725</td>\n",
       "    </tr>\n",
       "    <tr>\n",
       "      <th>NormalPredictor</th>\n",
       "      <td>1.297754</td>\n",
       "      <td>1.011149</td>\n",
       "      <td>0.389498</td>\n",
       "      <td>0.984453</td>\n",
       "    </tr>\n",
       "  </tbody>\n",
       "</table>\n",
       "</div>"
      ],
      "text/plain": [
       "                 test_rmse  test_mae    fit_time  test_time\n",
       "Algorithm                                                  \n",
       "BaselineOnly      0.855957  0.666846    1.051120   1.013781\n",
       "SVDpp             0.859079  0.661183  353.472611  18.518866\n",
       "SVD               0.862076  0.666452   12.785394   1.107035\n",
       "KNNBaseline       0.868869  0.666314    1.774138   7.893475\n",
       "KNNWithMeans      0.871516  0.666048    0.896398   7.516442\n",
       "KNNWithZScore     0.875444  0.665424    1.186114   7.462321\n",
       "CoClustering      0.891596  0.681144    6.491434   1.251335\n",
       "SlopeOne          0.891981  0.682352    7.632689  13.265806\n",
       "NMF               0.924378  0.716844   17.285174   0.939333\n",
       "KNNBasic          0.944350  0.735248    0.768897   5.848725\n",
       "NormalPredictor   1.297754  1.011149    0.389498   0.984453"
      ]
     },
     "execution_count": 14,
     "metadata": {
      "tags": []
     },
     "output_type": "execute_result"
    }
   ],
   "source": [
    "benchmark = []\n",
    " \n",
    "for algorithm in [sur.SVD(), sur.SVDpp(), sur.SlopeOne(), sur.NMF(), sur.NormalPredictor(), sur.KNNBaseline(), sur.KNNBasic(), sur.KNNWithMeans(), sur.KNNWithZScore(), sur.BaselineOnly(), sur.CoClustering()]:\n",
    "    results = cross_validate(algorithm, data, measures=['RMSE', 'MAE'], cv=3, verbose=True)\n",
    "    tmp = pd.DataFrame.from_dict(results).mean(axis=0)\n",
    "    tmp = tmp.append(pd.Series([str(algorithm).split(' ')[0].split('.')[-1]], index=['Algorithm']))\n",
    "    benchmark.append(tmp)\n",
    "    \n",
    "final_results = pd.DataFrame(benchmark).set_index('Algorithm').sort_values('test_rmse')\n",
    "final_results.to_csv('results_cv_recommnder.csv', header=True)\n",
    "final_results"
   ]
  },
  {
   "cell_type": "code",
   "execution_count": 6,
   "metadata": {
    "ExecuteTime": {
     "end_time": "2020-06-01T09:27:05.393479Z",
     "start_time": "2020-06-01T09:27:05.118778Z"
    }
   },
   "outputs": [
    {
     "data": {
      "image/png": "[encoded data removed]",
      "text/plain": [
       "<Figure size 432x288 with 1 Axes>"
      ]
     },
     "metadata": {},
     "output_type": "display_data"
    }
   ],
   "source": [
    "with sns.axes_style({'xtick.color':'black', 'ytick.color':'black', 'axes.grid' : False, \n",
    "                     'xtick.top': False, 'ytick.right': False}):\n",
    "    sns.set_context(\"paper\", font_scale=1.1)\n",
    "    sns.barplot(y='Algorithm', x='test_rmse', data=final_results, orient='h')\n",
    "    plt.xlabel('RMSE score', color='k')\n",
    "    plt.ylabel('Algorithm', color='k')\n",
    "    \n",
    "    #If you would like to save the image:\n",
    "    #plt.tight_layout()\n",
    "    #plt.savefig(\"/../../../pic.png\", transparent=True)"
   ]
  },
  {
   "cell_type": "code",
   "execution_count": null,
   "metadata": {},
   "outputs": [],
   "source": []
  }
 ],
 "metadata": {
  "colab": {
   "name": "capstone-proj-test.ipynb",
   "provenance": []
  },
  "kernelspec": {
   "display_name": "Python 3",
   "language": "python",
   "name": "python3"
  },
  "language_info": {
   "codemirror_mode": {
    "name": "ipython",
    "version": 3
   },
   "file_extension": ".py",
   "mimetype": "text/x-python",
   "name": "python",
   "nbconvert_exporter": "python",
   "pygments_lexer": "ipython3",
   "version": "3.7.4"
  },
  "toc": {
   "base_numbering": 1,
   "nav_menu": {},
   "number_sections": true,
   "sideBar": true,
   "skip_h1_title": false,
   "title_cell": "Table of Contents",
   "title_sidebar": "Contents",
   "toc_cell": false,
   "toc_position": {},
   "toc_section_display": true,
   "toc_window_display": false
  },
  "varInspector": {
   "cols": {
    "lenName": 16,
    "lenType": 16,
    "lenVar": 40
   },
   "kernels_config": {
    "python": {
     "delete_cmd_postfix": "",
     "delete_cmd_prefix": "del ",
     "library": "var_list.py",
     "varRefreshCmd": "print(var_dic_list())"
    },
    "r": {
     "delete_cmd_postfix": ") ",
     "delete_cmd_prefix": "rm(",
     "library": "var_list.r",
     "varRefreshCmd": "cat(var_dic_list()) "
    }
   },
   "types_to_exclude": [
    "module",
    "function",
    "builtin_function_or_method",
    "instance",
    "_Feature"
   ],
   "window_display": false
  }
 },
 "nbformat": 4,
 "nbformat_minor": 1
}
