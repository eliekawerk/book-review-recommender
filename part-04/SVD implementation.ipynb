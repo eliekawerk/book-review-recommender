{
 "cells": [
  {
   "cell_type": "code",
   "execution_count": 1,
   "metadata": {
    "ExecuteTime": {
     "end_time": "2020-05-17T15:35:53.941979Z",
     "start_time": "2020-05-17T15:35:51.521438Z"
    }
   },
   "outputs": [],
   "source": [
    "import pandas as pd \n",
    "import numpy as np \n",
    "import matplotlib.pyplot as plt\n",
    "import seaborn as sns\n",
    "import random\n",
    "import scipy.spatial.distance\n",
    "import surprise as sur\n",
    "\n",
    "sns.set(font_scale=1.5)\n",
    "plt.style.use('fivethirtyeight')\n",
    "\n",
    "\n",
    "%matplotlib inline\n",
    "%config InlineBackend.figure_format = 'retina'"
   ]
  },
  {
   "cell_type": "markdown",
   "metadata": {
    "heading_collapsed": true
   },
   "source": [
    "## Load in the data"
   ]
  },
  {
   "cell_type": "code",
   "execution_count": 2,
   "metadata": {
    "ExecuteTime": {
     "end_time": "2020-05-17T15:35:56.508665Z",
     "start_time": "2020-05-17T15:35:55.718391Z"
    },
    "hidden": true
   },
   "outputs": [],
   "source": [
    "df= pd.read_csv('/Volumes/external/Sangeetha-Project/df_sub.csv.gz', \n",
    "                       compression='gzip').astype({'rating':'int8', 'total_votes':'int32'})"
   ]
  },
  {
   "cell_type": "code",
   "execution_count": 3,
   "metadata": {
    "ExecuteTime": {
     "end_time": "2020-05-17T15:35:58.840530Z",
     "start_time": "2020-05-17T15:35:58.749386Z"
    },
    "hidden": true
   },
   "outputs": [
    {
     "name": "stdout",
     "output_type": "stream",
     "text": [
      "<class 'pandas.core.frame.DataFrame'>\n",
      "RangeIndex: 273661 entries, 0 to 273660\n",
      "Data columns (total 5 columns):\n",
      "reviewerId     273661 non-null object\n",
      "asin           273661 non-null object\n",
      "rating         273661 non-null int8\n",
      "summary        273661 non-null object\n",
      "total_votes    273661 non-null int32\n",
      "dtypes: int32(1), int8(1), object(3)\n",
      "memory usage: 7.6+ MB\n"
     ]
    }
   ],
   "source": [
    "df.info()"
   ]
  },
  {
   "cell_type": "code",
   "execution_count": 4,
   "metadata": {
    "ExecuteTime": {
     "end_time": "2020-05-17T15:36:01.254607Z",
     "start_time": "2020-05-17T15:36:01.031577Z"
    },
    "hidden": true,
    "scrolled": true
   },
   "outputs": [
    {
     "data": {
      "text/plain": [
       "10982"
      ]
     },
     "execution_count": 4,
     "metadata": {},
     "output_type": "execute_result"
    }
   ],
   "source": [
    "len(np.unique(df.asin))"
   ]
  },
  {
   "cell_type": "code",
   "execution_count": 5,
   "metadata": {
    "ExecuteTime": {
     "end_time": "2020-05-17T15:36:04.159865Z",
     "start_time": "2020-05-17T15:36:03.717782Z"
    },
    "hidden": true
   },
   "outputs": [
    {
     "data": {
      "text/plain": [
       "2647"
      ]
     },
     "execution_count": 5,
     "metadata": {},
     "output_type": "execute_result"
    }
   ],
   "source": [
    "len(np.unique(df.reviewerId))"
   ]
  },
  {
   "cell_type": "code",
   "execution_count": 6,
   "metadata": {
    "ExecuteTime": {
     "end_time": "2020-05-17T15:36:06.297979Z",
     "start_time": "2020-05-17T15:36:06.266724Z"
    },
    "hidden": true,
    "scrolled": true
   },
   "outputs": [
    {
     "data": {
      "text/html": [
       "<div>\n",
       "<style scoped>\n",
       "    .dataframe tbody tr th:only-of-type {\n",
       "        vertical-align: middle;\n",
       "    }\n",
       "\n",
       "    .dataframe tbody tr th {\n",
       "        vertical-align: top;\n",
       "    }\n",
       "\n",
       "    .dataframe thead th {\n",
       "        text-align: right;\n",
       "    }\n",
       "</style>\n",
       "<table border=\"1\" class=\"dataframe\">\n",
       "  <thead>\n",
       "    <tr style=\"text-align: right;\">\n",
       "      <th></th>\n",
       "      <th>reviewerId</th>\n",
       "      <th>asin</th>\n",
       "      <th>rating</th>\n",
       "      <th>summary</th>\n",
       "      <th>total_votes</th>\n",
       "    </tr>\n",
       "  </thead>\n",
       "  <tbody>\n",
       "    <tr>\n",
       "      <td>0</td>\n",
       "      <td>A2S166WSCFIFP5</td>\n",
       "      <td>000100039X</td>\n",
       "      <td>5</td>\n",
       "      <td>close to god</td>\n",
       "      <td>2</td>\n",
       "    </tr>\n",
       "    <tr>\n",
       "      <td>1</td>\n",
       "      <td>AWLFVCT9128JV</td>\n",
       "      <td>000100039X</td>\n",
       "      <td>5</td>\n",
       "      <td>The Lessons Of Life</td>\n",
       "      <td>10</td>\n",
       "    </tr>\n",
       "    <tr>\n",
       "      <td>2</td>\n",
       "      <td>A2NHD7LUXVGTD3</td>\n",
       "      <td>000100039X</td>\n",
       "      <td>5</td>\n",
       "      <td>a beautiful poetic commentary on what it is to...</td>\n",
       "      <td>1</td>\n",
       "    </tr>\n",
       "    <tr>\n",
       "      <td>3</td>\n",
       "      <td>A1K1JW1C5CUSUZ</td>\n",
       "      <td>000100039X</td>\n",
       "      <td>5</td>\n",
       "      <td>Transcend Human Subjectivity to Find Godlike O...</td>\n",
       "      <td>4</td>\n",
       "    </tr>\n",
       "    <tr>\n",
       "      <td>4</td>\n",
       "      <td>A38AAPXSJN4C5G</td>\n",
       "      <td>000100039X</td>\n",
       "      <td>5</td>\n",
       "      <td>Inspired and Inspiring</td>\n",
       "      <td>0</td>\n",
       "    </tr>\n",
       "  </tbody>\n",
       "</table>\n",
       "</div>"
      ],
      "text/plain": [
       "       reviewerId        asin  rating  \\\n",
       "0  A2S166WSCFIFP5  000100039X       5   \n",
       "1   AWLFVCT9128JV  000100039X       5   \n",
       "2  A2NHD7LUXVGTD3  000100039X       5   \n",
       "3  A1K1JW1C5CUSUZ  000100039X       5   \n",
       "4  A38AAPXSJN4C5G  000100039X       5   \n",
       "\n",
       "                                             summary  total_votes  \n",
       "0                                       close to god            2  \n",
       "1                                The Lessons Of Life           10  \n",
       "2  a beautiful poetic commentary on what it is to...            1  \n",
       "3  Transcend Human Subjectivity to Find Godlike O...            4  \n",
       "4                             Inspired and Inspiring            0  "
      ]
     },
     "execution_count": 6,
     "metadata": {},
     "output_type": "execute_result"
    }
   ],
   "source": [
    "df.head()"
   ]
  },
  {
   "cell_type": "markdown",
   "metadata": {
    "heading_collapsed": true
   },
   "source": [
    "## Read in the data as a DataSet"
   ]
  },
  {
   "cell_type": "code",
   "execution_count": 7,
   "metadata": {
    "ExecuteTime": {
     "end_time": "2020-05-17T15:36:09.908646Z",
     "start_time": "2020-05-17T15:36:09.587369Z"
    },
    "hidden": true
   },
   "outputs": [],
   "source": [
    "reader = sur.Reader(rating_scale=(1,5))\n",
    "data = sur.Dataset.load_from_df(df[['reviewerId', 'asin','rating']], reader)"
   ]
  },
  {
   "cell_type": "markdown",
   "metadata": {
    "heading_collapsed": true
   },
   "source": [
    "## Fitting the model & testing the model - 0.8578705671177028"
   ]
  },
  {
   "cell_type": "code",
   "execution_count": 8,
   "metadata": {
    "ExecuteTime": {
     "end_time": "2020-05-17T15:36:11.997254Z",
     "start_time": "2020-05-17T15:36:11.989734Z"
    },
    "hidden": true
   },
   "outputs": [],
   "source": [
    "#Tested this algo with gridsearch, I enter the best parameters, rmse on gridsearch = 0.8578705671177028\n",
    "\n",
    "algo = sur.SVD(random_state=1,\n",
    "        biased=True,  # isolate sdasbiases\n",
    "        reg_all=0.2,  # use regularisation (the same for all)\n",
    "        n_epochs=20,  # number of epochs for stochastic gradient descent search\n",
    "        n_factors=100,  # number of factors to retain in SVD\n",
    "        lr_all=0.01\n",
    "        )\n"
   ]
  },
  {
   "cell_type": "code",
   "execution_count": 9,
   "metadata": {
    "ExecuteTime": {
     "end_time": "2020-05-17T15:36:17.765538Z",
     "start_time": "2020-05-17T15:36:17.428069Z"
    },
    "hidden": true
   },
   "outputs": [
    {
     "name": "stdout",
     "output_type": "stream",
     "text": [
      "246294\n",
      "27367\n"
     ]
    }
   ],
   "source": [
    "raw_ratings = data.raw_ratings\n",
    "\n",
    "#shuffle ratings if you want\n",
    "np.random.seed(1)\n",
    "random.shuffle(raw_ratings)\n",
    "\n",
    "\n",
    "#section the data into training set and test set\n",
    "threshold = int(.9 * len(raw_ratings))\n",
    "A_raw_ratings = raw_ratings[:threshold]\n",
    "B_raw_ratings = raw_ratings[threshold:]\n",
    "\n",
    "print(len(A_raw_ratings))\n",
    "print(len(B_raw_ratings))\n",
    "\n",
    "#make the raw ratings contain only the training set\n",
    "data.raw_ratings = A_raw_ratings"
   ]
  },
  {
   "cell_type": "code",
   "execution_count": 10,
   "metadata": {
    "ExecuteTime": {
     "end_time": "2020-05-17T15:37:22.573493Z",
     "start_time": "2020-05-17T15:37:02.752967Z"
    },
    "hidden": true
   },
   "outputs": [
    {
     "data": {
      "text/plain": [
       "<surprise.prediction_algorithms.matrix_factorization.SVD at 0x1a24775cd0>"
      ]
     },
     "execution_count": 10,
     "metadata": {},
     "output_type": "execute_result"
    }
   ],
   "source": [
    "#Built a trainset out the training set\n",
    "trainset = data.build_full_trainset()\n",
    "algo.fit(trainset)"
   ]
  },
  {
   "cell_type": "code",
   "execution_count": 11,
   "metadata": {
    "ExecuteTime": {
     "end_time": "2020-05-17T15:38:19.933655Z",
     "start_time": "2020-05-17T15:38:16.854925Z"
    },
    "hidden": true,
    "scrolled": true
   },
   "outputs": [
    {
     "name": "stdout",
     "output_type": "stream",
     "text": [
      "Training score    RMSE: 0.7874\n",
      "0.7873797340548762\n"
     ]
    }
   ],
   "source": [
    "# Compute score on training set\n",
    "trainset_build = trainset.build_testset()\n",
    "predictions_train = algo.test(trainset_build)\n",
    "\n",
    "print('Training score ', end='   ')\n",
    "print(sur.accuracy.rmse(predictions_train))"
   ]
  },
  {
   "cell_type": "code",
   "execution_count": 12,
   "metadata": {
    "ExecuteTime": {
     "end_time": "2020-05-17T15:40:10.724409Z",
     "start_time": "2020-05-17T15:40:10.270697Z"
    },
    "hidden": true
   },
   "outputs": [
    {
     "name": "stdout",
     "output_type": "stream",
     "text": [
      "Test score (rated items)  RMSE: 0.8423\n",
      "0.8423239670513349\n"
     ]
    }
   ],
   "source": [
    "# Compute score on rated test set\n",
    "testset = data.construct_testset(B_raw_ratings)  # testset is now the set B\n",
    "predictions_test = algo.test(testset)\n",
    "print('Test score (rated items) ', end=' ')\n",
    "print(sur.accuracy.rmse(predictions_test))"
   ]
  },
  {
   "cell_type": "markdown",
   "metadata": {},
   "source": [
    "## Calculating the user item matrix"
   ]
  },
  {
   "cell_type": "markdown",
   "metadata": {
    "ExecuteTime": {
     "end_time": "2020-05-17T12:34:16.655742Z",
     "start_time": "2020-05-17T12:34:16.647357Z"
    }
   },
   "source": [
    "We will need to the train the algo on all of the available ratings to get the most accurate readings"
   ]
  },
  {
   "cell_type": "code",
   "execution_count": 17,
   "metadata": {
    "ExecuteTime": {
     "end_time": "2020-05-17T15:47:12.551999Z",
     "start_time": "2020-05-17T15:46:48.774544Z"
    }
   },
   "outputs": [
    {
     "name": "stdout",
     "output_type": "stream",
     "text": [
      "Training score    RMSE: 0.7930\n",
      "0.7930445072914099\n"
     ]
    }
   ],
   "source": [
    "data.raw_ratings = raw_ratings\n",
    "\n",
    "#Built a trainset using the full data\n",
    "trainset_full = data.build_full_trainset()\n",
    "algo.fit(trainset_full)\n",
    "\n",
    "# Compute score on training set\n",
    "trainset_full_build = trainset_full.build_testset()\n",
    "predictions_full_train = algo.test(trainset_full_build)\n",
    "\n",
    "print('Training score ', end='   ')\n",
    "print(sur.accuracy.rmse(predictions_full_train))"
   ]
  },
  {
   "cell_type": "code",
   "execution_count": 18,
   "metadata": {
    "ExecuteTime": {
     "end_time": "2020-05-17T15:50:32.514135Z",
     "start_time": "2020-05-17T15:50:32.083116Z"
    }
   },
   "outputs": [],
   "source": [
    "pu = algo.pu\n",
    "qi = algo.qi\n",
    "puqi = pu.dot(qi.T)"
   ]
  },
  {
   "cell_type": "code",
   "execution_count": 19,
   "metadata": {
    "ExecuteTime": {
     "end_time": "2020-05-17T15:54:01.871087Z",
     "start_time": "2020-05-17T15:54:01.839079Z"
    },
    "scrolled": false
   },
   "outputs": [
    {
     "name": "stdout",
     "output_type": "stream",
     "text": [
      "100\n",
      "2647\n",
      "100\n",
      "10982\n"
     ]
    }
   ],
   "source": [
    "print(len(pu[0]))\n",
    "print(len(pu))\n",
    "print(len(qi[0]))\n",
    "print(len(qi))"
   ]
  },
  {
   "cell_type": "code",
   "execution_count": 20,
   "metadata": {
    "ExecuteTime": {
     "end_time": "2020-05-17T15:57:10.645185Z",
     "start_time": "2020-05-17T15:57:10.337153Z"
    },
    "scrolled": false
   },
   "outputs": [
    {
     "name": "stdout",
     "output_type": "stream",
     "text": [
      "4.089157753571024\n"
     ]
    }
   ],
   "source": [
    "#Calculating the user-item matrix\n",
    "mu = algo.default_prediction()\n",
    "print(mu)\n",
    "full_pred = mu + algo.bu.reshape(-1, 1) + algo.bi.reshape(1, -1) + puqi"
   ]
  },
  {
   "cell_type": "code",
   "execution_count": 21,
   "metadata": {
    "ExecuteTime": {
     "end_time": "2020-05-17T16:00:27.028616Z",
     "start_time": "2020-05-17T16:00:26.744473Z"
    },
    "scrolled": false
   },
   "outputs": [
    {
     "data": {
      "text/plain": [
       "[('A100NGGXRQF0AQ', 2146, -0.0027465579955411085),\n",
       " ('A102Z3T7NSM5KC', 322, 0.06780723622441669),\n",
       " ('A106016KSI0YQ', 2609, -0.3932609971069783),\n",
       " ('A106E1N0ZQ4D9W', 451, 0.16551405735308525),\n",
       " ('A10BZSGALQPS0V', 1125, -0.20571085125389585)]"
      ]
     },
     "execution_count": 21,
     "metadata": {},
     "output_type": "execute_result"
    }
   ],
   "source": [
    "#Matching the raw ids to the inner ids\n",
    "user_baselines=[]\n",
    "\n",
    "for user in np.unique(df.reviewerId):\n",
    "    user_baselines.append((user, trainset_full.to_inner_uid(user), algo.bu[trainset_full.to_inner_uid(user)]))\n",
    "\n",
    "user_baselines[:5]\n",
    "\n",
    "#The pu tags appear in the same order as this as the users"
   ]
  },
  {
   "cell_type": "code",
   "execution_count": 22,
   "metadata": {
    "ExecuteTime": {
     "end_time": "2020-05-17T16:03:43.782211Z",
     "start_time": "2020-05-17T16:03:43.748966Z"
    },
    "scrolled": true
   },
   "outputs": [
    {
     "data": {
      "text/plain": [
       "2647"
      ]
     },
     "execution_count": 22,
     "metadata": {},
     "output_type": "execute_result"
    }
   ],
   "source": [
    "len(user_baselines)"
   ]
  },
  {
   "cell_type": "code",
   "execution_count": 23,
   "metadata": {
    "ExecuteTime": {
     "end_time": "2020-05-17T16:06:39.751637Z",
     "start_time": "2020-05-17T16:06:39.533848Z"
    },
    "scrolled": true
   },
   "outputs": [
    {
     "data": {
      "text/plain": [
       "[('000100039X', 8630, 0.3066740979538097),\n",
       " ('0002007770', 226, 0.32823697601367985),\n",
       " ('0002051850', 3940, 0.2881340682331206),\n",
       " ('0002219417', 2859, 0.4929340216048414),\n",
       " ('000222383X', 8086, 0.4170779150833703)]"
      ]
     },
     "execution_count": 23,
     "metadata": {},
     "output_type": "execute_result"
    }
   ],
   "source": [
    "item_baselines=[]\n",
    "\n",
    "for item in np.unique(df.asin):\n",
    "    item_baselines.append((item, trainset_full.to_inner_iid(item), algo.bi[trainset_full.to_inner_iid(item)]))\n",
    "\n",
    "item_baselines[:5]"
   ]
  },
  {
   "cell_type": "code",
   "execution_count": 24,
   "metadata": {
    "ExecuteTime": {
     "end_time": "2020-05-17T16:09:38.376548Z",
     "start_time": "2020-05-17T16:09:38.326023Z"
    }
   },
   "outputs": [
    {
     "data": {
      "text/plain": [
       "10982"
      ]
     },
     "execution_count": 24,
     "metadata": {},
     "output_type": "execute_result"
    }
   ],
   "source": [
    "len(item_baselines)"
   ]
  },
  {
   "cell_type": "code",
   "execution_count": 27,
   "metadata": {
    "ExecuteTime": {
     "end_time": "2020-05-17T16:49:17.499049Z",
     "start_time": "2020-05-17T16:49:17.464440Z"
    }
   },
   "outputs": [],
   "source": [
    "full_pred_df = pd.DataFrame(full_pred, index = [x for x,y,z in sorted(user_baselines, key=lambda x:x[1])], \n",
    "                         columns = [x for x,y,z in sorted(item_baselines, key=lambda x:x[1])])"
   ]
  },
  {
   "cell_type": "code",
   "execution_count": 29,
   "metadata": {
    "ExecuteTime": {
     "end_time": "2020-05-17T16:49:54.562018Z",
     "start_time": "2020-05-17T16:49:54.525882Z"
    }
   },
   "outputs": [
    {
     "data": {
      "text/html": [
       "<div>\n",
       "<style scoped>\n",
       "    .dataframe tbody tr th:only-of-type {\n",
       "        vertical-align: middle;\n",
       "    }\n",
       "\n",
       "    .dataframe tbody tr th {\n",
       "        vertical-align: top;\n",
       "    }\n",
       "\n",
       "    .dataframe thead th {\n",
       "        text-align: right;\n",
       "    }\n",
       "</style>\n",
       "<table border=\"1\" class=\"dataframe\">\n",
       "  <thead>\n",
       "    <tr style=\"text-align: right;\">\n",
       "      <th></th>\n",
       "      <th>0060850523</th>\n",
       "      <th>0385494238</th>\n",
       "      <th>0307388522</th>\n",
       "      <th>0505527847</th>\n",
       "      <th>0061836923</th>\n",
       "      <th>0099740915</th>\n",
       "      <th>0441008534</th>\n",
       "      <th>031603326X</th>\n",
       "      <th>0330535382</th>\n",
       "      <th>0385341679</th>\n",
       "      <th>...</th>\n",
       "      <th>0345518446</th>\n",
       "      <th>0373831366</th>\n",
       "      <th>0312676816</th>\n",
       "      <th>0375813616</th>\n",
       "      <th>0439877563</th>\n",
       "      <th>0061085189</th>\n",
       "      <th>0307729982</th>\n",
       "      <th>006082767X</th>\n",
       "      <th>0553444867</th>\n",
       "      <th>0439845009</th>\n",
       "    </tr>\n",
       "  </thead>\n",
       "  <tbody>\n",
       "    <tr>\n",
       "      <td>AELSTEJJO90M7</td>\n",
       "      <td>4.036300</td>\n",
       "      <td>3.603112</td>\n",
       "      <td>3.831126</td>\n",
       "      <td>3.874736</td>\n",
       "      <td>3.774498</td>\n",
       "      <td>4.195686</td>\n",
       "      <td>3.890036</td>\n",
       "      <td>3.530156</td>\n",
       "      <td>4.078279</td>\n",
       "      <td>4.408721</td>\n",
       "      <td>...</td>\n",
       "      <td>3.486412</td>\n",
       "      <td>4.078169</td>\n",
       "      <td>4.127698</td>\n",
       "      <td>4.021172</td>\n",
       "      <td>3.961518</td>\n",
       "      <td>4.145382</td>\n",
       "      <td>4.029335</td>\n",
       "      <td>3.746988</td>\n",
       "      <td>3.822963</td>\n",
       "      <td>4.030790</td>\n",
       "    </tr>\n",
       "    <tr>\n",
       "      <td>A126KX6FVI4T66</td>\n",
       "      <td>3.765427</td>\n",
       "      <td>3.352257</td>\n",
       "      <td>3.583021</td>\n",
       "      <td>3.628474</td>\n",
       "      <td>3.522730</td>\n",
       "      <td>3.951597</td>\n",
       "      <td>3.638080</td>\n",
       "      <td>3.290707</td>\n",
       "      <td>3.789471</td>\n",
       "      <td>4.156648</td>\n",
       "      <td>...</td>\n",
       "      <td>3.293556</td>\n",
       "      <td>3.853606</td>\n",
       "      <td>3.922472</td>\n",
       "      <td>3.803840</td>\n",
       "      <td>3.756798</td>\n",
       "      <td>3.888793</td>\n",
       "      <td>3.752809</td>\n",
       "      <td>3.513516</td>\n",
       "      <td>3.524143</td>\n",
       "      <td>3.824007</td>\n",
       "    </tr>\n",
       "    <tr>\n",
       "      <td>A2UYGOYMV73826</td>\n",
       "      <td>4.374586</td>\n",
       "      <td>3.943061</td>\n",
       "      <td>4.163610</td>\n",
       "      <td>4.281162</td>\n",
       "      <td>4.128790</td>\n",
       "      <td>4.549766</td>\n",
       "      <td>4.248808</td>\n",
       "      <td>3.880898</td>\n",
       "      <td>4.394556</td>\n",
       "      <td>4.764575</td>\n",
       "      <td>...</td>\n",
       "      <td>3.930474</td>\n",
       "      <td>4.452787</td>\n",
       "      <td>4.574799</td>\n",
       "      <td>4.418840</td>\n",
       "      <td>4.367859</td>\n",
       "      <td>4.524611</td>\n",
       "      <td>4.325662</td>\n",
       "      <td>4.085989</td>\n",
       "      <td>4.199329</td>\n",
       "      <td>4.397622</td>\n",
       "    </tr>\n",
       "    <tr>\n",
       "      <td>A1XCSAX4BRT89Y</td>\n",
       "      <td>3.884194</td>\n",
       "      <td>3.468248</td>\n",
       "      <td>3.683034</td>\n",
       "      <td>3.753948</td>\n",
       "      <td>3.642610</td>\n",
       "      <td>4.079316</td>\n",
       "      <td>3.756652</td>\n",
       "      <td>3.438741</td>\n",
       "      <td>3.944300</td>\n",
       "      <td>4.269853</td>\n",
       "      <td>...</td>\n",
       "      <td>3.443043</td>\n",
       "      <td>3.954529</td>\n",
       "      <td>3.977731</td>\n",
       "      <td>3.941821</td>\n",
       "      <td>3.856035</td>\n",
       "      <td>3.979830</td>\n",
       "      <td>3.875260</td>\n",
       "      <td>3.605149</td>\n",
       "      <td>3.650247</td>\n",
       "      <td>3.905538</td>\n",
       "    </tr>\n",
       "    <tr>\n",
       "      <td>A1XRQ6YJ7HXQFQ</td>\n",
       "      <td>4.217301</td>\n",
       "      <td>3.800595</td>\n",
       "      <td>4.010178</td>\n",
       "      <td>4.099800</td>\n",
       "      <td>3.972840</td>\n",
       "      <td>4.401161</td>\n",
       "      <td>4.086311</td>\n",
       "      <td>3.749592</td>\n",
       "      <td>4.264938</td>\n",
       "      <td>4.608794</td>\n",
       "      <td>...</td>\n",
       "      <td>3.730378</td>\n",
       "      <td>4.289272</td>\n",
       "      <td>4.356955</td>\n",
       "      <td>4.251098</td>\n",
       "      <td>4.198507</td>\n",
       "      <td>4.338258</td>\n",
       "      <td>4.225089</td>\n",
       "      <td>3.940510</td>\n",
       "      <td>3.975060</td>\n",
       "      <td>4.250414</td>\n",
       "    </tr>\n",
       "    <tr>\n",
       "      <td>...</td>\n",
       "      <td>...</td>\n",
       "      <td>...</td>\n",
       "      <td>...</td>\n",
       "      <td>...</td>\n",
       "      <td>...</td>\n",
       "      <td>...</td>\n",
       "      <td>...</td>\n",
       "      <td>...</td>\n",
       "      <td>...</td>\n",
       "      <td>...</td>\n",
       "      <td>...</td>\n",
       "      <td>...</td>\n",
       "      <td>...</td>\n",
       "      <td>...</td>\n",
       "      <td>...</td>\n",
       "      <td>...</td>\n",
       "      <td>...</td>\n",
       "      <td>...</td>\n",
       "      <td>...</td>\n",
       "      <td>...</td>\n",
       "      <td>...</td>\n",
       "    </tr>\n",
       "    <tr>\n",
       "      <td>A22ZJ9Y723DO3R</td>\n",
       "      <td>4.080288</td>\n",
       "      <td>3.653857</td>\n",
       "      <td>3.875250</td>\n",
       "      <td>3.947834</td>\n",
       "      <td>3.843550</td>\n",
       "      <td>4.265254</td>\n",
       "      <td>3.952177</td>\n",
       "      <td>3.617317</td>\n",
       "      <td>4.121598</td>\n",
       "      <td>4.468312</td>\n",
       "      <td>...</td>\n",
       "      <td>3.604369</td>\n",
       "      <td>4.143372</td>\n",
       "      <td>4.212930</td>\n",
       "      <td>4.126953</td>\n",
       "      <td>4.062115</td>\n",
       "      <td>4.184525</td>\n",
       "      <td>4.066486</td>\n",
       "      <td>3.778184</td>\n",
       "      <td>3.828208</td>\n",
       "      <td>4.088037</td>\n",
       "    </tr>\n",
       "    <tr>\n",
       "      <td>A33TU21N460QIS</td>\n",
       "      <td>3.936996</td>\n",
       "      <td>3.511304</td>\n",
       "      <td>3.724410</td>\n",
       "      <td>3.792150</td>\n",
       "      <td>3.685020</td>\n",
       "      <td>4.125682</td>\n",
       "      <td>3.795920</td>\n",
       "      <td>3.441553</td>\n",
       "      <td>3.972460</td>\n",
       "      <td>4.321172</td>\n",
       "      <td>...</td>\n",
       "      <td>3.464547</td>\n",
       "      <td>4.030966</td>\n",
       "      <td>4.066935</td>\n",
       "      <td>3.950922</td>\n",
       "      <td>3.905624</td>\n",
       "      <td>4.055549</td>\n",
       "      <td>3.921071</td>\n",
       "      <td>3.667737</td>\n",
       "      <td>3.730302</td>\n",
       "      <td>3.965299</td>\n",
       "    </tr>\n",
       "    <tr>\n",
       "      <td>A2THU56YB588IA</td>\n",
       "      <td>4.008588</td>\n",
       "      <td>3.582712</td>\n",
       "      <td>3.783283</td>\n",
       "      <td>3.881585</td>\n",
       "      <td>3.757285</td>\n",
       "      <td>4.191622</td>\n",
       "      <td>3.865694</td>\n",
       "      <td>3.503102</td>\n",
       "      <td>4.003224</td>\n",
       "      <td>4.391590</td>\n",
       "      <td>...</td>\n",
       "      <td>3.606695</td>\n",
       "      <td>4.083995</td>\n",
       "      <td>4.101850</td>\n",
       "      <td>4.026687</td>\n",
       "      <td>3.935344</td>\n",
       "      <td>4.193947</td>\n",
       "      <td>4.014738</td>\n",
       "      <td>3.704745</td>\n",
       "      <td>3.811203</td>\n",
       "      <td>4.024941</td>\n",
       "    </tr>\n",
       "    <tr>\n",
       "      <td>A39QEKNEFSJ34Q</td>\n",
       "      <td>3.666510</td>\n",
       "      <td>3.247615</td>\n",
       "      <td>3.462915</td>\n",
       "      <td>3.528863</td>\n",
       "      <td>3.424047</td>\n",
       "      <td>3.859672</td>\n",
       "      <td>3.534011</td>\n",
       "      <td>3.201329</td>\n",
       "      <td>3.729217</td>\n",
       "      <td>4.060807</td>\n",
       "      <td>...</td>\n",
       "      <td>3.235957</td>\n",
       "      <td>3.726256</td>\n",
       "      <td>3.758660</td>\n",
       "      <td>3.712621</td>\n",
       "      <td>3.667230</td>\n",
       "      <td>3.845424</td>\n",
       "      <td>3.691245</td>\n",
       "      <td>3.398289</td>\n",
       "      <td>3.505796</td>\n",
       "      <td>3.685553</td>\n",
       "    </tr>\n",
       "    <tr>\n",
       "      <td>A12HCOKL5QNQ0Y</td>\n",
       "      <td>3.562608</td>\n",
       "      <td>3.153970</td>\n",
       "      <td>3.355902</td>\n",
       "      <td>3.480594</td>\n",
       "      <td>3.313454</td>\n",
       "      <td>3.744727</td>\n",
       "      <td>3.431026</td>\n",
       "      <td>3.068753</td>\n",
       "      <td>3.536212</td>\n",
       "      <td>3.958307</td>\n",
       "      <td>...</td>\n",
       "      <td>3.083173</td>\n",
       "      <td>3.612682</td>\n",
       "      <td>3.708106</td>\n",
       "      <td>3.597116</td>\n",
       "      <td>3.489099</td>\n",
       "      <td>3.638487</td>\n",
       "      <td>3.529878</td>\n",
       "      <td>3.321807</td>\n",
       "      <td>3.373969</td>\n",
       "      <td>3.605806</td>\n",
       "    </tr>\n",
       "  </tbody>\n",
       "</table>\n",
       "<p>2647 rows × 10982 columns</p>\n",
       "</div>"
      ],
      "text/plain": [
       "                0060850523  0385494238  0307388522  0505527847  0061836923  \\\n",
       "AELSTEJJO90M7     4.036300    3.603112    3.831126    3.874736    3.774498   \n",
       "A126KX6FVI4T66    3.765427    3.352257    3.583021    3.628474    3.522730   \n",
       "A2UYGOYMV73826    4.374586    3.943061    4.163610    4.281162    4.128790   \n",
       "A1XCSAX4BRT89Y    3.884194    3.468248    3.683034    3.753948    3.642610   \n",
       "A1XRQ6YJ7HXQFQ    4.217301    3.800595    4.010178    4.099800    3.972840   \n",
       "...                    ...         ...         ...         ...         ...   \n",
       "A22ZJ9Y723DO3R    4.080288    3.653857    3.875250    3.947834    3.843550   \n",
       "A33TU21N460QIS    3.936996    3.511304    3.724410    3.792150    3.685020   \n",
       "A2THU56YB588IA    4.008588    3.582712    3.783283    3.881585    3.757285   \n",
       "A39QEKNEFSJ34Q    3.666510    3.247615    3.462915    3.528863    3.424047   \n",
       "A12HCOKL5QNQ0Y    3.562608    3.153970    3.355902    3.480594    3.313454   \n",
       "\n",
       "                0099740915  0441008534  031603326X  0330535382  0385341679  \\\n",
       "AELSTEJJO90M7     4.195686    3.890036    3.530156    4.078279    4.408721   \n",
       "A126KX6FVI4T66    3.951597    3.638080    3.290707    3.789471    4.156648   \n",
       "A2UYGOYMV73826    4.549766    4.248808    3.880898    4.394556    4.764575   \n",
       "A1XCSAX4BRT89Y    4.079316    3.756652    3.438741    3.944300    4.269853   \n",
       "A1XRQ6YJ7HXQFQ    4.401161    4.086311    3.749592    4.264938    4.608794   \n",
       "...                    ...         ...         ...         ...         ...   \n",
       "A22ZJ9Y723DO3R    4.265254    3.952177    3.617317    4.121598    4.468312   \n",
       "A33TU21N460QIS    4.125682    3.795920    3.441553    3.972460    4.321172   \n",
       "A2THU56YB588IA    4.191622    3.865694    3.503102    4.003224    4.391590   \n",
       "A39QEKNEFSJ34Q    3.859672    3.534011    3.201329    3.729217    4.060807   \n",
       "A12HCOKL5QNQ0Y    3.744727    3.431026    3.068753    3.536212    3.958307   \n",
       "\n",
       "                ...  0345518446  0373831366  0312676816  0375813616  \\\n",
       "AELSTEJJO90M7   ...    3.486412    4.078169    4.127698    4.021172   \n",
       "A126KX6FVI4T66  ...    3.293556    3.853606    3.922472    3.803840   \n",
       "A2UYGOYMV73826  ...    3.930474    4.452787    4.574799    4.418840   \n",
       "A1XCSAX4BRT89Y  ...    3.443043    3.954529    3.977731    3.941821   \n",
       "A1XRQ6YJ7HXQFQ  ...    3.730378    4.289272    4.356955    4.251098   \n",
       "...             ...         ...         ...         ...         ...   \n",
       "A22ZJ9Y723DO3R  ...    3.604369    4.143372    4.212930    4.126953   \n",
       "A33TU21N460QIS  ...    3.464547    4.030966    4.066935    3.950922   \n",
       "A2THU56YB588IA  ...    3.606695    4.083995    4.101850    4.026687   \n",
       "A39QEKNEFSJ34Q  ...    3.235957    3.726256    3.758660    3.712621   \n",
       "A12HCOKL5QNQ0Y  ...    3.083173    3.612682    3.708106    3.597116   \n",
       "\n",
       "                0439877563  0061085189  0307729982  006082767X  0553444867  \\\n",
       "AELSTEJJO90M7     3.961518    4.145382    4.029335    3.746988    3.822963   \n",
       "A126KX6FVI4T66    3.756798    3.888793    3.752809    3.513516    3.524143   \n",
       "A2UYGOYMV73826    4.367859    4.524611    4.325662    4.085989    4.199329   \n",
       "A1XCSAX4BRT89Y    3.856035    3.979830    3.875260    3.605149    3.650247   \n",
       "A1XRQ6YJ7HXQFQ    4.198507    4.338258    4.225089    3.940510    3.975060   \n",
       "...                    ...         ...         ...         ...         ...   \n",
       "A22ZJ9Y723DO3R    4.062115    4.184525    4.066486    3.778184    3.828208   \n",
       "A33TU21N460QIS    3.905624    4.055549    3.921071    3.667737    3.730302   \n",
       "A2THU56YB588IA    3.935344    4.193947    4.014738    3.704745    3.811203   \n",
       "A39QEKNEFSJ34Q    3.667230    3.845424    3.691245    3.398289    3.505796   \n",
       "A12HCOKL5QNQ0Y    3.489099    3.638487    3.529878    3.321807    3.373969   \n",
       "\n",
       "                0439845009  \n",
       "AELSTEJJO90M7     4.030790  \n",
       "A126KX6FVI4T66    3.824007  \n",
       "A2UYGOYMV73826    4.397622  \n",
       "A1XCSAX4BRT89Y    3.905538  \n",
       "A1XRQ6YJ7HXQFQ    4.250414  \n",
       "...                    ...  \n",
       "A22ZJ9Y723DO3R    4.088037  \n",
       "A33TU21N460QIS    3.965299  \n",
       "A2THU56YB588IA    4.024941  \n",
       "A39QEKNEFSJ34Q    3.685553  \n",
       "A12HCOKL5QNQ0Y    3.605806  \n",
       "\n",
       "[2647 rows x 10982 columns]"
      ]
     },
     "execution_count": 29,
     "metadata": {},
     "output_type": "execute_result"
    }
   ],
   "source": [
    "full_pred_df"
   ]
  },
  {
   "cell_type": "code",
   "execution_count": 30,
   "metadata": {
    "ExecuteTime": {
     "end_time": "2020-05-17T16:53:00.749892Z",
     "start_time": "2020-05-17T16:50:15.369771Z"
    }
   },
   "outputs": [],
   "source": [
    "full_pred_df.to_csv('/Volumes/external/Sangeetha-Project/svd_est.csv.gz', \n",
    "                    index = True, header=True, compression='gzip')"
   ]
  },
  {
   "cell_type": "code",
   "execution_count": 37,
   "metadata": {
    "ExecuteTime": {
     "end_time": "2020-05-17T17:30:38.562865Z",
     "start_time": "2020-05-17T17:30:37.954611Z"
    }
   },
   "outputs": [],
   "source": [
    "sur.dump.dump('/Volumes/external/Sangeetha-Project/svd_dump_file', algo=algo)"
   ]
  },
  {
   "cell_type": "code",
   "execution_count": 39,
   "metadata": {
    "ExecuteTime": {
     "end_time": "2020-05-17T17:32:07.933411Z",
     "start_time": "2020-05-17T17:32:07.591098Z"
    }
   },
   "outputs": [],
   "source": [
    "_, test_algo = sur.dump.load('/Volumes/external/Sangeetha-Project/svd_dump_file')"
   ]
  },
  {
   "cell_type": "code",
   "execution_count": 40,
   "metadata": {
    "ExecuteTime": {
     "end_time": "2020-05-17T17:32:14.079706Z",
     "start_time": "2020-05-17T17:32:14.074216Z"
    }
   },
   "outputs": [],
   "source": [
    "_"
   ]
  },
  {
   "cell_type": "code",
   "execution_count": 41,
   "metadata": {
    "ExecuteTime": {
     "end_time": "2020-05-17T17:32:20.459589Z",
     "start_time": "2020-05-17T17:32:20.453351Z"
    }
   },
   "outputs": [
    {
     "data": {
      "text/plain": [
       "Prediction(uid='A2NHD7LUXVGTD3', iid='0060515198', r_ui=None, est=4.326183695127225, details={'was_impossible': False})"
      ]
     },
     "execution_count": 41,
     "metadata": {},
     "output_type": "execute_result"
    }
   ],
   "source": [
    "test_algo.predict('A2NHD7LUXVGTD3', '0060515198')"
   ]
  },
  {
   "cell_type": "markdown",
   "metadata": {},
   "source": [
    "### Checking the user-item matrix"
   ]
  },
  {
   "cell_type": "code",
   "execution_count": 31,
   "metadata": {
    "ExecuteTime": {
     "end_time": "2020-05-17T16:56:16.909778Z",
     "start_time": "2020-05-17T16:56:16.905375Z"
    }
   },
   "outputs": [],
   "source": [
    "item = '0060515198'\n",
    "user = 'A2NHD7LUXVGTD3'"
   ]
  },
  {
   "cell_type": "code",
   "execution_count": 32,
   "metadata": {
    "ExecuteTime": {
     "end_time": "2020-05-17T16:56:22.646600Z",
     "start_time": "2020-05-17T16:56:22.638024Z"
    },
    "scrolled": true
   },
   "outputs": [
    {
     "data": {
      "text/plain": [
       "Prediction(uid='A2NHD7LUXVGTD3', iid='0060515198', r_ui=None, est=4.326183695127225, details={'was_impossible': False})"
      ]
     },
     "execution_count": 32,
     "metadata": {},
     "output_type": "execute_result"
    }
   ],
   "source": [
    "algo.predict('A2NHD7LUXVGTD3', '0060515198')"
   ]
  },
  {
   "cell_type": "code",
   "execution_count": 33,
   "metadata": {
    "ExecuteTime": {
     "end_time": "2020-05-17T16:56:32.918485Z",
     "start_time": "2020-05-17T16:56:32.910672Z"
    },
    "scrolled": false
   },
   "outputs": [
    {
     "data": {
      "text/plain": [
       "4.326183695127225"
      ]
     },
     "execution_count": 33,
     "metadata": {},
     "output_type": "execute_result"
    }
   ],
   "source": [
    "full_pred[trainset_full.to_inner_uid(user), trainset_full.to_inner_iid(item)]"
   ]
  },
  {
   "cell_type": "code",
   "execution_count": 34,
   "metadata": {
    "ExecuteTime": {
     "end_time": "2020-05-17T16:56:37.936330Z",
     "start_time": "2020-05-17T16:56:37.928127Z"
    },
    "scrolled": true
   },
   "outputs": [
    {
     "data": {
      "text/plain": [
       "4.326183695127225"
      ]
     },
     "execution_count": 34,
     "metadata": {},
     "output_type": "execute_result"
    }
   ],
   "source": [
    "full_pred_df.loc[user,item]"
   ]
  },
  {
   "cell_type": "markdown",
   "metadata": {},
   "source": [
    "## Precision@K and Recall@K"
   ]
  },
  {
   "cell_type": "code",
   "execution_count": 36,
   "metadata": {
    "ExecuteTime": {
     "end_time": "2020-05-17T17:00:28.831801Z",
     "start_time": "2020-05-17T17:00:28.803022Z"
    },
    "scrolled": true
   },
   "outputs": [
    {
     "data": {
      "text/plain": [
       "[Prediction(uid='AELSTEJJO90M7', iid='0060850523', r_ui=5.0, est=4.036300359319754, details={'was_impossible': False}),\n",
       " Prediction(uid='AELSTEJJO90M7', iid='0439284031', r_ui=5.0, est=4.2970804450610425, details={'was_impossible': False}),\n",
       " Prediction(uid='AELSTEJJO90M7', iid='0307278867', r_ui=3.0, est=3.928658224134154, details={'was_impossible': False}),\n",
       " Prediction(uid='AELSTEJJO90M7', iid='0099452243', r_ui=2.0, est=3.9903773225755477, details={'was_impossible': False}),\n",
       " Prediction(uid='AELSTEJJO90M7', iid='030728364X', r_ui=4.0, est=4.378396315479712, details={'was_impossible': False}),\n",
       " Prediction(uid='AELSTEJJO90M7', iid='0345476972', r_ui=4.0, est=4.108185851714784, details={'was_impossible': False}),\n",
       " Prediction(uid='AELSTEJJO90M7', iid='0385511809', r_ui=5.0, est=3.863590627150929, details={'was_impossible': False}),\n",
       " Prediction(uid='AELSTEJJO90M7', iid='0099459051', r_ui=5.0, est=4.121726835655795, details={'was_impossible': False}),\n",
       " Prediction(uid='AELSTEJJO90M7', iid='0316154075', r_ui=4.0, est=3.9682890135461095, details={'was_impossible': False}),\n",
       " Prediction(uid='AELSTEJJO90M7', iid='0312938640', r_ui=5.0, est=4.411600724914869, details={'was_impossible': False}),\n",
       " Prediction(uid='AELSTEJJO90M7', iid='031242678X', r_ui=5.0, est=4.340896652517058, details={'was_impossible': False}),\n",
       " Prediction(uid='AELSTEJJO90M7', iid='0061015733', r_ui=4.0, est=3.818488742673782, details={'was_impossible': False}),\n",
       " Prediction(uid='AELSTEJJO90M7', iid='0312340702', r_ui=5.0, est=4.294167235915849, details={'was_impossible': False}),\n",
       " Prediction(uid='AELSTEJJO90M7', iid='0307885151', r_ui=5.0, est=4.287709678330091, details={'was_impossible': False}),\n",
       " Prediction(uid='AELSTEJJO90M7', iid='0345413350', r_ui=4.0, est=4.285794060397468, details={'was_impossible': False}),\n",
       " Prediction(uid='AELSTEJJO90M7', iid='0312427050', r_ui=3.0, est=3.6626188775259925, details={'was_impossible': False}),\n",
       " Prediction(uid='AELSTEJJO90M7', iid='0307263118', r_ui=3.0, est=3.9351600992937, details={'was_impossible': False}),\n",
       " Prediction(uid='AELSTEJJO90M7', iid='0099297701', r_ui=1.0, est=3.2205247146636022, details={'was_impossible': False}),\n",
       " Prediction(uid='AELSTEJJO90M7', iid='0316154601', r_ui=5.0, est=4.109458114518621, details={'was_impossible': False}),\n",
       " Prediction(uid='AELSTEJJO90M7', iid='0393046710', r_ui=3.0, est=4.066433779536841, details={'was_impossible': False}),\n",
       " Prediction(uid='AELSTEJJO90M7', iid='0307456625', r_ui=4.0, est=4.140858963713044, details={'was_impossible': False}),\n",
       " Prediction(uid='AELSTEJJO90M7', iid='0316734950', r_ui=4.0, est=4.353258251541191, details={'was_impossible': False}),\n",
       " Prediction(uid='AELSTEJJO90M7', iid='0345460057', r_ui=3.0, est=3.7504774424268645, details={'was_impossible': False}),\n",
       " Prediction(uid='AELSTEJJO90M7', iid='0142001163', r_ui=3.0, est=3.5718729191151275, details={'was_impossible': False}),\n",
       " Prediction(uid='AELSTEJJO90M7', iid='0099450259', r_ui=5.0, est=4.265182668372606, details={'was_impossible': False}),\n",
       " Prediction(uid='AELSTEJJO90M7', iid='0060175400', r_ui=5.0, est=4.200996619138693, details={'was_impossible': False}),\n",
       " Prediction(uid='AELSTEJJO90M7', iid='051754489X', r_ui=4.0, est=3.9320416838753274, details={'was_impossible': False}),\n",
       " Prediction(uid='AELSTEJJO90M7', iid='043935806X', r_ui=4.0, est=4.2842987810949005, details={'was_impossible': False}),\n",
       " Prediction(uid='AELSTEJJO90M7', iid='0316154059', r_ui=5.0, est=4.073359051831893, details={'was_impossible': False}),\n",
       " Prediction(uid='AELSTEJJO90M7', iid='0316018953', r_ui=4.0, est=3.889364324906323, details={'was_impossible': False}),\n",
       " Prediction(uid='AELSTEJJO90M7', iid='0340822775', r_ui=4.0, est=4.215956883304662, details={'was_impossible': False}),\n",
       " Prediction(uid='AELSTEJJO90M7', iid='0060530677', r_ui=4.0, est=3.9657931865412794, details={'was_impossible': False}),\n",
       " Prediction(uid='AELSTEJJO90M7', iid='0316155306', r_ui=4.0, est=3.997097594705896, details={'was_impossible': False}),\n",
       " Prediction(uid='AELSTEJJO90M7', iid='0307742857', r_ui=5.0, est=4.007864044267306, details={'was_impossible': False}),\n",
       " Prediction(uid='AELSTEJJO90M7', iid='0099496941', r_ui=5.0, est=4.574789866052933, details={'was_impossible': False}),\n",
       " Prediction(uid='AELSTEJJO90M7', iid='0345476999', r_ui=4.0, est=3.8518152135332637, details={'was_impossible': False}),\n",
       " Prediction(uid='AELSTEJJO90M7', iid='0312977360', r_ui=5.0, est=4.131883760563768, details={'was_impossible': False}),\n",
       " Prediction(uid='AELSTEJJO90M7', iid='0060740221', r_ui=4.0, est=4.231325181195249, details={'was_impossible': False}),\n",
       " Prediction(uid='AELSTEJJO90M7', iid='0140296271', r_ui=5.0, est=3.893312635091363, details={'was_impossible': False}),\n",
       " Prediction(uid='AELSTEJJO90M7', iid='0330492691', r_ui=4.0, est=3.8946430800261873, details={'was_impossible': False}),\n",
       " Prediction(uid='AELSTEJJO90M7', iid='0385494238', r_ui=4.0, est=3.6031117195804216, details={'was_impossible': False}),\n",
       " Prediction(uid='AELSTEJJO90M7', iid='0156029987', r_ui=3.0, est=3.523609814627304, details={'was_impossible': False}),\n",
       " Prediction(uid='AELSTEJJO90M7', iid='009952712X', r_ui=3.0, est=4.30730463929709, details={'was_impossible': False}),\n",
       " Prediction(uid='AELSTEJJO90M7', iid='0316154741', r_ui=4.0, est=4.368336597899364, details={'was_impossible': False}),\n",
       " Prediction(uid='AELSTEJJO90M7', iid='0375821813', r_ui=4.0, est=4.266897853765736, details={'was_impossible': False}),\n",
       " Prediction(uid='AELSTEJJO90M7', iid='0330483218', r_ui=3.0, est=3.673863989425509, details={'was_impossible': False}),\n",
       " Prediction(uid='AELSTEJJO90M7', iid='0141035005', r_ui=4.0, est=3.750630511500468, details={'was_impossible': False}),\n",
       " Prediction(uid='AELSTEJJO90M7', iid='0151002517', r_ui=4.0, est=4.212552006314251, details={'was_impossible': False}),\n",
       " Prediction(uid='AELSTEJJO90M7', iid='0060175966', r_ui=4.0, est=3.9621881862639374, details={'was_impossible': False}),\n",
       " Prediction(uid='AELSTEJJO90M7', iid='0061122416', r_ui=5.0, est=3.6374815056170635, details={'was_impossible': False}),\n",
       " Prediction(uid='AELSTEJJO90M7', iid='0375508546', r_ui=3.0, est=4.008270254312408, details={'was_impossible': False}),\n",
       " Prediction(uid='AELSTEJJO90M7', iid='0307593924', r_ui=3.0, est=4.103265674498811, details={'was_impossible': False}),\n",
       " Prediction(uid='AELSTEJJO90M7', iid='0375724508', r_ui=5.0, est=4.100012507704249, details={'was_impossible': False}),\n",
       " Prediction(uid='AELSTEJJO90M7', iid='0345466632', r_ui=5.0, est=4.123393407633712, details={'was_impossible': False}),\n",
       " Prediction(uid='AELSTEJJO90M7', iid='0553109537', r_ui=4.0, est=4.155377526836759, details={'was_impossible': False}),\n",
       " Prediction(uid='AELSTEJJO90M7', iid='037543318X', r_ui=4.0, est=3.7988014234208656, details={'was_impossible': False}),\n",
       " Prediction(uid='AELSTEJJO90M7', iid='0345479351', r_ui=3.0, est=3.7433992372534246, details={'was_impossible': False}),\n",
       " Prediction(uid='AELSTEJJO90M7', iid='0142004812', r_ui=3.0, est=3.744089651257954, details={'was_impossible': False}),\n",
       " Prediction(uid='AELSTEJJO90M7', iid='0399145885', r_ui=4.0, est=3.933416783159748, details={'was_impossible': False}),\n",
       " Prediction(uid='AELSTEJJO90M7', iid='0060529709', r_ui=5.0, est=3.770551270995438, details={'was_impossible': False}),\n",
       " Prediction(uid='AELSTEJJO90M7', iid='0060765240', r_ui=4.0, est=3.632241362139081, details={'was_impossible': False}),\n",
       " Prediction(uid='AELSTEJJO90M7', iid='0312340710', r_ui=5.0, est=4.392897849943203, details={'was_impossible': False}),\n",
       " Prediction(uid='AELSTEJJO90M7', iid='0399154671', r_ui=3.0, est=3.7124818278468066, details={'was_impossible': False}),\n",
       " Prediction(uid='AELSTEJJO90M7', iid='0451215540', r_ui=4.0, est=3.768476377489999, details={'was_impossible': False}),\n",
       " Prediction(uid='AELSTEJJO90M7', iid='034549038X', r_ui=2.0, est=3.714038446637869, details={'was_impossible': False}),\n",
       " Prediction(uid='AELSTEJJO90M7', iid='0140293442', r_ui=4.0, est=3.8844559770291105, details={'was_impossible': False}),\n",
       " Prediction(uid='AELSTEJJO90M7', iid='0007172826', r_ui=5.0, est=4.18341470714911, details={'was_impossible': False}),\n",
       " Prediction(uid='AELSTEJJO90M7', iid='0060392452', r_ui=4.0, est=3.620755579999673, details={'was_impossible': False}),\n",
       " Prediction(uid='AELSTEJJO90M7', iid='0099535297', r_ui=5.0, est=4.180128063119069, details={'was_impossible': False}),\n",
       " Prediction(uid='AELSTEJJO90M7', iid='0099429799', r_ui=5.0, est=4.176233538461686, details={'was_impossible': False}),\n",
       " Prediction(uid='AELSTEJJO90M7', iid='031218087X', r_ui=3.0, est=3.2176557940718045, details={'was_impossible': False}),\n",
       " Prediction(uid='AELSTEJJO90M7', iid='0312423810', r_ui=4.0, est=4.153978344737593, details={'was_impossible': False}),\n",
       " Prediction(uid='AELSTEJJO90M7', iid='0345413881', r_ui=3.0, est=3.31772505382382, details={'was_impossible': False}),\n",
       " Prediction(uid='AELSTEJJO90M7', iid='0399151613', r_ui=3.0, est=3.330188819727399, details={'was_impossible': False}),\n",
       " Prediction(uid='AELSTEJJO90M7', iid='0140120831', r_ui=5.0, est=4.159122966920351, details={'was_impossible': False}),\n",
       " Prediction(uid='AELSTEJJO90M7', iid='0439136350', r_ui=4.0, est=4.419400197583775, details={'was_impossible': False}),\n",
       " Prediction(uid='AELSTEJJO90M7', iid='009956064X', r_ui=5.0, est=4.30121123350269, details={'was_impossible': False}),\n",
       " Prediction(uid='AELSTEJJO90M7', iid='0375506713', r_ui=4.0, est=3.812615595212431, details={'was_impossible': False}),\n",
       " Prediction(uid='AELSTEJJO90M7', iid='0425133516', r_ui=1.0, est=3.9537034380879446, details={'was_impossible': False}),\n",
       " Prediction(uid='AELSTEJJO90M7', iid='0061146307', r_ui=3.0, est=3.788296987101188, details={'was_impossible': False}),\n",
       " Prediction(uid='AELSTEJJO90M7', iid='0385660065', r_ui=5.0, est=4.418018347660888, details={'was_impossible': False}),\n",
       " Prediction(uid='AELSTEJJO90M7', iid='0345441788', r_ui=4.0, est=4.181754576079572, details={'was_impossible': False}),\n",
       " Prediction(uid='AELSTEJJO90M7', iid='0060936231', r_ui=2.0, est=3.4768125205455216, details={'was_impossible': False}),\n",
       " Prediction(uid='AELSTEJJO90M7', iid='0345476158', r_ui=3.0, est=3.397554141549197, details={'was_impossible': False}),\n",
       " Prediction(uid='AELSTEJJO90M7', iid='037571894X', r_ui=4.0, est=4.286857375928493, details={'was_impossible': False}),\n",
       " Prediction(uid='AELSTEJJO90M7', iid='0375410848', r_ui=5.0, est=4.190213992729407, details={'was_impossible': False}),\n",
       " Prediction(uid='AELSTEJJO90M7', iid='0316001821', r_ui=4.0, est=3.8147604609337122, details={'was_impossible': False}),\n",
       " Prediction(uid='AELSTEJJO90M7', iid='0451627873', r_ui=4.0, est=3.930357153245791, details={'was_impossible': False}),\n",
       " Prediction(uid='AELSTEJJO90M7', iid='0030565812', r_ui=5.0, est=4.578279262129056, details={'was_impossible': False}),\n",
       " Prediction(uid='AELSTEJJO90M7', iid='0316153915', r_ui=5.0, est=3.655400198196817, details={'was_impossible': False}),\n",
       " Prediction(uid='AELSTEJJO90M7', iid='0312423667', r_ui=4.0, est=3.7957133556639335, details={'was_impossible': False}),\n",
       " Prediction(uid='AELSTEJJO90M7', iid='0151008116', r_ui=5.0, est=4.230611139321871, details={'was_impossible': False}),\n",
       " Prediction(uid='AELSTEJJO90M7', iid='0375410546', r_ui=2.0, est=3.492678777040355, details={'was_impossible': False}),\n",
       " Prediction(uid='AELSTEJJO90M7', iid='0062009389', r_ui=3.0, est=3.9582887655376715, details={'was_impossible': False}),\n",
       " Prediction(uid='AELSTEJJO90M7', iid='0316734942', r_ui=4.0, est=4.104962143091643, details={'was_impossible': False}),\n",
       " Prediction(uid='A126KX6FVI4T66', iid='0385494238', r_ui=5.0, est=3.3522570722102922, details={'was_impossible': False}),\n",
       " Prediction(uid='A126KX6FVI4T66', iid='037380315X', r_ui=5.0, est=3.913975031368972, details={'was_impossible': False}),\n",
       " Prediction(uid='A126KX6FVI4T66', iid='0345340248', r_ui=3.0, est=3.9380566251469458, details={'was_impossible': False}),\n",
       " Prediction(uid='A126KX6FVI4T66', iid='0140714766', r_ui=4.0, est=4.0923522932342395, details={'was_impossible': False}),\n",
       " Prediction(uid='A126KX6FVI4T66', iid='0312368542', r_ui=4.0, est=3.543417840039029, details={'was_impossible': False}),\n",
       " Prediction(uid='A126KX6FVI4T66', iid='0312428227', r_ui=4.0, est=3.653097245916601, details={'was_impossible': False}),\n",
       " Prediction(uid='A126KX6FVI4T66', iid='0399154973', r_ui=3.0, est=3.5998787737145053, details={'was_impossible': False}),\n",
       " Prediction(uid='A126KX6FVI4T66', iid='0345376501', r_ui=4.0, est=4.229714465435644, details={'was_impossible': False}),\n",
       " Prediction(uid='A126KX6FVI4T66', iid='0345534050', r_ui=4.0, est=3.518880759580268, details={'was_impossible': False}),\n",
       " Prediction(uid='A126KX6FVI4T66', iid='0307262995', r_ui=3.0, est=3.1250477579906577, details={'was_impossible': False}),\n",
       " Prediction(uid='A126KX6FVI4T66', iid='0375714790', r_ui=4.0, est=3.8539859372751892, details={'was_impossible': False}),\n",
       " Prediction(uid='A126KX6FVI4T66', iid='0544245598', r_ui=4.0, est=3.4288228392739404, details={'was_impossible': False}),\n",
       " Prediction(uid='A126KX6FVI4T66', iid='0307268861', r_ui=5.0, est=3.7829592661009523, details={'was_impossible': False}),\n",
       " Prediction(uid='A126KX6FVI4T66', iid='0440423546', r_ui=4.0, est=3.7371467944240444, details={'was_impossible': False}),\n",
       " Prediction(uid='A126KX6FVI4T66', iid='0061173509', r_ui=4.0, est=3.85444695659366, details={'was_impossible': False}),\n",
       " Prediction(uid='A126KX6FVI4T66', iid='0470121513', r_ui=5.0, est=3.236879868385435, details={'was_impossible': False}),\n",
       " Prediction(uid='A126KX6FVI4T66', iid='0307264645', r_ui=4.0, est=3.8291289435753457, details={'was_impossible': False}),\n",
       " Prediction(uid='A126KX6FVI4T66', iid='0399141383', r_ui=3.0, est=3.9203155563006695, details={'was_impossible': False}),\n",
       " Prediction(uid='A126KX6FVI4T66', iid='0385742444', r_ui=5.0, est=3.990368391622823, details={'was_impossible': False}),\n",
       " Prediction(uid='A126KX6FVI4T66', iid='0140348107', r_ui=5.0, est=3.826516821280173, details={'was_impossible': False}),\n",
       " Prediction(uid='A126KX6FVI4T66', iid='0140184406', r_ui=5.0, est=3.4892692550344386, details={'was_impossible': False}),\n",
       " Prediction(uid='A126KX6FVI4T66', iid='039592720X', r_ui=4.0, est=4.272874339616689, details={'was_impossible': False}),\n",
       " Prediction(uid='A126KX6FVI4T66', iid='0312368569', r_ui=4.0, est=3.873069796011221, details={'was_impossible': False}),\n",
       " Prediction(uid='A126KX6FVI4T66', iid='451200810', r_ui=3.0, est=4.038259171397063, details={'was_impossible': False}),\n",
       " Prediction(uid='A126KX6FVI4T66', iid='0312369727', r_ui=4.0, est=3.8167978287249325, details={'was_impossible': False}),\n",
       " Prediction(uid='A126KX6FVI4T66', iid='0152063684', r_ui=5.0, est=3.452710466794823, details={'was_impossible': False}),\n",
       " Prediction(uid='A126KX6FVI4T66', iid='0547517653', r_ui=4.0, est=3.986989618092872, details={'was_impossible': False}),\n",
       " Prediction(uid='A126KX6FVI4T66', iid='0061478741', r_ui=5.0, est=3.9021803637295216, details={'was_impossible': False}),\n",
       " Prediction(uid='A126KX6FVI4T66', iid='0195014766', r_ui=3.0, est=3.8802534776489086, details={'was_impossible': False}),\n",
       " Prediction(uid='A126KX6FVI4T66', iid='0375868704', r_ui=4.0, est=3.5437370037408207, details={'was_impossible': False}),\n",
       " Prediction(uid='A126KX6FVI4T66', iid='0547248199', r_ui=4.0, est=3.7591292118422914, details={'was_impossible': False}),\n",
       " Prediction(uid='A126KX6FVI4T66', iid='034549749X', r_ui=3.0, est=3.2957691601103747, details={'was_impossible': False}),\n",
       " Prediction(uid='A126KX6FVI4T66', iid='031232362X', r_ui=4.0, est=3.4039018744536427, details={'was_impossible': False}),\n",
       " Prediction(uid='A126KX6FVI4T66', iid='0345413350', r_ui=3.0, est=4.031593068867223, details={'was_impossible': False}),\n",
       " Prediction(uid='A126KX6FVI4T66', iid='0060584750', r_ui=3.0, est=4.021135275643115, details={'was_impossible': False}),\n",
       " Prediction(uid='A126KX6FVI4T66', iid='0547394527', r_ui=4.0, est=3.8593168063075907, details={'was_impossible': False}),\n",
       " Prediction(uid='A126KX6FVI4T66', iid='0312930194', r_ui=3.0, est=3.6612904139454474, details={'was_impossible': False}),\n",
       " Prediction(uid='A126KX6FVI4T66', iid='0385477058', r_ui=4.0, est=3.9890569021475897, details={'was_impossible': False}),\n",
       " Prediction(uid='A126KX6FVI4T66', iid='0141194529', r_ui=5.0, est=4.154179772579604, details={'was_impossible': False}),\n",
       " Prediction(uid='A126KX6FVI4T66', iid='014023313X', r_ui=3.0, est=3.389064299223573, details={'was_impossible': False}),\n",
       " Prediction(uid='A126KX6FVI4T66', iid='0007121121', r_ui=4.0, est=4.011499697504784, details={'was_impossible': False}),\n",
       " Prediction(uid='A126KX6FVI4T66', iid='0151006903', r_ui=3.0, est=3.758173366147364, details={'was_impossible': False}),\n",
       " Prediction(uid='A126KX6FVI4T66', iid='0099440687', r_ui=5.0, est=3.844478442754232, details={'was_impossible': False}),\n",
       " Prediction(uid='A126KX6FVI4T66', iid='031218087X', r_ui=3.0, est=2.970265829037136, details={'was_impossible': False}),\n",
       " Prediction(uid='A126KX6FVI4T66', iid='0385531540', r_ui=4.0, est=3.5356629775645776, details={'was_impossible': False}),\n",
       " Prediction(uid='A126KX6FVI4T66', iid='0425137457', r_ui=3.0, est=3.5160811032363086, details={'was_impossible': False}),\n",
       " Prediction(uid='A126KX6FVI4T66', iid='0312383770', r_ui=4.0, est=3.608838159507666, details={'was_impossible': False}),\n",
       " Prediction(uid='A126KX6FVI4T66', iid='0345805054', r_ui=4.0, est=3.4854828479185103, details={'was_impossible': False}),\n",
       " Prediction(uid='A126KX6FVI4T66', iid='0062092995', r_ui=4.0, est=3.8510460014102095, details={'was_impossible': False}),\n",
       " Prediction(uid='A126KX6FVI4T66', iid='0297825038', r_ui=3.0, est=4.074363416290718, details={'was_impossible': False}),\n",
       " Prediction(uid='A126KX6FVI4T66', iid='0060724226', r_ui=4.0, est=3.6834789699550683, details={'was_impossible': False}),\n",
       " Prediction(uid='A126KX6FVI4T66', iid='0345496574', r_ui=3.0, est=3.5201663321232837, details={'was_impossible': False}),\n",
       " Prediction(uid='A126KX6FVI4T66', iid='0061962740', r_ui=3.0, est=3.033518783487543, details={'was_impossible': False}),\n",
       " Prediction(uid='A126KX6FVI4T66', iid='0439929830', r_ui=4.0, est=3.2446591187656715, details={'was_impossible': False}),\n",
       " Prediction(uid='A126KX6FVI4T66', iid='0099447126', r_ui=2.0, est=3.24856393718641, details={'was_impossible': False}),\n",
       " Prediction(uid='A126KX6FVI4T66', iid='0545107083', r_ui=4.0, est=3.719234607061731, details={'was_impossible': False}),\n",
       " Prediction(uid='A126KX6FVI4T66', iid='0307593967', r_ui=5.0, est=3.833210598737619, details={'was_impossible': False}),\n",
       " Prediction(uid='A126KX6FVI4T66', iid='0140022651', r_ui=3.0, est=3.5651063840295003, details={'was_impossible': False}),\n",
       " Prediction(uid='A126KX6FVI4T66', iid='0547225490', r_ui=4.0, est=3.8188852092053533, details={'was_impossible': False}),\n",
       " Prediction(uid='A126KX6FVI4T66', iid='0152047328', r_ui=4.0, est=3.963085891344375, details={'was_impossible': False}),\n",
       " Prediction(uid='A126KX6FVI4T66', iid='0060575913', r_ui=3.0, est=3.9630504206855646, details={'was_impossible': False}),\n",
       " Prediction(uid='A126KX6FVI4T66', iid='0099244721', r_ui=3.0, est=3.1467170132244755, details={'was_impossible': False}),\n",
       " Prediction(uid='A126KX6FVI4T66', iid='0060872985', r_ui=3.0, est=3.0601227596831615, details={'was_impossible': False}),\n",
       " Prediction(uid='A126KX6FVI4T66', iid='0141039280', r_ui=5.0, est=4.218746072164278, details={'was_impossible': False}),\n",
       " Prediction(uid='A126KX6FVI4T66', iid='0312850093', r_ui=3.0, est=3.6294518410319703, details={'was_impossible': False}),\n",
       " Prediction(uid='A126KX6FVI4T66', iid='0141191538', r_ui=4.0, est=3.848176093129363, details={'was_impossible': False}),\n",
       " Prediction(uid='A126KX6FVI4T66', iid='0060557559', r_ui=2.0, est=3.915936866865404, details={'was_impossible': False}),\n",
       " Prediction(uid='A126KX6FVI4T66', iid='034552425X', r_ui=4.0, est=3.810288834943209, details={'was_impossible': False}),\n",
       " Prediction(uid='A126KX6FVI4T66', iid='030797071X', r_ui=3.0, est=3.658280429576488, details={'was_impossible': False}),\n",
       " Prediction(uid='A126KX6FVI4T66', iid='0307591972', r_ui=4.0, est=3.563866957725994, details={'was_impossible': False}),\n",
       " Prediction(uid='A126KX6FVI4T66', iid='0375412824', r_ui=2.0, est=3.2002437151598304, details={'was_impossible': False}),\n",
       " Prediction(uid='A126KX6FVI4T66', iid='0553807579', r_ui=4.0, est=3.9503537708929817, details={'was_impossible': False}),\n",
       " Prediction(uid='A126KX6FVI4T66', iid='0375412883', r_ui=4.0, est=3.979025824803914, details={'was_impossible': False}),\n",
       " Prediction(uid='A126KX6FVI4T66', iid='0312282990', r_ui=5.0, est=4.0444528290228305, details={'was_impossible': False}),\n",
       " Prediction(uid='A126KX6FVI4T66', iid='0375849726', r_ui=4.0, est=3.767685790212073, details={'was_impossible': False}),\n",
       " Prediction(uid='A126KX6FVI4T66', iid='0060277270', r_ui=5.0, est=4.198391502133821, details={'was_impossible': False}),\n",
       " Prediction(uid='A126KX6FVI4T66', iid='0060008776', r_ui=4.0, est=3.592289501308157, details={'was_impossible': False}),\n",
       " Prediction(uid='A126KX6FVI4T66', iid='0192835793', r_ui=4.0, est=4.172397206799071, details={'was_impossible': False}),\n",
       " Prediction(uid='A126KX6FVI4T66', iid='0345310020', r_ui=3.0, est=3.6124764533904705, details={'was_impossible': False}),\n",
       " Prediction(uid='A126KX6FVI4T66', iid='0060739479', r_ui=4.0, est=4.042393853283748, details={'was_impossible': False}),\n",
       " Prediction(uid='A126KX6FVI4T66', iid='0307272621', r_ui=4.0, est=2.886553746709022, details={'was_impossible': False}),\n",
       " Prediction(uid='A126KX6FVI4T66', iid='0061449725', r_ui=4.0, est=3.3887075267919657, details={'was_impossible': False}),\n",
       " Prediction(uid='A126KX6FVI4T66', iid='0142417114', r_ui=4.0, est=3.6494828887975994, details={'was_impossible': False}),\n",
       " Prediction(uid='A126KX6FVI4T66', iid='037543318X', r_ui=3.0, est=3.5502617105302936, details={'was_impossible': False}),\n",
       " Prediction(uid='A126KX6FVI4T66', iid='0385336748', r_ui=4.0, est=3.625889445606108, details={'was_impossible': False}),\n",
       " Prediction(uid='A126KX6FVI4T66', iid='0061561630', r_ui=4.0, est=3.4083126865394293, details={'was_impossible': False}),\n",
       " Prediction(uid='A126KX6FVI4T66', iid='0312851405', r_ui=3.0, est=3.8526767930021286, details={'was_impossible': False}),\n",
       " Prediction(uid='A126KX6FVI4T66', iid='0312856830', r_ui=4.0, est=3.6931412113589652, details={'was_impossible': False}),\n",
       " Prediction(uid='A126KX6FVI4T66', iid='0385535910', r_ui=5.0, est=3.9553235062953584, details={'was_impossible': False}),\n",
       " Prediction(uid='A126KX6FVI4T66', iid='0061284645', r_ui=5.0, est=3.235523680106648, details={'was_impossible': False}),\n",
       " Prediction(uid='A126KX6FVI4T66', iid='014118213X', r_ui=3.0, est=3.850812096968756, details={'was_impossible': False}),\n",
       " Prediction(uid='A126KX6FVI4T66', iid='0064407691', r_ui=1.0, est=3.6053642944341995, details={'was_impossible': False}),\n",
       " Prediction(uid='A126KX6FVI4T66', iid='0547411634', r_ui=4.0, est=3.0521182198818453, details={'was_impossible': False}),\n",
       " Prediction(uid='A126KX6FVI4T66', iid='0345390458', r_ui=3.0, est=3.6842161710688024, details={'was_impossible': False}),\n",
       " Prediction(uid='A126KX6FVI4T66', iid='0140183523', r_ui=4.0, est=3.7209963472461145, details={'was_impossible': False}),\n",
       " Prediction(uid='A126KX6FVI4T66', iid='0399149775', r_ui=3.0, est=3.5652554769279154, details={'was_impossible': False}),\n",
       " Prediction(uid='A126KX6FVI4T66', iid='0345546830', r_ui=4.0, est=3.785932937063021, details={'was_impossible': False}),\n",
       " Prediction(uid='A126KX6FVI4T66', iid='0060891564', r_ui=3.0, est=3.6665862769499378, details={'was_impossible': False}),\n",
       " Prediction(uid='A126KX6FVI4T66', iid='055338466X', r_ui=4.0, est=3.3990052862950613, details={'was_impossible': False}),\n",
       " Prediction(uid='A126KX6FVI4T66', iid='0312283423', r_ui=4.0, est=3.4710270582927776, details={'was_impossible': False}),\n",
       " Prediction(uid='A126KX6FVI4T66', iid='0465046754', r_ui=4.0, est=4.001661256509465, details={'was_impossible': False}),\n",
       " Prediction(uid='A126KX6FVI4T66', iid='0061726168', r_ui=4.0, est=3.4526336831507116, details={'was_impossible': False}),\n",
       " Prediction(uid='A126KX6FVI4T66', iid='0553591967', r_ui=3.0, est=3.3347220666080846, details={'was_impossible': False}),\n",
       " Prediction(uid='A126KX6FVI4T66', iid='0385660065', r_ui=3.0, est=4.158390181605019, details={'was_impossible': False}),\n",
       " Prediction(uid='A126KX6FVI4T66', iid='0439925932', r_ui=4.0, est=3.4525696713380474, details={'was_impossible': False}),\n",
       " Prediction(uid='A126KX6FVI4T66', iid='0061802549', r_ui=3.0, est=3.21943492162054, details={'was_impossible': False}),\n",
       " Prediction(uid='A126KX6FVI4T66', iid='0340839937', r_ui=3.0, est=4.073131217266124, details={'was_impossible': False}),\n",
       " Prediction(uid='A126KX6FVI4T66', iid='0345523474', r_ui=4.0, est=3.726562277077964, details={'was_impossible': False}),\n",
       " Prediction(uid='A126KX6FVI4T66', iid='0575097469', r_ui=3.0, est=3.974530982525492, details={'was_impossible': False}),\n",
       " Prediction(uid='A126KX6FVI4T66', iid='006019491X', r_ui=5.0, est=3.542797188854882, details={'was_impossible': False}),\n",
       " Prediction(uid='A126KX6FVI4T66', iid='0060874228', r_ui=4.0, est=3.6652443339445338, details={'was_impossible': False}),\n",
       " Prediction(uid='A126KX6FVI4T66', iid='0062077902', r_ui=4.0, est=3.4560682906136297, details={'was_impossible': False}),\n",
       " Prediction(uid='A126KX6FVI4T66', iid='0061020702', r_ui=2.0, est=3.8115222089241305, details={'was_impossible': False}),\n",
       " Prediction(uid='A126KX6FVI4T66', iid='0064408639', r_ui=1.0, est=3.8218311450785465, details={'was_impossible': False}),\n",
       " Prediction(uid='A126KX6FVI4T66', iid='015603297X', r_ui=2.0, est=3.1988658941007544, details={'was_impossible': False}),\n",
       " Prediction(uid='A126KX6FVI4T66', iid='0156030357', r_ui=2.0, est=3.848905626599082, details={'was_impossible': False}),\n",
       " Prediction(uid='A126KX6FVI4T66', iid='0393060160', r_ui=4.0, est=3.9839333890832487, details={'was_impossible': False}),\n",
       " Prediction(uid='A126KX6FVI4T66', iid='0521710057', r_ui=4.0, est=4.052123683725578, details={'was_impossible': False}),\n",
       " Prediction(uid='A126KX6FVI4T66', iid='0061914622', r_ui=4.0, est=3.442680356276419, details={'was_impossible': False}),\n",
       " Prediction(uid='A126KX6FVI4T66', iid='0307379205', r_ui=3.0, est=3.266643620531753, details={'was_impossible': False}),\n",
       " Prediction(uid='A126KX6FVI4T66', iid='0140177191', r_ui=3.0, est=3.8578868155221664, details={'was_impossible': False}),\n",
       " Prediction(uid='A126KX6FVI4T66', iid='0061567965', r_ui=4.0, est=3.5486074166509423, details={'was_impossible': False}),\n",
       " Prediction(uid='A126KX6FVI4T66', iid='0446600415', r_ui=3.0, est=3.078452764070617, details={'was_impossible': False}),\n",
       " Prediction(uid='A126KX6FVI4T66', iid='0345537122', r_ui=4.0, est=3.742592856121465, details={'was_impossible': False}),\n",
       " Prediction(uid='A126KX6FVI4T66', iid='0062071858', r_ui=4.0, est=3.6622285863496056, details={'was_impossible': False}),\n",
       " Prediction(uid='A126KX6FVI4T66', iid='0553110845', r_ui=3.0, est=3.3355268223765737, details={'was_impossible': False}),\n",
       " Prediction(uid='A126KX6FVI4T66', iid='0064402053', r_ui=5.0, est=4.06753777237836, details={'was_impossible': False}),\n",
       " Prediction(uid='A126KX6FVI4T66', iid='0312558155', r_ui=3.0, est=3.1956582840063126, details={'was_impossible': False}),\n",
       " Prediction(uid='A126KX6FVI4T66', iid='034552666X', r_ui=4.0, est=3.789274062972799, details={'was_impossible': False}),\n",
       " Prediction(uid='A126KX6FVI4T66', iid='0373210345', r_ui=3.0, est=3.264215586558246, details={'was_impossible': False}),\n",
       " Prediction(uid='A126KX6FVI4T66', iid='043920352X', r_ui=4.0, est=4.191875569782596, details={'was_impossible': False}),\n",
       " Prediction(uid='A126KX6FVI4T66', iid='0345456521', r_ui=4.0, est=3.468248678225047, details={'was_impossible': False}),\n",
       " Prediction(uid='A126KX6FVI4T66', iid='0553386700', r_ui=4.0, est=3.611021200495461, details={'was_impossible': False}),\n",
       " Prediction(uid='A126KX6FVI4T66', iid='0375836888', r_ui=5.0, est=4.096483009023168, details={'was_impossible': False}),\n",
       " Prediction(uid='A126KX6FVI4T66', iid='0060956445', r_ui=4.0, est=4.245759173923536, details={'was_impossible': False}),\n",
       " Prediction(uid='A126KX6FVI4T66', iid='0061803863', r_ui=4.0, est=3.3119302357401024, details={'was_impossible': False}),\n",
       " Prediction(uid='A126KX6FVI4T66', iid='0061470856', r_ui=5.0, est=3.828432198541049, details={'was_impossible': False}),\n",
       " Prediction(uid='A126KX6FVI4T66', iid='0446530387', r_ui=3.0, est=3.4086556726773467, details={'was_impossible': False}),\n",
       " Prediction(uid='A126KX6FVI4T66', iid='0060972122', r_ui=3.0, est=3.5848790952973073, details={'was_impossible': False}),\n",
       " Prediction(uid='A126KX6FVI4T66', iid='0439783100', r_ui=4.0, est=3.550615378521481, details={'was_impossible': False}),\n",
       " Prediction(uid='A126KX6FVI4T66', iid='0230700101', r_ui=3.0, est=3.943407875223024, details={'was_impossible': False}),\n",
       " Prediction(uid='A126KX6FVI4T66', iid='0578032147', r_ui=3.0, est=3.6827164833616117, details={'was_impossible': False}),\n",
       " Prediction(uid='A126KX6FVI4T66', iid='0060531088', r_ui=3.0, est=3.809829161441106, details={'was_impossible': False}),\n",
       " Prediction(uid='A126KX6FVI4T66', iid='0062232509', r_ui=4.0, est=3.2292789372397728, details={'was_impossible': False}),\n",
       " Prediction(uid='A126KX6FVI4T66', iid='015101406X', r_ui=4.0, est=3.774735949546512, details={'was_impossible': False}),\n",
       " Prediction(uid='A126KX6FVI4T66', iid='0307713547', r_ui=4.0, est=3.743841377457344, details={'was_impossible': False}),\n",
       " Prediction(uid='A126KX6FVI4T66', iid='0201408252', r_ui=3.0, est=3.6535148204107513, details={'was_impossible': False}),\n",
       " Prediction(uid='A126KX6FVI4T66', iid='0345505107', r_ui=4.0, est=3.5992470147234257, details={'was_impossible': False}),\n",
       " Prediction(uid='A126KX6FVI4T66', iid='0312852487', r_ui=3.0, est=3.75225250464644, details={'was_impossible': False}),\n",
       " Prediction(uid='A126KX6FVI4T66', iid='0385311214', r_ui=3.0, est=3.9546547030618404, details={'was_impossible': False}),\n",
       " Prediction(uid='A126KX6FVI4T66', iid='0345451325', r_ui=3.0, est=3.9310364709593926, details={'was_impossible': False}),\n",
       " Prediction(uid='A126KX6FVI4T66', iid='0345441249', r_ui=4.0, est=3.2880914028590693, details={'was_impossible': False}),\n",
       " Prediction(uid='A126KX6FVI4T66', iid='0143117351', r_ui=4.0, est=3.348404728102036, details={'was_impossible': False}),\n",
       " Prediction(uid='A126KX6FVI4T66', iid='0143142372', r_ui=4.0, est=4.027214627625884, details={'was_impossible': False}),\n",
       " Prediction(uid='A126KX6FVI4T66', iid='0099406136', r_ui=2.0, est=2.8466722100941104, details={'was_impossible': False}),\n",
       " Prediction(uid='A126KX6FVI4T66', iid='0312382855', r_ui=3.0, est=3.7358645046868104, details={'was_impossible': False}),\n",
       " Prediction(uid='A126KX6FVI4T66', iid='0060764902', r_ui=3.0, est=4.053120601614489, details={'was_impossible': False}),\n",
       " Prediction(uid='A126KX6FVI4T66', iid='0061238619', r_ui=4.0, est=3.593292260931468, details={'was_impossible': False}),\n",
       " Prediction(uid='A126KX6FVI4T66', iid='0307473147', r_ui=4.0, est=3.563203872235391, details={'was_impossible': False}),\n",
       " Prediction(uid='A126KX6FVI4T66', iid='0307914208', r_ui=4.0, est=3.8175495568674798, details={'was_impossible': False}),\n",
       " Prediction(uid='A126KX6FVI4T66', iid='0385343272', r_ui=2.0, est=3.0509959782994107, details={'was_impossible': False}),\n",
       " Prediction(uid='A126KX6FVI4T66', iid='0312243022', r_ui=2.0, est=3.701114086193514, details={'was_impossible': False}),\n",
       " Prediction(uid='A126KX6FVI4T66', iid='0345511972', r_ui=4.0, est=3.025559874396388, details={'was_impossible': False}),\n",
       " Prediction(uid='A2UYGOYMV73826', iid='0307388522', r_ui=4.0, est=4.163610147847779, details={'was_impossible': False}),\n",
       " Prediction(uid='A2UYGOYMV73826', iid='0307986330', r_ui=3.0, est=3.7858716688313137, details={'was_impossible': False}),\n",
       " Prediction(uid='A2UYGOYMV73826', iid='0061348155', r_ui=4.0, est=3.651081240974543, details={'was_impossible': False}),\n",
       " Prediction(uid='A2UYGOYMV73826', iid='0307461475', r_ui=4.0, est=4.397712500100618, details={'was_impossible': False}),\n",
       " Prediction(uid='A2UYGOYMV73826', iid='0312591829', r_ui=2.0, est=3.9325335648122577, details={'was_impossible': False}),\n",
       " Prediction(uid='A2UYGOYMV73826', iid='0345527682', r_ui=5.0, est=3.5617905832521117, details={'was_impossible': False}),\n",
       " Prediction(uid='A2UYGOYMV73826', iid='0061719544', r_ui=5.0, est=4.380497590075707, details={'was_impossible': False}),\n",
       " Prediction(uid='A2UYGOYMV73826', iid='0446527874', r_ui=4.0, est=4.0292493250933665, details={'was_impossible': False}),\n",
       " Prediction(uid='A2UYGOYMV73826', iid='0312587481', r_ui=4.0, est=4.310102962257078, details={'was_impossible': False}),\n",
       " Prediction(uid='A2UYGOYMV73826', iid='0312655460', r_ui=4.0, est=4.577024366852403, details={'was_impossible': False}),\n",
       " Prediction(uid='A2UYGOYMV73826', iid='0312383282', r_ui=5.0, est=3.544788973363509, details={'was_impossible': False}),\n",
       " Prediction(uid='A2UYGOYMV73826', iid='0345502698', r_ui=5.0, est=4.18123716041616, details={'was_impossible': False}),\n",
       " Prediction(uid='A2UYGOYMV73826', iid='0307957276', r_ui=5.0, est=4.469572077546305, details={'was_impossible': False}),\n",
       " Prediction(uid='A2UYGOYMV73826', iid='006135158X', r_ui=3.0, est=3.5734881732601758, details={'was_impossible': False}),\n",
       " Prediction(uid='A2UYGOYMV73826', iid='0307907546', r_ui=4.0, est=3.813162779104395, details={'was_impossible': False}),\n",
       " Prediction(uid='A2UYGOYMV73826', iid='0143036939', r_ui=5.0, est=4.149786607422057, details={'was_impossible': False}),\n",
       " Prediction(uid='A2UYGOYMV73826', iid='0345531175', r_ui=5.0, est=4.5265762917905965, details={'was_impossible': False}),\n",
       " Prediction(uid='A2UYGOYMV73826', iid='0446409480', r_ui=3.0, est=3.877481004941126, details={'was_impossible': False}),\n",
       " Prediction(uid='A2UYGOYMV73826', iid='0061878200', r_ui=4.0, est=4.395839507041931, details={'was_impossible': False}),\n",
       " Prediction(uid='A2UYGOYMV73826', iid='0345502655', r_ui=4.0, est=4.357383203780814, details={'was_impossible': False}),\n",
       " Prediction(uid='A2UYGOYMV73826', iid='023070932X', r_ui=5.0, est=4.493340309532914, details={'was_impossible': False}),\n",
       " Prediction(uid='A2UYGOYMV73826', iid='0061958328', r_ui=4.0, est=4.540677763178921, details={'was_impossible': False}),\n",
       " Prediction(uid='A2UYGOYMV73826', iid='0307591387', r_ui=5.0, est=3.4746437925209848, details={'was_impossible': False}),\n",
       " Prediction(uid='A2UYGOYMV73826', iid='0399165940', r_ui=5.0, est=4.495922071453656, details={'was_impossible': False}),\n",
       " Prediction(uid='A2UYGOYMV73826', iid='006182593X', r_ui=4.0, est=4.220274785749941, details={'was_impossible': False}),\n",
       " Prediction(uid='A2UYGOYMV73826', iid='0307272508', r_ui=4.0, est=3.9701424667192255, details={'was_impossible': False}),\n",
       " Prediction(uid='A2UYGOYMV73826', iid='0312383304', r_ui=3.0, est=3.5975446433549116, details={'was_impossible': False}),\n",
       " Prediction(uid='A2UYGOYMV73826', iid='0312655452', r_ui=5.0, est=4.686384873697664, details={'was_impossible': False}),\n",
       " Prediction(uid='A2UYGOYMV73826', iid='0307887863', r_ui=5.0, est=4.252188865820975, details={'was_impossible': False}),\n",
       " Prediction(uid='A2UYGOYMV73826', iid='0312553498', r_ui=4.0, est=3.7901589799176714, details={'was_impossible': False}),\n",
       " Prediction(uid='A2UYGOYMV73826', iid='0307270661', r_ui=4.0, est=4.276155410779798, details={'was_impossible': False}),\n",
       " Prediction(uid='A2UYGOYMV73826', iid='0312642695', r_ui=5.0, est=4.130567944407351, details={'was_impossible': False}),\n",
       " Prediction(uid='A2UYGOYMV73826', iid='0307596915', r_ui=4.0, est=4.064087950716921, details={'was_impossible': False}),\n",
       " Prediction(uid='A2UYGOYMV73826', iid='0230769152', r_ui=5.0, est=4.2998995038996775, details={'was_impossible': False}),\n",
       " Prediction(uid='A2UYGOYMV73826', iid='0399158685', r_ui=5.0, est=4.251409931993946, details={'was_impossible': False}),\n",
       " Prediction(uid='A2UYGOYMV73826', iid='0547816561', r_ui=4.0, est=4.482618623610894, details={'was_impossible': False}),\n",
       " Prediction(uid='A2UYGOYMV73826', iid='0307961257', r_ui=4.0, est=4.118931420855487, details={'was_impossible': False}),\n",
       " Prediction(uid='A2UYGOYMV73826', iid='0316154695', r_ui=4.0, est=4.194212880590006, details={'was_impossible': False}),\n",
       " Prediction(uid='A2UYGOYMV73826', iid='006193836X', r_ui=4.0, est=4.1617382684907955, details={'was_impossible': False}),\n",
       " Prediction(uid='A2UYGOYMV73826', iid='0099494175', r_ui=5.0, est=4.544545454947125, details={'was_impossible': False}),\n",
       " Prediction(uid='A2UYGOYMV73826', iid='0061986461', r_ui=3.0, est=4.176687228474619, details={'was_impossible': False}),\n",
       " Prediction(uid='A2UYGOYMV73826', iid='0061697184', r_ui=2.0, est=3.701612126880497, details={'was_impossible': False}),\n",
       " Prediction(uid='A2UYGOYMV73826', iid='0446578924', r_ui=5.0, est=4.452027971897247, details={'was_impossible': False}),\n",
       " Prediction(uid='A2UYGOYMV73826', iid='0345545354', r_ui=5.0, est=3.8430394026220287, details={'was_impossible': False}),\n",
       " Prediction(uid='A2UYGOYMV73826', iid='0547892624', r_ui=3.0, est=3.9798582891850947, details={'was_impossible': False}),\n",
       " Prediction(uid='A2UYGOYMV73826', iid='0345518314', r_ui=4.0, est=3.962943215534425, details={'was_impossible': False}),\n",
       " Prediction(uid='A2UYGOYMV73826', iid='0307953068', r_ui=4.0, est=4.267420581518176, details={'was_impossible': False}),\n",
       " Prediction(uid='A2UYGOYMV73826', iid='0151013896', r_ui=3.0, est=3.9941126357871326, details={'was_impossible': False}),\n",
       " Prediction(uid='A2UYGOYMV73826', iid='0345523253', r_ui=5.0, est=4.788238809038881, details={'was_impossible': False}),\n",
       " Prediction(uid='A2UYGOYMV73826', iid='0446546305', r_ui=5.0, est=4.189073536281231, details={'was_impossible': False}),\n",
       " Prediction(uid='A2UYGOYMV73826', iid='0061348139', r_ui=3.0, est=3.77954316488108, details={'was_impossible': False}),\n",
       " Prediction(uid='A2UYGOYMV73826', iid='0345521307', r_ui=5.0, est=4.419764727245629, details={'was_impossible': False}),\n",
       " Prediction(uid='A2UYGOYMV73826', iid='0061474266', r_ui=4.0, est=4.269170238969932, details={'was_impossible': False}),\n",
       " Prediction(uid='A2UYGOYMV73826', iid='0312377037', r_ui=5.0, est=4.536933643176682, details={'was_impossible': False}),\n",
       " Prediction(uid='A2UYGOYMV73826', iid='0345502671', r_ui=4.0, est=4.310954105803777, details={'was_impossible': False}),\n",
       " Prediction(uid='A2UYGOYMV73826', iid='0425227510', r_ui=4.0, est=4.055286461458606, details={'was_impossible': False}),\n",
       " Prediction(uid='A2UYGOYMV73826', iid='0312349513', r_ui=5.0, est=3.7751925115546894, details={'was_impossible': False}),\n",
       " Prediction(uid='A2UYGOYMV73826', iid='0307590437', r_ui=5.0, est=4.33583347394331, details={'was_impossible': False}),\n",
       " Prediction(uid='A2UYGOYMV73826', iid='0060874376', r_ui=2.0, est=4.252835823349955, details={'was_impossible': False}),\n",
       " Prediction(uid='A2UYGOYMV73826', iid='0307396045', r_ui=4.0, est=4.483315244798991, details={'was_impossible': False}),\n",
       " Prediction(uid='A2UYGOYMV73826', iid='0547152442', r_ui=5.0, est=4.564225050348872, details={'was_impossible': False}),\n",
       " Prediction(uid='A2UYGOYMV73826', iid='006182674X', r_ui=4.0, est=4.505640305798155, details={'was_impossible': False}),\n",
       " Prediction(uid='A2UYGOYMV73826', iid='0061894443', r_ui=5.0, est=4.729472463513597, details={'was_impossible': False}),\n",
       " Prediction(uid='A2UYGOYMV73826', iid='030726646X', r_ui=4.0, est=4.554308041503712, details={'was_impossible': False}),\n",
       " Prediction(uid='A2UYGOYMV73826', iid='0425230074', r_ui=4.0, est=4.18614638076161, details={'was_impossible': False}),\n",
       " Prediction(uid='A2UYGOYMV73826', iid='0399155937', r_ui=5.0, est=4.6638155161160135, details={'was_impossible': False}),\n",
       " Prediction(uid='A2UYGOYMV73826', iid='0312377045', r_ui=5.0, est=4.610611104174198, details={'was_impossible': False}),\n",
       " Prediction(uid='A2UYGOYMV73826', iid='0156031175', r_ui=5.0, est=4.969393990669148, details={'was_impossible': False}),\n",
       " Prediction(uid='A2UYGOYMV73826', iid='0307463214', r_ui=4.0, est=4.07144049694725, details={'was_impossible': False}),\n",
       " Prediction(uid='A2UYGOYMV73826', iid='0307272222', r_ui=5.0, est=4.5367967884283456, details={'was_impossible': False}),\n",
       " Prediction(uid='A2UYGOYMV73826', iid='0340953950', r_ui=5.0, est=4.443524357667761, details={'was_impossible': False}),\n",
       " Prediction(uid='A2UYGOYMV73826', iid='0312365748', r_ui=5.0, est=4.483090628022817, details={'was_impossible': False}),\n",
       " Prediction(uid='A2UYGOYMV73826', iid='0547134657', r_ui=5.0, est=4.400819474660954, details={'was_impossible': False}),\n",
       " Prediction(uid='A1XCSAX4BRT89Y', iid='0505527847', r_ui=4.0, est=3.7539483304784893, details={'was_impossible': False}),\n",
       " Prediction(uid='A1XCSAX4BRT89Y', iid='0143122819', r_ui=4.0, est=3.9366367673714127, details={'was_impossible': False}),\n",
       " Prediction(uid='A1XCSAX4BRT89Y', iid='307749649', r_ui=3.0, est=3.861636129235528, details={'was_impossible': False}),\n",
       " Prediction(uid='A1XCSAX4BRT89Y', iid='0425215679', r_ui=3.0, est=3.8393523187135923, details={'was_impossible': False}),\n",
       " Prediction(uid='A1XCSAX4BRT89Y', iid='006056542X', r_ui=4.0, est=3.9341969322160133, details={'was_impossible': False}),\n",
       " Prediction(uid='A1XCSAX4BRT89Y', iid='0373778589', r_ui=5.0, est=3.8370583540426093, details={'was_impossible': False}),\n",
       " Prediction(uid='A1XCSAX4BRT89Y', iid='0425256383', r_ui=4.0, est=3.20473159253805, details={'was_impossible': False}),\n",
       " Prediction(uid='A1XCSAX4BRT89Y', iid='0061579092', r_ui=4.0, est=3.60840004146883, details={'was_impossible': False}),\n",
       " Prediction(uid='A1XCSAX4BRT89Y', iid='0312303785', r_ui=4.0, est=3.8226840549397063, details={'was_impossible': False}),\n",
       " Prediction(uid='A1XCSAX4BRT89Y', iid='0312352557', r_ui=5.0, est=4.1407953936359485, details={'was_impossible': False}),\n",
       " Prediction(uid='A1XCSAX4BRT89Y', iid='0425256960', r_ui=3.0, est=3.223708159661701, details={'was_impossible': False}),\n",
       " Prediction(uid='A1XCSAX4BRT89Y', iid='0312944373', r_ui=4.0, est=3.6092932552279744, details={'was_impossible': False}),\n",
       " Prediction(uid='A1XCSAX4BRT89Y', iid='0373777922', r_ui=4.0, est=3.9210873645551247, details={'was_impossible': False}),\n",
       " Prediction(uid='A1XCSAX4BRT89Y', iid='0062069144', r_ui=4.0, est=3.406201012517473, details={'was_impossible': False}),\n",
       " Prediction(uid='A1XCSAX4BRT89Y', iid='0060820578', r_ui=4.0, est=3.937695371116346, details={'was_impossible': False}),\n",
       " Prediction(uid='A1XCSAX4BRT89Y', iid='0061988421', r_ui=2.0, est=3.5114991914025824, details={'was_impossible': False}),\n",
       " Prediction(uid='A1XCSAX4BRT89Y', iid='0345486501', r_ui=2.0, est=3.151476275678514, details={'was_impossible': False}),\n",
       " Prediction(uid='A1XCSAX4BRT89Y', iid='050552810X', r_ui=3.0, est=3.601918015724557, details={'was_impossible': False}),\n",
       " Prediction(uid='A1XCSAX4BRT89Y', iid='0441014003', r_ui=5.0, est=3.7505308581285446, details={'was_impossible': False}),\n",
       " Prediction(uid='A1XCSAX4BRT89Y', iid='0345541537', r_ui=4.0, est=3.5211201161435777, details={'was_impossible': False}),\n",
       " Prediction(uid='A1XCSAX4BRT89Y', iid='0425221636', r_ui=4.0, est=3.995359351842845, details={'was_impossible': False}),\n",
       " Prediction(uid='A1XCSAX4BRT89Y', iid='0061852058', r_ui=4.0, est=4.056130262200542, details={'was_impossible': False}),\n",
       " Prediction(uid='A1XCSAX4BRT89Y', iid='0380780860', r_ui=4.0, est=4.142012274814475, details={'was_impossible': False}),\n",
       " Prediction(uid='A1XCSAX4BRT89Y', iid='0312992335', r_ui=3.0, est=3.9653868681032916, details={'was_impossible': False}),\n",
       " Prediction(uid='A1XCSAX4BRT89Y', iid='042523603X', r_ui=3.0, est=3.5782359997071045, details={'was_impossible': False}),\n",
       " Prediction(uid='A1XCSAX4BRT89Y', iid='0373777566', r_ui=4.0, est=3.8829402440972705, details={'was_impossible': False}),\n",
       " Prediction(uid='A1XCSAX4BRT89Y', iid='0373778198', r_ui=3.0, est=3.7283047408058168, details={'was_impossible': False}),\n",
       " Prediction(uid='A1XCSAX4BRT89Y', iid='037377611X', r_ui=4.0, est=3.97676230578575, details={'was_impossible': False}),\n",
       " Prediction(uid='A1XCSAX4BRT89Y', iid='0143124897', r_ui=3.0, est=3.6546279212910324, details={'was_impossible': False}),\n",
       " Prediction(uid='A1XCSAX4BRT89Y', iid='0446693065', r_ui=4.0, est=3.418603292982526, details={'was_impossible': False}),\n",
       " Prediction(uid='A1XCSAX4BRT89Y', iid='0446576077', r_ui=4.0, est=3.917925565664447, details={'was_impossible': False}),\n",
       " Prediction(uid='A1XCSAX4BRT89Y', iid='0441015891', r_ui=5.0, est=3.7132734767570437, details={'was_impossible': False}),\n",
       " Prediction(uid='A1XCSAX4BRT89Y', iid='0425263150', r_ui=3.0, est=3.522984317030426, details={'was_impossible': False}),\n",
       " Prediction(uid='A1XCSAX4BRT89Y', iid='0061579114', r_ui=4.0, est=3.811482121962731, details={'was_impossible': False}),\n",
       " Prediction(uid='A1XCSAX4BRT89Y', iid='0373772246', r_ui=5.0, est=3.98605562195744, details={'was_impossible': False}),\n",
       " Prediction(uid='A1XCSAX4BRT89Y', iid='0373774389', r_ui=4.0, est=3.472298415247819, details={'was_impossible': False}),\n",
       " Prediction(uid='A1XCSAX4BRT89Y', iid='0441017835', r_ui=3.0, est=3.4204835179141524, details={'was_impossible': False}),\n",
       " Prediction(uid='A1XCSAX4BRT89Y', iid='0061147931', r_ui=5.0, est=3.890083868635334, details={'was_impossible': False}),\n",
       " Prediction(uid='A1XCSAX4BRT89Y', iid='0060798912', r_ui=4.0, est=3.9293583144359223, details={'was_impossible': False}),\n",
       " Prediction(uid='A1XCSAX4BRT89Y', iid='0425243494', r_ui=4.0, est=4.2543130166089735, details={'was_impossible': False}),\n",
       " Prediction(uid='A1XCSAX4BRT89Y', iid='0312998813', r_ui=4.0, est=3.811278554293143, details={'was_impossible': False}),\n",
       " Prediction(uid='A1XCSAX4BRT89Y', iid='0373776780', r_ui=4.0, est=3.9561447952341466, details={'was_impossible': False}),\n",
       " Prediction(uid='A1XCSAX4BRT89Y', iid='0373278055', r_ui=2.0, est=3.2887475151242334, details={'was_impossible': False}),\n",
       " Prediction(uid='A1XCSAX4BRT89Y', iid='042522788X', r_ui=4.0, est=3.9093870868283807, details={'was_impossible': False}),\n",
       " Prediction(uid='A1XCSAX4BRT89Y', iid='0061178039', r_ui=4.0, est=4.040387962937361, details={'was_impossible': False}),\n",
       " Prediction(uid='A1XCSAX4BRT89Y', iid='0312655479', r_ui=5.0, est=4.414659094624104, details={'was_impossible': False}),\n",
       " Prediction(uid='A1XCSAX4BRT89Y', iid='0373256205', r_ui=3.0, est=3.10444194562691, details={'was_impossible': False}),\n",
       " Prediction(uid='A1XCSAX4BRT89Y', iid='0345530667', r_ui=3.0, est=3.7562384414962815, details={'was_impossible': False}),\n",
       " Prediction(uid='A1XCSAX4BRT89Y', iid='0446618241', r_ui=3.0, est=3.8602506093787, details={'was_impossible': False}),\n",
       " Prediction(uid='A1XCSAX4BRT89Y', iid='0373776586', r_ui=5.0, est=4.066138622887213, details={'was_impossible': False}),\n",
       " Prediction(uid='A1XCSAX4BRT89Y', iid='0062237225', r_ui=3.0, est=3.7315506841490595, details={'was_impossible': False}),\n",
       " Prediction(uid='A1XCSAX4BRT89Y', iid='0373777558', r_ui=4.0, est=3.7443411549487995, details={'was_impossible': False}),\n",
       " Prediction(uid='A1XCSAX4BRT89Y', iid='0373772998', r_ui=5.0, est=3.999309852419109, details={'was_impossible': False}),\n",
       " Prediction(uid='A1XCSAX4BRT89Y', iid='0373002289', r_ui=4.0, est=4.057499425870536, details={'was_impossible': False}),\n",
       " Prediction(uid='A1XCSAX4BRT89Y', iid='0425247872', r_ui=4.0, est=4.012386032540423, details={'was_impossible': False}),\n",
       " Prediction(uid='A1XCSAX4BRT89Y', iid='0345480260', r_ui=4.0, est=4.314795307528324, details={'was_impossible': False}),\n",
       " Prediction(uid='A1XCSAX4BRT89Y', iid='0425229289', r_ui=5.0, est=4.179384739358822, details={'was_impossible': False}),\n",
       " Prediction(uid='A1XCSAX4BRT89Y', iid='0142427969', r_ui=3.0, est=3.2779029343798682, details={'was_impossible': False}),\n",
       " Prediction(uid='A1XCSAX4BRT89Y', iid='0312986769', r_ui=5.0, est=3.8783660311611574, details={'was_impossible': False}),\n",
       " Prediction(uid='A1XCSAX4BRT89Y', iid='0373777582', r_ui=4.0, est=3.824747656502464, details={'was_impossible': False}),\n",
       " Prediction(uid='A1XCSAX4BRT89Y', iid='042526002X', r_ui=4.0, est=4.019514123795294, details={'was_impossible': False}),\n",
       " Prediction(uid='A1XCSAX4BRT89Y', iid='0373774583', r_ui=4.0, est=3.838072019224882, details={'was_impossible': False}),\n",
       " Prediction(uid='A1XCSAX4BRT89Y', iid='0425234460', r_ui=4.0, est=3.894384839617753, details={'was_impossible': False}),\n",
       " Prediction(uid='A1XCSAX4BRT89Y', iid='0312573723', r_ui=3.0, est=3.0975535461596375, details={'was_impossible': False}),\n",
       " Prediction(uid='A1XCSAX4BRT89Y', iid='0451220277', r_ui=4.0, est=4.01729466322107, details={'was_impossible': False}),\n",
       " Prediction(uid='A1XCSAX4BRT89Y', iid='0425252345', r_ui=4.0, est=4.249594727053692, details={'was_impossible': False}),\n",
       " Prediction(uid='A1XCSAX4BRT89Y', iid='0425232700', r_ui=3.0, est=3.6164868938205146, details={'was_impossible': False}),\n",
       " Prediction(uid='A1XCSAX4BRT89Y', iid='0345528921', r_ui=3.0, est=3.909661720742837, details={'was_impossible': False}),\n",
       " Prediction(uid='A1XCSAX4BRT89Y', iid='0345534506', r_ui=4.0, est=4.063248861721898, details={'was_impossible': False}),\n",
       " Prediction(uid='A1XCSAX4BRT89Y', iid='0373002254', r_ui=4.0, est=3.8839449219657007, details={'was_impossible': False}),\n",
       " Prediction(uid='A1XCSAX4BRT89Y', iid='0373773552', r_ui=4.0, est=3.8370019753985822, details={'was_impossible': False}),\n",
       " Prediction(uid='A1XCSAX4BRT89Y', iid='0451407377', r_ui=4.0, est=3.7892134799494297, details={'was_impossible': False}),\n",
       " Prediction(uid='A1XCSAX4BRT89Y', iid='0060751967', r_ui=2.0, est=3.72721122540396, details={'was_impossible': False}),\n",
       " Prediction(uid='A1XCSAX4BRT89Y', iid='0312605862', r_ui=3.0, est=3.6886763026612543, details={'was_impossible': False}),\n",
       " Prediction(uid='A1XCSAX4BRT89Y', iid='0312606842', r_ui=4.0, est=3.8974065791888384, details={'was_impossible': False}),\n",
       " Prediction(uid='A1XCSAX4BRT89Y', iid='034553686X', r_ui=4.0, est=3.7695563901556666, details={'was_impossible': False}),\n",
       " Prediction(uid='A1XCSAX4BRT89Y', iid='0061147958', r_ui=4.0, est=3.912096126225342, details={'was_impossible': False}),\n",
       " Prediction(uid='A1XCSAX4BRT89Y', iid='0062103105', r_ui=4.0, est=3.7573341794826915, details={'was_impossible': False}),\n",
       " Prediction(uid='A1XCSAX4BRT89Y', iid='0441018645', r_ui=3.0, est=3.3719167598880846, details={'was_impossible': False}),\n",
       " Prediction(uid='A1XCSAX4BRT89Y', iid='0312378769', r_ui=4.0, est=3.820852722471968, details={'was_impossible': False}),\n",
       " Prediction(uid='A1XCSAX4BRT89Y', iid='0441017150', r_ui=3.0, est=3.5723238841005114, details={'was_impossible': False}),\n",
       " Prediction(uid='A1XCSAX4BRT89Y', iid='0345545354', r_ui=2.0, est=3.3062674326956745, details={'was_impossible': False}),\n",
       " Prediction(uid='A1XRQ6YJ7HXQFQ', iid='0061836923', r_ui=3.0, est=3.9728396278196563, details={'was_impossible': False}),\n",
       " Prediction(uid='A1XRQ6YJ7HXQFQ', iid='0061584991', r_ui=5.0, est=4.250715922189815, details={'was_impossible': False}),\n",
       " Prediction(uid='A1XRQ6YJ7HXQFQ', iid='0061727660', r_ui=4.0, est=4.3698551328585085, details={'was_impossible': False}),\n",
       " Prediction(uid='A1XRQ6YJ7HXQFQ', iid='0345495144', r_ui=5.0, est=3.6043122671145675, details={'was_impossible': False}),\n",
       " Prediction(uid='A1XRQ6YJ7HXQFQ', iid='0062049577', r_ui=4.0, est=4.2433416494125655, details={'was_impossible': False}),\n",
       " Prediction(uid='A1XRQ6YJ7HXQFQ', iid='0312659105', r_ui=5.0, est=3.716919822718385, details={'was_impossible': False}),\n",
       " Prediction(uid='A1XRQ6YJ7HXQFQ', iid='038536315X', r_ui=4.0, est=4.368660707552358, details={'was_impossible': False}),\n",
       " Prediction(uid='A1XRQ6YJ7HXQFQ', iid='0316127310', r_ui=4.0, est=4.301825488926504, details={'was_impossible': False}),\n",
       " Prediction(uid='A1XRQ6YJ7HXQFQ', iid='0312380895', r_ui=4.0, est=3.992962935151747, details={'was_impossible': False}),\n",
       " Prediction(uid='A1XRQ6YJ7HXQFQ', iid='0143119532', r_ui=4.0, est=4.540885021285886, details={'was_impossible': False}),\n",
       " Prediction(uid='A1XRQ6YJ7HXQFQ', iid='0061544450', r_ui=4.0, est=3.632851622473137, details={'was_impossible': False}),\n",
       " Prediction(uid='A1XRQ6YJ7HXQFQ', iid='0061791768', r_ui=4.0, est=4.285076884234821, details={'was_impossible': False}),\n",
       " Prediction(uid='A1XRQ6YJ7HXQFQ', iid='0307990745', r_ui=2.0, est=4.260892921506504, details={'was_impossible': False}),\n",
       " Prediction(uid='A1XRQ6YJ7HXQFQ', iid='0399154418', r_ui=5.0, est=3.9072279744082508, details={'was_impossible': False}),\n",
       " Prediction(uid='A1XRQ6YJ7HXQFQ', iid='0062109847', r_ui=4.0, est=4.148453841706348, details={'was_impossible': False}),\n",
       " Prediction(uid='A1XRQ6YJ7HXQFQ', iid='0399159509', r_ui=4.0, est=4.009858557981569, details={'was_impossible': False}),\n",
       " Prediction(uid='A1XRQ6YJ7HXQFQ', iid='0061702323', r_ui=4.0, est=3.956748796577848, details={'was_impossible': False}),\n",
       " Prediction(uid='A1XRQ6YJ7HXQFQ', iid='0316015059', r_ui=4.0, est=3.593353138427558, details={'was_impossible': False}),\n",
       " Prediction(uid='A1XRQ6YJ7HXQFQ', iid='0312381034', r_ui=5.0, est=4.148936137153032, details={'was_impossible': False}),\n",
       " Prediction(uid='A1XRQ6YJ7HXQFQ', iid='0307270777', r_ui=4.0, est=4.074152740833098, details={'was_impossible': False}),\n",
       " Prediction(uid='A1XRQ6YJ7HXQFQ', iid='0399161783', r_ui=4.0, est=4.1805470261396, details={'was_impossible': False}),\n",
       " Prediction(uid='A1XRQ6YJ7HXQFQ', iid='0547229895', r_ui=4.0, est=4.240898940766328, details={'was_impossible': False}),\n",
       " Prediction(uid='A1XRQ6YJ7HXQFQ', iid='307749649', r_ui=5.0, est=4.1990363098962336, details={'was_impossible': False}),\n",
       " Prediction(uid='A1XRQ6YJ7HXQFQ', iid='0307961222', r_ui=4.0, est=3.966025379626081, details={'was_impossible': False}),\n",
       " Prediction(uid='A1XRQ6YJ7HXQFQ', iid='0062060740', r_ui=4.0, est=4.174549209172468, details={'was_impossible': False}),\n",
       " Prediction(uid='A1XRQ6YJ7HXQFQ', iid='0143117319', r_ui=4.0, est=4.414966731554356, details={'was_impossible': False}),\n",
       " Prediction(uid='A1XRQ6YJ7HXQFQ', iid='031257357X', r_ui=4.0, est=4.453651550828537, details={'was_impossible': False}),\n",
       " Prediction(uid='A1XRQ6YJ7HXQFQ', iid='0547483341', r_ui=4.0, est=3.8077254670034266, details={'was_impossible': False}),\n",
       " Prediction(uid='A1XRQ6YJ7HXQFQ', iid='0385517831', r_ui=4.0, est=3.1901294064483703, details={'was_impossible': False}),\n",
       " Prediction(uid='A1XRQ6YJ7HXQFQ', iid='0312428189', r_ui=4.0, est=4.174642922797859, details={'was_impossible': False}),\n",
       " Prediction(uid='A1XRQ6YJ7HXQFQ', iid='0399158685', r_ui=4.0, est=4.043137229521234, details={'was_impossible': False}),\n",
       " Prediction(uid='A1XRQ6YJ7HXQFQ', iid='0143119494', r_ui=5.0, est=4.380519945559367, details={'was_impossible': False}),\n",
       " Prediction(uid='A1XRQ6YJ7HXQFQ', iid='0060594667', r_ui=5.0, est=4.351340338433978, details={'was_impossible': False}),\n",
       " Prediction(uid='A1XRQ6YJ7HXQFQ', iid='0316018783', r_ui=5.0, est=4.035871507209616, details={'was_impossible': False}),\n",
       " Prediction(uid='A1XRQ6YJ7HXQFQ', iid='0399155937', r_ui=4.0, est=4.504329481245929, details={'was_impossible': False}),\n",
       " Prediction(uid='A1XRQ6YJ7HXQFQ', iid='0060004878', r_ui=4.0, est=4.323403612672139, details={'was_impossible': False}),\n",
       " Prediction(uid='A1XRQ6YJ7HXQFQ', iid='0062206745', r_ui=4.0, est=4.262748520523546, details={'was_impossible': False}),\n",
       " Prediction(uid='A1XRQ6YJ7HXQFQ', iid='0399157964', r_ui=4.0, est=4.1917568521015625, details={'was_impossible': False}),\n",
       " Prediction(uid='A1XRQ6YJ7HXQFQ', iid='0345543041', r_ui=3.0, est=4.015413763730092, details={'was_impossible': False}),\n",
       " Prediction(uid='A1XRQ6YJ7HXQFQ', iid='0143115626', r_ui=5.0, est=4.130545838729921, details={'was_impossible': False}),\n",
       " Prediction(uid='A1XRQ6YJ7HXQFQ', iid='0451413431', r_ui=4.0, est=4.427712951077028, details={'was_impossible': False}),\n",
       " Prediction(uid='A1XRQ6YJ7HXQFQ', iid='0316040924', r_ui=5.0, est=4.194011779737715, details={'was_impossible': False}),\n",
       " Prediction(uid='A1XRQ6YJ7HXQFQ', iid='0312582668', r_ui=3.0, est=3.9931822485014776, details={'was_impossible': False}),\n",
       " Prediction(uid='A1XRQ6YJ7HXQFQ', iid='0451233964', r_ui=3.0, est=3.866912236394593, details={'was_impossible': False}),\n",
       " Prediction(uid='A1XRQ6YJ7HXQFQ', iid='0151015287', r_ui=4.0, est=3.954957320300664, details={'was_impossible': False}),\n",
       " Prediction(uid='A1XRQ6YJ7HXQFQ', iid='0446539740', r_ui=4.0, est=4.028479272733584, details={'was_impossible': False}),\n",
       " Prediction(uid='A1XRQ6YJ7HXQFQ', iid='0007420765', r_ui=5.0, est=3.998351219398116, details={'was_impossible': False}),\n",
       " Prediction(uid='A1XRQ6YJ7HXQFQ', iid='0399156453', r_ui=4.0, est=4.407867761583561, details={'was_impossible': False}),\n",
       " Prediction(uid='A1XRQ6YJ7HXQFQ', iid='0312946384', r_ui=4.0, est=3.8447716390720728, details={'was_impossible': False}),\n",
       " Prediction(uid='A1XRQ6YJ7HXQFQ', iid='0312380720', r_ui=4.0, est=3.8718341471354107, details={'was_impossible': False}),\n",
       " Prediction(uid='A1XRQ6YJ7HXQFQ', iid='0061672262', r_ui=4.0, est=3.9633449692574163, details={'was_impossible': False}),\n",
       " Prediction(uid='A1XRQ6YJ7HXQFQ', iid='0307951154', r_ui=4.0, est=4.270607836298155, details={'was_impossible': False}),\n",
       " Prediction(uid='A1XRQ6YJ7HXQFQ', iid='0316025283', r_ui=5.0, est=4.033488785365184, details={'was_impossible': False}),\n",
       " Prediction(uid='A1XRQ6YJ7HXQFQ', iid='0312648049', r_ui=4.0, est=4.524184977816336, details={'was_impossible': False}),\n",
       " Prediction(uid='A1XRQ6YJ7HXQFQ', iid='038552580X', r_ui=4.0, est=3.8708112888610793, details={'was_impossible': False}),\n",
       " Prediction(uid='A1XRQ6YJ7HXQFQ', iid='0340953616', r_ui=5.0, est=4.598139638409112, details={'was_impossible': False}),\n",
       " Prediction(uid='A1XRQ6YJ7HXQFQ', iid='0312946392', r_ui=4.0, est=3.9622122260667396, details={'was_impossible': False}),\n",
       " Prediction(uid='A1XRQ6YJ7HXQFQ', iid='0143142798', r_ui=5.0, est=4.005847463037698, details={'was_impossible': False}),\n",
       " Prediction(uid='A1XRQ6YJ7HXQFQ', iid='307750884', r_ui=4.0, est=3.653903195280307, details={'was_impossible': False}),\n",
       " Prediction(uid='A1XRQ6YJ7HXQFQ', iid='0399155015', r_ui=4.0, est=4.284682221454462, details={'was_impossible': False}),\n",
       " Prediction(uid='A1XRQ6YJ7HXQFQ', iid='0307270181', r_ui=4.0, est=4.3248761232322765, details={'was_impossible': False}),\n",
       " Prediction(uid='A1XRQ6YJ7HXQFQ', iid='0316196991', r_ui=4.0, est=4.297879297687401, details={'was_impossible': False}),\n",
       " Prediction(uid='A1XRQ6YJ7HXQFQ', iid='030798933X', r_ui=4.0, est=3.856578339048135, details={'was_impossible': False}),\n",
       " Prediction(uid='A1XRQ6YJ7HXQFQ', iid='0316053716', r_ui=5.0, est=4.198802950766951, details={'was_impossible': False}),\n",
       " Prediction(uid='A1XRQ6YJ7HXQFQ', iid='0062060554', r_ui=4.0, est=4.277708444035276, details={'was_impossible': False}),\n",
       " Prediction(uid='A1XRQ6YJ7HXQFQ', iid='0316122599', r_ui=5.0, est=4.172373932793807, details={'was_impossible': False}),\n",
       " Prediction(uid='A1XRQ6YJ7HXQFQ', iid='0316069418', r_ui=5.0, est=4.482952929941792, details={'was_impossible': False}),\n",
       " Prediction(uid='A1XRQ6YJ7HXQFQ', iid='0307717097', r_ui=4.0, est=4.031196776622955, details={'was_impossible': False}),\n",
       " Prediction(uid='A1XRQ6YJ7HXQFQ', iid='0062237152', r_ui=4.0, est=4.252485772461993, details={'was_impossible': False}),\n",
       " Prediction(uid='A1XRQ6YJ7HXQFQ', iid='023070932X', r_ui=4.0, est=4.325929387723999, details={'was_impossible': False}),\n",
       " Prediction(uid='A1XRQ6YJ7HXQFQ', iid='0316224588', r_ui=5.0, est=4.406062952560897, details={'was_impossible': False}),\n",
       " Prediction(uid='A1XRQ6YJ7HXQFQ', iid='0312352573', r_ui=4.0, est=4.400456712884286, details={'was_impossible': False}),\n",
       " Prediction(uid='A1XRQ6YJ7HXQFQ', iid='0399247769', r_ui=4.0, est=4.38018943008914, details={'was_impossible': False}),\n",
       " Prediction(uid='A1XRQ6YJ7HXQFQ', iid='0525951490', r_ui=4.0, est=3.5848930447948777, details={'was_impossible': False}),\n",
       " Prediction(uid='A1XRQ6YJ7HXQFQ', iid='0312380348', r_ui=4.0, est=4.259983270108812, details={'was_impossible': False}),\n",
       " Prediction(uid='A1XRQ6YJ7HXQFQ', iid='0399160817', r_ui=5.0, est=4.212522223736679, details={'was_impossible': False}),\n",
       " Prediction(uid='A1XRQ6YJ7HXQFQ', iid='042526002X', r_ui=4.0, est=4.31900080548741, details={'was_impossible': False}),\n",
       " Prediction(uid='A1XRQ6YJ7HXQFQ', iid='0399161570', r_ui=4.0, est=4.258688146862984, details={'was_impossible': False}),\n",
       " Prediction(uid='A1XRQ6YJ7HXQFQ', iid='0399160752', r_ui=4.0, est=4.384415767828122, details={'was_impossible': False}),\n",
       " Prediction(uid='A1XRQ6YJ7HXQFQ', iid='0452297907', r_ui=4.0, est=4.50358913340126, details={'was_impossible': False}),\n",
       " Prediction(uid='A1XRQ6YJ7HXQFQ', iid='0062015664', r_ui=5.0, est=4.322416329327433, details={'was_impossible': False}),\n",
       " Prediction(uid='A1XRQ6YJ7HXQFQ', iid='0062270486', r_ui=3.0, est=3.9003641067609616, details={'was_impossible': False}),\n",
       " Prediction(uid='A1XRQ6YJ7HXQFQ', iid='0399156135', r_ui=5.0, est=4.200505187859521, details={'was_impossible': False}),\n",
       " Prediction(uid='A1XRQ6YJ7HXQFQ', iid='0307735478', r_ui=5.0, est=4.056460717412443, details={'was_impossible': False}),\n",
       " Prediction(uid='A1XRQ6YJ7HXQFQ', iid='0399157387', r_ui=4.0, est=4.528090962652014, details={'was_impossible': False}),\n",
       " Prediction(uid='A1XRQ6YJ7HXQFQ', iid='0143123246', r_ui=4.0, est=4.500526563095181, details={'was_impossible': False}),\n",
       " Prediction(uid='A1XRQ6YJ7HXQFQ', iid='039915647X', r_ui=4.0, est=3.774264444550547, details={'was_impossible': False}),\n",
       " Prediction(uid='A1XRQ6YJ7HXQFQ', iid='0399156232', r_ui=5.0, est=4.102430111083648, details={'was_impossible': False}),\n",
       " Prediction(uid='A1XRQ6YJ7HXQFQ', iid='034546527X', r_ui=4.0, est=3.608033027435448, details={'was_impossible': False}),\n",
       " Prediction(uid='A1XRQ6YJ7HXQFQ', iid='0399157700', r_ui=4.0, est=4.298143172652502, details={'was_impossible': False}),\n",
       " Prediction(uid='A1XRQ6YJ7HXQFQ', iid='0399155945', r_ui=4.0, est=3.74217626013422, details={'was_impossible': False}),\n",
       " Prediction(uid='A1XRQ6YJ7HXQFQ', iid='0142428469', r_ui=3.0, est=3.7424099948915, details={'was_impossible': False}),\n",
       " Prediction(uid='A1XRQ6YJ7HXQFQ', iid='0446562416', r_ui=3.0, est=4.083610738508733, details={'was_impossible': False}),\n",
       " Prediction(uid='A1XRQ6YJ7HXQFQ', iid='0062237187', r_ui=4.0, est=4.401246063908033, details={'was_impossible': False}),\n",
       " Prediction(uid='A1XRQ6YJ7HXQFQ', iid='0007254008', r_ui=5.0, est=4.293674372510076, details={'was_impossible': False}),\n",
       " Prediction(uid='A1XRQ6YJ7HXQFQ', iid='0316206849', r_ui=4.0, est=4.056873643268936, details={'was_impossible': False}),\n",
       " Prediction(uid='A1XRQ6YJ7HXQFQ', iid='0307717127', r_ui=4.0, est=4.002437106033634, details={'was_impossible': False}),\n",
       " Prediction(uid='A1XRQ6YJ7HXQFQ', iid='0312379080', r_ui=4.0, est=4.2280453966511145, details={'was_impossible': False}),\n",
       " Prediction(uid='A1XRQ6YJ7HXQFQ', iid='0316017701', r_ui=4.0, est=3.9935356825970647, details={'was_impossible': False}),\n",
       " Prediction(uid='A1XRQ6YJ7HXQFQ', iid='0345505735', r_ui=4.0, est=3.931570213499078, details={'was_impossible': False}),\n",
       " Prediction(uid='A1XRQ6YJ7HXQFQ', iid='0061227331', r_ui=5.0, est=3.4858239513608575, details={'was_impossible': False}),\n",
       " Prediction(uid='A1XRQ6YJ7HXQFQ', iid='0061287539', r_ui=4.0, est=4.5144468091771905, details={'was_impossible': False}),\n",
       " Prediction(uid='A1XRQ6YJ7HXQFQ', iid='0060829699', r_ui=4.0, est=4.40774807640408, details={'was_impossible': False}),\n",
       " Prediction(uid='A1XRQ6YJ7HXQFQ', iid='0312600682', r_ui=5.0, est=4.121418827845089, details={'was_impossible': False}),\n",
       " Prediction(uid='A1XRQ6YJ7HXQFQ', iid='0312365721', r_ui=4.0, est=3.917312260000039, details={'was_impossible': False}),\n",
       " Prediction(uid='A1XRQ6YJ7HXQFQ', iid='0345495152', r_ui=4.0, est=3.7479023649324468, details={'was_impossible': False}),\n",
       " Prediction(uid='A1XRQ6YJ7HXQFQ', iid='0061239224', r_ui=4.0, est=3.5358497523338985, details={'was_impossible': False}),\n",
       " Prediction(uid='A1XRQ6YJ7HXQFQ', iid='0312550650', r_ui=3.0, est=3.2980631571849437, details={'was_impossible': False}),\n",
       " Prediction(uid='A1XRQ6YJ7HXQFQ', iid='0062092782', r_ui=4.0, est=4.098506576601495, details={'was_impossible': False}),\n",
       " Prediction(uid='A1XRQ6YJ7HXQFQ', iid='0425264637', r_ui=4.0, est=4.099891970611429, details={'was_impossible': False}),\n",
       " Prediction(uid='A1XRQ6YJ7HXQFQ', iid='0062015729', r_ui=4.0, est=4.096494819168917, details={'was_impossible': False}),\n",
       " Prediction(uid='A1XRQ6YJ7HXQFQ', iid='0345534557', r_ui=3.0, est=3.9796510673905128, details={'was_impossible': False}),\n",
       " Prediction(uid='A1XRQ6YJ7HXQFQ', iid='0312595689', r_ui=3.0, est=3.8527292448139363, details={'was_impossible': False}),\n",
       " Prediction(uid='A1XRQ6YJ7HXQFQ', iid='0385362307', r_ui=4.0, est=4.327673006325365, details={'was_impossible': False}),\n",
       " Prediction(uid='A1XRQ6YJ7HXQFQ', iid='0399157077', r_ui=5.0, est=4.2059626642688155, details={'was_impossible': False}),\n",
       " Prediction(uid='A1XRQ6YJ7HXQFQ', iid='0143116592', r_ui=4.0, est=4.305435290023578, details={'was_impossible': False}),\n",
       " Prediction(uid='A1XRQ6YJ7HXQFQ', iid='0399157883', r_ui=3.0, est=3.90647764869551, details={'was_impossible': False}),\n",
       " Prediction(uid='A1XRQ6YJ7HXQFQ', iid='0446195979', r_ui=4.0, est=3.9582516528182703, details={'was_impossible': False}),\n",
       " Prediction(uid='A1XRQ6YJ7HXQFQ', iid='031238078X', r_ui=3.0, est=3.523556409968625, details={'was_impossible': False}),\n",
       " Prediction(uid='A1XRQ6YJ7HXQFQ', iid='0061876747', r_ui=4.0, est=3.952989567809719, details={'was_impossible': False}),\n",
       " Prediction(uid='A1XRQ6YJ7HXQFQ', iid='045122650X', r_ui=5.0, est=4.2658394860873, details={'was_impossible': False}),\n",
       " Prediction(uid='A1XRQ6YJ7HXQFQ', iid='0061876895', r_ui=4.0, est=4.13019424964681, details={'was_impossible': False}),\n",
       " Prediction(uid='A1XRQ6YJ7HXQFQ', iid='0061930210', r_ui=4.0, est=3.5290117724782073, details={'was_impossible': False}),\n",
       " Prediction(uid='A1XRQ6YJ7HXQFQ', iid='0307717895', r_ui=4.0, est=4.195166046183467, details={'was_impossible': False}),\n",
       " Prediction(uid='A1XRQ6YJ7HXQFQ', iid='0307264645', r_ui=4.0, est=4.271600921254302, details={'was_impossible': False}),\n",
       " Prediction(uid='A1XRQ6YJ7HXQFQ', iid='0061791784', r_ui=4.0, est=4.231618140324388, details={'was_impossible': False}),\n",
       " Prediction(uid='A1XRQ6YJ7HXQFQ', iid='0399157840', r_ui=4.0, est=3.6833723666842038, details={'was_impossible': False}),\n",
       " Prediction(uid='A1XRQ6YJ7HXQFQ', iid='0312583206', r_ui=3.0, est=4.0125662395233235, details={'was_impossible': False}),\n",
       " Prediction(uid='A1XRQ6YJ7HXQFQ', iid='0345528506', r_ui=5.0, est=4.333140536956596, details={'was_impossible': False}),\n",
       " Prediction(uid='A1XRQ6YJ7HXQFQ', iid='374173958', r_ui=3.0, est=3.8524771994023332, details={'was_impossible': False}),\n",
       " Prediction(uid='A1XRQ6YJ7HXQFQ', iid='0330461001', r_ui=5.0, est=4.436528726184132, details={'was_impossible': False}),\n",
       " Prediction(uid='A1XRQ6YJ7HXQFQ', iid='039915826X', r_ui=4.0, est=4.267742904068914, details={'was_impossible': False}),\n",
       " Prediction(uid='A1XRQ6YJ7HXQFQ', iid='006213468X', r_ui=5.0, est=4.6649678777980155, details={'was_impossible': False}),\n",
       " Prediction(uid='A1XRQ6YJ7HXQFQ', iid='0061362956', r_ui=4.0, est=3.8102791872615094, details={'was_impossible': False}),\n",
       " Prediction(uid='A1XRQ6YJ7HXQFQ', iid='0143115529', r_ui=5.0, est=4.578185193988001, details={'was_impossible': False}),\n",
       " Prediction(uid='A1XRQ6YJ7HXQFQ', iid='0316014508', r_ui=2.0, est=2.5227096769472137, details={'was_impossible': False}),\n",
       " Prediction(uid='A1XRQ6YJ7HXQFQ', iid='0312380755', r_ui=4.0, est=3.7339424270393757, details={'was_impossible': False}),\n",
       " Prediction(uid='A1XRQ6YJ7HXQFQ', iid='0143120646', r_ui=4.0, est=4.348362763529095, details={'was_impossible': False}),\n",
       " Prediction(uid='A1XRQ6YJ7HXQFQ', iid='0061284645', r_ui=4.0, est=3.6840454405770977, details={'was_impossible': False}),\n",
       " Prediction(uid='A1XRQ6YJ7HXQFQ', iid='038534743X', r_ui=3.0, est=3.7347909836185864, details={'was_impossible': False}),\n",
       " Prediction(uid='A1XRQ6YJ7HXQFQ', iid='0143144200', r_ui=4.0, est=4.169342520557203, details={'was_impossible': False}),\n",
       " Prediction(uid='A1XRQ6YJ7HXQFQ', iid='0316069515', r_ui=4.0, est=4.445248028460652, details={'was_impossible': False}),\n",
       " Prediction(uid='A1XRQ6YJ7HXQFQ', iid='0143120980', r_ui=4.0, est=4.287806252636152, details={'was_impossible': False}),\n",
       " Prediction(uid='A1XRQ6YJ7HXQFQ', iid='0399155414', r_ui=5.0, est=3.9199599581320212, details={'was_impossible': False}),\n",
       " Prediction(uid='A1XRQ6YJ7HXQFQ', iid='0143144839', r_ui=5.0, est=4.009785892050954, details={'was_impossible': False}),\n",
       " Prediction(uid='A1XRQ6YJ7HXQFQ', iid='0316018767', r_ui=3.0, est=3.5589347707956502, details={'was_impossible': False}),\n",
       " Prediction(uid='A1XRQ6YJ7HXQFQ', iid='0316127353', r_ui=4.0, est=4.083434535820812, details={'was_impossible': False}),\n",
       " Prediction(uid='A1XRQ6YJ7HXQFQ', iid='0316069353', r_ui=4.0, est=4.164148778015869, details={'was_impossible': False}),\n",
       " Prediction(uid='A1XRQ6YJ7HXQFQ', iid='0316129518', r_ui=4.0, est=3.9892111841588482, details={'was_impossible': False}),\n",
       " Prediction(uid='A1XRQ6YJ7HXQFQ', iid='0061432660', r_ui=4.0, est=3.992267570404565, details={'was_impossible': False}),\n",
       " Prediction(uid='A1XRQ6YJ7HXQFQ', iid='0007269854', r_ui=3.0, est=3.7480572392577423, details={'was_impossible': False}),\n",
       " Prediction(uid='A1XRQ6YJ7HXQFQ', iid='0312378769', r_ui=4.0, est=4.162208669492254, details={'was_impossible': False}),\n",
       " Prediction(uid='A1XRQ6YJ7HXQFQ', iid='0385349580', r_ui=5.0, est=4.641888204615582, details={'was_impossible': False}),\n",
       " Prediction(uid='A1XRQ6YJ7HXQFQ', iid='0143119729', r_ui=4.0, est=3.8648321278351405, details={'was_impossible': False}),\n",
       " Prediction(uid='A1XRQ6YJ7HXQFQ', iid='0312389566', r_ui=4.0, est=4.110777134828136, details={'was_impossible': False}),\n",
       " Prediction(uid='A1XRQ6YJ7HXQFQ', iid='0451416147', r_ui=4.0, est=3.7201873117023867, details={'was_impossible': False}),\n",
       " Prediction(uid='A1XRQ6YJ7HXQFQ', iid='052595239X', r_ui=3.0, est=3.762586766244403, details={'was_impossible': False}),\n",
       " Prediction(uid='A1XRQ6YJ7HXQFQ', iid='0061966843', r_ui=4.0, est=4.082026713742306, details={'was_impossible': False}),\n",
       " Prediction(uid='A1XRQ6YJ7HXQFQ', iid='0547738757', r_ui=4.0, est=4.323737216099378, details={'was_impossible': False}),\n",
       " Prediction(uid='A1XRQ6YJ7HXQFQ', iid='0307272672', r_ui=4.0, est=3.896584846577719, details={'was_impossible': False}),\n",
       " Prediction(uid='A1XRQ6YJ7HXQFQ', iid='0446577391', r_ui=5.0, est=4.415439230124722, details={'was_impossible': False}),\n",
       " Prediction(uid='A1XRQ6YJ7HXQFQ', iid='0399159495', r_ui=4.0, est=3.3177806802541507, details={'was_impossible': False}),\n",
       " Prediction(uid='A1XRQ6YJ7HXQFQ', iid='0061133973', r_ui=5.0, est=4.400321192842324, details={'was_impossible': False}),\n",
       " Prediction(uid='A1XRQ6YJ7HXQFQ', iid='0316069485', r_ui=4.0, est=4.153942646187614, details={'was_impossible': False}),\n",
       " Prediction(uid='A1XRQ6YJ7HXQFQ', iid='0062195379', r_ui=4.0, est=3.986312650919166, details={'was_impossible': False}),\n",
       " Prediction(uid='A1XRQ6YJ7HXQFQ', iid='0062004794', r_ui=5.0, est=4.22964867245378, details={'was_impossible': False}),\n",
       " Prediction(uid='A1XRQ6YJ7HXQFQ', iid='031265121X', r_ui=4.0, est=3.655112409219758, details={'was_impossible': False}),\n",
       " Prediction(uid='A1XRQ6YJ7HXQFQ', iid='0399154582', r_ui=4.0, est=4.1309863713632735, details={'was_impossible': False}),\n",
       " Prediction(uid='A1XRQ6YJ7HXQFQ', iid='0316045187', r_ui=5.0, est=4.356287536501144, details={'was_impossible': False}),\n",
       " Prediction(uid='A1XRQ6YJ7HXQFQ', iid='0307595870', r_ui=5.0, est=4.081766775611143, details={'was_impossible': False}),\n",
       " Prediction(uid='A1XRQ6YJ7HXQFQ', iid='0143125311', r_ui=4.0, est=3.932673069446143, details={'was_impossible': False}),\n",
       " Prediction(uid='A1XRQ6YJ7HXQFQ', iid='0374115338', r_ui=5.0, est=4.054524277650993, details={'was_impossible': False}),\n",
       " Prediction(uid='A1XRQ6YJ7HXQFQ', iid='0312622899', r_ui=5.0, est=3.829836788460922, details={'was_impossible': False}),\n",
       " Prediction(uid='A1XRQ6YJ7HXQFQ', iid='0399154604', r_ui=4.0, est=3.796245666097001, details={'was_impossible': False}),\n",
       " Prediction(uid='A1XRQ6YJ7HXQFQ', iid='0061999180', r_ui=4.0, est=3.98845790637498, details={'was_impossible': False}),\n",
       " Prediction(uid='A1XRQ6YJ7HXQFQ', iid='0307717925', r_ui=5.0, est=4.299785360266904, details={'was_impossible': False}),\n",
       " Prediction(uid='A1XRQ6YJ7HXQFQ', iid='0399158766', r_ui=4.0, est=4.326825247963505, details={'was_impossible': False}),\n",
       " Prediction(uid='A1XRQ6YJ7HXQFQ', iid='0446533424', r_ui=3.0, est=3.552518716689872, details={'was_impossible': False}),\n",
       " Prediction(uid='A1XRQ6YJ7HXQFQ', iid='0312379145', r_ui=4.0, est=4.400060505879005, details={'was_impossible': False}),\n",
       " Prediction(uid='A1XRQ6YJ7HXQFQ', iid='0199858446', r_ui=5.0, est=4.497311913614598, details={'was_impossible': False}),\n",
       " Prediction(uid='A1XRQ6YJ7HXQFQ', iid='0307263177', r_ui=5.0, est=4.079691544451706, details={'was_impossible': False}),\n",
       " Prediction(uid='A1XRQ6YJ7HXQFQ', iid='0307987736', r_ui=3.0, est=4.197998907360832, details={'was_impossible': False}),\n",
       " Prediction(uid='A1XRQ6YJ7HXQFQ', iid='0307477401', r_ui=4.0, est=4.280722882617506, details={'was_impossible': False}),\n",
       " Prediction(uid='A1XRQ6YJ7HXQFQ', iid='0307969509', r_ui=4.0, est=3.870899200556177, details={'was_impossible': False}),\n",
       " Prediction(uid='A1XRQ6YJ7HXQFQ', iid='0385346859', r_ui=3.0, est=3.9755063664555146, details={'was_impossible': False}),\n",
       " Prediction(uid='A1XRQ6YJ7HXQFQ', iid='039915504X', r_ui=5.0, est=4.179116323238824, details={'was_impossible': False}),\n",
       " Prediction(uid='A1XRQ6YJ7HXQFQ', iid='0061702560', r_ui=4.0, est=3.8603367281710232, details={'was_impossible': False}),\n",
       " Prediction(uid='A1XRQ6YJ7HXQFQ', iid='0312375069', r_ui=5.0, est=3.998396604665718, details={'was_impossible': False}),\n",
       " Prediction(uid='A1XRQ6YJ7HXQFQ', iid='0312380828', r_ui=3.0, est=3.3037650172514232, details={'was_impossible': False}),\n",
       " Prediction(uid='A1XRQ6YJ7HXQFQ', iid='014312546X', r_ui=4.0, est=4.312599802770185, details={'was_impossible': False}),\n",
       " Prediction(uid='A1XRQ6YJ7HXQFQ', iid='0061731153', r_ui=4.0, est=4.534946956154405, details={'was_impossible': False}),\n",
       " Prediction(uid='A1XRQ6YJ7HXQFQ', iid='0230014801', r_ui=4.0, est=4.506953003633341, details={'was_impossible': False}),\n",
       " Prediction(uid='A1XRQ6YJ7HXQFQ', iid='0312598378', r_ui=4.0, est=4.468482380688804, details={'was_impossible': False}),\n",
       " Prediction(uid='A1XRQ6YJ7HXQFQ', iid='0143123297', r_ui=4.0, est=4.544225728471316, details={'was_impossible': False}),\n",
       " Prediction(uid='A1XRQ6YJ7HXQFQ', iid='0553591916', r_ui=4.0, est=4.2460784875317765, details={'was_impossible': False}),\n",
       " Prediction(uid='A1XRQ6YJ7HXQFQ', iid='0061143448', r_ui=4.0, est=3.919014589963979, details={'was_impossible': False}),\n",
       " Prediction(uid='A1XRQ6YJ7HXQFQ', iid='0061731161', r_ui=4.0, est=4.285907441582931, details={'was_impossible': False}),\n",
       " Prediction(uid='A1XRQ6YJ7HXQFQ', iid='0307948684', r_ui=5.0, est=4.461639583466463, details={'was_impossible': False}),\n",
       " Prediction(uid='A1XRQ6YJ7HXQFQ', iid='0307358666', r_ui=5.0, est=4.3298543306912585, details={'was_impossible': False}),\n",
       " Prediction(uid='A1XRQ6YJ7HXQFQ', iid='0399157352', r_ui=4.0, est=3.953672464196555, details={'was_impossible': False}),\n",
       " Prediction(uid='A1XRQ6YJ7HXQFQ', iid='0399155384', r_ui=4.0, est=4.145593062655363, details={'was_impossible': False}),\n",
       " Prediction(uid='A1XRQ6YJ7HXQFQ', iid='0525954015', r_ui=5.0, est=4.446633156877557, details={'was_impossible': False}),\n",
       " Prediction(uid='A1XRQ6YJ7HXQFQ', iid='0425252345', r_ui=4.0, est=4.561814328757978, details={'was_impossible': False}),\n",
       " Prediction(uid='A1XRQ6YJ7HXQFQ', iid='0547506147', r_ui=4.0, est=4.208372584893207, details={'was_impossible': False}),\n",
       " Prediction(uid='A1XRQ6YJ7HXQFQ', iid='0399159312', r_ui=3.0, est=4.294636214958224, details={'was_impossible': False}),\n",
       " Prediction(uid='A1XRQ6YJ7HXQFQ', iid='0062015702', r_ui=4.0, est=3.9669452139712194, details={'was_impossible': False}),\n",
       " Prediction(uid='A1XRQ6YJ7HXQFQ', iid='039915681X', r_ui=5.0, est=3.9672614600910476, details={'was_impossible': False}),\n",
       " Prediction(uid='A1XRQ6YJ7HXQFQ', iid='0061926515', r_ui=4.0, est=3.7846556595655634, details={'was_impossible': False}),\n",
       " Prediction(uid='A1XRQ6YJ7HXQFQ', iid='0316209546', r_ui=5.0, est=4.4944762183525775, details={'was_impossible': False}),\n",
       " Prediction(uid='A1XRQ6YJ7HXQFQ', iid='0143117564', r_ui=4.0, est=4.057052102257094, details={'was_impossible': False}),\n",
       " Prediction(uid='A1XRQ6YJ7HXQFQ', iid='0142196835', r_ui=4.0, est=4.226952975692708, details={'was_impossible': False}),\n",
       " Prediction(uid='A1XRQ6YJ7HXQFQ', iid='0307472248', r_ui=4.0, est=4.622852353888607, details={'was_impossible': False}),\n",
       " Prediction(uid='A1XRQ6YJ7HXQFQ', iid='0061122297', r_ui=4.0, est=3.9870909413978284, details={'was_impossible': False}),\n",
       " Prediction(uid='A1XRQ6YJ7HXQFQ', iid='0446402389', r_ui=5.0, est=4.4825477264931, details={'was_impossible': False}),\n",
       " Prediction(uid='A1XRQ6YJ7HXQFQ', iid='0230769152', r_ui=3.0, est=4.123972172621772, details={'was_impossible': False}),\n",
       " Prediction(uid='A1XRQ6YJ7HXQFQ', iid='0307960498', r_ui=5.0, est=4.437689764909533, details={'was_impossible': False}),\n",
       " Prediction(uid='A1XRQ6YJ7HXQFQ', iid='0399155759', r_ui=4.0, est=4.050534257120734, details={'was_impossible': False}),\n",
       " Prediction(uid='A1XRQ6YJ7HXQFQ', iid='0451235150', r_ui=5.0, est=4.2519039746857485, details={'was_impossible': False}),\n",
       " Prediction(uid='A1XRQ6YJ7HXQFQ', iid='0316039772', r_ui=5.0, est=4.373102626084577, details={'was_impossible': False}),\n",
       " Prediction(uid='A1XRQ6YJ7HXQFQ', iid='0547237448', r_ui=4.0, est=3.921746965827088, details={'was_impossible': False}),\n",
       " Prediction(uid='A1XRQ6YJ7HXQFQ', iid='0316018872', r_ui=5.0, est=4.256220650873378, details={'was_impossible': False}),\n",
       " Prediction(uid='A1XRQ6YJ7HXQFQ', iid='0399157263', r_ui=5.0, est=4.224484260099986, details={'was_impossible': False}),\n",
       " Prediction(uid='A1XRQ6YJ7HXQFQ', iid='044658083X', r_ui=4.0, est=4.003104784901053, details={'was_impossible': False}),\n",
       " Prediction(uid='A1XRQ6YJ7HXQFQ', iid='0312559127', r_ui=4.0, est=4.44446721711707, details={'was_impossible': False}),\n",
       " Prediction(uid='A1XRQ6YJ7HXQFQ', iid='0312647999', r_ui=3.0, est=4.411185223012996, details={'was_impossible': False}),\n",
       " Prediction(uid='A1XRQ6YJ7HXQFQ', iid='0316126381', r_ui=4.0, est=4.400795106709485, details={'was_impossible': False}),\n",
       " Prediction(uid='A1XRQ6YJ7HXQFQ', iid='006211946X', r_ui=5.0, est=4.049816169369918, details={'was_impossible': False}),\n",
       " Prediction(uid='A1XRQ6YJ7HXQFQ', iid='000725394X', r_ui=4.0, est=3.8980346179788445, details={'was_impossible': False}),\n",
       " Prediction(uid='A1XRQ6YJ7HXQFQ', iid='0345505719', r_ui=4.0, est=4.152326798277212, details={'was_impossible': False}),\n",
       " Prediction(uid='A1XRQ6YJ7HXQFQ', iid='0062015680', r_ui=4.0, est=3.8812285665022537, details={'was_impossible': False}),\n",
       " Prediction(uid='A1XRQ6YJ7HXQFQ', iid='0099494175', r_ui=5.0, est=4.371727347704457, details={'was_impossible': False}),\n",
       " Prediction(uid='A1XRQ6YJ7HXQFQ', iid='0316066737', r_ui=3.0, est=4.3228438747144615, details={'was_impossible': False}),\n",
       " Prediction(uid='A1XRQ6YJ7HXQFQ', iid='0312622872', r_ui=4.0, est=4.480085276412026, details={'was_impossible': False}),\n",
       " Prediction(uid='A1XRQ6YJ7HXQFQ', iid='014312272X', r_ui=3.0, est=3.854404378878917, details={'was_impossible': False}),\n",
       " Prediction(uid='A1XRQ6YJ7HXQFQ', iid='0399159304', r_ui=5.0, est=3.8398648747417505, details={'was_impossible': False}),\n",
       " Prediction(uid='A1XRQ6YJ7HXQFQ', iid='0312569912', r_ui=5.0, est=4.317561887477906, details={'was_impossible': False}),\n",
       " Prediction(uid='A1XRQ6YJ7HXQFQ', iid='0099505967', r_ui=5.0, est=4.511531494518193, details={'was_impossible': False}),\n",
       " Prediction(uid='A1XRQ6YJ7HXQFQ', iid='0307273555', r_ui=4.0, est=3.7137428987362555, details={'was_impossible': False}),\n",
       " Prediction(uid='A1XRQ6YJ7HXQFQ', iid='006193836X', r_ui=4.0, est=4.0074935723934875, details={'was_impossible': False}),\n",
       " Prediction(uid='A1XRQ6YJ7HXQFQ', iid='0143123300', r_ui=4.0, est=4.421094141989913, details={'was_impossible': False}),\n",
       " Prediction(uid='A1XRQ6YJ7HXQFQ', iid='0451235428', r_ui=4.0, est=4.177638128264145, details={'was_impossible': False}),\n",
       " Prediction(uid='A1XRQ6YJ7HXQFQ', iid='0062064320', r_ui=4.0, est=3.543995117319562, details={'was_impossible': False}),\n",
       " Prediction(uid='A1XRQ6YJ7HXQFQ', iid='031261456X', r_ui=3.0, est=3.85311172485493, details={'was_impossible': False}),\n",
       " Prediction(uid='A1XRQ6YJ7HXQFQ', iid='0316166308', r_ui=5.0, est=4.243807648031567, details={'was_impossible': False}),\n",
       " Prediction(uid='A1XRQ6YJ7HXQFQ', iid='0385351372', r_ui=5.0, est=4.446934844402959, details={'was_impossible': False}),\n",
       " Prediction(uid='A1XRQ6YJ7HXQFQ', iid='0307387208', r_ui=5.0, est=4.509863522248558, details={'was_impossible': False}),\n",
       " Prediction(uid='A1XRQ6YJ7HXQFQ', iid='0525952527', r_ui=4.0, est=3.6040307913314273, details={'was_impossible': False}),\n",
       " Prediction(uid='A1XRQ6YJ7HXQFQ', iid='0446580848', r_ui=3.0, est=3.792372815768397, details={'was_impossible': False}),\n",
       " Prediction(uid='A1XRQ6YJ7HXQFQ', iid='0061735175', r_ui=4.0, est=3.4990712575048075, details={'was_impossible': False}),\n",
       " Prediction(uid='A1XRQ6YJ7HXQFQ', iid='031605366X', r_ui=4.0, est=4.1093791810715965, details={'was_impossible': False}),\n",
       " Prediction(uid='A1XRQ6YJ7HXQFQ', iid='055359043X', r_ui=4.0, est=4.050953193645998, details={'was_impossible': False}),\n",
       " Prediction(uid='A1XRQ6YJ7HXQFQ', iid='0099494140', r_ui=5.0, est=4.6235288690358445, details={'was_impossible': False}),\n",
       " Prediction(uid='A1XRQ6YJ7HXQFQ', iid='0061147974', r_ui=4.0, est=4.227807721512276, details={'was_impossible': False}),\n",
       " Prediction(uid='A1XRQ6YJ7HXQFQ', iid='042522788X', r_ui=3.0, est=4.229205533708267, details={'was_impossible': False}),\n",
       " Prediction(uid='A1XRQ6YJ7HXQFQ', iid='0446550760', r_ui=4.0, est=4.299796559574235, details={'was_impossible': False}),\n",
       " Prediction(uid='A1XRQ6YJ7HXQFQ', iid='0399157832', r_ui=3.0, est=4.0984756720950015, details={'was_impossible': False}),\n",
       " Prediction(uid='A1XRQ6YJ7HXQFQ', iid='0312369727', r_ui=3.0, est=4.265380606982975, details={'was_impossible': False}),\n",
       " Prediction(uid='A1XRQ6YJ7HXQFQ', iid='045141456X', r_ui=4.0, est=4.200757300145625, details={'was_impossible': False}),\n",
       " Prediction(uid='A1XRQ6YJ7HXQFQ', iid='0547798164', r_ui=4.0, est=4.166070346961949, details={'was_impossible': False}),\n",
       " Prediction(uid='A1XRQ6YJ7HXQFQ', iid='030758836X', r_ui=3.0, est=4.248822675646653, details={'was_impossible': False}),\n",
       " Prediction(uid='A1XRQ6YJ7HXQFQ', iid='0142180815', r_ui=4.0, est=4.492580425742707, details={'was_impossible': False}),\n",
       " Prediction(uid='A1XRQ6YJ7HXQFQ', iid='0316166316', r_ui=5.0, est=4.2007396723463915, details={'was_impossible': False}),\n",
       " Prediction(uid='A1XRQ6YJ7HXQFQ', iid='0312378211', r_ui=4.0, est=4.424128627098433, details={'was_impossible': False}),\n",
       " Prediction(uid='A1XRQ6YJ7HXQFQ', iid='0316734594', r_ui=4.0, est=4.414883524241285, details={'was_impossible': False}),\n",
       " Prediction(uid='A1XRQ6YJ7HXQFQ', iid='0060833203', r_ui=4.0, est=4.375075378490271, details={'was_impossible': False}),\n",
       " Prediction(uid='A1XRQ6YJ7HXQFQ', iid='0062049607', r_ui=4.0, est=4.338351738529711, details={'was_impossible': False}),\n",
       " Prediction(uid='A1XRQ6YJ7HXQFQ', iid='0399160809', r_ui=5.0, est=4.136687395150214, details={'was_impossible': False}),\n",
       " Prediction(uid='A1XRQ6YJ7HXQFQ', iid='0446505870', r_ui=4.0, est=4.478892714041063, details={'was_impossible': False}),\n",
       " Prediction(uid='A1XRQ6YJ7HXQFQ', iid='0399155198', r_ui=5.0, est=3.841053846720762, details={'was_impossible': False}),\n",
       " Prediction(uid='A1XRQ6YJ7HXQFQ', iid='0312365748', r_ui=4.0, est=4.321149173484629, details={'was_impossible': False}),\n",
       " Prediction(uid='A1XRQ6YJ7HXQFQ', iid='0062069888', r_ui=4.0, est=3.732715067853141, details={'was_impossible': False}),\n",
       " Prediction(uid='A1XRQ6YJ7HXQFQ', iid='0061733148', r_ui=5.0, est=4.30586973950633, details={'was_impossible': False}),\n",
       " Prediction(uid='A1XRQ6YJ7HXQFQ', iid='0345807154', r_ui=5.0, est=4.237766221599725, details={'was_impossible': False}),\n",
       " Prediction(uid='A1XRQ6YJ7HXQFQ', iid='0099555352', r_ui=5.0, est=3.904663895080675, details={'was_impossible': False}),\n",
       " Prediction(uid='A1XRQ6YJ7HXQFQ', iid='052595211X', r_ui=4.0, est=4.115222227343193, details={'was_impossible': False}),\n",
       " Prediction(uid='A1XRQ6YJ7HXQFQ', iid='0525951059', r_ui=4.0, est=4.042612473021312, details={'was_impossible': False}),\n",
       " Prediction(uid='A1XRQ6YJ7HXQFQ', iid='0312375891', r_ui=4.0, est=4.036266137770696, details={'was_impossible': False}),\n",
       " Prediction(uid='A1XRQ6YJ7HXQFQ', iid='0345533666', r_ui=4.0, est=4.3832910865257135, details={'was_impossible': False}),\n",
       " Prediction(uid='A1XRQ6YJ7HXQFQ', iid='0307272508', r_ui=4.0, est=3.840394653164338, details={'was_impossible': False}),\n",
       " Prediction(uid='A1XRQ6YJ7HXQFQ', iid='0061668214', r_ui=5.0, est=4.375930640711561, details={'was_impossible': False}),\n",
       " Prediction(uid='A1XRQ6YJ7HXQFQ', iid='0425234460', r_ui=3.0, est=4.194908000334061, details={'was_impossible': False}),\n",
       " Prediction(uid='A1XRQ6YJ7HXQFQ', iid='0312674546', r_ui=5.0, est=3.939938927255504, details={'was_impossible': False}),\n",
       " Prediction(uid='A1XRQ6YJ7HXQFQ', iid='0312282060', r_ui=4.0, est=4.069452410833592, details={'was_impossible': False}),\n",
       " Prediction(uid='A1XRQ6YJ7HXQFQ', iid='0446402400', r_ui=4.0, est=4.0293751440181085, details={'was_impossible': False}),\n",
       " Prediction(uid='A1XRQ6YJ7HXQFQ', iid='0316078425', r_ui=4.0, est=4.1831443814460885, details={'was_impossible': False}),\n",
       " Prediction(uid='A1XRQ6YJ7HXQFQ', iid='0061727679', r_ui=4.0, est=4.092856612970306, details={'was_impossible': False}),\n",
       " Prediction(uid='A1XRQ6YJ7HXQFQ', iid='045123393X', r_ui=4.0, est=4.00390411725366, details={'was_impossible': False}),\n",
       " Prediction(uid='A1XRQ6YJ7HXQFQ', iid='0525953876', r_ui=4.0, est=4.2262747777567435, details={'was_impossible': False}),\n",
       " Prediction(uid='A1XRQ6YJ7HXQFQ', iid='0312359322', r_ui=5.0, est=4.367406922579821, details={'was_impossible': False}),\n",
       " Prediction(uid='A1XRQ6YJ7HXQFQ', iid='0099581876', r_ui=4.0, est=3.905377628687414, details={'was_impossible': False}),\n",
       " Prediction(uid='AUX9KZUUB3YCE', iid='0099740915', r_ui=5.0, est=4.254591825687197, details={'was_impossible': False}),\n",
       " Prediction(uid='AUX9KZUUB3YCE', iid='030724332X', r_ui=5.0, est=4.54094198573671, details={'was_impossible': False}),\n",
       " Prediction(uid='AUX9KZUUB3YCE', iid='0142413402', r_ui=4.0, est=4.299557076172164, details={'was_impossible': False}),\n",
       " Prediction(uid='AUX9KZUUB3YCE', iid='0142408425', r_ui=5.0, est=4.103060939876056, details={'was_impossible': False}),\n",
       " Prediction(uid='AUX9KZUUB3YCE', iid='0439023483', r_ui=5.0, est=4.4326365967489645, details={'was_impossible': False}),\n",
       " Prediction(uid='AUX9KZUUB3YCE', iid='0439023513', r_ui=4.0, est=4.020532229498835, details={'was_impossible': False}),\n",
       " Prediction(uid='AUX9KZUUB3YCE', iid='0151008116', r_ui=5.0, est=4.257732977170204, details={'was_impossible': False}),\n",
       " Prediction(uid='AUX9KZUUB3YCE', iid='0061020702', r_ui=5.0, est=4.157925142262799, details={'was_impossible': False}),\n",
       " Prediction(uid='AUX9KZUUB3YCE', iid='0312872399', r_ui=5.0, est=4.238230685608212, details={'was_impossible': False}),\n",
       " Prediction(uid='AUX9KZUUB3YCE', iid='0393065782', r_ui=3.0, est=4.3076925680734615, details={'was_impossible': False}),\n",
       " Prediction(uid='AUX9KZUUB3YCE', iid='0142410756', r_ui=5.0, est=4.355384142242981, details={'was_impossible': False}),\n",
       " Prediction(uid='AUX9KZUUB3YCE', iid='0312853238', r_ui=4.0, est=4.308325835593993, details={'was_impossible': False}),\n",
       " Prediction(uid='AUX9KZUUB3YCE', iid='030728090X', r_ui=1.0, est=3.703934016413005, details={'was_impossible': False}),\n",
       " Prediction(uid='AUX9KZUUB3YCE', iid='0345504968', r_ui=5.0, est=3.981709883355856, details={'was_impossible': False}),\n",
       " Prediction(uid='AUX9KZUUB3YCE', iid='055358894X', r_ui=1.0, est=4.251753721194503, details={'was_impossible': False}),\n",
       " Prediction(uid='AUX9KZUUB3YCE', iid='031624371X', r_ui=4.0, est=4.016698274167267, details={'was_impossible': False}),\n",
       " Prediction(uid='AUX9KZUUB3YCE', iid='0007447868', r_ui=4.0, est=3.7258781593778862, details={'was_impossible': False}),\n",
       " Prediction(uid='AUX9KZUUB3YCE', iid='0140449175', r_ui=5.0, est=4.308758824419678, details={'was_impossible': False}),\n",
       " Prediction(uid='AUX9KZUUB3YCE', iid='014242823X', r_ui=2.0, est=3.1677124967038455, details={'was_impossible': False}),\n",
       " Prediction(uid='AUX9KZUUB3YCE', iid='0553813110', r_ui=5.0, est=4.013135417646209, details={'was_impossible': False}),\n",
       " Prediction(uid='AUX9KZUUB3YCE', iid='0151006903', r_ui=5.0, est=4.084641669820622, details={'was_impossible': False}),\n",
       " Prediction(uid='AUX9KZUUB3YCE', iid='0385516169', r_ui=5.0, est=4.194303393898373, details={'was_impossible': False}),\n",
       " Prediction(uid='AUX9KZUUB3YCE', iid='0356500276', r_ui=5.0, est=4.00569032487529, details={'was_impossible': False}),\n",
       " Prediction(uid='AUX9KZUUB3YCE', iid='0140060286', r_ui=5.0, est=4.517371648062853, details={'was_impossible': False}),\n",
       " Prediction(uid='AUX9KZUUB3YCE', iid='0312263767', r_ui=5.0, est=4.583121931822207, details={'was_impossible': False}),\n",
       " Prediction(uid='AUX9KZUUB3YCE', iid='374190666', r_ui=5.0, est=4.314611725968404, details={'was_impossible': False}),\n",
       " Prediction(uid='AUX9KZUUB3YCE', iid='0007386648', r_ui=5.0, est=4.521907132000514, details={'was_impossible': False}),\n",
       " Prediction(uid='AUX9KZUUB3YCE', iid='0142001740', r_ui=5.0, est=3.9652413435916927, details={'was_impossible': False}),\n",
       " Prediction(uid='AUX9KZUUB3YCE', iid='0312872380', r_ui=5.0, est=4.267177153793809, details={'was_impossible': False}),\n",
       " Prediction(uid='AUX9KZUUB3YCE', iid='0451458125', r_ui=5.0, est=3.980633188978282, details={'was_impossible': False}),\n",
       " Prediction(uid='AUX9KZUUB3YCE', iid='0451463900', r_ui=3.0, est=4.024181272942166, details={'was_impossible': False}),\n",
       " Prediction(uid='AUX9KZUUB3YCE', iid='0307913090', r_ui=5.0, est=4.522130996179549, details={'was_impossible': False}),\n",
       " Prediction(uid='AUX9KZUUB3YCE', iid='0060557559', r_ui=5.0, est=4.245604755317601, details={'was_impossible': False}),\n",
       " Prediction(uid='AUX9KZUUB3YCE', iid='0552550299', r_ui=5.0, est=4.4090423318552805, details={'was_impossible': False}),\n",
       " Prediction(uid='AUX9KZUUB3YCE', iid='0316243728', r_ui=5.0, est=4.528209286226816, details={'was_impossible': False}),\n",
       " Prediction(uid='AUX9KZUUB3YCE', iid='0060938099', r_ui=4.0, est=3.804729320577663, details={'was_impossible': False}),\n",
       " Prediction(uid='AUX9KZUUB3YCE', iid='0316033677', r_ui=3.0, est=4.038542719301273, details={'was_impossible': False}),\n",
       " Prediction(uid='AUX9KZUUB3YCE', iid='0312853254', r_ui=5.0, est=4.064146681295292, details={'was_impossible': False}),\n",
       " Prediction(uid='AUX9KZUUB3YCE', iid='0062314254', r_ui=4.0, est=4.197905848910872, details={'was_impossible': False}),\n",
       " Prediction(uid='AUX9KZUUB3YCE', iid='0143013742', r_ui=5.0, est=4.038730597654228, details={'was_impossible': False}),\n",
       " Prediction(uid='AUX9KZUUB3YCE', iid='0312370830', r_ui=3.0, est=4.049628490543657, details={'was_impossible': False}),\n",
       " Prediction(uid='AUX9KZUUB3YCE', iid='0307275701', r_ui=5.0, est=4.307726550969403, details={'was_impossible': False}),\n",
       " Prediction(uid='AUX9KZUUB3YCE', iid='0141034262', r_ui=5.0, est=4.049648531444245, details={'was_impossible': False}),\n",
       " Prediction(uid='AUX9KZUUB3YCE', iid='044652414X', r_ui=5.0, est=3.909991885833784, details={'was_impossible': False}),\n",
       " Prediction(uid='AUX9KZUUB3YCE', iid='0307346609', r_ui=5.0, est=4.154035973741662, details={'was_impossible': False}),\n",
       " Prediction(uid='AUX9KZUUB3YCE', iid='0375830995', r_ui=1.0, est=4.090313627281606, details={'was_impossible': False}),\n",
       " Prediction(uid='AUX9KZUUB3YCE', iid='0356502465', r_ui=5.0, est=4.209630801844495, details={'was_impossible': False}),\n",
       " Prediction(uid='AUX9KZUUB3YCE', iid='0399152326', r_ui=5.0, est=3.906607675280178, details={'was_impossible': False}),\n",
       " Prediction(uid='AUX9KZUUB3YCE', iid='0307265439', r_ui=4.0, est=4.087136280208033, details={'was_impossible': False}),\n",
       " Prediction(uid='AUX9KZUUB3YCE', iid='0151015392', r_ui=5.0, est=4.266543223833096, details={'was_impossible': False}),\n",
       " Prediction(uid='AUX9KZUUB3YCE', iid='0553582445', r_ui=5.0, est=4.359745543327096, details={'was_impossible': False}),\n",
       " Prediction(uid='AUX9KZUUB3YCE', iid='0140386335', r_ui=2.0, est=4.057766179992461, details={'was_impossible': False}),\n",
       " Prediction(uid='AUX9KZUUB3YCE', iid='0553588958', r_ui=1.0, est=3.8414472655645264, details={'was_impossible': False}),\n",
       " Prediction(uid='AUX9KZUUB3YCE', iid='0451412796', r_ui=2.0, est=4.068122941506961, details={'was_impossible': False}),\n",
       " Prediction(uid='AUX9KZUUB3YCE', iid='0375831002', r_ui=5.0, est=4.553643910399619, details={'was_impossible': False}),\n",
       " Prediction(uid='AUX9KZUUB3YCE', iid='0345257871', r_ui=4.0, est=3.7992098121264024, details={'was_impossible': False}),\n",
       " Prediction(uid='AUX9KZUUB3YCE', iid='0141191538', r_ui=5.0, est=4.17284777103909, details={'was_impossible': False}),\n",
       " Prediction(uid='AUX9KZUUB3YCE', iid='0316056863', r_ui=5.0, est=4.085437174631442, details={'was_impossible': False}),\n",
       " Prediction(uid='AUX9KZUUB3YCE', iid='0312856830', r_ui=3.0, est=3.8848839386590424, details={'was_impossible': False}),\n",
       " Prediction(uid='AUX9KZUUB3YCE', iid='0140177396', r_ui=5.0, est=4.345178020470723, details={'was_impossible': False}),\n",
       " Prediction(uid='AUX9KZUUB3YCE', iid='0553582453', r_ui=5.0, est=4.424362728081266, details={'was_impossible': False}),\n",
       " Prediction(uid='AUX9KZUUB3YCE', iid='043902353X', r_ui=5.0, est=4.4252274904014754, details={'was_impossible': False}),\n",
       " Prediction(uid='AUX9KZUUB3YCE', iid='0061122416', r_ui=2.0, est=3.6437170429432557, details={'was_impossible': False}),\n",
       " Prediction(uid='AUX9KZUUB3YCE', iid='0441014348', r_ui=2.0, est=4.183040677069007, details={'was_impossible': False}),\n",
       " Prediction(uid='AUX9KZUUB3YCE', iid='0375417206', r_ui=5.0, est=4.358942251973596, details={'was_impossible': False}),\n",
       " Prediction(uid='AUX9KZUUB3YCE', iid='0451460855', r_ui=5.0, est=4.395517472686144, details={'was_impossible': False}),\n",
       " Prediction(uid='AUX9KZUUB3YCE', iid='0099464462', r_ui=5.0, est=4.06549878946758, details={'was_impossible': False}),\n",
       " Prediction(uid='AUX9KZUUB3YCE', iid='0316033669', r_ui=3.0, est=4.149409348428018, details={'was_impossible': False}),\n",
       " Prediction(uid='AUX9KZUUB3YCE', iid='0316033650', r_ui=4.0, est=4.273281179978945, details={'was_impossible': False}),\n",
       " Prediction(uid='AUX9KZUUB3YCE', iid='0385660065', r_ui=5.0, est=4.454978719359633, details={'was_impossible': False}),\n",
       " Prediction(uid='AUX9KZUUB3YCE', iid='0143170090', r_ui=2.0, est=4.077891316158986, details={'was_impossible': False}),\n",
       " Prediction(uid='AUX9KZUUB3YCE', iid='307743683', r_ui=2.0, est=4.3342360766009875, details={'was_impossible': False}),\n",
       " Prediction(uid='AUX9KZUUB3YCE', iid='0002247399', r_ui=5.0, est=3.8657024791507792, details={'was_impossible': False}),\n",
       " Prediction(uid='AUX9KZUUB3YCE', iid='0375509321', r_ui=3.0, est=3.595555584636024, details={'was_impossible': False}),\n",
       " Prediction(uid='AUX9KZUUB3YCE', iid='0575077859', r_ui=5.0, est=4.070649095389873, details={'was_impossible': False}),\n",
       " Prediction(uid='AUX9KZUUB3YCE', iid='039915275X', r_ui=5.0, est=3.918432306503666, details={'was_impossible': False}),\n",
       " Prediction(uid='AUX9KZUUB3YCE', iid='0316044954', r_ui=3.0, est=3.991281683031917, details={'was_impossible': False}),\n",
       " Prediction(uid='AUX9KZUUB3YCE', iid='0441012833', r_ui=3.0, est=4.2044701772957565, details={'was_impossible': False}),\n",
       " Prediction(uid='AUX9KZUUB3YCE', iid='0143170104', r_ui=2.0, est=4.109176512393072, details={'was_impossible': False}),\n",
       " Prediction(uid='AUX9KZUUB3YCE', iid='0385503857', r_ui=5.0, est=4.046078578141401, details={'was_impossible': False}),\n",
       " Prediction(uid='AUX9KZUUB3YCE', iid='014314376X', r_ui=3.0, est=4.19144329397552, details={'was_impossible': False}),\n",
       " Prediction(uid='AUX9KZUUB3YCE', iid='0375700757', r_ui=5.0, est=3.954045628948998, details={'was_impossible': False}),\n",
       " Prediction(uid='AUX9KZUUB3YCE', iid='0553592653', r_ui=5.0, est=4.224103009452384, details={'was_impossible': False}),\n",
       " Prediction(uid='AUX9KZUUB3YCE', iid='0452278902', r_ui=5.0, est=4.4754091474694695, details={'was_impossible': False}),\n",
       " Prediction(uid='AUX9KZUUB3YCE', iid='0316080683', r_ui=5.0, est=4.439671296369558, details={'was_impossible': False}),\n",
       " Prediction(uid='AUX9KZUUB3YCE', iid='0374528373', r_ui=5.0, est=4.5553337058429975, details={'was_impossible': False}),\n",
       " Prediction(uid='AUX9KZUUB3YCE', iid='0307280721', r_ui=4.0, est=3.6519336959248534, details={'was_impossible': False}),\n",
       " Prediction(uid='AUX9KZUUB3YCE', iid='0399154469', r_ui=5.0, est=4.176261480847859, details={'was_impossible': False}),\n",
       " Prediction(uid='AUX9KZUUB3YCE', iid='0140185003', r_ui=5.0, est=4.262841140397104, details={'was_impossible': False}),\n",
       " Prediction(uid='AUX9KZUUB3YCE', iid='0316044989', r_ui=5.0, est=4.188291706905068, details={'was_impossible': False}),\n",
       " Prediction(uid='AUX9KZUUB3YCE', iid='0141439602', r_ui=5.0, est=4.433353620148009, details={'was_impossible': False}),\n",
       " Prediction(uid='AUX9KZUUB3YCE', iid='0439531640', r_ui=3.0, est=3.8054063544885532, details={'was_impossible': False}),\n",
       " Prediction(uid='AUX9KZUUB3YCE', iid='0552550280', r_ui=5.0, est=4.309369799390489, details={'was_impossible': False}),\n",
       " Prediction(uid='AUX9KZUUB3YCE', iid='030726999X', r_ui=4.0, est=4.215954220404961, details={'was_impossible': False}),\n",
       " Prediction(uid='AUX9KZUUB3YCE', iid='0451461401', r_ui=5.0, est=4.285165301627594, details={'was_impossible': False}),\n",
       " Prediction(uid='AUX9KZUUB3YCE', iid='0142800821', r_ui=3.0, est=3.966651397496761, details={'was_impossible': False}),\n",
       " Prediction(uid='AUX9KZUUB3YCE', iid='0575081384', r_ui=2.0, est=4.281530891885807, details={'was_impossible': False}),\n",
       " Prediction(uid='AUX9KZUUB3YCE', iid='0316129089', r_ui=2.0, est=3.7073018266536075, details={'was_impossible': False}),\n",
       " Prediction(uid='AUX9KZUUB3YCE', iid='0575097469', r_ui=5.0, est=4.297390674113455, details={'was_impossible': False}),\n",
       " Prediction(uid='A1RECBDKHVOJMW', iid='0441008534', r_ui=5.0, est=4.1668757824776295, details={'was_impossible': False}),\n",
       " Prediction(uid='A1RECBDKHVOJMW', iid='0192835793', r_ui=5.0, est=4.704034612070011, details={'was_impossible': False}),\n",
       " Prediction(uid='A1RECBDKHVOJMW', iid='0316001821', r_ui=4.0, est=4.089399722635954, details={'was_impossible': False}),\n",
       " Prediction(uid='A1RECBDKHVOJMW', iid='0312382472', r_ui=5.0, est=4.627638001990594, details={'was_impossible': False}),\n",
       " Prediction(uid='A1RECBDKHVOJMW', iid='0446580309', r_ui=4.0, est=4.445632210326303, details={'was_impossible': False}),\n",
       " Prediction(uid='A1RECBDKHVOJMW', iid='0345394712', r_ui=4.0, est=3.4328849809424216, details={'was_impossible': False}),\n",
       " Prediction(uid='A1RECBDKHVOJMW', iid='0451214773', r_ui=3.0, est=3.799869449787428, details={'was_impossible': False}),\n",
       " Prediction(uid='A1RECBDKHVOJMW', iid='0399112286', r_ui=5.0, est=4.550156681423892, details={'was_impossible': False}),\n",
       " Prediction(uid='A1RECBDKHVOJMW', iid='0307279936', r_ui=4.0, est=4.052642114958741, details={'was_impossible': False}),\n",
       " Prediction(uid='A1RECBDKHVOJMW', iid='0316155306', r_ui=5.0, est=4.271732770723376, details={'was_impossible': False}),\n",
       " Prediction(uid='A1RECBDKHVOJMW', iid='0141040343', r_ui=5.0, est=4.611896068047089, details={'was_impossible': False}),\n",
       " Prediction(uid='A1RECBDKHVOJMW', iid='0002051850', r_ui=5.0, est=4.512975122000563, details={'was_impossible': False}),\n",
       " Prediction(uid='A1RECBDKHVOJMW', iid='031284879X', r_ui=4.0, est=4.569947034929377, details={'was_impossible': False}),\n",
       " Prediction(uid='A1RECBDKHVOJMW', iid='0449211177', r_ui=5.0, est=4.585430024563328, details={'was_impossible': False}),\n",
       " Prediction(uid='A1RECBDKHVOJMW', iid='0446177938', r_ui=5.0, est=4.302670533947318, details={'was_impossible': False}),\n",
       " Prediction(uid='A1RECBDKHVOJMW', iid='0330517783', r_ui=3.0, est=3.8161454493985514, details={'was_impossible': False}),\n",
       " Prediction(uid='A1RECBDKHVOJMW', iid='0060572965', r_ui=3.0, est=4.140926924748905, details={'was_impossible': False}),\n",
       " Prediction(uid='A1RECBDKHVOJMW', iid='0345503686', r_ui=5.0, est=4.062992176817956, details={'was_impossible': False}),\n",
       " Prediction(uid='A1RECBDKHVOJMW', iid='0307951030', r_ui=5.0, est=4.7551398498480415, details={'was_impossible': False}),\n",
       " Prediction(uid='A1RECBDKHVOJMW', iid='0425223833', r_ui=5.0, est=4.271214095631301, details={'was_impossible': False}),\n",
       " Prediction(uid='A1RECBDKHVOJMW', iid='014143984X', r_ui=5.0, est=4.42326820407751, details={'was_impossible': False}),\n",
       " Prediction(uid='A1RECBDKHVOJMW', iid='0312860951', r_ui=3.0, est=4.064898037001865, details={'was_impossible': False}),\n",
       " Prediction(uid='A1RECBDKHVOJMW', iid='0312872402', r_ui=5.0, est=4.691640069350716, details={'was_impossible': False}),\n",
       " Prediction(uid='A1RECBDKHVOJMW', iid='0440241111', r_ui=4.0, est=4.401186232319775, details={'was_impossible': False}),\n",
       " Prediction(uid='A1RECBDKHVOJMW', iid='0345453808', r_ui=1.0, est=3.923415034028222, details={'was_impossible': False}),\n",
       " Prediction(uid='A1RECBDKHVOJMW', iid='0446530220', r_ui=4.0, est=4.414636193811702, details={'was_impossible': False}),\n",
       " Prediction(uid='A1RECBDKHVOJMW', iid='0140120831', r_ui=5.0, est=4.4265630088289685, details={'was_impossible': False}),\n",
       " Prediction(uid='A1RECBDKHVOJMW', iid='034544356X', r_ui=4.0, est=3.786735234345212, details={'was_impossible': False}),\n",
       " Prediction(uid='A1RECBDKHVOJMW', iid='0316001635', r_ui=3.0, est=3.7714619187393876, details={'was_impossible': False}),\n",
       " Prediction(uid='A1RECBDKHVOJMW', iid='0441009239', r_ui=4.0, est=4.197600181226144, details={'was_impossible': False}),\n",
       " Prediction(uid='A1RECBDKHVOJMW', iid='0380781433', r_ui=4.0, est=3.4753096701789756, details={'was_impossible': False}),\n",
       " Prediction(uid='A1RECBDKHVOJMW', iid='0312848811', r_ui=5.0, est=4.5947128051100075, details={'was_impossible': False}),\n",
       " Prediction(uid='A1RECBDKHVOJMW', iid='0345506200', r_ui=4.0, est=4.2000046519935905, details={'was_impossible': False}),\n",
       " Prediction(uid='A1RECBDKHVOJMW', iid='0375411089', r_ui=4.0, est=4.349585422658286, details={'was_impossible': False}),\n",
       " Prediction(uid='A1RECBDKHVOJMW', iid='0141194529', r_ui=5.0, est=4.680362648334562, details={'was_impossible': False}),\n",
       " Prediction(uid='A1RECBDKHVOJMW', iid='0142004030', r_ui=5.0, est=4.429578932387594, details={'was_impossible': False}),\n",
       " Prediction(uid='A1RECBDKHVOJMW', iid='037543318X', r_ui=5.0, est=4.090298180263331, details={'was_impossible': False}),\n",
       " Prediction(uid='A1RECBDKHVOJMW', iid='0385257406', r_ui=5.0, est=4.680698068566847, details={'was_impossible': False}),\n",
       " Prediction(uid='A1RECBDKHVOJMW', iid='0399151613', r_ui=4.0, est=3.6066085365876273, details={'was_impossible': False}),\n",
       " Prediction(uid='A1RECBDKHVOJMW', iid='0312288352', r_ui=4.0, est=4.471036294783456, details={'was_impossible': False}),\n",
       " Prediction(uid='A1RECBDKHVOJMW', iid='0385339143', r_ui=4.0, est=4.16229036749029, details={'was_impossible': False}),\n",
       " Prediction(uid='A1RECBDKHVOJMW', iid='0140621199', r_ui=5.0, est=4.401667767112191, details={'was_impossible': False}),\n",
       " Prediction(uid='A1RECBDKHVOJMW', iid='0425209067', r_ui=4.0, est=4.462374651304023, details={'was_impossible': False}),\n",
       " Prediction(uid='A1RECBDKHVOJMW', iid='0440237556', r_ui=5.0, est=4.379871644735098, details={'was_impossible': False}),\n",
       " Prediction(uid='A1RECBDKHVOJMW', iid='0143113178', r_ui=4.0, est=4.461995233026762, details={'was_impossible': False}),\n",
       " Prediction(uid='A1RECBDKHVOJMW', iid='0451163508', r_ui=4.0, est=3.6607461823204064, details={'was_impossible': False}),\n",
       " Prediction(uid='A1RECBDKHVOJMW', iid='0345447832', r_ui=4.0, est=4.44209850854225, details={'was_impossible': False}),\n",
       " Prediction(uid='A1RECBDKHVOJMW', iid='0060293233', r_ui=5.0, est=4.4908474191751155, details={'was_impossible': False}),\n",
       " Prediction(uid='A1RECBDKHVOJMW', iid='0345495969', r_ui=1.0, est=3.202177019525553, details={'was_impossible': False}),\n",
       " Prediction(uid='A1RECBDKHVOJMW', iid='0060852577', r_ui=5.0, est=4.211156552564622, details={'was_impossible': False}),\n",
       " Prediction(uid='A1RECBDKHVOJMW', iid='0441012795', r_ui=4.0, est=4.153757997345048, details={'was_impossible': False}),\n",
       " Prediction(uid='A1RECBDKHVOJMW', iid='0140185003', r_ui=5.0, est=4.466619395018363, details={'was_impossible': False}),\n",
       " Prediction(uid='A1RECBDKHVOJMW', iid='0345384466', r_ui=5.0, est=4.297105225429913, details={'was_impossible': False}),\n",
       " Prediction(uid='A1RECBDKHVOJMW', iid='0393060411', r_ui=5.0, est=4.569260864393625, details={'was_impossible': False}),\n",
       " Prediction(uid='A1RECBDKHVOJMW', iid='0060598751', r_ui=3.0, est=3.822503556941426, details={'was_impossible': False}),\n",
       " Prediction(uid='A1RECBDKHVOJMW', iid='0140049975', r_ui=5.0, est=4.65793870365108, details={'was_impossible': False}),\n",
       " Prediction(uid='A1RECBDKHVOJMW', iid='034552909X', r_ui=4.0, est=4.399494034703119, details={'was_impossible': False}),\n",
       " Prediction(uid='A1RECBDKHVOJMW', iid='0446194204', r_ui=4.0, est=4.225473021260674, details={'was_impossible': False}),\n",
       " Prediction(uid='A1RECBDKHVOJMW', iid='0553234447', r_ui=5.0, est=4.504649239857596, details={'was_impossible': False}),\n",
       " Prediction(uid='A1RECBDKHVOJMW', iid='0151006261', r_ui=4.0, est=4.149511001006307, details={'was_impossible': False}),\n",
       " Prediction(uid='A1RECBDKHVOJMW', iid='0345479904', r_ui=3.0, est=3.812611900457027, details={'was_impossible': False}),\n",
       " Prediction(uid='A1RECBDKHVOJMW', iid='0385338252', r_ui=5.0, est=4.407095150268508, details={'was_impossible': False}),\n",
       " Prediction(uid='A1RECBDKHVOJMW', iid='0312872380', r_ui=4.0, est=4.465557660770158, details={'was_impossible': False}),\n",
       " Prediction(uid='A1RECBDKHVOJMW', iid='0547722028', r_ui=5.0, est=4.347849274356475, details={'was_impossible': False}),\n",
       " Prediction(uid='A1RECBDKHVOJMW', iid='006112429X', r_ui=5.0, est=4.526622367603243, details={'was_impossible': False}),\n",
       " Prediction(uid='A1RECBDKHVOJMW', iid='051513953X', r_ui=2.0, est=3.898943130028865, details={'was_impossible': False}),\n",
       " Prediction(uid='A1RECBDKHVOJMW', iid='0380775840', r_ui=5.0, est=4.348855572970389, details={'was_impossible': False}),\n",
       " Prediction(uid='A1RECBDKHVOJMW', iid='0451173317', r_ui=5.0, est=4.456044732992901, details={'was_impossible': False}),\n",
       " Prediction(uid='A1RECBDKHVOJMW', iid='0399153357', r_ui=5.0, est=4.530149470866425, details={'was_impossible': False}),\n",
       " Prediction(uid='A1RECBDKHVOJMW', iid='0307913090', r_ui=5.0, est=4.751617867831115, details={'was_impossible': False}),\n",
       " Prediction(uid='A1RECBDKHVOJMW', iid='044617792X', r_ui=4.0, est=4.268117390355093, details={'was_impossible': False}),\n",
       " Prediction(uid='A1RECBDKHVOJMW', iid='0425205673', r_ui=5.0, est=4.476711469277836, details={'was_impossible': False}),\n",
       " Prediction(uid='A1RECBDKHVOJMW', iid='0312675062', r_ui=5.0, est=4.359481672815623, details={'was_impossible': False}),\n",
       " Prediction(uid='A1RECBDKHVOJMW', iid='0307472590', r_ui=4.0, est=4.692822102186463, details={'was_impossible': False}),\n",
       " Prediction(uid='A1RECBDKHVOJMW', iid='014312093X', r_ui=4.0, est=4.321390213800282, details={'was_impossible': False}),\n",
       " Prediction(uid='A1RECBDKHVOJMW', iid='0373834438', r_ui=5.0, est=4.795468172348905, details={'was_impossible': False}),\n",
       " Prediction(uid='A1RECBDKHVOJMW', iid='0061703257', r_ui=4.0, est=4.467027301046339, details={'was_impossible': False}),\n",
       " Prediction(uid='A1RECBDKHVOJMW', iid='0142001805', r_ui=4.0, est=4.308928060842093, details={'was_impossible': False}),\n",
       " Prediction(uid='A1RECBDKHVOJMW', iid='0451456734', r_ui=5.0, est=4.353960581475289, details={'was_impossible': False}),\n",
       " Prediction(uid='A1RECBDKHVOJMW', iid='0446538965', r_ui=5.0, est=3.7572844201658677, details={'was_impossible': False}),\n",
       " Prediction(uid='A1RECBDKHVOJMW', iid='0553587064', r_ui=5.0, est=4.490111458547678, details={'was_impossible': False}),\n",
       " Prediction(uid='A1RECBDKHVOJMW', iid='0399151583', r_ui=5.0, est=4.363745978141529, details={'was_impossible': False}),\n",
       " Prediction(uid='A1RECBDKHVOJMW', iid='0099464462', r_ui=5.0, est=4.297042242388387, details={'was_impossible': False}),\n",
       " Prediction(uid='A1RECBDKHVOJMW', iid='0440212812', r_ui=4.0, est=3.8189358926996824, details={'was_impossible': False}),\n",
       " Prediction(uid='A1RECBDKHVOJMW', iid='0060529709', r_ui=4.0, est=4.025139856231546, details={'was_impossible': False}),\n",
       " Prediction(uid='A1RECBDKHVOJMW', iid='006001203X', r_ui=4.0, est=4.6128915006556275, details={'was_impossible': False}),\n",
       " Prediction(uid='A1RECBDKHVOJMW', iid='0307463125', r_ui=4.0, est=4.098427535715947, details={'was_impossible': False}),\n",
       " Prediction(uid='A1RECBDKHVOJMW', iid='0553576798', r_ui=4.0, est=4.008490490559239, details={'was_impossible': False}),\n",
       " Prediction(uid='A1RECBDKHVOJMW', iid='0380731479', r_ui=5.0, est=3.990325758974002, details={'was_impossible': False}),\n",
       " Prediction(uid='A1RECBDKHVOJMW', iid='0451180410', r_ui=3.0, est=4.292606822181075, details={'was_impossible': False}),\n",
       " Prediction(uid='A1RECBDKHVOJMW', iid='0307475263', r_ui=5.0, est=4.703835331066651, details={'was_impossible': False}),\n",
       " Prediction(uid='A1RECBDKHVOJMW', iid='038077352X', r_ui=5.0, est=4.708446546523856, details={'was_impossible': False}),\n",
       " Prediction(uid='A1RECBDKHVOJMW', iid='0441715923', r_ui=4.0, est=4.671673058129486, details={'was_impossible': False}),\n",
       " Prediction(uid='A1RECBDKHVOJMW', iid='0312368461', r_ui=4.0, est=4.2724725601800735, details={'was_impossible': False}),\n",
       " Prediction(uid='A1RECBDKHVOJMW', iid='0195331079', r_ui=5.0, est=4.402549098994558, details={'was_impossible': False}),\n",
       " Prediction(uid='A1RECBDKHVOJMW', iid='0439064864', r_ui=5.0, est=4.686116689565004, details={'was_impossible': False}),\n",
       " Prediction(uid='A1RECBDKHVOJMW', iid='0515140872', r_ui=3.0, est=3.2304555856646373, details={'was_impossible': False}),\n",
       " Prediction(uid='A1RECBDKHVOJMW', iid='0316010677', r_ui=4.0, est=4.031373557635929, details={'was_impossible': False}),\n",
       " Prediction(uid='A1RECBDKHVOJMW', iid='0156030357', r_ui=5.0, est=4.422164974539033, details={'was_impossible': False}),\n",
       " Prediction(uid='A1RECBDKHVOJMW', iid='0385302320', r_ui=4.0, est=4.625208667264423, details={'was_impossible': False}),\n",
       " Prediction(uid='A1RECBDKHVOJMW', iid='0399151575', r_ui=5.0, est=4.368153962672834, details={'was_impossible': False}),\n",
       " Prediction(uid='A1RECBDKHVOJMW', iid='0062019511', r_ui=3.0, est=4.010235983816445, details={'was_impossible': False}),\n",
       " Prediction(uid='A1RECBDKHVOJMW', iid='0151010196', r_ui=5.0, est=4.5540322830392705, details={'was_impossible': False}),\n",
       " Prediction(uid='A1RECBDKHVOJMW', iid='0399160582', r_ui=5.0, est=4.09284549975084, details={'was_impossible': False}),\n",
       " Prediction(uid='A1RECBDKHVOJMW', iid='0385335318', r_ui=4.0, est=4.222448908392304, details={'was_impossible': False}),\n",
       " Prediction(uid='A1RECBDKHVOJMW', iid='0060724226', r_ui=4.0, est=4.208480227936625, details={'was_impossible': False}),\n",
       " Prediction(uid='A1RECBDKHVOJMW', iid='037542217X', r_ui=5.0, est=4.47858092721441, details={'was_impossible': False}),\n",
       " Prediction(uid='A1RECBDKHVOJMW', iid='0515136824', r_ui=4.0, est=3.938624913732673, details={'was_impossible': False}),\n",
       " Prediction(uid='A1RECBDKHVOJMW', iid='0451454243', r_ui=4.0, est=4.062389082670004, details={'was_impossible': False}),\n",
       " Prediction(uid='A1RECBDKHVOJMW', iid='0156421178', r_ui=5.0, est=4.732553204647676, details={'was_impossible': False}),\n",
       " Prediction(uid='A1RECBDKHVOJMW', iid='051513287X', r_ui=2.0, est=4.150047142239374, details={'was_impossible': False}),\n",
       " Prediction(uid='A1RECBDKHVOJMW', iid='0452270642', r_ui=5.0, est=4.162967963563889, details={'was_impossible': False}),\n",
       " Prediction(uid='A1RECBDKHVOJMW', iid='0307277674', r_ui=5.0, est=4.071779602172449, details={'was_impossible': False}),\n",
       " Prediction(uid='A1RECBDKHVOJMW', iid='038073267X', r_ui=5.0, est=4.239107334548351, details={'was_impossible': False}),\n",
       " Prediction(uid='A1RECBDKHVOJMW', iid='034538072X', r_ui=5.0, est=4.888106501183388, details={'was_impossible': False}),\n",
       " Prediction(uid='A1RECBDKHVOJMW', iid='0060742887', r_ui=4.0, est=4.30062228731126, details={'was_impossible': False}),\n",
       " Prediction(uid='A1RECBDKHVOJMW', iid='0385660065', r_ui=5.0, est=4.687538611907958, details={'was_impossible': False}),\n",
       " Prediction(uid='A1RECBDKHVOJMW', iid='0099911701', r_ui=5.0, est=4.573919788971457, details={'was_impossible': False}),\n",
       " Prediction(uid='A1RECBDKHVOJMW', iid='0060598824', r_ui=4.0, est=3.901340296044869, details={'was_impossible': False}),\n",
       " Prediction(uid='A1RECBDKHVOJMW', iid='0440241049', r_ui=4.0, est=3.9183684614559944, details={'was_impossible': False}),\n",
       " Prediction(uid='A1RECBDKHVOJMW', iid='0140177620', r_ui=3.0, est=4.096770188010423, details={'was_impossible': False}),\n",
       " Prediction(uid='A1RECBDKHVOJMW', iid='042513301X', r_ui=4.0, est=3.9374072732003254, details={'was_impossible': False}),\n",
       " Prediction(uid='A1RECBDKHVOJMW', iid='0061791768', r_ui=5.0, est=4.367129467651514, details={'was_impossible': False}),\n",
       " Prediction(uid='A1RECBDKHVOJMW', iid='0345452577', r_ui=5.0, est=3.8059873957410217, details={'was_impossible': False}),\n",
       " Prediction(uid='A1RECBDKHVOJMW', iid='0345423429', r_ui=4.0, est=4.134243076908942, details={'was_impossible': False}),\n",
       " Prediction(uid='A1RECBDKHVOJMW', iid='0307387992', r_ui=4.0, est=4.245406213392571, details={'was_impossible': False}),\n",
       " Prediction(uid='A1RECBDKHVOJMW', iid='452287081', r_ui=5.0, est=4.002602359102099, details={'was_impossible': False}),\n",
       " Prediction(uid='A1RECBDKHVOJMW', iid='0465016901', r_ui=5.0, est=4.354596539144161, details={'was_impossible': False}),\n",
       " Prediction(uid='A1RECBDKHVOJMW', iid='0452283485', r_ui=5.0, est=4.3719255946460285, details={'was_impossible': False}),\n",
       " Prediction(uid='A1RECBDKHVOJMW', iid='0062019430', r_ui=5.0, est=4.146845748957521, details={'was_impossible': False}),\n",
       " Prediction(uid='A1RECBDKHVOJMW', iid='0061999245', r_ui=4.0, est=4.276777595632988, details={'was_impossible': False}),\n",
       " Prediction(uid='A1RECBDKHVOJMW', iid='0141439688', r_ui=5.0, est=4.4250590502161415, details={'was_impossible': False}),\n",
       " Prediction(uid='A1RECBDKHVOJMW', iid='0425196844', r_ui=5.0, est=4.452885101817627, details={'was_impossible': False}),\n",
       " Prediction(uid='A1RECBDKHVOJMW', iid='0385516169', r_ui=5.0, est=4.408190565097634, details={'was_impossible': False}),\n",
       " Prediction(uid='A1RECBDKHVOJMW', iid='0345483170', r_ui=5.0, est=4.309833328038748, details={'was_impossible': False}),\n",
       " Prediction(uid='A1RECBDKHVOJMW', iid='0451529014', r_ui=5.0, est=4.441092068588035, details={'was_impossible': False}),\n",
       " Prediction(uid='A1RECBDKHVOJMW', iid='0312382456', r_ui=5.0, est=4.673786897168675, details={'was_impossible': False}),\n",
       " Prediction(uid='A1RECBDKHVOJMW', iid='0515132020', r_ui=4.0, est=4.330333961424033, details={'was_impossible': False}),\n",
       " Prediction(uid='A1RECBDKHVOJMW', iid='0140177191', r_ui=5.0, est=4.416688094046588, details={'was_impossible': False}),\n",
       " Prediction(uid='A1RECBDKHVOJMW', iid='0441011675', r_ui=5.0, est=4.501453418953063, details={'was_impossible': False}),\n",
       " Prediction(uid='A1RECBDKHVOJMW', iid='0345505085', r_ui=3.0, est=3.9303394569024883, details={'was_impossible': False}),\n",
       " Prediction(uid='A1RECBDKHVOJMW', iid='0449149919', r_ui=4.0, est=4.000236981535053, details={'was_impossible': False}),\n",
       " Prediction(uid='A1RECBDKHVOJMW', iid='0099453924', r_ui=5.0, est=4.074645785543697, details={'was_impossible': False}),\n",
       " Prediction(uid='A1RECBDKHVOJMW', iid='0316011770', r_ui=4.0, est=3.9598650577053447, details={'was_impossible': False}),\n",
       " Prediction(uid='A1RECBDKHVOJMW', iid='0060598859', r_ui=3.0, est=3.7293311394152746, details={'was_impossible': False}),\n",
       " Prediction(uid='A1RECBDKHVOJMW', iid='0307277887', r_ui=2.0, est=4.22839539781538, details={'was_impossible': False}),\n",
       " Prediction(uid='A1RECBDKHVOJMW', iid='0060828579', r_ui=3.0, est=3.913283407227763, details={'was_impossible': False}),\n",
       " Prediction(uid='A1RECBDKHVOJMW', iid='014101587X', r_ui=5.0, est=4.42576301926148, details={'was_impossible': False}),\n",
       " Prediction(uid='A1RECBDKHVOJMW', iid='0375500901', r_ui=2.0, est=4.128136988289329, details={'was_impossible': False}),\n",
       " Prediction(uid='A1RECBDKHVOJMW', iid='0385302312', r_ui=5.0, est=4.705952101909648, details={'was_impossible': False}),\n",
       " Prediction(uid='A1RECBDKHVOJMW', iid='0375422188', r_ui=5.0, est=4.522076740736786, details={'was_impossible': False}),\n",
       " Prediction(uid='A1RECBDKHVOJMW', iid='0297817906', r_ui=5.0, est=4.59977476971264, details={'was_impossible': False}),\n",
       " Prediction(uid='A1RECBDKHVOJMW', iid='0312382464', r_ui=5.0, est=4.388752443443386, details={'was_impossible': False}),\n",
       " Prediction(uid='A1RECBDKHVOJMW', iid='0099472287', r_ui=5.0, est=4.267424872915042, details={'was_impossible': False}),\n",
       " Prediction(uid='A1RECBDKHVOJMW', iid='0385344074', r_ui=4.0, est=3.82988094391995, details={'was_impossible': False}),\n",
       " Prediction(uid='A1RECBDKHVOJMW', iid='0312179405', r_ui=4.0, est=4.06879755489581, details={'was_impossible': False}),\n",
       " Prediction(uid='A1RECBDKHVOJMW', iid='006114844X', r_ui=5.0, est=4.4057860667596005, details={'was_impossible': False}),\n",
       " Prediction(uid='A1RECBDKHVOJMW', iid='0345335511', r_ui=4.0, est=4.127365610158718, details={'was_impossible': False}),\n",
       " Prediction(uid='A1RECBDKHVOJMW', iid='031236847X', r_ui=3.0, est=3.9175231189389477, details={'was_impossible': False}),\n",
       " Prediction(uid='A1RECBDKHVOJMW', iid='0380732688', r_ui=4.0, est=3.8071966134133612, details={'was_impossible': False}),\n",
       " Prediction(uid='A1RECBDKHVOJMW', iid='0345377648', r_ui=5.0, est=3.5731562981817833, details={'was_impossible': False}),\n",
       " Prediction(uid='A1RECBDKHVOJMW', iid='0307407993', r_ui=4.0, est=4.1349775893367715, details={'was_impossible': False}),\n",
       " Prediction(uid='A1RECBDKHVOJMW', iid='0060775858', r_ui=5.0, est=4.5218103918684, details={'was_impossible': False}),\n",
       " Prediction(uid='A1RECBDKHVOJMW', iid='0385533500', r_ui=4.0, est=4.082507431601021, details={'was_impossible': False}),\n",
       " Prediction(uid='A1RECBDKHVOJMW', iid='0553103334', r_ui=5.0, est=4.628877899071928, details={'was_impossible': False}),\n",
       " Prediction(uid='A1RECBDKHVOJMW', iid='0345443020', r_ui=4.0, est=4.401101177443146, details={'was_impossible': False}),\n",
       " Prediction(uid='A1RECBDKHVOJMW', iid='0007230206', r_ui=4.0, est=4.278465807124275, details={'was_impossible': False}),\n",
       " Prediction(uid='A1RECBDKHVOJMW', iid='0312378211', r_ui=5.0, est=4.492545744178957, details={'was_impossible': False}),\n",
       " Prediction(uid='A1RECBDKHVOJMW', iid='009953682X', r_ui=4.0, est=4.567750706154222, details={'was_impossible': False}),\n",
       " Prediction(uid='A1RECBDKHVOJMW', iid='0399152059', r_ui=4.0, est=4.393180226828689, details={'was_impossible': False}),\n",
       " Prediction(uid='A1RECBDKHVOJMW', iid='0451456726', r_ui=5.0, est=4.427203254439563, details={'was_impossible': False}),\n",
       " Prediction(uid='A1RECBDKHVOJMW', iid='0553588044', r_ui=5.0, est=4.3637094725811005, details={'was_impossible': False}),\n",
       " Prediction(uid='A1RECBDKHVOJMW', iid='0399151435', r_ui=5.0, est=4.318441627423858, details={'was_impossible': False}),\n",
       " Prediction(uid='A1RECBDKHVOJMW', iid='0441006841', r_ui=5.0, est=4.129893235294107, details={'was_impossible': False}),\n",
       " Prediction(uid='A1RECBDKHVOJMW', iid='0385520077', r_ui=4.0, est=4.071219992752782, details={'was_impossible': False}),\n",
       " Prediction(uid='A1RECBDKHVOJMW', iid='0345423399', r_ui=4.0, est=4.091146215246674, details={'was_impossible': False}),\n",
       " Prediction(uid='A1RECBDKHVOJMW', iid='0060838639', r_ui=4.0, est=4.186217174260332, details={'was_impossible': False}),\n",
       " Prediction(uid='A1RECBDKHVOJMW', iid='0140188282', r_ui=5.0, est=4.304962408712716, details={'was_impossible': False}),\n",
       " Prediction(uid='A1RECBDKHVOJMW', iid='0307336689', r_ui=5.0, est=4.038406583389012, details={'was_impossible': False}),\n",
       " Prediction(uid='A1RECBDKHVOJMW', iid='031242941X', r_ui=3.0, est=4.230799802117195, details={'was_impossible': False}),\n",
       " Prediction(uid='A1RECBDKHVOJMW', iid='0061561622', r_ui=4.0, est=4.367670211622874, details={'was_impossible': False}),\n",
       " Prediction(uid='A1RECBDKHVOJMW', iid='0385528701', r_ui=5.0, est=4.322927342962864, details={'was_impossible': False}),\n",
       " Prediction(uid='A1RECBDKHVOJMW', iid='0140433880', r_ui=4.0, est=4.769667106552859, details={'was_impossible': False}),\n",
       " Prediction(uid='A1RECBDKHVOJMW', iid='0425188361', r_ui=5.0, est=3.76790861451251, details={'was_impossible': False}),\n",
       " Prediction(uid='A1RECBDKHVOJMW', iid='0375508546', r_ui=4.0, est=4.306434692095076, details={'was_impossible': False}),\n",
       " Prediction(uid='A1RECBDKHVOJMW', iid='0141439629', r_ui=5.0, est=4.6459197603585585, details={'was_impossible': False}),\n",
       " Prediction(uid='A1RECBDKHVOJMW', iid='0399148817', r_ui=3.0, est=4.070226366335152, details={'was_impossible': False}),\n",
       " Prediction(uid='A1RECBDKHVOJMW', iid='0345456521', r_ui=3.0, est=3.991931064370543, details={'was_impossible': False}),\n",
       " Prediction(uid='A1RECBDKHVOJMW', iid='0061733636', r_ui=4.0, est=4.341696544544116, details={'was_impossible': False}),\n",
       " Prediction(uid='A1RECBDKHVOJMW', iid='0152017682', r_ui=5.0, est=4.310342972456367, details={'was_impossible': False}),\n",
       " Prediction(uid='A1RECBDKHVOJMW', iid='0385311400', r_ui=5.0, est=4.533652367711623, details={'was_impossible': False}),\n",
       " Prediction(uid='A1RECBDKHVOJMW', iid='0312368488', r_ui=3.0, est=4.039209428201632, details={'was_impossible': False}),\n",
       " Prediction(uid='A1RECBDKHVOJMW', iid='0356500276', r_ui=4.0, est=4.250052560867356, details={'was_impossible': False}),\n",
       " Prediction(uid='A1RECBDKHVOJMW', iid='0425192008', r_ui=4.0, est=4.345894395449785, details={'was_impossible': False}),\n",
       " Prediction(uid='A1RECBDKHVOJMW', iid='039915258X', r_ui=5.0, est=3.8825358742345446, details={'was_impossible': False}),\n",
       " Prediction(uid='A1RECBDKHVOJMW', iid='0141188014', r_ui=5.0, est=4.666520526390171, details={'was_impossible': False}),\n",
       " Prediction(uid='A1RECBDKHVOJMW', iid='0142800384', r_ui=5.0, est=4.576724482303118, details={'was_impossible': False}),\n",
       " Prediction(uid='A1RECBDKHVOJMW', iid='0312360401', r_ui=5.0, est=4.395181176044739, details={'was_impossible': False}),\n",
       " ...]"
      ]
     },
     "execution_count": 36,
     "metadata": {},
     "output_type": "execute_result"
    }
   ],
   "source": [
    "predictions_full_train"
   ]
  },
  {
   "cell_type": "markdown",
   "metadata": {},
   "source": [
    "## Getting top N recommendations"
   ]
  },
  {
   "cell_type": "markdown",
   "metadata": {},
   "source": []
  },
  {
   "cell_type": "markdown",
   "metadata": {},
   "source": [
    "## Getting an example working"
   ]
  },
  {
   "cell_type": "code",
   "execution_count": null,
   "metadata": {},
   "outputs": [],
   "source": []
  },
  {
   "cell_type": "markdown",
   "metadata": {
    "heading_collapsed": true
   },
   "source": [
    "## Cross Validating all files to check which one results the best mse score"
   ]
  },
  {
   "cell_type": "code",
   "execution_count": 46,
   "metadata": {
    "ExecuteTime": {
     "end_time": "2020-05-13T21:07:25.310713Z",
     "start_time": "2020-05-13T21:07:13.397088Z"
    },
    "hidden": true,
    "scrolled": false
   },
   "outputs": [
    {
     "name": "stdout",
     "output_type": "stream",
     "text": [
      "Estimating biases using sgd...\n",
      "Estimating biases using sgd...\n",
      "Estimating biases using sgd...\n"
     ]
    }
   ],
   "source": [
    "algo = BaselineOnly(bsl_options=bsl_options)\n",
    "results = cross_validate(algo, data, measures=['rmse', 'mae'], cv=3, verbose=False)"
   ]
  },
  {
   "cell_type": "code",
   "execution_count": 57,
   "metadata": {
    "ExecuteTime": {
     "end_time": "2020-05-13T21:09:51.430891Z",
     "start_time": "2020-05-13T21:09:51.419526Z"
    },
    "hidden": true,
    "scrolled": false
   },
   "outputs": [
    {
     "data": {
      "text/plain": [
       "fit_time     2.109601\n",
       "test_mae     0.659034\n",
       "test_rmse    0.853200\n",
       "test_time    1.028923\n",
       "dtype: float64"
      ]
     },
     "execution_count": 57,
     "metadata": {},
     "output_type": "execute_result"
    }
   ],
   "source": [
    "temp = pd.DataFrame.from_dict(results).mean(axis=0)\n",
    "temp"
   ]
  },
  {
   "cell_type": "code",
   "execution_count": 64,
   "metadata": {
    "ExecuteTime": {
     "end_time": "2020-05-13T21:11:47.290894Z",
     "start_time": "2020-05-13T21:11:47.279106Z"
    },
    "hidden": true
   },
   "outputs": [
    {
     "data": {
      "text/plain": [
       "fit_time           2.1096\n",
       "test_mae         0.659034\n",
       "test_rmse          0.8532\n",
       "test_time         1.02892\n",
       "Algorithm    BaselineOnly\n",
       "dtype: object"
      ]
     },
     "execution_count": 64,
     "metadata": {},
     "output_type": "execute_result"
    }
   ],
   "source": [
    "temp.append(pd.Series([str(algo).split(' ')[0].split('.')[-1]], index = ['Algorithm']))"
   ]
  },
  {
   "cell_type": "code",
   "execution_count": 51,
   "metadata": {
    "ExecuteTime": {
     "end_time": "2020-05-13T21:08:51.273279Z",
     "start_time": "2020-05-13T21:08:51.259629Z"
    },
    "hidden": true,
    "scrolled": false
   },
   "outputs": [
    {
     "data": {
      "text/plain": [
       "0    BaselineOnly\n",
       "dtype: object"
      ]
     },
     "execution_count": 51,
     "metadata": {},
     "output_type": "execute_result"
    }
   ],
   "source": [
    "pd.Series([str(algo).split(' ')[0].split('.')[-1]])"
   ]
  },
  {
   "cell_type": "code",
   "execution_count": null,
   "metadata": {
    "hidden": true
   },
   "outputs": [],
   "source": [
    "benchmark = []\n",
    " \n",
    "for algorithm in [SVD(), SVDpp(), SlopeOne(), NMF(), NormalPredictor(), KNNBaseline(), KNNBasic(), KNNWithMeans(), \n",
    "                  KNNWithZScore(), BaselineOnly(), CoClustering()]:\n",
    "    results = cross_validate(algorithm, data, measures=['RMSE', 'MAE'], cv=3, verbose=True)\n",
    "    tmp = pd.DataFrame.from_dict(results).mean(axis=0)\n",
    "    tmp = tmp.append(pd.Series([str(algorithm).split(' ')[0].split('.')[-1]], index=['Algorithm']))\n",
    "    benchmark.append(tmp)\n",
    "\n",
    "final_results = pd.DataFrame(benchmark).set_index('Algorithm').sort_values('test_rmse')\n",
    "final_results"
   ]
  },
  {
   "cell_type": "code",
   "execution_count": 69,
   "metadata": {
    "ExecuteTime": {
     "end_time": "2020-05-13T22:28:01.989379Z",
     "start_time": "2020-05-13T22:28:01.979601Z"
    },
    "hidden": true
   },
   "outputs": [],
   "source": [
    "results = pd.read_csv('/Volumes/external/Sangeetha-Project/results_cv_recommnder.csv', index_col=0)"
   ]
  },
  {
   "cell_type": "code",
   "execution_count": 70,
   "metadata": {
    "ExecuteTime": {
     "end_time": "2020-05-13T22:28:03.039759Z",
     "start_time": "2020-05-13T22:28:03.020435Z"
    },
    "hidden": true
   },
   "outputs": [
    {
     "data": {
      "text/html": [
       "<div>\n",
       "<style scoped>\n",
       "    .dataframe tbody tr th:only-of-type {\n",
       "        vertical-align: middle;\n",
       "    }\n",
       "\n",
       "    .dataframe tbody tr th {\n",
       "        vertical-align: top;\n",
       "    }\n",
       "\n",
       "    .dataframe thead th {\n",
       "        text-align: right;\n",
       "    }\n",
       "</style>\n",
       "<table border=\"1\" class=\"dataframe\">\n",
       "  <thead>\n",
       "    <tr style=\"text-align: right;\">\n",
       "      <th></th>\n",
       "      <th>test_rmse</th>\n",
       "      <th>test_mae</th>\n",
       "      <th>fit_time</th>\n",
       "      <th>test_time</th>\n",
       "    </tr>\n",
       "    <tr>\n",
       "      <th>Algorithm</th>\n",
       "      <th></th>\n",
       "      <th></th>\n",
       "      <th></th>\n",
       "      <th></th>\n",
       "    </tr>\n",
       "  </thead>\n",
       "  <tbody>\n",
       "    <tr>\n",
       "      <th>BaselineOnly</th>\n",
       "      <td>0.855957</td>\n",
       "      <td>0.666846</td>\n",
       "      <td>1.051120</td>\n",
       "      <td>1.013781</td>\n",
       "    </tr>\n",
       "    <tr>\n",
       "      <th>SVDpp</th>\n",
       "      <td>0.859079</td>\n",
       "      <td>0.661183</td>\n",
       "      <td>353.472611</td>\n",
       "      <td>18.518866</td>\n",
       "    </tr>\n",
       "    <tr>\n",
       "      <th>SVD</th>\n",
       "      <td>0.862076</td>\n",
       "      <td>0.666452</td>\n",
       "      <td>12.785394</td>\n",
       "      <td>1.107035</td>\n",
       "    </tr>\n",
       "    <tr>\n",
       "      <th>KNNBaseline</th>\n",
       "      <td>0.868869</td>\n",
       "      <td>0.666314</td>\n",
       "      <td>1.774138</td>\n",
       "      <td>7.893475</td>\n",
       "    </tr>\n",
       "    <tr>\n",
       "      <th>KNNWithMeans</th>\n",
       "      <td>0.871516</td>\n",
       "      <td>0.666048</td>\n",
       "      <td>0.896398</td>\n",
       "      <td>7.516442</td>\n",
       "    </tr>\n",
       "    <tr>\n",
       "      <th>KNNWithZScore</th>\n",
       "      <td>0.875444</td>\n",
       "      <td>0.665424</td>\n",
       "      <td>1.186114</td>\n",
       "      <td>7.462321</td>\n",
       "    </tr>\n",
       "    <tr>\n",
       "      <th>CoClustering</th>\n",
       "      <td>0.891596</td>\n",
       "      <td>0.681144</td>\n",
       "      <td>6.491434</td>\n",
       "      <td>1.251335</td>\n",
       "    </tr>\n",
       "    <tr>\n",
       "      <th>SlopeOne</th>\n",
       "      <td>0.891981</td>\n",
       "      <td>0.682352</td>\n",
       "      <td>7.632689</td>\n",
       "      <td>13.265806</td>\n",
       "    </tr>\n",
       "    <tr>\n",
       "      <th>NMF</th>\n",
       "      <td>0.924378</td>\n",
       "      <td>0.716844</td>\n",
       "      <td>17.285174</td>\n",
       "      <td>0.939333</td>\n",
       "    </tr>\n",
       "    <tr>\n",
       "      <th>KNNBasic</th>\n",
       "      <td>0.944350</td>\n",
       "      <td>0.735248</td>\n",
       "      <td>0.768897</td>\n",
       "      <td>5.848725</td>\n",
       "    </tr>\n",
       "    <tr>\n",
       "      <th>NormalPredictor</th>\n",
       "      <td>1.297754</td>\n",
       "      <td>1.011149</td>\n",
       "      <td>0.389498</td>\n",
       "      <td>0.984453</td>\n",
       "    </tr>\n",
       "  </tbody>\n",
       "</table>\n",
       "</div>"
      ],
      "text/plain": [
       "                 test_rmse  test_mae    fit_time  test_time\n",
       "Algorithm                                                  \n",
       "BaselineOnly      0.855957  0.666846    1.051120   1.013781\n",
       "SVDpp             0.859079  0.661183  353.472611  18.518866\n",
       "SVD               0.862076  0.666452   12.785394   1.107035\n",
       "KNNBaseline       0.868869  0.666314    1.774138   7.893475\n",
       "KNNWithMeans      0.871516  0.666048    0.896398   7.516442\n",
       "KNNWithZScore     0.875444  0.665424    1.186114   7.462321\n",
       "CoClustering      0.891596  0.681144    6.491434   1.251335\n",
       "SlopeOne          0.891981  0.682352    7.632689  13.265806\n",
       "NMF               0.924378  0.716844   17.285174   0.939333\n",
       "KNNBasic          0.944350  0.735248    0.768897   5.848725\n",
       "NormalPredictor   1.297754  1.011149    0.389498   0.984453"
      ]
     },
     "execution_count": 70,
     "metadata": {},
     "output_type": "execute_result"
    }
   ],
   "source": [
    "results"
   ]
  },
  {
   "cell_type": "markdown",
   "metadata": {
    "hidden": true
   },
   "source": [
    "I used this method to quickly obtain the top 4 algos that I should focus on. Using these four algos, I gridsearched them but spliting them into train and test set of split size 0.9 and 0.1."
   ]
  }
 ],
 "metadata": {
  "kernelspec": {
   "display_name": "Python 3",
   "language": "python",
   "name": "python3"
  },
  "language_info": {
   "codemirror_mode": {
    "name": "ipython",
    "version": 3
   },
   "file_extension": ".py",
   "mimetype": "text/x-python",
   "name": "python",
   "nbconvert_exporter": "python",
   "pygments_lexer": "ipython3",
   "version": "3.7.4"
  },
  "toc": {
   "base_numbering": 1,
   "nav_menu": {},
   "number_sections": true,
   "sideBar": true,
   "skip_h1_title": false,
   "title_cell": "Table of Contents",
   "title_sidebar": "Contents",
   "toc_cell": false,
   "toc_position": {},
   "toc_section_display": true,
   "toc_window_display": false
  },
  "varInspector": {
   "cols": {
    "lenName": 16,
    "lenType": 16,
    "lenVar": 40
   },
   "kernels_config": {
    "python": {
     "delete_cmd_postfix": "",
     "delete_cmd_prefix": "del ",
     "library": "var_list.py",
     "varRefreshCmd": "print(var_dic_list())"
    },
    "r": {
     "delete_cmd_postfix": ") ",
     "delete_cmd_prefix": "rm(",
     "library": "var_list.r",
     "varRefreshCmd": "cat(var_dic_list()) "
    }
   },
   "types_to_exclude": [
    "module",
    "function",
    "builtin_function_or_method",
    "instance",
    "_Feature"
   ],
   "window_display": false
  }
 },
 "nbformat": 4,
 "nbformat_minor": 2
}
