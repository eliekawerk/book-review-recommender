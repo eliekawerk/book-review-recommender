{
 "cells": [
  {
   "cell_type": "code",
   "execution_count": 5,
   "metadata": {
    "ExecuteTime": {
     "end_time": "2020-06-03T11:32:29.607315Z",
     "start_time": "2020-06-03T11:32:28.113471Z"
    }
   },
   "outputs": [],
   "source": [
    "import random\n",
    "import pandas as pd\n",
    "import numpy as np\n",
    "import seaborn as sns\n",
    "import matplotlib.pyplot as plt\n",
    "from datetime import datetime\n",
    "from collections import defaultdict\n",
    "\n",
    "\n",
    "plt.style.use('ggplot')"
   ]
  },
  {
   "cell_type": "markdown",
   "metadata": {},
   "source": [
    "## EDA on the book review dataset"
   ]
  },
  {
   "cell_type": "code",
   "execution_count": 13,
   "metadata": {
    "ExecuteTime": {
     "end_time": "2020-06-03T11:39:43.006552Z",
     "start_time": "2020-06-03T11:39:42.337560Z"
    },
    "scrolled": true
   },
   "outputs": [],
   "source": [
    "df = pd.read_csv(\n",
    "    '/../../../../df_sub.csv.gz', compression='gzip').astype(\n",
    "    {'rating':'int8', 'total_votes': 'int32'})"
   ]
  },
  {
   "cell_type": "code",
   "execution_count": 14,
   "metadata": {
    "ExecuteTime": {
     "end_time": "2020-06-03T11:39:43.434024Z",
     "start_time": "2020-06-03T11:39:43.419360Z"
    },
    "scrolled": true
   },
   "outputs": [
    {
     "data": {
      "text/html": [
       "<div>\n",
       "<style scoped>\n",
       "    .dataframe tbody tr th:only-of-type {\n",
       "        vertical-align: middle;\n",
       "    }\n",
       "\n",
       "    .dataframe tbody tr th {\n",
       "        vertical-align: top;\n",
       "    }\n",
       "\n",
       "    .dataframe thead th {\n",
       "        text-align: right;\n",
       "    }\n",
       "</style>\n",
       "<table border=\"1\" class=\"dataframe\">\n",
       "  <thead>\n",
       "    <tr style=\"text-align: right;\">\n",
       "      <th></th>\n",
       "      <th>reviewerId</th>\n",
       "      <th>asin</th>\n",
       "      <th>rating</th>\n",
       "      <th>summary</th>\n",
       "      <th>total_votes</th>\n",
       "    </tr>\n",
       "  </thead>\n",
       "  <tbody>\n",
       "    <tr>\n",
       "      <td>0</td>\n",
       "      <td>A2S166WSCFIFP5</td>\n",
       "      <td>000100039X</td>\n",
       "      <td>5</td>\n",
       "      <td>close to god</td>\n",
       "      <td>2</td>\n",
       "    </tr>\n",
       "    <tr>\n",
       "      <td>1</td>\n",
       "      <td>AWLFVCT9128JV</td>\n",
       "      <td>000100039X</td>\n",
       "      <td>5</td>\n",
       "      <td>The Lessons Of Life</td>\n",
       "      <td>10</td>\n",
       "    </tr>\n",
       "    <tr>\n",
       "      <td>2</td>\n",
       "      <td>A2NHD7LUXVGTD3</td>\n",
       "      <td>000100039X</td>\n",
       "      <td>5</td>\n",
       "      <td>a beautiful poetic commentary on what it is to...</td>\n",
       "      <td>1</td>\n",
       "    </tr>\n",
       "    <tr>\n",
       "      <td>3</td>\n",
       "      <td>A1K1JW1C5CUSUZ</td>\n",
       "      <td>000100039X</td>\n",
       "      <td>5</td>\n",
       "      <td>Transcend Human Subjectivity to Find Godlike O...</td>\n",
       "      <td>4</td>\n",
       "    </tr>\n",
       "    <tr>\n",
       "      <td>4</td>\n",
       "      <td>A38AAPXSJN4C5G</td>\n",
       "      <td>000100039X</td>\n",
       "      <td>5</td>\n",
       "      <td>Inspired and Inspiring</td>\n",
       "      <td>0</td>\n",
       "    </tr>\n",
       "  </tbody>\n",
       "</table>\n",
       "</div>"
      ],
      "text/plain": [
       "       reviewerId        asin  rating  \\\n",
       "0  A2S166WSCFIFP5  000100039X       5   \n",
       "1   AWLFVCT9128JV  000100039X       5   \n",
       "2  A2NHD7LUXVGTD3  000100039X       5   \n",
       "3  A1K1JW1C5CUSUZ  000100039X       5   \n",
       "4  A38AAPXSJN4C5G  000100039X       5   \n",
       "\n",
       "                                             summary  total_votes  \n",
       "0                                       close to god            2  \n",
       "1                                The Lessons Of Life           10  \n",
       "2  a beautiful poetic commentary on what it is to...            1  \n",
       "3  Transcend Human Subjectivity to Find Godlike O...            4  \n",
       "4                             Inspired and Inspiring            0  "
      ]
     },
     "execution_count": 14,
     "metadata": {},
     "output_type": "execute_result"
    }
   ],
   "source": [
    "df.head()"
   ]
  },
  {
   "cell_type": "code",
   "execution_count": 15,
   "metadata": {
    "ExecuteTime": {
     "end_time": "2020-06-03T11:39:43.902887Z",
     "start_time": "2020-06-03T11:39:43.842450Z"
    },
    "scrolled": false
   },
   "outputs": [
    {
     "name": "stdout",
     "output_type": "stream",
     "text": [
      "<class 'pandas.core.frame.DataFrame'>\n",
      "RangeIndex: 273661 entries, 0 to 273660\n",
      "Data columns (total 5 columns):\n",
      "reviewerId     273661 non-null object\n",
      "asin           273661 non-null object\n",
      "rating         273661 non-null int8\n",
      "summary        273661 non-null object\n",
      "total_votes    273661 non-null int32\n",
      "dtypes: int32(1), int8(1), object(3)\n",
      "memory usage: 7.6+ MB\n"
     ]
    }
   ],
   "source": [
    "df.info()"
   ]
  },
  {
   "cell_type": "code",
   "execution_count": 16,
   "metadata": {
    "ExecuteTime": {
     "end_time": "2020-06-03T11:39:45.599722Z",
     "start_time": "2020-06-03T11:39:45.099188Z"
    }
   },
   "outputs": [
    {
     "data": {
      "text/html": [
       "<div>\n",
       "<style scoped>\n",
       "    .dataframe tbody tr th:only-of-type {\n",
       "        vertical-align: middle;\n",
       "    }\n",
       "\n",
       "    .dataframe tbody tr th {\n",
       "        vertical-align: top;\n",
       "    }\n",
       "\n",
       "    .dataframe thead th {\n",
       "        text-align: right;\n",
       "    }\n",
       "</style>\n",
       "<table border=\"1\" class=\"dataframe\">\n",
       "  <thead>\n",
       "    <tr style=\"text-align: right;\">\n",
       "      <th></th>\n",
       "      <th>reviewerId</th>\n",
       "      <th>asin</th>\n",
       "      <th>rating</th>\n",
       "      <th>summary</th>\n",
       "      <th>total_votes</th>\n",
       "    </tr>\n",
       "  </thead>\n",
       "  <tbody>\n",
       "    <tr>\n",
       "      <td>count</td>\n",
       "      <td>273661</td>\n",
       "      <td>273661</td>\n",
       "      <td>273661.000000</td>\n",
       "      <td>273661</td>\n",
       "      <td>273661.000000</td>\n",
       "    </tr>\n",
       "    <tr>\n",
       "      <td>unique</td>\n",
       "      <td>2647</td>\n",
       "      <td>10982</td>\n",
       "      <td>NaN</td>\n",
       "      <td>242483</td>\n",
       "      <td>NaN</td>\n",
       "    </tr>\n",
       "    <tr>\n",
       "      <td>top</td>\n",
       "      <td>AFVQZQ8PW0L</td>\n",
       "      <td>0439023483</td>\n",
       "      <td>NaN</td>\n",
       "      <td>Courtesy of Teens Read Too</td>\n",
       "      <td>NaN</td>\n",
       "    </tr>\n",
       "    <tr>\n",
       "      <td>freq</td>\n",
       "      <td>3108</td>\n",
       "      <td>478</td>\n",
       "      <td>NaN</td>\n",
       "      <td>341</td>\n",
       "      <td>NaN</td>\n",
       "    </tr>\n",
       "    <tr>\n",
       "      <td>mean</td>\n",
       "      <td>NaN</td>\n",
       "      <td>NaN</td>\n",
       "      <td>4.089158</td>\n",
       "      <td>NaN</td>\n",
       "      <td>7.690533</td>\n",
       "    </tr>\n",
       "    <tr>\n",
       "      <td>std</td>\n",
       "      <td>NaN</td>\n",
       "      <td>NaN</td>\n",
       "      <td>0.986875</td>\n",
       "      <td>NaN</td>\n",
       "      <td>41.105538</td>\n",
       "    </tr>\n",
       "    <tr>\n",
       "      <td>min</td>\n",
       "      <td>NaN</td>\n",
       "      <td>NaN</td>\n",
       "      <td>1.000000</td>\n",
       "      <td>NaN</td>\n",
       "      <td>0.000000</td>\n",
       "    </tr>\n",
       "    <tr>\n",
       "      <td>25%</td>\n",
       "      <td>NaN</td>\n",
       "      <td>NaN</td>\n",
       "      <td>4.000000</td>\n",
       "      <td>NaN</td>\n",
       "      <td>0.000000</td>\n",
       "    </tr>\n",
       "    <tr>\n",
       "      <td>50%</td>\n",
       "      <td>NaN</td>\n",
       "      <td>NaN</td>\n",
       "      <td>4.000000</td>\n",
       "      <td>NaN</td>\n",
       "      <td>2.000000</td>\n",
       "    </tr>\n",
       "    <tr>\n",
       "      <td>75%</td>\n",
       "      <td>NaN</td>\n",
       "      <td>NaN</td>\n",
       "      <td>5.000000</td>\n",
       "      <td>NaN</td>\n",
       "      <td>5.000000</td>\n",
       "    </tr>\n",
       "    <tr>\n",
       "      <td>max</td>\n",
       "      <td>NaN</td>\n",
       "      <td>NaN</td>\n",
       "      <td>5.000000</td>\n",
       "      <td>NaN</td>\n",
       "      <td>5302.000000</td>\n",
       "    </tr>\n",
       "  </tbody>\n",
       "</table>\n",
       "</div>"
      ],
      "text/plain": [
       "         reviewerId        asin         rating                     summary  \\\n",
       "count        273661      273661  273661.000000                      273661   \n",
       "unique         2647       10982            NaN                      242483   \n",
       "top     AFVQZQ8PW0L  0439023483            NaN  Courtesy of Teens Read Too   \n",
       "freq           3108         478            NaN                         341   \n",
       "mean            NaN         NaN       4.089158                         NaN   \n",
       "std             NaN         NaN       0.986875                         NaN   \n",
       "min             NaN         NaN       1.000000                         NaN   \n",
       "25%             NaN         NaN       4.000000                         NaN   \n",
       "50%             NaN         NaN       4.000000                         NaN   \n",
       "75%             NaN         NaN       5.000000                         NaN   \n",
       "max             NaN         NaN       5.000000                         NaN   \n",
       "\n",
       "          total_votes  \n",
       "count   273661.000000  \n",
       "unique            NaN  \n",
       "top               NaN  \n",
       "freq              NaN  \n",
       "mean         7.690533  \n",
       "std         41.105538  \n",
       "min          0.000000  \n",
       "25%          0.000000  \n",
       "50%          2.000000  \n",
       "75%          5.000000  \n",
       "max       5302.000000  "
      ]
     },
     "execution_count": 16,
     "metadata": {},
     "output_type": "execute_result"
    }
   ],
   "source": [
    "df.describe(include='all')"
   ]
  },
  {
   "cell_type": "markdown",
   "metadata": {},
   "source": [
    "### Plotting the distribution of ratings & votes"
   ]
  },
  {
   "cell_type": "markdown",
   "metadata": {},
   "source": [
    "The ratings are quite skewed towards higher ratings (4/5) which would make harder to distinguish user preferences and potentially make it harder to calculate accurate user similarities."
   ]
  },
  {
   "cell_type": "code",
   "execution_count": 27,
   "metadata": {
    "ExecuteTime": {
     "end_time": "2020-06-01T10:06:50.000357Z",
     "start_time": "2020-06-01T10:06:49.986007Z"
    },
    "scrolled": false
   },
   "outputs": [
    {
     "data": {
      "text/plain": [
       "5    114599\n",
       "4     95058\n",
       "3     43562\n",
       "2     14688\n",
       "1      5754\n",
       "Name: rating, dtype: int64"
      ]
     },
     "execution_count": 27,
     "metadata": {},
     "output_type": "execute_result"
    }
   ],
   "source": [
    "df.rating.value_counts()"
   ]
  },
  {
   "cell_type": "code",
   "execution_count": 85,
   "metadata": {
    "ExecuteTime": {
     "end_time": "2020-06-01T10:30:34.634284Z",
     "start_time": "2020-06-01T10:30:34.442261Z"
    },
    "scrolled": false
   },
   "outputs": [
    {
     "data": {
      "image/png": "[encoded data removed]",
      "text/plain": [
       "<Figure size 576x360 with 1 Axes>"
      ]
     },
     "metadata": {},
     "output_type": "display_data"
    }
   ],
   "source": [
    "with sns.axes_style({'xtick.color':'black', 'ytick.color':'black', 'axes.grid' : False, \n",
    "                     'xtick.top': False, 'ytick.right': False}):\n",
    "    sns.set_context(\"paper\", font_scale=1.3)\n",
    "    fig, ax = plt.subplots(figsize=(8, 5))\n",
    "    sns.barplot(x = df.rating.value_counts().index, y=df.rating.value_counts().values, palette='YlOrRd')\n",
    "    ax.set_xlabel('Ratings')\n",
    "    ax.set_ylabel('Frequency')\n",
    "    ax.set_title('Distribution of Ratings')\n",
    "    plt.show()\n",
    "    #plt.savefig(\"/../../../pic.png\", transparent=True)\n",
    "    "
   ]
  },
  {
   "cell_type": "markdown",
   "metadata": {},
   "source": [
    "Make sure to filter for helpful and total votes below 20 as there are a few outliers which massively skew the distribution and make it hard to visualise."
   ]
  },
  {
   "cell_type": "code",
   "execution_count": 51,
   "metadata": {
    "ExecuteTime": {
     "end_time": "2020-06-01T10:17:04.775641Z",
     "start_time": "2020-06-01T10:17:04.453258Z"
    }
   },
   "outputs": [
    {
     "data": {
      "image/png": "[encoded data removed]",
      "text/plain": [
       "<Figure size 720x360 with 1 Axes>"
      ]
     },
     "metadata": {},
     "output_type": "display_data"
    }
   ],
   "source": [
    "with sns.axes_style({'xtick.color':'black', 'ytick.color':'black', 'axes.grid' : False, \n",
    "                     'xtick.top': False, 'ytick.right': False}):\n",
    "    sns.set_context(\"paper\", font_scale=1.3)\n",
    "    fig, ax = plt.subplots(figsize=(10,5))\n",
    "    sns.distplot(df[df.pos_votes < 20]['pos_votes'], kde=False,\n",
    "                 hist_kws={\"rwidth\":1, 'alpha':1.0}, color = 'g')\n",
    "    ax.set_xlabel('Helpful Votes')\n",
    "    ax.set_ylabel('Frequency')\n",
    "    ax.set_title('Distribution of Helpful Votes')\n",
    "    plt.show()\n",
    "    #plt.savefig(\"/../../../pic.png\", transparent=True)\n",
    "    "
   ]
  },
  {
   "cell_type": "code",
   "execution_count": 52,
   "metadata": {
    "ExecuteTime": {
     "end_time": "2020-06-01T10:17:15.241230Z",
     "start_time": "2020-06-01T10:17:14.920453Z"
    }
   },
   "outputs": [
    {
     "data": {
      "image/png": "[encoded data removed]",
      "text/plain": [
       "<Figure size 720x360 with 1 Axes>"
      ]
     },
     "metadata": {},
     "output_type": "display_data"
    }
   ],
   "source": [
    "with sns.axes_style({'xtick.color':'black', 'ytick.color':'black', 'axes.grid' : False, \n",
    "                     'xtick.top': False, 'ytick.right': False}):\n",
    "    sns.set_context(\"paper\", font_scale=1.3)\n",
    "    fig, ax = plt.subplots(figsize=(10,5))\n",
    "    sns.distplot(df[df.total_votes < 20]['total_votes'], kde=False,\n",
    "                 hist_kws={\"rwidth\":1, 'alpha':1.0}, color='orange')\n",
    "    ax.set_xlabel('Total Votes')\n",
    "    ax.set_ylabel('Frequency')\n",
    "    ax.set_title('Distribution of Total Votes')\n",
    "    plt.show()\n",
    "    #plt.savefig(\"/../../../pic.png\", transparent=True)"
   ]
  },
  {
   "cell_type": "markdown",
   "metadata": {},
   "source": [
    "### Checking votes for rating category"
   ]
  },
  {
   "cell_type": "markdown",
   "metadata": {},
   "source": [
    "This shows that negative or lower rated reviews tend to get more attention (both in terms of likes and dislikes). This could put these reviews nearer the top which could misleading to some users on whether they might enjoy the book or not."
   ]
  },
  {
   "cell_type": "code",
   "execution_count": 53,
   "metadata": {
    "ExecuteTime": {
     "end_time": "2020-06-01T10:17:28.517335Z",
     "start_time": "2020-06-01T10:17:28.492391Z"
    },
    "scrolled": true
   },
   "outputs": [
    {
     "data": {
      "text/html": [
       "<div>\n",
       "<style scoped>\n",
       "    .dataframe tbody tr th:only-of-type {\n",
       "        vertical-align: middle;\n",
       "    }\n",
       "\n",
       "    .dataframe tbody tr th {\n",
       "        vertical-align: top;\n",
       "    }\n",
       "\n",
       "    .dataframe thead th {\n",
       "        text-align: right;\n",
       "    }\n",
       "</style>\n",
       "<table border=\"1\" class=\"dataframe\">\n",
       "  <thead>\n",
       "    <tr style=\"text-align: right;\">\n",
       "      <th></th>\n",
       "      <th>rating</th>\n",
       "      <th>total_votes</th>\n",
       "    </tr>\n",
       "  </thead>\n",
       "  <tbody>\n",
       "    <tr>\n",
       "      <td>0</td>\n",
       "      <td>1</td>\n",
       "      <td>27.055787</td>\n",
       "    </tr>\n",
       "    <tr>\n",
       "      <td>1</td>\n",
       "      <td>2</td>\n",
       "      <td>11.875885</td>\n",
       "    </tr>\n",
       "    <tr>\n",
       "      <td>2</td>\n",
       "      <td>3</td>\n",
       "      <td>7.532712</td>\n",
       "    </tr>\n",
       "    <tr>\n",
       "      <td>3</td>\n",
       "      <td>4</td>\n",
       "      <td>4.665436</td>\n",
       "    </tr>\n",
       "    <tr>\n",
       "      <td>4</td>\n",
       "      <td>5</td>\n",
       "      <td>8.751036</td>\n",
       "    </tr>\n",
       "  </tbody>\n",
       "</table>\n",
       "</div>"
      ],
      "text/plain": [
       "   rating  total_votes\n",
       "0       1    27.055787\n",
       "1       2    11.875885\n",
       "2       3     7.532712\n",
       "3       4     4.665436\n",
       "4       5     8.751036"
      ]
     },
     "execution_count": 53,
     "metadata": {},
     "output_type": "execute_result"
    }
   ],
   "source": [
    "df.groupby('rating')['total_votes'].mean().reset_index()"
   ]
  },
  {
   "cell_type": "code",
   "execution_count": 83,
   "metadata": {
    "ExecuteTime": {
     "end_time": "2020-06-01T10:30:15.839856Z",
     "start_time": "2020-06-01T10:30:15.629102Z"
    },
    "scrolled": false
   },
   "outputs": [
    {
     "data": {
      "image/png": "[encoded data removed]",
      "text/plain": [
       "<Figure size 576x360 with 1 Axes>"
      ]
     },
     "metadata": {},
     "output_type": "display_data"
    }
   ],
   "source": [
    "with sns.axes_style({'xtick.color':'black', 'ytick.color':'black', 'axes.grid' : False, \n",
    "                     'xtick.top': False, 'ytick.right': False}):\n",
    "    sns.set_context(\"paper\", font_scale=1.3)\n",
    "    fig, ax = plt.subplots(figsize=(8, 5))\n",
    "    sns.barplot(y = 'total_votes', x = 'rating', data = df.groupby('rating')['total_votes'].mean().reset_index(), \n",
    "               palette='magma', ax=ax)\n",
    "    plt.xlabel('Rating', color = 'k')\n",
    "    plt.ylabel('Avg number of total votes', color = 'k')\n",
    "    plt.title('Avg total votes per rating category')\n",
    "    #plt.tight_layout()\n",
    "    #plt.savefig(\"/../../../pic.png\", transparent = True)"
   ]
  },
  {
   "cell_type": "code",
   "execution_count": 82,
   "metadata": {
    "ExecuteTime": {
     "end_time": "2020-06-01T10:30:11.979244Z",
     "start_time": "2020-06-01T10:30:11.753584Z"
    }
   },
   "outputs": [
    {
     "data": {
      "image/png": "[encoded data removed]",
      "text/plain": [
       "<Figure size 576x360 with 1 Axes>"
      ]
     },
     "metadata": {},
     "output_type": "display_data"
    }
   ],
   "source": [
    "with sns.axes_style({'xtick.color':'black', 'ytick.color':'black', 'axes.grid' : False, \n",
    "                     'xtick.top': False, 'ytick.right': False}):\n",
    "    sns.set_context(\"paper\", font_scale=1.3)\n",
    "    fig, ax = plt.subplots(figsize=(8, 5))\n",
    "    sns.barplot(y = 'pos_votes', x = 'rating', data = df.groupby('rating')['pos_votes'].mean().reset_index(), \n",
    "               palette='Oranges_r', ax=ax)\n",
    "    plt.xlabel('Rating', color = 'k')\n",
    "    plt.ylabel('Avg number of helpful votes', color = 'k')\n",
    "    plt.title('Avg helpful votes per rating category')\n",
    "    #plt.tight_layout()\n",
    "    #plt.savefig(\"/../../../pic.png\", transparent = True)"
   ]
  },
  {
   "cell_type": "markdown",
   "metadata": {},
   "source": [
    "### Ratio of helpful votes to total votes"
   ]
  },
  {
   "cell_type": "code",
   "execution_count": 73,
   "metadata": {
    "ExecuteTime": {
     "end_time": "2020-06-01T10:23:49.523388Z",
     "start_time": "2020-06-01T10:23:49.386456Z"
    },
    "scrolled": true
   },
   "outputs": [],
   "source": [
    "#Creating the ratio columning, making sure to account for the zeros in total_votes\n",
    "df['ratio']=[x[0]/x[1] if x[1]!=0 else np.nan for x in zip(df.pos_votes, df.total_votes) ]"
   ]
  },
  {
   "cell_type": "markdown",
   "metadata": {},
   "source": [
    "Most of the reviews tend to get almost all likes and very few dislikes."
   ]
  },
  {
   "cell_type": "code",
   "execution_count": 81,
   "metadata": {
    "ExecuteTime": {
     "end_time": "2020-06-01T10:30:01.050111Z",
     "start_time": "2020-06-01T10:30:00.804901Z"
    },
    "scrolled": true
   },
   "outputs": [
    {
     "data": {
      "image/png": "[encoded data removed]",
      "text/plain": [
       "<Figure size 576x360 with 1 Axes>"
      ]
     },
     "metadata": {},
     "output_type": "display_data"
    }
   ],
   "source": [
    "with sns.axes_style({'xtick.color':'black', 'ytick.color':'black', 'axes.grid' : False}):\n",
    "    fig, ax = plt.subplots(figsize = (8,5))\n",
    "    sns.distplot(df[(~df.ratio.isnull()) & (df.ratio < 1.7)].ratio, bins = 5, kde=False, color = 'g', hist_kws={\"rwidth\":0.75,'edgecolor':'black', 'alpha':1.0})\n",
    "    plt.xlabel('Ratio', color = 'k')\n",
    "    plt.ylabel('Frequency', color = 'k')\n",
    "    plt.title('Distribution of the ratios (helpful votes to total votes)')\n",
    "    #plt.tight_layout()\n",
    "    #plt.savefig(\"/../../../pic.png\", transparent = True)"
   ]
  },
  {
   "cell_type": "markdown",
   "metadata": {},
   "source": [
    "Observing the ratio for each rating category shows very little difference across the ratings; lower ratings do have marginally worse ratios which indicates lower ratings get more dislikes."
   ]
  },
  {
   "cell_type": "code",
   "execution_count": 147,
   "metadata": {
    "ExecuteTime": {
     "end_time": "2020-06-01T11:27:00.117131Z",
     "start_time": "2020-06-01T11:26:59.892921Z"
    }
   },
   "outputs": [
    {
     "data": {
      "image/png": "[encoded data removed]",
      "text/plain": [
       "<Figure size 576x360 with 1 Axes>"
      ]
     },
     "metadata": {},
     "output_type": "display_data"
    }
   ],
   "source": [
    "with sns.axes_style({'xtick.color':'black', 'ytick.color':'black', 'axes.grid' : False}):\n",
    "    sns.set_context(\"paper\", font_scale=1.1)\n",
    "    fig, ax = plt.subplots(figsize = (8,5))\n",
    "    sns.barplot(y = 'ratio', x = 'rating', data = df.groupby('rating')['ratio'].mean().reset_index(), palette='Dark2')\n",
    "    plt.xlabel('Rating', color = 'k')\n",
    "    plt.ylabel('Avg ratio of helpful to total votes', color = 'k')\n",
    "    plt.title('Ratios across different rating categories')\n",
    "    #plt.tight_layout()\n",
    "    #plt.savefig(\"/../../../pic.png\", transparent = True)"
   ]
  },
  {
   "cell_type": "markdown",
   "metadata": {
    "ExecuteTime": {
     "end_time": "2020-05-20T12:38:23.480463Z",
     "start_time": "2020-05-20T12:38:23.374367Z"
    }
   },
   "source": [
    "### Have people gotten meaner over time?\n"
   ]
  },
  {
   "cell_type": "markdown",
   "metadata": {},
   "source": [
    "Quick analysis on how ratings have changed through the years. Note: I had to use a 4000 day rolling window as the jumps in mean ratings are quite messy and after trial and error this value seems to be optimal to smooth out the jumps."
   ]
  },
  {
   "cell_type": "code",
   "execution_count": 30,
   "metadata": {
    "ExecuteTime": {
     "end_time": "2020-06-01T10:06:58.279747Z",
     "start_time": "2020-06-01T10:06:58.248868Z"
    }
   },
   "outputs": [
    {
     "data": {
      "text/html": [
       "<div>\n",
       "<style scoped>\n",
       "    .dataframe tbody tr th:only-of-type {\n",
       "        vertical-align: middle;\n",
       "    }\n",
       "\n",
       "    .dataframe tbody tr th {\n",
       "        vertical-align: top;\n",
       "    }\n",
       "\n",
       "    .dataframe thead th {\n",
       "        text-align: right;\n",
       "    }\n",
       "</style>\n",
       "<table border=\"1\" class=\"dataframe\">\n",
       "  <thead>\n",
       "    <tr style=\"text-align: right;\">\n",
       "      <th></th>\n",
       "      <th>reviewerId</th>\n",
       "      <th>asin</th>\n",
       "      <th>rating</th>\n",
       "      <th>summary</th>\n",
       "      <th>unixtime</th>\n",
       "      <th>pos_votes</th>\n",
       "      <th>total_votes</th>\n",
       "      <th>ratio</th>\n",
       "      <th>time</th>\n",
       "    </tr>\n",
       "  </thead>\n",
       "  <tbody>\n",
       "    <tr>\n",
       "      <td>0</td>\n",
       "      <td>A2S166WSCFIFP5</td>\n",
       "      <td>000100039X</td>\n",
       "      <td>5</td>\n",
       "      <td>close to god</td>\n",
       "      <td>1071100800</td>\n",
       "      <td>0</td>\n",
       "      <td>2</td>\n",
       "      <td>0.00</td>\n",
       "      <td>2003-12-11</td>\n",
       "    </tr>\n",
       "    <tr>\n",
       "      <td>1</td>\n",
       "      <td>AWLFVCT9128JV</td>\n",
       "      <td>000100039X</td>\n",
       "      <td>5</td>\n",
       "      <td>The Lessons Of Life</td>\n",
       "      <td>1136851200</td>\n",
       "      <td>8</td>\n",
       "      <td>10</td>\n",
       "      <td>0.80</td>\n",
       "      <td>2006-01-10</td>\n",
       "    </tr>\n",
       "    <tr>\n",
       "      <td>2</td>\n",
       "      <td>A2NHD7LUXVGTD3</td>\n",
       "      <td>000100039X</td>\n",
       "      <td>5</td>\n",
       "      <td>a beautiful poetic commentary on what it is to...</td>\n",
       "      <td>1344729600</td>\n",
       "      <td>1</td>\n",
       "      <td>1</td>\n",
       "      <td>1.00</td>\n",
       "      <td>2012-08-12</td>\n",
       "    </tr>\n",
       "    <tr>\n",
       "      <td>3</td>\n",
       "      <td>A1K1JW1C5CUSUZ</td>\n",
       "      <td>000100039X</td>\n",
       "      <td>5</td>\n",
       "      <td>Transcend Human Subjectivity to Find Godlike O...</td>\n",
       "      <td>980380800</td>\n",
       "      <td>3</td>\n",
       "      <td>4</td>\n",
       "      <td>0.75</td>\n",
       "      <td>2001-01-25</td>\n",
       "    </tr>\n",
       "    <tr>\n",
       "      <td>4</td>\n",
       "      <td>A38AAPXSJN4C5G</td>\n",
       "      <td>000100039X</td>\n",
       "      <td>5</td>\n",
       "      <td>Inspired and Inspiring</td>\n",
       "      <td>1400630400</td>\n",
       "      <td>0</td>\n",
       "      <td>0</td>\n",
       "      <td>NaN</td>\n",
       "      <td>2014-05-21</td>\n",
       "    </tr>\n",
       "  </tbody>\n",
       "</table>\n",
       "</div>"
      ],
      "text/plain": [
       "       reviewerId        asin  rating  \\\n",
       "0  A2S166WSCFIFP5  000100039X       5   \n",
       "1   AWLFVCT9128JV  000100039X       5   \n",
       "2  A2NHD7LUXVGTD3  000100039X       5   \n",
       "3  A1K1JW1C5CUSUZ  000100039X       5   \n",
       "4  A38AAPXSJN4C5G  000100039X       5   \n",
       "\n",
       "                                             summary    unixtime  pos_votes  \\\n",
       "0                                       close to god  1071100800          0   \n",
       "1                                The Lessons Of Life  1136851200          8   \n",
       "2  a beautiful poetic commentary on what it is to...  1344729600          1   \n",
       "3  Transcend Human Subjectivity to Find Godlike O...   980380800          3   \n",
       "4                             Inspired and Inspiring  1400630400          0   \n",
       "\n",
       "   total_votes  ratio       time  \n",
       "0            2   0.00 2003-12-11  \n",
       "1           10   0.80 2006-01-10  \n",
       "2            1   1.00 2012-08-12  \n",
       "3            4   0.75 2001-01-25  \n",
       "4            0    NaN 2014-05-21  "
      ]
     },
     "execution_count": 30,
     "metadata": {},
     "output_type": "execute_result"
    }
   ],
   "source": [
    "df['time'] = pd.to_datetime(df['unixtime'],unit='s')\n",
    "df.head()"
   ]
  },
  {
   "cell_type": "code",
   "execution_count": 31,
   "metadata": {
    "ExecuteTime": {
     "end_time": "2020-06-01T10:07:06.958570Z",
     "start_time": "2020-06-01T10:07:06.880919Z"
    },
    "scrolled": false
   },
   "outputs": [
    {
     "data": {
      "text/html": [
       "<div>\n",
       "<style scoped>\n",
       "    .dataframe tbody tr th:only-of-type {\n",
       "        vertical-align: middle;\n",
       "    }\n",
       "\n",
       "    .dataframe tbody tr th {\n",
       "        vertical-align: top;\n",
       "    }\n",
       "\n",
       "    .dataframe thead th {\n",
       "        text-align: right;\n",
       "    }\n",
       "</style>\n",
       "<table border=\"1\" class=\"dataframe\">\n",
       "  <thead>\n",
       "    <tr style=\"text-align: right;\">\n",
       "      <th></th>\n",
       "      <th>rating</th>\n",
       "    </tr>\n",
       "  </thead>\n",
       "  <tbody>\n",
       "    <tr>\n",
       "      <td>1997-01-31</td>\n",
       "      <td>5</td>\n",
       "    </tr>\n",
       "    <tr>\n",
       "      <td>1997-03-25</td>\n",
       "      <td>1</td>\n",
       "    </tr>\n",
       "    <tr>\n",
       "      <td>1997-04-15</td>\n",
       "      <td>5</td>\n",
       "    </tr>\n",
       "    <tr>\n",
       "      <td>1997-04-21</td>\n",
       "      <td>5</td>\n",
       "    </tr>\n",
       "    <tr>\n",
       "      <td>1997-04-27</td>\n",
       "      <td>2</td>\n",
       "    </tr>\n",
       "  </tbody>\n",
       "</table>\n",
       "</div>"
      ],
      "text/plain": [
       "            rating\n",
       "1997-01-31       5\n",
       "1997-03-25       1\n",
       "1997-04-15       5\n",
       "1997-04-21       5\n",
       "1997-04-27       2"
      ]
     },
     "execution_count": 31,
     "metadata": {},
     "output_type": "execute_result"
    }
   ],
   "source": [
    "time_df = df[['time', 'rating']]\n",
    "time_df = time_df.sort_values(by='time')\n",
    "time_df.set_index('time', inplace=True, drop=True)\n",
    "time_df.index.name = None\n",
    "time_df.head()"
   ]
  },
  {
   "cell_type": "markdown",
   "metadata": {},
   "source": [
    "Interestingly, the ratings for books dropped pretty steeply in 2007-2008, around the time of the financial crash. Does this mean that economic and political climates have a massive impact of the ratings?"
   ]
  },
  {
   "cell_type": "code",
   "execution_count": 87,
   "metadata": {
    "ExecuteTime": {
     "end_time": "2020-06-01T10:32:35.739243Z",
     "start_time": "2020-06-01T10:32:35.195349Z"
    },
    "scrolled": true
   },
   "outputs": [
    {
     "data": {
      "image/png": "[encoded data removed]",
      "text/plain": [
       "<Figure size 720x360 with 1 Axes>"
      ]
     },
     "metadata": {},
     "output_type": "display_data"
    }
   ],
   "source": [
    "with sns.axes_style({'xtick.color':'black', 'ytick.color':'black', 'axes.grid' : False, \n",
    "                     'xtick.top': False, 'ytick.right': False}):\n",
    "    time_df.rolling(window=4000, center=True).mean().dropna().plot(figsize = (10,5), color = 'darkred', legend=False)\n",
    "    plt.ylabel('Avg Rating', fontsize=16)\n",
    "    plt.title('Ratings over the years')\n",
    "    #plt.tight_layout()\n",
    "    #plt.savefig(\"/../../../pic.png\", transparent = True)"
   ]
  },
  {
   "cell_type": "markdown",
   "metadata": {},
   "source": [
    "## EDA on the book metadata"
   ]
  },
  {
   "cell_type": "code",
   "execution_count": 17,
   "metadata": {
    "ExecuteTime": {
     "end_time": "2020-06-03T11:40:04.329648Z",
     "start_time": "2020-06-03T11:40:03.997854Z"
    }
   },
   "outputs": [],
   "source": [
    "meta = pd.read_csv('/../../../meta_df_sub.csv.gz', compression = 'gzip', \n",
    "                  names = ['asin', 'title', 'desc', 'price', 'categories'])"
   ]
  },
  {
   "cell_type": "code",
   "execution_count": 18,
   "metadata": {
    "ExecuteTime": {
     "end_time": "2020-06-03T11:40:04.791142Z",
     "start_time": "2020-06-03T11:40:04.774228Z"
    },
    "scrolled": true
   },
   "outputs": [
    {
     "data": {
      "text/html": [
       "<div>\n",
       "<style scoped>\n",
       "    .dataframe tbody tr th:only-of-type {\n",
       "        vertical-align: middle;\n",
       "    }\n",
       "\n",
       "    .dataframe tbody tr th {\n",
       "        vertical-align: top;\n",
       "    }\n",
       "\n",
       "    .dataframe thead th {\n",
       "        text-align: right;\n",
       "    }\n",
       "</style>\n",
       "<table border=\"1\" class=\"dataframe\">\n",
       "  <thead>\n",
       "    <tr style=\"text-align: right;\">\n",
       "      <th></th>\n",
       "      <th>asin</th>\n",
       "      <th>title</th>\n",
       "      <th>desc</th>\n",
       "      <th>price</th>\n",
       "      <th>categories</th>\n",
       "    </tr>\n",
       "  </thead>\n",
       "  <tbody>\n",
       "    <tr>\n",
       "      <td>0</td>\n",
       "      <td>000100039X</td>\n",
       "      <td>The Prophet</td>\n",
       "      <td>'Kahlil Gibran was among the most important Ar...</td>\n",
       "      <td>NaN</td>\n",
       "      <td>'Literature &amp; Fiction', 'Poetry'</td>\n",
       "    </tr>\n",
       "    <tr>\n",
       "      <td>1</td>\n",
       "      <td>0002051850</td>\n",
       "      <td>For Whom the Bell Tolls</td>\n",
       "      <td>'Shows some signs of wear, and may have some m...</td>\n",
       "      <td>17.64</td>\n",
       "      <td>'Literature &amp; Fiction', 'Classics'</td>\n",
       "    </tr>\n",
       "    <tr>\n",
       "      <td>2</td>\n",
       "      <td>0002219417</td>\n",
       "      <td>The Winds of War</td>\n",
       "      <td>'A Masterpiece of Historical Fiction-The Great...</td>\n",
       "      <td>6.65</td>\n",
       "      <td>'Literature &amp; Fiction', 'Contemporary'</td>\n",
       "    </tr>\n",
       "    <tr>\n",
       "      <td>3</td>\n",
       "      <td>0002242052</td>\n",
       "      <td>Without Remorse</td>\n",
       "      <td>'Shows some signs of wear, and may have some m...</td>\n",
       "      <td>39.38</td>\n",
       "      <td>'Literature &amp; Fiction', 'Genre Fiction'</td>\n",
       "    </tr>\n",
       "    <tr>\n",
       "      <td>4</td>\n",
       "      <td>0002247399</td>\n",
       "      <td>A Dance with Dragons</td>\n",
       "      <td>'Dance with the Dragons book'</td>\n",
       "      <td>29.06</td>\n",
       "      <td>'Science Fiction &amp; Fantasy', 'Fantasy'</td>\n",
       "    </tr>\n",
       "  </tbody>\n",
       "</table>\n",
       "</div>"
      ],
      "text/plain": [
       "         asin                    title  \\\n",
       "0  000100039X              The Prophet   \n",
       "1  0002051850  For Whom the Bell Tolls   \n",
       "2  0002219417         The Winds of War   \n",
       "3  0002242052          Without Remorse   \n",
       "4  0002247399     A Dance with Dragons   \n",
       "\n",
       "                                                desc  price  \\\n",
       "0  'Kahlil Gibran was among the most important Ar...    NaN   \n",
       "1  'Shows some signs of wear, and may have some m...  17.64   \n",
       "2  'A Masterpiece of Historical Fiction-The Great...   6.65   \n",
       "3  'Shows some signs of wear, and may have some m...  39.38   \n",
       "4                      'Dance with the Dragons book'  29.06   \n",
       "\n",
       "                                categories  \n",
       "0         'Literature & Fiction', 'Poetry'  \n",
       "1       'Literature & Fiction', 'Classics'  \n",
       "2   'Literature & Fiction', 'Contemporary'  \n",
       "3  'Literature & Fiction', 'Genre Fiction'  \n",
       "4   'Science Fiction & Fantasy', 'Fantasy'  "
      ]
     },
     "execution_count": 18,
     "metadata": {},
     "output_type": "execute_result"
    }
   ],
   "source": [
    "meta.head()"
   ]
  },
  {
   "cell_type": "code",
   "execution_count": 19,
   "metadata": {
    "ExecuteTime": {
     "end_time": "2020-06-03T11:40:05.046507Z",
     "start_time": "2020-06-03T11:40:05.019317Z"
    },
    "scrolled": false
   },
   "outputs": [
    {
     "name": "stdout",
     "output_type": "stream",
     "text": [
      "<class 'pandas.core.frame.DataFrame'>\n",
      "RangeIndex: 6982 entries, 0 to 6981\n",
      "Data columns (total 5 columns):\n",
      "asin          6982 non-null object\n",
      "title         6982 non-null object\n",
      "desc          6902 non-null object\n",
      "price         6102 non-null float64\n",
      "categories    6931 non-null object\n",
      "dtypes: float64(1), object(4)\n",
      "memory usage: 272.9+ KB\n"
     ]
    }
   ],
   "source": [
    "meta.info()"
   ]
  },
  {
   "cell_type": "markdown",
   "metadata": {},
   "source": [
    "Taking a look through the category tags showed me that the categories were quite vague and broad. This would make any analysis using categories quite hard to draw results from. "
   ]
  },
  {
   "cell_type": "code",
   "execution_count": 20,
   "metadata": {
    "ExecuteTime": {
     "end_time": "2020-06-03T11:40:05.921320Z",
     "start_time": "2020-06-03T11:40:05.859517Z"
    }
   },
   "outputs": [],
   "source": [
    "#leaning up the categories and condensing similar categories into one group\n",
    "meta.categories = meta.categories.str.replace(\"'\", \"\").str.replace('\"', '').str.replace(\n",
    "    \"Thriller & Suspense\", \"Thrillers & Suspense\").str.replace(\n",
    "    \"Mystery\", \"Thrillers & Suspense\").str.split(',')\n",
    "\n",
    "meta.categories = meta.categories.map(lambda x: [i.strip() for i in x] if type(x) == list else x)"
   ]
  },
  {
   "cell_type": "code",
   "execution_count": 21,
   "metadata": {
    "ExecuteTime": {
     "end_time": "2020-06-03T11:40:06.451871Z",
     "start_time": "2020-06-03T11:40:06.255686Z"
    }
   },
   "outputs": [],
   "source": [
    "#Seperating out the each category into a single row to make data analysis by category easier\n",
    "meta = meta.set_index(['asin', 'title', 'desc', 'price']).explode(column = 'categories').reset_index()"
   ]
  },
  {
   "cell_type": "code",
   "execution_count": 22,
   "metadata": {
    "ExecuteTime": {
     "end_time": "2020-06-03T11:40:06.749339Z",
     "start_time": "2020-06-03T11:40:06.717679Z"
    }
   },
   "outputs": [
    {
     "data": {
      "text/html": [
       "<div>\n",
       "<style scoped>\n",
       "    .dataframe tbody tr th:only-of-type {\n",
       "        vertical-align: middle;\n",
       "    }\n",
       "\n",
       "    .dataframe tbody tr th {\n",
       "        vertical-align: top;\n",
       "    }\n",
       "\n",
       "    .dataframe thead th {\n",
       "        text-align: right;\n",
       "    }\n",
       "</style>\n",
       "<table border=\"1\" class=\"dataframe\">\n",
       "  <thead>\n",
       "    <tr style=\"text-align: right;\">\n",
       "      <th></th>\n",
       "      <th>asin</th>\n",
       "    </tr>\n",
       "    <tr>\n",
       "      <th>categories</th>\n",
       "      <th></th>\n",
       "    </tr>\n",
       "  </thead>\n",
       "  <tbody>\n",
       "    <tr>\n",
       "      <td>Thrillers &amp; Suspense</td>\n",
       "      <td>2892</td>\n",
       "    </tr>\n",
       "    <tr>\n",
       "      <td>Literature &amp; Fiction</td>\n",
       "      <td>2774</td>\n",
       "    </tr>\n",
       "    <tr>\n",
       "      <td>Genre Fiction</td>\n",
       "      <td>1125</td>\n",
       "    </tr>\n",
       "    <tr>\n",
       "      <td>Science Fiction &amp; Fantasy</td>\n",
       "      <td>470</td>\n",
       "    </tr>\n",
       "    <tr>\n",
       "      <td>United States</td>\n",
       "      <td>450</td>\n",
       "    </tr>\n",
       "    <tr>\n",
       "      <td>Teen &amp; Young Adult</td>\n",
       "      <td>381</td>\n",
       "    </tr>\n",
       "    <tr>\n",
       "      <td>Biographies &amp; Memoirs</td>\n",
       "      <td>318</td>\n",
       "    </tr>\n",
       "    <tr>\n",
       "      <td>Christian Books &amp; Bibles</td>\n",
       "      <td>225</td>\n",
       "    </tr>\n",
       "    <tr>\n",
       "      <td>Action &amp; Adventure</td>\n",
       "      <td>220</td>\n",
       "    </tr>\n",
       "    <tr>\n",
       "      <td>Childrens Books</td>\n",
       "      <td>210</td>\n",
       "    </tr>\n",
       "    <tr>\n",
       "      <td>Womens Fiction</td>\n",
       "      <td>198</td>\n",
       "    </tr>\n",
       "    <tr>\n",
       "      <td>Fantasy</td>\n",
       "      <td>193</td>\n",
       "    </tr>\n",
       "    <tr>\n",
       "      <td>History</td>\n",
       "      <td>185</td>\n",
       "    </tr>\n",
       "    <tr>\n",
       "      <td>Politics &amp; Social Sciences</td>\n",
       "      <td>173</td>\n",
       "    </tr>\n",
       "    <tr>\n",
       "      <td>Contemporary</td>\n",
       "      <td>161</td>\n",
       "    </tr>\n",
       "    <tr>\n",
       "      <td>Romance</td>\n",
       "      <td>159</td>\n",
       "    </tr>\n",
       "    <tr>\n",
       "      <td>Humor &amp; Entertainment</td>\n",
       "      <td>149</td>\n",
       "    </tr>\n",
       "    <tr>\n",
       "      <td>Humor</td>\n",
       "      <td>139</td>\n",
       "    </tr>\n",
       "    <tr>\n",
       "      <td>Historical</td>\n",
       "      <td>138</td>\n",
       "    </tr>\n",
       "    <tr>\n",
       "      <td>Politics &amp; Government</td>\n",
       "      <td>137</td>\n",
       "    </tr>\n",
       "    <tr>\n",
       "      <td>Business &amp; Money</td>\n",
       "      <td>125</td>\n",
       "    </tr>\n",
       "    <tr>\n",
       "      <td>Science Fiction</td>\n",
       "      <td>114</td>\n",
       "    </tr>\n",
       "    <tr>\n",
       "      <td>Americas</td>\n",
       "      <td>108</td>\n",
       "    </tr>\n",
       "    <tr>\n",
       "      <td>Growing Up &amp; Facts of Life</td>\n",
       "      <td>104</td>\n",
       "    </tr>\n",
       "    <tr>\n",
       "      <td>Fitness &amp; Dieting</td>\n",
       "      <td>79</td>\n",
       "    </tr>\n",
       "    <tr>\n",
       "      <td>Health</td>\n",
       "      <td>79</td>\n",
       "    </tr>\n",
       "    <tr>\n",
       "      <td>Arts &amp; Literature</td>\n",
       "      <td>78</td>\n",
       "    </tr>\n",
       "    <tr>\n",
       "      <td>Christian Living</td>\n",
       "      <td>74</td>\n",
       "    </tr>\n",
       "    <tr>\n",
       "      <td>Leaders &amp; Notable People</td>\n",
       "      <td>66</td>\n",
       "    </tr>\n",
       "    <tr>\n",
       "      <td>Short Stories &amp; Anthologies</td>\n",
       "      <td>64</td>\n",
       "    </tr>\n",
       "  </tbody>\n",
       "</table>\n",
       "</div>"
      ],
      "text/plain": [
       "                             asin\n",
       "categories                       \n",
       "Thrillers & Suspense         2892\n",
       "Literature & Fiction         2774\n",
       "Genre Fiction                1125\n",
       "Science Fiction & Fantasy     470\n",
       "United States                 450\n",
       "Teen & Young Adult            381\n",
       "Biographies & Memoirs         318\n",
       "Christian Books & Bibles      225\n",
       "Action & Adventure            220\n",
       "Childrens Books               210\n",
       "Womens Fiction                198\n",
       "Fantasy                       193\n",
       "History                       185\n",
       "Politics & Social Sciences    173\n",
       "Contemporary                  161\n",
       "Romance                       159\n",
       "Humor & Entertainment         149\n",
       "Humor                         139\n",
       "Historical                    138\n",
       "Politics & Government         137\n",
       "Business & Money              125\n",
       "Science Fiction               114\n",
       "Americas                      108\n",
       "Growing Up & Facts of Life    104\n",
       "Fitness & Dieting              79\n",
       "Health                         79\n",
       "Arts & Literature              78\n",
       "Christian Living               74\n",
       "Leaders & Notable People       66\n",
       "Short Stories & Anthologies    64"
      ]
     },
     "execution_count": 22,
     "metadata": {},
     "output_type": "execute_result"
    }
   ],
   "source": [
    "#Obtaining the top 30 categories\n",
    "grouped_cat = meta.groupby('categories')[['asin']].count().sort_values(by='asin', ascending = False)\n",
    "grouped_cat[:30]"
   ]
  },
  {
   "cell_type": "code",
   "execution_count": 23,
   "metadata": {
    "ExecuteTime": {
     "end_time": "2020-06-03T11:40:07.817174Z",
     "start_time": "2020-06-03T11:40:07.411056Z"
    },
    "scrolled": true
   },
   "outputs": [
    {
     "data": {
      "image/png": "[encoded data removed]",
      "text/plain": [
       "<Figure size 720x360 with 1 Axes>"
      ]
     },
     "metadata": {
      "needs_background": "light"
     },
     "output_type": "display_data"
    }
   ],
   "source": [
    "#Plotting the top 30 categories\n",
    "with sns.axes_style({'xtick.color':'black', 'ytick.color':'black', 'axes.grid' : False, 'xtick.top': False, 'ytick.right': False}):\n",
    "    sns.set_context(\"paper\", font_scale=1.1)\n",
    "    fig, ax = plt.subplots(figsize=(10,5))\n",
    "    sns.barplot(y = 'categories', x = 'asin', data = grouped_cat[:15].reset_index(), orient='h', palette='YlOrRd_r')\n",
    "    plt.xlabel('Counts', color = 'k')\n",
    "    plt.ylabel('Categories', color = 'k')\n",
    "    #plt.tight_layout()\n",
    "    #plt.savefig(\"/../../../pic.png\", transparent = True)"
   ]
  },
  {
   "cell_type": "markdown",
   "metadata": {},
   "source": [
    "## Merging the book review and book metadata together"
   ]
  },
  {
   "cell_type": "markdown",
   "metadata": {},
   "source": [
    "Note: Not all of the book asins have meta data, only 6982 books out of the 10982 books have metadata."
   ]
  },
  {
   "cell_type": "code",
   "execution_count": 24,
   "metadata": {
    "ExecuteTime": {
     "end_time": "2020-06-03T11:40:10.503929Z",
     "start_time": "2020-06-03T11:40:10.475289Z"
    },
    "scrolled": true
   },
   "outputs": [
    {
     "name": "stdout",
     "output_type": "stream",
     "text": [
      "Number of unique books in book review dataset: 10982\n",
      "Number of unique books in metadata: 6982\n"
     ]
    }
   ],
   "source": [
    "print(f'Number of unique books in book review dataset: {len(df.asin.unique())}')\n",
    "print(f'Number of unique books in metadata: {len(meta.asin.unique())}')"
   ]
  },
  {
   "cell_type": "code",
   "execution_count": 25,
   "metadata": {
    "ExecuteTime": {
     "end_time": "2020-06-03T11:40:11.050557Z",
     "start_time": "2020-06-03T11:40:10.849100Z"
    }
   },
   "outputs": [],
   "source": [
    "#Merging the datasets\n",
    "merged = df.merge(meta, on = 'asin', how='outer')"
   ]
  },
  {
   "cell_type": "code",
   "execution_count": 26,
   "metadata": {
    "ExecuteTime": {
     "end_time": "2020-06-03T11:40:51.751092Z",
     "start_time": "2020-06-03T11:40:11.590727Z"
    }
   },
   "outputs": [],
   "source": [
    "#Save this merged csv for use later on\n",
    "merged.to_csv('/../../../merged.csv.gz', header=True, index=False,\n",
    "             compression='gzip')"
   ]
  },
  {
   "cell_type": "code",
   "execution_count": 28,
   "metadata": {
    "ExecuteTime": {
     "end_time": "2020-06-03T11:41:40.324166Z",
     "start_time": "2020-06-03T11:41:40.289759Z"
    },
    "scrolled": false
   },
   "outputs": [
    {
     "data": {
      "text/html": [
       "<div>\n",
       "<style scoped>\n",
       "    .dataframe tbody tr th:only-of-type {\n",
       "        vertical-align: middle;\n",
       "    }\n",
       "\n",
       "    .dataframe tbody tr th {\n",
       "        vertical-align: top;\n",
       "    }\n",
       "\n",
       "    .dataframe thead th {\n",
       "        text-align: right;\n",
       "    }\n",
       "</style>\n",
       "<table border=\"1\" class=\"dataframe\">\n",
       "  <thead>\n",
       "    <tr style=\"text-align: right;\">\n",
       "      <th></th>\n",
       "      <th>reviewerId</th>\n",
       "      <th>asin</th>\n",
       "      <th>rating</th>\n",
       "      <th>summary</th>\n",
       "      <th>total_votes</th>\n",
       "      <th>title</th>\n",
       "      <th>desc</th>\n",
       "      <th>price</th>\n",
       "      <th>categories</th>\n",
       "    </tr>\n",
       "  </thead>\n",
       "  <tbody>\n",
       "    <tr>\n",
       "      <td>450934</td>\n",
       "      <td>A2G2PUX1JP4RZR</td>\n",
       "      <td>0578120763</td>\n",
       "      <td>4</td>\n",
       "      <td>4 stars -  Written as a reflection of Quinn's ...</td>\n",
       "      <td>0</td>\n",
       "      <td>Stripped</td>\n",
       "      <td>'', ''</td>\n",
       "      <td>9.79</td>\n",
       "      <td>Romance</td>\n",
       "    </tr>\n",
       "    <tr>\n",
       "      <td>450935</td>\n",
       "      <td>A2G2PUX1JP4RZR</td>\n",
       "      <td>0578120763</td>\n",
       "      <td>4</td>\n",
       "      <td>4 stars -  Written as a reflection of Quinn's ...</td>\n",
       "      <td>0</td>\n",
       "      <td>Stripped</td>\n",
       "      <td>'', ''</td>\n",
       "      <td>9.79</td>\n",
       "      <td>New Adult &amp; College</td>\n",
       "    </tr>\n",
       "    <tr>\n",
       "      <td>450936</td>\n",
       "      <td>A3TGY3ANGBNK7C</td>\n",
       "      <td>0578122596</td>\n",
       "      <td>5</td>\n",
       "      <td>Reviewed for Cocktails and Books</td>\n",
       "      <td>1</td>\n",
       "      <td>Diamond Girl (G-Man)</td>\n",
       "      <td>'', '', 'Andrea Smith is a USA Today Best-Sell...</td>\n",
       "      <td>NaN</td>\n",
       "      <td>NaN</td>\n",
       "    </tr>\n",
       "    <tr>\n",
       "      <td>450937</td>\n",
       "      <td>A19UT0OPQCDR8</td>\n",
       "      <td>0578124114</td>\n",
       "      <td>4</td>\n",
       "      <td>A Story of Broken Hearts, New Love, and Second...</td>\n",
       "      <td>0</td>\n",
       "      <td>The Do Over</td>\n",
       "      <td>'A.L. Zaun graduated from Florida Internationa...</td>\n",
       "      <td>15.33</td>\n",
       "      <td>Literature &amp; Fiction</td>\n",
       "    </tr>\n",
       "    <tr>\n",
       "      <td>450938</td>\n",
       "      <td>A19UT0OPQCDR8</td>\n",
       "      <td>0578124114</td>\n",
       "      <td>4</td>\n",
       "      <td>A Story of Broken Hearts, New Love, and Second...</td>\n",
       "      <td>0</td>\n",
       "      <td>The Do Over</td>\n",
       "      <td>'A.L. Zaun graduated from Florida Internationa...</td>\n",
       "      <td>15.33</td>\n",
       "      <td>Literary</td>\n",
       "    </tr>\n",
       "  </tbody>\n",
       "</table>\n",
       "</div>"
      ],
      "text/plain": [
       "            reviewerId        asin  rating  \\\n",
       "450934  A2G2PUX1JP4RZR  0578120763       4   \n",
       "450935  A2G2PUX1JP4RZR  0578120763       4   \n",
       "450936  A3TGY3ANGBNK7C  0578122596       5   \n",
       "450937   A19UT0OPQCDR8  0578124114       4   \n",
       "450938   A19UT0OPQCDR8  0578124114       4   \n",
       "\n",
       "                                                  summary  total_votes  \\\n",
       "450934  4 stars -  Written as a reflection of Quinn's ...            0   \n",
       "450935  4 stars -  Written as a reflection of Quinn's ...            0   \n",
       "450936                   Reviewed for Cocktails and Books            1   \n",
       "450937  A Story of Broken Hearts, New Love, and Second...            0   \n",
       "450938  A Story of Broken Hearts, New Love, and Second...            0   \n",
       "\n",
       "                       title  \\\n",
       "450934              Stripped   \n",
       "450935              Stripped   \n",
       "450936  Diamond Girl (G-Man)   \n",
       "450937           The Do Over   \n",
       "450938           The Do Over   \n",
       "\n",
       "                                                     desc  price  \\\n",
       "450934                                             '', ''   9.79   \n",
       "450935                                             '', ''   9.79   \n",
       "450936  '', '', 'Andrea Smith is a USA Today Best-Sell...    NaN   \n",
       "450937  'A.L. Zaun graduated from Florida Internationa...  15.33   \n",
       "450938  'A.L. Zaun graduated from Florida Internationa...  15.33   \n",
       "\n",
       "                  categories  \n",
       "450934               Romance  \n",
       "450935   New Adult & College  \n",
       "450936                   NaN  \n",
       "450937  Literature & Fiction  \n",
       "450938              Literary  "
      ]
     },
     "execution_count": 28,
     "metadata": {},
     "output_type": "execute_result"
    }
   ],
   "source": [
    "merged.tail()"
   ]
  },
  {
   "cell_type": "markdown",
   "metadata": {},
   "source": [
    "### Rating across the top 30 categories"
   ]
  },
  {
   "cell_type": "markdown",
   "metadata": {},
   "source": [
    "Given that the ratings are very skewed to 4/5, the categories are broad and in some cases haven't been tagged accurately, its hard to see a real difference across the ratings in different categories."
   ]
  },
  {
   "cell_type": "code",
   "execution_count": 137,
   "metadata": {
    "ExecuteTime": {
     "end_time": "2020-06-01T11:20:47.531641Z",
     "start_time": "2020-06-01T11:20:47.232636Z"
    }
   },
   "outputs": [
    {
     "data": {
      "text/html": [
       "<div>\n",
       "<style scoped>\n",
       "    .dataframe tbody tr th:only-of-type {\n",
       "        vertical-align: middle;\n",
       "    }\n",
       "\n",
       "    .dataframe tbody tr th {\n",
       "        vertical-align: top;\n",
       "    }\n",
       "\n",
       "    .dataframe thead th {\n",
       "        text-align: right;\n",
       "    }\n",
       "</style>\n",
       "<table border=\"1\" class=\"dataframe\">\n",
       "  <thead>\n",
       "    <tr style=\"text-align: right;\">\n",
       "      <th></th>\n",
       "      <th>rating</th>\n",
       "    </tr>\n",
       "    <tr>\n",
       "      <th>categories</th>\n",
       "      <th></th>\n",
       "    </tr>\n",
       "  </thead>\n",
       "  <tbody>\n",
       "    <tr>\n",
       "      <td>Action &amp; Adventure</td>\n",
       "      <td>4.017208</td>\n",
       "    </tr>\n",
       "    <tr>\n",
       "      <td>Americas</td>\n",
       "      <td>4.293750</td>\n",
       "    </tr>\n",
       "    <tr>\n",
       "      <td>Arts &amp; Literature</td>\n",
       "      <td>4.209795</td>\n",
       "    </tr>\n",
       "    <tr>\n",
       "      <td>Biographies &amp; Memoirs</td>\n",
       "      <td>4.225139</td>\n",
       "    </tr>\n",
       "    <tr>\n",
       "      <td>Business &amp; Money</td>\n",
       "      <td>4.195997</td>\n",
       "    </tr>\n",
       "    <tr>\n",
       "      <td>Childrens Books</td>\n",
       "      <td>4.252735</td>\n",
       "    </tr>\n",
       "    <tr>\n",
       "      <td>Christian Books &amp; Bibles</td>\n",
       "      <td>4.178243</td>\n",
       "    </tr>\n",
       "    <tr>\n",
       "      <td>Christian Living</td>\n",
       "      <td>4.170290</td>\n",
       "    </tr>\n",
       "    <tr>\n",
       "      <td>Contemporary</td>\n",
       "      <td>4.007069</td>\n",
       "    </tr>\n",
       "    <tr>\n",
       "      <td>Cookbooks</td>\n",
       "      <td>4.279793</td>\n",
       "    </tr>\n",
       "    <tr>\n",
       "      <td>Fantasy</td>\n",
       "      <td>4.117545</td>\n",
       "    </tr>\n",
       "    <tr>\n",
       "      <td>Fitness &amp; Dieting</td>\n",
       "      <td>4.228308</td>\n",
       "    </tr>\n",
       "    <tr>\n",
       "      <td>Food &amp; Wine</td>\n",
       "      <td>4.279793</td>\n",
       "    </tr>\n",
       "    <tr>\n",
       "      <td>Genre Fiction</td>\n",
       "      <td>4.032297</td>\n",
       "    </tr>\n",
       "    <tr>\n",
       "      <td>Growing Up &amp; Facts of Life</td>\n",
       "      <td>4.215686</td>\n",
       "    </tr>\n",
       "    <tr>\n",
       "      <td>Health</td>\n",
       "      <td>4.228308</td>\n",
       "    </tr>\n",
       "    <tr>\n",
       "      <td>Historical</td>\n",
       "      <td>4.135421</td>\n",
       "    </tr>\n",
       "    <tr>\n",
       "      <td>History</td>\n",
       "      <td>4.263600</td>\n",
       "    </tr>\n",
       "    <tr>\n",
       "      <td>Humor</td>\n",
       "      <td>4.073232</td>\n",
       "    </tr>\n",
       "    <tr>\n",
       "      <td>Humor &amp; Entertainment</td>\n",
       "      <td>4.076257</td>\n",
       "    </tr>\n",
       "    <tr>\n",
       "      <td>Literature &amp; Fiction</td>\n",
       "      <td>4.034274</td>\n",
       "    </tr>\n",
       "    <tr>\n",
       "      <td>Politics &amp; Government</td>\n",
       "      <td>4.111607</td>\n",
       "    </tr>\n",
       "    <tr>\n",
       "      <td>Politics &amp; Social Sciences</td>\n",
       "      <td>4.131231</td>\n",
       "    </tr>\n",
       "    <tr>\n",
       "      <td>Romance</td>\n",
       "      <td>4.022082</td>\n",
       "    </tr>\n",
       "    <tr>\n",
       "      <td>Science Fiction</td>\n",
       "      <td>3.996484</td>\n",
       "    </tr>\n",
       "    <tr>\n",
       "      <td>Science Fiction &amp; Fantasy</td>\n",
       "      <td>4.045800</td>\n",
       "    </tr>\n",
       "    <tr>\n",
       "      <td>Teen &amp; Young Adult</td>\n",
       "      <td>4.027930</td>\n",
       "    </tr>\n",
       "    <tr>\n",
       "      <td>Thrillers &amp; Suspense</td>\n",
       "      <td>4.022867</td>\n",
       "    </tr>\n",
       "    <tr>\n",
       "      <td>United States</td>\n",
       "      <td>4.010236</td>\n",
       "    </tr>\n",
       "    <tr>\n",
       "      <td>Womens Fiction</td>\n",
       "      <td>4.005041</td>\n",
       "    </tr>\n",
       "  </tbody>\n",
       "</table>\n",
       "</div>"
      ],
      "text/plain": [
       "                              rating\n",
       "categories                          \n",
       "Action & Adventure          4.017208\n",
       "Americas                    4.293750\n",
       "Arts & Literature           4.209795\n",
       "Biographies & Memoirs       4.225139\n",
       "Business & Money            4.195997\n",
       "Childrens Books             4.252735\n",
       "Christian Books & Bibles    4.178243\n",
       "Christian Living            4.170290\n",
       "Contemporary                4.007069\n",
       "Cookbooks                   4.279793\n",
       "Fantasy                     4.117545\n",
       "Fitness & Dieting           4.228308\n",
       "Food & Wine                 4.279793\n",
       "Genre Fiction               4.032297\n",
       "Growing Up & Facts of Life  4.215686\n",
       "Health                      4.228308\n",
       "Historical                  4.135421\n",
       "History                     4.263600\n",
       "Humor                       4.073232\n",
       "Humor & Entertainment       4.076257\n",
       "Literature & Fiction        4.034274\n",
       "Politics & Government       4.111607\n",
       "Politics & Social Sciences  4.131231\n",
       "Romance                     4.022082\n",
       "Science Fiction             3.996484\n",
       "Science Fiction & Fantasy   4.045800\n",
       "Teen & Young Adult          4.027930\n",
       "Thrillers & Suspense        4.022867\n",
       "United States               4.010236\n",
       "Womens Fiction              4.005041"
      ]
     },
     "execution_count": 137,
     "metadata": {},
     "output_type": "execute_result"
    }
   ],
   "source": [
    "grouped_rating = merged[merged.categories.isin(grouped_cat[:30].index)].groupby('categories')[['rating']].mean()\n",
    "grouped_rating"
   ]
  },
  {
   "cell_type": "markdown",
   "metadata": {},
   "source": [
    "### Correlation heatmap across numerical variables"
   ]
  },
  {
   "cell_type": "markdown",
   "metadata": {},
   "source": [
    "I wanted to check in particular if there was any interesting correlation between rating and price, but there was very little correlation between variables, expect for pos_votes and total_votes which made sense."
   ]
  },
  {
   "cell_type": "code",
   "execution_count": 142,
   "metadata": {
    "ExecuteTime": {
     "end_time": "2020-06-01T11:25:53.279299Z",
     "start_time": "2020-06-01T11:25:52.935464Z"
    },
    "scrolled": true
   },
   "outputs": [
    {
     "data": {
      "image/png": "[encoded data removed]",
      "text/plain": [
       "<Figure size 432x360 with 2 Axes>"
      ]
     },
     "metadata": {},
     "output_type": "display_data"
    }
   ],
   "source": [
    "with sns.axes_style({'xtick.color':'black', 'ytick.color':'black', 'axes.grid' : False, \n",
    "                     'xtick.top': False, 'ytick.right': False}):\n",
    "    sns.set_context(\"paper\", font_scale=1.4)\n",
    "    merged_corr = merged[['pos_votes',\n",
    "                          'total_votes', 'price', 'rating']].corr()\n",
    "    fig, ax = plt.subplots(figsize=(6,5))\n",
    "    mask = np.zeros_like(merged_corr, dtype=np.bool)\n",
    "    mask[np.triu_indices_from(mask, k=1)] = True\n",
    "    sns.heatmap(merged_corr, mask=mask, annot=True, ax=ax, cmap='YlOrRd')\n",
    "    #plt.tight_layout()\n",
    "    #plt.savefig(\"/../../../pic.png\", transparent = True)"
   ]
  }
 ],
 "metadata": {
  "kernelspec": {
   "display_name": "Python 3",
   "language": "python",
   "name": "python3"
  },
  "language_info": {
   "codemirror_mode": {
    "name": "ipython",
    "version": 3
   },
   "file_extension": ".py",
   "mimetype": "text/x-python",
   "name": "python",
   "nbconvert_exporter": "python",
   "pygments_lexer": "ipython3",
   "version": "3.7.4"
  },
  "toc": {
   "base_numbering": 1,
   "nav_menu": {},
   "number_sections": true,
   "sideBar": true,
   "skip_h1_title": false,
   "title_cell": "Table of Contents",
   "title_sidebar": "Contents",
   "toc_cell": false,
   "toc_position": {},
   "toc_section_display": true,
   "toc_window_display": false
  },
  "varInspector": {
   "cols": {
    "lenName": 16,
    "lenType": 16,
    "lenVar": 40
   },
   "kernels_config": {
    "python": {
     "delete_cmd_postfix": "",
     "delete_cmd_prefix": "del ",
     "library": "var_list.py",
     "varRefreshCmd": "print(var_dic_list())"
    },
    "r": {
     "delete_cmd_postfix": ") ",
     "delete_cmd_prefix": "rm(",
     "library": "var_list.r",
     "varRefreshCmd": "cat(var_dic_list()) "
    }
   },
   "types_to_exclude": [
    "module",
    "function",
    "builtin_function_or_method",
    "instance",
    "_Feature"
   ],
   "window_display": false
  }
 },
 "nbformat": 4,
 "nbformat_minor": 2
}
